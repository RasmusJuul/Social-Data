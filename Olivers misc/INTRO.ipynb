{
 "cells": [
  {
   "cell_type": "code",
   "execution_count": 1,
   "id": "a436c9c6",
   "metadata": {},
   "outputs": [],
   "source": [
    "import pandas as pd\n",
    "import numpy as np\n",
    "import seaborn as sns\n",
    "import matplotlib.pyplot as plt\n",
    "import re\n",
    "import plotly.express as px\n",
    "\n",
    "from plotly.subplots import make_subplots\n",
    "import plotly.graph_objects as go"
   ]
  },
  {
   "cell_type": "code",
   "execution_count": 2,
   "id": "837ca64d",
   "metadata": {},
   "outputs": [
    {
     "data": {
      "text/html": [
       "<div>\n",
       "<style scoped>\n",
       "    .dataframe tbody tr th:only-of-type {\n",
       "        vertical-align: middle;\n",
       "    }\n",
       "\n",
       "    .dataframe tbody tr th {\n",
       "        vertical-align: top;\n",
       "    }\n",
       "\n",
       "    .dataframe thead th {\n",
       "        text-align: right;\n",
       "    }\n",
       "</style>\n",
       "<table border=\"1\" class=\"dataframe\">\n",
       "  <thead>\n",
       "    <tr style=\"text-align: right;\">\n",
       "      <th></th>\n",
       "      <th>year</th>\n",
       "      <th>district</th>\n",
       "      <th>NO2</th>\n",
       "      <th>PM2_5</th>\n",
       "      <th>O3</th>\n",
       "      <th>SO2</th>\n",
       "      <th>asthma_hosp</th>\n",
       "      <th>Boroughs</th>\n",
       "    </tr>\n",
       "  </thead>\n",
       "  <tbody>\n",
       "    <tr>\n",
       "      <th>0</th>\n",
       "      <td>2009</td>\n",
       "      <td>101</td>\n",
       "      <td>23.20</td>\n",
       "      <td>11.03</td>\n",
       "      <td>23.67</td>\n",
       "      <td>6.62</td>\n",
       "      <td>61</td>\n",
       "      <td>Bronx</td>\n",
       "    </tr>\n",
       "    <tr>\n",
       "      <th>1</th>\n",
       "      <td>2009</td>\n",
       "      <td>102</td>\n",
       "      <td>22.39</td>\n",
       "      <td>10.68</td>\n",
       "      <td>26.82</td>\n",
       "      <td>5.38</td>\n",
       "      <td>282</td>\n",
       "      <td>Bronx</td>\n",
       "    </tr>\n",
       "    <tr>\n",
       "      <th>2</th>\n",
       "      <td>2009</td>\n",
       "      <td>103</td>\n",
       "      <td>24.82</td>\n",
       "      <td>11.10</td>\n",
       "      <td>24.47</td>\n",
       "      <td>9.48</td>\n",
       "      <td>693</td>\n",
       "      <td>Bronx</td>\n",
       "    </tr>\n",
       "    <tr>\n",
       "      <th>3</th>\n",
       "      <td>2009</td>\n",
       "      <td>104</td>\n",
       "      <td>22.83</td>\n",
       "      <td>10.59</td>\n",
       "      <td>26.72</td>\n",
       "      <td>5.15</td>\n",
       "      <td>588</td>\n",
       "      <td>Bronx</td>\n",
       "    </tr>\n",
       "    <tr>\n",
       "      <th>4</th>\n",
       "      <td>2009</td>\n",
       "      <td>105</td>\n",
       "      <td>28.07</td>\n",
       "      <td>11.76</td>\n",
       "      <td>23.08</td>\n",
       "      <td>9.36</td>\n",
       "      <td>631</td>\n",
       "      <td>Bronx</td>\n",
       "    </tr>\n",
       "  </tbody>\n",
       "</table>\n",
       "</div>"
      ],
      "text/plain": [
       "   year  district    NO2  PM2_5     O3   SO2  asthma_hosp Boroughs\n",
       "0  2009       101  23.20  11.03  23.67  6.62           61    Bronx\n",
       "1  2009       102  22.39  10.68  26.82  5.38          282    Bronx\n",
       "2  2009       103  24.82  11.10  24.47  9.48          693    Bronx\n",
       "3  2009       104  22.83  10.59  26.72  5.15          588    Bronx\n",
       "4  2009       105  28.07  11.76  23.08  9.36          631    Bronx"
      ]
     },
     "execution_count": 2,
     "metadata": {},
     "output_type": "execute_result"
    }
   ],
   "source": [
    "data=pd.read_csv('machine_learning_data_Final.csv')\n",
    "data=data.iloc[:,1:]\n",
    "data.head()"
   ]
  },
  {
   "cell_type": "code",
   "execution_count": 3,
   "id": "6ab6dced",
   "metadata": {},
   "outputs": [],
   "source": [
    "def rep_array(array,nrep=5):\n",
    "    repetitions=[]; torep=list(array)\n",
    "    for i in range(nrep):\n",
    "        repetitions=repetitions+torep\n",
    "    return repetitions\n",
    "\n",
    "\"\"\"def NormalizeData(data):\n",
    "    return (data - np.min(data)) / (np.max(data) - np.min(data))\n",
    "\"\"\"\n",
    "\n",
    "\"\"\"def NormalizeData(array):\n",
    "    #norm = np.linalg.norm(array)\n",
    "    norm = np.mean(array)\n",
    "    return array/norm\"\"\"\n",
    "\n",
    "def NormalizeData(array):\n",
    "    return array\n",
    "\n",
    "# let's extract the mean astham hosp. values per year\n",
    "asthma_per_year=NormalizeData([data[data.year==el].asthma_hosp.mean() for el in np.unique(data.year)])\n",
    "\n",
    "# Mean pollutants per year\n",
    "PM2_5_per_year=NormalizeData([data[data.year==el].PM2_5.mean() for el in np.unique(data.year)])\n",
    "NO2_per_year=NormalizeData([data[data.year==el].NO2.mean() for el in np.unique(data.year)])\n",
    "O3_per_year=NormalizeData([data[data.year==el].O3.mean() for el in np.unique(data.year)])\n",
    "SO2_per_year=NormalizeData([data[data.year==el].SO2.mean() for el in np.unique(data.year)])\n",
    "\n",
    "years=np.unique(data.year)\n",
    "\n",
    "labels=[np.repeat('PM2_5',8),np.repeat('NO2',8),np.repeat('O3',8),np.repeat('SO2',8),\n",
    "        np.repeat('Asthma Hospitalizations',8)]\n",
    "\n",
    "labels=np.hstack(labels)\n",
    "y=rep_array(years)\n",
    "values=np.hstack([PM2_5_per_year,NO2_per_year,O3_per_year,SO2_per_year,asthma_per_year])\n",
    "values\n",
    "\n",
    "line_plot_df=pd.DataFrame({'year':y,'value':values,'label':labels})"
   ]
  },
  {
   "cell_type": "markdown",
   "id": "27a0d1dc",
   "metadata": {},
   "source": [
    "# Air pollution and asthma hospitalizations in children. What does data visualization tell us?\n",
    "\n",
    "It is almost general knoweldge that air pollution might be one of the main causes of respiratory diseases. An among all the broad types of respiratory diseases that exists, specifically asthma. Asthma is a chronic respiratory disease characterized by variable airflow obstruction, bronchial hyperresponsiveness, and airway inflammation. [[1]](https://pubmed.ncbi.nlm.nih.gov/32867076/) Researchers have long linked asthma with exposure to air pollution, which can make asthma symptoms worse and trigger asthma attacks. Moreover, it is estimated six million children in the United States with asthma are especially vulnerable to air pollution. [[2]](https://www.epa.gov/sciencematters/links-between-air-pollution-and-childhood-asthma#:~:text=Researchers%20have%20long%20linked%20asthma,worse%20and%20trigger%20asthma%20attacks). And not only vulnerable once they have the disease. It has been also proved that exposure to main air pollutants such as NO2, CO, and PM2.5 is linked to regional DNA methylation differences in asthma. [[3]](https://www.ncbi.nlm.nih.gov/pmc/articles/PMC5756438/pdf/13148_2017_Article_433.pdf)\n",
    "\n",
    "The aim of this study is to dig deeper into this relation between air pollution and asthma cases in children. To do so, NYC air pollution data will be used and combined with asthma hospitalizations data for children. Is there any clear correlation between air pollution and the number of asthma hospitalizations? If so, which are the air pollutants that are more correlated? How do these values vary between the different neighbourhoods? Where is more urgent to reduce the emissions of hazardous air pollutants? Is it possible to predict which is gonna be the number of asthma hospitalizations in order to prepare these hospitals that are gonna suffer more for such big workloads? \n",
    "\n",
    "But to start with, let's take a look at how the number of asthma cases in children and the levels of pollutants has evolved in the last years, and which tendence do they show."
   ]
  },
  {
   "cell_type": "code",
   "execution_count": 5,
   "id": "252214c0",
   "metadata": {},
   "outputs": [
    {
     "data": {
      "application/vnd.plotly.v1+json": {
       "config": {
        "plotlyServerURL": "https://plotly.com"
       },
       "data": [
        {
         "name": "Asthma hosp",
         "type": "scatter",
         "x": [
          2009,
          2010,
          2011,
          2012,
          2013,
          2014,
          2015,
          2016
         ],
         "xaxis": "x",
         "y": [
          217.02380952380952,
          185,
          181.28571428571428,
          188.92857142857142,
          181.4047619047619,
          188.38095238095238,
          166.07142857142858,
          159.95238095238096
         ],
         "yaxis": "y"
        },
        {
         "name": "PM2.5",
         "type": "scatter",
         "x": [
          2009,
          2010,
          2011,
          2012,
          2013,
          2014,
          2015,
          2016
         ],
         "xaxis": "x2",
         "y": [
          11.020476190476192,
          10.099761904761904,
          10.616190476190477,
          9.47642857142857,
          9.179761904761902,
          9.448095238095236,
          9.069523809523808,
          7.913095238095239
         ],
         "yaxis": "y2"
        },
        {
         "name": "NO2",
         "type": "scatter",
         "x": [
          2009,
          2010,
          2011,
          2012,
          2013,
          2014,
          2015,
          2016
         ],
         "xaxis": "x3",
         "y": [
          25.82547619047618,
          23.81380952380952,
          24.24309523809524,
          22.129285714285714,
          21.390476190476186,
          21.06571428571429,
          20.38214285714285,
          19.53023809523809
         ],
         "yaxis": "y3"
        },
        {
         "name": "O3",
         "type": "scatter",
         "x": [
          2009,
          2010,
          2011,
          2012,
          2013,
          2014,
          2015,
          2016
         ],
         "xaxis": "x4",
         "y": [
          24.64071428571428,
          32.31023809523809,
          31.642142857142865,
          32.74333333333334,
          29.874999999999993,
          30.343809523809526,
          30.789285714285718,
          32.90119047619048
         ],
         "yaxis": "y4"
        },
        {
         "name": "SO2",
         "type": "scatter",
         "x": [
          2009,
          2010,
          2011,
          2012,
          2013,
          2014,
          2015,
          2016
         ],
         "xaxis": "x5",
         "y": [
          5.4940476190476195,
          3.6828571428571424,
          4.626428571428572,
          2.6235714285714287,
          1.6145238095238093,
          1.7519047619047616,
          0.7459523809523808,
          0.2645238095238095
         ],
         "yaxis": "y5"
        }
       ],
       "layout": {
        "annotations": [
         {
          "font": {
           "size": 16
          },
          "showarrow": false,
          "text": "Asthma hosp",
          "x": 0.168,
          "xanchor": "center",
          "xref": "paper",
          "y": 1,
          "yanchor": "bottom",
          "yref": "paper"
         },
         {
          "font": {
           "size": 16
          },
          "showarrow": false,
          "text": "PM2.5",
          "x": 0.439,
          "xanchor": "center",
          "xref": "paper",
          "y": 1,
          "yanchor": "bottom",
          "yref": "paper"
         },
         {
          "font": {
           "size": 16
          },
          "showarrow": false,
          "text": "NO2",
          "x": 0.605,
          "xanchor": "center",
          "xref": "paper",
          "y": 1,
          "yanchor": "bottom",
          "yref": "paper"
         },
         {
          "font": {
           "size": 16
          },
          "showarrow": false,
          "text": "O3",
          "x": 0.7710000000000001,
          "xanchor": "center",
          "xref": "paper",
          "y": 1,
          "yanchor": "bottom",
          "yref": "paper"
         },
         {
          "font": {
           "size": 16
          },
          "showarrow": false,
          "text": "SO2",
          "x": 0.937,
          "xanchor": "center",
          "xref": "paper",
          "y": 1,
          "yanchor": "bottom",
          "yref": "paper"
         }
        ],
        "height": 350,
        "showlegend": false,
        "template": {
         "data": {
          "bar": [
           {
            "error_x": {
             "color": "#2a3f5f"
            },
            "error_y": {
             "color": "#2a3f5f"
            },
            "marker": {
             "line": {
              "color": "#E5ECF6",
              "width": 0.5
             },
             "pattern": {
              "fillmode": "overlay",
              "size": 10,
              "solidity": 0.2
             }
            },
            "type": "bar"
           }
          ],
          "barpolar": [
           {
            "marker": {
             "line": {
              "color": "#E5ECF6",
              "width": 0.5
             },
             "pattern": {
              "fillmode": "overlay",
              "size": 10,
              "solidity": 0.2
             }
            },
            "type": "barpolar"
           }
          ],
          "carpet": [
           {
            "aaxis": {
             "endlinecolor": "#2a3f5f",
             "gridcolor": "white",
             "linecolor": "white",
             "minorgridcolor": "white",
             "startlinecolor": "#2a3f5f"
            },
            "baxis": {
             "endlinecolor": "#2a3f5f",
             "gridcolor": "white",
             "linecolor": "white",
             "minorgridcolor": "white",
             "startlinecolor": "#2a3f5f"
            },
            "type": "carpet"
           }
          ],
          "choropleth": [
           {
            "colorbar": {
             "outlinewidth": 0,
             "ticks": ""
            },
            "type": "choropleth"
           }
          ],
          "contour": [
           {
            "colorbar": {
             "outlinewidth": 0,
             "ticks": ""
            },
            "colorscale": [
             [
              0,
              "#0d0887"
             ],
             [
              0.1111111111111111,
              "#46039f"
             ],
             [
              0.2222222222222222,
              "#7201a8"
             ],
             [
              0.3333333333333333,
              "#9c179e"
             ],
             [
              0.4444444444444444,
              "#bd3786"
             ],
             [
              0.5555555555555556,
              "#d8576b"
             ],
             [
              0.6666666666666666,
              "#ed7953"
             ],
             [
              0.7777777777777778,
              "#fb9f3a"
             ],
             [
              0.8888888888888888,
              "#fdca26"
             ],
             [
              1,
              "#f0f921"
             ]
            ],
            "type": "contour"
           }
          ],
          "contourcarpet": [
           {
            "colorbar": {
             "outlinewidth": 0,
             "ticks": ""
            },
            "type": "contourcarpet"
           }
          ],
          "heatmap": [
           {
            "colorbar": {
             "outlinewidth": 0,
             "ticks": ""
            },
            "colorscale": [
             [
              0,
              "#0d0887"
             ],
             [
              0.1111111111111111,
              "#46039f"
             ],
             [
              0.2222222222222222,
              "#7201a8"
             ],
             [
              0.3333333333333333,
              "#9c179e"
             ],
             [
              0.4444444444444444,
              "#bd3786"
             ],
             [
              0.5555555555555556,
              "#d8576b"
             ],
             [
              0.6666666666666666,
              "#ed7953"
             ],
             [
              0.7777777777777778,
              "#fb9f3a"
             ],
             [
              0.8888888888888888,
              "#fdca26"
             ],
             [
              1,
              "#f0f921"
             ]
            ],
            "type": "heatmap"
           }
          ],
          "heatmapgl": [
           {
            "colorbar": {
             "outlinewidth": 0,
             "ticks": ""
            },
            "colorscale": [
             [
              0,
              "#0d0887"
             ],
             [
              0.1111111111111111,
              "#46039f"
             ],
             [
              0.2222222222222222,
              "#7201a8"
             ],
             [
              0.3333333333333333,
              "#9c179e"
             ],
             [
              0.4444444444444444,
              "#bd3786"
             ],
             [
              0.5555555555555556,
              "#d8576b"
             ],
             [
              0.6666666666666666,
              "#ed7953"
             ],
             [
              0.7777777777777778,
              "#fb9f3a"
             ],
             [
              0.8888888888888888,
              "#fdca26"
             ],
             [
              1,
              "#f0f921"
             ]
            ],
            "type": "heatmapgl"
           }
          ],
          "histogram": [
           {
            "marker": {
             "pattern": {
              "fillmode": "overlay",
              "size": 10,
              "solidity": 0.2
             }
            },
            "type": "histogram"
           }
          ],
          "histogram2d": [
           {
            "colorbar": {
             "outlinewidth": 0,
             "ticks": ""
            },
            "colorscale": [
             [
              0,
              "#0d0887"
             ],
             [
              0.1111111111111111,
              "#46039f"
             ],
             [
              0.2222222222222222,
              "#7201a8"
             ],
             [
              0.3333333333333333,
              "#9c179e"
             ],
             [
              0.4444444444444444,
              "#bd3786"
             ],
             [
              0.5555555555555556,
              "#d8576b"
             ],
             [
              0.6666666666666666,
              "#ed7953"
             ],
             [
              0.7777777777777778,
              "#fb9f3a"
             ],
             [
              0.8888888888888888,
              "#fdca26"
             ],
             [
              1,
              "#f0f921"
             ]
            ],
            "type": "histogram2d"
           }
          ],
          "histogram2dcontour": [
           {
            "colorbar": {
             "outlinewidth": 0,
             "ticks": ""
            },
            "colorscale": [
             [
              0,
              "#0d0887"
             ],
             [
              0.1111111111111111,
              "#46039f"
             ],
             [
              0.2222222222222222,
              "#7201a8"
             ],
             [
              0.3333333333333333,
              "#9c179e"
             ],
             [
              0.4444444444444444,
              "#bd3786"
             ],
             [
              0.5555555555555556,
              "#d8576b"
             ],
             [
              0.6666666666666666,
              "#ed7953"
             ],
             [
              0.7777777777777778,
              "#fb9f3a"
             ],
             [
              0.8888888888888888,
              "#fdca26"
             ],
             [
              1,
              "#f0f921"
             ]
            ],
            "type": "histogram2dcontour"
           }
          ],
          "mesh3d": [
           {
            "colorbar": {
             "outlinewidth": 0,
             "ticks": ""
            },
            "type": "mesh3d"
           }
          ],
          "parcoords": [
           {
            "line": {
             "colorbar": {
              "outlinewidth": 0,
              "ticks": ""
             }
            },
            "type": "parcoords"
           }
          ],
          "pie": [
           {
            "automargin": true,
            "type": "pie"
           }
          ],
          "scatter": [
           {
            "marker": {
             "colorbar": {
              "outlinewidth": 0,
              "ticks": ""
             }
            },
            "type": "scatter"
           }
          ],
          "scatter3d": [
           {
            "line": {
             "colorbar": {
              "outlinewidth": 0,
              "ticks": ""
             }
            },
            "marker": {
             "colorbar": {
              "outlinewidth": 0,
              "ticks": ""
             }
            },
            "type": "scatter3d"
           }
          ],
          "scattercarpet": [
           {
            "marker": {
             "colorbar": {
              "outlinewidth": 0,
              "ticks": ""
             }
            },
            "type": "scattercarpet"
           }
          ],
          "scattergeo": [
           {
            "marker": {
             "colorbar": {
              "outlinewidth": 0,
              "ticks": ""
             }
            },
            "type": "scattergeo"
           }
          ],
          "scattergl": [
           {
            "marker": {
             "colorbar": {
              "outlinewidth": 0,
              "ticks": ""
             }
            },
            "type": "scattergl"
           }
          ],
          "scattermapbox": [
           {
            "marker": {
             "colorbar": {
              "outlinewidth": 0,
              "ticks": ""
             }
            },
            "type": "scattermapbox"
           }
          ],
          "scatterpolar": [
           {
            "marker": {
             "colorbar": {
              "outlinewidth": 0,
              "ticks": ""
             }
            },
            "type": "scatterpolar"
           }
          ],
          "scatterpolargl": [
           {
            "marker": {
             "colorbar": {
              "outlinewidth": 0,
              "ticks": ""
             }
            },
            "type": "scatterpolargl"
           }
          ],
          "scatterternary": [
           {
            "marker": {
             "colorbar": {
              "outlinewidth": 0,
              "ticks": ""
             }
            },
            "type": "scatterternary"
           }
          ],
          "surface": [
           {
            "colorbar": {
             "outlinewidth": 0,
             "ticks": ""
            },
            "colorscale": [
             [
              0,
              "#0d0887"
             ],
             [
              0.1111111111111111,
              "#46039f"
             ],
             [
              0.2222222222222222,
              "#7201a8"
             ],
             [
              0.3333333333333333,
              "#9c179e"
             ],
             [
              0.4444444444444444,
              "#bd3786"
             ],
             [
              0.5555555555555556,
              "#d8576b"
             ],
             [
              0.6666666666666666,
              "#ed7953"
             ],
             [
              0.7777777777777778,
              "#fb9f3a"
             ],
             [
              0.8888888888888888,
              "#fdca26"
             ],
             [
              1,
              "#f0f921"
             ]
            ],
            "type": "surface"
           }
          ],
          "table": [
           {
            "cells": {
             "fill": {
              "color": "#EBF0F8"
             },
             "line": {
              "color": "white"
             }
            },
            "header": {
             "fill": {
              "color": "#C8D4E3"
             },
             "line": {
              "color": "white"
             }
            },
            "type": "table"
           }
          ]
         },
         "layout": {
          "annotationdefaults": {
           "arrowcolor": "#2a3f5f",
           "arrowhead": 0,
           "arrowwidth": 1
          },
          "autotypenumbers": "strict",
          "coloraxis": {
           "colorbar": {
            "outlinewidth": 0,
            "ticks": ""
           }
          },
          "colorscale": {
           "diverging": [
            [
             0,
             "#8e0152"
            ],
            [
             0.1,
             "#c51b7d"
            ],
            [
             0.2,
             "#de77ae"
            ],
            [
             0.3,
             "#f1b6da"
            ],
            [
             0.4,
             "#fde0ef"
            ],
            [
             0.5,
             "#f7f7f7"
            ],
            [
             0.6,
             "#e6f5d0"
            ],
            [
             0.7,
             "#b8e186"
            ],
            [
             0.8,
             "#7fbc41"
            ],
            [
             0.9,
             "#4d9221"
            ],
            [
             1,
             "#276419"
            ]
           ],
           "sequential": [
            [
             0,
             "#0d0887"
            ],
            [
             0.1111111111111111,
             "#46039f"
            ],
            [
             0.2222222222222222,
             "#7201a8"
            ],
            [
             0.3333333333333333,
             "#9c179e"
            ],
            [
             0.4444444444444444,
             "#bd3786"
            ],
            [
             0.5555555555555556,
             "#d8576b"
            ],
            [
             0.6666666666666666,
             "#ed7953"
            ],
            [
             0.7777777777777778,
             "#fb9f3a"
            ],
            [
             0.8888888888888888,
             "#fdca26"
            ],
            [
             1,
             "#f0f921"
            ]
           ],
           "sequentialminus": [
            [
             0,
             "#0d0887"
            ],
            [
             0.1111111111111111,
             "#46039f"
            ],
            [
             0.2222222222222222,
             "#7201a8"
            ],
            [
             0.3333333333333333,
             "#9c179e"
            ],
            [
             0.4444444444444444,
             "#bd3786"
            ],
            [
             0.5555555555555556,
             "#d8576b"
            ],
            [
             0.6666666666666666,
             "#ed7953"
            ],
            [
             0.7777777777777778,
             "#fb9f3a"
            ],
            [
             0.8888888888888888,
             "#fdca26"
            ],
            [
             1,
             "#f0f921"
            ]
           ]
          },
          "colorway": [
           "#636efa",
           "#EF553B",
           "#00cc96",
           "#ab63fa",
           "#FFA15A",
           "#19d3f3",
           "#FF6692",
           "#B6E880",
           "#FF97FF",
           "#FECB52"
          ],
          "font": {
           "color": "#2a3f5f"
          },
          "geo": {
           "bgcolor": "white",
           "lakecolor": "white",
           "landcolor": "#E5ECF6",
           "showlakes": true,
           "showland": true,
           "subunitcolor": "white"
          },
          "hoverlabel": {
           "align": "left"
          },
          "hovermode": "closest",
          "mapbox": {
           "style": "light"
          },
          "paper_bgcolor": "white",
          "plot_bgcolor": "#E5ECF6",
          "polar": {
           "angularaxis": {
            "gridcolor": "white",
            "linecolor": "white",
            "ticks": ""
           },
           "bgcolor": "#E5ECF6",
           "radialaxis": {
            "gridcolor": "white",
            "linecolor": "white",
            "ticks": ""
           }
          },
          "scene": {
           "xaxis": {
            "backgroundcolor": "#E5ECF6",
            "gridcolor": "white",
            "gridwidth": 2,
            "linecolor": "white",
            "showbackground": true,
            "ticks": "",
            "zerolinecolor": "white"
           },
           "yaxis": {
            "backgroundcolor": "#E5ECF6",
            "gridcolor": "white",
            "gridwidth": 2,
            "linecolor": "white",
            "showbackground": true,
            "ticks": "",
            "zerolinecolor": "white"
           },
           "zaxis": {
            "backgroundcolor": "#E5ECF6",
            "gridcolor": "white",
            "gridwidth": 2,
            "linecolor": "white",
            "showbackground": true,
            "ticks": "",
            "zerolinecolor": "white"
           }
          },
          "shapedefaults": {
           "line": {
            "color": "#2a3f5f"
           }
          },
          "ternary": {
           "aaxis": {
            "gridcolor": "white",
            "linecolor": "white",
            "ticks": ""
           },
           "baxis": {
            "gridcolor": "white",
            "linecolor": "white",
            "ticks": ""
           },
           "bgcolor": "#E5ECF6",
           "caxis": {
            "gridcolor": "white",
            "linecolor": "white",
            "ticks": ""
           }
          },
          "title": {
           "x": 0.05
          },
          "xaxis": {
           "automargin": true,
           "gridcolor": "white",
           "linecolor": "white",
           "ticks": "",
           "title": {
            "standoff": 15
           },
           "zerolinecolor": "white",
           "zerolinewidth": 2
          },
          "yaxis": {
           "automargin": true,
           "gridcolor": "white",
           "linecolor": "white",
           "ticks": "",
           "title": {
            "standoff": 15
           },
           "zerolinecolor": "white",
           "zerolinewidth": 2
          }
         }
        },
        "title": {
         "text": "Evolution of Air Pollution and Children Asthma Hospitalizations in NYC"
        },
        "width": 1000,
        "xaxis": {
         "anchor": "y",
         "domain": [
          0,
          0.336
         ],
         "title": {
          "text": "year"
         }
        },
        "xaxis2": {
         "anchor": "y2",
         "domain": [
          0.376,
          0.502
         ],
         "title": {
          "text": "year"
         }
        },
        "xaxis3": {
         "anchor": "y3",
         "domain": [
          0.542,
          0.668
         ],
         "title": {
          "text": "year"
         }
        },
        "xaxis4": {
         "anchor": "y4",
         "domain": [
          0.7080000000000001,
          0.8340000000000001
         ],
         "title": {
          "text": "year"
         }
        },
        "xaxis5": {
         "anchor": "y5",
         "domain": [
          0.8740000000000001,
          1
         ],
         "title": {
          "text": "year"
         }
        },
        "yaxis": {
         "anchor": "x",
         "domain": [
          0,
          1
         ]
        },
        "yaxis2": {
         "anchor": "x2",
         "domain": [
          0,
          1
         ]
        },
        "yaxis3": {
         "anchor": "x3",
         "domain": [
          0,
          1
         ]
        },
        "yaxis4": {
         "anchor": "x4",
         "domain": [
          0,
          1
         ]
        },
        "yaxis5": {
         "anchor": "x5",
         "domain": [
          0,
          1
         ]
        }
       }
      },
      "text/html": [
       "<div>                            <div id=\"318de8fc-9140-477a-ab4f-03ce88c8f4cd\" class=\"plotly-graph-div\" style=\"height:350px; width:1000px;\"></div>            <script type=\"text/javascript\">                require([\"plotly\"], function(Plotly) {                    window.PLOTLYENV=window.PLOTLYENV || {};                                    if (document.getElementById(\"318de8fc-9140-477a-ab4f-03ce88c8f4cd\")) {                    Plotly.newPlot(                        \"318de8fc-9140-477a-ab4f-03ce88c8f4cd\",                        [{\"name\":\"Asthma hosp\",\"x\":[2009,2010,2011,2012,2013,2014,2015,2016],\"y\":[217.02380952380952,185.0,181.28571428571428,188.92857142857142,181.4047619047619,188.38095238095238,166.07142857142858,159.95238095238096],\"type\":\"scatter\",\"xaxis\":\"x\",\"yaxis\":\"y\"},{\"name\":\"PM2.5\",\"x\":[2009,2010,2011,2012,2013,2014,2015,2016],\"y\":[11.020476190476192,10.099761904761904,10.616190476190477,9.47642857142857,9.179761904761902,9.448095238095236,9.069523809523808,7.913095238095239],\"type\":\"scatter\",\"xaxis\":\"x2\",\"yaxis\":\"y2\"},{\"name\":\"NO2\",\"x\":[2009,2010,2011,2012,2013,2014,2015,2016],\"y\":[25.82547619047618,23.81380952380952,24.24309523809524,22.129285714285714,21.390476190476186,21.06571428571429,20.38214285714285,19.53023809523809],\"type\":\"scatter\",\"xaxis\":\"x3\",\"yaxis\":\"y3\"},{\"name\":\"O3\",\"x\":[2009,2010,2011,2012,2013,2014,2015,2016],\"y\":[24.64071428571428,32.31023809523809,31.642142857142865,32.74333333333334,29.874999999999993,30.343809523809526,30.789285714285718,32.90119047619048],\"type\":\"scatter\",\"xaxis\":\"x4\",\"yaxis\":\"y4\"},{\"name\":\"SO2\",\"x\":[2009,2010,2011,2012,2013,2014,2015,2016],\"y\":[5.4940476190476195,3.6828571428571424,4.626428571428572,2.6235714285714287,1.6145238095238093,1.7519047619047616,0.7459523809523808,0.2645238095238095],\"type\":\"scatter\",\"xaxis\":\"x5\",\"yaxis\":\"y5\"}],                        {\"template\":{\"data\":{\"bar\":[{\"error_x\":{\"color\":\"#2a3f5f\"},\"error_y\":{\"color\":\"#2a3f5f\"},\"marker\":{\"line\":{\"color\":\"#E5ECF6\",\"width\":0.5},\"pattern\":{\"fillmode\":\"overlay\",\"size\":10,\"solidity\":0.2}},\"type\":\"bar\"}],\"barpolar\":[{\"marker\":{\"line\":{\"color\":\"#E5ECF6\",\"width\":0.5},\"pattern\":{\"fillmode\":\"overlay\",\"size\":10,\"solidity\":0.2}},\"type\":\"barpolar\"}],\"carpet\":[{\"aaxis\":{\"endlinecolor\":\"#2a3f5f\",\"gridcolor\":\"white\",\"linecolor\":\"white\",\"minorgridcolor\":\"white\",\"startlinecolor\":\"#2a3f5f\"},\"baxis\":{\"endlinecolor\":\"#2a3f5f\",\"gridcolor\":\"white\",\"linecolor\":\"white\",\"minorgridcolor\":\"white\",\"startlinecolor\":\"#2a3f5f\"},\"type\":\"carpet\"}],\"choropleth\":[{\"colorbar\":{\"outlinewidth\":0,\"ticks\":\"\"},\"type\":\"choropleth\"}],\"contour\":[{\"colorbar\":{\"outlinewidth\":0,\"ticks\":\"\"},\"colorscale\":[[0.0,\"#0d0887\"],[0.1111111111111111,\"#46039f\"],[0.2222222222222222,\"#7201a8\"],[0.3333333333333333,\"#9c179e\"],[0.4444444444444444,\"#bd3786\"],[0.5555555555555556,\"#d8576b\"],[0.6666666666666666,\"#ed7953\"],[0.7777777777777778,\"#fb9f3a\"],[0.8888888888888888,\"#fdca26\"],[1.0,\"#f0f921\"]],\"type\":\"contour\"}],\"contourcarpet\":[{\"colorbar\":{\"outlinewidth\":0,\"ticks\":\"\"},\"type\":\"contourcarpet\"}],\"heatmap\":[{\"colorbar\":{\"outlinewidth\":0,\"ticks\":\"\"},\"colorscale\":[[0.0,\"#0d0887\"],[0.1111111111111111,\"#46039f\"],[0.2222222222222222,\"#7201a8\"],[0.3333333333333333,\"#9c179e\"],[0.4444444444444444,\"#bd3786\"],[0.5555555555555556,\"#d8576b\"],[0.6666666666666666,\"#ed7953\"],[0.7777777777777778,\"#fb9f3a\"],[0.8888888888888888,\"#fdca26\"],[1.0,\"#f0f921\"]],\"type\":\"heatmap\"}],\"heatmapgl\":[{\"colorbar\":{\"outlinewidth\":0,\"ticks\":\"\"},\"colorscale\":[[0.0,\"#0d0887\"],[0.1111111111111111,\"#46039f\"],[0.2222222222222222,\"#7201a8\"],[0.3333333333333333,\"#9c179e\"],[0.4444444444444444,\"#bd3786\"],[0.5555555555555556,\"#d8576b\"],[0.6666666666666666,\"#ed7953\"],[0.7777777777777778,\"#fb9f3a\"],[0.8888888888888888,\"#fdca26\"],[1.0,\"#f0f921\"]],\"type\":\"heatmapgl\"}],\"histogram\":[{\"marker\":{\"pattern\":{\"fillmode\":\"overlay\",\"size\":10,\"solidity\":0.2}},\"type\":\"histogram\"}],\"histogram2d\":[{\"colorbar\":{\"outlinewidth\":0,\"ticks\":\"\"},\"colorscale\":[[0.0,\"#0d0887\"],[0.1111111111111111,\"#46039f\"],[0.2222222222222222,\"#7201a8\"],[0.3333333333333333,\"#9c179e\"],[0.4444444444444444,\"#bd3786\"],[0.5555555555555556,\"#d8576b\"],[0.6666666666666666,\"#ed7953\"],[0.7777777777777778,\"#fb9f3a\"],[0.8888888888888888,\"#fdca26\"],[1.0,\"#f0f921\"]],\"type\":\"histogram2d\"}],\"histogram2dcontour\":[{\"colorbar\":{\"outlinewidth\":0,\"ticks\":\"\"},\"colorscale\":[[0.0,\"#0d0887\"],[0.1111111111111111,\"#46039f\"],[0.2222222222222222,\"#7201a8\"],[0.3333333333333333,\"#9c179e\"],[0.4444444444444444,\"#bd3786\"],[0.5555555555555556,\"#d8576b\"],[0.6666666666666666,\"#ed7953\"],[0.7777777777777778,\"#fb9f3a\"],[0.8888888888888888,\"#fdca26\"],[1.0,\"#f0f921\"]],\"type\":\"histogram2dcontour\"}],\"mesh3d\":[{\"colorbar\":{\"outlinewidth\":0,\"ticks\":\"\"},\"type\":\"mesh3d\"}],\"parcoords\":[{\"line\":{\"colorbar\":{\"outlinewidth\":0,\"ticks\":\"\"}},\"type\":\"parcoords\"}],\"pie\":[{\"automargin\":true,\"type\":\"pie\"}],\"scatter\":[{\"marker\":{\"colorbar\":{\"outlinewidth\":0,\"ticks\":\"\"}},\"type\":\"scatter\"}],\"scatter3d\":[{\"line\":{\"colorbar\":{\"outlinewidth\":0,\"ticks\":\"\"}},\"marker\":{\"colorbar\":{\"outlinewidth\":0,\"ticks\":\"\"}},\"type\":\"scatter3d\"}],\"scattercarpet\":[{\"marker\":{\"colorbar\":{\"outlinewidth\":0,\"ticks\":\"\"}},\"type\":\"scattercarpet\"}],\"scattergeo\":[{\"marker\":{\"colorbar\":{\"outlinewidth\":0,\"ticks\":\"\"}},\"type\":\"scattergeo\"}],\"scattergl\":[{\"marker\":{\"colorbar\":{\"outlinewidth\":0,\"ticks\":\"\"}},\"type\":\"scattergl\"}],\"scattermapbox\":[{\"marker\":{\"colorbar\":{\"outlinewidth\":0,\"ticks\":\"\"}},\"type\":\"scattermapbox\"}],\"scatterpolar\":[{\"marker\":{\"colorbar\":{\"outlinewidth\":0,\"ticks\":\"\"}},\"type\":\"scatterpolar\"}],\"scatterpolargl\":[{\"marker\":{\"colorbar\":{\"outlinewidth\":0,\"ticks\":\"\"}},\"type\":\"scatterpolargl\"}],\"scatterternary\":[{\"marker\":{\"colorbar\":{\"outlinewidth\":0,\"ticks\":\"\"}},\"type\":\"scatterternary\"}],\"surface\":[{\"colorbar\":{\"outlinewidth\":0,\"ticks\":\"\"},\"colorscale\":[[0.0,\"#0d0887\"],[0.1111111111111111,\"#46039f\"],[0.2222222222222222,\"#7201a8\"],[0.3333333333333333,\"#9c179e\"],[0.4444444444444444,\"#bd3786\"],[0.5555555555555556,\"#d8576b\"],[0.6666666666666666,\"#ed7953\"],[0.7777777777777778,\"#fb9f3a\"],[0.8888888888888888,\"#fdca26\"],[1.0,\"#f0f921\"]],\"type\":\"surface\"}],\"table\":[{\"cells\":{\"fill\":{\"color\":\"#EBF0F8\"},\"line\":{\"color\":\"white\"}},\"header\":{\"fill\":{\"color\":\"#C8D4E3\"},\"line\":{\"color\":\"white\"}},\"type\":\"table\"}]},\"layout\":{\"annotationdefaults\":{\"arrowcolor\":\"#2a3f5f\",\"arrowhead\":0,\"arrowwidth\":1},\"autotypenumbers\":\"strict\",\"coloraxis\":{\"colorbar\":{\"outlinewidth\":0,\"ticks\":\"\"}},\"colorscale\":{\"diverging\":[[0,\"#8e0152\"],[0.1,\"#c51b7d\"],[0.2,\"#de77ae\"],[0.3,\"#f1b6da\"],[0.4,\"#fde0ef\"],[0.5,\"#f7f7f7\"],[0.6,\"#e6f5d0\"],[0.7,\"#b8e186\"],[0.8,\"#7fbc41\"],[0.9,\"#4d9221\"],[1,\"#276419\"]],\"sequential\":[[0.0,\"#0d0887\"],[0.1111111111111111,\"#46039f\"],[0.2222222222222222,\"#7201a8\"],[0.3333333333333333,\"#9c179e\"],[0.4444444444444444,\"#bd3786\"],[0.5555555555555556,\"#d8576b\"],[0.6666666666666666,\"#ed7953\"],[0.7777777777777778,\"#fb9f3a\"],[0.8888888888888888,\"#fdca26\"],[1.0,\"#f0f921\"]],\"sequentialminus\":[[0.0,\"#0d0887\"],[0.1111111111111111,\"#46039f\"],[0.2222222222222222,\"#7201a8\"],[0.3333333333333333,\"#9c179e\"],[0.4444444444444444,\"#bd3786\"],[0.5555555555555556,\"#d8576b\"],[0.6666666666666666,\"#ed7953\"],[0.7777777777777778,\"#fb9f3a\"],[0.8888888888888888,\"#fdca26\"],[1.0,\"#f0f921\"]]},\"colorway\":[\"#636efa\",\"#EF553B\",\"#00cc96\",\"#ab63fa\",\"#FFA15A\",\"#19d3f3\",\"#FF6692\",\"#B6E880\",\"#FF97FF\",\"#FECB52\"],\"font\":{\"color\":\"#2a3f5f\"},\"geo\":{\"bgcolor\":\"white\",\"lakecolor\":\"white\",\"landcolor\":\"#E5ECF6\",\"showlakes\":true,\"showland\":true,\"subunitcolor\":\"white\"},\"hoverlabel\":{\"align\":\"left\"},\"hovermode\":\"closest\",\"mapbox\":{\"style\":\"light\"},\"paper_bgcolor\":\"white\",\"plot_bgcolor\":\"#E5ECF6\",\"polar\":{\"angularaxis\":{\"gridcolor\":\"white\",\"linecolor\":\"white\",\"ticks\":\"\"},\"bgcolor\":\"#E5ECF6\",\"radialaxis\":{\"gridcolor\":\"white\",\"linecolor\":\"white\",\"ticks\":\"\"}},\"scene\":{\"xaxis\":{\"backgroundcolor\":\"#E5ECF6\",\"gridcolor\":\"white\",\"gridwidth\":2,\"linecolor\":\"white\",\"showbackground\":true,\"ticks\":\"\",\"zerolinecolor\":\"white\"},\"yaxis\":{\"backgroundcolor\":\"#E5ECF6\",\"gridcolor\":\"white\",\"gridwidth\":2,\"linecolor\":\"white\",\"showbackground\":true,\"ticks\":\"\",\"zerolinecolor\":\"white\"},\"zaxis\":{\"backgroundcolor\":\"#E5ECF6\",\"gridcolor\":\"white\",\"gridwidth\":2,\"linecolor\":\"white\",\"showbackground\":true,\"ticks\":\"\",\"zerolinecolor\":\"white\"}},\"shapedefaults\":{\"line\":{\"color\":\"#2a3f5f\"}},\"ternary\":{\"aaxis\":{\"gridcolor\":\"white\",\"linecolor\":\"white\",\"ticks\":\"\"},\"baxis\":{\"gridcolor\":\"white\",\"linecolor\":\"white\",\"ticks\":\"\"},\"bgcolor\":\"#E5ECF6\",\"caxis\":{\"gridcolor\":\"white\",\"linecolor\":\"white\",\"ticks\":\"\"}},\"title\":{\"x\":0.05},\"xaxis\":{\"automargin\":true,\"gridcolor\":\"white\",\"linecolor\":\"white\",\"ticks\":\"\",\"title\":{\"standoff\":15},\"zerolinecolor\":\"white\",\"zerolinewidth\":2},\"yaxis\":{\"automargin\":true,\"gridcolor\":\"white\",\"linecolor\":\"white\",\"ticks\":\"\",\"title\":{\"standoff\":15},\"zerolinecolor\":\"white\",\"zerolinewidth\":2}}},\"xaxis\":{\"anchor\":\"y\",\"domain\":[0.0,0.336],\"title\":{\"text\":\"year\"}},\"yaxis\":{\"anchor\":\"x\",\"domain\":[0.0,1.0]},\"xaxis2\":{\"anchor\":\"y2\",\"domain\":[0.376,0.502],\"title\":{\"text\":\"year\"}},\"yaxis2\":{\"anchor\":\"x2\",\"domain\":[0.0,1.0]},\"xaxis3\":{\"anchor\":\"y3\",\"domain\":[0.542,0.668],\"title\":{\"text\":\"year\"}},\"yaxis3\":{\"anchor\":\"x3\",\"domain\":[0.0,1.0]},\"xaxis4\":{\"anchor\":\"y4\",\"domain\":[0.7080000000000001,0.8340000000000001],\"title\":{\"text\":\"year\"}},\"yaxis4\":{\"anchor\":\"x4\",\"domain\":[0.0,1.0]},\"xaxis5\":{\"anchor\":\"y5\",\"domain\":[0.8740000000000001,1.0],\"title\":{\"text\":\"year\"}},\"yaxis5\":{\"anchor\":\"x5\",\"domain\":[0.0,1.0]},\"annotations\":[{\"font\":{\"size\":16},\"showarrow\":false,\"text\":\"Asthma hosp\",\"x\":0.168,\"xanchor\":\"center\",\"xref\":\"paper\",\"y\":1.0,\"yanchor\":\"bottom\",\"yref\":\"paper\"},{\"font\":{\"size\":16},\"showarrow\":false,\"text\":\"PM2.5\",\"x\":0.439,\"xanchor\":\"center\",\"xref\":\"paper\",\"y\":1.0,\"yanchor\":\"bottom\",\"yref\":\"paper\"},{\"font\":{\"size\":16},\"showarrow\":false,\"text\":\"NO2\",\"x\":0.605,\"xanchor\":\"center\",\"xref\":\"paper\",\"y\":1.0,\"yanchor\":\"bottom\",\"yref\":\"paper\"},{\"font\":{\"size\":16},\"showarrow\":false,\"text\":\"O3\",\"x\":0.7710000000000001,\"xanchor\":\"center\",\"xref\":\"paper\",\"y\":1.0,\"yanchor\":\"bottom\",\"yref\":\"paper\"},{\"font\":{\"size\":16},\"showarrow\":false,\"text\":\"SO2\",\"x\":0.937,\"xanchor\":\"center\",\"xref\":\"paper\",\"y\":1.0,\"yanchor\":\"bottom\",\"yref\":\"paper\"}],\"title\":{\"text\":\"Evolution of Air Pollution and Children Asthma Hospitalizations in NYC\"},\"height\":350,\"width\":1000,\"showlegend\":false},                        {\"responsive\": true}                    ).then(function(){\n",
       "                            \n",
       "var gd = document.getElementById('318de8fc-9140-477a-ab4f-03ce88c8f4cd');\n",
       "var x = new MutationObserver(function (mutations, observer) {{\n",
       "        var display = window.getComputedStyle(gd).display;\n",
       "        if (!display || display === 'none') {{\n",
       "            console.log([gd, 'removed!']);\n",
       "            Plotly.purge(gd);\n",
       "            observer.disconnect();\n",
       "        }}\n",
       "}});\n",
       "\n",
       "// Listen for the removal of the full notebook cells\n",
       "var notebookContainer = gd.closest('#notebook-container');\n",
       "if (notebookContainer) {{\n",
       "    x.observe(notebookContainer, {childList: true});\n",
       "}}\n",
       "\n",
       "// Listen for the clearing of the current output cell\n",
       "var outputEl = gd.closest('.output');\n",
       "if (outputEl) {{\n",
       "    x.observe(outputEl, {childList: true});\n",
       "}}\n",
       "\n",
       "                        })                };                });            </script>        </div>"
      ]
     },
     "metadata": {},
     "output_type": "display_data"
    }
   ],
   "source": [
    "fig = make_subplots(\n",
    "    rows=1, cols=5,column_widths=[0.4, 0.15,0.15,0.15,0.15],\n",
    "    subplot_titles=(\"Asthma hosp\",\"PM2.5\", \"NO2\", \"O3\", \"SO2\"))\n",
    "\n",
    "fig.add_trace(go.Scatter(x=years, y=asthma_per_year,name='Asthma hosp'),\n",
    "              row=1, col=1)\n",
    "\n",
    "fig.add_trace(go.Scatter(x=years, y=PM2_5_per_year,name='PM2.5'),\n",
    "              row=1, col=2)\n",
    "\n",
    "fig.add_trace(go.Scatter(x=years, y=NO2_per_year,name='NO2'),\n",
    "              row=1, col=3)\n",
    "\n",
    "fig.add_trace(go.Scatter(x=years, y=O3_per_year,name='O3'),\n",
    "              row=1, col=4)\n",
    "\n",
    "fig.add_trace(go.Scatter(x=years, y=SO2_per_year,name='SO2'),\n",
    "              row=1, col=5)\n",
    "\n",
    "# Update xaxis properties\n",
    "fig.update_xaxes(title_text=\"year\", row=1, col=1)\n",
    "fig.update_xaxes(title_text=\"year\", row=1, col=2)\n",
    "fig.update_xaxes(title_text=\"year\", row=1, col=3)\n",
    "fig.update_xaxes(title_text=\"year\", row=1, col=4)\n",
    "fig.update_xaxes(title_text=\"year\", row=1, col=5)\n",
    "\n",
    "\n",
    "fig.update_layout(height=350, width=1000,\n",
    "                  title_text='Evolution of Air Pollution and Children Asthma Hospitalizations in NYC')\n",
    "\n",
    "fig.update_layout(showlegend=False)\n",
    "fig.show()"
   ]
  },
  {
   "cell_type": "markdown",
   "id": "5be7b96e",
   "metadata": {},
   "source": [
    "It can be clearly seen how there is a tendence in decrease in both the number of asthma hospitalizations and the levels of emission of the main pollutants. With the exception of O3, the levels of PM2.5, NO2 and SO2 have been significanlty reduced in the last decade, which evidence that sustainability policies were put into practice. Air quality levels registred during the 2000-2010 decade and their impact on population's health raised the attention of key decision makers and the public which lead to polices aming to improve local air quality, reduce greenhouse gas emissions and revert the situation that air pollution was taking. [[4]](https://www.healthypeople.gov/2020/healthy-people-in-action/story/new-york-city-air-quality-programs-reduce-harmful-air-pollutants)\n",
    "\n",
    "Once seen how the tendency that both asthma cases and air pollutants are following, the next question that arise is: Is it possible to build a model that relates the number of asthma hospitalizations with the different levels of air pollutants? Which is the impact that each district has?"
   ]
  },
  {
   "cell_type": "markdown",
   "id": "55d85b3f",
   "metadata": {},
   "source": [
    "### Air Pollutant type vs Pearson product-moment correlation coefficients\n",
    "\n",
    "(Should we include any more descriptive plot before directly implementing the machine learning model?)"
   ]
  },
  {
   "cell_type": "code",
   "execution_count": 19,
   "id": "4260bf6a",
   "metadata": {},
   "outputs": [
    {
     "data": {
      "application/vnd.plotly.v1+json": {
       "config": {
        "plotlyServerURL": "https://plotly.com"
       },
       "data": [
        {
         "alignmentgroup": "True",
         "hovertemplate": "Correlation Coef.=%{x}<br>Pollutants=%{y}<extra></extra>",
         "legendgroup": "",
         "marker": {
          "color": "#636efa",
          "pattern": {
           "shape": ""
          }
         },
         "name": "",
         "offsetgroup": "",
         "orientation": "h",
         "showlegend": false,
         "textposition": "auto",
         "type": "bar",
         "x": [
          -0.02003708569281317,
          -0.03839126494431115,
          0.09288211359063066,
          0.15684343911046206
         ],
         "xaxis": "x",
         "y": [
          "PM2.5",
          "NO2",
          "O3",
          "SO2"
         ],
         "yaxis": "y"
        }
       ],
       "layout": {
        "barmode": "relative",
        "legend": {
         "tracegroupgap": 0
        },
        "margin": {
         "t": 60
        },
        "template": {
         "data": {
          "bar": [
           {
            "error_x": {
             "color": "#2a3f5f"
            },
            "error_y": {
             "color": "#2a3f5f"
            },
            "marker": {
             "line": {
              "color": "#E5ECF6",
              "width": 0.5
             },
             "pattern": {
              "fillmode": "overlay",
              "size": 10,
              "solidity": 0.2
             }
            },
            "type": "bar"
           }
          ],
          "barpolar": [
           {
            "marker": {
             "line": {
              "color": "#E5ECF6",
              "width": 0.5
             },
             "pattern": {
              "fillmode": "overlay",
              "size": 10,
              "solidity": 0.2
             }
            },
            "type": "barpolar"
           }
          ],
          "carpet": [
           {
            "aaxis": {
             "endlinecolor": "#2a3f5f",
             "gridcolor": "white",
             "linecolor": "white",
             "minorgridcolor": "white",
             "startlinecolor": "#2a3f5f"
            },
            "baxis": {
             "endlinecolor": "#2a3f5f",
             "gridcolor": "white",
             "linecolor": "white",
             "minorgridcolor": "white",
             "startlinecolor": "#2a3f5f"
            },
            "type": "carpet"
           }
          ],
          "choropleth": [
           {
            "colorbar": {
             "outlinewidth": 0,
             "ticks": ""
            },
            "type": "choropleth"
           }
          ],
          "contour": [
           {
            "colorbar": {
             "outlinewidth": 0,
             "ticks": ""
            },
            "colorscale": [
             [
              0,
              "#0d0887"
             ],
             [
              0.1111111111111111,
              "#46039f"
             ],
             [
              0.2222222222222222,
              "#7201a8"
             ],
             [
              0.3333333333333333,
              "#9c179e"
             ],
             [
              0.4444444444444444,
              "#bd3786"
             ],
             [
              0.5555555555555556,
              "#d8576b"
             ],
             [
              0.6666666666666666,
              "#ed7953"
             ],
             [
              0.7777777777777778,
              "#fb9f3a"
             ],
             [
              0.8888888888888888,
              "#fdca26"
             ],
             [
              1,
              "#f0f921"
             ]
            ],
            "type": "contour"
           }
          ],
          "contourcarpet": [
           {
            "colorbar": {
             "outlinewidth": 0,
             "ticks": ""
            },
            "type": "contourcarpet"
           }
          ],
          "heatmap": [
           {
            "colorbar": {
             "outlinewidth": 0,
             "ticks": ""
            },
            "colorscale": [
             [
              0,
              "#0d0887"
             ],
             [
              0.1111111111111111,
              "#46039f"
             ],
             [
              0.2222222222222222,
              "#7201a8"
             ],
             [
              0.3333333333333333,
              "#9c179e"
             ],
             [
              0.4444444444444444,
              "#bd3786"
             ],
             [
              0.5555555555555556,
              "#d8576b"
             ],
             [
              0.6666666666666666,
              "#ed7953"
             ],
             [
              0.7777777777777778,
              "#fb9f3a"
             ],
             [
              0.8888888888888888,
              "#fdca26"
             ],
             [
              1,
              "#f0f921"
             ]
            ],
            "type": "heatmap"
           }
          ],
          "heatmapgl": [
           {
            "colorbar": {
             "outlinewidth": 0,
             "ticks": ""
            },
            "colorscale": [
             [
              0,
              "#0d0887"
             ],
             [
              0.1111111111111111,
              "#46039f"
             ],
             [
              0.2222222222222222,
              "#7201a8"
             ],
             [
              0.3333333333333333,
              "#9c179e"
             ],
             [
              0.4444444444444444,
              "#bd3786"
             ],
             [
              0.5555555555555556,
              "#d8576b"
             ],
             [
              0.6666666666666666,
              "#ed7953"
             ],
             [
              0.7777777777777778,
              "#fb9f3a"
             ],
             [
              0.8888888888888888,
              "#fdca26"
             ],
             [
              1,
              "#f0f921"
             ]
            ],
            "type": "heatmapgl"
           }
          ],
          "histogram": [
           {
            "marker": {
             "pattern": {
              "fillmode": "overlay",
              "size": 10,
              "solidity": 0.2
             }
            },
            "type": "histogram"
           }
          ],
          "histogram2d": [
           {
            "colorbar": {
             "outlinewidth": 0,
             "ticks": ""
            },
            "colorscale": [
             [
              0,
              "#0d0887"
             ],
             [
              0.1111111111111111,
              "#46039f"
             ],
             [
              0.2222222222222222,
              "#7201a8"
             ],
             [
              0.3333333333333333,
              "#9c179e"
             ],
             [
              0.4444444444444444,
              "#bd3786"
             ],
             [
              0.5555555555555556,
              "#d8576b"
             ],
             [
              0.6666666666666666,
              "#ed7953"
             ],
             [
              0.7777777777777778,
              "#fb9f3a"
             ],
             [
              0.8888888888888888,
              "#fdca26"
             ],
             [
              1,
              "#f0f921"
             ]
            ],
            "type": "histogram2d"
           }
          ],
          "histogram2dcontour": [
           {
            "colorbar": {
             "outlinewidth": 0,
             "ticks": ""
            },
            "colorscale": [
             [
              0,
              "#0d0887"
             ],
             [
              0.1111111111111111,
              "#46039f"
             ],
             [
              0.2222222222222222,
              "#7201a8"
             ],
             [
              0.3333333333333333,
              "#9c179e"
             ],
             [
              0.4444444444444444,
              "#bd3786"
             ],
             [
              0.5555555555555556,
              "#d8576b"
             ],
             [
              0.6666666666666666,
              "#ed7953"
             ],
             [
              0.7777777777777778,
              "#fb9f3a"
             ],
             [
              0.8888888888888888,
              "#fdca26"
             ],
             [
              1,
              "#f0f921"
             ]
            ],
            "type": "histogram2dcontour"
           }
          ],
          "mesh3d": [
           {
            "colorbar": {
             "outlinewidth": 0,
             "ticks": ""
            },
            "type": "mesh3d"
           }
          ],
          "parcoords": [
           {
            "line": {
             "colorbar": {
              "outlinewidth": 0,
              "ticks": ""
             }
            },
            "type": "parcoords"
           }
          ],
          "pie": [
           {
            "automargin": true,
            "type": "pie"
           }
          ],
          "scatter": [
           {
            "marker": {
             "colorbar": {
              "outlinewidth": 0,
              "ticks": ""
             }
            },
            "type": "scatter"
           }
          ],
          "scatter3d": [
           {
            "line": {
             "colorbar": {
              "outlinewidth": 0,
              "ticks": ""
             }
            },
            "marker": {
             "colorbar": {
              "outlinewidth": 0,
              "ticks": ""
             }
            },
            "type": "scatter3d"
           }
          ],
          "scattercarpet": [
           {
            "marker": {
             "colorbar": {
              "outlinewidth": 0,
              "ticks": ""
             }
            },
            "type": "scattercarpet"
           }
          ],
          "scattergeo": [
           {
            "marker": {
             "colorbar": {
              "outlinewidth": 0,
              "ticks": ""
             }
            },
            "type": "scattergeo"
           }
          ],
          "scattergl": [
           {
            "marker": {
             "colorbar": {
              "outlinewidth": 0,
              "ticks": ""
             }
            },
            "type": "scattergl"
           }
          ],
          "scattermapbox": [
           {
            "marker": {
             "colorbar": {
              "outlinewidth": 0,
              "ticks": ""
             }
            },
            "type": "scattermapbox"
           }
          ],
          "scatterpolar": [
           {
            "marker": {
             "colorbar": {
              "outlinewidth": 0,
              "ticks": ""
             }
            },
            "type": "scatterpolar"
           }
          ],
          "scatterpolargl": [
           {
            "marker": {
             "colorbar": {
              "outlinewidth": 0,
              "ticks": ""
             }
            },
            "type": "scatterpolargl"
           }
          ],
          "scatterternary": [
           {
            "marker": {
             "colorbar": {
              "outlinewidth": 0,
              "ticks": ""
             }
            },
            "type": "scatterternary"
           }
          ],
          "surface": [
           {
            "colorbar": {
             "outlinewidth": 0,
             "ticks": ""
            },
            "colorscale": [
             [
              0,
              "#0d0887"
             ],
             [
              0.1111111111111111,
              "#46039f"
             ],
             [
              0.2222222222222222,
              "#7201a8"
             ],
             [
              0.3333333333333333,
              "#9c179e"
             ],
             [
              0.4444444444444444,
              "#bd3786"
             ],
             [
              0.5555555555555556,
              "#d8576b"
             ],
             [
              0.6666666666666666,
              "#ed7953"
             ],
             [
              0.7777777777777778,
              "#fb9f3a"
             ],
             [
              0.8888888888888888,
              "#fdca26"
             ],
             [
              1,
              "#f0f921"
             ]
            ],
            "type": "surface"
           }
          ],
          "table": [
           {
            "cells": {
             "fill": {
              "color": "#EBF0F8"
             },
             "line": {
              "color": "white"
             }
            },
            "header": {
             "fill": {
              "color": "#C8D4E3"
             },
             "line": {
              "color": "white"
             }
            },
            "type": "table"
           }
          ]
         },
         "layout": {
          "annotationdefaults": {
           "arrowcolor": "#2a3f5f",
           "arrowhead": 0,
           "arrowwidth": 1
          },
          "autotypenumbers": "strict",
          "coloraxis": {
           "colorbar": {
            "outlinewidth": 0,
            "ticks": ""
           }
          },
          "colorscale": {
           "diverging": [
            [
             0,
             "#8e0152"
            ],
            [
             0.1,
             "#c51b7d"
            ],
            [
             0.2,
             "#de77ae"
            ],
            [
             0.3,
             "#f1b6da"
            ],
            [
             0.4,
             "#fde0ef"
            ],
            [
             0.5,
             "#f7f7f7"
            ],
            [
             0.6,
             "#e6f5d0"
            ],
            [
             0.7,
             "#b8e186"
            ],
            [
             0.8,
             "#7fbc41"
            ],
            [
             0.9,
             "#4d9221"
            ],
            [
             1,
             "#276419"
            ]
           ],
           "sequential": [
            [
             0,
             "#0d0887"
            ],
            [
             0.1111111111111111,
             "#46039f"
            ],
            [
             0.2222222222222222,
             "#7201a8"
            ],
            [
             0.3333333333333333,
             "#9c179e"
            ],
            [
             0.4444444444444444,
             "#bd3786"
            ],
            [
             0.5555555555555556,
             "#d8576b"
            ],
            [
             0.6666666666666666,
             "#ed7953"
            ],
            [
             0.7777777777777778,
             "#fb9f3a"
            ],
            [
             0.8888888888888888,
             "#fdca26"
            ],
            [
             1,
             "#f0f921"
            ]
           ],
           "sequentialminus": [
            [
             0,
             "#0d0887"
            ],
            [
             0.1111111111111111,
             "#46039f"
            ],
            [
             0.2222222222222222,
             "#7201a8"
            ],
            [
             0.3333333333333333,
             "#9c179e"
            ],
            [
             0.4444444444444444,
             "#bd3786"
            ],
            [
             0.5555555555555556,
             "#d8576b"
            ],
            [
             0.6666666666666666,
             "#ed7953"
            ],
            [
             0.7777777777777778,
             "#fb9f3a"
            ],
            [
             0.8888888888888888,
             "#fdca26"
            ],
            [
             1,
             "#f0f921"
            ]
           ]
          },
          "colorway": [
           "#636efa",
           "#EF553B",
           "#00cc96",
           "#ab63fa",
           "#FFA15A",
           "#19d3f3",
           "#FF6692",
           "#B6E880",
           "#FF97FF",
           "#FECB52"
          ],
          "font": {
           "color": "#2a3f5f"
          },
          "geo": {
           "bgcolor": "white",
           "lakecolor": "white",
           "landcolor": "#E5ECF6",
           "showlakes": true,
           "showland": true,
           "subunitcolor": "white"
          },
          "hoverlabel": {
           "align": "left"
          },
          "hovermode": "closest",
          "mapbox": {
           "style": "light"
          },
          "paper_bgcolor": "white",
          "plot_bgcolor": "#E5ECF6",
          "polar": {
           "angularaxis": {
            "gridcolor": "white",
            "linecolor": "white",
            "ticks": ""
           },
           "bgcolor": "#E5ECF6",
           "radialaxis": {
            "gridcolor": "white",
            "linecolor": "white",
            "ticks": ""
           }
          },
          "scene": {
           "xaxis": {
            "backgroundcolor": "#E5ECF6",
            "gridcolor": "white",
            "gridwidth": 2,
            "linecolor": "white",
            "showbackground": true,
            "ticks": "",
            "zerolinecolor": "white"
           },
           "yaxis": {
            "backgroundcolor": "#E5ECF6",
            "gridcolor": "white",
            "gridwidth": 2,
            "linecolor": "white",
            "showbackground": true,
            "ticks": "",
            "zerolinecolor": "white"
           },
           "zaxis": {
            "backgroundcolor": "#E5ECF6",
            "gridcolor": "white",
            "gridwidth": 2,
            "linecolor": "white",
            "showbackground": true,
            "ticks": "",
            "zerolinecolor": "white"
           }
          },
          "shapedefaults": {
           "line": {
            "color": "#2a3f5f"
           }
          },
          "ternary": {
           "aaxis": {
            "gridcolor": "white",
            "linecolor": "white",
            "ticks": ""
           },
           "baxis": {
            "gridcolor": "white",
            "linecolor": "white",
            "ticks": ""
           },
           "bgcolor": "#E5ECF6",
           "caxis": {
            "gridcolor": "white",
            "linecolor": "white",
            "ticks": ""
           }
          },
          "title": {
           "x": 0.05
          },
          "xaxis": {
           "automargin": true,
           "gridcolor": "white",
           "linecolor": "white",
           "ticks": "",
           "title": {
            "standoff": 15
           },
           "zerolinecolor": "white",
           "zerolinewidth": 2
          },
          "yaxis": {
           "automargin": true,
           "gridcolor": "white",
           "linecolor": "white",
           "ticks": "",
           "title": {
            "standoff": 15
           },
           "zerolinecolor": "white",
           "zerolinewidth": 2
          }
         }
        },
        "xaxis": {
         "anchor": "y",
         "domain": [
          0,
          1
         ],
         "title": {
          "text": "Correlation Coef."
         }
        },
        "yaxis": {
         "anchor": "x",
         "domain": [
          0,
          1
         ],
         "title": {
          "text": "Pollutants"
         }
        }
       }
      },
      "text/html": [
       "<div>                            <div id=\"9a7a366d-a286-46c7-8462-90a9551922b6\" class=\"plotly-graph-div\" style=\"height:525px; width:100%;\"></div>            <script type=\"text/javascript\">                require([\"plotly\"], function(Plotly) {                    window.PLOTLYENV=window.PLOTLYENV || {};                                    if (document.getElementById(\"9a7a366d-a286-46c7-8462-90a9551922b6\")) {                    Plotly.newPlot(                        \"9a7a366d-a286-46c7-8462-90a9551922b6\",                        [{\"alignmentgroup\":\"True\",\"hovertemplate\":\"Correlation Coef.=%{x}<br>Pollutants=%{y}<extra></extra>\",\"legendgroup\":\"\",\"marker\":{\"color\":\"#636efa\",\"pattern\":{\"shape\":\"\"}},\"name\":\"\",\"offsetgroup\":\"\",\"orientation\":\"h\",\"showlegend\":false,\"textposition\":\"auto\",\"x\":[-0.02003708569281317,-0.03839126494431115,0.09288211359063066,0.15684343911046206],\"xaxis\":\"x\",\"y\":[\"PM2.5\",\"NO2\",\"O3\",\"SO2\"],\"yaxis\":\"y\",\"type\":\"bar\"}],                        {\"template\":{\"data\":{\"bar\":[{\"error_x\":{\"color\":\"#2a3f5f\"},\"error_y\":{\"color\":\"#2a3f5f\"},\"marker\":{\"line\":{\"color\":\"#E5ECF6\",\"width\":0.5},\"pattern\":{\"fillmode\":\"overlay\",\"size\":10,\"solidity\":0.2}},\"type\":\"bar\"}],\"barpolar\":[{\"marker\":{\"line\":{\"color\":\"#E5ECF6\",\"width\":0.5},\"pattern\":{\"fillmode\":\"overlay\",\"size\":10,\"solidity\":0.2}},\"type\":\"barpolar\"}],\"carpet\":[{\"aaxis\":{\"endlinecolor\":\"#2a3f5f\",\"gridcolor\":\"white\",\"linecolor\":\"white\",\"minorgridcolor\":\"white\",\"startlinecolor\":\"#2a3f5f\"},\"baxis\":{\"endlinecolor\":\"#2a3f5f\",\"gridcolor\":\"white\",\"linecolor\":\"white\",\"minorgridcolor\":\"white\",\"startlinecolor\":\"#2a3f5f\"},\"type\":\"carpet\"}],\"choropleth\":[{\"colorbar\":{\"outlinewidth\":0,\"ticks\":\"\"},\"type\":\"choropleth\"}],\"contour\":[{\"colorbar\":{\"outlinewidth\":0,\"ticks\":\"\"},\"colorscale\":[[0.0,\"#0d0887\"],[0.1111111111111111,\"#46039f\"],[0.2222222222222222,\"#7201a8\"],[0.3333333333333333,\"#9c179e\"],[0.4444444444444444,\"#bd3786\"],[0.5555555555555556,\"#d8576b\"],[0.6666666666666666,\"#ed7953\"],[0.7777777777777778,\"#fb9f3a\"],[0.8888888888888888,\"#fdca26\"],[1.0,\"#f0f921\"]],\"type\":\"contour\"}],\"contourcarpet\":[{\"colorbar\":{\"outlinewidth\":0,\"ticks\":\"\"},\"type\":\"contourcarpet\"}],\"heatmap\":[{\"colorbar\":{\"outlinewidth\":0,\"ticks\":\"\"},\"colorscale\":[[0.0,\"#0d0887\"],[0.1111111111111111,\"#46039f\"],[0.2222222222222222,\"#7201a8\"],[0.3333333333333333,\"#9c179e\"],[0.4444444444444444,\"#bd3786\"],[0.5555555555555556,\"#d8576b\"],[0.6666666666666666,\"#ed7953\"],[0.7777777777777778,\"#fb9f3a\"],[0.8888888888888888,\"#fdca26\"],[1.0,\"#f0f921\"]],\"type\":\"heatmap\"}],\"heatmapgl\":[{\"colorbar\":{\"outlinewidth\":0,\"ticks\":\"\"},\"colorscale\":[[0.0,\"#0d0887\"],[0.1111111111111111,\"#46039f\"],[0.2222222222222222,\"#7201a8\"],[0.3333333333333333,\"#9c179e\"],[0.4444444444444444,\"#bd3786\"],[0.5555555555555556,\"#d8576b\"],[0.6666666666666666,\"#ed7953\"],[0.7777777777777778,\"#fb9f3a\"],[0.8888888888888888,\"#fdca26\"],[1.0,\"#f0f921\"]],\"type\":\"heatmapgl\"}],\"histogram\":[{\"marker\":{\"pattern\":{\"fillmode\":\"overlay\",\"size\":10,\"solidity\":0.2}},\"type\":\"histogram\"}],\"histogram2d\":[{\"colorbar\":{\"outlinewidth\":0,\"ticks\":\"\"},\"colorscale\":[[0.0,\"#0d0887\"],[0.1111111111111111,\"#46039f\"],[0.2222222222222222,\"#7201a8\"],[0.3333333333333333,\"#9c179e\"],[0.4444444444444444,\"#bd3786\"],[0.5555555555555556,\"#d8576b\"],[0.6666666666666666,\"#ed7953\"],[0.7777777777777778,\"#fb9f3a\"],[0.8888888888888888,\"#fdca26\"],[1.0,\"#f0f921\"]],\"type\":\"histogram2d\"}],\"histogram2dcontour\":[{\"colorbar\":{\"outlinewidth\":0,\"ticks\":\"\"},\"colorscale\":[[0.0,\"#0d0887\"],[0.1111111111111111,\"#46039f\"],[0.2222222222222222,\"#7201a8\"],[0.3333333333333333,\"#9c179e\"],[0.4444444444444444,\"#bd3786\"],[0.5555555555555556,\"#d8576b\"],[0.6666666666666666,\"#ed7953\"],[0.7777777777777778,\"#fb9f3a\"],[0.8888888888888888,\"#fdca26\"],[1.0,\"#f0f921\"]],\"type\":\"histogram2dcontour\"}],\"mesh3d\":[{\"colorbar\":{\"outlinewidth\":0,\"ticks\":\"\"},\"type\":\"mesh3d\"}],\"parcoords\":[{\"line\":{\"colorbar\":{\"outlinewidth\":0,\"ticks\":\"\"}},\"type\":\"parcoords\"}],\"pie\":[{\"automargin\":true,\"type\":\"pie\"}],\"scatter\":[{\"marker\":{\"colorbar\":{\"outlinewidth\":0,\"ticks\":\"\"}},\"type\":\"scatter\"}],\"scatter3d\":[{\"line\":{\"colorbar\":{\"outlinewidth\":0,\"ticks\":\"\"}},\"marker\":{\"colorbar\":{\"outlinewidth\":0,\"ticks\":\"\"}},\"type\":\"scatter3d\"}],\"scattercarpet\":[{\"marker\":{\"colorbar\":{\"outlinewidth\":0,\"ticks\":\"\"}},\"type\":\"scattercarpet\"}],\"scattergeo\":[{\"marker\":{\"colorbar\":{\"outlinewidth\":0,\"ticks\":\"\"}},\"type\":\"scattergeo\"}],\"scattergl\":[{\"marker\":{\"colorbar\":{\"outlinewidth\":0,\"ticks\":\"\"}},\"type\":\"scattergl\"}],\"scattermapbox\":[{\"marker\":{\"colorbar\":{\"outlinewidth\":0,\"ticks\":\"\"}},\"type\":\"scattermapbox\"}],\"scatterpolar\":[{\"marker\":{\"colorbar\":{\"outlinewidth\":0,\"ticks\":\"\"}},\"type\":\"scatterpolar\"}],\"scatterpolargl\":[{\"marker\":{\"colorbar\":{\"outlinewidth\":0,\"ticks\":\"\"}},\"type\":\"scatterpolargl\"}],\"scatterternary\":[{\"marker\":{\"colorbar\":{\"outlinewidth\":0,\"ticks\":\"\"}},\"type\":\"scatterternary\"}],\"surface\":[{\"colorbar\":{\"outlinewidth\":0,\"ticks\":\"\"},\"colorscale\":[[0.0,\"#0d0887\"],[0.1111111111111111,\"#46039f\"],[0.2222222222222222,\"#7201a8\"],[0.3333333333333333,\"#9c179e\"],[0.4444444444444444,\"#bd3786\"],[0.5555555555555556,\"#d8576b\"],[0.6666666666666666,\"#ed7953\"],[0.7777777777777778,\"#fb9f3a\"],[0.8888888888888888,\"#fdca26\"],[1.0,\"#f0f921\"]],\"type\":\"surface\"}],\"table\":[{\"cells\":{\"fill\":{\"color\":\"#EBF0F8\"},\"line\":{\"color\":\"white\"}},\"header\":{\"fill\":{\"color\":\"#C8D4E3\"},\"line\":{\"color\":\"white\"}},\"type\":\"table\"}]},\"layout\":{\"annotationdefaults\":{\"arrowcolor\":\"#2a3f5f\",\"arrowhead\":0,\"arrowwidth\":1},\"autotypenumbers\":\"strict\",\"coloraxis\":{\"colorbar\":{\"outlinewidth\":0,\"ticks\":\"\"}},\"colorscale\":{\"diverging\":[[0,\"#8e0152\"],[0.1,\"#c51b7d\"],[0.2,\"#de77ae\"],[0.3,\"#f1b6da\"],[0.4,\"#fde0ef\"],[0.5,\"#f7f7f7\"],[0.6,\"#e6f5d0\"],[0.7,\"#b8e186\"],[0.8,\"#7fbc41\"],[0.9,\"#4d9221\"],[1,\"#276419\"]],\"sequential\":[[0.0,\"#0d0887\"],[0.1111111111111111,\"#46039f\"],[0.2222222222222222,\"#7201a8\"],[0.3333333333333333,\"#9c179e\"],[0.4444444444444444,\"#bd3786\"],[0.5555555555555556,\"#d8576b\"],[0.6666666666666666,\"#ed7953\"],[0.7777777777777778,\"#fb9f3a\"],[0.8888888888888888,\"#fdca26\"],[1.0,\"#f0f921\"]],\"sequentialminus\":[[0.0,\"#0d0887\"],[0.1111111111111111,\"#46039f\"],[0.2222222222222222,\"#7201a8\"],[0.3333333333333333,\"#9c179e\"],[0.4444444444444444,\"#bd3786\"],[0.5555555555555556,\"#d8576b\"],[0.6666666666666666,\"#ed7953\"],[0.7777777777777778,\"#fb9f3a\"],[0.8888888888888888,\"#fdca26\"],[1.0,\"#f0f921\"]]},\"colorway\":[\"#636efa\",\"#EF553B\",\"#00cc96\",\"#ab63fa\",\"#FFA15A\",\"#19d3f3\",\"#FF6692\",\"#B6E880\",\"#FF97FF\",\"#FECB52\"],\"font\":{\"color\":\"#2a3f5f\"},\"geo\":{\"bgcolor\":\"white\",\"lakecolor\":\"white\",\"landcolor\":\"#E5ECF6\",\"showlakes\":true,\"showland\":true,\"subunitcolor\":\"white\"},\"hoverlabel\":{\"align\":\"left\"},\"hovermode\":\"closest\",\"mapbox\":{\"style\":\"light\"},\"paper_bgcolor\":\"white\",\"plot_bgcolor\":\"#E5ECF6\",\"polar\":{\"angularaxis\":{\"gridcolor\":\"white\",\"linecolor\":\"white\",\"ticks\":\"\"},\"bgcolor\":\"#E5ECF6\",\"radialaxis\":{\"gridcolor\":\"white\",\"linecolor\":\"white\",\"ticks\":\"\"}},\"scene\":{\"xaxis\":{\"backgroundcolor\":\"#E5ECF6\",\"gridcolor\":\"white\",\"gridwidth\":2,\"linecolor\":\"white\",\"showbackground\":true,\"ticks\":\"\",\"zerolinecolor\":\"white\"},\"yaxis\":{\"backgroundcolor\":\"#E5ECF6\",\"gridcolor\":\"white\",\"gridwidth\":2,\"linecolor\":\"white\",\"showbackground\":true,\"ticks\":\"\",\"zerolinecolor\":\"white\"},\"zaxis\":{\"backgroundcolor\":\"#E5ECF6\",\"gridcolor\":\"white\",\"gridwidth\":2,\"linecolor\":\"white\",\"showbackground\":true,\"ticks\":\"\",\"zerolinecolor\":\"white\"}},\"shapedefaults\":{\"line\":{\"color\":\"#2a3f5f\"}},\"ternary\":{\"aaxis\":{\"gridcolor\":\"white\",\"linecolor\":\"white\",\"ticks\":\"\"},\"baxis\":{\"gridcolor\":\"white\",\"linecolor\":\"white\",\"ticks\":\"\"},\"bgcolor\":\"#E5ECF6\",\"caxis\":{\"gridcolor\":\"white\",\"linecolor\":\"white\",\"ticks\":\"\"}},\"title\":{\"x\":0.05},\"xaxis\":{\"automargin\":true,\"gridcolor\":\"white\",\"linecolor\":\"white\",\"ticks\":\"\",\"title\":{\"standoff\":15},\"zerolinecolor\":\"white\",\"zerolinewidth\":2},\"yaxis\":{\"automargin\":true,\"gridcolor\":\"white\",\"linecolor\":\"white\",\"ticks\":\"\",\"title\":{\"standoff\":15},\"zerolinecolor\":\"white\",\"zerolinewidth\":2}}},\"xaxis\":{\"anchor\":\"y\",\"domain\":[0.0,1.0],\"title\":{\"text\":\"Correlation Coef.\"}},\"yaxis\":{\"anchor\":\"x\",\"domain\":[0.0,1.0],\"title\":{\"text\":\"Pollutants\"}},\"legend\":{\"tracegroupgap\":0},\"margin\":{\"t\":60},\"barmode\":\"relative\"},                        {\"responsive\": true}                    ).then(function(){\n",
       "                            \n",
       "var gd = document.getElementById('9a7a366d-a286-46c7-8462-90a9551922b6');\n",
       "var x = new MutationObserver(function (mutations, observer) {{\n",
       "        var display = window.getComputedStyle(gd).display;\n",
       "        if (!display || display === 'none') {{\n",
       "            console.log([gd, 'removed!']);\n",
       "            Plotly.purge(gd);\n",
       "            observer.disconnect();\n",
       "        }}\n",
       "}});\n",
       "\n",
       "// Listen for the removal of the full notebook cells\n",
       "var notebookContainer = gd.closest('#notebook-container');\n",
       "if (notebookContainer) {{\n",
       "    x.observe(notebookContainer, {childList: true});\n",
       "}}\n",
       "\n",
       "// Listen for the clearing of the current output cell\n",
       "var outputEl = gd.closest('.output');\n",
       "if (outputEl) {{\n",
       "    x.observe(outputEl, {childList: true});\n",
       "}}\n",
       "\n",
       "                        })                };                });            </script>        </div>"
      ]
     },
     "metadata": {},
     "output_type": "display_data"
    }
   ],
   "source": [
    "corr1=np.corrcoef(data.PM2_5,data.asthma_hosp)[0][1]\n",
    "corr2=np.corrcoef(data.NO2,data.asthma_hosp)[0][1]\n",
    "corr3=np.corrcoef(data.O3,data.asthma_hosp)[0][1]\n",
    "corr4=np.corrcoef(data.SO2,data.asthma_hosp)[0][1]\n",
    "\n",
    "corr_df=pd.DataFrame({'Pollutants':['PM2.5','NO2','O3','SO2'],'Correlation Coef.':[corr1,corr2,corr3,corr4]})\n",
    "\n",
    "import plotly.express as px\n",
    "fig = px.bar(corr_df,y='Pollutants',x='Correlation Coef.')\n",
    "fig.show()"
   ]
  },
  {
   "cell_type": "markdown",
   "id": "7650637a",
   "metadata": {},
   "source": [
    "### Asthma Hospitalizations vs SO2"
   ]
  },
  {
   "cell_type": "code",
   "execution_count": 22,
   "id": "94679d7c",
   "metadata": {},
   "outputs": [
    {
     "data": {
      "application/vnd.plotly.v1+json": {
       "config": {
        "plotlyServerURL": "https://plotly.com"
       },
       "data": [
        {
         "hovertemplate": "SO2=%{x}<br>asthma_hosp=%{y}<br>year=%{marker.color}<extra></extra>",
         "legendgroup": "",
         "marker": {
          "color": [
           2009,
           2009,
           2009,
           2009,
           2009,
           2009,
           2009,
           2009,
           2009,
           2009,
           2009,
           2009,
           2009,
           2009,
           2009,
           2009,
           2009,
           2009,
           2009,
           2009,
           2009,
           2009,
           2009,
           2009,
           2009,
           2009,
           2009,
           2009,
           2009,
           2009,
           2009,
           2009,
           2009,
           2009,
           2009,
           2009,
           2009,
           2009,
           2009,
           2009,
           2009,
           2009,
           2010,
           2010,
           2010,
           2010,
           2010,
           2010,
           2010,
           2010,
           2010,
           2010,
           2010,
           2010,
           2010,
           2010,
           2010,
           2010,
           2010,
           2010,
           2010,
           2010,
           2010,
           2010,
           2010,
           2010,
           2010,
           2010,
           2010,
           2010,
           2010,
           2010,
           2010,
           2010,
           2010,
           2010,
           2010,
           2010,
           2010,
           2010,
           2010,
           2010,
           2010,
           2010,
           2011,
           2011,
           2011,
           2011,
           2011,
           2011,
           2011,
           2011,
           2011,
           2011,
           2011,
           2011,
           2011,
           2011,
           2011,
           2011,
           2011,
           2011,
           2011,
           2011,
           2011,
           2011,
           2011,
           2011,
           2011,
           2011,
           2011,
           2011,
           2011,
           2011,
           2011,
           2011,
           2011,
           2011,
           2011,
           2011,
           2011,
           2011,
           2011,
           2011,
           2011,
           2011,
           2012,
           2012,
           2012,
           2012,
           2012,
           2012,
           2012,
           2012,
           2012,
           2012,
           2012,
           2012,
           2012,
           2012,
           2012,
           2012,
           2012,
           2012,
           2012,
           2012,
           2012,
           2012,
           2012,
           2012,
           2012,
           2012,
           2012,
           2012,
           2012,
           2012,
           2012,
           2012,
           2012,
           2012,
           2012,
           2012,
           2012,
           2012,
           2012,
           2012,
           2012,
           2012,
           2013,
           2013,
           2013,
           2013,
           2013,
           2013,
           2013,
           2013,
           2013,
           2013,
           2013,
           2013,
           2013,
           2013,
           2013,
           2013,
           2013,
           2013,
           2013,
           2013,
           2013,
           2013,
           2013,
           2013,
           2013,
           2013,
           2013,
           2013,
           2013,
           2013,
           2013,
           2013,
           2013,
           2013,
           2013,
           2013,
           2013,
           2013,
           2013,
           2013,
           2013,
           2013,
           2014,
           2014,
           2014,
           2014,
           2014,
           2014,
           2014,
           2014,
           2014,
           2014,
           2014,
           2014,
           2014,
           2014,
           2014,
           2014,
           2014,
           2014,
           2014,
           2014,
           2014,
           2014,
           2014,
           2014,
           2014,
           2014,
           2014,
           2014,
           2014,
           2014,
           2014,
           2014,
           2014,
           2014,
           2014,
           2014,
           2014,
           2014,
           2014,
           2014,
           2014,
           2014,
           2015,
           2015,
           2015,
           2015,
           2015,
           2015,
           2015,
           2015,
           2015,
           2015,
           2015,
           2015,
           2015,
           2015,
           2015,
           2015,
           2015,
           2015,
           2015,
           2015,
           2015,
           2015,
           2015,
           2015,
           2015,
           2015,
           2015,
           2015,
           2015,
           2015,
           2015,
           2015,
           2015,
           2015,
           2015,
           2015,
           2015,
           2015,
           2015,
           2015,
           2015,
           2015,
           2016,
           2016,
           2016,
           2016,
           2016,
           2016,
           2016,
           2016,
           2016,
           2016,
           2016,
           2016,
           2016,
           2016,
           2016,
           2016,
           2016,
           2016,
           2016,
           2016,
           2016,
           2016,
           2016,
           2016,
           2016,
           2016,
           2016,
           2016,
           2016,
           2016,
           2016,
           2016,
           2016,
           2016,
           2016,
           2016,
           2016,
           2016,
           2016,
           2016,
           2016,
           2016
          ],
          "coloraxis": "coloraxis",
          "symbol": "circle"
         },
         "mode": "markers",
         "name": "",
         "orientation": "v",
         "showlegend": false,
         "type": "scatter",
         "x": [
          6.62,
          5.38,
          9.48,
          5.15,
          9.36,
          8.99,
          5.22,
          4.25,
          4.14,
          4.62,
          3.89,
          3.79,
          4.28,
          4.6,
          3.22,
          3.37,
          3.21,
          4.78,
          11.12,
          8.21,
          7.04,
          10.87,
          12.12,
          8.37,
          9.8,
          7.35,
          7.91,
          4.57,
          5.11,
          5.38,
          4.49,
          3.69,
          4.5,
          4.02,
          3.72,
          3.53,
          3.18,
          2.39,
          2.49,
          2.53,
          2.17,
          1.84,
          4.16,
          3.37,
          6.03,
          3.34,
          6.1,
          5.99,
          3.54,
          2.93,
          2.65,
          3.19,
          2.86,
          2.32,
          2.77,
          3.12,
          2.33,
          2.1,
          2.21,
          3.33,
          7.28,
          5.59,
          4.89,
          7.48,
          8.5,
          5.65,
          6.73,
          4.78,
          5.25,
          2.89,
          3.63,
          3.84,
          3.01,
          2.41,
          3.25,
          2.78,
          2.76,
          2.52,
          2.21,
          1.9,
          1.35,
          1.45,
          1.18,
          1.01,
          5.31,
          4.25,
          7.67,
          4.27,
          7.79,
          7.62,
          4.5,
          3.66,
          3.42,
          3.91,
          3.36,
          3.07,
          3.48,
          3.8,
          2.67,
          2.72,
          2.59,
          4.12,
          9.28,
          7.04,
          6.1,
          9.31,
          10.51,
          7.09,
          8.37,
          6.14,
          6.66,
          3.78,
          4.5,
          4.79,
          3.85,
          3.02,
          3.99,
          3.47,
          3.22,
          2.97,
          2.56,
          1.9,
          2.08,
          2.08,
          1.83,
          1.56,
          3.71,
          2.8,
          5.06,
          2.5,
          4.92,
          4.75,
          2.63,
          1.95,
          1.76,
          1.88,
          1.57,
          1.49,
          1.61,
          1.78,
          1.21,
          1.25,
          1.14,
          2.05,
          6.14,
          4.46,
          3.71,
          5.92,
          6.31,
          4.34,
          4.97,
          3.58,
          3.8,
          2.13,
          2.49,
          2.44,
          1.97,
          1.56,
          1.92,
          1.7,
          1.52,
          1.45,
          1.3,
          0.88,
          1.04,
          0.98,
          0.86,
          0.66,
          2.23,
          1.53,
          3.15,
          1.54,
          3.28,
          3.33,
          1.81,
          1.17,
          0.91,
          1.11,
          1.01,
          0.76,
          0.87,
          1,
          0.77,
          0.67,
          0.7,
          1.25,
          4.24,
          3.08,
          2.57,
          3.91,
          4.16,
          2.57,
          3.03,
          1.94,
          2.12,
          1.09,
          1.68,
          1.6,
          1.17,
          0.75,
          1.21,
          0.98,
          0.93,
          0.77,
          0.6,
          0.51,
          0.49,
          0.49,
          0.44,
          0.39,
          1.71,
          1.61,
          2.71,
          1.84,
          2.86,
          2.8,
          1.87,
          1.39,
          1.15,
          1.28,
          1.17,
          1.05,
          1.08,
          1.14,
          0.86,
          0.95,
          0.84,
          1.45,
          3.35,
          2.64,
          2.42,
          3.49,
          3.84,
          2.73,
          3.15,
          2.24,
          2.48,
          1.37,
          1.89,
          2,
          1.85,
          1.5,
          1.54,
          1.61,
          1.21,
          1.24,
          1.14,
          0.64,
          0.97,
          0.91,
          0.88,
          0.73,
          1,
          1.11,
          1.54,
          0.96,
          1.35,
          1.2,
          0.82,
          0.58,
          0.46,
          0.52,
          0.47,
          0.43,
          0.48,
          0.49,
          0.4,
          0.43,
          0.43,
          0.58,
          1.5,
          1.09,
          1,
          1.4,
          1.49,
          1.13,
          1.28,
          0.88,
          0.97,
          0.55,
          0.79,
          0.78,
          0.74,
          0.57,
          0.58,
          0.57,
          0.45,
          0.43,
          0.41,
          0.31,
          0.31,
          0.35,
          0.28,
          0.22,
          0.3,
          0.29,
          0.46,
          0.28,
          0.43,
          0.39,
          0.25,
          0.19,
          0.18,
          0.22,
          0.21,
          0.17,
          0.2,
          0.21,
          0.18,
          0.17,
          0.18,
          0.22,
          0.5,
          0.35,
          0.3,
          0.44,
          0.45,
          0.36,
          0.4,
          0.31,
          0.33,
          0.2,
          0.24,
          0.25,
          0.27,
          0.27,
          0.23,
          0.26,
          0.23,
          0.25,
          0.26,
          0.2,
          0.12,
          0.13,
          0.12,
          0.11
         ],
         "xaxis": "x",
         "y": [
          61,
          282,
          693,
          588,
          631,
          657,
          504,
          88,
          176,
          645,
          376,
          62,
          97,
          446,
          195,
          34,
          101,
          503,
          168,
          298,
          254,
          87,
          49,
          27,
          17,
          8,
          80,
          10,
          79,
          225,
          84,
          34,
          157,
          50,
          269,
          431,
          224,
          185,
          80,
          78,
          35,
          47,
          74,
          285,
          563,
          491,
          552,
          505,
          435,
          48,
          135,
          559,
          348,
          56,
          64,
          361,
          160,
          20,
          90,
          402,
          176,
          246,
          240,
          77,
          48,
          32,
          20,
          0,
          59,
          8,
          86,
          197,
          89,
          23,
          160,
          46,
          226,
          343,
          173,
          177,
          56,
          85,
          12,
          43,
          65,
          303,
          528,
          552,
          529,
          533,
          457,
          43,
          176,
          582,
          313,
          64,
          103,
          361,
          176,
          42,
          67,
          387,
          164,
          259,
          212,
          75,
          51,
          25,
          9,
          0,
          67,
          9,
          80,
          187,
          83,
          7,
          149,
          48,
          170,
          267,
          157,
          132,
          65,
          63,
          18,
          36,
          67,
          320,
          559,
          609,
          524,
          571,
          501,
          34,
          171,
          591,
          329,
          57,
          90,
          387,
          191,
          44,
          85,
          387,
          160,
          299,
          203,
          57,
          53,
          30,
          13,
          7,
          77,
          0,
          70,
          234,
          68,
          31,
          146,
          37,
          218,
          257,
          176,
          86,
          79,
          65,
          14,
          38,
          72,
          319,
          589,
          515,
          559,
          627,
          453,
          26,
          130,
          581,
          346,
          63,
          70,
          409,
          191,
          30,
          74,
          292,
          161,
          276,
          222,
          56,
          41,
          21,
          16,
          6,
          67,
          4,
          66,
          202,
          82,
          12,
          87,
          49,
          181,
          288,
          158,
          86,
          64,
          77,
          12,
          39,
          71,
          324,
          648,
          521,
          567,
          624,
          478,
          46,
          121,
          607,
          366,
          54,
          73,
          460,
          159,
          17,
          82,
          292,
          217,
          233,
          239,
          64,
          40,
          32,
          14,
          4,
          57,
          2,
          67,
          249,
          75,
          21,
          109,
          34,
          209,
          276,
          162,
          100,
          67,
          80,
          11,
          40,
          60,
          268,
          548,
          523,
          463,
          574,
          431,
          27,
          114,
          506,
          349,
          37,
          75,
          413,
          179,
          27,
          58,
          219,
          175,
          234,
          197,
          51,
          42,
          21,
          5,
          1,
          67,
          4,
          47,
          177,
          70,
          19,
          95,
          57,
          183,
          261,
          135,
          86,
          68,
          59,
          12,
          38,
          53,
          265,
          545,
          441,
          427,
          565,
          361,
          26,
          112,
          473,
          361,
          33,
          72,
          364,
          172,
          30,
          84,
          240,
          210,
          284,
          151,
          43,
          39,
          11,
          8,
          4,
          73,
          7,
          55,
          199,
          79,
          7,
          97,
          51,
          146,
          239,
          115,
          73,
          83,
          72,
          12,
          36
         ],
         "yaxis": "y"
        },
        {
         "hovertemplate": "<b>OLS trendline</b><br>asthma_hosp = 12.0493 * SO2 + 152.172<br>R<sup>2</sup>=0.024600<br><br>SO2=%{x}<br>asthma_hosp=%{y} <b>(trend)</b><extra></extra>",
         "legendgroup": "",
         "marker": {
          "symbol": "circle"
         },
         "mode": "lines",
         "name": "",
         "showlegend": false,
         "type": "scatter",
         "x": [
          0.11,
          0.12,
          0.12,
          0.13,
          0.17,
          0.17,
          0.18,
          0.18,
          0.18,
          0.19,
          0.2,
          0.2,
          0.2,
          0.21,
          0.21,
          0.22,
          0.22,
          0.22,
          0.23,
          0.23,
          0.24,
          0.25,
          0.25,
          0.25,
          0.26,
          0.26,
          0.27,
          0.27,
          0.28,
          0.28,
          0.29,
          0.3,
          0.3,
          0.31,
          0.31,
          0.31,
          0.33,
          0.35,
          0.35,
          0.36,
          0.39,
          0.39,
          0.4,
          0.4,
          0.41,
          0.43,
          0.43,
          0.43,
          0.43,
          0.43,
          0.44,
          0.44,
          0.45,
          0.45,
          0.46,
          0.46,
          0.47,
          0.48,
          0.49,
          0.49,
          0.49,
          0.5,
          0.51,
          0.52,
          0.55,
          0.57,
          0.57,
          0.58,
          0.58,
          0.58,
          0.6,
          0.64,
          0.66,
          0.67,
          0.7,
          0.73,
          0.74,
          0.75,
          0.76,
          0.77,
          0.77,
          0.78,
          0.79,
          0.82,
          0.84,
          0.86,
          0.86,
          0.87,
          0.88,
          0.88,
          0.88,
          0.91,
          0.91,
          0.93,
          0.95,
          0.96,
          0.97,
          0.97,
          0.98,
          0.98,
          1,
          1,
          1,
          1.01,
          1.01,
          1.04,
          1.05,
          1.08,
          1.09,
          1.09,
          1.11,
          1.11,
          1.13,
          1.14,
          1.14,
          1.14,
          1.15,
          1.17,
          1.17,
          1.17,
          1.18,
          1.2,
          1.21,
          1.21,
          1.21,
          1.24,
          1.25,
          1.25,
          1.28,
          1.28,
          1.3,
          1.35,
          1.35,
          1.37,
          1.39,
          1.4,
          1.45,
          1.45,
          1.45,
          1.49,
          1.49,
          1.5,
          1.5,
          1.52,
          1.53,
          1.54,
          1.54,
          1.54,
          1.56,
          1.56,
          1.57,
          1.6,
          1.61,
          1.61,
          1.61,
          1.68,
          1.7,
          1.71,
          1.76,
          1.78,
          1.81,
          1.83,
          1.84,
          1.84,
          1.85,
          1.87,
          1.88,
          1.89,
          1.9,
          1.9,
          1.92,
          1.94,
          1.95,
          1.97,
          2,
          2.05,
          2.08,
          2.08,
          2.1,
          2.12,
          2.13,
          2.17,
          2.21,
          2.21,
          2.23,
          2.24,
          2.32,
          2.33,
          2.39,
          2.41,
          2.42,
          2.44,
          2.48,
          2.49,
          2.49,
          2.5,
          2.52,
          2.53,
          2.56,
          2.57,
          2.57,
          2.59,
          2.63,
          2.64,
          2.65,
          2.67,
          2.71,
          2.72,
          2.73,
          2.76,
          2.77,
          2.78,
          2.8,
          2.8,
          2.86,
          2.86,
          2.89,
          2.93,
          2.97,
          3.01,
          3.02,
          3.03,
          3.07,
          3.08,
          3.12,
          3.15,
          3.15,
          3.18,
          3.19,
          3.21,
          3.22,
          3.22,
          3.25,
          3.28,
          3.33,
          3.33,
          3.34,
          3.35,
          3.36,
          3.37,
          3.37,
          3.42,
          3.47,
          3.48,
          3.49,
          3.53,
          3.54,
          3.58,
          3.63,
          3.66,
          3.69,
          3.71,
          3.71,
          3.72,
          3.78,
          3.79,
          3.8,
          3.8,
          3.84,
          3.84,
          3.85,
          3.89,
          3.91,
          3.91,
          3.99,
          4.02,
          4.12,
          4.14,
          4.16,
          4.16,
          4.24,
          4.25,
          4.25,
          4.27,
          4.28,
          4.34,
          4.46,
          4.49,
          4.5,
          4.5,
          4.5,
          4.57,
          4.6,
          4.62,
          4.75,
          4.78,
          4.78,
          4.79,
          4.89,
          4.92,
          4.97,
          5.06,
          5.11,
          5.15,
          5.22,
          5.25,
          5.31,
          5.38,
          5.38,
          5.59,
          5.65,
          5.92,
          5.99,
          6.03,
          6.1,
          6.1,
          6.14,
          6.14,
          6.31,
          6.62,
          6.66,
          6.73,
          7.04,
          7.04,
          7.09,
          7.28,
          7.35,
          7.48,
          7.62,
          7.67,
          7.79,
          7.91,
          8.21,
          8.37,
          8.37,
          8.5,
          8.99,
          9.28,
          9.31,
          9.36,
          9.48,
          9.8,
          10.51,
          10.87,
          11.12,
          12.12
         ],
         "xaxis": "x",
         "y": [
          153.49735610794332,
          153.61784951554048,
          153.61784951554048,
          153.73834292313765,
          154.22031655352632,
          154.22031655352632,
          154.34080996112348,
          154.34080996112348,
          154.34080996112348,
          154.46130336872065,
          154.58179677631784,
          154.58179677631784,
          154.58179677631784,
          154.702290183915,
          154.702290183915,
          154.82278359151218,
          154.82278359151218,
          154.82278359151218,
          154.94327699910934,
          154.94327699910934,
          155.0637704067065,
          155.18426381430368,
          155.18426381430368,
          155.18426381430368,
          155.30475722190084,
          155.30475722190084,
          155.425250629498,
          155.425250629498,
          155.54574403709518,
          155.54574403709518,
          155.66623744469234,
          155.7867308522895,
          155.7867308522895,
          155.90722425988668,
          155.90722425988668,
          155.90722425988668,
          156.14821107508104,
          156.38919789027537,
          156.38919789027537,
          156.50969129787254,
          156.87117152066403,
          156.87117152066403,
          156.9916649282612,
          156.9916649282612,
          157.11215833585837,
          157.3531451510527,
          157.3531451510527,
          157.3531451510527,
          157.3531451510527,
          157.3531451510527,
          157.47363855864987,
          157.47363855864987,
          157.59413196624703,
          157.59413196624703,
          157.71462537384423,
          157.71462537384423,
          157.8351187814414,
          157.95561218903856,
          158.07610559663573,
          158.07610559663573,
          158.07610559663573,
          158.1965990042329,
          158.31709241183006,
          158.43758581942723,
          158.79906604221873,
          159.04005285741306,
          159.04005285741306,
          159.16054626501023,
          159.16054626501023,
          159.16054626501023,
          159.4015330802046,
          159.88350671059325,
          160.12449352578759,
          160.24498693338475,
          160.60646715617625,
          160.96794737896778,
          161.08844078656495,
          161.2089341941621,
          161.32942760175928,
          161.44992100935644,
          161.44992100935644,
          161.5704144169536,
          161.69090782455078,
          162.05238804734228,
          162.2933748625366,
          162.53436167773097,
          162.53436167773097,
          162.65485508532814,
          162.7753484929253,
          162.7753484929253,
          162.7753484929253,
          163.1368287157168,
          163.1368287157168,
          163.37781553091114,
          163.61880234610547,
          163.73929575370263,
          163.8597891612998,
          163.8597891612998,
          163.98028256889697,
          163.98028256889697,
          164.22126938409133,
          164.22126938409133,
          164.22126938409133,
          164.3417627916885,
          164.3417627916885,
          164.70324301448,
          164.82373642207716,
          165.18521664486866,
          165.30571005246583,
          165.30571005246583,
          165.54669686766016,
          165.54669686766016,
          165.78768368285452,
          165.9081770904517,
          165.9081770904517,
          165.9081770904517,
          166.02867049804885,
          166.2696573132432,
          166.2696573132432,
          166.2696573132432,
          166.39015072084035,
          166.6311375360347,
          166.75163094363185,
          166.75163094363185,
          166.75163094363185,
          167.11311116642335,
          167.23360457402055,
          167.23360457402055,
          167.59508479681205,
          167.59508479681205,
          167.83607161200638,
          168.4385386499922,
          168.4385386499922,
          168.67952546518654,
          168.92051228038088,
          169.04100568797807,
          169.6434727259639,
          169.6434727259639,
          169.6434727259639,
          170.12544635635257,
          170.12544635635257,
          170.24593976394976,
          170.24593976394976,
          170.4869265791441,
          170.60741998674126,
          170.72791339433843,
          170.72791339433843,
          170.72791339433843,
          170.96890020953276,
          170.96890020953276,
          171.08939361712993,
          171.45087383992143,
          171.5713672475186,
          171.5713672475186,
          171.5713672475186,
          172.4148211006988,
          172.65580791589312,
          172.7763013234903,
          173.37876836147612,
          173.61975517667048,
          173.98123539946198,
          174.2222222146563,
          174.34271562225348,
          174.34271562225348,
          174.46320902985065,
          174.70419584504498,
          174.82468925264214,
          174.9451826602393,
          175.06567606783648,
          175.06567606783648,
          175.30666288303084,
          175.54764969822517,
          175.66814310582234,
          175.90912992101667,
          176.27061014380817,
          176.87307718179403,
          177.23455740458553,
          177.23455740458553,
          177.47554421977986,
          177.7165310349742,
          177.83702444257136,
          178.31899807296003,
          178.80097170334872,
          178.80097170334872,
          179.04195851854305,
          179.16245192614022,
          180.12639918691758,
          180.24689259451475,
          180.96985304009775,
          181.21083985529208,
          181.33133326288925,
          181.5723200780836,
          182.05429370847227,
          182.17478711606944,
          182.17478711606944,
          182.2952805236666,
          182.53626733886094,
          182.6567607464581,
          183.01824096924963,
          183.1387343768468,
          183.1387343768468,
          183.37972119204113,
          183.8616948224298,
          183.98218823002696,
          184.10268163762413,
          184.34366845281846,
          184.82564208320716,
          184.94613549080432,
          185.0666288984015,
          185.428109121193,
          185.54860252879016,
          185.66909593638732,
          185.91008275158165,
          185.91008275158165,
          186.63304319716468,
          186.63304319716468,
          186.99452341995618,
          187.47649705034485,
          187.95847068073354,
          188.4404443111222,
          188.56093771871937,
          188.68143112631654,
          189.1634047567052,
          189.2838981643024,
          189.76587179469107,
          190.12735201748256,
          190.12735201748256,
          190.48883224027406,
          190.60932564787123,
          190.85031246306556,
          190.97080587066276,
          190.97080587066276,
          191.33228609345426,
          191.69376631624576,
          192.29623335423162,
          192.29623335423162,
          192.41672676182878,
          192.53722016942595,
          192.65771357702312,
          192.77820698462028,
          192.77820698462028,
          193.38067402260612,
          193.98314106059195,
          194.1036344681891,
          194.2241278757863,
          194.70610150617497,
          194.82659491377214,
          195.3085685441608,
          195.91103558214667,
          196.27251580493817,
          196.63399602772967,
          196.874982842924,
          196.874982842924,
          196.99547625052116,
          197.7184366961042,
          197.83893010370136,
          197.95942351129852,
          197.95942351129852,
          198.4413971416872,
          198.4413971416872,
          198.56189054928439,
          199.04386417967305,
          199.28485099486738,
          199.28485099486738,
          200.24879825564472,
          200.61027847843621,
          201.81521255440794,
          202.05619936960227,
          202.2971861847966,
          202.2971861847966,
          203.26113344557393,
          203.3816268531711,
          203.3816268531711,
          203.62261366836543,
          203.74310707596263,
          204.46606752154563,
          205.91198841271165,
          206.27346863550315,
          206.39396204310032,
          206.39396204310032,
          206.39396204310032,
          207.2374158962805,
          207.598896119072,
          207.83988293426634,
          209.40629723302953,
          209.76777745582103,
          209.76777745582103,
          209.8882708634182,
          211.0932049393899,
          211.45468516218142,
          212.05715220016725,
          213.14159286854175,
          213.7440599065276,
          214.2260335369163,
          215.06948739009647,
          215.43096761288797,
          216.15392805847097,
          216.99738191165116,
          216.99738191165116,
          219.52774347119168,
          220.2507039167747,
          223.50402592189826,
          224.34747977507845,
          224.82945340546712,
          225.67290725864729,
          225.67290725864729,
          226.15488088903595,
          226.15488088903595,
          228.20326881818784,
          231.93856445370005,
          232.42053808408875,
          233.26399193726894,
          236.99928757278116,
          236.99928757278116,
          237.601754610767,
          239.8911293551132,
          240.73458320829337,
          242.30099750705656,
          243.98790521341692,
          244.59037225140275,
          246.0362931425688,
          247.4822140337348,
          251.09701626164988,
          253.02491078320458,
          253.02491078320458,
          254.59132508196777,
          260.495502054229,
          263.9898108745469,
          264.3512910973384,
          264.9537581353243,
          266.3996790264903,
          270.2554680695997,
          278.81050000899864,
          283.1482626824967,
          286.1605978724259,
          298.2099386321428
         ],
         "yaxis": "y"
        }
       ],
       "layout": {
        "coloraxis": {
         "colorbar": {
          "title": {
           "text": "year"
          }
         },
         "colorscale": [
          [
           0,
           "#0d0887"
          ],
          [
           0.1111111111111111,
           "#46039f"
          ],
          [
           0.2222222222222222,
           "#7201a8"
          ],
          [
           0.3333333333333333,
           "#9c179e"
          ],
          [
           0.4444444444444444,
           "#bd3786"
          ],
          [
           0.5555555555555556,
           "#d8576b"
          ],
          [
           0.6666666666666666,
           "#ed7953"
          ],
          [
           0.7777777777777778,
           "#fb9f3a"
          ],
          [
           0.8888888888888888,
           "#fdca26"
          ],
          [
           1,
           "#f0f921"
          ]
         ]
        },
        "legend": {
         "tracegroupgap": 0
        },
        "margin": {
         "t": 60
        },
        "template": {
         "data": {
          "bar": [
           {
            "error_x": {
             "color": "#2a3f5f"
            },
            "error_y": {
             "color": "#2a3f5f"
            },
            "marker": {
             "line": {
              "color": "#E5ECF6",
              "width": 0.5
             },
             "pattern": {
              "fillmode": "overlay",
              "size": 10,
              "solidity": 0.2
             }
            },
            "type": "bar"
           }
          ],
          "barpolar": [
           {
            "marker": {
             "line": {
              "color": "#E5ECF6",
              "width": 0.5
             },
             "pattern": {
              "fillmode": "overlay",
              "size": 10,
              "solidity": 0.2
             }
            },
            "type": "barpolar"
           }
          ],
          "carpet": [
           {
            "aaxis": {
             "endlinecolor": "#2a3f5f",
             "gridcolor": "white",
             "linecolor": "white",
             "minorgridcolor": "white",
             "startlinecolor": "#2a3f5f"
            },
            "baxis": {
             "endlinecolor": "#2a3f5f",
             "gridcolor": "white",
             "linecolor": "white",
             "minorgridcolor": "white",
             "startlinecolor": "#2a3f5f"
            },
            "type": "carpet"
           }
          ],
          "choropleth": [
           {
            "colorbar": {
             "outlinewidth": 0,
             "ticks": ""
            },
            "type": "choropleth"
           }
          ],
          "contour": [
           {
            "colorbar": {
             "outlinewidth": 0,
             "ticks": ""
            },
            "colorscale": [
             [
              0,
              "#0d0887"
             ],
             [
              0.1111111111111111,
              "#46039f"
             ],
             [
              0.2222222222222222,
              "#7201a8"
             ],
             [
              0.3333333333333333,
              "#9c179e"
             ],
             [
              0.4444444444444444,
              "#bd3786"
             ],
             [
              0.5555555555555556,
              "#d8576b"
             ],
             [
              0.6666666666666666,
              "#ed7953"
             ],
             [
              0.7777777777777778,
              "#fb9f3a"
             ],
             [
              0.8888888888888888,
              "#fdca26"
             ],
             [
              1,
              "#f0f921"
             ]
            ],
            "type": "contour"
           }
          ],
          "contourcarpet": [
           {
            "colorbar": {
             "outlinewidth": 0,
             "ticks": ""
            },
            "type": "contourcarpet"
           }
          ],
          "heatmap": [
           {
            "colorbar": {
             "outlinewidth": 0,
             "ticks": ""
            },
            "colorscale": [
             [
              0,
              "#0d0887"
             ],
             [
              0.1111111111111111,
              "#46039f"
             ],
             [
              0.2222222222222222,
              "#7201a8"
             ],
             [
              0.3333333333333333,
              "#9c179e"
             ],
             [
              0.4444444444444444,
              "#bd3786"
             ],
             [
              0.5555555555555556,
              "#d8576b"
             ],
             [
              0.6666666666666666,
              "#ed7953"
             ],
             [
              0.7777777777777778,
              "#fb9f3a"
             ],
             [
              0.8888888888888888,
              "#fdca26"
             ],
             [
              1,
              "#f0f921"
             ]
            ],
            "type": "heatmap"
           }
          ],
          "heatmapgl": [
           {
            "colorbar": {
             "outlinewidth": 0,
             "ticks": ""
            },
            "colorscale": [
             [
              0,
              "#0d0887"
             ],
             [
              0.1111111111111111,
              "#46039f"
             ],
             [
              0.2222222222222222,
              "#7201a8"
             ],
             [
              0.3333333333333333,
              "#9c179e"
             ],
             [
              0.4444444444444444,
              "#bd3786"
             ],
             [
              0.5555555555555556,
              "#d8576b"
             ],
             [
              0.6666666666666666,
              "#ed7953"
             ],
             [
              0.7777777777777778,
              "#fb9f3a"
             ],
             [
              0.8888888888888888,
              "#fdca26"
             ],
             [
              1,
              "#f0f921"
             ]
            ],
            "type": "heatmapgl"
           }
          ],
          "histogram": [
           {
            "marker": {
             "pattern": {
              "fillmode": "overlay",
              "size": 10,
              "solidity": 0.2
             }
            },
            "type": "histogram"
           }
          ],
          "histogram2d": [
           {
            "colorbar": {
             "outlinewidth": 0,
             "ticks": ""
            },
            "colorscale": [
             [
              0,
              "#0d0887"
             ],
             [
              0.1111111111111111,
              "#46039f"
             ],
             [
              0.2222222222222222,
              "#7201a8"
             ],
             [
              0.3333333333333333,
              "#9c179e"
             ],
             [
              0.4444444444444444,
              "#bd3786"
             ],
             [
              0.5555555555555556,
              "#d8576b"
             ],
             [
              0.6666666666666666,
              "#ed7953"
             ],
             [
              0.7777777777777778,
              "#fb9f3a"
             ],
             [
              0.8888888888888888,
              "#fdca26"
             ],
             [
              1,
              "#f0f921"
             ]
            ],
            "type": "histogram2d"
           }
          ],
          "histogram2dcontour": [
           {
            "colorbar": {
             "outlinewidth": 0,
             "ticks": ""
            },
            "colorscale": [
             [
              0,
              "#0d0887"
             ],
             [
              0.1111111111111111,
              "#46039f"
             ],
             [
              0.2222222222222222,
              "#7201a8"
             ],
             [
              0.3333333333333333,
              "#9c179e"
             ],
             [
              0.4444444444444444,
              "#bd3786"
             ],
             [
              0.5555555555555556,
              "#d8576b"
             ],
             [
              0.6666666666666666,
              "#ed7953"
             ],
             [
              0.7777777777777778,
              "#fb9f3a"
             ],
             [
              0.8888888888888888,
              "#fdca26"
             ],
             [
              1,
              "#f0f921"
             ]
            ],
            "type": "histogram2dcontour"
           }
          ],
          "mesh3d": [
           {
            "colorbar": {
             "outlinewidth": 0,
             "ticks": ""
            },
            "type": "mesh3d"
           }
          ],
          "parcoords": [
           {
            "line": {
             "colorbar": {
              "outlinewidth": 0,
              "ticks": ""
             }
            },
            "type": "parcoords"
           }
          ],
          "pie": [
           {
            "automargin": true,
            "type": "pie"
           }
          ],
          "scatter": [
           {
            "marker": {
             "colorbar": {
              "outlinewidth": 0,
              "ticks": ""
             }
            },
            "type": "scatter"
           }
          ],
          "scatter3d": [
           {
            "line": {
             "colorbar": {
              "outlinewidth": 0,
              "ticks": ""
             }
            },
            "marker": {
             "colorbar": {
              "outlinewidth": 0,
              "ticks": ""
             }
            },
            "type": "scatter3d"
           }
          ],
          "scattercarpet": [
           {
            "marker": {
             "colorbar": {
              "outlinewidth": 0,
              "ticks": ""
             }
            },
            "type": "scattercarpet"
           }
          ],
          "scattergeo": [
           {
            "marker": {
             "colorbar": {
              "outlinewidth": 0,
              "ticks": ""
             }
            },
            "type": "scattergeo"
           }
          ],
          "scattergl": [
           {
            "marker": {
             "colorbar": {
              "outlinewidth": 0,
              "ticks": ""
             }
            },
            "type": "scattergl"
           }
          ],
          "scattermapbox": [
           {
            "marker": {
             "colorbar": {
              "outlinewidth": 0,
              "ticks": ""
             }
            },
            "type": "scattermapbox"
           }
          ],
          "scatterpolar": [
           {
            "marker": {
             "colorbar": {
              "outlinewidth": 0,
              "ticks": ""
             }
            },
            "type": "scatterpolar"
           }
          ],
          "scatterpolargl": [
           {
            "marker": {
             "colorbar": {
              "outlinewidth": 0,
              "ticks": ""
             }
            },
            "type": "scatterpolargl"
           }
          ],
          "scatterternary": [
           {
            "marker": {
             "colorbar": {
              "outlinewidth": 0,
              "ticks": ""
             }
            },
            "type": "scatterternary"
           }
          ],
          "surface": [
           {
            "colorbar": {
             "outlinewidth": 0,
             "ticks": ""
            },
            "colorscale": [
             [
              0,
              "#0d0887"
             ],
             [
              0.1111111111111111,
              "#46039f"
             ],
             [
              0.2222222222222222,
              "#7201a8"
             ],
             [
              0.3333333333333333,
              "#9c179e"
             ],
             [
              0.4444444444444444,
              "#bd3786"
             ],
             [
              0.5555555555555556,
              "#d8576b"
             ],
             [
              0.6666666666666666,
              "#ed7953"
             ],
             [
              0.7777777777777778,
              "#fb9f3a"
             ],
             [
              0.8888888888888888,
              "#fdca26"
             ],
             [
              1,
              "#f0f921"
             ]
            ],
            "type": "surface"
           }
          ],
          "table": [
           {
            "cells": {
             "fill": {
              "color": "#EBF0F8"
             },
             "line": {
              "color": "white"
             }
            },
            "header": {
             "fill": {
              "color": "#C8D4E3"
             },
             "line": {
              "color": "white"
             }
            },
            "type": "table"
           }
          ]
         },
         "layout": {
          "annotationdefaults": {
           "arrowcolor": "#2a3f5f",
           "arrowhead": 0,
           "arrowwidth": 1
          },
          "autotypenumbers": "strict",
          "coloraxis": {
           "colorbar": {
            "outlinewidth": 0,
            "ticks": ""
           }
          },
          "colorscale": {
           "diverging": [
            [
             0,
             "#8e0152"
            ],
            [
             0.1,
             "#c51b7d"
            ],
            [
             0.2,
             "#de77ae"
            ],
            [
             0.3,
             "#f1b6da"
            ],
            [
             0.4,
             "#fde0ef"
            ],
            [
             0.5,
             "#f7f7f7"
            ],
            [
             0.6,
             "#e6f5d0"
            ],
            [
             0.7,
             "#b8e186"
            ],
            [
             0.8,
             "#7fbc41"
            ],
            [
             0.9,
             "#4d9221"
            ],
            [
             1,
             "#276419"
            ]
           ],
           "sequential": [
            [
             0,
             "#0d0887"
            ],
            [
             0.1111111111111111,
             "#46039f"
            ],
            [
             0.2222222222222222,
             "#7201a8"
            ],
            [
             0.3333333333333333,
             "#9c179e"
            ],
            [
             0.4444444444444444,
             "#bd3786"
            ],
            [
             0.5555555555555556,
             "#d8576b"
            ],
            [
             0.6666666666666666,
             "#ed7953"
            ],
            [
             0.7777777777777778,
             "#fb9f3a"
            ],
            [
             0.8888888888888888,
             "#fdca26"
            ],
            [
             1,
             "#f0f921"
            ]
           ],
           "sequentialminus": [
            [
             0,
             "#0d0887"
            ],
            [
             0.1111111111111111,
             "#46039f"
            ],
            [
             0.2222222222222222,
             "#7201a8"
            ],
            [
             0.3333333333333333,
             "#9c179e"
            ],
            [
             0.4444444444444444,
             "#bd3786"
            ],
            [
             0.5555555555555556,
             "#d8576b"
            ],
            [
             0.6666666666666666,
             "#ed7953"
            ],
            [
             0.7777777777777778,
             "#fb9f3a"
            ],
            [
             0.8888888888888888,
             "#fdca26"
            ],
            [
             1,
             "#f0f921"
            ]
           ]
          },
          "colorway": [
           "#636efa",
           "#EF553B",
           "#00cc96",
           "#ab63fa",
           "#FFA15A",
           "#19d3f3",
           "#FF6692",
           "#B6E880",
           "#FF97FF",
           "#FECB52"
          ],
          "font": {
           "color": "#2a3f5f"
          },
          "geo": {
           "bgcolor": "white",
           "lakecolor": "white",
           "landcolor": "#E5ECF6",
           "showlakes": true,
           "showland": true,
           "subunitcolor": "white"
          },
          "hoverlabel": {
           "align": "left"
          },
          "hovermode": "closest",
          "mapbox": {
           "style": "light"
          },
          "paper_bgcolor": "white",
          "plot_bgcolor": "#E5ECF6",
          "polar": {
           "angularaxis": {
            "gridcolor": "white",
            "linecolor": "white",
            "ticks": ""
           },
           "bgcolor": "#E5ECF6",
           "radialaxis": {
            "gridcolor": "white",
            "linecolor": "white",
            "ticks": ""
           }
          },
          "scene": {
           "xaxis": {
            "backgroundcolor": "#E5ECF6",
            "gridcolor": "white",
            "gridwidth": 2,
            "linecolor": "white",
            "showbackground": true,
            "ticks": "",
            "zerolinecolor": "white"
           },
           "yaxis": {
            "backgroundcolor": "#E5ECF6",
            "gridcolor": "white",
            "gridwidth": 2,
            "linecolor": "white",
            "showbackground": true,
            "ticks": "",
            "zerolinecolor": "white"
           },
           "zaxis": {
            "backgroundcolor": "#E5ECF6",
            "gridcolor": "white",
            "gridwidth": 2,
            "linecolor": "white",
            "showbackground": true,
            "ticks": "",
            "zerolinecolor": "white"
           }
          },
          "shapedefaults": {
           "line": {
            "color": "#2a3f5f"
           }
          },
          "ternary": {
           "aaxis": {
            "gridcolor": "white",
            "linecolor": "white",
            "ticks": ""
           },
           "baxis": {
            "gridcolor": "white",
            "linecolor": "white",
            "ticks": ""
           },
           "bgcolor": "#E5ECF6",
           "caxis": {
            "gridcolor": "white",
            "linecolor": "white",
            "ticks": ""
           }
          },
          "title": {
           "x": 0.05
          },
          "xaxis": {
           "automargin": true,
           "gridcolor": "white",
           "linecolor": "white",
           "ticks": "",
           "title": {
            "standoff": 15
           },
           "zerolinecolor": "white",
           "zerolinewidth": 2
          },
          "yaxis": {
           "automargin": true,
           "gridcolor": "white",
           "linecolor": "white",
           "ticks": "",
           "title": {
            "standoff": 15
           },
           "zerolinecolor": "white",
           "zerolinewidth": 2
          }
         }
        },
        "xaxis": {
         "anchor": "y",
         "domain": [
          0,
          1
         ],
         "title": {
          "text": "SO2"
         }
        },
        "yaxis": {
         "anchor": "x",
         "domain": [
          0,
          1
         ],
         "title": {
          "text": "asthma_hosp"
         }
        }
       }
      },
      "text/html": [
       "<div>                            <div id=\"b80f6de7-0f2d-4934-9f86-5c81187e38a6\" class=\"plotly-graph-div\" style=\"height:525px; width:100%;\"></div>            <script type=\"text/javascript\">                require([\"plotly\"], function(Plotly) {                    window.PLOTLYENV=window.PLOTLYENV || {};                                    if (document.getElementById(\"b80f6de7-0f2d-4934-9f86-5c81187e38a6\")) {                    Plotly.newPlot(                        \"b80f6de7-0f2d-4934-9f86-5c81187e38a6\",                        [{\"hovertemplate\":\"SO2=%{x}<br>asthma_hosp=%{y}<br>year=%{marker.color}<extra></extra>\",\"legendgroup\":\"\",\"marker\":{\"color\":[2009,2009,2009,2009,2009,2009,2009,2009,2009,2009,2009,2009,2009,2009,2009,2009,2009,2009,2009,2009,2009,2009,2009,2009,2009,2009,2009,2009,2009,2009,2009,2009,2009,2009,2009,2009,2009,2009,2009,2009,2009,2009,2010,2010,2010,2010,2010,2010,2010,2010,2010,2010,2010,2010,2010,2010,2010,2010,2010,2010,2010,2010,2010,2010,2010,2010,2010,2010,2010,2010,2010,2010,2010,2010,2010,2010,2010,2010,2010,2010,2010,2010,2010,2010,2011,2011,2011,2011,2011,2011,2011,2011,2011,2011,2011,2011,2011,2011,2011,2011,2011,2011,2011,2011,2011,2011,2011,2011,2011,2011,2011,2011,2011,2011,2011,2011,2011,2011,2011,2011,2011,2011,2011,2011,2011,2011,2012,2012,2012,2012,2012,2012,2012,2012,2012,2012,2012,2012,2012,2012,2012,2012,2012,2012,2012,2012,2012,2012,2012,2012,2012,2012,2012,2012,2012,2012,2012,2012,2012,2012,2012,2012,2012,2012,2012,2012,2012,2012,2013,2013,2013,2013,2013,2013,2013,2013,2013,2013,2013,2013,2013,2013,2013,2013,2013,2013,2013,2013,2013,2013,2013,2013,2013,2013,2013,2013,2013,2013,2013,2013,2013,2013,2013,2013,2013,2013,2013,2013,2013,2013,2014,2014,2014,2014,2014,2014,2014,2014,2014,2014,2014,2014,2014,2014,2014,2014,2014,2014,2014,2014,2014,2014,2014,2014,2014,2014,2014,2014,2014,2014,2014,2014,2014,2014,2014,2014,2014,2014,2014,2014,2014,2014,2015,2015,2015,2015,2015,2015,2015,2015,2015,2015,2015,2015,2015,2015,2015,2015,2015,2015,2015,2015,2015,2015,2015,2015,2015,2015,2015,2015,2015,2015,2015,2015,2015,2015,2015,2015,2015,2015,2015,2015,2015,2015,2016,2016,2016,2016,2016,2016,2016,2016,2016,2016,2016,2016,2016,2016,2016,2016,2016,2016,2016,2016,2016,2016,2016,2016,2016,2016,2016,2016,2016,2016,2016,2016,2016,2016,2016,2016,2016,2016,2016,2016,2016,2016],\"coloraxis\":\"coloraxis\",\"symbol\":\"circle\"},\"mode\":\"markers\",\"name\":\"\",\"orientation\":\"v\",\"showlegend\":false,\"x\":[6.62,5.38,9.48,5.15,9.36,8.99,5.22,4.25,4.14,4.62,3.89,3.79,4.28,4.6,3.22,3.37,3.21,4.78,11.12,8.21,7.04,10.87,12.12,8.37,9.8,7.35,7.91,4.57,5.11,5.38,4.49,3.69,4.5,4.02,3.72,3.53,3.18,2.39,2.49,2.53,2.17,1.84,4.16,3.37,6.03,3.34,6.1,5.99,3.54,2.93,2.65,3.19,2.86,2.32,2.77,3.12,2.33,2.1,2.21,3.33,7.28,5.59,4.89,7.48,8.5,5.65,6.73,4.78,5.25,2.89,3.63,3.84,3.01,2.41,3.25,2.78,2.76,2.52,2.21,1.9,1.35,1.45,1.18,1.01,5.31,4.25,7.67,4.27,7.79,7.62,4.5,3.66,3.42,3.91,3.36,3.07,3.48,3.8,2.67,2.72,2.59,4.12,9.28,7.04,6.1,9.31,10.51,7.09,8.37,6.14,6.66,3.78,4.5,4.79,3.85,3.02,3.99,3.47,3.22,2.97,2.56,1.9,2.08,2.08,1.83,1.56,3.71,2.8,5.06,2.5,4.92,4.75,2.63,1.95,1.76,1.88,1.57,1.49,1.61,1.78,1.21,1.25,1.14,2.05,6.14,4.46,3.71,5.92,6.31,4.34,4.97,3.58,3.8,2.13,2.49,2.44,1.97,1.56,1.92,1.7,1.52,1.45,1.3,0.88,1.04,0.98,0.86,0.66,2.23,1.53,3.15,1.54,3.28,3.33,1.81,1.17,0.91,1.11,1.01,0.76,0.87,1.0,0.77,0.67,0.7,1.25,4.24,3.08,2.57,3.91,4.16,2.57,3.03,1.94,2.12,1.09,1.68,1.6,1.17,0.75,1.21,0.98,0.93,0.77,0.6,0.51,0.49,0.49,0.44,0.39,1.71,1.61,2.71,1.84,2.86,2.8,1.87,1.39,1.15,1.28,1.17,1.05,1.08,1.14,0.86,0.95,0.84,1.45,3.35,2.64,2.42,3.49,3.84,2.73,3.15,2.24,2.48,1.37,1.89,2.0,1.85,1.5,1.54,1.61,1.21,1.24,1.14,0.64,0.97,0.91,0.88,0.73,1.0,1.11,1.54,0.96,1.35,1.2,0.82,0.58,0.46,0.52,0.47,0.43,0.48,0.49,0.4,0.43,0.43,0.58,1.5,1.09,1.0,1.4,1.49,1.13,1.28,0.88,0.97,0.55,0.79,0.78,0.74,0.57,0.58,0.57,0.45,0.43,0.41,0.31,0.31,0.35,0.28,0.22,0.3,0.29,0.46,0.28,0.43,0.39,0.25,0.19,0.18,0.22,0.21,0.17,0.2,0.21,0.18,0.17,0.18,0.22,0.5,0.35,0.3,0.44,0.45,0.36,0.4,0.31,0.33,0.2,0.24,0.25,0.27,0.27,0.23,0.26,0.23,0.25,0.26,0.2,0.12,0.13,0.12,0.11],\"xaxis\":\"x\",\"y\":[61,282,693,588,631,657,504,88,176,645,376,62,97,446,195,34,101,503,168,298,254,87,49,27,17,8,80,10,79,225,84,34,157,50,269,431,224,185,80,78,35,47,74,285,563,491,552,505,435,48,135,559,348,56,64,361,160,20,90,402,176,246,240,77,48,32,20,0,59,8,86,197,89,23,160,46,226,343,173,177,56,85,12,43,65,303,528,552,529,533,457,43,176,582,313,64,103,361,176,42,67,387,164,259,212,75,51,25,9,0,67,9,80,187,83,7,149,48,170,267,157,132,65,63,18,36,67,320,559,609,524,571,501,34,171,591,329,57,90,387,191,44,85,387,160,299,203,57,53,30,13,7,77,0,70,234,68,31,146,37,218,257,176,86,79,65,14,38,72,319,589,515,559,627,453,26,130,581,346,63,70,409,191,30,74,292,161,276,222,56,41,21,16,6,67,4,66,202,82,12,87,49,181,288,158,86,64,77,12,39,71,324,648,521,567,624,478,46,121,607,366,54,73,460,159,17,82,292,217,233,239,64,40,32,14,4,57,2,67,249,75,21,109,34,209,276,162,100,67,80,11,40,60,268,548,523,463,574,431,27,114,506,349,37,75,413,179,27,58,219,175,234,197,51,42,21,5,1,67,4,47,177,70,19,95,57,183,261,135,86,68,59,12,38,53,265,545,441,427,565,361,26,112,473,361,33,72,364,172,30,84,240,210,284,151,43,39,11,8,4,73,7,55,199,79,7,97,51,146,239,115,73,83,72,12,36],\"yaxis\":\"y\",\"type\":\"scatter\"},{\"hovertemplate\":\"<b>OLS trendline</b><br>asthma_hosp = 12.0493 * SO2 + 152.172<br>R<sup>2</sup>=0.024600<br><br>SO2=%{x}<br>asthma_hosp=%{y} <b>(trend)</b><extra></extra>\",\"legendgroup\":\"\",\"marker\":{\"symbol\":\"circle\"},\"mode\":\"lines\",\"name\":\"\",\"showlegend\":false,\"x\":[0.11,0.12,0.12,0.13,0.17,0.17,0.18,0.18,0.18,0.19,0.2,0.2,0.2,0.21,0.21,0.22,0.22,0.22,0.23,0.23,0.24,0.25,0.25,0.25,0.26,0.26,0.27,0.27,0.28,0.28,0.29,0.3,0.3,0.31,0.31,0.31,0.33,0.35,0.35,0.36,0.39,0.39,0.4,0.4,0.41,0.43,0.43,0.43,0.43,0.43,0.44,0.44,0.45,0.45,0.46,0.46,0.47,0.48,0.49,0.49,0.49,0.5,0.51,0.52,0.55,0.57,0.57,0.58,0.58,0.58,0.6,0.64,0.66,0.67,0.7,0.73,0.74,0.75,0.76,0.77,0.77,0.78,0.79,0.82,0.84,0.86,0.86,0.87,0.88,0.88,0.88,0.91,0.91,0.93,0.95,0.96,0.97,0.97,0.98,0.98,1.0,1.0,1.0,1.01,1.01,1.04,1.05,1.08,1.09,1.09,1.11,1.11,1.13,1.14,1.14,1.14,1.15,1.17,1.17,1.17,1.18,1.2,1.21,1.21,1.21,1.24,1.25,1.25,1.28,1.28,1.3,1.35,1.35,1.37,1.39,1.4,1.45,1.45,1.45,1.49,1.49,1.5,1.5,1.52,1.53,1.54,1.54,1.54,1.56,1.56,1.57,1.6,1.61,1.61,1.61,1.68,1.7,1.71,1.76,1.78,1.81,1.83,1.84,1.84,1.85,1.87,1.88,1.89,1.9,1.9,1.92,1.94,1.95,1.97,2.0,2.05,2.08,2.08,2.1,2.12,2.13,2.17,2.21,2.21,2.23,2.24,2.32,2.33,2.39,2.41,2.42,2.44,2.48,2.49,2.49,2.5,2.52,2.53,2.56,2.57,2.57,2.59,2.63,2.64,2.65,2.67,2.71,2.72,2.73,2.76,2.77,2.78,2.8,2.8,2.86,2.86,2.89,2.93,2.97,3.01,3.02,3.03,3.07,3.08,3.12,3.15,3.15,3.18,3.19,3.21,3.22,3.22,3.25,3.28,3.33,3.33,3.34,3.35,3.36,3.37,3.37,3.42,3.47,3.48,3.49,3.53,3.54,3.58,3.63,3.66,3.69,3.71,3.71,3.72,3.78,3.79,3.8,3.8,3.84,3.84,3.85,3.89,3.91,3.91,3.99,4.02,4.12,4.14,4.16,4.16,4.24,4.25,4.25,4.27,4.28,4.34,4.46,4.49,4.5,4.5,4.5,4.57,4.6,4.62,4.75,4.78,4.78,4.79,4.89,4.92,4.97,5.06,5.11,5.15,5.22,5.25,5.31,5.38,5.38,5.59,5.65,5.92,5.99,6.03,6.1,6.1,6.14,6.14,6.31,6.62,6.66,6.73,7.04,7.04,7.09,7.28,7.35,7.48,7.62,7.67,7.79,7.91,8.21,8.37,8.37,8.5,8.99,9.28,9.31,9.36,9.48,9.8,10.51,10.87,11.12,12.12],\"xaxis\":\"x\",\"y\":[153.49735610794332,153.61784951554048,153.61784951554048,153.73834292313765,154.22031655352632,154.22031655352632,154.34080996112348,154.34080996112348,154.34080996112348,154.46130336872065,154.58179677631784,154.58179677631784,154.58179677631784,154.702290183915,154.702290183915,154.82278359151218,154.82278359151218,154.82278359151218,154.94327699910934,154.94327699910934,155.0637704067065,155.18426381430368,155.18426381430368,155.18426381430368,155.30475722190084,155.30475722190084,155.425250629498,155.425250629498,155.54574403709518,155.54574403709518,155.66623744469234,155.7867308522895,155.7867308522895,155.90722425988668,155.90722425988668,155.90722425988668,156.14821107508104,156.38919789027537,156.38919789027537,156.50969129787254,156.87117152066403,156.87117152066403,156.9916649282612,156.9916649282612,157.11215833585837,157.3531451510527,157.3531451510527,157.3531451510527,157.3531451510527,157.3531451510527,157.47363855864987,157.47363855864987,157.59413196624703,157.59413196624703,157.71462537384423,157.71462537384423,157.8351187814414,157.95561218903856,158.07610559663573,158.07610559663573,158.07610559663573,158.1965990042329,158.31709241183006,158.43758581942723,158.79906604221873,159.04005285741306,159.04005285741306,159.16054626501023,159.16054626501023,159.16054626501023,159.4015330802046,159.88350671059325,160.12449352578759,160.24498693338475,160.60646715617625,160.96794737896778,161.08844078656495,161.2089341941621,161.32942760175928,161.44992100935644,161.44992100935644,161.5704144169536,161.69090782455078,162.05238804734228,162.2933748625366,162.53436167773097,162.53436167773097,162.65485508532814,162.7753484929253,162.7753484929253,162.7753484929253,163.1368287157168,163.1368287157168,163.37781553091114,163.61880234610547,163.73929575370263,163.8597891612998,163.8597891612998,163.98028256889697,163.98028256889697,164.22126938409133,164.22126938409133,164.22126938409133,164.3417627916885,164.3417627916885,164.70324301448,164.82373642207716,165.18521664486866,165.30571005246583,165.30571005246583,165.54669686766016,165.54669686766016,165.78768368285452,165.9081770904517,165.9081770904517,165.9081770904517,166.02867049804885,166.2696573132432,166.2696573132432,166.2696573132432,166.39015072084035,166.6311375360347,166.75163094363185,166.75163094363185,166.75163094363185,167.11311116642335,167.23360457402055,167.23360457402055,167.59508479681205,167.59508479681205,167.83607161200638,168.4385386499922,168.4385386499922,168.67952546518654,168.92051228038088,169.04100568797807,169.6434727259639,169.6434727259639,169.6434727259639,170.12544635635257,170.12544635635257,170.24593976394976,170.24593976394976,170.4869265791441,170.60741998674126,170.72791339433843,170.72791339433843,170.72791339433843,170.96890020953276,170.96890020953276,171.08939361712993,171.45087383992143,171.5713672475186,171.5713672475186,171.5713672475186,172.4148211006988,172.65580791589312,172.7763013234903,173.37876836147612,173.61975517667048,173.98123539946198,174.2222222146563,174.34271562225348,174.34271562225348,174.46320902985065,174.70419584504498,174.82468925264214,174.9451826602393,175.06567606783648,175.06567606783648,175.30666288303084,175.54764969822517,175.66814310582234,175.90912992101667,176.27061014380817,176.87307718179403,177.23455740458553,177.23455740458553,177.47554421977986,177.7165310349742,177.83702444257136,178.31899807296003,178.80097170334872,178.80097170334872,179.04195851854305,179.16245192614022,180.12639918691758,180.24689259451475,180.96985304009775,181.21083985529208,181.33133326288925,181.5723200780836,182.05429370847227,182.17478711606944,182.17478711606944,182.2952805236666,182.53626733886094,182.6567607464581,183.01824096924963,183.1387343768468,183.1387343768468,183.37972119204113,183.8616948224298,183.98218823002696,184.10268163762413,184.34366845281846,184.82564208320716,184.94613549080432,185.0666288984015,185.428109121193,185.54860252879016,185.66909593638732,185.91008275158165,185.91008275158165,186.63304319716468,186.63304319716468,186.99452341995618,187.47649705034485,187.95847068073354,188.4404443111222,188.56093771871937,188.68143112631654,189.1634047567052,189.2838981643024,189.76587179469107,190.12735201748256,190.12735201748256,190.48883224027406,190.60932564787123,190.85031246306556,190.97080587066276,190.97080587066276,191.33228609345426,191.69376631624576,192.29623335423162,192.29623335423162,192.41672676182878,192.53722016942595,192.65771357702312,192.77820698462028,192.77820698462028,193.38067402260612,193.98314106059195,194.1036344681891,194.2241278757863,194.70610150617497,194.82659491377214,195.3085685441608,195.91103558214667,196.27251580493817,196.63399602772967,196.874982842924,196.874982842924,196.99547625052116,197.7184366961042,197.83893010370136,197.95942351129852,197.95942351129852,198.4413971416872,198.4413971416872,198.56189054928439,199.04386417967305,199.28485099486738,199.28485099486738,200.24879825564472,200.61027847843621,201.81521255440794,202.05619936960227,202.2971861847966,202.2971861847966,203.26113344557393,203.3816268531711,203.3816268531711,203.62261366836543,203.74310707596263,204.46606752154563,205.91198841271165,206.27346863550315,206.39396204310032,206.39396204310032,206.39396204310032,207.2374158962805,207.598896119072,207.83988293426634,209.40629723302953,209.76777745582103,209.76777745582103,209.8882708634182,211.0932049393899,211.45468516218142,212.05715220016725,213.14159286854175,213.7440599065276,214.2260335369163,215.06948739009647,215.43096761288797,216.15392805847097,216.99738191165116,216.99738191165116,219.52774347119168,220.2507039167747,223.50402592189826,224.34747977507845,224.82945340546712,225.67290725864729,225.67290725864729,226.15488088903595,226.15488088903595,228.20326881818784,231.93856445370005,232.42053808408875,233.26399193726894,236.99928757278116,236.99928757278116,237.601754610767,239.8911293551132,240.73458320829337,242.30099750705656,243.98790521341692,244.59037225140275,246.0362931425688,247.4822140337348,251.09701626164988,253.02491078320458,253.02491078320458,254.59132508196777,260.495502054229,263.9898108745469,264.3512910973384,264.9537581353243,266.3996790264903,270.2554680695997,278.81050000899864,283.1482626824967,286.1605978724259,298.2099386321428],\"yaxis\":\"y\",\"type\":\"scatter\"}],                        {\"template\":{\"data\":{\"bar\":[{\"error_x\":{\"color\":\"#2a3f5f\"},\"error_y\":{\"color\":\"#2a3f5f\"},\"marker\":{\"line\":{\"color\":\"#E5ECF6\",\"width\":0.5},\"pattern\":{\"fillmode\":\"overlay\",\"size\":10,\"solidity\":0.2}},\"type\":\"bar\"}],\"barpolar\":[{\"marker\":{\"line\":{\"color\":\"#E5ECF6\",\"width\":0.5},\"pattern\":{\"fillmode\":\"overlay\",\"size\":10,\"solidity\":0.2}},\"type\":\"barpolar\"}],\"carpet\":[{\"aaxis\":{\"endlinecolor\":\"#2a3f5f\",\"gridcolor\":\"white\",\"linecolor\":\"white\",\"minorgridcolor\":\"white\",\"startlinecolor\":\"#2a3f5f\"},\"baxis\":{\"endlinecolor\":\"#2a3f5f\",\"gridcolor\":\"white\",\"linecolor\":\"white\",\"minorgridcolor\":\"white\",\"startlinecolor\":\"#2a3f5f\"},\"type\":\"carpet\"}],\"choropleth\":[{\"colorbar\":{\"outlinewidth\":0,\"ticks\":\"\"},\"type\":\"choropleth\"}],\"contour\":[{\"colorbar\":{\"outlinewidth\":0,\"ticks\":\"\"},\"colorscale\":[[0.0,\"#0d0887\"],[0.1111111111111111,\"#46039f\"],[0.2222222222222222,\"#7201a8\"],[0.3333333333333333,\"#9c179e\"],[0.4444444444444444,\"#bd3786\"],[0.5555555555555556,\"#d8576b\"],[0.6666666666666666,\"#ed7953\"],[0.7777777777777778,\"#fb9f3a\"],[0.8888888888888888,\"#fdca26\"],[1.0,\"#f0f921\"]],\"type\":\"contour\"}],\"contourcarpet\":[{\"colorbar\":{\"outlinewidth\":0,\"ticks\":\"\"},\"type\":\"contourcarpet\"}],\"heatmap\":[{\"colorbar\":{\"outlinewidth\":0,\"ticks\":\"\"},\"colorscale\":[[0.0,\"#0d0887\"],[0.1111111111111111,\"#46039f\"],[0.2222222222222222,\"#7201a8\"],[0.3333333333333333,\"#9c179e\"],[0.4444444444444444,\"#bd3786\"],[0.5555555555555556,\"#d8576b\"],[0.6666666666666666,\"#ed7953\"],[0.7777777777777778,\"#fb9f3a\"],[0.8888888888888888,\"#fdca26\"],[1.0,\"#f0f921\"]],\"type\":\"heatmap\"}],\"heatmapgl\":[{\"colorbar\":{\"outlinewidth\":0,\"ticks\":\"\"},\"colorscale\":[[0.0,\"#0d0887\"],[0.1111111111111111,\"#46039f\"],[0.2222222222222222,\"#7201a8\"],[0.3333333333333333,\"#9c179e\"],[0.4444444444444444,\"#bd3786\"],[0.5555555555555556,\"#d8576b\"],[0.6666666666666666,\"#ed7953\"],[0.7777777777777778,\"#fb9f3a\"],[0.8888888888888888,\"#fdca26\"],[1.0,\"#f0f921\"]],\"type\":\"heatmapgl\"}],\"histogram\":[{\"marker\":{\"pattern\":{\"fillmode\":\"overlay\",\"size\":10,\"solidity\":0.2}},\"type\":\"histogram\"}],\"histogram2d\":[{\"colorbar\":{\"outlinewidth\":0,\"ticks\":\"\"},\"colorscale\":[[0.0,\"#0d0887\"],[0.1111111111111111,\"#46039f\"],[0.2222222222222222,\"#7201a8\"],[0.3333333333333333,\"#9c179e\"],[0.4444444444444444,\"#bd3786\"],[0.5555555555555556,\"#d8576b\"],[0.6666666666666666,\"#ed7953\"],[0.7777777777777778,\"#fb9f3a\"],[0.8888888888888888,\"#fdca26\"],[1.0,\"#f0f921\"]],\"type\":\"histogram2d\"}],\"histogram2dcontour\":[{\"colorbar\":{\"outlinewidth\":0,\"ticks\":\"\"},\"colorscale\":[[0.0,\"#0d0887\"],[0.1111111111111111,\"#46039f\"],[0.2222222222222222,\"#7201a8\"],[0.3333333333333333,\"#9c179e\"],[0.4444444444444444,\"#bd3786\"],[0.5555555555555556,\"#d8576b\"],[0.6666666666666666,\"#ed7953\"],[0.7777777777777778,\"#fb9f3a\"],[0.8888888888888888,\"#fdca26\"],[1.0,\"#f0f921\"]],\"type\":\"histogram2dcontour\"}],\"mesh3d\":[{\"colorbar\":{\"outlinewidth\":0,\"ticks\":\"\"},\"type\":\"mesh3d\"}],\"parcoords\":[{\"line\":{\"colorbar\":{\"outlinewidth\":0,\"ticks\":\"\"}},\"type\":\"parcoords\"}],\"pie\":[{\"automargin\":true,\"type\":\"pie\"}],\"scatter\":[{\"marker\":{\"colorbar\":{\"outlinewidth\":0,\"ticks\":\"\"}},\"type\":\"scatter\"}],\"scatter3d\":[{\"line\":{\"colorbar\":{\"outlinewidth\":0,\"ticks\":\"\"}},\"marker\":{\"colorbar\":{\"outlinewidth\":0,\"ticks\":\"\"}},\"type\":\"scatter3d\"}],\"scattercarpet\":[{\"marker\":{\"colorbar\":{\"outlinewidth\":0,\"ticks\":\"\"}},\"type\":\"scattercarpet\"}],\"scattergeo\":[{\"marker\":{\"colorbar\":{\"outlinewidth\":0,\"ticks\":\"\"}},\"type\":\"scattergeo\"}],\"scattergl\":[{\"marker\":{\"colorbar\":{\"outlinewidth\":0,\"ticks\":\"\"}},\"type\":\"scattergl\"}],\"scattermapbox\":[{\"marker\":{\"colorbar\":{\"outlinewidth\":0,\"ticks\":\"\"}},\"type\":\"scattermapbox\"}],\"scatterpolar\":[{\"marker\":{\"colorbar\":{\"outlinewidth\":0,\"ticks\":\"\"}},\"type\":\"scatterpolar\"}],\"scatterpolargl\":[{\"marker\":{\"colorbar\":{\"outlinewidth\":0,\"ticks\":\"\"}},\"type\":\"scatterpolargl\"}],\"scatterternary\":[{\"marker\":{\"colorbar\":{\"outlinewidth\":0,\"ticks\":\"\"}},\"type\":\"scatterternary\"}],\"surface\":[{\"colorbar\":{\"outlinewidth\":0,\"ticks\":\"\"},\"colorscale\":[[0.0,\"#0d0887\"],[0.1111111111111111,\"#46039f\"],[0.2222222222222222,\"#7201a8\"],[0.3333333333333333,\"#9c179e\"],[0.4444444444444444,\"#bd3786\"],[0.5555555555555556,\"#d8576b\"],[0.6666666666666666,\"#ed7953\"],[0.7777777777777778,\"#fb9f3a\"],[0.8888888888888888,\"#fdca26\"],[1.0,\"#f0f921\"]],\"type\":\"surface\"}],\"table\":[{\"cells\":{\"fill\":{\"color\":\"#EBF0F8\"},\"line\":{\"color\":\"white\"}},\"header\":{\"fill\":{\"color\":\"#C8D4E3\"},\"line\":{\"color\":\"white\"}},\"type\":\"table\"}]},\"layout\":{\"annotationdefaults\":{\"arrowcolor\":\"#2a3f5f\",\"arrowhead\":0,\"arrowwidth\":1},\"autotypenumbers\":\"strict\",\"coloraxis\":{\"colorbar\":{\"outlinewidth\":0,\"ticks\":\"\"}},\"colorscale\":{\"diverging\":[[0,\"#8e0152\"],[0.1,\"#c51b7d\"],[0.2,\"#de77ae\"],[0.3,\"#f1b6da\"],[0.4,\"#fde0ef\"],[0.5,\"#f7f7f7\"],[0.6,\"#e6f5d0\"],[0.7,\"#b8e186\"],[0.8,\"#7fbc41\"],[0.9,\"#4d9221\"],[1,\"#276419\"]],\"sequential\":[[0.0,\"#0d0887\"],[0.1111111111111111,\"#46039f\"],[0.2222222222222222,\"#7201a8\"],[0.3333333333333333,\"#9c179e\"],[0.4444444444444444,\"#bd3786\"],[0.5555555555555556,\"#d8576b\"],[0.6666666666666666,\"#ed7953\"],[0.7777777777777778,\"#fb9f3a\"],[0.8888888888888888,\"#fdca26\"],[1.0,\"#f0f921\"]],\"sequentialminus\":[[0.0,\"#0d0887\"],[0.1111111111111111,\"#46039f\"],[0.2222222222222222,\"#7201a8\"],[0.3333333333333333,\"#9c179e\"],[0.4444444444444444,\"#bd3786\"],[0.5555555555555556,\"#d8576b\"],[0.6666666666666666,\"#ed7953\"],[0.7777777777777778,\"#fb9f3a\"],[0.8888888888888888,\"#fdca26\"],[1.0,\"#f0f921\"]]},\"colorway\":[\"#636efa\",\"#EF553B\",\"#00cc96\",\"#ab63fa\",\"#FFA15A\",\"#19d3f3\",\"#FF6692\",\"#B6E880\",\"#FF97FF\",\"#FECB52\"],\"font\":{\"color\":\"#2a3f5f\"},\"geo\":{\"bgcolor\":\"white\",\"lakecolor\":\"white\",\"landcolor\":\"#E5ECF6\",\"showlakes\":true,\"showland\":true,\"subunitcolor\":\"white\"},\"hoverlabel\":{\"align\":\"left\"},\"hovermode\":\"closest\",\"mapbox\":{\"style\":\"light\"},\"paper_bgcolor\":\"white\",\"plot_bgcolor\":\"#E5ECF6\",\"polar\":{\"angularaxis\":{\"gridcolor\":\"white\",\"linecolor\":\"white\",\"ticks\":\"\"},\"bgcolor\":\"#E5ECF6\",\"radialaxis\":{\"gridcolor\":\"white\",\"linecolor\":\"white\",\"ticks\":\"\"}},\"scene\":{\"xaxis\":{\"backgroundcolor\":\"#E5ECF6\",\"gridcolor\":\"white\",\"gridwidth\":2,\"linecolor\":\"white\",\"showbackground\":true,\"ticks\":\"\",\"zerolinecolor\":\"white\"},\"yaxis\":{\"backgroundcolor\":\"#E5ECF6\",\"gridcolor\":\"white\",\"gridwidth\":2,\"linecolor\":\"white\",\"showbackground\":true,\"ticks\":\"\",\"zerolinecolor\":\"white\"},\"zaxis\":{\"backgroundcolor\":\"#E5ECF6\",\"gridcolor\":\"white\",\"gridwidth\":2,\"linecolor\":\"white\",\"showbackground\":true,\"ticks\":\"\",\"zerolinecolor\":\"white\"}},\"shapedefaults\":{\"line\":{\"color\":\"#2a3f5f\"}},\"ternary\":{\"aaxis\":{\"gridcolor\":\"white\",\"linecolor\":\"white\",\"ticks\":\"\"},\"baxis\":{\"gridcolor\":\"white\",\"linecolor\":\"white\",\"ticks\":\"\"},\"bgcolor\":\"#E5ECF6\",\"caxis\":{\"gridcolor\":\"white\",\"linecolor\":\"white\",\"ticks\":\"\"}},\"title\":{\"x\":0.05},\"xaxis\":{\"automargin\":true,\"gridcolor\":\"white\",\"linecolor\":\"white\",\"ticks\":\"\",\"title\":{\"standoff\":15},\"zerolinecolor\":\"white\",\"zerolinewidth\":2},\"yaxis\":{\"automargin\":true,\"gridcolor\":\"white\",\"linecolor\":\"white\",\"ticks\":\"\",\"title\":{\"standoff\":15},\"zerolinecolor\":\"white\",\"zerolinewidth\":2}}},\"xaxis\":{\"anchor\":\"y\",\"domain\":[0.0,1.0],\"title\":{\"text\":\"SO2\"}},\"yaxis\":{\"anchor\":\"x\",\"domain\":[0.0,1.0],\"title\":{\"text\":\"asthma_hosp\"}},\"coloraxis\":{\"colorbar\":{\"title\":{\"text\":\"year\"}},\"colorscale\":[[0.0,\"#0d0887\"],[0.1111111111111111,\"#46039f\"],[0.2222222222222222,\"#7201a8\"],[0.3333333333333333,\"#9c179e\"],[0.4444444444444444,\"#bd3786\"],[0.5555555555555556,\"#d8576b\"],[0.6666666666666666,\"#ed7953\"],[0.7777777777777778,\"#fb9f3a\"],[0.8888888888888888,\"#fdca26\"],[1.0,\"#f0f921\"]]},\"legend\":{\"tracegroupgap\":0},\"margin\":{\"t\":60}},                        {\"responsive\": true}                    ).then(function(){\n",
       "                            \n",
       "var gd = document.getElementById('b80f6de7-0f2d-4934-9f86-5c81187e38a6');\n",
       "var x = new MutationObserver(function (mutations, observer) {{\n",
       "        var display = window.getComputedStyle(gd).display;\n",
       "        if (!display || display === 'none') {{\n",
       "            console.log([gd, 'removed!']);\n",
       "            Plotly.purge(gd);\n",
       "            observer.disconnect();\n",
       "        }}\n",
       "}});\n",
       "\n",
       "// Listen for the removal of the full notebook cells\n",
       "var notebookContainer = gd.closest('#notebook-container');\n",
       "if (notebookContainer) {{\n",
       "    x.observe(notebookContainer, {childList: true});\n",
       "}}\n",
       "\n",
       "// Listen for the clearing of the current output cell\n",
       "var outputEl = gd.closest('.output');\n",
       "if (outputEl) {{\n",
       "    x.observe(outputEl, {childList: true});\n",
       "}}\n",
       "\n",
       "                        })                };                });            </script>        </div>"
      ]
     },
     "metadata": {},
     "output_type": "display_data"
    }
   ],
   "source": [
    "fig = px.scatter(data, x='SO2', y=\"asthma_hosp\", trendline=\"ols\",color=\"year\")\n",
    "fig.show()"
   ]
  },
  {
   "cell_type": "markdown",
   "id": "7dc6703b",
   "metadata": {},
   "source": [
    "To answer these questions, a machine learning model has been built.\n",
    "\n",
    "## Introduce the machine learning model and all that stuff"
   ]
  },
  {
   "cell_type": "code",
   "execution_count": null,
   "id": "1a77b39f",
   "metadata": {},
   "outputs": [],
   "source": []
  },
  {
   "cell_type": "markdown",
   "id": "c0b39e87",
   "metadata": {},
   "source": [
    "## Pollution per Borough: The case of PM2.5"
   ]
  },
  {
   "cell_type": "code",
   "execution_count": 24,
   "id": "33c03e03",
   "metadata": {},
   "outputs": [
    {
     "data": {
      "application/vnd.plotly.v1+json": {
       "config": {
        "plotlyServerURL": "https://plotly.com"
       },
       "data": [
        {
         "hovertemplate": "Boroughs=Bronx<br>PM2_5=%{x}<br>asthma_hosp=%{y}<br>year=%{marker.color}<extra></extra>",
         "legendgroup": "",
         "marker": {
          "color": [
           2009,
           2009,
           2009,
           2009,
           2009,
           2009,
           2009,
           2010,
           2010,
           2010,
           2010,
           2010,
           2010,
           2010,
           2011,
           2011,
           2011,
           2011,
           2011,
           2011,
           2011,
           2012,
           2012,
           2012,
           2012,
           2012,
           2012,
           2012,
           2013,
           2013,
           2013,
           2013,
           2013,
           2013,
           2013,
           2014,
           2014,
           2014,
           2014,
           2014,
           2014,
           2014,
           2015,
           2015,
           2015,
           2015,
           2015,
           2015,
           2015,
           2016,
           2016,
           2016,
           2016,
           2016,
           2016,
           2016
          ],
          "coloraxis": "coloraxis",
          "symbol": "circle"
         },
         "mode": "markers",
         "name": "",
         "orientation": "v",
         "showlegend": false,
         "type": "scatter",
         "x": [
          11.03,
          10.68,
          11.1,
          10.59,
          11.76,
          11.8,
          11.45,
          10.09,
          9.65,
          10.26,
          9.68,
          10.99,
          11,
          10.48,
          10.65,
          10.48,
          10.77,
          10.5,
          11.45,
          11.44,
          11.24,
          9.27,
          9.11,
          9.47,
          9.23,
          10.22,
          10.26,
          10.02,
          8.88,
          8.73,
          9.06,
          8.74,
          9.75,
          9.83,
          9.57,
          9,
          9,
          9.19,
          8.97,
          9.82,
          9.87,
          9.75,
          9.17,
          9.13,
          9.14,
          8.93,
          9.67,
          9.6,
          9.62,
          7.5,
          7.55,
          7.57,
          7.5,
          8.18,
          8.16,
          8.26
         ],
         "xaxis": "x",
         "y": [
          61,
          282,
          693,
          588,
          631,
          657,
          504,
          74,
          285,
          563,
          491,
          552,
          505,
          435,
          65,
          303,
          528,
          552,
          529,
          533,
          457,
          67,
          320,
          559,
          609,
          524,
          571,
          501,
          72,
          319,
          589,
          515,
          559,
          627,
          453,
          71,
          324,
          648,
          521,
          567,
          624,
          478,
          60,
          268,
          548,
          523,
          463,
          574,
          431,
          53,
          265,
          545,
          441,
          427,
          565,
          361
         ],
         "yaxis": "y"
        },
        {
         "hovertemplate": "<b>OLS trendline</b><br>asthma_hosp = 43.2602 * PM2_5 + 13.5963<br>R<sup>2</sup>=0.067301<br><br>Boroughs=Bronx<br>PM2_5=%{x}<br>asthma_hosp=%{y} <b>(trend)</b><extra></extra>",
         "legendgroup": "",
         "marker": {
          "symbol": "circle"
         },
         "mode": "lines",
         "name": "",
         "showlegend": false,
         "type": "scatter",
         "x": [
          7.5,
          7.5,
          7.55,
          7.57,
          8.16,
          8.18,
          8.26,
          8.73,
          8.74,
          8.88,
          8.93,
          8.97,
          9,
          9,
          9.06,
          9.11,
          9.13,
          9.14,
          9.17,
          9.19,
          9.23,
          9.27,
          9.47,
          9.57,
          9.6,
          9.62,
          9.65,
          9.67,
          9.68,
          9.75,
          9.75,
          9.82,
          9.83,
          9.87,
          10.02,
          10.09,
          10.22,
          10.26,
          10.26,
          10.48,
          10.48,
          10.5,
          10.59,
          10.65,
          10.68,
          10.77,
          10.99,
          11,
          11.03,
          11.1,
          11.24,
          11.44,
          11.45,
          11.45,
          11.76,
          11.8
         ],
         "xaxis": "x",
         "y": [
          338.04804365841767,
          338.04804365841767,
          340.2110552581007,
          341.07625989797384,
          366.5997967742328,
          367.4650014141059,
          370.92581997359866,
          391.2581290106185,
          391.6907313305551,
          397.7471638096674,
          399.91017540935024,
          401.6405846890967,
          402.9383916489064,
          402.9383916489064,
          405.534005568526,
          407.69701716820896,
          408.5622218080822,
          408.99482412801876,
          410.29263108782845,
          411.1578357277017,
          412.88824500744806,
          414.61865428719443,
          423.2707006859263,
          427.59672388529214,
          428.89453084510194,
          429.75973548497507,
          431.0575424447849,
          431.9227470846581,
          432.3553494045947,
          435.38356564415085,
          435.38356564415085,
          438.411781883707,
          438.8443842036436,
          440.57479348338984,
          447.06382828243875,
          450.0920445219949,
          455.7158746811707,
          457.44628396091696,
          457.44628396091696,
          466.96353499952204,
          466.96353499952204,
          467.82873963939517,
          471.72216051882447,
          474.3177744384441,
          475.61558139825377,
          479.5090022776832,
          489.02625331628815,
          489.4588556362247,
          490.7566625960345,
          493.7848788355907,
          499.8413113147029,
          508.49335771343476,
          508.9259600333713,
          508.9259600333713,
          522.3366319514057,
          524.0670412311521
         ],
         "yaxis": "y"
        },
        {
         "hovertemplate": "Boroughs=Brooklyn<br>PM2_5=%{x}<br>asthma_hosp=%{y}<br>year=%{marker.color}<extra></extra>",
         "legendgroup": "",
         "marker": {
          "color": [
           2009,
           2009,
           2009,
           2009,
           2009,
           2009,
           2009,
           2009,
           2009,
           2009,
           2009,
           2010,
           2010,
           2010,
           2010,
           2010,
           2010,
           2010,
           2010,
           2010,
           2010,
           2010,
           2011,
           2011,
           2011,
           2011,
           2011,
           2011,
           2011,
           2011,
           2011,
           2011,
           2011,
           2012,
           2012,
           2012,
           2012,
           2012,
           2012,
           2012,
           2012,
           2012,
           2012,
           2012,
           2013,
           2013,
           2013,
           2013,
           2013,
           2013,
           2013,
           2013,
           2013,
           2013,
           2013,
           2014,
           2014,
           2014,
           2014,
           2014,
           2014,
           2014,
           2014,
           2014,
           2014,
           2014,
           2015,
           2015,
           2015,
           2015,
           2015,
           2015,
           2015,
           2015,
           2015,
           2015,
           2015,
           2016,
           2016,
           2016,
           2016,
           2016,
           2016,
           2016,
           2016,
           2016,
           2016,
           2016
          ],
          "coloraxis": "coloraxis",
          "symbol": "circle"
         },
         "mode": "markers",
         "name": "",
         "orientation": "v",
         "showlegend": false,
         "type": "scatter",
         "x": [
          11.93,
          11.5,
          10.75,
          10.6,
          11.04,
          10.27,
          10.47,
          9.85,
          9.91,
          9.55,
          11.36,
          10.57,
          10.49,
          9.93,
          9.79,
          10.21,
          9.61,
          9.8,
          9.12,
          9.18,
          8.89,
          10.33,
          11.51,
          11.14,
          10.29,
          10.09,
          10.84,
          10.07,
          10.15,
          9.55,
          9.78,
          9.44,
          10.88,
          10.27,
          9.9,
          9.13,
          8.94,
          9.59,
          8.89,
          8.98,
          8.37,
          8.6,
          8.3,
          9.7,
          10,
          9.46,
          8.75,
          8.69,
          9.12,
          8.49,
          8.6,
          8.18,
          8.24,
          8.11,
          9.36,
          10.54,
          9.99,
          9.16,
          9.04,
          9.63,
          8.87,
          8.97,
          8.48,
          8.62,
          8.37,
          9.84,
          10.49,
          9.89,
          8.87,
          8.72,
          9.45,
          8.44,
          8.59,
          8.1,
          8.13,
          7.72,
          9.61,
          9.46,
          8.86,
          7.94,
          7.8,
          8.4,
          7.45,
          7.64,
          7.12,
          7.11,
          6.75,
          8.67
         ],
         "xaxis": "x2",
         "y": [
          88,
          176,
          645,
          376,
          62,
          97,
          446,
          195,
          34,
          101,
          503,
          48,
          135,
          559,
          348,
          56,
          64,
          361,
          160,
          20,
          90,
          402,
          43,
          176,
          582,
          313,
          64,
          103,
          361,
          176,
          42,
          67,
          387,
          34,
          171,
          591,
          329,
          57,
          90,
          387,
          191,
          44,
          85,
          387,
          26,
          130,
          581,
          346,
          63,
          70,
          409,
          191,
          30,
          74,
          292,
          46,
          121,
          607,
          366,
          54,
          73,
          460,
          159,
          17,
          82,
          292,
          27,
          114,
          506,
          349,
          37,
          75,
          413,
          179,
          27,
          58,
          219,
          26,
          112,
          473,
          361,
          33,
          72,
          364,
          172,
          30,
          84,
          240
         ],
         "yaxis": "y2"
        },
        {
         "hovertemplate": "<b>OLS trendline</b><br>asthma_hosp = 11.6459 * PM2_5 + 96.7974<br>R<sup>2</sup>=0.005011<br><br>Boroughs=Brooklyn<br>PM2_5=%{x}<br>asthma_hosp=%{y} <b>(trend)</b><extra></extra>",
         "legendgroup": "",
         "marker": {
          "symbol": "circle"
         },
         "mode": "lines",
         "name": "",
         "showlegend": false,
         "type": "scatter",
         "x": [
          6.75,
          7.11,
          7.12,
          7.45,
          7.64,
          7.72,
          7.8,
          7.94,
          8.1,
          8.11,
          8.13,
          8.18,
          8.24,
          8.3,
          8.37,
          8.37,
          8.4,
          8.44,
          8.48,
          8.49,
          8.59,
          8.6,
          8.6,
          8.62,
          8.67,
          8.69,
          8.72,
          8.75,
          8.86,
          8.87,
          8.87,
          8.89,
          8.89,
          8.94,
          8.97,
          8.98,
          9.04,
          9.12,
          9.12,
          9.13,
          9.16,
          9.18,
          9.36,
          9.44,
          9.45,
          9.46,
          9.46,
          9.55,
          9.55,
          9.59,
          9.61,
          9.61,
          9.63,
          9.7,
          9.78,
          9.79,
          9.8,
          9.84,
          9.85,
          9.89,
          9.9,
          9.91,
          9.93,
          9.99,
          10,
          10.07,
          10.09,
          10.15,
          10.21,
          10.27,
          10.27,
          10.29,
          10.33,
          10.47,
          10.49,
          10.49,
          10.54,
          10.57,
          10.6,
          10.75,
          10.84,
          10.88,
          11.04,
          11.14,
          11.36,
          11.5,
          11.51,
          11.93
         ],
         "xaxis": "x2",
         "y": [
          175.40715713651687,
          179.59967834165968,
          179.71613726402478,
          183.55928170207235,
          185.77200122700884,
          186.70367260592946,
          187.6353439848501,
          189.2657688979612,
          191.12911165580243,
          191.24557057816753,
          191.4784884228977,
          192.06078303472307,
          192.75953656891355,
          193.45829010310405,
          194.27350255965956,
          194.27350255965956,
          194.6228793267548,
          195.0887150162151,
          195.55455070567544,
          195.6710096280405,
          196.8355988516913,
          196.95205777405636,
          196.95205777405636,
          197.1849756187865,
          197.76727023061193,
          198.00018807534207,
          198.3495648424373,
          198.69894160953254,
          199.9799897555484,
          200.0964486779135,
          200.0964486779135,
          200.32936652264365,
          200.32936652264365,
          200.91166113446903,
          201.2610379015643,
          201.37749682392933,
          202.0762503581198,
          203.00792173704042,
          203.00792173704042,
          203.12438065940552,
          203.47375742650075,
          203.7066752712309,
          205.8029358738023,
          206.73460725272292,
          206.85106617508802,
          206.96752509745312,
          206.96752509745312,
          208.01565539873883,
          208.01565539873883,
          208.4814910881991,
          208.71440893292927,
          208.71440893292927,
          208.94732677765944,
          209.76253923421498,
          210.69421061313562,
          210.81066953550067,
          210.92712845786576,
          211.3929641473261,
          211.50942306969114,
          211.97525875915147,
          212.09171768151657,
          212.20817660388164,
          212.4410944486118,
          213.13984798280228,
          213.25630690516732,
          214.0715193617229,
          214.30443720645303,
          215.0031907406435,
          215.70194427483398,
          216.40069780902445,
          216.40069780902445,
          216.6336156537546,
          217.09945134321492,
          218.729876256326,
          218.96279410105618,
          218.96279410105618,
          219.54508871288158,
          219.89446547997682,
          220.24384224707205,
          221.99072608254824,
          223.03885638383392,
          223.50469207329422,
          225.36803483113547,
          226.53262405478628,
          229.09472034681798,
          230.7251452599291,
          230.84160418229416,
          235.73287892162745
         ],
         "yaxis": "y2"
        },
        {
         "hovertemplate": "Boroughs=Manhattan<br>PM2_5=%{x}<br>asthma_hosp=%{y}<br>year=%{marker.color}<extra></extra>",
         "legendgroup": "",
         "marker": {
          "color": [
           2009,
           2009,
           2009,
           2009,
           2009,
           2009,
           2009,
           2009,
           2009,
           2009,
           2010,
           2010,
           2010,
           2010,
           2010,
           2010,
           2010,
           2010,
           2010,
           2010,
           2011,
           2011,
           2011,
           2011,
           2011,
           2011,
           2011,
           2011,
           2011,
           2011,
           2012,
           2012,
           2012,
           2012,
           2012,
           2012,
           2012,
           2012,
           2012,
           2012,
           2013,
           2013,
           2013,
           2013,
           2013,
           2013,
           2013,
           2013,
           2013,
           2013,
           2014,
           2014,
           2014,
           2014,
           2014,
           2014,
           2014,
           2014,
           2014,
           2014,
           2015,
           2015,
           2015,
           2015,
           2015,
           2015,
           2015,
           2015,
           2015,
           2015,
           2016,
           2016,
           2016,
           2016,
           2016,
           2016,
           2016,
           2016,
           2016,
           2016
          ],
          "coloraxis": "coloraxis",
          "symbol": "circle"
         },
         "mode": "markers",
         "name": "",
         "orientation": "v",
         "showlegend": false,
         "type": "scatter",
         "x": [
          11.55,
          11.6,
          11.55,
          12.18,
          12.88,
          14.24,
          15.03,
          12.75,
          12.08,
          13.06,
          10.71,
          10.62,
          10.41,
          11.01,
          11.83,
          13.21,
          14.24,
          11.56,
          10.87,
          12.19,
          11.12,
          11.13,
          11.12,
          11.49,
          12.1,
          13.27,
          13.93,
          12.04,
          11.44,
          12.28,
          9.89,
          9.99,
          9.98,
          10.46,
          11.19,
          12.42,
          13.23,
          10.99,
          10.35,
          11.32,
          9.48,
          9.7,
          9.73,
          10.35,
          11.1,
          12.41,
          13.2,
          10.81,
          10.15,
          11.06,
          9.49,
          9.73,
          9.84,
          10.42,
          11.15,
          12.53,
          13.23,
          11.17,
          10.53,
          11.36,
          9.36,
          9.36,
          9.51,
          9.78,
          10.2,
          11.39,
          11.72,
          10.6,
          10.06,
          10.54,
          7.81,
          7.95,
          8.19,
          8.49,
          9.07,
          10.32,
          10.76,
          9.52,
          9.02,
          9.53
         ],
         "xaxis": "x3",
         "y": [
          168,
          298,
          254,
          87,
          49,
          27,
          17,
          8,
          80,
          10,
          176,
          246,
          240,
          77,
          48,
          32,
          20,
          0,
          59,
          8,
          164,
          259,
          212,
          75,
          51,
          25,
          9,
          0,
          67,
          9,
          160,
          299,
          203,
          57,
          53,
          30,
          13,
          7,
          77,
          0,
          161,
          276,
          222,
          56,
          41,
          21,
          16,
          6,
          67,
          4,
          217,
          233,
          239,
          64,
          40,
          32,
          14,
          4,
          57,
          2,
          175,
          234,
          197,
          51,
          42,
          21,
          5,
          1,
          67,
          4,
          210,
          284,
          151,
          43,
          39,
          11,
          8,
          4,
          73,
          7
         ],
         "yaxis": "y3"
        },
        {
         "hovertemplate": "<b>OLS trendline</b><br>asthma_hosp = -29.8708 * PM2_5 + 418.459<br>R<sup>2</sup>=0.228162<br><br>Boroughs=Manhattan<br>PM2_5=%{x}<br>asthma_hosp=%{y} <b>(trend)</b><extra></extra>",
         "legendgroup": "",
         "marker": {
          "symbol": "circle"
         },
         "mode": "lines",
         "name": "",
         "showlegend": false,
         "type": "scatter",
         "x": [
          7.81,
          7.95,
          8.19,
          8.49,
          9.02,
          9.07,
          9.36,
          9.36,
          9.48,
          9.49,
          9.51,
          9.52,
          9.53,
          9.7,
          9.73,
          9.73,
          9.78,
          9.84,
          9.89,
          9.98,
          9.99,
          10.06,
          10.15,
          10.2,
          10.32,
          10.35,
          10.35,
          10.41,
          10.42,
          10.46,
          10.53,
          10.54,
          10.6,
          10.62,
          10.71,
          10.76,
          10.81,
          10.87,
          10.99,
          11.01,
          11.06,
          11.1,
          11.12,
          11.12,
          11.13,
          11.15,
          11.17,
          11.19,
          11.32,
          11.36,
          11.39,
          11.44,
          11.49,
          11.55,
          11.55,
          11.56,
          11.6,
          11.72,
          11.83,
          12.04,
          12.08,
          12.1,
          12.18,
          12.19,
          12.28,
          12.41,
          12.42,
          12.53,
          12.75,
          12.88,
          13.06,
          13.2,
          13.21,
          13.23,
          13.23,
          13.27,
          13.93,
          14.24,
          14.24,
          15.03
         ],
         "xaxis": "x3",
         "y": [
          185.16771192395558,
          180.98580178793,
          173.81681298331478,
          164.85557697754572,
          149.0240600340204,
          147.53052069972557,
          138.86799256081554,
          138.86799256081554,
          135.28349815850788,
          134.9847902916489,
          134.38737455793097,
          134.08866669107204,
          133.78995882421304,
          128.7119250876106,
          127.81580148703364,
          127.81580148703364,
          126.32226215273886,
          124.53001495158503,
          123.0364756172902,
          120.34810481555945,
          120.04939694870052,
          117.9584418806877,
          115.27007107895702,
          113.77653174466218,
          110.19203734235452,
          109.29591374177767,
          109.29591374177767,
          107.50366654062384,
          107.20495867376485,
          106.010127206329,
          103.91917213831624,
          103.62046427145731,
          101.82821707030348,
          101.23080133658556,
          98.54243053485476,
          97.04889120055998,
          95.55535186626508,
          93.76310466511131,
          90.17861026280366,
          89.58119452908574,
          88.0876551947909,
          86.89282372735505,
          86.29540799363713,
          86.29540799363713,
          85.99670012677814,
          85.39928439306021,
          84.80186865934229,
          84.20445292562437,
          80.32125065645772,
          79.12641918902187,
          78.23029558844496,
          76.73675625415012,
          75.24321691985529,
          73.45096971870146,
          73.45096971870146,
          73.15226185184247,
          71.95743038440662,
          68.37293598209902,
          65.08714944665036,
          58.814284242612075,
          57.61945277517617,
          57.02203704145825,
          54.6323741065865,
          54.333666239727506,
          51.64529543799682,
          47.76209316883023,
          47.46338530197124,
          44.177598766522635,
          37.606025695625306,
          33.72282342645866,
          28.34608182299729,
          24.16417168697177,
          23.865463820112723,
          23.2680480863948,
          23.2680480863948,
          22.073216618958952,
          2.3584974062670767,
          -6.901446466360937,
          -6.901446466360937,
          -30.4993679482194
         ],
         "yaxis": "y3"
        },
        {
         "hovertemplate": "Boroughs=Queens<br>PM2_5=%{x}<br>asthma_hosp=%{y}<br>year=%{marker.color}<extra></extra>",
         "legendgroup": "",
         "marker": {
          "color": [
           2009,
           2009,
           2009,
           2009,
           2009,
           2009,
           2009,
           2009,
           2009,
           2009,
           2010,
           2010,
           2010,
           2010,
           2010,
           2010,
           2010,
           2010,
           2010,
           2010,
           2011,
           2011,
           2011,
           2011,
           2011,
           2011,
           2011,
           2011,
           2011,
           2011,
           2012,
           2012,
           2012,
           2012,
           2012,
           2012,
           2012,
           2012,
           2012,
           2012,
           2013,
           2013,
           2013,
           2013,
           2013,
           2013,
           2013,
           2013,
           2013,
           2013,
           2014,
           2014,
           2014,
           2014,
           2014,
           2014,
           2014,
           2014,
           2014,
           2014,
           2015,
           2015,
           2015,
           2015,
           2015,
           2015,
           2015,
           2015,
           2015,
           2015,
           2016,
           2016,
           2016,
           2016,
           2016,
           2016,
           2016,
           2016,
           2016,
           2016
          ],
          "coloraxis": "coloraxis",
          "symbol": "circle"
         },
         "mode": "markers",
         "name": "",
         "orientation": "v",
         "showlegend": false,
         "type": "scatter",
         "x": [
          11.4,
          10.99,
          10.16,
          9.72,
          10.44,
          10,
          9.96,
          9.95,
          9.35,
          8.75,
          10.05,
          9.89,
          9.34,
          8.98,
          9.52,
          9.25,
          9.19,
          9.25,
          8.65,
          7.99,
          11.02,
          10.6,
          10.05,
          9.71,
          9.95,
          9.74,
          9.43,
          9.57,
          9.17,
          8.44,
          9.84,
          9.46,
          8.9,
          8.55,
          8.83,
          8.63,
          8.32,
          8.48,
          8.04,
          7.36,
          9.6,
          9.13,
          8.39,
          8.08,
          8.51,
          8.21,
          8.14,
          8.27,
          7.85,
          7.61,
          9.98,
          9.47,
          8.65,
          8.31,
          8.85,
          8.43,
          8.39,
          8.46,
          8.02,
          7.69,
          9.78,
          9.17,
          8.45,
          8.26,
          8.51,
          8.19,
          8.05,
          8.2,
          7.9,
          7.16,
          8.65,
          8.14,
          7.22,
          6.88,
          7.56,
          7.03,
          7.02,
          6.99,
          6.51,
          5.98
         ],
         "xaxis": "x4",
         "y": [
          79,
          225,
          84,
          34,
          157,
          50,
          269,
          431,
          224,
          185,
          86,
          197,
          89,
          23,
          160,
          46,
          226,
          343,
          173,
          177,
          80,
          187,
          83,
          7,
          149,
          48,
          170,
          267,
          157,
          132,
          70,
          234,
          68,
          31,
          146,
          37,
          218,
          257,
          176,
          86,
          66,
          202,
          82,
          12,
          87,
          49,
          181,
          288,
          158,
          86,
          67,
          249,
          75,
          21,
          109,
          34,
          209,
          276,
          162,
          100,
          47,
          177,
          70,
          19,
          95,
          57,
          183,
          261,
          135,
          86,
          55,
          199,
          79,
          7,
          97,
          51,
          146,
          239,
          115,
          73
         ],
         "yaxis": "y4"
        },
        {
         "hovertemplate": "<b>OLS trendline</b><br>asthma_hosp = 9.85439 * PM2_5 + 45.5151<br>R<sup>2</sup>=0.014922<br><br>Boroughs=Queens<br>PM2_5=%{x}<br>asthma_hosp=%{y} <b>(trend)</b><extra></extra>",
         "legendgroup": "",
         "marker": {
          "symbol": "circle"
         },
         "mode": "lines",
         "name": "",
         "showlegend": false,
         "type": "scatter",
         "x": [
          5.98,
          6.51,
          6.88,
          6.99,
          7.02,
          7.03,
          7.16,
          7.22,
          7.36,
          7.56,
          7.61,
          7.69,
          7.85,
          7.9,
          7.99,
          8.02,
          8.04,
          8.05,
          8.08,
          8.14,
          8.14,
          8.19,
          8.2,
          8.21,
          8.26,
          8.27,
          8.31,
          8.32,
          8.39,
          8.39,
          8.43,
          8.44,
          8.45,
          8.46,
          8.48,
          8.51,
          8.51,
          8.55,
          8.63,
          8.65,
          8.65,
          8.65,
          8.75,
          8.83,
          8.85,
          8.9,
          8.98,
          9.13,
          9.17,
          9.17,
          9.19,
          9.25,
          9.25,
          9.34,
          9.35,
          9.43,
          9.46,
          9.47,
          9.52,
          9.57,
          9.6,
          9.71,
          9.72,
          9.74,
          9.78,
          9.84,
          9.89,
          9.95,
          9.95,
          9.96,
          9.98,
          10,
          10.05,
          10.05,
          10.16,
          10.44,
          10.6,
          10.99,
          11.02,
          11.4
         ],
         "xaxis": "x4",
         "y": [
          104.44435129723652,
          109.6671759036197,
          113.31329874203814,
          114.39728120751391,
          114.6929127890073,
          114.79145664950508,
          116.07252683597642,
          116.66378999896321,
          118.04340404593236,
          120.01428125588825,
          120.50700055837726,
          121.29535144235962,
          122.87205321032434,
          123.36477251281332,
          124.25166725729349,
          124.54729883878687,
          124.74438655978247,
          124.84293042028028,
          125.13856200177364,
          125.72982516476043,
          125.72982516476043,
          126.2225444672494,
          126.32108832774719,
          126.419632188245,
          126.91235149073398,
          127.01089535123177,
          127.40507079322296,
          127.50361465372075,
          128.19342167720532,
          128.19342167720532,
          128.5875971191965,
          128.6861409796943,
          128.78468484019209,
          128.8832287006899,
          129.0803164216855,
          129.37594800317888,
          129.37594800317888,
          129.77012344517007,
          130.55847432915243,
          130.75556205014803,
          130.75556205014803,
          130.75556205014803,
          131.74100065512596,
          132.52935153910835,
          132.72643926010392,
          133.21915856259292,
          134.00750944657528,
          135.48566735404222,
          135.8798427960334,
          135.8798427960334,
          136.07693051702898,
          136.66819368001578,
          136.66819368001578,
          137.55508842449592,
          137.65363228499373,
          138.4419831689761,
          138.73761475046948,
          138.8361586109673,
          139.32887791345624,
          139.82159721594525,
          140.11722879743863,
          141.20121126291437,
          141.29975512341218,
          141.49684284440775,
          141.89101828639895,
          142.4822814493857,
          142.97500075187472,
          143.56626391486148,
          143.56626391486148,
          143.6648077753593,
          143.86189549635486,
          144.05898321735046,
          144.55170251983944,
          144.55170251983944,
          145.63568498531518,
          148.39491307925346,
          149.9716148472182,
          153.81482540663225,
          154.11045698812563,
          157.85512368704187
         ],
         "yaxis": "y4"
        },
        {
         "hovertemplate": "Boroughs=Staten Island<br>PM2_5=%{x}<br>asthma_hosp=%{y}<br>year=%{marker.color}<extra></extra>",
         "legendgroup": "",
         "marker": {
          "color": [
           2009,
           2009,
           2009,
           2009,
           2010,
           2010,
           2010,
           2010,
           2011,
           2011,
           2011,
           2011,
           2012,
           2012,
           2012,
           2012,
           2013,
           2013,
           2013,
           2013,
           2014,
           2014,
           2014,
           2014,
           2015,
           2015,
           2015,
           2015,
           2016,
           2016,
           2016,
           2016
          ],
          "coloraxis": "coloraxis",
          "symbol": "circle"
         },
         "mode": "markers",
         "name": "",
         "orientation": "v",
         "showlegend": false,
         "type": "scatter",
         "x": [
          10.22,
          9.63,
          10.1,
          9.63,
          9.02,
          8.64,
          8.99,
          8.71,
          9.73,
          9.36,
          9.63,
          9.29,
          8.55,
          8.18,
          8.52,
          8.28,
          8.27,
          7.9,
          8.22,
          7.82,
          8.79,
          8.34,
          8.68,
          8.2,
          8.34,
          7.82,
          8.01,
          7.29,
          7.3,
          6.8,
          7.1,
          6.59
         ],
         "xaxis": "x5",
         "y": [
          80,
          78,
          35,
          47,
          56,
          85,
          12,
          43,
          65,
          63,
          18,
          36,
          79,
          65,
          14,
          38,
          64,
          77,
          12,
          39,
          67,
          80,
          11,
          40,
          68,
          59,
          12,
          38,
          83,
          72,
          12,
          36
         ],
         "yaxis": "y5"
        },
        {
         "hovertemplate": "<b>OLS trendline</b><br>asthma_hosp = 1.77486 * PM2_5 + 34.4164<br>R<sup>2</sup>=0.004290<br><br>Boroughs=Staten Island<br>PM2_5=%{x}<br>asthma_hosp=%{y} <b>(trend)</b><extra></extra>",
         "legendgroup": "",
         "marker": {
          "symbol": "circle"
         },
         "mode": "lines",
         "name": "",
         "showlegend": false,
         "type": "scatter",
         "x": [
          6.59,
          6.8,
          7.1,
          7.29,
          7.3,
          7.82,
          7.82,
          7.9,
          8.01,
          8.18,
          8.2,
          8.22,
          8.27,
          8.28,
          8.34,
          8.34,
          8.52,
          8.55,
          8.64,
          8.68,
          8.71,
          8.79,
          8.99,
          9.02,
          9.29,
          9.36,
          9.63,
          9.63,
          9.63,
          9.73,
          10.1,
          10.22
         ],
         "xaxis": "x5",
         "y": [
          46.11278343247947,
          46.48550482323987,
          47.01796395289759,
          47.35518806834748,
          47.37293670600274,
          48.29586586407612,
          48.29586586407612,
          48.43785496531818,
          48.63308997952601,
          48.934816819665386,
          48.9703140949759,
          49.005811370286416,
          49.0945545585627,
          49.11230319621796,
          49.2187950221495,
          49.2187950221495,
          49.53827049994413,
          49.59151641290991,
          49.751254151807224,
          49.822248702428254,
          49.875494615394025,
          50.01748371663608,
          50.37245646974123,
          50.425702382707,
          50.90491559939895,
          51.02915606298575,
          51.5083692796777,
          51.5083692796777,
          51.5083692796777,
          51.685855656230274,
          52.3425552494748,
          52.55553890133788
         ],
         "yaxis": "y5"
        }
       ],
       "layout": {
        "annotations": [
         {
          "font": {},
          "showarrow": false,
          "text": "Boroughs=Bronx",
          "x": 0.09200000000000001,
          "xanchor": "center",
          "xref": "paper",
          "y": 1,
          "yanchor": "bottom",
          "yref": "paper"
         },
         {
          "font": {},
          "showarrow": false,
          "text": "Boroughs=Brooklyn",
          "x": 0.29600000000000004,
          "xanchor": "center",
          "xref": "paper",
          "y": 1,
          "yanchor": "bottom",
          "yref": "paper"
         },
         {
          "font": {},
          "showarrow": false,
          "text": "Boroughs=Manhattan",
          "x": 0.5,
          "xanchor": "center",
          "xref": "paper",
          "y": 1,
          "yanchor": "bottom",
          "yref": "paper"
         },
         {
          "font": {},
          "showarrow": false,
          "text": "Boroughs=Queens",
          "x": 0.7040000000000002,
          "xanchor": "center",
          "xref": "paper",
          "y": 1,
          "yanchor": "bottom",
          "yref": "paper"
         },
         {
          "font": {},
          "showarrow": false,
          "text": "Boroughs=Staten Island",
          "x": 0.908,
          "xanchor": "center",
          "xref": "paper",
          "y": 1,
          "yanchor": "bottom",
          "yref": "paper"
         }
        ],
        "coloraxis": {
         "colorbar": {
          "title": {
           "text": "year"
          }
         },
         "colorscale": [
          [
           0,
           "#0d0887"
          ],
          [
           0.1111111111111111,
           "#46039f"
          ],
          [
           0.2222222222222222,
           "#7201a8"
          ],
          [
           0.3333333333333333,
           "#9c179e"
          ],
          [
           0.4444444444444444,
           "#bd3786"
          ],
          [
           0.5555555555555556,
           "#d8576b"
          ],
          [
           0.6666666666666666,
           "#ed7953"
          ],
          [
           0.7777777777777778,
           "#fb9f3a"
          ],
          [
           0.8888888888888888,
           "#fdca26"
          ],
          [
           1,
           "#f0f921"
          ]
         ]
        },
        "legend": {
         "tracegroupgap": 0
        },
        "margin": {
         "t": 60
        },
        "template": {
         "data": {
          "bar": [
           {
            "error_x": {
             "color": "#2a3f5f"
            },
            "error_y": {
             "color": "#2a3f5f"
            },
            "marker": {
             "line": {
              "color": "#E5ECF6",
              "width": 0.5
             },
             "pattern": {
              "fillmode": "overlay",
              "size": 10,
              "solidity": 0.2
             }
            },
            "type": "bar"
           }
          ],
          "barpolar": [
           {
            "marker": {
             "line": {
              "color": "#E5ECF6",
              "width": 0.5
             },
             "pattern": {
              "fillmode": "overlay",
              "size": 10,
              "solidity": 0.2
             }
            },
            "type": "barpolar"
           }
          ],
          "carpet": [
           {
            "aaxis": {
             "endlinecolor": "#2a3f5f",
             "gridcolor": "white",
             "linecolor": "white",
             "minorgridcolor": "white",
             "startlinecolor": "#2a3f5f"
            },
            "baxis": {
             "endlinecolor": "#2a3f5f",
             "gridcolor": "white",
             "linecolor": "white",
             "minorgridcolor": "white",
             "startlinecolor": "#2a3f5f"
            },
            "type": "carpet"
           }
          ],
          "choropleth": [
           {
            "colorbar": {
             "outlinewidth": 0,
             "ticks": ""
            },
            "type": "choropleth"
           }
          ],
          "contour": [
           {
            "colorbar": {
             "outlinewidth": 0,
             "ticks": ""
            },
            "colorscale": [
             [
              0,
              "#0d0887"
             ],
             [
              0.1111111111111111,
              "#46039f"
             ],
             [
              0.2222222222222222,
              "#7201a8"
             ],
             [
              0.3333333333333333,
              "#9c179e"
             ],
             [
              0.4444444444444444,
              "#bd3786"
             ],
             [
              0.5555555555555556,
              "#d8576b"
             ],
             [
              0.6666666666666666,
              "#ed7953"
             ],
             [
              0.7777777777777778,
              "#fb9f3a"
             ],
             [
              0.8888888888888888,
              "#fdca26"
             ],
             [
              1,
              "#f0f921"
             ]
            ],
            "type": "contour"
           }
          ],
          "contourcarpet": [
           {
            "colorbar": {
             "outlinewidth": 0,
             "ticks": ""
            },
            "type": "contourcarpet"
           }
          ],
          "heatmap": [
           {
            "colorbar": {
             "outlinewidth": 0,
             "ticks": ""
            },
            "colorscale": [
             [
              0,
              "#0d0887"
             ],
             [
              0.1111111111111111,
              "#46039f"
             ],
             [
              0.2222222222222222,
              "#7201a8"
             ],
             [
              0.3333333333333333,
              "#9c179e"
             ],
             [
              0.4444444444444444,
              "#bd3786"
             ],
             [
              0.5555555555555556,
              "#d8576b"
             ],
             [
              0.6666666666666666,
              "#ed7953"
             ],
             [
              0.7777777777777778,
              "#fb9f3a"
             ],
             [
              0.8888888888888888,
              "#fdca26"
             ],
             [
              1,
              "#f0f921"
             ]
            ],
            "type": "heatmap"
           }
          ],
          "heatmapgl": [
           {
            "colorbar": {
             "outlinewidth": 0,
             "ticks": ""
            },
            "colorscale": [
             [
              0,
              "#0d0887"
             ],
             [
              0.1111111111111111,
              "#46039f"
             ],
             [
              0.2222222222222222,
              "#7201a8"
             ],
             [
              0.3333333333333333,
              "#9c179e"
             ],
             [
              0.4444444444444444,
              "#bd3786"
             ],
             [
              0.5555555555555556,
              "#d8576b"
             ],
             [
              0.6666666666666666,
              "#ed7953"
             ],
             [
              0.7777777777777778,
              "#fb9f3a"
             ],
             [
              0.8888888888888888,
              "#fdca26"
             ],
             [
              1,
              "#f0f921"
             ]
            ],
            "type": "heatmapgl"
           }
          ],
          "histogram": [
           {
            "marker": {
             "pattern": {
              "fillmode": "overlay",
              "size": 10,
              "solidity": 0.2
             }
            },
            "type": "histogram"
           }
          ],
          "histogram2d": [
           {
            "colorbar": {
             "outlinewidth": 0,
             "ticks": ""
            },
            "colorscale": [
             [
              0,
              "#0d0887"
             ],
             [
              0.1111111111111111,
              "#46039f"
             ],
             [
              0.2222222222222222,
              "#7201a8"
             ],
             [
              0.3333333333333333,
              "#9c179e"
             ],
             [
              0.4444444444444444,
              "#bd3786"
             ],
             [
              0.5555555555555556,
              "#d8576b"
             ],
             [
              0.6666666666666666,
              "#ed7953"
             ],
             [
              0.7777777777777778,
              "#fb9f3a"
             ],
             [
              0.8888888888888888,
              "#fdca26"
             ],
             [
              1,
              "#f0f921"
             ]
            ],
            "type": "histogram2d"
           }
          ],
          "histogram2dcontour": [
           {
            "colorbar": {
             "outlinewidth": 0,
             "ticks": ""
            },
            "colorscale": [
             [
              0,
              "#0d0887"
             ],
             [
              0.1111111111111111,
              "#46039f"
             ],
             [
              0.2222222222222222,
              "#7201a8"
             ],
             [
              0.3333333333333333,
              "#9c179e"
             ],
             [
              0.4444444444444444,
              "#bd3786"
             ],
             [
              0.5555555555555556,
              "#d8576b"
             ],
             [
              0.6666666666666666,
              "#ed7953"
             ],
             [
              0.7777777777777778,
              "#fb9f3a"
             ],
             [
              0.8888888888888888,
              "#fdca26"
             ],
             [
              1,
              "#f0f921"
             ]
            ],
            "type": "histogram2dcontour"
           }
          ],
          "mesh3d": [
           {
            "colorbar": {
             "outlinewidth": 0,
             "ticks": ""
            },
            "type": "mesh3d"
           }
          ],
          "parcoords": [
           {
            "line": {
             "colorbar": {
              "outlinewidth": 0,
              "ticks": ""
             }
            },
            "type": "parcoords"
           }
          ],
          "pie": [
           {
            "automargin": true,
            "type": "pie"
           }
          ],
          "scatter": [
           {
            "marker": {
             "colorbar": {
              "outlinewidth": 0,
              "ticks": ""
             }
            },
            "type": "scatter"
           }
          ],
          "scatter3d": [
           {
            "line": {
             "colorbar": {
              "outlinewidth": 0,
              "ticks": ""
             }
            },
            "marker": {
             "colorbar": {
              "outlinewidth": 0,
              "ticks": ""
             }
            },
            "type": "scatter3d"
           }
          ],
          "scattercarpet": [
           {
            "marker": {
             "colorbar": {
              "outlinewidth": 0,
              "ticks": ""
             }
            },
            "type": "scattercarpet"
           }
          ],
          "scattergeo": [
           {
            "marker": {
             "colorbar": {
              "outlinewidth": 0,
              "ticks": ""
             }
            },
            "type": "scattergeo"
           }
          ],
          "scattergl": [
           {
            "marker": {
             "colorbar": {
              "outlinewidth": 0,
              "ticks": ""
             }
            },
            "type": "scattergl"
           }
          ],
          "scattermapbox": [
           {
            "marker": {
             "colorbar": {
              "outlinewidth": 0,
              "ticks": ""
             }
            },
            "type": "scattermapbox"
           }
          ],
          "scatterpolar": [
           {
            "marker": {
             "colorbar": {
              "outlinewidth": 0,
              "ticks": ""
             }
            },
            "type": "scatterpolar"
           }
          ],
          "scatterpolargl": [
           {
            "marker": {
             "colorbar": {
              "outlinewidth": 0,
              "ticks": ""
             }
            },
            "type": "scatterpolargl"
           }
          ],
          "scatterternary": [
           {
            "marker": {
             "colorbar": {
              "outlinewidth": 0,
              "ticks": ""
             }
            },
            "type": "scatterternary"
           }
          ],
          "surface": [
           {
            "colorbar": {
             "outlinewidth": 0,
             "ticks": ""
            },
            "colorscale": [
             [
              0,
              "#0d0887"
             ],
             [
              0.1111111111111111,
              "#46039f"
             ],
             [
              0.2222222222222222,
              "#7201a8"
             ],
             [
              0.3333333333333333,
              "#9c179e"
             ],
             [
              0.4444444444444444,
              "#bd3786"
             ],
             [
              0.5555555555555556,
              "#d8576b"
             ],
             [
              0.6666666666666666,
              "#ed7953"
             ],
             [
              0.7777777777777778,
              "#fb9f3a"
             ],
             [
              0.8888888888888888,
              "#fdca26"
             ],
             [
              1,
              "#f0f921"
             ]
            ],
            "type": "surface"
           }
          ],
          "table": [
           {
            "cells": {
             "fill": {
              "color": "#EBF0F8"
             },
             "line": {
              "color": "white"
             }
            },
            "header": {
             "fill": {
              "color": "#C8D4E3"
             },
             "line": {
              "color": "white"
             }
            },
            "type": "table"
           }
          ]
         },
         "layout": {
          "annotationdefaults": {
           "arrowcolor": "#2a3f5f",
           "arrowhead": 0,
           "arrowwidth": 1
          },
          "autotypenumbers": "strict",
          "coloraxis": {
           "colorbar": {
            "outlinewidth": 0,
            "ticks": ""
           }
          },
          "colorscale": {
           "diverging": [
            [
             0,
             "#8e0152"
            ],
            [
             0.1,
             "#c51b7d"
            ],
            [
             0.2,
             "#de77ae"
            ],
            [
             0.3,
             "#f1b6da"
            ],
            [
             0.4,
             "#fde0ef"
            ],
            [
             0.5,
             "#f7f7f7"
            ],
            [
             0.6,
             "#e6f5d0"
            ],
            [
             0.7,
             "#b8e186"
            ],
            [
             0.8,
             "#7fbc41"
            ],
            [
             0.9,
             "#4d9221"
            ],
            [
             1,
             "#276419"
            ]
           ],
           "sequential": [
            [
             0,
             "#0d0887"
            ],
            [
             0.1111111111111111,
             "#46039f"
            ],
            [
             0.2222222222222222,
             "#7201a8"
            ],
            [
             0.3333333333333333,
             "#9c179e"
            ],
            [
             0.4444444444444444,
             "#bd3786"
            ],
            [
             0.5555555555555556,
             "#d8576b"
            ],
            [
             0.6666666666666666,
             "#ed7953"
            ],
            [
             0.7777777777777778,
             "#fb9f3a"
            ],
            [
             0.8888888888888888,
             "#fdca26"
            ],
            [
             1,
             "#f0f921"
            ]
           ],
           "sequentialminus": [
            [
             0,
             "#0d0887"
            ],
            [
             0.1111111111111111,
             "#46039f"
            ],
            [
             0.2222222222222222,
             "#7201a8"
            ],
            [
             0.3333333333333333,
             "#9c179e"
            ],
            [
             0.4444444444444444,
             "#bd3786"
            ],
            [
             0.5555555555555556,
             "#d8576b"
            ],
            [
             0.6666666666666666,
             "#ed7953"
            ],
            [
             0.7777777777777778,
             "#fb9f3a"
            ],
            [
             0.8888888888888888,
             "#fdca26"
            ],
            [
             1,
             "#f0f921"
            ]
           ]
          },
          "colorway": [
           "#636efa",
           "#EF553B",
           "#00cc96",
           "#ab63fa",
           "#FFA15A",
           "#19d3f3",
           "#FF6692",
           "#B6E880",
           "#FF97FF",
           "#FECB52"
          ],
          "font": {
           "color": "#2a3f5f"
          },
          "geo": {
           "bgcolor": "white",
           "lakecolor": "white",
           "landcolor": "#E5ECF6",
           "showlakes": true,
           "showland": true,
           "subunitcolor": "white"
          },
          "hoverlabel": {
           "align": "left"
          },
          "hovermode": "closest",
          "mapbox": {
           "style": "light"
          },
          "paper_bgcolor": "white",
          "plot_bgcolor": "#E5ECF6",
          "polar": {
           "angularaxis": {
            "gridcolor": "white",
            "linecolor": "white",
            "ticks": ""
           },
           "bgcolor": "#E5ECF6",
           "radialaxis": {
            "gridcolor": "white",
            "linecolor": "white",
            "ticks": ""
           }
          },
          "scene": {
           "xaxis": {
            "backgroundcolor": "#E5ECF6",
            "gridcolor": "white",
            "gridwidth": 2,
            "linecolor": "white",
            "showbackground": true,
            "ticks": "",
            "zerolinecolor": "white"
           },
           "yaxis": {
            "backgroundcolor": "#E5ECF6",
            "gridcolor": "white",
            "gridwidth": 2,
            "linecolor": "white",
            "showbackground": true,
            "ticks": "",
            "zerolinecolor": "white"
           },
           "zaxis": {
            "backgroundcolor": "#E5ECF6",
            "gridcolor": "white",
            "gridwidth": 2,
            "linecolor": "white",
            "showbackground": true,
            "ticks": "",
            "zerolinecolor": "white"
           }
          },
          "shapedefaults": {
           "line": {
            "color": "#2a3f5f"
           }
          },
          "ternary": {
           "aaxis": {
            "gridcolor": "white",
            "linecolor": "white",
            "ticks": ""
           },
           "baxis": {
            "gridcolor": "white",
            "linecolor": "white",
            "ticks": ""
           },
           "bgcolor": "#E5ECF6",
           "caxis": {
            "gridcolor": "white",
            "linecolor": "white",
            "ticks": ""
           }
          },
          "title": {
           "x": 0.05
          },
          "xaxis": {
           "automargin": true,
           "gridcolor": "white",
           "linecolor": "white",
           "ticks": "",
           "title": {
            "standoff": 15
           },
           "zerolinecolor": "white",
           "zerolinewidth": 2
          },
          "yaxis": {
           "automargin": true,
           "gridcolor": "white",
           "linecolor": "white",
           "ticks": "",
           "title": {
            "standoff": 15
           },
           "zerolinecolor": "white",
           "zerolinewidth": 2
          }
         }
        },
        "xaxis": {
         "anchor": "y",
         "domain": [
          0,
          0.18400000000000002
         ],
         "title": {
          "text": "PM2_5"
         }
        },
        "xaxis2": {
         "anchor": "y2",
         "domain": [
          0.20400000000000001,
          0.388
         ],
         "matches": "x",
         "title": {
          "text": "PM2_5"
         }
        },
        "xaxis3": {
         "anchor": "y3",
         "domain": [
          0.40800000000000003,
          0.5920000000000001
         ],
         "matches": "x",
         "title": {
          "text": "PM2_5"
         }
        },
        "xaxis4": {
         "anchor": "y4",
         "domain": [
          0.6120000000000001,
          0.7960000000000002
         ],
         "matches": "x",
         "title": {
          "text": "PM2_5"
         }
        },
        "xaxis5": {
         "anchor": "y5",
         "domain": [
          0.8160000000000001,
          1
         ],
         "matches": "x",
         "title": {
          "text": "PM2_5"
         }
        },
        "yaxis": {
         "anchor": "x",
         "domain": [
          0,
          1
         ],
         "title": {
          "text": "asthma_hosp"
         }
        },
        "yaxis2": {
         "anchor": "x2",
         "domain": [
          0,
          1
         ],
         "matches": "y",
         "showticklabels": false
        },
        "yaxis3": {
         "anchor": "x3",
         "domain": [
          0,
          1
         ],
         "matches": "y",
         "showticklabels": false
        },
        "yaxis4": {
         "anchor": "x4",
         "domain": [
          0,
          1
         ],
         "matches": "y",
         "showticklabels": false
        },
        "yaxis5": {
         "anchor": "x5",
         "domain": [
          0,
          1
         ],
         "matches": "y",
         "showticklabels": false
        }
       }
      },
      "text/html": [
       "<div>                            <div id=\"21136677-49ad-436f-bc8a-4927ecbc73ed\" class=\"plotly-graph-div\" style=\"height:525px; width:100%;\"></div>            <script type=\"text/javascript\">                require([\"plotly\"], function(Plotly) {                    window.PLOTLYENV=window.PLOTLYENV || {};                                    if (document.getElementById(\"21136677-49ad-436f-bc8a-4927ecbc73ed\")) {                    Plotly.newPlot(                        \"21136677-49ad-436f-bc8a-4927ecbc73ed\",                        [{\"hovertemplate\":\"Boroughs=Bronx<br>PM2_5=%{x}<br>asthma_hosp=%{y}<br>year=%{marker.color}<extra></extra>\",\"legendgroup\":\"\",\"marker\":{\"color\":[2009,2009,2009,2009,2009,2009,2009,2010,2010,2010,2010,2010,2010,2010,2011,2011,2011,2011,2011,2011,2011,2012,2012,2012,2012,2012,2012,2012,2013,2013,2013,2013,2013,2013,2013,2014,2014,2014,2014,2014,2014,2014,2015,2015,2015,2015,2015,2015,2015,2016,2016,2016,2016,2016,2016,2016],\"coloraxis\":\"coloraxis\",\"symbol\":\"circle\"},\"mode\":\"markers\",\"name\":\"\",\"orientation\":\"v\",\"showlegend\":false,\"x\":[11.03,10.68,11.1,10.59,11.76,11.8,11.45,10.09,9.65,10.26,9.68,10.99,11.0,10.48,10.65,10.48,10.77,10.5,11.45,11.44,11.24,9.27,9.11,9.47,9.23,10.22,10.26,10.02,8.88,8.73,9.06,8.74,9.75,9.83,9.57,9.0,9.0,9.19,8.97,9.82,9.87,9.75,9.17,9.13,9.14,8.93,9.67,9.6,9.62,7.5,7.55,7.57,7.5,8.18,8.16,8.26],\"xaxis\":\"x\",\"y\":[61,282,693,588,631,657,504,74,285,563,491,552,505,435,65,303,528,552,529,533,457,67,320,559,609,524,571,501,72,319,589,515,559,627,453,71,324,648,521,567,624,478,60,268,548,523,463,574,431,53,265,545,441,427,565,361],\"yaxis\":\"y\",\"type\":\"scatter\"},{\"hovertemplate\":\"<b>OLS trendline</b><br>asthma_hosp = 43.2602 * PM2_5 + 13.5963<br>R<sup>2</sup>=0.067301<br><br>Boroughs=Bronx<br>PM2_5=%{x}<br>asthma_hosp=%{y} <b>(trend)</b><extra></extra>\",\"legendgroup\":\"\",\"marker\":{\"symbol\":\"circle\"},\"mode\":\"lines\",\"name\":\"\",\"showlegend\":false,\"x\":[7.5,7.5,7.55,7.57,8.16,8.18,8.26,8.73,8.74,8.88,8.93,8.97,9.0,9.0,9.06,9.11,9.13,9.14,9.17,9.19,9.23,9.27,9.47,9.57,9.6,9.62,9.65,9.67,9.68,9.75,9.75,9.82,9.83,9.87,10.02,10.09,10.22,10.26,10.26,10.48,10.48,10.5,10.59,10.65,10.68,10.77,10.99,11.0,11.03,11.1,11.24,11.44,11.45,11.45,11.76,11.8],\"xaxis\":\"x\",\"y\":[338.04804365841767,338.04804365841767,340.2110552581007,341.07625989797384,366.5997967742328,367.4650014141059,370.92581997359866,391.2581290106185,391.6907313305551,397.7471638096674,399.91017540935024,401.6405846890967,402.9383916489064,402.9383916489064,405.534005568526,407.69701716820896,408.5622218080822,408.99482412801876,410.29263108782845,411.1578357277017,412.88824500744806,414.61865428719443,423.2707006859263,427.59672388529214,428.89453084510194,429.75973548497507,431.0575424447849,431.9227470846581,432.3553494045947,435.38356564415085,435.38356564415085,438.411781883707,438.8443842036436,440.57479348338984,447.06382828243875,450.0920445219949,455.7158746811707,457.44628396091696,457.44628396091696,466.96353499952204,466.96353499952204,467.82873963939517,471.72216051882447,474.3177744384441,475.61558139825377,479.5090022776832,489.02625331628815,489.4588556362247,490.7566625960345,493.7848788355907,499.8413113147029,508.49335771343476,508.9259600333713,508.9259600333713,522.3366319514057,524.0670412311521],\"yaxis\":\"y\",\"type\":\"scatter\"},{\"hovertemplate\":\"Boroughs=Brooklyn<br>PM2_5=%{x}<br>asthma_hosp=%{y}<br>year=%{marker.color}<extra></extra>\",\"legendgroup\":\"\",\"marker\":{\"color\":[2009,2009,2009,2009,2009,2009,2009,2009,2009,2009,2009,2010,2010,2010,2010,2010,2010,2010,2010,2010,2010,2010,2011,2011,2011,2011,2011,2011,2011,2011,2011,2011,2011,2012,2012,2012,2012,2012,2012,2012,2012,2012,2012,2012,2013,2013,2013,2013,2013,2013,2013,2013,2013,2013,2013,2014,2014,2014,2014,2014,2014,2014,2014,2014,2014,2014,2015,2015,2015,2015,2015,2015,2015,2015,2015,2015,2015,2016,2016,2016,2016,2016,2016,2016,2016,2016,2016,2016],\"coloraxis\":\"coloraxis\",\"symbol\":\"circle\"},\"mode\":\"markers\",\"name\":\"\",\"orientation\":\"v\",\"showlegend\":false,\"x\":[11.93,11.5,10.75,10.6,11.04,10.27,10.47,9.85,9.91,9.55,11.36,10.57,10.49,9.93,9.79,10.21,9.61,9.8,9.12,9.18,8.89,10.33,11.51,11.14,10.29,10.09,10.84,10.07,10.15,9.55,9.78,9.44,10.88,10.27,9.9,9.13,8.94,9.59,8.89,8.98,8.37,8.6,8.3,9.7,10.0,9.46,8.75,8.69,9.12,8.49,8.6,8.18,8.24,8.11,9.36,10.54,9.99,9.16,9.04,9.63,8.87,8.97,8.48,8.62,8.37,9.84,10.49,9.89,8.87,8.72,9.45,8.44,8.59,8.1,8.13,7.72,9.61,9.46,8.86,7.94,7.8,8.4,7.45,7.64,7.12,7.11,6.75,8.67],\"xaxis\":\"x2\",\"y\":[88,176,645,376,62,97,446,195,34,101,503,48,135,559,348,56,64,361,160,20,90,402,43,176,582,313,64,103,361,176,42,67,387,34,171,591,329,57,90,387,191,44,85,387,26,130,581,346,63,70,409,191,30,74,292,46,121,607,366,54,73,460,159,17,82,292,27,114,506,349,37,75,413,179,27,58,219,26,112,473,361,33,72,364,172,30,84,240],\"yaxis\":\"y2\",\"type\":\"scatter\"},{\"hovertemplate\":\"<b>OLS trendline</b><br>asthma_hosp = 11.6459 * PM2_5 + 96.7974<br>R<sup>2</sup>=0.005011<br><br>Boroughs=Brooklyn<br>PM2_5=%{x}<br>asthma_hosp=%{y} <b>(trend)</b><extra></extra>\",\"legendgroup\":\"\",\"marker\":{\"symbol\":\"circle\"},\"mode\":\"lines\",\"name\":\"\",\"showlegend\":false,\"x\":[6.75,7.11,7.12,7.45,7.64,7.72,7.8,7.94,8.1,8.11,8.13,8.18,8.24,8.3,8.37,8.37,8.4,8.44,8.48,8.49,8.59,8.6,8.6,8.62,8.67,8.69,8.72,8.75,8.86,8.87,8.87,8.89,8.89,8.94,8.97,8.98,9.04,9.12,9.12,9.13,9.16,9.18,9.36,9.44,9.45,9.46,9.46,9.55,9.55,9.59,9.61,9.61,9.63,9.7,9.78,9.79,9.8,9.84,9.85,9.89,9.9,9.91,9.93,9.99,10.0,10.07,10.09,10.15,10.21,10.27,10.27,10.29,10.33,10.47,10.49,10.49,10.54,10.57,10.6,10.75,10.84,10.88,11.04,11.14,11.36,11.5,11.51,11.93],\"xaxis\":\"x2\",\"y\":[175.40715713651687,179.59967834165968,179.71613726402478,183.55928170207235,185.77200122700884,186.70367260592946,187.6353439848501,189.2657688979612,191.12911165580243,191.24557057816753,191.4784884228977,192.06078303472307,192.75953656891355,193.45829010310405,194.27350255965956,194.27350255965956,194.6228793267548,195.0887150162151,195.55455070567544,195.6710096280405,196.8355988516913,196.95205777405636,196.95205777405636,197.1849756187865,197.76727023061193,198.00018807534207,198.3495648424373,198.69894160953254,199.9799897555484,200.0964486779135,200.0964486779135,200.32936652264365,200.32936652264365,200.91166113446903,201.2610379015643,201.37749682392933,202.0762503581198,203.00792173704042,203.00792173704042,203.12438065940552,203.47375742650075,203.7066752712309,205.8029358738023,206.73460725272292,206.85106617508802,206.96752509745312,206.96752509745312,208.01565539873883,208.01565539873883,208.4814910881991,208.71440893292927,208.71440893292927,208.94732677765944,209.76253923421498,210.69421061313562,210.81066953550067,210.92712845786576,211.3929641473261,211.50942306969114,211.97525875915147,212.09171768151657,212.20817660388164,212.4410944486118,213.13984798280228,213.25630690516732,214.0715193617229,214.30443720645303,215.0031907406435,215.70194427483398,216.40069780902445,216.40069780902445,216.6336156537546,217.09945134321492,218.729876256326,218.96279410105618,218.96279410105618,219.54508871288158,219.89446547997682,220.24384224707205,221.99072608254824,223.03885638383392,223.50469207329422,225.36803483113547,226.53262405478628,229.09472034681798,230.7251452599291,230.84160418229416,235.73287892162745],\"yaxis\":\"y2\",\"type\":\"scatter\"},{\"hovertemplate\":\"Boroughs=Manhattan<br>PM2_5=%{x}<br>asthma_hosp=%{y}<br>year=%{marker.color}<extra></extra>\",\"legendgroup\":\"\",\"marker\":{\"color\":[2009,2009,2009,2009,2009,2009,2009,2009,2009,2009,2010,2010,2010,2010,2010,2010,2010,2010,2010,2010,2011,2011,2011,2011,2011,2011,2011,2011,2011,2011,2012,2012,2012,2012,2012,2012,2012,2012,2012,2012,2013,2013,2013,2013,2013,2013,2013,2013,2013,2013,2014,2014,2014,2014,2014,2014,2014,2014,2014,2014,2015,2015,2015,2015,2015,2015,2015,2015,2015,2015,2016,2016,2016,2016,2016,2016,2016,2016,2016,2016],\"coloraxis\":\"coloraxis\",\"symbol\":\"circle\"},\"mode\":\"markers\",\"name\":\"\",\"orientation\":\"v\",\"showlegend\":false,\"x\":[11.55,11.6,11.55,12.18,12.88,14.24,15.03,12.75,12.08,13.06,10.71,10.62,10.41,11.01,11.83,13.21,14.24,11.56,10.87,12.19,11.12,11.13,11.12,11.49,12.1,13.27,13.93,12.04,11.44,12.28,9.89,9.99,9.98,10.46,11.19,12.42,13.23,10.99,10.35,11.32,9.48,9.7,9.73,10.35,11.1,12.41,13.2,10.81,10.15,11.06,9.49,9.73,9.84,10.42,11.15,12.53,13.23,11.17,10.53,11.36,9.36,9.36,9.51,9.78,10.2,11.39,11.72,10.6,10.06,10.54,7.81,7.95,8.19,8.49,9.07,10.32,10.76,9.52,9.02,9.53],\"xaxis\":\"x3\",\"y\":[168,298,254,87,49,27,17,8,80,10,176,246,240,77,48,32,20,0,59,8,164,259,212,75,51,25,9,0,67,9,160,299,203,57,53,30,13,7,77,0,161,276,222,56,41,21,16,6,67,4,217,233,239,64,40,32,14,4,57,2,175,234,197,51,42,21,5,1,67,4,210,284,151,43,39,11,8,4,73,7],\"yaxis\":\"y3\",\"type\":\"scatter\"},{\"hovertemplate\":\"<b>OLS trendline</b><br>asthma_hosp = -29.8708 * PM2_5 + 418.459<br>R<sup>2</sup>=0.228162<br><br>Boroughs=Manhattan<br>PM2_5=%{x}<br>asthma_hosp=%{y} <b>(trend)</b><extra></extra>\",\"legendgroup\":\"\",\"marker\":{\"symbol\":\"circle\"},\"mode\":\"lines\",\"name\":\"\",\"showlegend\":false,\"x\":[7.81,7.95,8.19,8.49,9.02,9.07,9.36,9.36,9.48,9.49,9.51,9.52,9.53,9.7,9.73,9.73,9.78,9.84,9.89,9.98,9.99,10.06,10.15,10.2,10.32,10.35,10.35,10.41,10.42,10.46,10.53,10.54,10.6,10.62,10.71,10.76,10.81,10.87,10.99,11.01,11.06,11.1,11.12,11.12,11.13,11.15,11.17,11.19,11.32,11.36,11.39,11.44,11.49,11.55,11.55,11.56,11.6,11.72,11.83,12.04,12.08,12.1,12.18,12.19,12.28,12.41,12.42,12.53,12.75,12.88,13.06,13.2,13.21,13.23,13.23,13.27,13.93,14.24,14.24,15.03],\"xaxis\":\"x3\",\"y\":[185.16771192395558,180.98580178793,173.81681298331478,164.85557697754572,149.0240600340204,147.53052069972557,138.86799256081554,138.86799256081554,135.28349815850788,134.9847902916489,134.38737455793097,134.08866669107204,133.78995882421304,128.7119250876106,127.81580148703364,127.81580148703364,126.32226215273886,124.53001495158503,123.0364756172902,120.34810481555945,120.04939694870052,117.9584418806877,115.27007107895702,113.77653174466218,110.19203734235452,109.29591374177767,109.29591374177767,107.50366654062384,107.20495867376485,106.010127206329,103.91917213831624,103.62046427145731,101.82821707030348,101.23080133658556,98.54243053485476,97.04889120055998,95.55535186626508,93.76310466511131,90.17861026280366,89.58119452908574,88.0876551947909,86.89282372735505,86.29540799363713,86.29540799363713,85.99670012677814,85.39928439306021,84.80186865934229,84.20445292562437,80.32125065645772,79.12641918902187,78.23029558844496,76.73675625415012,75.24321691985529,73.45096971870146,73.45096971870146,73.15226185184247,71.95743038440662,68.37293598209902,65.08714944665036,58.814284242612075,57.61945277517617,57.02203704145825,54.6323741065865,54.333666239727506,51.64529543799682,47.76209316883023,47.46338530197124,44.177598766522635,37.606025695625306,33.72282342645866,28.34608182299729,24.16417168697177,23.865463820112723,23.2680480863948,23.2680480863948,22.073216618958952,2.3584974062670767,-6.901446466360937,-6.901446466360937,-30.4993679482194],\"yaxis\":\"y3\",\"type\":\"scatter\"},{\"hovertemplate\":\"Boroughs=Queens<br>PM2_5=%{x}<br>asthma_hosp=%{y}<br>year=%{marker.color}<extra></extra>\",\"legendgroup\":\"\",\"marker\":{\"color\":[2009,2009,2009,2009,2009,2009,2009,2009,2009,2009,2010,2010,2010,2010,2010,2010,2010,2010,2010,2010,2011,2011,2011,2011,2011,2011,2011,2011,2011,2011,2012,2012,2012,2012,2012,2012,2012,2012,2012,2012,2013,2013,2013,2013,2013,2013,2013,2013,2013,2013,2014,2014,2014,2014,2014,2014,2014,2014,2014,2014,2015,2015,2015,2015,2015,2015,2015,2015,2015,2015,2016,2016,2016,2016,2016,2016,2016,2016,2016,2016],\"coloraxis\":\"coloraxis\",\"symbol\":\"circle\"},\"mode\":\"markers\",\"name\":\"\",\"orientation\":\"v\",\"showlegend\":false,\"x\":[11.4,10.99,10.16,9.72,10.44,10.0,9.96,9.95,9.35,8.75,10.05,9.89,9.34,8.98,9.52,9.25,9.19,9.25,8.65,7.99,11.02,10.6,10.05,9.71,9.95,9.74,9.43,9.57,9.17,8.44,9.84,9.46,8.9,8.55,8.83,8.63,8.32,8.48,8.04,7.36,9.6,9.13,8.39,8.08,8.51,8.21,8.14,8.27,7.85,7.61,9.98,9.47,8.65,8.31,8.85,8.43,8.39,8.46,8.02,7.69,9.78,9.17,8.45,8.26,8.51,8.19,8.05,8.2,7.9,7.16,8.65,8.14,7.22,6.88,7.56,7.03,7.02,6.99,6.51,5.98],\"xaxis\":\"x4\",\"y\":[79,225,84,34,157,50,269,431,224,185,86,197,89,23,160,46,226,343,173,177,80,187,83,7,149,48,170,267,157,132,70,234,68,31,146,37,218,257,176,86,66,202,82,12,87,49,181,288,158,86,67,249,75,21,109,34,209,276,162,100,47,177,70,19,95,57,183,261,135,86,55,199,79,7,97,51,146,239,115,73],\"yaxis\":\"y4\",\"type\":\"scatter\"},{\"hovertemplate\":\"<b>OLS trendline</b><br>asthma_hosp = 9.85439 * PM2_5 + 45.5151<br>R<sup>2</sup>=0.014922<br><br>Boroughs=Queens<br>PM2_5=%{x}<br>asthma_hosp=%{y} <b>(trend)</b><extra></extra>\",\"legendgroup\":\"\",\"marker\":{\"symbol\":\"circle\"},\"mode\":\"lines\",\"name\":\"\",\"showlegend\":false,\"x\":[5.98,6.51,6.88,6.99,7.02,7.03,7.16,7.22,7.36,7.56,7.61,7.69,7.85,7.9,7.99,8.02,8.04,8.05,8.08,8.14,8.14,8.19,8.2,8.21,8.26,8.27,8.31,8.32,8.39,8.39,8.43,8.44,8.45,8.46,8.48,8.51,8.51,8.55,8.63,8.65,8.65,8.65,8.75,8.83,8.85,8.9,8.98,9.13,9.17,9.17,9.19,9.25,9.25,9.34,9.35,9.43,9.46,9.47,9.52,9.57,9.6,9.71,9.72,9.74,9.78,9.84,9.89,9.95,9.95,9.96,9.98,10.0,10.05,10.05,10.16,10.44,10.6,10.99,11.02,11.4],\"xaxis\":\"x4\",\"y\":[104.44435129723652,109.6671759036197,113.31329874203814,114.39728120751391,114.6929127890073,114.79145664950508,116.07252683597642,116.66378999896321,118.04340404593236,120.01428125588825,120.50700055837726,121.29535144235962,122.87205321032434,123.36477251281332,124.25166725729349,124.54729883878687,124.74438655978247,124.84293042028028,125.13856200177364,125.72982516476043,125.72982516476043,126.2225444672494,126.32108832774719,126.419632188245,126.91235149073398,127.01089535123177,127.40507079322296,127.50361465372075,128.19342167720532,128.19342167720532,128.5875971191965,128.6861409796943,128.78468484019209,128.8832287006899,129.0803164216855,129.37594800317888,129.37594800317888,129.77012344517007,130.55847432915243,130.75556205014803,130.75556205014803,130.75556205014803,131.74100065512596,132.52935153910835,132.72643926010392,133.21915856259292,134.00750944657528,135.48566735404222,135.8798427960334,135.8798427960334,136.07693051702898,136.66819368001578,136.66819368001578,137.55508842449592,137.65363228499373,138.4419831689761,138.73761475046948,138.8361586109673,139.32887791345624,139.82159721594525,140.11722879743863,141.20121126291437,141.29975512341218,141.49684284440775,141.89101828639895,142.4822814493857,142.97500075187472,143.56626391486148,143.56626391486148,143.6648077753593,143.86189549635486,144.05898321735046,144.55170251983944,144.55170251983944,145.63568498531518,148.39491307925346,149.9716148472182,153.81482540663225,154.11045698812563,157.85512368704187],\"yaxis\":\"y4\",\"type\":\"scatter\"},{\"hovertemplate\":\"Boroughs=Staten Island<br>PM2_5=%{x}<br>asthma_hosp=%{y}<br>year=%{marker.color}<extra></extra>\",\"legendgroup\":\"\",\"marker\":{\"color\":[2009,2009,2009,2009,2010,2010,2010,2010,2011,2011,2011,2011,2012,2012,2012,2012,2013,2013,2013,2013,2014,2014,2014,2014,2015,2015,2015,2015,2016,2016,2016,2016],\"coloraxis\":\"coloraxis\",\"symbol\":\"circle\"},\"mode\":\"markers\",\"name\":\"\",\"orientation\":\"v\",\"showlegend\":false,\"x\":[10.22,9.63,10.1,9.63,9.02,8.64,8.99,8.71,9.73,9.36,9.63,9.29,8.55,8.18,8.52,8.28,8.27,7.9,8.22,7.82,8.79,8.34,8.68,8.2,8.34,7.82,8.01,7.29,7.3,6.8,7.1,6.59],\"xaxis\":\"x5\",\"y\":[80,78,35,47,56,85,12,43,65,63,18,36,79,65,14,38,64,77,12,39,67,80,11,40,68,59,12,38,83,72,12,36],\"yaxis\":\"y5\",\"type\":\"scatter\"},{\"hovertemplate\":\"<b>OLS trendline</b><br>asthma_hosp = 1.77486 * PM2_5 + 34.4164<br>R<sup>2</sup>=0.004290<br><br>Boroughs=Staten Island<br>PM2_5=%{x}<br>asthma_hosp=%{y} <b>(trend)</b><extra></extra>\",\"legendgroup\":\"\",\"marker\":{\"symbol\":\"circle\"},\"mode\":\"lines\",\"name\":\"\",\"showlegend\":false,\"x\":[6.59,6.8,7.1,7.29,7.3,7.82,7.82,7.9,8.01,8.18,8.2,8.22,8.27,8.28,8.34,8.34,8.52,8.55,8.64,8.68,8.71,8.79,8.99,9.02,9.29,9.36,9.63,9.63,9.63,9.73,10.1,10.22],\"xaxis\":\"x5\",\"y\":[46.11278343247947,46.48550482323987,47.01796395289759,47.35518806834748,47.37293670600274,48.29586586407612,48.29586586407612,48.43785496531818,48.63308997952601,48.934816819665386,48.9703140949759,49.005811370286416,49.0945545585627,49.11230319621796,49.2187950221495,49.2187950221495,49.53827049994413,49.59151641290991,49.751254151807224,49.822248702428254,49.875494615394025,50.01748371663608,50.37245646974123,50.425702382707,50.90491559939895,51.02915606298575,51.5083692796777,51.5083692796777,51.5083692796777,51.685855656230274,52.3425552494748,52.55553890133788],\"yaxis\":\"y5\",\"type\":\"scatter\"}],                        {\"template\":{\"data\":{\"bar\":[{\"error_x\":{\"color\":\"#2a3f5f\"},\"error_y\":{\"color\":\"#2a3f5f\"},\"marker\":{\"line\":{\"color\":\"#E5ECF6\",\"width\":0.5},\"pattern\":{\"fillmode\":\"overlay\",\"size\":10,\"solidity\":0.2}},\"type\":\"bar\"}],\"barpolar\":[{\"marker\":{\"line\":{\"color\":\"#E5ECF6\",\"width\":0.5},\"pattern\":{\"fillmode\":\"overlay\",\"size\":10,\"solidity\":0.2}},\"type\":\"barpolar\"}],\"carpet\":[{\"aaxis\":{\"endlinecolor\":\"#2a3f5f\",\"gridcolor\":\"white\",\"linecolor\":\"white\",\"minorgridcolor\":\"white\",\"startlinecolor\":\"#2a3f5f\"},\"baxis\":{\"endlinecolor\":\"#2a3f5f\",\"gridcolor\":\"white\",\"linecolor\":\"white\",\"minorgridcolor\":\"white\",\"startlinecolor\":\"#2a3f5f\"},\"type\":\"carpet\"}],\"choropleth\":[{\"colorbar\":{\"outlinewidth\":0,\"ticks\":\"\"},\"type\":\"choropleth\"}],\"contour\":[{\"colorbar\":{\"outlinewidth\":0,\"ticks\":\"\"},\"colorscale\":[[0.0,\"#0d0887\"],[0.1111111111111111,\"#46039f\"],[0.2222222222222222,\"#7201a8\"],[0.3333333333333333,\"#9c179e\"],[0.4444444444444444,\"#bd3786\"],[0.5555555555555556,\"#d8576b\"],[0.6666666666666666,\"#ed7953\"],[0.7777777777777778,\"#fb9f3a\"],[0.8888888888888888,\"#fdca26\"],[1.0,\"#f0f921\"]],\"type\":\"contour\"}],\"contourcarpet\":[{\"colorbar\":{\"outlinewidth\":0,\"ticks\":\"\"},\"type\":\"contourcarpet\"}],\"heatmap\":[{\"colorbar\":{\"outlinewidth\":0,\"ticks\":\"\"},\"colorscale\":[[0.0,\"#0d0887\"],[0.1111111111111111,\"#46039f\"],[0.2222222222222222,\"#7201a8\"],[0.3333333333333333,\"#9c179e\"],[0.4444444444444444,\"#bd3786\"],[0.5555555555555556,\"#d8576b\"],[0.6666666666666666,\"#ed7953\"],[0.7777777777777778,\"#fb9f3a\"],[0.8888888888888888,\"#fdca26\"],[1.0,\"#f0f921\"]],\"type\":\"heatmap\"}],\"heatmapgl\":[{\"colorbar\":{\"outlinewidth\":0,\"ticks\":\"\"},\"colorscale\":[[0.0,\"#0d0887\"],[0.1111111111111111,\"#46039f\"],[0.2222222222222222,\"#7201a8\"],[0.3333333333333333,\"#9c179e\"],[0.4444444444444444,\"#bd3786\"],[0.5555555555555556,\"#d8576b\"],[0.6666666666666666,\"#ed7953\"],[0.7777777777777778,\"#fb9f3a\"],[0.8888888888888888,\"#fdca26\"],[1.0,\"#f0f921\"]],\"type\":\"heatmapgl\"}],\"histogram\":[{\"marker\":{\"pattern\":{\"fillmode\":\"overlay\",\"size\":10,\"solidity\":0.2}},\"type\":\"histogram\"}],\"histogram2d\":[{\"colorbar\":{\"outlinewidth\":0,\"ticks\":\"\"},\"colorscale\":[[0.0,\"#0d0887\"],[0.1111111111111111,\"#46039f\"],[0.2222222222222222,\"#7201a8\"],[0.3333333333333333,\"#9c179e\"],[0.4444444444444444,\"#bd3786\"],[0.5555555555555556,\"#d8576b\"],[0.6666666666666666,\"#ed7953\"],[0.7777777777777778,\"#fb9f3a\"],[0.8888888888888888,\"#fdca26\"],[1.0,\"#f0f921\"]],\"type\":\"histogram2d\"}],\"histogram2dcontour\":[{\"colorbar\":{\"outlinewidth\":0,\"ticks\":\"\"},\"colorscale\":[[0.0,\"#0d0887\"],[0.1111111111111111,\"#46039f\"],[0.2222222222222222,\"#7201a8\"],[0.3333333333333333,\"#9c179e\"],[0.4444444444444444,\"#bd3786\"],[0.5555555555555556,\"#d8576b\"],[0.6666666666666666,\"#ed7953\"],[0.7777777777777778,\"#fb9f3a\"],[0.8888888888888888,\"#fdca26\"],[1.0,\"#f0f921\"]],\"type\":\"histogram2dcontour\"}],\"mesh3d\":[{\"colorbar\":{\"outlinewidth\":0,\"ticks\":\"\"},\"type\":\"mesh3d\"}],\"parcoords\":[{\"line\":{\"colorbar\":{\"outlinewidth\":0,\"ticks\":\"\"}},\"type\":\"parcoords\"}],\"pie\":[{\"automargin\":true,\"type\":\"pie\"}],\"scatter\":[{\"marker\":{\"colorbar\":{\"outlinewidth\":0,\"ticks\":\"\"}},\"type\":\"scatter\"}],\"scatter3d\":[{\"line\":{\"colorbar\":{\"outlinewidth\":0,\"ticks\":\"\"}},\"marker\":{\"colorbar\":{\"outlinewidth\":0,\"ticks\":\"\"}},\"type\":\"scatter3d\"}],\"scattercarpet\":[{\"marker\":{\"colorbar\":{\"outlinewidth\":0,\"ticks\":\"\"}},\"type\":\"scattercarpet\"}],\"scattergeo\":[{\"marker\":{\"colorbar\":{\"outlinewidth\":0,\"ticks\":\"\"}},\"type\":\"scattergeo\"}],\"scattergl\":[{\"marker\":{\"colorbar\":{\"outlinewidth\":0,\"ticks\":\"\"}},\"type\":\"scattergl\"}],\"scattermapbox\":[{\"marker\":{\"colorbar\":{\"outlinewidth\":0,\"ticks\":\"\"}},\"type\":\"scattermapbox\"}],\"scatterpolar\":[{\"marker\":{\"colorbar\":{\"outlinewidth\":0,\"ticks\":\"\"}},\"type\":\"scatterpolar\"}],\"scatterpolargl\":[{\"marker\":{\"colorbar\":{\"outlinewidth\":0,\"ticks\":\"\"}},\"type\":\"scatterpolargl\"}],\"scatterternary\":[{\"marker\":{\"colorbar\":{\"outlinewidth\":0,\"ticks\":\"\"}},\"type\":\"scatterternary\"}],\"surface\":[{\"colorbar\":{\"outlinewidth\":0,\"ticks\":\"\"},\"colorscale\":[[0.0,\"#0d0887\"],[0.1111111111111111,\"#46039f\"],[0.2222222222222222,\"#7201a8\"],[0.3333333333333333,\"#9c179e\"],[0.4444444444444444,\"#bd3786\"],[0.5555555555555556,\"#d8576b\"],[0.6666666666666666,\"#ed7953\"],[0.7777777777777778,\"#fb9f3a\"],[0.8888888888888888,\"#fdca26\"],[1.0,\"#f0f921\"]],\"type\":\"surface\"}],\"table\":[{\"cells\":{\"fill\":{\"color\":\"#EBF0F8\"},\"line\":{\"color\":\"white\"}},\"header\":{\"fill\":{\"color\":\"#C8D4E3\"},\"line\":{\"color\":\"white\"}},\"type\":\"table\"}]},\"layout\":{\"annotationdefaults\":{\"arrowcolor\":\"#2a3f5f\",\"arrowhead\":0,\"arrowwidth\":1},\"autotypenumbers\":\"strict\",\"coloraxis\":{\"colorbar\":{\"outlinewidth\":0,\"ticks\":\"\"}},\"colorscale\":{\"diverging\":[[0,\"#8e0152\"],[0.1,\"#c51b7d\"],[0.2,\"#de77ae\"],[0.3,\"#f1b6da\"],[0.4,\"#fde0ef\"],[0.5,\"#f7f7f7\"],[0.6,\"#e6f5d0\"],[0.7,\"#b8e186\"],[0.8,\"#7fbc41\"],[0.9,\"#4d9221\"],[1,\"#276419\"]],\"sequential\":[[0.0,\"#0d0887\"],[0.1111111111111111,\"#46039f\"],[0.2222222222222222,\"#7201a8\"],[0.3333333333333333,\"#9c179e\"],[0.4444444444444444,\"#bd3786\"],[0.5555555555555556,\"#d8576b\"],[0.6666666666666666,\"#ed7953\"],[0.7777777777777778,\"#fb9f3a\"],[0.8888888888888888,\"#fdca26\"],[1.0,\"#f0f921\"]],\"sequentialminus\":[[0.0,\"#0d0887\"],[0.1111111111111111,\"#46039f\"],[0.2222222222222222,\"#7201a8\"],[0.3333333333333333,\"#9c179e\"],[0.4444444444444444,\"#bd3786\"],[0.5555555555555556,\"#d8576b\"],[0.6666666666666666,\"#ed7953\"],[0.7777777777777778,\"#fb9f3a\"],[0.8888888888888888,\"#fdca26\"],[1.0,\"#f0f921\"]]},\"colorway\":[\"#636efa\",\"#EF553B\",\"#00cc96\",\"#ab63fa\",\"#FFA15A\",\"#19d3f3\",\"#FF6692\",\"#B6E880\",\"#FF97FF\",\"#FECB52\"],\"font\":{\"color\":\"#2a3f5f\"},\"geo\":{\"bgcolor\":\"white\",\"lakecolor\":\"white\",\"landcolor\":\"#E5ECF6\",\"showlakes\":true,\"showland\":true,\"subunitcolor\":\"white\"},\"hoverlabel\":{\"align\":\"left\"},\"hovermode\":\"closest\",\"mapbox\":{\"style\":\"light\"},\"paper_bgcolor\":\"white\",\"plot_bgcolor\":\"#E5ECF6\",\"polar\":{\"angularaxis\":{\"gridcolor\":\"white\",\"linecolor\":\"white\",\"ticks\":\"\"},\"bgcolor\":\"#E5ECF6\",\"radialaxis\":{\"gridcolor\":\"white\",\"linecolor\":\"white\",\"ticks\":\"\"}},\"scene\":{\"xaxis\":{\"backgroundcolor\":\"#E5ECF6\",\"gridcolor\":\"white\",\"gridwidth\":2,\"linecolor\":\"white\",\"showbackground\":true,\"ticks\":\"\",\"zerolinecolor\":\"white\"},\"yaxis\":{\"backgroundcolor\":\"#E5ECF6\",\"gridcolor\":\"white\",\"gridwidth\":2,\"linecolor\":\"white\",\"showbackground\":true,\"ticks\":\"\",\"zerolinecolor\":\"white\"},\"zaxis\":{\"backgroundcolor\":\"#E5ECF6\",\"gridcolor\":\"white\",\"gridwidth\":2,\"linecolor\":\"white\",\"showbackground\":true,\"ticks\":\"\",\"zerolinecolor\":\"white\"}},\"shapedefaults\":{\"line\":{\"color\":\"#2a3f5f\"}},\"ternary\":{\"aaxis\":{\"gridcolor\":\"white\",\"linecolor\":\"white\",\"ticks\":\"\"},\"baxis\":{\"gridcolor\":\"white\",\"linecolor\":\"white\",\"ticks\":\"\"},\"bgcolor\":\"#E5ECF6\",\"caxis\":{\"gridcolor\":\"white\",\"linecolor\":\"white\",\"ticks\":\"\"}},\"title\":{\"x\":0.05},\"xaxis\":{\"automargin\":true,\"gridcolor\":\"white\",\"linecolor\":\"white\",\"ticks\":\"\",\"title\":{\"standoff\":15},\"zerolinecolor\":\"white\",\"zerolinewidth\":2},\"yaxis\":{\"automargin\":true,\"gridcolor\":\"white\",\"linecolor\":\"white\",\"ticks\":\"\",\"title\":{\"standoff\":15},\"zerolinecolor\":\"white\",\"zerolinewidth\":2}}},\"xaxis\":{\"anchor\":\"y\",\"domain\":[0.0,0.18400000000000002],\"title\":{\"text\":\"PM2_5\"}},\"yaxis\":{\"anchor\":\"x\",\"domain\":[0.0,1.0],\"title\":{\"text\":\"asthma_hosp\"}},\"xaxis2\":{\"anchor\":\"y2\",\"domain\":[0.20400000000000001,0.388],\"matches\":\"x\",\"title\":{\"text\":\"PM2_5\"}},\"yaxis2\":{\"anchor\":\"x2\",\"domain\":[0.0,1.0],\"matches\":\"y\",\"showticklabels\":false},\"xaxis3\":{\"anchor\":\"y3\",\"domain\":[0.40800000000000003,0.5920000000000001],\"matches\":\"x\",\"title\":{\"text\":\"PM2_5\"}},\"yaxis3\":{\"anchor\":\"x3\",\"domain\":[0.0,1.0],\"matches\":\"y\",\"showticklabels\":false},\"xaxis4\":{\"anchor\":\"y4\",\"domain\":[0.6120000000000001,0.7960000000000002],\"matches\":\"x\",\"title\":{\"text\":\"PM2_5\"}},\"yaxis4\":{\"anchor\":\"x4\",\"domain\":[0.0,1.0],\"matches\":\"y\",\"showticklabels\":false},\"xaxis5\":{\"anchor\":\"y5\",\"domain\":[0.8160000000000001,1.0],\"matches\":\"x\",\"title\":{\"text\":\"PM2_5\"}},\"yaxis5\":{\"anchor\":\"x5\",\"domain\":[0.0,1.0],\"matches\":\"y\",\"showticklabels\":false},\"annotations\":[{\"font\":{},\"showarrow\":false,\"text\":\"Boroughs=Bronx\",\"x\":0.09200000000000001,\"xanchor\":\"center\",\"xref\":\"paper\",\"y\":1.0,\"yanchor\":\"bottom\",\"yref\":\"paper\"},{\"font\":{},\"showarrow\":false,\"text\":\"Boroughs=Brooklyn\",\"x\":0.29600000000000004,\"xanchor\":\"center\",\"xref\":\"paper\",\"y\":1.0,\"yanchor\":\"bottom\",\"yref\":\"paper\"},{\"font\":{},\"showarrow\":false,\"text\":\"Boroughs=Manhattan\",\"x\":0.5,\"xanchor\":\"center\",\"xref\":\"paper\",\"y\":1.0,\"yanchor\":\"bottom\",\"yref\":\"paper\"},{\"font\":{},\"showarrow\":false,\"text\":\"Boroughs=Queens\",\"x\":0.7040000000000002,\"xanchor\":\"center\",\"xref\":\"paper\",\"y\":1.0,\"yanchor\":\"bottom\",\"yref\":\"paper\"},{\"font\":{},\"showarrow\":false,\"text\":\"Boroughs=Staten Island\",\"x\":0.908,\"xanchor\":\"center\",\"xref\":\"paper\",\"y\":1.0,\"yanchor\":\"bottom\",\"yref\":\"paper\"}],\"coloraxis\":{\"colorbar\":{\"title\":{\"text\":\"year\"}},\"colorscale\":[[0.0,\"#0d0887\"],[0.1111111111111111,\"#46039f\"],[0.2222222222222222,\"#7201a8\"],[0.3333333333333333,\"#9c179e\"],[0.4444444444444444,\"#bd3786\"],[0.5555555555555556,\"#d8576b\"],[0.6666666666666666,\"#ed7953\"],[0.7777777777777778,\"#fb9f3a\"],[0.8888888888888888,\"#fdca26\"],[1.0,\"#f0f921\"]]},\"legend\":{\"tracegroupgap\":0},\"margin\":{\"t\":60}},                        {\"responsive\": true}                    ).then(function(){\n",
       "                            \n",
       "var gd = document.getElementById('21136677-49ad-436f-bc8a-4927ecbc73ed');\n",
       "var x = new MutationObserver(function (mutations, observer) {{\n",
       "        var display = window.getComputedStyle(gd).display;\n",
       "        if (!display || display === 'none') {{\n",
       "            console.log([gd, 'removed!']);\n",
       "            Plotly.purge(gd);\n",
       "            observer.disconnect();\n",
       "        }}\n",
       "}});\n",
       "\n",
       "// Listen for the removal of the full notebook cells\n",
       "var notebookContainer = gd.closest('#notebook-container');\n",
       "if (notebookContainer) {{\n",
       "    x.observe(notebookContainer, {childList: true});\n",
       "}}\n",
       "\n",
       "// Listen for the clearing of the current output cell\n",
       "var outputEl = gd.closest('.output');\n",
       "if (outputEl) {{\n",
       "    x.observe(outputEl, {childList: true});\n",
       "}}\n",
       "\n",
       "                        })                };                });            </script>        </div>"
      ]
     },
     "metadata": {},
     "output_type": "display_data"
    }
   ],
   "source": [
    "fig = px.scatter(data, x=\"PM2_5\", y=\"asthma_hosp\", color=\"year\",trendline=\"ols\", facet_col=\"Boroughs\")\n",
    "fig.show()"
   ]
  },
  {
   "cell_type": "markdown",
   "id": "08ed5f80",
   "metadata": {},
   "source": [
    "### More money = Better healthcare. When the trendline highly varies depending on the district we are located\n",
    "Something really interesting can be observed here, and is the fact that really different regression trendlines can be observed depending on the neighbourhood. While in the Bronx the number of asthma hospitalizations strongly increases as the levels of PM2.5 increase, in Manhattan happens exactly the opposite.\n",
    "\n",
    "Bronx, Brookykn and Queens district seem to show the expected behaviour. As levels of PM2.5 increase, air becomes more polluted, and so the number of asthma hospitalizations increases. However, why does the number of hospitalizations decrease in Manhattan as the levels of air pollution increase?\n",
    "\n",
    "Different hypothesis appear here. Is it because in the more polluted areas of Manhattan, there is less space for hospitals in which you can treat asthma cases? Or is it because healtcare and quality of life is basically better in Mantattan?\n",
    "\n",
    "Is it hard to believe that the first hypothesis might be the cause, specially becuase if we look at the more polluted ares of Manhattan we can find hospitals such as the Metropolitan [[5]](https://www.nychealthandhospitals.org/metropolitan/about-us/), which have a Children’s Asthma Program or Bellevue [[6]](https://www.nychealthandhospitals.org/bellevue/health-care-services/childrens-health/) which provides multidisciplinary care for children and adolescents with asthma.\n",
    "\n",
    "Thus, it seems that these differences are due to the fact that the quality of life and the healthcare services might be better in Manhattan. If we go to check the Median Household Income on 2017 in NYC, we observe that the Bronx has the lowest value with a Median Household Income of 37.397 \\\\$ , while Manhattan has a value up to 85.071 \\\\$.\n",
    "\n"
   ]
  },
  {
   "cell_type": "code",
   "execution_count": null,
   "id": "cf0dd7bc",
   "metadata": {},
   "outputs": [],
   "source": []
  },
  {
   "cell_type": "code",
   "execution_count": null,
   "id": "d4ce2782",
   "metadata": {},
   "outputs": [],
   "source": []
  }
 ],
 "metadata": {
  "kernelspec": {
   "display_name": "Python 3 (ipykernel)",
   "language": "python",
   "name": "python3"
  },
  "language_info": {
   "codemirror_mode": {
    "name": "ipython",
    "version": 3
   },
   "file_extension": ".py",
   "mimetype": "text/x-python",
   "name": "python",
   "nbconvert_exporter": "python",
   "pygments_lexer": "ipython3",
   "version": "3.8.2"
  }
 },
 "nbformat": 4,
 "nbformat_minor": 5
}
