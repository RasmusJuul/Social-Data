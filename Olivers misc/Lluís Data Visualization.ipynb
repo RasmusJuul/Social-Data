{
 "cells": [
  {
   "cell_type": "code",
   "execution_count": 2,
   "id": "c8c8fd88",
   "metadata": {},
   "outputs": [],
   "source": [
    "import pandas as pd\n",
    "import numpy as np\n",
    "import seaborn as sns\n",
    "import matplotlib.pyplot as plt\n",
    "import re\n",
    "import plotly.express as px"
   ]
  },
  {
   "cell_type": "markdown",
   "id": "cd9de743",
   "metadata": {},
   "source": [
    "# Air pollution and asthma hospitalizations in children. What does data visualization tell us?\n",
    "\n",
    "It is almost general knoweldge that air pollution might be one of the main causes of respiratory diseases. An among all the broad types of respiratory diseases that exists, specifically asthma. Asthma is a chronic respiratory disease characterized by variable airflow obstruction, bronchial hyperresponsiveness, and airway inflammation. [[1]](https://pubmed.ncbi.nlm.nih.gov/32867076/) Researchers have long linked asthma with exposure to air pollution, which can make asthma symptoms worse and trigger asthma attacks. Moreover, it is estimated six million children in the United States with asthma are especially vulnerable to air pollution. [[2]](https://www.epa.gov/sciencematters/links-between-air-pollution-and-childhood-asthma#:~:text=Researchers%20have%20long%20linked%20asthma,worse%20and%20trigger%20asthma%20attacks). And not only vulnerable once they have the disease. It has been also proved that exposure to main air pollutants such as NO2, CO, and PM2.5 is linked to regional DNA methylation differences in asthma. [[3]](https://www.ncbi.nlm.nih.gov/pmc/articles/PMC5756438/pdf/13148_2017_Article_433.pdf)\n",
    "\n",
    "The aim of this study is to dig deeper into this relation between air pollution and asthma. To do so, NYC air pollution data will be used and combined with asthma hospitalizations data for children. Is there any clear correlation between air pollution and the number of asthma hospitalizations? If so, which are the air pollutants that are more correlated? How do these values vary between the different neighbourhoods? Where is more urgent to reduce the emissions of hazardous air pollutants? Is it possible to predict which is gonna be the number of asthma hospitalizations in order to prepare these hospitals that are gonna suffer more for such big workloads? "
   ]
  },
  {
   "cell_type": "code",
   "execution_count": 3,
   "id": "faaeab3f",
   "metadata": {},
   "outputs": [
    {
     "data": {
      "text/html": [
       "<div>\n",
       "<style scoped>\n",
       "    .dataframe tbody tr th:only-of-type {\n",
       "        vertical-align: middle;\n",
       "    }\n",
       "\n",
       "    .dataframe tbody tr th {\n",
       "        vertical-align: top;\n",
       "    }\n",
       "\n",
       "    .dataframe thead th {\n",
       "        text-align: right;\n",
       "    }\n",
       "</style>\n",
       "<table border=\"1\" class=\"dataframe\">\n",
       "  <thead>\n",
       "    <tr style=\"text-align: right;\">\n",
       "      <th></th>\n",
       "      <th>year</th>\n",
       "      <th>district</th>\n",
       "      <th>NO2</th>\n",
       "      <th>PM2_5</th>\n",
       "      <th>O3</th>\n",
       "      <th>SO2</th>\n",
       "      <th>asthma_hosp</th>\n",
       "      <th>Boroughs</th>\n",
       "    </tr>\n",
       "  </thead>\n",
       "  <tbody>\n",
       "    <tr>\n",
       "      <th>0</th>\n",
       "      <td>2009</td>\n",
       "      <td>101</td>\n",
       "      <td>23.20</td>\n",
       "      <td>11.03</td>\n",
       "      <td>23.67</td>\n",
       "      <td>6.62</td>\n",
       "      <td>61</td>\n",
       "      <td>Bronx</td>\n",
       "    </tr>\n",
       "    <tr>\n",
       "      <th>1</th>\n",
       "      <td>2009</td>\n",
       "      <td>102</td>\n",
       "      <td>22.39</td>\n",
       "      <td>10.68</td>\n",
       "      <td>26.82</td>\n",
       "      <td>5.38</td>\n",
       "      <td>282</td>\n",
       "      <td>Bronx</td>\n",
       "    </tr>\n",
       "    <tr>\n",
       "      <th>2</th>\n",
       "      <td>2009</td>\n",
       "      <td>103</td>\n",
       "      <td>24.82</td>\n",
       "      <td>11.10</td>\n",
       "      <td>24.47</td>\n",
       "      <td>9.48</td>\n",
       "      <td>693</td>\n",
       "      <td>Bronx</td>\n",
       "    </tr>\n",
       "    <tr>\n",
       "      <th>3</th>\n",
       "      <td>2009</td>\n",
       "      <td>104</td>\n",
       "      <td>22.83</td>\n",
       "      <td>10.59</td>\n",
       "      <td>26.72</td>\n",
       "      <td>5.15</td>\n",
       "      <td>588</td>\n",
       "      <td>Bronx</td>\n",
       "    </tr>\n",
       "    <tr>\n",
       "      <th>4</th>\n",
       "      <td>2009</td>\n",
       "      <td>105</td>\n",
       "      <td>28.07</td>\n",
       "      <td>11.76</td>\n",
       "      <td>23.08</td>\n",
       "      <td>9.36</td>\n",
       "      <td>631</td>\n",
       "      <td>Bronx</td>\n",
       "    </tr>\n",
       "  </tbody>\n",
       "</table>\n",
       "</div>"
      ],
      "text/plain": [
       "   year  district    NO2  PM2_5     O3   SO2  asthma_hosp Boroughs\n",
       "0  2009       101  23.20  11.03  23.67  6.62           61    Bronx\n",
       "1  2009       102  22.39  10.68  26.82  5.38          282    Bronx\n",
       "2  2009       103  24.82  11.10  24.47  9.48          693    Bronx\n",
       "3  2009       104  22.83  10.59  26.72  5.15          588    Bronx\n",
       "4  2009       105  28.07  11.76  23.08  9.36          631    Bronx"
      ]
     },
     "execution_count": 3,
     "metadata": {},
     "output_type": "execute_result"
    }
   ],
   "source": [
    "data=pd.read_csv('machine_learning_data_Final.csv')\n",
    "data=data.iloc[:,1:]\n",
    "data.head()"
   ]
  },
  {
   "cell_type": "markdown",
   "id": "b1b6b872",
   "metadata": {},
   "source": [
    "### Line Starting plot"
   ]
  },
  {
   "cell_type": "code",
   "execution_count": 22,
   "id": "c981d42e",
   "metadata": {},
   "outputs": [],
   "source": [
    "def rep_array(array,nrep=5):\n",
    "    repetitions=[]; torep=list(array)\n",
    "    for i in range(nrep):\n",
    "        repetitions=repetitions+torep\n",
    "    return repetitions\n",
    "\n",
    "def NormalizeData(data):\n",
    "    return (data - np.min(data)) / (np.max(data) - np.min(data))\n",
    "\n",
    "\n",
    "\"\"\"def NormalizeData(array):\n",
    "    #norm = np.linalg.norm(array)\n",
    "    norm = np.mean(array)\n",
    "    return array/norm\"\"\"\n",
    "\n",
    "\"\"\"def NormalizeData(array):\n",
    "    return array\"\"\"\n",
    "\n",
    "# let's extract the mean astham hosp. values per year\n",
    "asthma_per_year=NormalizeData([data[data.year==el].asthma_hosp.mean() for el in np.unique(data.year)])\n",
    "\n",
    "# Mean pollutants per year\n",
    "PM2_5_per_year=NormalizeData([data[data.year==el].PM2_5.mean() for el in np.unique(data.year)])\n",
    "NO2_per_year=NormalizeData([data[data.year==el].NO2.mean() for el in np.unique(data.year)])\n",
    "O3_per_year=NormalizeData([data[data.year==el].O3.mean() for el in np.unique(data.year)])\n",
    "SO2_per_year=NormalizeData([data[data.year==el].SO2.mean() for el in np.unique(data.year)])\n",
    "\n",
    "years=np.unique(data.year)\n",
    "\n",
    "labels=[np.repeat('PM2_5',8),np.repeat('NO2',8),np.repeat('O3',8),np.repeat('SO2',8),\n",
    "        np.repeat('Asthma Hospitalizations',8)]\n",
    "\n",
    "labels=np.hstack(labels)\n",
    "y=rep_array(years)\n",
    "values=np.hstack([PM2_5_per_year,NO2_per_year,O3_per_year,SO2_per_year,asthma_per_year])\n",
    "values\n",
    "\n",
    "line_plot_df=pd.DataFrame({'year':y,'value':values,'label':labels})"
   ]
  },
  {
   "cell_type": "code",
   "execution_count": 23,
   "id": "5ae8c236",
   "metadata": {},
   "outputs": [],
   "source": [
    "line_plot_df_pollutants=line_plot_df.iloc[:-8,:]"
   ]
  },
  {
   "cell_type": "code",
   "execution_count": 24,
   "id": "739e1309",
   "metadata": {},
   "outputs": [
    {
     "data": {
      "application/vnd.plotly.v1+json": {
       "config": {
        "plotlyServerURL": "https://plotly.com"
       },
       "data": [
        {
         "hovertemplate": "label=PM2_5<br>year=%{x}<br>value=%{y}<extra></extra>",
         "legendgroup": "PM2_5",
         "line": {
          "color": "#636efa",
          "dash": "solid"
         },
         "marker": {
          "symbol": "circle"
         },
         "mode": "lines",
         "name": "PM2_5",
         "orientation": "v",
         "showlegend": true,
         "type": "scatter",
         "x": [
          2009,
          2010,
          2011,
          2012,
          2013,
          2014,
          2015,
          2016
         ],
         "xaxis": "x",
         "y": [
          1,
          0.7037008658340349,
          0.8698950272009793,
          0.5031032104819559,
          0.40763159911118063,
          0.49398513523867876,
          0.3721553903915417,
          0
         ],
         "yaxis": "y"
        },
        {
         "hovertemplate": "label=NO2<br>year=%{x}<br>value=%{y}<extra></extra>",
         "legendgroup": "NO2",
         "line": {
          "color": "#EF553B",
          "dash": "solid"
         },
         "marker": {
          "symbol": "circle"
         },
         "mode": "lines",
         "name": "NO2",
         "orientation": "v",
         "showlegend": true,
         "type": "scatter",
         "x": [
          2009,
          2010,
          2011,
          2012,
          2013,
          2014,
          2015,
          2016
         ],
         "xaxis": "x",
         "y": [
          1,
          0.6804462934947058,
          0.7486384266263248,
          0.4128593040847188,
          0.29549924357035057,
          0.24391074130105775,
          0.13532526475037648,
          0
         ],
         "yaxis": "y"
        },
        {
         "hovertemplate": "label=O3<br>year=%{x}<br>value=%{y}<extra></extra>",
         "legendgroup": "O3",
         "line": {
          "color": "#00cc96",
          "dash": "solid"
         },
         "marker": {
          "symbol": "circle"
         },
         "mode": "lines",
         "name": "O3",
         "orientation": "v",
         "showlegend": true,
         "type": "scatter",
         "x": [
          2009,
          2010,
          2011,
          2012,
          2013,
          2014,
          2015,
          2016
         ],
         "xaxis": "x",
         "y": [
          0,
          0.9284602524932282,
          0.8475817144174803,
          0.9808900674468237,
          0.6336542341615276,
          0.690407563267426,
          0.7443361964604839,
          1
         ],
         "yaxis": "y"
        },
        {
         "hovertemplate": "label=SO2<br>year=%{x}<br>value=%{y}<extra></extra>",
         "legendgroup": "SO2",
         "line": {
          "color": "#ab63fa",
          "dash": "solid"
         },
         "marker": {
          "symbol": "circle"
         },
         "mode": "lines",
         "name": "SO2",
         "orientation": "v",
         "showlegend": true,
         "type": "scatter",
         "x": [
          2009,
          2010,
          2011,
          2012,
          2013,
          2014,
          2015,
          2016
         ],
         "xaxis": "x",
         "y": [
          1,
          0.6536605354215983,
          0.8340921507922054,
          0.4511018029502822,
          0.2581496995082862,
          0.28441995993443814,
          0.09205973411036242,
          0
         ],
         "yaxis": "y"
        },
        {
         "hovertemplate": "label=Asthma Hospitalizations<br>year=%{x}<br>value=%{y}<extra></extra>",
         "legendgroup": "Asthma Hospitalizations",
         "line": {
          "color": "#FFA15A",
          "dash": "solid"
         },
         "marker": {
          "symbol": "circle"
         },
         "mode": "lines",
         "name": "Asthma Hospitalizations",
         "orientation": "v",
         "showlegend": true,
         "type": "scatter",
         "x": [
          2009,
          2010,
          2011,
          2012,
          2013,
          2014,
          2015,
          2016
         ],
         "xaxis": "x",
         "y": [
          1,
          0.43888193575302453,
          0.3738005840634124,
          0.5077179808093447,
          0.37588652482269486,
          0.49812265331664574,
          0.10721735502711728,
          0
         ],
         "yaxis": "y"
        }
       ],
       "layout": {
        "legend": {
         "title": {
          "text": "label"
         },
         "tracegroupgap": 0
        },
        "template": {
         "data": {
          "bar": [
           {
            "error_x": {
             "color": "#2a3f5f"
            },
            "error_y": {
             "color": "#2a3f5f"
            },
            "marker": {
             "line": {
              "color": "#E5ECF6",
              "width": 0.5
             },
             "pattern": {
              "fillmode": "overlay",
              "size": 10,
              "solidity": 0.2
             }
            },
            "type": "bar"
           }
          ],
          "barpolar": [
           {
            "marker": {
             "line": {
              "color": "#E5ECF6",
              "width": 0.5
             },
             "pattern": {
              "fillmode": "overlay",
              "size": 10,
              "solidity": 0.2
             }
            },
            "type": "barpolar"
           }
          ],
          "carpet": [
           {
            "aaxis": {
             "endlinecolor": "#2a3f5f",
             "gridcolor": "white",
             "linecolor": "white",
             "minorgridcolor": "white",
             "startlinecolor": "#2a3f5f"
            },
            "baxis": {
             "endlinecolor": "#2a3f5f",
             "gridcolor": "white",
             "linecolor": "white",
             "minorgridcolor": "white",
             "startlinecolor": "#2a3f5f"
            },
            "type": "carpet"
           }
          ],
          "choropleth": [
           {
            "colorbar": {
             "outlinewidth": 0,
             "ticks": ""
            },
            "type": "choropleth"
           }
          ],
          "contour": [
           {
            "colorbar": {
             "outlinewidth": 0,
             "ticks": ""
            },
            "colorscale": [
             [
              0,
              "#0d0887"
             ],
             [
              0.1111111111111111,
              "#46039f"
             ],
             [
              0.2222222222222222,
              "#7201a8"
             ],
             [
              0.3333333333333333,
              "#9c179e"
             ],
             [
              0.4444444444444444,
              "#bd3786"
             ],
             [
              0.5555555555555556,
              "#d8576b"
             ],
             [
              0.6666666666666666,
              "#ed7953"
             ],
             [
              0.7777777777777778,
              "#fb9f3a"
             ],
             [
              0.8888888888888888,
              "#fdca26"
             ],
             [
              1,
              "#f0f921"
             ]
            ],
            "type": "contour"
           }
          ],
          "contourcarpet": [
           {
            "colorbar": {
             "outlinewidth": 0,
             "ticks": ""
            },
            "type": "contourcarpet"
           }
          ],
          "heatmap": [
           {
            "colorbar": {
             "outlinewidth": 0,
             "ticks": ""
            },
            "colorscale": [
             [
              0,
              "#0d0887"
             ],
             [
              0.1111111111111111,
              "#46039f"
             ],
             [
              0.2222222222222222,
              "#7201a8"
             ],
             [
              0.3333333333333333,
              "#9c179e"
             ],
             [
              0.4444444444444444,
              "#bd3786"
             ],
             [
              0.5555555555555556,
              "#d8576b"
             ],
             [
              0.6666666666666666,
              "#ed7953"
             ],
             [
              0.7777777777777778,
              "#fb9f3a"
             ],
             [
              0.8888888888888888,
              "#fdca26"
             ],
             [
              1,
              "#f0f921"
             ]
            ],
            "type": "heatmap"
           }
          ],
          "heatmapgl": [
           {
            "colorbar": {
             "outlinewidth": 0,
             "ticks": ""
            },
            "colorscale": [
             [
              0,
              "#0d0887"
             ],
             [
              0.1111111111111111,
              "#46039f"
             ],
             [
              0.2222222222222222,
              "#7201a8"
             ],
             [
              0.3333333333333333,
              "#9c179e"
             ],
             [
              0.4444444444444444,
              "#bd3786"
             ],
             [
              0.5555555555555556,
              "#d8576b"
             ],
             [
              0.6666666666666666,
              "#ed7953"
             ],
             [
              0.7777777777777778,
              "#fb9f3a"
             ],
             [
              0.8888888888888888,
              "#fdca26"
             ],
             [
              1,
              "#f0f921"
             ]
            ],
            "type": "heatmapgl"
           }
          ],
          "histogram": [
           {
            "marker": {
             "pattern": {
              "fillmode": "overlay",
              "size": 10,
              "solidity": 0.2
             }
            },
            "type": "histogram"
           }
          ],
          "histogram2d": [
           {
            "colorbar": {
             "outlinewidth": 0,
             "ticks": ""
            },
            "colorscale": [
             [
              0,
              "#0d0887"
             ],
             [
              0.1111111111111111,
              "#46039f"
             ],
             [
              0.2222222222222222,
              "#7201a8"
             ],
             [
              0.3333333333333333,
              "#9c179e"
             ],
             [
              0.4444444444444444,
              "#bd3786"
             ],
             [
              0.5555555555555556,
              "#d8576b"
             ],
             [
              0.6666666666666666,
              "#ed7953"
             ],
             [
              0.7777777777777778,
              "#fb9f3a"
             ],
             [
              0.8888888888888888,
              "#fdca26"
             ],
             [
              1,
              "#f0f921"
             ]
            ],
            "type": "histogram2d"
           }
          ],
          "histogram2dcontour": [
           {
            "colorbar": {
             "outlinewidth": 0,
             "ticks": ""
            },
            "colorscale": [
             [
              0,
              "#0d0887"
             ],
             [
              0.1111111111111111,
              "#46039f"
             ],
             [
              0.2222222222222222,
              "#7201a8"
             ],
             [
              0.3333333333333333,
              "#9c179e"
             ],
             [
              0.4444444444444444,
              "#bd3786"
             ],
             [
              0.5555555555555556,
              "#d8576b"
             ],
             [
              0.6666666666666666,
              "#ed7953"
             ],
             [
              0.7777777777777778,
              "#fb9f3a"
             ],
             [
              0.8888888888888888,
              "#fdca26"
             ],
             [
              1,
              "#f0f921"
             ]
            ],
            "type": "histogram2dcontour"
           }
          ],
          "mesh3d": [
           {
            "colorbar": {
             "outlinewidth": 0,
             "ticks": ""
            },
            "type": "mesh3d"
           }
          ],
          "parcoords": [
           {
            "line": {
             "colorbar": {
              "outlinewidth": 0,
              "ticks": ""
             }
            },
            "type": "parcoords"
           }
          ],
          "pie": [
           {
            "automargin": true,
            "type": "pie"
           }
          ],
          "scatter": [
           {
            "marker": {
             "colorbar": {
              "outlinewidth": 0,
              "ticks": ""
             }
            },
            "type": "scatter"
           }
          ],
          "scatter3d": [
           {
            "line": {
             "colorbar": {
              "outlinewidth": 0,
              "ticks": ""
             }
            },
            "marker": {
             "colorbar": {
              "outlinewidth": 0,
              "ticks": ""
             }
            },
            "type": "scatter3d"
           }
          ],
          "scattercarpet": [
           {
            "marker": {
             "colorbar": {
              "outlinewidth": 0,
              "ticks": ""
             }
            },
            "type": "scattercarpet"
           }
          ],
          "scattergeo": [
           {
            "marker": {
             "colorbar": {
              "outlinewidth": 0,
              "ticks": ""
             }
            },
            "type": "scattergeo"
           }
          ],
          "scattergl": [
           {
            "marker": {
             "colorbar": {
              "outlinewidth": 0,
              "ticks": ""
             }
            },
            "type": "scattergl"
           }
          ],
          "scattermapbox": [
           {
            "marker": {
             "colorbar": {
              "outlinewidth": 0,
              "ticks": ""
             }
            },
            "type": "scattermapbox"
           }
          ],
          "scatterpolar": [
           {
            "marker": {
             "colorbar": {
              "outlinewidth": 0,
              "ticks": ""
             }
            },
            "type": "scatterpolar"
           }
          ],
          "scatterpolargl": [
           {
            "marker": {
             "colorbar": {
              "outlinewidth": 0,
              "ticks": ""
             }
            },
            "type": "scatterpolargl"
           }
          ],
          "scatterternary": [
           {
            "marker": {
             "colorbar": {
              "outlinewidth": 0,
              "ticks": ""
             }
            },
            "type": "scatterternary"
           }
          ],
          "surface": [
           {
            "colorbar": {
             "outlinewidth": 0,
             "ticks": ""
            },
            "colorscale": [
             [
              0,
              "#0d0887"
             ],
             [
              0.1111111111111111,
              "#46039f"
             ],
             [
              0.2222222222222222,
              "#7201a8"
             ],
             [
              0.3333333333333333,
              "#9c179e"
             ],
             [
              0.4444444444444444,
              "#bd3786"
             ],
             [
              0.5555555555555556,
              "#d8576b"
             ],
             [
              0.6666666666666666,
              "#ed7953"
             ],
             [
              0.7777777777777778,
              "#fb9f3a"
             ],
             [
              0.8888888888888888,
              "#fdca26"
             ],
             [
              1,
              "#f0f921"
             ]
            ],
            "type": "surface"
           }
          ],
          "table": [
           {
            "cells": {
             "fill": {
              "color": "#EBF0F8"
             },
             "line": {
              "color": "white"
             }
            },
            "header": {
             "fill": {
              "color": "#C8D4E3"
             },
             "line": {
              "color": "white"
             }
            },
            "type": "table"
           }
          ]
         },
         "layout": {
          "annotationdefaults": {
           "arrowcolor": "#2a3f5f",
           "arrowhead": 0,
           "arrowwidth": 1
          },
          "autotypenumbers": "strict",
          "coloraxis": {
           "colorbar": {
            "outlinewidth": 0,
            "ticks": ""
           }
          },
          "colorscale": {
           "diverging": [
            [
             0,
             "#8e0152"
            ],
            [
             0.1,
             "#c51b7d"
            ],
            [
             0.2,
             "#de77ae"
            ],
            [
             0.3,
             "#f1b6da"
            ],
            [
             0.4,
             "#fde0ef"
            ],
            [
             0.5,
             "#f7f7f7"
            ],
            [
             0.6,
             "#e6f5d0"
            ],
            [
             0.7,
             "#b8e186"
            ],
            [
             0.8,
             "#7fbc41"
            ],
            [
             0.9,
             "#4d9221"
            ],
            [
             1,
             "#276419"
            ]
           ],
           "sequential": [
            [
             0,
             "#0d0887"
            ],
            [
             0.1111111111111111,
             "#46039f"
            ],
            [
             0.2222222222222222,
             "#7201a8"
            ],
            [
             0.3333333333333333,
             "#9c179e"
            ],
            [
             0.4444444444444444,
             "#bd3786"
            ],
            [
             0.5555555555555556,
             "#d8576b"
            ],
            [
             0.6666666666666666,
             "#ed7953"
            ],
            [
             0.7777777777777778,
             "#fb9f3a"
            ],
            [
             0.8888888888888888,
             "#fdca26"
            ],
            [
             1,
             "#f0f921"
            ]
           ],
           "sequentialminus": [
            [
             0,
             "#0d0887"
            ],
            [
             0.1111111111111111,
             "#46039f"
            ],
            [
             0.2222222222222222,
             "#7201a8"
            ],
            [
             0.3333333333333333,
             "#9c179e"
            ],
            [
             0.4444444444444444,
             "#bd3786"
            ],
            [
             0.5555555555555556,
             "#d8576b"
            ],
            [
             0.6666666666666666,
             "#ed7953"
            ],
            [
             0.7777777777777778,
             "#fb9f3a"
            ],
            [
             0.8888888888888888,
             "#fdca26"
            ],
            [
             1,
             "#f0f921"
            ]
           ]
          },
          "colorway": [
           "#636efa",
           "#EF553B",
           "#00cc96",
           "#ab63fa",
           "#FFA15A",
           "#19d3f3",
           "#FF6692",
           "#B6E880",
           "#FF97FF",
           "#FECB52"
          ],
          "font": {
           "color": "#2a3f5f"
          },
          "geo": {
           "bgcolor": "white",
           "lakecolor": "white",
           "landcolor": "#E5ECF6",
           "showlakes": true,
           "showland": true,
           "subunitcolor": "white"
          },
          "hoverlabel": {
           "align": "left"
          },
          "hovermode": "closest",
          "mapbox": {
           "style": "light"
          },
          "paper_bgcolor": "white",
          "plot_bgcolor": "#E5ECF6",
          "polar": {
           "angularaxis": {
            "gridcolor": "white",
            "linecolor": "white",
            "ticks": ""
           },
           "bgcolor": "#E5ECF6",
           "radialaxis": {
            "gridcolor": "white",
            "linecolor": "white",
            "ticks": ""
           }
          },
          "scene": {
           "xaxis": {
            "backgroundcolor": "#E5ECF6",
            "gridcolor": "white",
            "gridwidth": 2,
            "linecolor": "white",
            "showbackground": true,
            "ticks": "",
            "zerolinecolor": "white"
           },
           "yaxis": {
            "backgroundcolor": "#E5ECF6",
            "gridcolor": "white",
            "gridwidth": 2,
            "linecolor": "white",
            "showbackground": true,
            "ticks": "",
            "zerolinecolor": "white"
           },
           "zaxis": {
            "backgroundcolor": "#E5ECF6",
            "gridcolor": "white",
            "gridwidth": 2,
            "linecolor": "white",
            "showbackground": true,
            "ticks": "",
            "zerolinecolor": "white"
           }
          },
          "shapedefaults": {
           "line": {
            "color": "#2a3f5f"
           }
          },
          "ternary": {
           "aaxis": {
            "gridcolor": "white",
            "linecolor": "white",
            "ticks": ""
           },
           "baxis": {
            "gridcolor": "white",
            "linecolor": "white",
            "ticks": ""
           },
           "bgcolor": "#E5ECF6",
           "caxis": {
            "gridcolor": "white",
            "linecolor": "white",
            "ticks": ""
           }
          },
          "title": {
           "x": 0.05
          },
          "xaxis": {
           "automargin": true,
           "gridcolor": "white",
           "linecolor": "white",
           "ticks": "",
           "title": {
            "standoff": 15
           },
           "zerolinecolor": "white",
           "zerolinewidth": 2
          },
          "yaxis": {
           "automargin": true,
           "gridcolor": "white",
           "linecolor": "white",
           "ticks": "",
           "title": {
            "standoff": 15
           },
           "zerolinecolor": "white",
           "zerolinewidth": 2
          }
         }
        },
        "title": {
         "text": "Evolution of Air Pollution and Children Asthma Hospitalizations in NYC"
        },
        "xaxis": {
         "anchor": "y",
         "domain": [
          0,
          1
         ],
         "title": {
          "text": "year"
         }
        },
        "yaxis": {
         "anchor": "x",
         "domain": [
          0,
          1
         ],
         "title": {
          "text": "value"
         }
        }
       }
      },
      "text/html": [
       "<div>                            <div id=\"57cda50b-19c5-440d-a181-30341860a31d\" class=\"plotly-graph-div\" style=\"height:525px; width:100%;\"></div>            <script type=\"text/javascript\">                require([\"plotly\"], function(Plotly) {                    window.PLOTLYENV=window.PLOTLYENV || {};                                    if (document.getElementById(\"57cda50b-19c5-440d-a181-30341860a31d\")) {                    Plotly.newPlot(                        \"57cda50b-19c5-440d-a181-30341860a31d\",                        [{\"hovertemplate\":\"label=PM2_5<br>year=%{x}<br>value=%{y}<extra></extra>\",\"legendgroup\":\"PM2_5\",\"line\":{\"color\":\"#636efa\",\"dash\":\"solid\"},\"marker\":{\"symbol\":\"circle\"},\"mode\":\"lines\",\"name\":\"PM2_5\",\"orientation\":\"v\",\"showlegend\":true,\"x\":[2009,2010,2011,2012,2013,2014,2015,2016],\"xaxis\":\"x\",\"y\":[1.0,0.7037008658340349,0.8698950272009793,0.5031032104819559,0.40763159911118063,0.49398513523867876,0.3721553903915417,0.0],\"yaxis\":\"y\",\"type\":\"scatter\"},{\"hovertemplate\":\"label=NO2<br>year=%{x}<br>value=%{y}<extra></extra>\",\"legendgroup\":\"NO2\",\"line\":{\"color\":\"#EF553B\",\"dash\":\"solid\"},\"marker\":{\"symbol\":\"circle\"},\"mode\":\"lines\",\"name\":\"NO2\",\"orientation\":\"v\",\"showlegend\":true,\"x\":[2009,2010,2011,2012,2013,2014,2015,2016],\"xaxis\":\"x\",\"y\":[1.0,0.6804462934947058,0.7486384266263248,0.4128593040847188,0.29549924357035057,0.24391074130105775,0.13532526475037648,0.0],\"yaxis\":\"y\",\"type\":\"scatter\"},{\"hovertemplate\":\"label=O3<br>year=%{x}<br>value=%{y}<extra></extra>\",\"legendgroup\":\"O3\",\"line\":{\"color\":\"#00cc96\",\"dash\":\"solid\"},\"marker\":{\"symbol\":\"circle\"},\"mode\":\"lines\",\"name\":\"O3\",\"orientation\":\"v\",\"showlegend\":true,\"x\":[2009,2010,2011,2012,2013,2014,2015,2016],\"xaxis\":\"x\",\"y\":[0.0,0.9284602524932282,0.8475817144174803,0.9808900674468237,0.6336542341615276,0.690407563267426,0.7443361964604839,1.0],\"yaxis\":\"y\",\"type\":\"scatter\"},{\"hovertemplate\":\"label=SO2<br>year=%{x}<br>value=%{y}<extra></extra>\",\"legendgroup\":\"SO2\",\"line\":{\"color\":\"#ab63fa\",\"dash\":\"solid\"},\"marker\":{\"symbol\":\"circle\"},\"mode\":\"lines\",\"name\":\"SO2\",\"orientation\":\"v\",\"showlegend\":true,\"x\":[2009,2010,2011,2012,2013,2014,2015,2016],\"xaxis\":\"x\",\"y\":[1.0,0.6536605354215983,0.8340921507922054,0.4511018029502822,0.2581496995082862,0.28441995993443814,0.09205973411036242,0.0],\"yaxis\":\"y\",\"type\":\"scatter\"},{\"hovertemplate\":\"label=Asthma Hospitalizations<br>year=%{x}<br>value=%{y}<extra></extra>\",\"legendgroup\":\"Asthma Hospitalizations\",\"line\":{\"color\":\"#FFA15A\",\"dash\":\"solid\"},\"marker\":{\"symbol\":\"circle\"},\"mode\":\"lines\",\"name\":\"Asthma Hospitalizations\",\"orientation\":\"v\",\"showlegend\":true,\"x\":[2009,2010,2011,2012,2013,2014,2015,2016],\"xaxis\":\"x\",\"y\":[1.0,0.43888193575302453,0.3738005840634124,0.5077179808093447,0.37588652482269486,0.49812265331664574,0.10721735502711728,0.0],\"yaxis\":\"y\",\"type\":\"scatter\"}],                        {\"template\":{\"data\":{\"bar\":[{\"error_x\":{\"color\":\"#2a3f5f\"},\"error_y\":{\"color\":\"#2a3f5f\"},\"marker\":{\"line\":{\"color\":\"#E5ECF6\",\"width\":0.5},\"pattern\":{\"fillmode\":\"overlay\",\"size\":10,\"solidity\":0.2}},\"type\":\"bar\"}],\"barpolar\":[{\"marker\":{\"line\":{\"color\":\"#E5ECF6\",\"width\":0.5},\"pattern\":{\"fillmode\":\"overlay\",\"size\":10,\"solidity\":0.2}},\"type\":\"barpolar\"}],\"carpet\":[{\"aaxis\":{\"endlinecolor\":\"#2a3f5f\",\"gridcolor\":\"white\",\"linecolor\":\"white\",\"minorgridcolor\":\"white\",\"startlinecolor\":\"#2a3f5f\"},\"baxis\":{\"endlinecolor\":\"#2a3f5f\",\"gridcolor\":\"white\",\"linecolor\":\"white\",\"minorgridcolor\":\"white\",\"startlinecolor\":\"#2a3f5f\"},\"type\":\"carpet\"}],\"choropleth\":[{\"colorbar\":{\"outlinewidth\":0,\"ticks\":\"\"},\"type\":\"choropleth\"}],\"contour\":[{\"colorbar\":{\"outlinewidth\":0,\"ticks\":\"\"},\"colorscale\":[[0.0,\"#0d0887\"],[0.1111111111111111,\"#46039f\"],[0.2222222222222222,\"#7201a8\"],[0.3333333333333333,\"#9c179e\"],[0.4444444444444444,\"#bd3786\"],[0.5555555555555556,\"#d8576b\"],[0.6666666666666666,\"#ed7953\"],[0.7777777777777778,\"#fb9f3a\"],[0.8888888888888888,\"#fdca26\"],[1.0,\"#f0f921\"]],\"type\":\"contour\"}],\"contourcarpet\":[{\"colorbar\":{\"outlinewidth\":0,\"ticks\":\"\"},\"type\":\"contourcarpet\"}],\"heatmap\":[{\"colorbar\":{\"outlinewidth\":0,\"ticks\":\"\"},\"colorscale\":[[0.0,\"#0d0887\"],[0.1111111111111111,\"#46039f\"],[0.2222222222222222,\"#7201a8\"],[0.3333333333333333,\"#9c179e\"],[0.4444444444444444,\"#bd3786\"],[0.5555555555555556,\"#d8576b\"],[0.6666666666666666,\"#ed7953\"],[0.7777777777777778,\"#fb9f3a\"],[0.8888888888888888,\"#fdca26\"],[1.0,\"#f0f921\"]],\"type\":\"heatmap\"}],\"heatmapgl\":[{\"colorbar\":{\"outlinewidth\":0,\"ticks\":\"\"},\"colorscale\":[[0.0,\"#0d0887\"],[0.1111111111111111,\"#46039f\"],[0.2222222222222222,\"#7201a8\"],[0.3333333333333333,\"#9c179e\"],[0.4444444444444444,\"#bd3786\"],[0.5555555555555556,\"#d8576b\"],[0.6666666666666666,\"#ed7953\"],[0.7777777777777778,\"#fb9f3a\"],[0.8888888888888888,\"#fdca26\"],[1.0,\"#f0f921\"]],\"type\":\"heatmapgl\"}],\"histogram\":[{\"marker\":{\"pattern\":{\"fillmode\":\"overlay\",\"size\":10,\"solidity\":0.2}},\"type\":\"histogram\"}],\"histogram2d\":[{\"colorbar\":{\"outlinewidth\":0,\"ticks\":\"\"},\"colorscale\":[[0.0,\"#0d0887\"],[0.1111111111111111,\"#46039f\"],[0.2222222222222222,\"#7201a8\"],[0.3333333333333333,\"#9c179e\"],[0.4444444444444444,\"#bd3786\"],[0.5555555555555556,\"#d8576b\"],[0.6666666666666666,\"#ed7953\"],[0.7777777777777778,\"#fb9f3a\"],[0.8888888888888888,\"#fdca26\"],[1.0,\"#f0f921\"]],\"type\":\"histogram2d\"}],\"histogram2dcontour\":[{\"colorbar\":{\"outlinewidth\":0,\"ticks\":\"\"},\"colorscale\":[[0.0,\"#0d0887\"],[0.1111111111111111,\"#46039f\"],[0.2222222222222222,\"#7201a8\"],[0.3333333333333333,\"#9c179e\"],[0.4444444444444444,\"#bd3786\"],[0.5555555555555556,\"#d8576b\"],[0.6666666666666666,\"#ed7953\"],[0.7777777777777778,\"#fb9f3a\"],[0.8888888888888888,\"#fdca26\"],[1.0,\"#f0f921\"]],\"type\":\"histogram2dcontour\"}],\"mesh3d\":[{\"colorbar\":{\"outlinewidth\":0,\"ticks\":\"\"},\"type\":\"mesh3d\"}],\"parcoords\":[{\"line\":{\"colorbar\":{\"outlinewidth\":0,\"ticks\":\"\"}},\"type\":\"parcoords\"}],\"pie\":[{\"automargin\":true,\"type\":\"pie\"}],\"scatter\":[{\"marker\":{\"colorbar\":{\"outlinewidth\":0,\"ticks\":\"\"}},\"type\":\"scatter\"}],\"scatter3d\":[{\"line\":{\"colorbar\":{\"outlinewidth\":0,\"ticks\":\"\"}},\"marker\":{\"colorbar\":{\"outlinewidth\":0,\"ticks\":\"\"}},\"type\":\"scatter3d\"}],\"scattercarpet\":[{\"marker\":{\"colorbar\":{\"outlinewidth\":0,\"ticks\":\"\"}},\"type\":\"scattercarpet\"}],\"scattergeo\":[{\"marker\":{\"colorbar\":{\"outlinewidth\":0,\"ticks\":\"\"}},\"type\":\"scattergeo\"}],\"scattergl\":[{\"marker\":{\"colorbar\":{\"outlinewidth\":0,\"ticks\":\"\"}},\"type\":\"scattergl\"}],\"scattermapbox\":[{\"marker\":{\"colorbar\":{\"outlinewidth\":0,\"ticks\":\"\"}},\"type\":\"scattermapbox\"}],\"scatterpolar\":[{\"marker\":{\"colorbar\":{\"outlinewidth\":0,\"ticks\":\"\"}},\"type\":\"scatterpolar\"}],\"scatterpolargl\":[{\"marker\":{\"colorbar\":{\"outlinewidth\":0,\"ticks\":\"\"}},\"type\":\"scatterpolargl\"}],\"scatterternary\":[{\"marker\":{\"colorbar\":{\"outlinewidth\":0,\"ticks\":\"\"}},\"type\":\"scatterternary\"}],\"surface\":[{\"colorbar\":{\"outlinewidth\":0,\"ticks\":\"\"},\"colorscale\":[[0.0,\"#0d0887\"],[0.1111111111111111,\"#46039f\"],[0.2222222222222222,\"#7201a8\"],[0.3333333333333333,\"#9c179e\"],[0.4444444444444444,\"#bd3786\"],[0.5555555555555556,\"#d8576b\"],[0.6666666666666666,\"#ed7953\"],[0.7777777777777778,\"#fb9f3a\"],[0.8888888888888888,\"#fdca26\"],[1.0,\"#f0f921\"]],\"type\":\"surface\"}],\"table\":[{\"cells\":{\"fill\":{\"color\":\"#EBF0F8\"},\"line\":{\"color\":\"white\"}},\"header\":{\"fill\":{\"color\":\"#C8D4E3\"},\"line\":{\"color\":\"white\"}},\"type\":\"table\"}]},\"layout\":{\"annotationdefaults\":{\"arrowcolor\":\"#2a3f5f\",\"arrowhead\":0,\"arrowwidth\":1},\"autotypenumbers\":\"strict\",\"coloraxis\":{\"colorbar\":{\"outlinewidth\":0,\"ticks\":\"\"}},\"colorscale\":{\"diverging\":[[0,\"#8e0152\"],[0.1,\"#c51b7d\"],[0.2,\"#de77ae\"],[0.3,\"#f1b6da\"],[0.4,\"#fde0ef\"],[0.5,\"#f7f7f7\"],[0.6,\"#e6f5d0\"],[0.7,\"#b8e186\"],[0.8,\"#7fbc41\"],[0.9,\"#4d9221\"],[1,\"#276419\"]],\"sequential\":[[0.0,\"#0d0887\"],[0.1111111111111111,\"#46039f\"],[0.2222222222222222,\"#7201a8\"],[0.3333333333333333,\"#9c179e\"],[0.4444444444444444,\"#bd3786\"],[0.5555555555555556,\"#d8576b\"],[0.6666666666666666,\"#ed7953\"],[0.7777777777777778,\"#fb9f3a\"],[0.8888888888888888,\"#fdca26\"],[1.0,\"#f0f921\"]],\"sequentialminus\":[[0.0,\"#0d0887\"],[0.1111111111111111,\"#46039f\"],[0.2222222222222222,\"#7201a8\"],[0.3333333333333333,\"#9c179e\"],[0.4444444444444444,\"#bd3786\"],[0.5555555555555556,\"#d8576b\"],[0.6666666666666666,\"#ed7953\"],[0.7777777777777778,\"#fb9f3a\"],[0.8888888888888888,\"#fdca26\"],[1.0,\"#f0f921\"]]},\"colorway\":[\"#636efa\",\"#EF553B\",\"#00cc96\",\"#ab63fa\",\"#FFA15A\",\"#19d3f3\",\"#FF6692\",\"#B6E880\",\"#FF97FF\",\"#FECB52\"],\"font\":{\"color\":\"#2a3f5f\"},\"geo\":{\"bgcolor\":\"white\",\"lakecolor\":\"white\",\"landcolor\":\"#E5ECF6\",\"showlakes\":true,\"showland\":true,\"subunitcolor\":\"white\"},\"hoverlabel\":{\"align\":\"left\"},\"hovermode\":\"closest\",\"mapbox\":{\"style\":\"light\"},\"paper_bgcolor\":\"white\",\"plot_bgcolor\":\"#E5ECF6\",\"polar\":{\"angularaxis\":{\"gridcolor\":\"white\",\"linecolor\":\"white\",\"ticks\":\"\"},\"bgcolor\":\"#E5ECF6\",\"radialaxis\":{\"gridcolor\":\"white\",\"linecolor\":\"white\",\"ticks\":\"\"}},\"scene\":{\"xaxis\":{\"backgroundcolor\":\"#E5ECF6\",\"gridcolor\":\"white\",\"gridwidth\":2,\"linecolor\":\"white\",\"showbackground\":true,\"ticks\":\"\",\"zerolinecolor\":\"white\"},\"yaxis\":{\"backgroundcolor\":\"#E5ECF6\",\"gridcolor\":\"white\",\"gridwidth\":2,\"linecolor\":\"white\",\"showbackground\":true,\"ticks\":\"\",\"zerolinecolor\":\"white\"},\"zaxis\":{\"backgroundcolor\":\"#E5ECF6\",\"gridcolor\":\"white\",\"gridwidth\":2,\"linecolor\":\"white\",\"showbackground\":true,\"ticks\":\"\",\"zerolinecolor\":\"white\"}},\"shapedefaults\":{\"line\":{\"color\":\"#2a3f5f\"}},\"ternary\":{\"aaxis\":{\"gridcolor\":\"white\",\"linecolor\":\"white\",\"ticks\":\"\"},\"baxis\":{\"gridcolor\":\"white\",\"linecolor\":\"white\",\"ticks\":\"\"},\"bgcolor\":\"#E5ECF6\",\"caxis\":{\"gridcolor\":\"white\",\"linecolor\":\"white\",\"ticks\":\"\"}},\"title\":{\"x\":0.05},\"xaxis\":{\"automargin\":true,\"gridcolor\":\"white\",\"linecolor\":\"white\",\"ticks\":\"\",\"title\":{\"standoff\":15},\"zerolinecolor\":\"white\",\"zerolinewidth\":2},\"yaxis\":{\"automargin\":true,\"gridcolor\":\"white\",\"linecolor\":\"white\",\"ticks\":\"\",\"title\":{\"standoff\":15},\"zerolinecolor\":\"white\",\"zerolinewidth\":2}}},\"xaxis\":{\"anchor\":\"y\",\"domain\":[0.0,1.0],\"title\":{\"text\":\"year\"}},\"yaxis\":{\"anchor\":\"x\",\"domain\":[0.0,1.0],\"title\":{\"text\":\"value\"}},\"legend\":{\"title\":{\"text\":\"label\"},\"tracegroupgap\":0},\"title\":{\"text\":\"Evolution of Air Pollution and Children Asthma Hospitalizations in NYC\"}},                        {\"responsive\": true}                    ).then(function(){\n",
       "                            \n",
       "var gd = document.getElementById('57cda50b-19c5-440d-a181-30341860a31d');\n",
       "var x = new MutationObserver(function (mutations, observer) {{\n",
       "        var display = window.getComputedStyle(gd).display;\n",
       "        if (!display || display === 'none') {{\n",
       "            console.log([gd, 'removed!']);\n",
       "            Plotly.purge(gd);\n",
       "            observer.disconnect();\n",
       "        }}\n",
       "}});\n",
       "\n",
       "// Listen for the removal of the full notebook cells\n",
       "var notebookContainer = gd.closest('#notebook-container');\n",
       "if (notebookContainer) {{\n",
       "    x.observe(notebookContainer, {childList: true});\n",
       "}}\n",
       "\n",
       "// Listen for the clearing of the current output cell\n",
       "var outputEl = gd.closest('.output');\n",
       "if (outputEl) {{\n",
       "    x.observe(outputEl, {childList: true});\n",
       "}}\n",
       "\n",
       "                        })                };                });            </script>        </div>"
      ]
     },
     "metadata": {},
     "output_type": "display_data"
    }
   ],
   "source": [
    "# general line plot                         \n",
    "fig = px.line(line_plot_df, x='year', y='value', color='label', \n",
    "              title='Evolution of Air Pollution and Children Asthma Hospitalizations in NYC')\n",
    "fig.show()"
   ]
  },
  {
   "cell_type": "code",
   "execution_count": 25,
   "id": "1c43c9db",
   "metadata": {},
   "outputs": [
    {
     "data": {
      "application/vnd.plotly.v1+json": {
       "config": {
        "plotlyServerURL": "https://plotly.com"
       },
       "data": [
        {
         "hovertemplate": "label=PM2_5<br>year=%{x}<br>value=%{y}<extra></extra>",
         "legendgroup": "PM2_5",
         "line": {
          "color": "#636efa",
          "dash": "solid"
         },
         "marker": {
          "symbol": "circle"
         },
         "mode": "lines",
         "name": "PM2_5",
         "orientation": "v",
         "showlegend": true,
         "type": "scatter",
         "x": [
          2009,
          2010,
          2011,
          2012,
          2013,
          2014,
          2015,
          2016
         ],
         "xaxis": "x",
         "y": [
          1,
          0.7037008658340349,
          0.8698950272009793,
          0.5031032104819559,
          0.40763159911118063,
          0.49398513523867876,
          0.3721553903915417,
          0
         ],
         "yaxis": "y"
        },
        {
         "hovertemplate": "label=NO2<br>year=%{x}<br>value=%{y}<extra></extra>",
         "legendgroup": "NO2",
         "line": {
          "color": "#EF553B",
          "dash": "solid"
         },
         "marker": {
          "symbol": "circle"
         },
         "mode": "lines",
         "name": "NO2",
         "orientation": "v",
         "showlegend": true,
         "type": "scatter",
         "x": [
          2009,
          2010,
          2011,
          2012,
          2013,
          2014,
          2015,
          2016
         ],
         "xaxis": "x",
         "y": [
          1,
          0.6804462934947058,
          0.7486384266263248,
          0.4128593040847188,
          0.29549924357035057,
          0.24391074130105775,
          0.13532526475037648,
          0
         ],
         "yaxis": "y"
        },
        {
         "hovertemplate": "label=O3<br>year=%{x}<br>value=%{y}<extra></extra>",
         "legendgroup": "O3",
         "line": {
          "color": "#00cc96",
          "dash": "solid"
         },
         "marker": {
          "symbol": "circle"
         },
         "mode": "lines",
         "name": "O3",
         "orientation": "v",
         "showlegend": true,
         "type": "scatter",
         "x": [
          2009,
          2010,
          2011,
          2012,
          2013,
          2014,
          2015,
          2016
         ],
         "xaxis": "x",
         "y": [
          0,
          0.9284602524932282,
          0.8475817144174803,
          0.9808900674468237,
          0.6336542341615276,
          0.690407563267426,
          0.7443361964604839,
          1
         ],
         "yaxis": "y"
        },
        {
         "hovertemplate": "label=SO2<br>year=%{x}<br>value=%{y}<extra></extra>",
         "legendgroup": "SO2",
         "line": {
          "color": "#ab63fa",
          "dash": "solid"
         },
         "marker": {
          "symbol": "circle"
         },
         "mode": "lines",
         "name": "SO2",
         "orientation": "v",
         "showlegend": true,
         "type": "scatter",
         "x": [
          2009,
          2010,
          2011,
          2012,
          2013,
          2014,
          2015,
          2016
         ],
         "xaxis": "x",
         "y": [
          1,
          0.6536605354215983,
          0.8340921507922054,
          0.4511018029502822,
          0.2581496995082862,
          0.28441995993443814,
          0.09205973411036242,
          0
         ],
         "yaxis": "y"
        },
        {
         "hovertemplate": "label=Asthma Hospitalizations<br>year=%{x}<br>value=%{y}<extra></extra>",
         "legendgroup": "Asthma Hospitalizations",
         "line": {
          "color": "#FFA15A",
          "dash": "solid"
         },
         "marker": {
          "symbol": "circle"
         },
         "mode": "lines",
         "name": "Asthma Hospitalizations",
         "orientation": "v",
         "showlegend": true,
         "type": "scatter",
         "x": [
          2009,
          2010,
          2011,
          2012,
          2013,
          2014,
          2015,
          2016
         ],
         "xaxis": "x",
         "y": [
          1,
          0.43888193575302453,
          0.3738005840634124,
          0.5077179808093447,
          0.37588652482269486,
          0.49812265331664574,
          0.10721735502711728,
          0
         ],
         "yaxis": "y"
        }
       ],
       "layout": {
        "legend": {
         "title": {
          "text": "label"
         },
         "tracegroupgap": 0
        },
        "template": {
         "data": {
          "bar": [
           {
            "error_x": {
             "color": "#2a3f5f"
            },
            "error_y": {
             "color": "#2a3f5f"
            },
            "marker": {
             "line": {
              "color": "#E5ECF6",
              "width": 0.5
             },
             "pattern": {
              "fillmode": "overlay",
              "size": 10,
              "solidity": 0.2
             }
            },
            "type": "bar"
           }
          ],
          "barpolar": [
           {
            "marker": {
             "line": {
              "color": "#E5ECF6",
              "width": 0.5
             },
             "pattern": {
              "fillmode": "overlay",
              "size": 10,
              "solidity": 0.2
             }
            },
            "type": "barpolar"
           }
          ],
          "carpet": [
           {
            "aaxis": {
             "endlinecolor": "#2a3f5f",
             "gridcolor": "white",
             "linecolor": "white",
             "minorgridcolor": "white",
             "startlinecolor": "#2a3f5f"
            },
            "baxis": {
             "endlinecolor": "#2a3f5f",
             "gridcolor": "white",
             "linecolor": "white",
             "minorgridcolor": "white",
             "startlinecolor": "#2a3f5f"
            },
            "type": "carpet"
           }
          ],
          "choropleth": [
           {
            "colorbar": {
             "outlinewidth": 0,
             "ticks": ""
            },
            "type": "choropleth"
           }
          ],
          "contour": [
           {
            "colorbar": {
             "outlinewidth": 0,
             "ticks": ""
            },
            "colorscale": [
             [
              0,
              "#0d0887"
             ],
             [
              0.1111111111111111,
              "#46039f"
             ],
             [
              0.2222222222222222,
              "#7201a8"
             ],
             [
              0.3333333333333333,
              "#9c179e"
             ],
             [
              0.4444444444444444,
              "#bd3786"
             ],
             [
              0.5555555555555556,
              "#d8576b"
             ],
             [
              0.6666666666666666,
              "#ed7953"
             ],
             [
              0.7777777777777778,
              "#fb9f3a"
             ],
             [
              0.8888888888888888,
              "#fdca26"
             ],
             [
              1,
              "#f0f921"
             ]
            ],
            "type": "contour"
           }
          ],
          "contourcarpet": [
           {
            "colorbar": {
             "outlinewidth": 0,
             "ticks": ""
            },
            "type": "contourcarpet"
           }
          ],
          "heatmap": [
           {
            "colorbar": {
             "outlinewidth": 0,
             "ticks": ""
            },
            "colorscale": [
             [
              0,
              "#0d0887"
             ],
             [
              0.1111111111111111,
              "#46039f"
             ],
             [
              0.2222222222222222,
              "#7201a8"
             ],
             [
              0.3333333333333333,
              "#9c179e"
             ],
             [
              0.4444444444444444,
              "#bd3786"
             ],
             [
              0.5555555555555556,
              "#d8576b"
             ],
             [
              0.6666666666666666,
              "#ed7953"
             ],
             [
              0.7777777777777778,
              "#fb9f3a"
             ],
             [
              0.8888888888888888,
              "#fdca26"
             ],
             [
              1,
              "#f0f921"
             ]
            ],
            "type": "heatmap"
           }
          ],
          "heatmapgl": [
           {
            "colorbar": {
             "outlinewidth": 0,
             "ticks": ""
            },
            "colorscale": [
             [
              0,
              "#0d0887"
             ],
             [
              0.1111111111111111,
              "#46039f"
             ],
             [
              0.2222222222222222,
              "#7201a8"
             ],
             [
              0.3333333333333333,
              "#9c179e"
             ],
             [
              0.4444444444444444,
              "#bd3786"
             ],
             [
              0.5555555555555556,
              "#d8576b"
             ],
             [
              0.6666666666666666,
              "#ed7953"
             ],
             [
              0.7777777777777778,
              "#fb9f3a"
             ],
             [
              0.8888888888888888,
              "#fdca26"
             ],
             [
              1,
              "#f0f921"
             ]
            ],
            "type": "heatmapgl"
           }
          ],
          "histogram": [
           {
            "marker": {
             "pattern": {
              "fillmode": "overlay",
              "size": 10,
              "solidity": 0.2
             }
            },
            "type": "histogram"
           }
          ],
          "histogram2d": [
           {
            "colorbar": {
             "outlinewidth": 0,
             "ticks": ""
            },
            "colorscale": [
             [
              0,
              "#0d0887"
             ],
             [
              0.1111111111111111,
              "#46039f"
             ],
             [
              0.2222222222222222,
              "#7201a8"
             ],
             [
              0.3333333333333333,
              "#9c179e"
             ],
             [
              0.4444444444444444,
              "#bd3786"
             ],
             [
              0.5555555555555556,
              "#d8576b"
             ],
             [
              0.6666666666666666,
              "#ed7953"
             ],
             [
              0.7777777777777778,
              "#fb9f3a"
             ],
             [
              0.8888888888888888,
              "#fdca26"
             ],
             [
              1,
              "#f0f921"
             ]
            ],
            "type": "histogram2d"
           }
          ],
          "histogram2dcontour": [
           {
            "colorbar": {
             "outlinewidth": 0,
             "ticks": ""
            },
            "colorscale": [
             [
              0,
              "#0d0887"
             ],
             [
              0.1111111111111111,
              "#46039f"
             ],
             [
              0.2222222222222222,
              "#7201a8"
             ],
             [
              0.3333333333333333,
              "#9c179e"
             ],
             [
              0.4444444444444444,
              "#bd3786"
             ],
             [
              0.5555555555555556,
              "#d8576b"
             ],
             [
              0.6666666666666666,
              "#ed7953"
             ],
             [
              0.7777777777777778,
              "#fb9f3a"
             ],
             [
              0.8888888888888888,
              "#fdca26"
             ],
             [
              1,
              "#f0f921"
             ]
            ],
            "type": "histogram2dcontour"
           }
          ],
          "mesh3d": [
           {
            "colorbar": {
             "outlinewidth": 0,
             "ticks": ""
            },
            "type": "mesh3d"
           }
          ],
          "parcoords": [
           {
            "line": {
             "colorbar": {
              "outlinewidth": 0,
              "ticks": ""
             }
            },
            "type": "parcoords"
           }
          ],
          "pie": [
           {
            "automargin": true,
            "type": "pie"
           }
          ],
          "scatter": [
           {
            "marker": {
             "colorbar": {
              "outlinewidth": 0,
              "ticks": ""
             }
            },
            "type": "scatter"
           }
          ],
          "scatter3d": [
           {
            "line": {
             "colorbar": {
              "outlinewidth": 0,
              "ticks": ""
             }
            },
            "marker": {
             "colorbar": {
              "outlinewidth": 0,
              "ticks": ""
             }
            },
            "type": "scatter3d"
           }
          ],
          "scattercarpet": [
           {
            "marker": {
             "colorbar": {
              "outlinewidth": 0,
              "ticks": ""
             }
            },
            "type": "scattercarpet"
           }
          ],
          "scattergeo": [
           {
            "marker": {
             "colorbar": {
              "outlinewidth": 0,
              "ticks": ""
             }
            },
            "type": "scattergeo"
           }
          ],
          "scattergl": [
           {
            "marker": {
             "colorbar": {
              "outlinewidth": 0,
              "ticks": ""
             }
            },
            "type": "scattergl"
           }
          ],
          "scattermapbox": [
           {
            "marker": {
             "colorbar": {
              "outlinewidth": 0,
              "ticks": ""
             }
            },
            "type": "scattermapbox"
           }
          ],
          "scatterpolar": [
           {
            "marker": {
             "colorbar": {
              "outlinewidth": 0,
              "ticks": ""
             }
            },
            "type": "scatterpolar"
           }
          ],
          "scatterpolargl": [
           {
            "marker": {
             "colorbar": {
              "outlinewidth": 0,
              "ticks": ""
             }
            },
            "type": "scatterpolargl"
           }
          ],
          "scatterternary": [
           {
            "marker": {
             "colorbar": {
              "outlinewidth": 0,
              "ticks": ""
             }
            },
            "type": "scatterternary"
           }
          ],
          "surface": [
           {
            "colorbar": {
             "outlinewidth": 0,
             "ticks": ""
            },
            "colorscale": [
             [
              0,
              "#0d0887"
             ],
             [
              0.1111111111111111,
              "#46039f"
             ],
             [
              0.2222222222222222,
              "#7201a8"
             ],
             [
              0.3333333333333333,
              "#9c179e"
             ],
             [
              0.4444444444444444,
              "#bd3786"
             ],
             [
              0.5555555555555556,
              "#d8576b"
             ],
             [
              0.6666666666666666,
              "#ed7953"
             ],
             [
              0.7777777777777778,
              "#fb9f3a"
             ],
             [
              0.8888888888888888,
              "#fdca26"
             ],
             [
              1,
              "#f0f921"
             ]
            ],
            "type": "surface"
           }
          ],
          "table": [
           {
            "cells": {
             "fill": {
              "color": "#EBF0F8"
             },
             "line": {
              "color": "white"
             }
            },
            "header": {
             "fill": {
              "color": "#C8D4E3"
             },
             "line": {
              "color": "white"
             }
            },
            "type": "table"
           }
          ]
         },
         "layout": {
          "annotationdefaults": {
           "arrowcolor": "#2a3f5f",
           "arrowhead": 0,
           "arrowwidth": 1
          },
          "autotypenumbers": "strict",
          "coloraxis": {
           "colorbar": {
            "outlinewidth": 0,
            "ticks": ""
           }
          },
          "colorscale": {
           "diverging": [
            [
             0,
             "#8e0152"
            ],
            [
             0.1,
             "#c51b7d"
            ],
            [
             0.2,
             "#de77ae"
            ],
            [
             0.3,
             "#f1b6da"
            ],
            [
             0.4,
             "#fde0ef"
            ],
            [
             0.5,
             "#f7f7f7"
            ],
            [
             0.6,
             "#e6f5d0"
            ],
            [
             0.7,
             "#b8e186"
            ],
            [
             0.8,
             "#7fbc41"
            ],
            [
             0.9,
             "#4d9221"
            ],
            [
             1,
             "#276419"
            ]
           ],
           "sequential": [
            [
             0,
             "#0d0887"
            ],
            [
             0.1111111111111111,
             "#46039f"
            ],
            [
             0.2222222222222222,
             "#7201a8"
            ],
            [
             0.3333333333333333,
             "#9c179e"
            ],
            [
             0.4444444444444444,
             "#bd3786"
            ],
            [
             0.5555555555555556,
             "#d8576b"
            ],
            [
             0.6666666666666666,
             "#ed7953"
            ],
            [
             0.7777777777777778,
             "#fb9f3a"
            ],
            [
             0.8888888888888888,
             "#fdca26"
            ],
            [
             1,
             "#f0f921"
            ]
           ],
           "sequentialminus": [
            [
             0,
             "#0d0887"
            ],
            [
             0.1111111111111111,
             "#46039f"
            ],
            [
             0.2222222222222222,
             "#7201a8"
            ],
            [
             0.3333333333333333,
             "#9c179e"
            ],
            [
             0.4444444444444444,
             "#bd3786"
            ],
            [
             0.5555555555555556,
             "#d8576b"
            ],
            [
             0.6666666666666666,
             "#ed7953"
            ],
            [
             0.7777777777777778,
             "#fb9f3a"
            ],
            [
             0.8888888888888888,
             "#fdca26"
            ],
            [
             1,
             "#f0f921"
            ]
           ]
          },
          "colorway": [
           "#636efa",
           "#EF553B",
           "#00cc96",
           "#ab63fa",
           "#FFA15A",
           "#19d3f3",
           "#FF6692",
           "#B6E880",
           "#FF97FF",
           "#FECB52"
          ],
          "font": {
           "color": "#2a3f5f"
          },
          "geo": {
           "bgcolor": "white",
           "lakecolor": "white",
           "landcolor": "#E5ECF6",
           "showlakes": true,
           "showland": true,
           "subunitcolor": "white"
          },
          "hoverlabel": {
           "align": "left"
          },
          "hovermode": "closest",
          "mapbox": {
           "style": "light"
          },
          "paper_bgcolor": "white",
          "plot_bgcolor": "#E5ECF6",
          "polar": {
           "angularaxis": {
            "gridcolor": "white",
            "linecolor": "white",
            "ticks": ""
           },
           "bgcolor": "#E5ECF6",
           "radialaxis": {
            "gridcolor": "white",
            "linecolor": "white",
            "ticks": ""
           }
          },
          "scene": {
           "xaxis": {
            "backgroundcolor": "#E5ECF6",
            "gridcolor": "white",
            "gridwidth": 2,
            "linecolor": "white",
            "showbackground": true,
            "ticks": "",
            "zerolinecolor": "white"
           },
           "yaxis": {
            "backgroundcolor": "#E5ECF6",
            "gridcolor": "white",
            "gridwidth": 2,
            "linecolor": "white",
            "showbackground": true,
            "ticks": "",
            "zerolinecolor": "white"
           },
           "zaxis": {
            "backgroundcolor": "#E5ECF6",
            "gridcolor": "white",
            "gridwidth": 2,
            "linecolor": "white",
            "showbackground": true,
            "ticks": "",
            "zerolinecolor": "white"
           }
          },
          "shapedefaults": {
           "line": {
            "color": "#2a3f5f"
           }
          },
          "ternary": {
           "aaxis": {
            "gridcolor": "white",
            "linecolor": "white",
            "ticks": ""
           },
           "baxis": {
            "gridcolor": "white",
            "linecolor": "white",
            "ticks": ""
           },
           "bgcolor": "#E5ECF6",
           "caxis": {
            "gridcolor": "white",
            "linecolor": "white",
            "ticks": ""
           }
          },
          "title": {
           "x": 0.05
          },
          "xaxis": {
           "automargin": true,
           "gridcolor": "white",
           "linecolor": "white",
           "ticks": "",
           "title": {
            "standoff": 15
           },
           "zerolinecolor": "white",
           "zerolinewidth": 2
          },
          "yaxis": {
           "automargin": true,
           "gridcolor": "white",
           "linecolor": "white",
           "ticks": "",
           "title": {
            "standoff": 15
           },
           "zerolinecolor": "white",
           "zerolinewidth": 2
          }
         }
        },
        "title": {
         "text": "Evolution of Air Pollution and Children Asthma Hospitalizations in NYC"
        },
        "xaxis": {
         "anchor": "y",
         "domain": [
          0,
          1
         ],
         "title": {
          "text": "year"
         }
        },
        "yaxis": {
         "anchor": "x",
         "domain": [
          0,
          1
         ],
         "title": {
          "text": "value"
         }
        }
       }
      },
      "text/html": [
       "<div>                            <div id=\"4cfeeec6-2c71-490a-83c9-edc00be3afa9\" class=\"plotly-graph-div\" style=\"height:525px; width:100%;\"></div>            <script type=\"text/javascript\">                require([\"plotly\"], function(Plotly) {                    window.PLOTLYENV=window.PLOTLYENV || {};                                    if (document.getElementById(\"4cfeeec6-2c71-490a-83c9-edc00be3afa9\")) {                    Plotly.newPlot(                        \"4cfeeec6-2c71-490a-83c9-edc00be3afa9\",                        [{\"hovertemplate\":\"label=PM2_5<br>year=%{x}<br>value=%{y}<extra></extra>\",\"legendgroup\":\"PM2_5\",\"line\":{\"color\":\"#636efa\",\"dash\":\"solid\"},\"marker\":{\"symbol\":\"circle\"},\"mode\":\"lines\",\"name\":\"PM2_5\",\"orientation\":\"v\",\"showlegend\":true,\"x\":[2009,2010,2011,2012,2013,2014,2015,2016],\"xaxis\":\"x\",\"y\":[1.0,0.7037008658340349,0.8698950272009793,0.5031032104819559,0.40763159911118063,0.49398513523867876,0.3721553903915417,0.0],\"yaxis\":\"y\",\"type\":\"scatter\"},{\"hovertemplate\":\"label=NO2<br>year=%{x}<br>value=%{y}<extra></extra>\",\"legendgroup\":\"NO2\",\"line\":{\"color\":\"#EF553B\",\"dash\":\"solid\"},\"marker\":{\"symbol\":\"circle\"},\"mode\":\"lines\",\"name\":\"NO2\",\"orientation\":\"v\",\"showlegend\":true,\"x\":[2009,2010,2011,2012,2013,2014,2015,2016],\"xaxis\":\"x\",\"y\":[1.0,0.6804462934947058,0.7486384266263248,0.4128593040847188,0.29549924357035057,0.24391074130105775,0.13532526475037648,0.0],\"yaxis\":\"y\",\"type\":\"scatter\"},{\"hovertemplate\":\"label=O3<br>year=%{x}<br>value=%{y}<extra></extra>\",\"legendgroup\":\"O3\",\"line\":{\"color\":\"#00cc96\",\"dash\":\"solid\"},\"marker\":{\"symbol\":\"circle\"},\"mode\":\"lines\",\"name\":\"O3\",\"orientation\":\"v\",\"showlegend\":true,\"x\":[2009,2010,2011,2012,2013,2014,2015,2016],\"xaxis\":\"x\",\"y\":[0.0,0.9284602524932282,0.8475817144174803,0.9808900674468237,0.6336542341615276,0.690407563267426,0.7443361964604839,1.0],\"yaxis\":\"y\",\"type\":\"scatter\"},{\"hovertemplate\":\"label=SO2<br>year=%{x}<br>value=%{y}<extra></extra>\",\"legendgroup\":\"SO2\",\"line\":{\"color\":\"#ab63fa\",\"dash\":\"solid\"},\"marker\":{\"symbol\":\"circle\"},\"mode\":\"lines\",\"name\":\"SO2\",\"orientation\":\"v\",\"showlegend\":true,\"x\":[2009,2010,2011,2012,2013,2014,2015,2016],\"xaxis\":\"x\",\"y\":[1.0,0.6536605354215983,0.8340921507922054,0.4511018029502822,0.2581496995082862,0.28441995993443814,0.09205973411036242,0.0],\"yaxis\":\"y\",\"type\":\"scatter\"},{\"hovertemplate\":\"label=Asthma Hospitalizations<br>year=%{x}<br>value=%{y}<extra></extra>\",\"legendgroup\":\"Asthma Hospitalizations\",\"line\":{\"color\":\"#FFA15A\",\"dash\":\"solid\"},\"marker\":{\"symbol\":\"circle\"},\"mode\":\"lines\",\"name\":\"Asthma Hospitalizations\",\"orientation\":\"v\",\"showlegend\":true,\"x\":[2009,2010,2011,2012,2013,2014,2015,2016],\"xaxis\":\"x\",\"y\":[1.0,0.43888193575302453,0.3738005840634124,0.5077179808093447,0.37588652482269486,0.49812265331664574,0.10721735502711728,0.0],\"yaxis\":\"y\",\"type\":\"scatter\"}],                        {\"template\":{\"data\":{\"bar\":[{\"error_x\":{\"color\":\"#2a3f5f\"},\"error_y\":{\"color\":\"#2a3f5f\"},\"marker\":{\"line\":{\"color\":\"#E5ECF6\",\"width\":0.5},\"pattern\":{\"fillmode\":\"overlay\",\"size\":10,\"solidity\":0.2}},\"type\":\"bar\"}],\"barpolar\":[{\"marker\":{\"line\":{\"color\":\"#E5ECF6\",\"width\":0.5},\"pattern\":{\"fillmode\":\"overlay\",\"size\":10,\"solidity\":0.2}},\"type\":\"barpolar\"}],\"carpet\":[{\"aaxis\":{\"endlinecolor\":\"#2a3f5f\",\"gridcolor\":\"white\",\"linecolor\":\"white\",\"minorgridcolor\":\"white\",\"startlinecolor\":\"#2a3f5f\"},\"baxis\":{\"endlinecolor\":\"#2a3f5f\",\"gridcolor\":\"white\",\"linecolor\":\"white\",\"minorgridcolor\":\"white\",\"startlinecolor\":\"#2a3f5f\"},\"type\":\"carpet\"}],\"choropleth\":[{\"colorbar\":{\"outlinewidth\":0,\"ticks\":\"\"},\"type\":\"choropleth\"}],\"contour\":[{\"colorbar\":{\"outlinewidth\":0,\"ticks\":\"\"},\"colorscale\":[[0.0,\"#0d0887\"],[0.1111111111111111,\"#46039f\"],[0.2222222222222222,\"#7201a8\"],[0.3333333333333333,\"#9c179e\"],[0.4444444444444444,\"#bd3786\"],[0.5555555555555556,\"#d8576b\"],[0.6666666666666666,\"#ed7953\"],[0.7777777777777778,\"#fb9f3a\"],[0.8888888888888888,\"#fdca26\"],[1.0,\"#f0f921\"]],\"type\":\"contour\"}],\"contourcarpet\":[{\"colorbar\":{\"outlinewidth\":0,\"ticks\":\"\"},\"type\":\"contourcarpet\"}],\"heatmap\":[{\"colorbar\":{\"outlinewidth\":0,\"ticks\":\"\"},\"colorscale\":[[0.0,\"#0d0887\"],[0.1111111111111111,\"#46039f\"],[0.2222222222222222,\"#7201a8\"],[0.3333333333333333,\"#9c179e\"],[0.4444444444444444,\"#bd3786\"],[0.5555555555555556,\"#d8576b\"],[0.6666666666666666,\"#ed7953\"],[0.7777777777777778,\"#fb9f3a\"],[0.8888888888888888,\"#fdca26\"],[1.0,\"#f0f921\"]],\"type\":\"heatmap\"}],\"heatmapgl\":[{\"colorbar\":{\"outlinewidth\":0,\"ticks\":\"\"},\"colorscale\":[[0.0,\"#0d0887\"],[0.1111111111111111,\"#46039f\"],[0.2222222222222222,\"#7201a8\"],[0.3333333333333333,\"#9c179e\"],[0.4444444444444444,\"#bd3786\"],[0.5555555555555556,\"#d8576b\"],[0.6666666666666666,\"#ed7953\"],[0.7777777777777778,\"#fb9f3a\"],[0.8888888888888888,\"#fdca26\"],[1.0,\"#f0f921\"]],\"type\":\"heatmapgl\"}],\"histogram\":[{\"marker\":{\"pattern\":{\"fillmode\":\"overlay\",\"size\":10,\"solidity\":0.2}},\"type\":\"histogram\"}],\"histogram2d\":[{\"colorbar\":{\"outlinewidth\":0,\"ticks\":\"\"},\"colorscale\":[[0.0,\"#0d0887\"],[0.1111111111111111,\"#46039f\"],[0.2222222222222222,\"#7201a8\"],[0.3333333333333333,\"#9c179e\"],[0.4444444444444444,\"#bd3786\"],[0.5555555555555556,\"#d8576b\"],[0.6666666666666666,\"#ed7953\"],[0.7777777777777778,\"#fb9f3a\"],[0.8888888888888888,\"#fdca26\"],[1.0,\"#f0f921\"]],\"type\":\"histogram2d\"}],\"histogram2dcontour\":[{\"colorbar\":{\"outlinewidth\":0,\"ticks\":\"\"},\"colorscale\":[[0.0,\"#0d0887\"],[0.1111111111111111,\"#46039f\"],[0.2222222222222222,\"#7201a8\"],[0.3333333333333333,\"#9c179e\"],[0.4444444444444444,\"#bd3786\"],[0.5555555555555556,\"#d8576b\"],[0.6666666666666666,\"#ed7953\"],[0.7777777777777778,\"#fb9f3a\"],[0.8888888888888888,\"#fdca26\"],[1.0,\"#f0f921\"]],\"type\":\"histogram2dcontour\"}],\"mesh3d\":[{\"colorbar\":{\"outlinewidth\":0,\"ticks\":\"\"},\"type\":\"mesh3d\"}],\"parcoords\":[{\"line\":{\"colorbar\":{\"outlinewidth\":0,\"ticks\":\"\"}},\"type\":\"parcoords\"}],\"pie\":[{\"automargin\":true,\"type\":\"pie\"}],\"scatter\":[{\"marker\":{\"colorbar\":{\"outlinewidth\":0,\"ticks\":\"\"}},\"type\":\"scatter\"}],\"scatter3d\":[{\"line\":{\"colorbar\":{\"outlinewidth\":0,\"ticks\":\"\"}},\"marker\":{\"colorbar\":{\"outlinewidth\":0,\"ticks\":\"\"}},\"type\":\"scatter3d\"}],\"scattercarpet\":[{\"marker\":{\"colorbar\":{\"outlinewidth\":0,\"ticks\":\"\"}},\"type\":\"scattercarpet\"}],\"scattergeo\":[{\"marker\":{\"colorbar\":{\"outlinewidth\":0,\"ticks\":\"\"}},\"type\":\"scattergeo\"}],\"scattergl\":[{\"marker\":{\"colorbar\":{\"outlinewidth\":0,\"ticks\":\"\"}},\"type\":\"scattergl\"}],\"scattermapbox\":[{\"marker\":{\"colorbar\":{\"outlinewidth\":0,\"ticks\":\"\"}},\"type\":\"scattermapbox\"}],\"scatterpolar\":[{\"marker\":{\"colorbar\":{\"outlinewidth\":0,\"ticks\":\"\"}},\"type\":\"scatterpolar\"}],\"scatterpolargl\":[{\"marker\":{\"colorbar\":{\"outlinewidth\":0,\"ticks\":\"\"}},\"type\":\"scatterpolargl\"}],\"scatterternary\":[{\"marker\":{\"colorbar\":{\"outlinewidth\":0,\"ticks\":\"\"}},\"type\":\"scatterternary\"}],\"surface\":[{\"colorbar\":{\"outlinewidth\":0,\"ticks\":\"\"},\"colorscale\":[[0.0,\"#0d0887\"],[0.1111111111111111,\"#46039f\"],[0.2222222222222222,\"#7201a8\"],[0.3333333333333333,\"#9c179e\"],[0.4444444444444444,\"#bd3786\"],[0.5555555555555556,\"#d8576b\"],[0.6666666666666666,\"#ed7953\"],[0.7777777777777778,\"#fb9f3a\"],[0.8888888888888888,\"#fdca26\"],[1.0,\"#f0f921\"]],\"type\":\"surface\"}],\"table\":[{\"cells\":{\"fill\":{\"color\":\"#EBF0F8\"},\"line\":{\"color\":\"white\"}},\"header\":{\"fill\":{\"color\":\"#C8D4E3\"},\"line\":{\"color\":\"white\"}},\"type\":\"table\"}]},\"layout\":{\"annotationdefaults\":{\"arrowcolor\":\"#2a3f5f\",\"arrowhead\":0,\"arrowwidth\":1},\"autotypenumbers\":\"strict\",\"coloraxis\":{\"colorbar\":{\"outlinewidth\":0,\"ticks\":\"\"}},\"colorscale\":{\"diverging\":[[0,\"#8e0152\"],[0.1,\"#c51b7d\"],[0.2,\"#de77ae\"],[0.3,\"#f1b6da\"],[0.4,\"#fde0ef\"],[0.5,\"#f7f7f7\"],[0.6,\"#e6f5d0\"],[0.7,\"#b8e186\"],[0.8,\"#7fbc41\"],[0.9,\"#4d9221\"],[1,\"#276419\"]],\"sequential\":[[0.0,\"#0d0887\"],[0.1111111111111111,\"#46039f\"],[0.2222222222222222,\"#7201a8\"],[0.3333333333333333,\"#9c179e\"],[0.4444444444444444,\"#bd3786\"],[0.5555555555555556,\"#d8576b\"],[0.6666666666666666,\"#ed7953\"],[0.7777777777777778,\"#fb9f3a\"],[0.8888888888888888,\"#fdca26\"],[1.0,\"#f0f921\"]],\"sequentialminus\":[[0.0,\"#0d0887\"],[0.1111111111111111,\"#46039f\"],[0.2222222222222222,\"#7201a8\"],[0.3333333333333333,\"#9c179e\"],[0.4444444444444444,\"#bd3786\"],[0.5555555555555556,\"#d8576b\"],[0.6666666666666666,\"#ed7953\"],[0.7777777777777778,\"#fb9f3a\"],[0.8888888888888888,\"#fdca26\"],[1.0,\"#f0f921\"]]},\"colorway\":[\"#636efa\",\"#EF553B\",\"#00cc96\",\"#ab63fa\",\"#FFA15A\",\"#19d3f3\",\"#FF6692\",\"#B6E880\",\"#FF97FF\",\"#FECB52\"],\"font\":{\"color\":\"#2a3f5f\"},\"geo\":{\"bgcolor\":\"white\",\"lakecolor\":\"white\",\"landcolor\":\"#E5ECF6\",\"showlakes\":true,\"showland\":true,\"subunitcolor\":\"white\"},\"hoverlabel\":{\"align\":\"left\"},\"hovermode\":\"closest\",\"mapbox\":{\"style\":\"light\"},\"paper_bgcolor\":\"white\",\"plot_bgcolor\":\"#E5ECF6\",\"polar\":{\"angularaxis\":{\"gridcolor\":\"white\",\"linecolor\":\"white\",\"ticks\":\"\"},\"bgcolor\":\"#E5ECF6\",\"radialaxis\":{\"gridcolor\":\"white\",\"linecolor\":\"white\",\"ticks\":\"\"}},\"scene\":{\"xaxis\":{\"backgroundcolor\":\"#E5ECF6\",\"gridcolor\":\"white\",\"gridwidth\":2,\"linecolor\":\"white\",\"showbackground\":true,\"ticks\":\"\",\"zerolinecolor\":\"white\"},\"yaxis\":{\"backgroundcolor\":\"#E5ECF6\",\"gridcolor\":\"white\",\"gridwidth\":2,\"linecolor\":\"white\",\"showbackground\":true,\"ticks\":\"\",\"zerolinecolor\":\"white\"},\"zaxis\":{\"backgroundcolor\":\"#E5ECF6\",\"gridcolor\":\"white\",\"gridwidth\":2,\"linecolor\":\"white\",\"showbackground\":true,\"ticks\":\"\",\"zerolinecolor\":\"white\"}},\"shapedefaults\":{\"line\":{\"color\":\"#2a3f5f\"}},\"ternary\":{\"aaxis\":{\"gridcolor\":\"white\",\"linecolor\":\"white\",\"ticks\":\"\"},\"baxis\":{\"gridcolor\":\"white\",\"linecolor\":\"white\",\"ticks\":\"\"},\"bgcolor\":\"#E5ECF6\",\"caxis\":{\"gridcolor\":\"white\",\"linecolor\":\"white\",\"ticks\":\"\"}},\"title\":{\"x\":0.05},\"xaxis\":{\"automargin\":true,\"gridcolor\":\"white\",\"linecolor\":\"white\",\"ticks\":\"\",\"title\":{\"standoff\":15},\"zerolinecolor\":\"white\",\"zerolinewidth\":2},\"yaxis\":{\"automargin\":true,\"gridcolor\":\"white\",\"linecolor\":\"white\",\"ticks\":\"\",\"title\":{\"standoff\":15},\"zerolinecolor\":\"white\",\"zerolinewidth\":2}}},\"xaxis\":{\"anchor\":\"y\",\"domain\":[0.0,1.0],\"title\":{\"text\":\"year\"}},\"yaxis\":{\"anchor\":\"x\",\"domain\":[0.0,1.0],\"title\":{\"text\":\"value\"}},\"legend\":{\"title\":{\"text\":\"label\"},\"tracegroupgap\":0},\"title\":{\"text\":\"Evolution of Air Pollution and Children Asthma Hospitalizations in NYC\"}},                        {\"responsive\": true}                    ).then(function(){\n",
       "                            \n",
       "var gd = document.getElementById('4cfeeec6-2c71-490a-83c9-edc00be3afa9');\n",
       "var x = new MutationObserver(function (mutations, observer) {{\n",
       "        var display = window.getComputedStyle(gd).display;\n",
       "        if (!display || display === 'none') {{\n",
       "            console.log([gd, 'removed!']);\n",
       "            Plotly.purge(gd);\n",
       "            observer.disconnect();\n",
       "        }}\n",
       "}});\n",
       "\n",
       "// Listen for the removal of the full notebook cells\n",
       "var notebookContainer = gd.closest('#notebook-container');\n",
       "if (notebookContainer) {{\n",
       "    x.observe(notebookContainer, {childList: true});\n",
       "}}\n",
       "\n",
       "// Listen for the clearing of the current output cell\n",
       "var outputEl = gd.closest('.output');\n",
       "if (outputEl) {{\n",
       "    x.observe(outputEl, {childList: true});\n",
       "}}\n",
       "\n",
       "                        })                };                });            </script>        </div>"
      ]
     },
     "metadata": {},
     "output_type": "display_data"
    }
   ],
   "source": [
    "# general line plot                         \n",
    "fig = px.line(line_plot_df, x='year', y='value', color='label', \n",
    "              title='Evolution of Air Pollution and Children Asthma Hospitalizations in NYC')\n",
    "fig.show()"
   ]
  },
  {
   "cell_type": "code",
   "execution_count": 26,
   "id": "febfa267",
   "metadata": {},
   "outputs": [],
   "source": [
    "years=[9,10,11,12,13,14,15,16]"
   ]
  },
  {
   "cell_type": "code",
   "execution_count": 27,
   "id": "d2a7aaf2",
   "metadata": {},
   "outputs": [
    {
     "data": {
      "application/vnd.plotly.v1+json": {
       "config": {
        "plotlyServerURL": "https://plotly.com"
       },
       "data": [
        {
         "name": "Asthma hosp",
         "type": "scatter",
         "x": [
          9,
          10,
          11,
          12,
          13,
          14,
          15,
          16
         ],
         "xaxis": "x",
         "y": [
          1,
          0.43888193575302453,
          0.3738005840634124,
          0.5077179808093447,
          0.37588652482269486,
          0.49812265331664574,
          0.10721735502711728,
          0
         ],
         "yaxis": "y"
        },
        {
         "name": "PM2.5",
         "type": "scatter",
         "x": [
          9,
          10,
          11,
          12,
          13,
          14,
          15,
          16
         ],
         "xaxis": "x2",
         "y": [
          1,
          0.7037008658340349,
          0.8698950272009793,
          0.5031032104819559,
          0.40763159911118063,
          0.49398513523867876,
          0.3721553903915417,
          0
         ],
         "yaxis": "y2"
        },
        {
         "name": "NO2",
         "type": "scatter",
         "x": [
          9,
          10,
          11,
          12,
          13,
          14,
          15,
          16
         ],
         "xaxis": "x3",
         "y": [
          1,
          0.6804462934947058,
          0.7486384266263248,
          0.4128593040847188,
          0.29549924357035057,
          0.24391074130105775,
          0.13532526475037648,
          0
         ],
         "yaxis": "y3"
        },
        {
         "name": "O3",
         "type": "scatter",
         "x": [
          9,
          10,
          11,
          12,
          13,
          14,
          15,
          16
         ],
         "xaxis": "x4",
         "y": [
          0,
          0.9284602524932282,
          0.8475817144174803,
          0.9808900674468237,
          0.6336542341615276,
          0.690407563267426,
          0.7443361964604839,
          1
         ],
         "yaxis": "y4"
        },
        {
         "name": "SO2",
         "type": "scatter",
         "x": [
          9,
          10,
          11,
          12,
          13,
          14,
          15,
          16
         ],
         "xaxis": "x5",
         "y": [
          1,
          0.6536605354215983,
          0.8340921507922054,
          0.4511018029502822,
          0.2581496995082862,
          0.28441995993443814,
          0.09205973411036242,
          0
         ],
         "yaxis": "y5"
        }
       ],
       "layout": {
        "annotations": [
         {
          "font": {
           "size": 16
          },
          "showarrow": false,
          "text": "Asthma hosp",
          "x": 0.168,
          "xanchor": "center",
          "xref": "paper",
          "y": 1,
          "yanchor": "bottom",
          "yref": "paper"
         },
         {
          "font": {
           "size": 16
          },
          "showarrow": false,
          "text": "PM2.5",
          "x": 0.439,
          "xanchor": "center",
          "xref": "paper",
          "y": 1,
          "yanchor": "bottom",
          "yref": "paper"
         },
         {
          "font": {
           "size": 16
          },
          "showarrow": false,
          "text": "NO2",
          "x": 0.605,
          "xanchor": "center",
          "xref": "paper",
          "y": 1,
          "yanchor": "bottom",
          "yref": "paper"
         },
         {
          "font": {
           "size": 16
          },
          "showarrow": false,
          "text": "O3",
          "x": 0.7710000000000001,
          "xanchor": "center",
          "xref": "paper",
          "y": 1,
          "yanchor": "bottom",
          "yref": "paper"
         },
         {
          "font": {
           "size": 16
          },
          "showarrow": false,
          "text": "SO2",
          "x": 0.937,
          "xanchor": "center",
          "xref": "paper",
          "y": 1,
          "yanchor": "bottom",
          "yref": "paper"
         }
        ],
        "height": 350,
        "showlegend": false,
        "template": {
         "data": {
          "bar": [
           {
            "error_x": {
             "color": "#2a3f5f"
            },
            "error_y": {
             "color": "#2a3f5f"
            },
            "marker": {
             "line": {
              "color": "#E5ECF6",
              "width": 0.5
             },
             "pattern": {
              "fillmode": "overlay",
              "size": 10,
              "solidity": 0.2
             }
            },
            "type": "bar"
           }
          ],
          "barpolar": [
           {
            "marker": {
             "line": {
              "color": "#E5ECF6",
              "width": 0.5
             },
             "pattern": {
              "fillmode": "overlay",
              "size": 10,
              "solidity": 0.2
             }
            },
            "type": "barpolar"
           }
          ],
          "carpet": [
           {
            "aaxis": {
             "endlinecolor": "#2a3f5f",
             "gridcolor": "white",
             "linecolor": "white",
             "minorgridcolor": "white",
             "startlinecolor": "#2a3f5f"
            },
            "baxis": {
             "endlinecolor": "#2a3f5f",
             "gridcolor": "white",
             "linecolor": "white",
             "minorgridcolor": "white",
             "startlinecolor": "#2a3f5f"
            },
            "type": "carpet"
           }
          ],
          "choropleth": [
           {
            "colorbar": {
             "outlinewidth": 0,
             "ticks": ""
            },
            "type": "choropleth"
           }
          ],
          "contour": [
           {
            "colorbar": {
             "outlinewidth": 0,
             "ticks": ""
            },
            "colorscale": [
             [
              0,
              "#0d0887"
             ],
             [
              0.1111111111111111,
              "#46039f"
             ],
             [
              0.2222222222222222,
              "#7201a8"
             ],
             [
              0.3333333333333333,
              "#9c179e"
             ],
             [
              0.4444444444444444,
              "#bd3786"
             ],
             [
              0.5555555555555556,
              "#d8576b"
             ],
             [
              0.6666666666666666,
              "#ed7953"
             ],
             [
              0.7777777777777778,
              "#fb9f3a"
             ],
             [
              0.8888888888888888,
              "#fdca26"
             ],
             [
              1,
              "#f0f921"
             ]
            ],
            "type": "contour"
           }
          ],
          "contourcarpet": [
           {
            "colorbar": {
             "outlinewidth": 0,
             "ticks": ""
            },
            "type": "contourcarpet"
           }
          ],
          "heatmap": [
           {
            "colorbar": {
             "outlinewidth": 0,
             "ticks": ""
            },
            "colorscale": [
             [
              0,
              "#0d0887"
             ],
             [
              0.1111111111111111,
              "#46039f"
             ],
             [
              0.2222222222222222,
              "#7201a8"
             ],
             [
              0.3333333333333333,
              "#9c179e"
             ],
             [
              0.4444444444444444,
              "#bd3786"
             ],
             [
              0.5555555555555556,
              "#d8576b"
             ],
             [
              0.6666666666666666,
              "#ed7953"
             ],
             [
              0.7777777777777778,
              "#fb9f3a"
             ],
             [
              0.8888888888888888,
              "#fdca26"
             ],
             [
              1,
              "#f0f921"
             ]
            ],
            "type": "heatmap"
           }
          ],
          "heatmapgl": [
           {
            "colorbar": {
             "outlinewidth": 0,
             "ticks": ""
            },
            "colorscale": [
             [
              0,
              "#0d0887"
             ],
             [
              0.1111111111111111,
              "#46039f"
             ],
             [
              0.2222222222222222,
              "#7201a8"
             ],
             [
              0.3333333333333333,
              "#9c179e"
             ],
             [
              0.4444444444444444,
              "#bd3786"
             ],
             [
              0.5555555555555556,
              "#d8576b"
             ],
             [
              0.6666666666666666,
              "#ed7953"
             ],
             [
              0.7777777777777778,
              "#fb9f3a"
             ],
             [
              0.8888888888888888,
              "#fdca26"
             ],
             [
              1,
              "#f0f921"
             ]
            ],
            "type": "heatmapgl"
           }
          ],
          "histogram": [
           {
            "marker": {
             "pattern": {
              "fillmode": "overlay",
              "size": 10,
              "solidity": 0.2
             }
            },
            "type": "histogram"
           }
          ],
          "histogram2d": [
           {
            "colorbar": {
             "outlinewidth": 0,
             "ticks": ""
            },
            "colorscale": [
             [
              0,
              "#0d0887"
             ],
             [
              0.1111111111111111,
              "#46039f"
             ],
             [
              0.2222222222222222,
              "#7201a8"
             ],
             [
              0.3333333333333333,
              "#9c179e"
             ],
             [
              0.4444444444444444,
              "#bd3786"
             ],
             [
              0.5555555555555556,
              "#d8576b"
             ],
             [
              0.6666666666666666,
              "#ed7953"
             ],
             [
              0.7777777777777778,
              "#fb9f3a"
             ],
             [
              0.8888888888888888,
              "#fdca26"
             ],
             [
              1,
              "#f0f921"
             ]
            ],
            "type": "histogram2d"
           }
          ],
          "histogram2dcontour": [
           {
            "colorbar": {
             "outlinewidth": 0,
             "ticks": ""
            },
            "colorscale": [
             [
              0,
              "#0d0887"
             ],
             [
              0.1111111111111111,
              "#46039f"
             ],
             [
              0.2222222222222222,
              "#7201a8"
             ],
             [
              0.3333333333333333,
              "#9c179e"
             ],
             [
              0.4444444444444444,
              "#bd3786"
             ],
             [
              0.5555555555555556,
              "#d8576b"
             ],
             [
              0.6666666666666666,
              "#ed7953"
             ],
             [
              0.7777777777777778,
              "#fb9f3a"
             ],
             [
              0.8888888888888888,
              "#fdca26"
             ],
             [
              1,
              "#f0f921"
             ]
            ],
            "type": "histogram2dcontour"
           }
          ],
          "mesh3d": [
           {
            "colorbar": {
             "outlinewidth": 0,
             "ticks": ""
            },
            "type": "mesh3d"
           }
          ],
          "parcoords": [
           {
            "line": {
             "colorbar": {
              "outlinewidth": 0,
              "ticks": ""
             }
            },
            "type": "parcoords"
           }
          ],
          "pie": [
           {
            "automargin": true,
            "type": "pie"
           }
          ],
          "scatter": [
           {
            "marker": {
             "colorbar": {
              "outlinewidth": 0,
              "ticks": ""
             }
            },
            "type": "scatter"
           }
          ],
          "scatter3d": [
           {
            "line": {
             "colorbar": {
              "outlinewidth": 0,
              "ticks": ""
             }
            },
            "marker": {
             "colorbar": {
              "outlinewidth": 0,
              "ticks": ""
             }
            },
            "type": "scatter3d"
           }
          ],
          "scattercarpet": [
           {
            "marker": {
             "colorbar": {
              "outlinewidth": 0,
              "ticks": ""
             }
            },
            "type": "scattercarpet"
           }
          ],
          "scattergeo": [
           {
            "marker": {
             "colorbar": {
              "outlinewidth": 0,
              "ticks": ""
             }
            },
            "type": "scattergeo"
           }
          ],
          "scattergl": [
           {
            "marker": {
             "colorbar": {
              "outlinewidth": 0,
              "ticks": ""
             }
            },
            "type": "scattergl"
           }
          ],
          "scattermapbox": [
           {
            "marker": {
             "colorbar": {
              "outlinewidth": 0,
              "ticks": ""
             }
            },
            "type": "scattermapbox"
           }
          ],
          "scatterpolar": [
           {
            "marker": {
             "colorbar": {
              "outlinewidth": 0,
              "ticks": ""
             }
            },
            "type": "scatterpolar"
           }
          ],
          "scatterpolargl": [
           {
            "marker": {
             "colorbar": {
              "outlinewidth": 0,
              "ticks": ""
             }
            },
            "type": "scatterpolargl"
           }
          ],
          "scatterternary": [
           {
            "marker": {
             "colorbar": {
              "outlinewidth": 0,
              "ticks": ""
             }
            },
            "type": "scatterternary"
           }
          ],
          "surface": [
           {
            "colorbar": {
             "outlinewidth": 0,
             "ticks": ""
            },
            "colorscale": [
             [
              0,
              "#0d0887"
             ],
             [
              0.1111111111111111,
              "#46039f"
             ],
             [
              0.2222222222222222,
              "#7201a8"
             ],
             [
              0.3333333333333333,
              "#9c179e"
             ],
             [
              0.4444444444444444,
              "#bd3786"
             ],
             [
              0.5555555555555556,
              "#d8576b"
             ],
             [
              0.6666666666666666,
              "#ed7953"
             ],
             [
              0.7777777777777778,
              "#fb9f3a"
             ],
             [
              0.8888888888888888,
              "#fdca26"
             ],
             [
              1,
              "#f0f921"
             ]
            ],
            "type": "surface"
           }
          ],
          "table": [
           {
            "cells": {
             "fill": {
              "color": "#EBF0F8"
             },
             "line": {
              "color": "white"
             }
            },
            "header": {
             "fill": {
              "color": "#C8D4E3"
             },
             "line": {
              "color": "white"
             }
            },
            "type": "table"
           }
          ]
         },
         "layout": {
          "annotationdefaults": {
           "arrowcolor": "#2a3f5f",
           "arrowhead": 0,
           "arrowwidth": 1
          },
          "autotypenumbers": "strict",
          "coloraxis": {
           "colorbar": {
            "outlinewidth": 0,
            "ticks": ""
           }
          },
          "colorscale": {
           "diverging": [
            [
             0,
             "#8e0152"
            ],
            [
             0.1,
             "#c51b7d"
            ],
            [
             0.2,
             "#de77ae"
            ],
            [
             0.3,
             "#f1b6da"
            ],
            [
             0.4,
             "#fde0ef"
            ],
            [
             0.5,
             "#f7f7f7"
            ],
            [
             0.6,
             "#e6f5d0"
            ],
            [
             0.7,
             "#b8e186"
            ],
            [
             0.8,
             "#7fbc41"
            ],
            [
             0.9,
             "#4d9221"
            ],
            [
             1,
             "#276419"
            ]
           ],
           "sequential": [
            [
             0,
             "#0d0887"
            ],
            [
             0.1111111111111111,
             "#46039f"
            ],
            [
             0.2222222222222222,
             "#7201a8"
            ],
            [
             0.3333333333333333,
             "#9c179e"
            ],
            [
             0.4444444444444444,
             "#bd3786"
            ],
            [
             0.5555555555555556,
             "#d8576b"
            ],
            [
             0.6666666666666666,
             "#ed7953"
            ],
            [
             0.7777777777777778,
             "#fb9f3a"
            ],
            [
             0.8888888888888888,
             "#fdca26"
            ],
            [
             1,
             "#f0f921"
            ]
           ],
           "sequentialminus": [
            [
             0,
             "#0d0887"
            ],
            [
             0.1111111111111111,
             "#46039f"
            ],
            [
             0.2222222222222222,
             "#7201a8"
            ],
            [
             0.3333333333333333,
             "#9c179e"
            ],
            [
             0.4444444444444444,
             "#bd3786"
            ],
            [
             0.5555555555555556,
             "#d8576b"
            ],
            [
             0.6666666666666666,
             "#ed7953"
            ],
            [
             0.7777777777777778,
             "#fb9f3a"
            ],
            [
             0.8888888888888888,
             "#fdca26"
            ],
            [
             1,
             "#f0f921"
            ]
           ]
          },
          "colorway": [
           "#636efa",
           "#EF553B",
           "#00cc96",
           "#ab63fa",
           "#FFA15A",
           "#19d3f3",
           "#FF6692",
           "#B6E880",
           "#FF97FF",
           "#FECB52"
          ],
          "font": {
           "color": "#2a3f5f"
          },
          "geo": {
           "bgcolor": "white",
           "lakecolor": "white",
           "landcolor": "#E5ECF6",
           "showlakes": true,
           "showland": true,
           "subunitcolor": "white"
          },
          "hoverlabel": {
           "align": "left"
          },
          "hovermode": "closest",
          "mapbox": {
           "style": "light"
          },
          "paper_bgcolor": "white",
          "plot_bgcolor": "#E5ECF6",
          "polar": {
           "angularaxis": {
            "gridcolor": "white",
            "linecolor": "white",
            "ticks": ""
           },
           "bgcolor": "#E5ECF6",
           "radialaxis": {
            "gridcolor": "white",
            "linecolor": "white",
            "ticks": ""
           }
          },
          "scene": {
           "xaxis": {
            "backgroundcolor": "#E5ECF6",
            "gridcolor": "white",
            "gridwidth": 2,
            "linecolor": "white",
            "showbackground": true,
            "ticks": "",
            "zerolinecolor": "white"
           },
           "yaxis": {
            "backgroundcolor": "#E5ECF6",
            "gridcolor": "white",
            "gridwidth": 2,
            "linecolor": "white",
            "showbackground": true,
            "ticks": "",
            "zerolinecolor": "white"
           },
           "zaxis": {
            "backgroundcolor": "#E5ECF6",
            "gridcolor": "white",
            "gridwidth": 2,
            "linecolor": "white",
            "showbackground": true,
            "ticks": "",
            "zerolinecolor": "white"
           }
          },
          "shapedefaults": {
           "line": {
            "color": "#2a3f5f"
           }
          },
          "ternary": {
           "aaxis": {
            "gridcolor": "white",
            "linecolor": "white",
            "ticks": ""
           },
           "baxis": {
            "gridcolor": "white",
            "linecolor": "white",
            "ticks": ""
           },
           "bgcolor": "#E5ECF6",
           "caxis": {
            "gridcolor": "white",
            "linecolor": "white",
            "ticks": ""
           }
          },
          "title": {
           "x": 0.05
          },
          "xaxis": {
           "automargin": true,
           "gridcolor": "white",
           "linecolor": "white",
           "ticks": "",
           "title": {
            "standoff": 15
           },
           "zerolinecolor": "white",
           "zerolinewidth": 2
          },
          "yaxis": {
           "automargin": true,
           "gridcolor": "white",
           "linecolor": "white",
           "ticks": "",
           "title": {
            "standoff": 15
           },
           "zerolinecolor": "white",
           "zerolinewidth": 2
          }
         }
        },
        "title": {
         "text": "Evolution of Air Pollution and Children Asthma Hospitalizations in NYC"
        },
        "width": 1000,
        "xaxis": {
         "anchor": "y",
         "domain": [
          0,
          0.336
         ],
         "title": {
          "text": "year"
         }
        },
        "xaxis2": {
         "anchor": "y2",
         "domain": [
          0.376,
          0.502
         ],
         "title": {
          "text": "year"
         }
        },
        "xaxis3": {
         "anchor": "y3",
         "domain": [
          0.542,
          0.668
         ],
         "title": {
          "text": "year"
         }
        },
        "xaxis4": {
         "anchor": "y4",
         "domain": [
          0.7080000000000001,
          0.8340000000000001
         ],
         "title": {
          "text": "year"
         }
        },
        "xaxis5": {
         "anchor": "y5",
         "domain": [
          0.8740000000000001,
          1
         ],
         "title": {
          "text": "year"
         }
        },
        "yaxis": {
         "anchor": "x",
         "domain": [
          0,
          1
         ]
        },
        "yaxis2": {
         "anchor": "x2",
         "domain": [
          0,
          1
         ]
        },
        "yaxis3": {
         "anchor": "x3",
         "domain": [
          0,
          1
         ]
        },
        "yaxis4": {
         "anchor": "x4",
         "domain": [
          0,
          1
         ]
        },
        "yaxis5": {
         "anchor": "x5",
         "domain": [
          0,
          1
         ]
        }
       }
      },
      "text/html": [
       "<div>                            <div id=\"eb1e56f0-e2ce-40c3-b2f2-1b75cac273bf\" class=\"plotly-graph-div\" style=\"height:350px; width:1000px;\"></div>            <script type=\"text/javascript\">                require([\"plotly\"], function(Plotly) {                    window.PLOTLYENV=window.PLOTLYENV || {};                                    if (document.getElementById(\"eb1e56f0-e2ce-40c3-b2f2-1b75cac273bf\")) {                    Plotly.newPlot(                        \"eb1e56f0-e2ce-40c3-b2f2-1b75cac273bf\",                        [{\"name\":\"Asthma hosp\",\"x\":[9,10,11,12,13,14,15,16],\"y\":[1.0,0.43888193575302453,0.3738005840634124,0.5077179808093447,0.37588652482269486,0.49812265331664574,0.10721735502711728,0.0],\"type\":\"scatter\",\"xaxis\":\"x\",\"yaxis\":\"y\"},{\"name\":\"PM2.5\",\"x\":[9,10,11,12,13,14,15,16],\"y\":[1.0,0.7037008658340349,0.8698950272009793,0.5031032104819559,0.40763159911118063,0.49398513523867876,0.3721553903915417,0.0],\"type\":\"scatter\",\"xaxis\":\"x2\",\"yaxis\":\"y2\"},{\"name\":\"NO2\",\"x\":[9,10,11,12,13,14,15,16],\"y\":[1.0,0.6804462934947058,0.7486384266263248,0.4128593040847188,0.29549924357035057,0.24391074130105775,0.13532526475037648,0.0],\"type\":\"scatter\",\"xaxis\":\"x3\",\"yaxis\":\"y3\"},{\"name\":\"O3\",\"x\":[9,10,11,12,13,14,15,16],\"y\":[0.0,0.9284602524932282,0.8475817144174803,0.9808900674468237,0.6336542341615276,0.690407563267426,0.7443361964604839,1.0],\"type\":\"scatter\",\"xaxis\":\"x4\",\"yaxis\":\"y4\"},{\"name\":\"SO2\",\"x\":[9,10,11,12,13,14,15,16],\"y\":[1.0,0.6536605354215983,0.8340921507922054,0.4511018029502822,0.2581496995082862,0.28441995993443814,0.09205973411036242,0.0],\"type\":\"scatter\",\"xaxis\":\"x5\",\"yaxis\":\"y5\"}],                        {\"template\":{\"data\":{\"bar\":[{\"error_x\":{\"color\":\"#2a3f5f\"},\"error_y\":{\"color\":\"#2a3f5f\"},\"marker\":{\"line\":{\"color\":\"#E5ECF6\",\"width\":0.5},\"pattern\":{\"fillmode\":\"overlay\",\"size\":10,\"solidity\":0.2}},\"type\":\"bar\"}],\"barpolar\":[{\"marker\":{\"line\":{\"color\":\"#E5ECF6\",\"width\":0.5},\"pattern\":{\"fillmode\":\"overlay\",\"size\":10,\"solidity\":0.2}},\"type\":\"barpolar\"}],\"carpet\":[{\"aaxis\":{\"endlinecolor\":\"#2a3f5f\",\"gridcolor\":\"white\",\"linecolor\":\"white\",\"minorgridcolor\":\"white\",\"startlinecolor\":\"#2a3f5f\"},\"baxis\":{\"endlinecolor\":\"#2a3f5f\",\"gridcolor\":\"white\",\"linecolor\":\"white\",\"minorgridcolor\":\"white\",\"startlinecolor\":\"#2a3f5f\"},\"type\":\"carpet\"}],\"choropleth\":[{\"colorbar\":{\"outlinewidth\":0,\"ticks\":\"\"},\"type\":\"choropleth\"}],\"contour\":[{\"colorbar\":{\"outlinewidth\":0,\"ticks\":\"\"},\"colorscale\":[[0.0,\"#0d0887\"],[0.1111111111111111,\"#46039f\"],[0.2222222222222222,\"#7201a8\"],[0.3333333333333333,\"#9c179e\"],[0.4444444444444444,\"#bd3786\"],[0.5555555555555556,\"#d8576b\"],[0.6666666666666666,\"#ed7953\"],[0.7777777777777778,\"#fb9f3a\"],[0.8888888888888888,\"#fdca26\"],[1.0,\"#f0f921\"]],\"type\":\"contour\"}],\"contourcarpet\":[{\"colorbar\":{\"outlinewidth\":0,\"ticks\":\"\"},\"type\":\"contourcarpet\"}],\"heatmap\":[{\"colorbar\":{\"outlinewidth\":0,\"ticks\":\"\"},\"colorscale\":[[0.0,\"#0d0887\"],[0.1111111111111111,\"#46039f\"],[0.2222222222222222,\"#7201a8\"],[0.3333333333333333,\"#9c179e\"],[0.4444444444444444,\"#bd3786\"],[0.5555555555555556,\"#d8576b\"],[0.6666666666666666,\"#ed7953\"],[0.7777777777777778,\"#fb9f3a\"],[0.8888888888888888,\"#fdca26\"],[1.0,\"#f0f921\"]],\"type\":\"heatmap\"}],\"heatmapgl\":[{\"colorbar\":{\"outlinewidth\":0,\"ticks\":\"\"},\"colorscale\":[[0.0,\"#0d0887\"],[0.1111111111111111,\"#46039f\"],[0.2222222222222222,\"#7201a8\"],[0.3333333333333333,\"#9c179e\"],[0.4444444444444444,\"#bd3786\"],[0.5555555555555556,\"#d8576b\"],[0.6666666666666666,\"#ed7953\"],[0.7777777777777778,\"#fb9f3a\"],[0.8888888888888888,\"#fdca26\"],[1.0,\"#f0f921\"]],\"type\":\"heatmapgl\"}],\"histogram\":[{\"marker\":{\"pattern\":{\"fillmode\":\"overlay\",\"size\":10,\"solidity\":0.2}},\"type\":\"histogram\"}],\"histogram2d\":[{\"colorbar\":{\"outlinewidth\":0,\"ticks\":\"\"},\"colorscale\":[[0.0,\"#0d0887\"],[0.1111111111111111,\"#46039f\"],[0.2222222222222222,\"#7201a8\"],[0.3333333333333333,\"#9c179e\"],[0.4444444444444444,\"#bd3786\"],[0.5555555555555556,\"#d8576b\"],[0.6666666666666666,\"#ed7953\"],[0.7777777777777778,\"#fb9f3a\"],[0.8888888888888888,\"#fdca26\"],[1.0,\"#f0f921\"]],\"type\":\"histogram2d\"}],\"histogram2dcontour\":[{\"colorbar\":{\"outlinewidth\":0,\"ticks\":\"\"},\"colorscale\":[[0.0,\"#0d0887\"],[0.1111111111111111,\"#46039f\"],[0.2222222222222222,\"#7201a8\"],[0.3333333333333333,\"#9c179e\"],[0.4444444444444444,\"#bd3786\"],[0.5555555555555556,\"#d8576b\"],[0.6666666666666666,\"#ed7953\"],[0.7777777777777778,\"#fb9f3a\"],[0.8888888888888888,\"#fdca26\"],[1.0,\"#f0f921\"]],\"type\":\"histogram2dcontour\"}],\"mesh3d\":[{\"colorbar\":{\"outlinewidth\":0,\"ticks\":\"\"},\"type\":\"mesh3d\"}],\"parcoords\":[{\"line\":{\"colorbar\":{\"outlinewidth\":0,\"ticks\":\"\"}},\"type\":\"parcoords\"}],\"pie\":[{\"automargin\":true,\"type\":\"pie\"}],\"scatter\":[{\"marker\":{\"colorbar\":{\"outlinewidth\":0,\"ticks\":\"\"}},\"type\":\"scatter\"}],\"scatter3d\":[{\"line\":{\"colorbar\":{\"outlinewidth\":0,\"ticks\":\"\"}},\"marker\":{\"colorbar\":{\"outlinewidth\":0,\"ticks\":\"\"}},\"type\":\"scatter3d\"}],\"scattercarpet\":[{\"marker\":{\"colorbar\":{\"outlinewidth\":0,\"ticks\":\"\"}},\"type\":\"scattercarpet\"}],\"scattergeo\":[{\"marker\":{\"colorbar\":{\"outlinewidth\":0,\"ticks\":\"\"}},\"type\":\"scattergeo\"}],\"scattergl\":[{\"marker\":{\"colorbar\":{\"outlinewidth\":0,\"ticks\":\"\"}},\"type\":\"scattergl\"}],\"scattermapbox\":[{\"marker\":{\"colorbar\":{\"outlinewidth\":0,\"ticks\":\"\"}},\"type\":\"scattermapbox\"}],\"scatterpolar\":[{\"marker\":{\"colorbar\":{\"outlinewidth\":0,\"ticks\":\"\"}},\"type\":\"scatterpolar\"}],\"scatterpolargl\":[{\"marker\":{\"colorbar\":{\"outlinewidth\":0,\"ticks\":\"\"}},\"type\":\"scatterpolargl\"}],\"scatterternary\":[{\"marker\":{\"colorbar\":{\"outlinewidth\":0,\"ticks\":\"\"}},\"type\":\"scatterternary\"}],\"surface\":[{\"colorbar\":{\"outlinewidth\":0,\"ticks\":\"\"},\"colorscale\":[[0.0,\"#0d0887\"],[0.1111111111111111,\"#46039f\"],[0.2222222222222222,\"#7201a8\"],[0.3333333333333333,\"#9c179e\"],[0.4444444444444444,\"#bd3786\"],[0.5555555555555556,\"#d8576b\"],[0.6666666666666666,\"#ed7953\"],[0.7777777777777778,\"#fb9f3a\"],[0.8888888888888888,\"#fdca26\"],[1.0,\"#f0f921\"]],\"type\":\"surface\"}],\"table\":[{\"cells\":{\"fill\":{\"color\":\"#EBF0F8\"},\"line\":{\"color\":\"white\"}},\"header\":{\"fill\":{\"color\":\"#C8D4E3\"},\"line\":{\"color\":\"white\"}},\"type\":\"table\"}]},\"layout\":{\"annotationdefaults\":{\"arrowcolor\":\"#2a3f5f\",\"arrowhead\":0,\"arrowwidth\":1},\"autotypenumbers\":\"strict\",\"coloraxis\":{\"colorbar\":{\"outlinewidth\":0,\"ticks\":\"\"}},\"colorscale\":{\"diverging\":[[0,\"#8e0152\"],[0.1,\"#c51b7d\"],[0.2,\"#de77ae\"],[0.3,\"#f1b6da\"],[0.4,\"#fde0ef\"],[0.5,\"#f7f7f7\"],[0.6,\"#e6f5d0\"],[0.7,\"#b8e186\"],[0.8,\"#7fbc41\"],[0.9,\"#4d9221\"],[1,\"#276419\"]],\"sequential\":[[0.0,\"#0d0887\"],[0.1111111111111111,\"#46039f\"],[0.2222222222222222,\"#7201a8\"],[0.3333333333333333,\"#9c179e\"],[0.4444444444444444,\"#bd3786\"],[0.5555555555555556,\"#d8576b\"],[0.6666666666666666,\"#ed7953\"],[0.7777777777777778,\"#fb9f3a\"],[0.8888888888888888,\"#fdca26\"],[1.0,\"#f0f921\"]],\"sequentialminus\":[[0.0,\"#0d0887\"],[0.1111111111111111,\"#46039f\"],[0.2222222222222222,\"#7201a8\"],[0.3333333333333333,\"#9c179e\"],[0.4444444444444444,\"#bd3786\"],[0.5555555555555556,\"#d8576b\"],[0.6666666666666666,\"#ed7953\"],[0.7777777777777778,\"#fb9f3a\"],[0.8888888888888888,\"#fdca26\"],[1.0,\"#f0f921\"]]},\"colorway\":[\"#636efa\",\"#EF553B\",\"#00cc96\",\"#ab63fa\",\"#FFA15A\",\"#19d3f3\",\"#FF6692\",\"#B6E880\",\"#FF97FF\",\"#FECB52\"],\"font\":{\"color\":\"#2a3f5f\"},\"geo\":{\"bgcolor\":\"white\",\"lakecolor\":\"white\",\"landcolor\":\"#E5ECF6\",\"showlakes\":true,\"showland\":true,\"subunitcolor\":\"white\"},\"hoverlabel\":{\"align\":\"left\"},\"hovermode\":\"closest\",\"mapbox\":{\"style\":\"light\"},\"paper_bgcolor\":\"white\",\"plot_bgcolor\":\"#E5ECF6\",\"polar\":{\"angularaxis\":{\"gridcolor\":\"white\",\"linecolor\":\"white\",\"ticks\":\"\"},\"bgcolor\":\"#E5ECF6\",\"radialaxis\":{\"gridcolor\":\"white\",\"linecolor\":\"white\",\"ticks\":\"\"}},\"scene\":{\"xaxis\":{\"backgroundcolor\":\"#E5ECF6\",\"gridcolor\":\"white\",\"gridwidth\":2,\"linecolor\":\"white\",\"showbackground\":true,\"ticks\":\"\",\"zerolinecolor\":\"white\"},\"yaxis\":{\"backgroundcolor\":\"#E5ECF6\",\"gridcolor\":\"white\",\"gridwidth\":2,\"linecolor\":\"white\",\"showbackground\":true,\"ticks\":\"\",\"zerolinecolor\":\"white\"},\"zaxis\":{\"backgroundcolor\":\"#E5ECF6\",\"gridcolor\":\"white\",\"gridwidth\":2,\"linecolor\":\"white\",\"showbackground\":true,\"ticks\":\"\",\"zerolinecolor\":\"white\"}},\"shapedefaults\":{\"line\":{\"color\":\"#2a3f5f\"}},\"ternary\":{\"aaxis\":{\"gridcolor\":\"white\",\"linecolor\":\"white\",\"ticks\":\"\"},\"baxis\":{\"gridcolor\":\"white\",\"linecolor\":\"white\",\"ticks\":\"\"},\"bgcolor\":\"#E5ECF6\",\"caxis\":{\"gridcolor\":\"white\",\"linecolor\":\"white\",\"ticks\":\"\"}},\"title\":{\"x\":0.05},\"xaxis\":{\"automargin\":true,\"gridcolor\":\"white\",\"linecolor\":\"white\",\"ticks\":\"\",\"title\":{\"standoff\":15},\"zerolinecolor\":\"white\",\"zerolinewidth\":2},\"yaxis\":{\"automargin\":true,\"gridcolor\":\"white\",\"linecolor\":\"white\",\"ticks\":\"\",\"title\":{\"standoff\":15},\"zerolinecolor\":\"white\",\"zerolinewidth\":2}}},\"xaxis\":{\"anchor\":\"y\",\"domain\":[0.0,0.336],\"title\":{\"text\":\"year\"}},\"yaxis\":{\"anchor\":\"x\",\"domain\":[0.0,1.0]},\"xaxis2\":{\"anchor\":\"y2\",\"domain\":[0.376,0.502],\"title\":{\"text\":\"year\"}},\"yaxis2\":{\"anchor\":\"x2\",\"domain\":[0.0,1.0]},\"xaxis3\":{\"anchor\":\"y3\",\"domain\":[0.542,0.668],\"title\":{\"text\":\"year\"}},\"yaxis3\":{\"anchor\":\"x3\",\"domain\":[0.0,1.0]},\"xaxis4\":{\"anchor\":\"y4\",\"domain\":[0.7080000000000001,0.8340000000000001],\"title\":{\"text\":\"year\"}},\"yaxis4\":{\"anchor\":\"x4\",\"domain\":[0.0,1.0]},\"xaxis5\":{\"anchor\":\"y5\",\"domain\":[0.8740000000000001,1.0],\"title\":{\"text\":\"year\"}},\"yaxis5\":{\"anchor\":\"x5\",\"domain\":[0.0,1.0]},\"annotations\":[{\"font\":{\"size\":16},\"showarrow\":false,\"text\":\"Asthma hosp\",\"x\":0.168,\"xanchor\":\"center\",\"xref\":\"paper\",\"y\":1.0,\"yanchor\":\"bottom\",\"yref\":\"paper\"},{\"font\":{\"size\":16},\"showarrow\":false,\"text\":\"PM2.5\",\"x\":0.439,\"xanchor\":\"center\",\"xref\":\"paper\",\"y\":1.0,\"yanchor\":\"bottom\",\"yref\":\"paper\"},{\"font\":{\"size\":16},\"showarrow\":false,\"text\":\"NO2\",\"x\":0.605,\"xanchor\":\"center\",\"xref\":\"paper\",\"y\":1.0,\"yanchor\":\"bottom\",\"yref\":\"paper\"},{\"font\":{\"size\":16},\"showarrow\":false,\"text\":\"O3\",\"x\":0.7710000000000001,\"xanchor\":\"center\",\"xref\":\"paper\",\"y\":1.0,\"yanchor\":\"bottom\",\"yref\":\"paper\"},{\"font\":{\"size\":16},\"showarrow\":false,\"text\":\"SO2\",\"x\":0.937,\"xanchor\":\"center\",\"xref\":\"paper\",\"y\":1.0,\"yanchor\":\"bottom\",\"yref\":\"paper\"}],\"title\":{\"text\":\"Evolution of Air Pollution and Children Asthma Hospitalizations in NYC\"},\"height\":350,\"width\":1000,\"showlegend\":false},                        {\"responsive\": true}                    ).then(function(){\n",
       "                            \n",
       "var gd = document.getElementById('eb1e56f0-e2ce-40c3-b2f2-1b75cac273bf');\n",
       "var x = new MutationObserver(function (mutations, observer) {{\n",
       "        var display = window.getComputedStyle(gd).display;\n",
       "        if (!display || display === 'none') {{\n",
       "            console.log([gd, 'removed!']);\n",
       "            Plotly.purge(gd);\n",
       "            observer.disconnect();\n",
       "        }}\n",
       "}});\n",
       "\n",
       "// Listen for the removal of the full notebook cells\n",
       "var notebookContainer = gd.closest('#notebook-container');\n",
       "if (notebookContainer) {{\n",
       "    x.observe(notebookContainer, {childList: true});\n",
       "}}\n",
       "\n",
       "// Listen for the clearing of the current output cell\n",
       "var outputEl = gd.closest('.output');\n",
       "if (outputEl) {{\n",
       "    x.observe(outputEl, {childList: true});\n",
       "}}\n",
       "\n",
       "                        })                };                });            </script>        </div>"
      ]
     },
     "metadata": {},
     "output_type": "display_data"
    }
   ],
   "source": [
    "from plotly.subplots import make_subplots\n",
    "import plotly.graph_objects as go\n",
    "\n",
    "fig = make_subplots(\n",
    "    rows=1, cols=5,column_widths=[0.4, 0.15,0.15,0.15,0.15],\n",
    "    subplot_titles=(\"Asthma hosp\",\"PM2.5\", \"NO2\", \"O3\", \"SO2\"))\n",
    "\n",
    "fig.add_trace(go.Scatter(x=years, y=asthma_per_year,name='Asthma hosp'),\n",
    "              row=1, col=1)\n",
    "\n",
    "fig.add_trace(go.Scatter(x=years, y=PM2_5_per_year,name='PM2.5'),\n",
    "              row=1, col=2)\n",
    "\n",
    "fig.add_trace(go.Scatter(x=years, y=NO2_per_year,name='NO2'),\n",
    "              row=1, col=3)\n",
    "\n",
    "fig.add_trace(go.Scatter(x=years, y=O3_per_year,name='O3'),\n",
    "              row=1, col=4)\n",
    "\n",
    "fig.add_trace(go.Scatter(x=years, y=SO2_per_year,name='SO2'),\n",
    "              row=1, col=5)\n",
    "\n",
    "# Update xaxis properties\n",
    "fig.update_xaxes(title_text=\"year\", row=1, col=1)\n",
    "fig.update_xaxes(title_text=\"year\", row=1, col=2)\n",
    "fig.update_xaxes(title_text=\"year\", row=1, col=3)\n",
    "fig.update_xaxes(title_text=\"year\", row=1, col=4)\n",
    "fig.update_xaxes(title_text=\"year\", row=1, col=5)\n",
    "\n",
    "\n",
    "fig.update_layout(height=350, width=1000,\n",
    "                  title_text='Evolution of Air Pollution and Children Asthma Hospitalizations in NYC')\n",
    "\n",
    "fig.update_layout(showlegend=False)\n",
    "fig.show()"
   ]
  },
  {
   "cell_type": "markdown",
   "id": "51ac26bc",
   "metadata": {},
   "source": [
    "The first step has been to combine both datasets per year and district. Thus the average NO2, PM2.5, O3 and SO2 values have been computed for each category and saved together with the number of hospitalizations. First thing to study then is which is the correlation between the different air pollutants, and if one of those show any correlation with the numer of asthma hospitalizations."
   ]
  },
  {
   "cell_type": "code",
   "execution_count": 30,
   "id": "09a89fcc",
   "metadata": {},
   "outputs": [
    {
     "data": {
      "text/html": [
       "<div>\n",
       "<style scoped>\n",
       "    .dataframe tbody tr th:only-of-type {\n",
       "        vertical-align: middle;\n",
       "    }\n",
       "\n",
       "    .dataframe tbody tr th {\n",
       "        vertical-align: top;\n",
       "    }\n",
       "\n",
       "    .dataframe thead th {\n",
       "        text-align: right;\n",
       "    }\n",
       "</style>\n",
       "<table border=\"1\" class=\"dataframe\">\n",
       "  <thead>\n",
       "    <tr style=\"text-align: right;\">\n",
       "      <th></th>\n",
       "      <th>year</th>\n",
       "      <th>district</th>\n",
       "      <th>age_group</th>\n",
       "      <th>NO2</th>\n",
       "      <th>PM2_5</th>\n",
       "      <th>O3</th>\n",
       "      <th>SO2</th>\n",
       "      <th>asthma_hosp</th>\n",
       "    </tr>\n",
       "  </thead>\n",
       "  <tbody>\n",
       "    <tr>\n",
       "      <th>0</th>\n",
       "      <td>2009</td>\n",
       "      <td>101</td>\n",
       "      <td>0-4y</td>\n",
       "      <td>23.20</td>\n",
       "      <td>11.03</td>\n",
       "      <td>23.67</td>\n",
       "      <td>6.62</td>\n",
       "      <td>30</td>\n",
       "    </tr>\n",
       "    <tr>\n",
       "      <th>1</th>\n",
       "      <td>2009</td>\n",
       "      <td>101</td>\n",
       "      <td>5-17y</td>\n",
       "      <td>23.20</td>\n",
       "      <td>11.03</td>\n",
       "      <td>23.67</td>\n",
       "      <td>6.62</td>\n",
       "      <td>31</td>\n",
       "    </tr>\n",
       "    <tr>\n",
       "      <th>2</th>\n",
       "      <td>2009</td>\n",
       "      <td>102</td>\n",
       "      <td>0-4y</td>\n",
       "      <td>22.39</td>\n",
       "      <td>10.68</td>\n",
       "      <td>26.82</td>\n",
       "      <td>5.38</td>\n",
       "      <td>155</td>\n",
       "    </tr>\n",
       "    <tr>\n",
       "      <th>3</th>\n",
       "      <td>2009</td>\n",
       "      <td>102</td>\n",
       "      <td>5-17y</td>\n",
       "      <td>22.39</td>\n",
       "      <td>10.68</td>\n",
       "      <td>26.82</td>\n",
       "      <td>5.38</td>\n",
       "      <td>127</td>\n",
       "    </tr>\n",
       "    <tr>\n",
       "      <th>4</th>\n",
       "      <td>2009</td>\n",
       "      <td>103</td>\n",
       "      <td>0-4y</td>\n",
       "      <td>24.82</td>\n",
       "      <td>11.10</td>\n",
       "      <td>24.47</td>\n",
       "      <td>9.48</td>\n",
       "      <td>349</td>\n",
       "    </tr>\n",
       "    <tr>\n",
       "      <th>...</th>\n",
       "      <td>...</td>\n",
       "      <td>...</td>\n",
       "      <td>...</td>\n",
       "      <td>...</td>\n",
       "      <td>...</td>\n",
       "      <td>...</td>\n",
       "      <td>...</td>\n",
       "      <td>...</td>\n",
       "    </tr>\n",
       "    <tr>\n",
       "      <th>667</th>\n",
       "      <td>2016</td>\n",
       "      <td>502</td>\n",
       "      <td>5-17y</td>\n",
       "      <td>14.93</td>\n",
       "      <td>6.80</td>\n",
       "      <td>34.18</td>\n",
       "      <td>0.13</td>\n",
       "      <td>31</td>\n",
       "    </tr>\n",
       "    <tr>\n",
       "      <th>668</th>\n",
       "      <td>2016</td>\n",
       "      <td>503</td>\n",
       "      <td>0-4y</td>\n",
       "      <td>14.11</td>\n",
       "      <td>7.10</td>\n",
       "      <td>34.68</td>\n",
       "      <td>0.12</td>\n",
       "      <td>12</td>\n",
       "    </tr>\n",
       "    <tr>\n",
       "      <th>669</th>\n",
       "      <td>2016</td>\n",
       "      <td>503</td>\n",
       "      <td>5-17y</td>\n",
       "      <td>14.11</td>\n",
       "      <td>7.10</td>\n",
       "      <td>34.68</td>\n",
       "      <td>0.12</td>\n",
       "      <td>0</td>\n",
       "    </tr>\n",
       "    <tr>\n",
       "      <th>670</th>\n",
       "      <td>2016</td>\n",
       "      <td>504</td>\n",
       "      <td>0-4y</td>\n",
       "      <td>11.52</td>\n",
       "      <td>6.59</td>\n",
       "      <td>36.17</td>\n",
       "      <td>0.11</td>\n",
       "      <td>24</td>\n",
       "    </tr>\n",
       "    <tr>\n",
       "      <th>671</th>\n",
       "      <td>2016</td>\n",
       "      <td>504</td>\n",
       "      <td>5-17y</td>\n",
       "      <td>11.52</td>\n",
       "      <td>6.59</td>\n",
       "      <td>36.17</td>\n",
       "      <td>0.11</td>\n",
       "      <td>12</td>\n",
       "    </tr>\n",
       "  </tbody>\n",
       "</table>\n",
       "<p>672 rows × 8 columns</p>\n",
       "</div>"
      ],
      "text/plain": [
       "     year  district age_group    NO2  PM2_5     O3   SO2  asthma_hosp\n",
       "0    2009       101      0-4y  23.20  11.03  23.67  6.62           30\n",
       "1    2009       101     5-17y  23.20  11.03  23.67  6.62           31\n",
       "2    2009       102      0-4y  22.39  10.68  26.82  5.38          155\n",
       "3    2009       102     5-17y  22.39  10.68  26.82  5.38          127\n",
       "4    2009       103      0-4y  24.82  11.10  24.47  9.48          349\n",
       "..    ...       ...       ...    ...    ...    ...   ...          ...\n",
       "667  2016       502     5-17y  14.93   6.80  34.18  0.13           31\n",
       "668  2016       503      0-4y  14.11   7.10  34.68  0.12           12\n",
       "669  2016       503     5-17y  14.11   7.10  34.68  0.12            0\n",
       "670  2016       504      0-4y  11.52   6.59  36.17  0.11           24\n",
       "671  2016       504     5-17y  11.52   6.59  36.17  0.11           12\n",
       "\n",
       "[672 rows x 8 columns]"
      ]
     },
     "execution_count": 30,
     "metadata": {},
     "output_type": "execute_result"
    }
   ],
   "source": [
    "data=pd.read_csv('Machine_Model_Data.csv')\n",
    "data=data.iloc[:,1:]\n",
    "data"
   ]
  },
  {
   "cell_type": "markdown",
   "id": "68964acc",
   "metadata": {},
   "source": [
    "Not really interested in separating between age_groups, let's merge both rows per year and district."
   ]
  },
  {
   "cell_type": "code",
   "execution_count": 29,
   "id": "f3e1a34f",
   "metadata": {},
   "outputs": [
    {
     "data": {
      "text/html": [
       "<div>\n",
       "<style scoped>\n",
       "    .dataframe tbody tr th:only-of-type {\n",
       "        vertical-align: middle;\n",
       "    }\n",
       "\n",
       "    .dataframe tbody tr th {\n",
       "        vertical-align: top;\n",
       "    }\n",
       "\n",
       "    .dataframe thead th {\n",
       "        text-align: right;\n",
       "    }\n",
       "</style>\n",
       "<table border=\"1\" class=\"dataframe\">\n",
       "  <thead>\n",
       "    <tr style=\"text-align: right;\">\n",
       "      <th></th>\n",
       "      <th>year</th>\n",
       "      <th>district</th>\n",
       "      <th>NO2</th>\n",
       "      <th>PM2_5</th>\n",
       "      <th>O3</th>\n",
       "      <th>SO2</th>\n",
       "      <th>asthma_hosp</th>\n",
       "    </tr>\n",
       "  </thead>\n",
       "  <tbody>\n",
       "    <tr>\n",
       "      <th>0</th>\n",
       "      <td>2009</td>\n",
       "      <td>101</td>\n",
       "      <td>23.20</td>\n",
       "      <td>11.03</td>\n",
       "      <td>23.67</td>\n",
       "      <td>6.62</td>\n",
       "      <td>61</td>\n",
       "    </tr>\n",
       "    <tr>\n",
       "      <th>1</th>\n",
       "      <td>2009</td>\n",
       "      <td>102</td>\n",
       "      <td>22.39</td>\n",
       "      <td>10.68</td>\n",
       "      <td>26.82</td>\n",
       "      <td>5.38</td>\n",
       "      <td>282</td>\n",
       "    </tr>\n",
       "    <tr>\n",
       "      <th>2</th>\n",
       "      <td>2009</td>\n",
       "      <td>103</td>\n",
       "      <td>24.82</td>\n",
       "      <td>11.10</td>\n",
       "      <td>24.47</td>\n",
       "      <td>9.48</td>\n",
       "      <td>693</td>\n",
       "    </tr>\n",
       "    <tr>\n",
       "      <th>3</th>\n",
       "      <td>2009</td>\n",
       "      <td>104</td>\n",
       "      <td>22.83</td>\n",
       "      <td>10.59</td>\n",
       "      <td>26.72</td>\n",
       "      <td>5.15</td>\n",
       "      <td>588</td>\n",
       "    </tr>\n",
       "    <tr>\n",
       "      <th>4</th>\n",
       "      <td>2009</td>\n",
       "      <td>105</td>\n",
       "      <td>28.07</td>\n",
       "      <td>11.76</td>\n",
       "      <td>23.08</td>\n",
       "      <td>9.36</td>\n",
       "      <td>631</td>\n",
       "    </tr>\n",
       "    <tr>\n",
       "      <th>...</th>\n",
       "      <td>...</td>\n",
       "      <td>...</td>\n",
       "      <td>...</td>\n",
       "      <td>...</td>\n",
       "      <td>...</td>\n",
       "      <td>...</td>\n",
       "      <td>...</td>\n",
       "    </tr>\n",
       "    <tr>\n",
       "      <th>331</th>\n",
       "      <td>2016</td>\n",
       "      <td>410</td>\n",
       "      <td>11.72</td>\n",
       "      <td>5.98</td>\n",
       "      <td>38.18</td>\n",
       "      <td>0.20</td>\n",
       "      <td>73</td>\n",
       "    </tr>\n",
       "    <tr>\n",
       "      <th>332</th>\n",
       "      <td>2016</td>\n",
       "      <td>501</td>\n",
       "      <td>17.47</td>\n",
       "      <td>7.30</td>\n",
       "      <td>33.42</td>\n",
       "      <td>0.12</td>\n",
       "      <td>83</td>\n",
       "    </tr>\n",
       "    <tr>\n",
       "      <th>333</th>\n",
       "      <td>2016</td>\n",
       "      <td>502</td>\n",
       "      <td>14.93</td>\n",
       "      <td>6.80</td>\n",
       "      <td>34.18</td>\n",
       "      <td>0.13</td>\n",
       "      <td>72</td>\n",
       "    </tr>\n",
       "    <tr>\n",
       "      <th>334</th>\n",
       "      <td>2016</td>\n",
       "      <td>503</td>\n",
       "      <td>14.11</td>\n",
       "      <td>7.10</td>\n",
       "      <td>34.68</td>\n",
       "      <td>0.12</td>\n",
       "      <td>12</td>\n",
       "    </tr>\n",
       "    <tr>\n",
       "      <th>335</th>\n",
       "      <td>2016</td>\n",
       "      <td>504</td>\n",
       "      <td>11.52</td>\n",
       "      <td>6.59</td>\n",
       "      <td>36.17</td>\n",
       "      <td>0.11</td>\n",
       "      <td>36</td>\n",
       "    </tr>\n",
       "  </tbody>\n",
       "</table>\n",
       "<p>336 rows × 7 columns</p>\n",
       "</div>"
      ],
      "text/plain": [
       "     year  district    NO2  PM2_5     O3   SO2  asthma_hosp\n",
       "0    2009       101  23.20  11.03  23.67  6.62           61\n",
       "1    2009       102  22.39  10.68  26.82  5.38          282\n",
       "2    2009       103  24.82  11.10  24.47  9.48          693\n",
       "3    2009       104  22.83  10.59  26.72  5.15          588\n",
       "4    2009       105  28.07  11.76  23.08  9.36          631\n",
       "..    ...       ...    ...    ...    ...   ...          ...\n",
       "331  2016       410  11.72   5.98  38.18  0.20           73\n",
       "332  2016       501  17.47   7.30  33.42  0.12           83\n",
       "333  2016       502  14.93   6.80  34.18  0.13           72\n",
       "334  2016       503  14.11   7.10  34.68  0.12           12\n",
       "335  2016       504  11.52   6.59  36.17  0.11           36\n",
       "\n",
       "[336 rows x 7 columns]"
      ]
     },
     "execution_count": 29,
     "metadata": {},
     "output_type": "execute_result"
    }
   ],
   "source": [
    "df=data.copy()\n",
    "for i in range(df.shape[0]):\n",
    "    if i%2==0:\n",
    "        asthma=0\n",
    "        asthma=df.asthma_hosp[i]\n",
    "        df = df.drop(labels=i, axis=0)\n",
    "    else:\n",
    "        asthma+=df.asthma_hosp[i]\n",
    "        df.loc[i,'asthma_hosp']=asthma\n",
    "df=df.reset_index()\n",
    "df=df.iloc[:,1:]\n",
    "df=df.drop(labels='age_group',axis=1)\n",
    "df"
   ]
  },
  {
   "cell_type": "code",
   "execution_count": 20,
   "id": "38b3a10d",
   "metadata": {},
   "outputs": [],
   "source": [
    "# df.to_csv('machine_learning_data_Final.csv')"
   ]
  },
  {
   "cell_type": "code",
   "execution_count": 21,
   "id": "96b8790d",
   "metadata": {},
   "outputs": [
    {
     "data": {
      "application/vnd.plotly.v1+json": {
       "config": {
        "plotlyServerURL": "https://plotly.com"
       },
       "data": [
        {
         "mode": "markers",
         "name": "NO2",
         "type": "scatter",
         "x": [
          23.2,
          22.39,
          24.82,
          22.83,
          28.07,
          29.35,
          26.39,
          26.95,
          28.4,
          26.93,
          23.9,
          25.26,
          24.79,
          25.14,
          20.22,
          22.54,
          19.9,
          27.13,
          28.5,
          31.06,
          29.9,
          31.95,
          34.29,
          39.87,
          43.32,
          34.75,
          32.71,
          36.69,
          26.29,
          25.81,
          22.68,
          20.05,
          24.06,
          22.78,
          22.93,
          22.29,
          19.89,
          14.68,
          21.35,
          18.41,
          17.49,
          14.71,
          20.13,
          20.21,
          22.06,
          21.04,
          25.25,
          26.38,
          24.1,
          25.08,
          26.46,
          25.17,
          22.49,
          23.77,
          23.43,
          23.64,
          19.1,
          21.48,
          19.01,
          25.31,
          25.22,
          27.83,
          27.07,
          28.66,
          31.02,
          36.03,
          39.17,
          31.8,
          29.99,
          33.48,
          24.32,
          24.18,
          21.48,
          19.23,
          22.61,
          21.67,
          21.7,
          21.22,
          19.1,
          14.07,
          19.79,
          17.38,
          16,
          13.05,
          20.79,
          21.06,
          22.61,
          21.61,
          25.57,
          26.67,
          24.58,
          25.84,
          26.64,
          25.3,
          22.9,
          23.86,
          23.32,
          23.56,
          19.21,
          21.62,
          18.98,
          25.75,
          25.56,
          28.23,
          27.65,
          29.3,
          31.52,
          36.33,
          39.18,
          32.25,
          30.45,
          33.5,
          25.24,
          24.96,
          21.94,
          19.48,
          23.26,
          22.1,
          22.21,
          21.54,
          19.29,
          14.27,
          21.12,
          18.29,
          17.17,
          13.5,
          19.05,
          20.02,
          21.01,
          19.94,
          23.42,
          24.23,
          22.27,
          23.63,
          23.98,
          22.88,
          20.67,
          21.09,
          20.87,
          21.16,
          17.22,
          19.27,
          17.21,
          23.43,
          23.15,
          25.76,
          25.32,
          27.08,
          29.5,
          34.33,
          37.29,
          29.98,
          28.23,
          31.07,
          23.14,
          22.78,
          19.83,
          17.46,
          20.99,
          19.78,
          20.01,
          19.35,
          17.34,
          13.12,
          18.78,
          16.01,
          15.31,
          12.47,
          18.23,
          18.37,
          19.89,
          18.58,
          22.67,
          23.73,
          21.54,
          22.85,
          23.41,
          22.28,
          20.19,
          20.59,
          20.23,
          20.57,
          16.65,
          18.58,
          16.36,
          22.72,
          22.79,
          25.36,
          24.75,
          26.5,
          28.59,
          33.35,
          36.08,
          29.19,
          27.39,
          30.26,
          22.3,
          21.89,
          18.71,
          16.41,
          20.3,
          19.03,
          19.65,
          18.96,
          16.8,
          12.67,
          18.38,
          15.4,
          14.69,
          11.51,
          17.1,
          18.97,
          19.44,
          19.26,
          21.87,
          22.56,
          21.14,
          22.43,
          22.67,
          21.75,
          19.75,
          20.23,
          20.41,
          20.47,
          17,
          19.1,
          17.63,
          22.2,
          21.12,
          23.86,
          23.76,
          25.1,
          27.62,
          31.9,
          34.74,
          27.99,
          26.45,
          28.87,
          22.07,
          21.87,
          19.46,
          17.44,
          20,
          19.26,
          19.19,
          18.81,
          17.28,
          13.77,
          17.54,
          15.53,
          14.56,
          12.59,
          17.82,
          19.52,
          19.76,
          19.36,
          21.84,
          22.28,
          20.91,
          21.69,
          21.87,
          20.83,
          19.09,
          19.71,
          19.74,
          19.72,
          16.52,
          18.62,
          17.08,
          21.27,
          21.14,
          23.15,
          22.99,
          23.86,
          25.67,
          29.17,
          31.23,
          26.27,
          24.84,
          26.61,
          21.39,
          21.11,
          19.09,
          17.3,
          19.25,
          18.78,
          18.68,
          18.42,
          17.16,
          13.55,
          17.36,
          15.28,
          14.21,
          11.91,
          16.04,
          17.52,
          17.93,
          17.92,
          20.37,
          21.08,
          19.91,
          21.44,
          21.65,
          20.2,
          18.26,
          19.32,
          18.87,
          18.86,
          15.3,
          17.78,
          15.62,
          20.82,
          19.85,
          22.19,
          22.19,
          23.15,
          24.81,
          28.36,
          30.14,
          25.93,
          24.49,
          26.15,
          20.91,
          20.53,
          18.24,
          16.43,
          18.65,
          18.09,
          17.8,
          17.56,
          16.16,
          11.72,
          17.47,
          14.93,
          14.11,
          11.52
         ],
         "xaxis": "x",
         "y": [
          61,
          282,
          693,
          588,
          631,
          657,
          504,
          88,
          176,
          645,
          376,
          62,
          97,
          446,
          195,
          34,
          101,
          503,
          168,
          298,
          254,
          87,
          49,
          27,
          17,
          8,
          80,
          10,
          79,
          225,
          84,
          34,
          157,
          50,
          269,
          431,
          224,
          185,
          80,
          78,
          35,
          47,
          74,
          285,
          563,
          491,
          552,
          505,
          435,
          48,
          135,
          559,
          348,
          56,
          64,
          361,
          160,
          20,
          90,
          402,
          176,
          246,
          240,
          77,
          48,
          32,
          20,
          0,
          59,
          8,
          86,
          197,
          89,
          23,
          160,
          46,
          226,
          343,
          173,
          177,
          56,
          85,
          12,
          43,
          65,
          303,
          528,
          552,
          529,
          533,
          457,
          43,
          176,
          582,
          313,
          64,
          103,
          361,
          176,
          42,
          67,
          387,
          164,
          259,
          212,
          75,
          51,
          25,
          9,
          0,
          67,
          9,
          80,
          187,
          83,
          7,
          149,
          48,
          170,
          267,
          157,
          132,
          65,
          63,
          18,
          36,
          67,
          320,
          559,
          609,
          524,
          571,
          501,
          34,
          171,
          591,
          329,
          57,
          90,
          387,
          191,
          44,
          85,
          387,
          160,
          299,
          203,
          57,
          53,
          30,
          13,
          7,
          77,
          0,
          70,
          234,
          68,
          31,
          146,
          37,
          218,
          257,
          176,
          86,
          79,
          65,
          14,
          38,
          72,
          319,
          589,
          515,
          559,
          627,
          453,
          26,
          130,
          581,
          346,
          63,
          70,
          409,
          191,
          30,
          74,
          292,
          161,
          276,
          222,
          56,
          41,
          21,
          16,
          6,
          67,
          4,
          66,
          202,
          82,
          12,
          87,
          49,
          181,
          288,
          158,
          86,
          64,
          77,
          12,
          39,
          71,
          324,
          648,
          521,
          567,
          624,
          478,
          46,
          121,
          607,
          366,
          54,
          73,
          460,
          159,
          17,
          82,
          292,
          217,
          233,
          239,
          64,
          40,
          32,
          14,
          4,
          57,
          2,
          67,
          249,
          75,
          21,
          109,
          34,
          209,
          276,
          162,
          100,
          67,
          80,
          11,
          40,
          60,
          268,
          548,
          523,
          463,
          574,
          431,
          27,
          114,
          506,
          349,
          37,
          75,
          413,
          179,
          27,
          58,
          219,
          175,
          234,
          197,
          51,
          42,
          21,
          5,
          1,
          67,
          4,
          47,
          177,
          70,
          19,
          95,
          57,
          183,
          261,
          135,
          86,
          68,
          59,
          12,
          38,
          53,
          265,
          545,
          441,
          427,
          565,
          361,
          26,
          112,
          473,
          361,
          33,
          72,
          364,
          172,
          30,
          84,
          240,
          210,
          284,
          151,
          43,
          39,
          11,
          8,
          4,
          73,
          7,
          55,
          199,
          79,
          7,
          97,
          51,
          146,
          239,
          115,
          73,
          83,
          72,
          12,
          36
         ],
         "yaxis": "y"
        },
        {
         "mode": "markers",
         "name": "PM2_5",
         "type": "scatter",
         "x": [
          11.03,
          10.68,
          11.1,
          10.59,
          11.76,
          11.8,
          11.45,
          11.93,
          11.5,
          10.75,
          10.6,
          11.04,
          10.27,
          10.47,
          9.85,
          9.91,
          9.55,
          11.36,
          11.55,
          11.6,
          11.55,
          12.18,
          12.88,
          14.24,
          15.03,
          12.75,
          12.08,
          13.06,
          11.4,
          10.99,
          10.16,
          9.72,
          10.44,
          10,
          9.96,
          9.95,
          9.35,
          8.75,
          10.22,
          9.63,
          10.1,
          9.63,
          10.09,
          9.65,
          10.26,
          9.68,
          10.99,
          11,
          10.48,
          10.57,
          10.49,
          9.93,
          9.79,
          10.21,
          9.61,
          9.8,
          9.12,
          9.18,
          8.89,
          10.33,
          10.71,
          10.62,
          10.41,
          11.01,
          11.83,
          13.21,
          14.24,
          11.56,
          10.87,
          12.19,
          10.05,
          9.89,
          9.34,
          8.98,
          9.52,
          9.25,
          9.19,
          9.25,
          8.65,
          7.99,
          9.02,
          8.64,
          8.99,
          8.71,
          10.65,
          10.48,
          10.77,
          10.5,
          11.45,
          11.44,
          11.24,
          11.51,
          11.14,
          10.29,
          10.09,
          10.84,
          10.07,
          10.15,
          9.55,
          9.78,
          9.44,
          10.88,
          11.12,
          11.13,
          11.12,
          11.49,
          12.1,
          13.27,
          13.93,
          12.04,
          11.44,
          12.28,
          11.02,
          10.6,
          10.05,
          9.71,
          9.95,
          9.74,
          9.43,
          9.57,
          9.17,
          8.44,
          9.73,
          9.36,
          9.63,
          9.29,
          9.27,
          9.11,
          9.47,
          9.23,
          10.22,
          10.26,
          10.02,
          10.27,
          9.9,
          9.13,
          8.94,
          9.59,
          8.89,
          8.98,
          8.37,
          8.6,
          8.3,
          9.7,
          9.89,
          9.99,
          9.98,
          10.46,
          11.19,
          12.42,
          13.23,
          10.99,
          10.35,
          11.32,
          9.84,
          9.46,
          8.9,
          8.55,
          8.83,
          8.63,
          8.32,
          8.48,
          8.04,
          7.36,
          8.55,
          8.18,
          8.52,
          8.28,
          8.88,
          8.73,
          9.06,
          8.74,
          9.75,
          9.83,
          9.57,
          10,
          9.46,
          8.75,
          8.69,
          9.12,
          8.49,
          8.6,
          8.18,
          8.24,
          8.11,
          9.36,
          9.48,
          9.7,
          9.73,
          10.35,
          11.1,
          12.41,
          13.2,
          10.81,
          10.15,
          11.06,
          9.6,
          9.13,
          8.39,
          8.08,
          8.51,
          8.21,
          8.14,
          8.27,
          7.85,
          7.61,
          8.27,
          7.9,
          8.22,
          7.82,
          9,
          9,
          9.19,
          8.97,
          9.82,
          9.87,
          9.75,
          10.54,
          9.99,
          9.16,
          9.04,
          9.63,
          8.87,
          8.97,
          8.48,
          8.62,
          8.37,
          9.84,
          9.49,
          9.73,
          9.84,
          10.42,
          11.15,
          12.53,
          13.23,
          11.17,
          10.53,
          11.36,
          9.98,
          9.47,
          8.65,
          8.31,
          8.85,
          8.43,
          8.39,
          8.46,
          8.02,
          7.69,
          8.79,
          8.34,
          8.68,
          8.2,
          9.17,
          9.13,
          9.14,
          8.93,
          9.67,
          9.6,
          9.62,
          10.49,
          9.89,
          8.87,
          8.72,
          9.45,
          8.44,
          8.59,
          8.1,
          8.13,
          7.72,
          9.61,
          9.36,
          9.36,
          9.51,
          9.78,
          10.2,
          11.39,
          11.72,
          10.6,
          10.06,
          10.54,
          9.78,
          9.17,
          8.45,
          8.26,
          8.51,
          8.19,
          8.05,
          8.2,
          7.9,
          7.16,
          8.34,
          7.82,
          8.01,
          7.29,
          7.5,
          7.55,
          7.57,
          7.5,
          8.18,
          8.16,
          8.26,
          9.46,
          8.86,
          7.94,
          7.8,
          8.4,
          7.45,
          7.64,
          7.12,
          7.11,
          6.75,
          8.67,
          7.81,
          7.95,
          8.19,
          8.49,
          9.07,
          10.32,
          10.76,
          9.52,
          9.02,
          9.53,
          8.65,
          8.14,
          7.22,
          6.88,
          7.56,
          7.03,
          7.02,
          6.99,
          6.51,
          5.98,
          7.3,
          6.8,
          7.1,
          6.59
         ],
         "xaxis": "x2",
         "y": [
          61,
          282,
          693,
          588,
          631,
          657,
          504,
          88,
          176,
          645,
          376,
          62,
          97,
          446,
          195,
          34,
          101,
          503,
          168,
          298,
          254,
          87,
          49,
          27,
          17,
          8,
          80,
          10,
          79,
          225,
          84,
          34,
          157,
          50,
          269,
          431,
          224,
          185,
          80,
          78,
          35,
          47,
          74,
          285,
          563,
          491,
          552,
          505,
          435,
          48,
          135,
          559,
          348,
          56,
          64,
          361,
          160,
          20,
          90,
          402,
          176,
          246,
          240,
          77,
          48,
          32,
          20,
          0,
          59,
          8,
          86,
          197,
          89,
          23,
          160,
          46,
          226,
          343,
          173,
          177,
          56,
          85,
          12,
          43,
          65,
          303,
          528,
          552,
          529,
          533,
          457,
          43,
          176,
          582,
          313,
          64,
          103,
          361,
          176,
          42,
          67,
          387,
          164,
          259,
          212,
          75,
          51,
          25,
          9,
          0,
          67,
          9,
          80,
          187,
          83,
          7,
          149,
          48,
          170,
          267,
          157,
          132,
          65,
          63,
          18,
          36,
          67,
          320,
          559,
          609,
          524,
          571,
          501,
          34,
          171,
          591,
          329,
          57,
          90,
          387,
          191,
          44,
          85,
          387,
          160,
          299,
          203,
          57,
          53,
          30,
          13,
          7,
          77,
          0,
          70,
          234,
          68,
          31,
          146,
          37,
          218,
          257,
          176,
          86,
          79,
          65,
          14,
          38,
          72,
          319,
          589,
          515,
          559,
          627,
          453,
          26,
          130,
          581,
          346,
          63,
          70,
          409,
          191,
          30,
          74,
          292,
          161,
          276,
          222,
          56,
          41,
          21,
          16,
          6,
          67,
          4,
          66,
          202,
          82,
          12,
          87,
          49,
          181,
          288,
          158,
          86,
          64,
          77,
          12,
          39,
          71,
          324,
          648,
          521,
          567,
          624,
          478,
          46,
          121,
          607,
          366,
          54,
          73,
          460,
          159,
          17,
          82,
          292,
          217,
          233,
          239,
          64,
          40,
          32,
          14,
          4,
          57,
          2,
          67,
          249,
          75,
          21,
          109,
          34,
          209,
          276,
          162,
          100,
          67,
          80,
          11,
          40,
          60,
          268,
          548,
          523,
          463,
          574,
          431,
          27,
          114,
          506,
          349,
          37,
          75,
          413,
          179,
          27,
          58,
          219,
          175,
          234,
          197,
          51,
          42,
          21,
          5,
          1,
          67,
          4,
          47,
          177,
          70,
          19,
          95,
          57,
          183,
          261,
          135,
          86,
          68,
          59,
          12,
          38,
          53,
          265,
          545,
          441,
          427,
          565,
          361,
          26,
          112,
          473,
          361,
          33,
          72,
          364,
          172,
          30,
          84,
          240,
          210,
          284,
          151,
          43,
          39,
          11,
          8,
          4,
          73,
          7,
          55,
          199,
          79,
          7,
          97,
          51,
          146,
          239,
          115,
          73,
          83,
          72,
          12,
          36
         ],
         "yaxis": "y2"
        },
        {
         "mode": "markers",
         "name": "O3",
         "type": "scatter",
         "x": [
          23.67,
          26.82,
          24.47,
          26.72,
          23.08,
          22.64,
          25.23,
          25.56,
          23.08,
          24.33,
          26.28,
          24.63,
          25.54,
          25.47,
          28.97,
          26.86,
          29.64,
          24.76,
          21.82,
          21.52,
          22.84,
          21.31,
          20.87,
          18.19,
          16.13,
          20.56,
          21.16,
          18.88,
          26.08,
          25.7,
          26.29,
          26.29,
          25.58,
          25.43,
          26.48,
          26.14,
          27.59,
          33.59,
          24.42,
          26.48,
          26.04,
          27.77,
          31.91,
          33.96,
          32.53,
          34.31,
          31.63,
          31.25,
          33.34,
          32.54,
          30.94,
          32.27,
          33.97,
          32.71,
          33.38,
          33.33,
          36.12,
          34.5,
          36.52,
          32.38,
          30.54,
          29.75,
          30.52,
          28.68,
          28.21,
          25.62,
          23.9,
          27.87,
          28.38,
          26.89,
          33.01,
          33.17,
          33.99,
          33.51,
          33.32,
          33.23,
          34.04,
          33.52,
          34.29,
          38.98,
          32.74,
          34.3,
          34.45,
          36.53,
          31.24,
          33.44,
          32.08,
          34.24,
          31.46,
          31.12,
          33.42,
          31.61,
          29.54,
          31.43,
          33.5,
          31.5,
          32.7,
          32.67,
          35.91,
          33.85,
          36.56,
          31.54,
          30.13,
          29.4,
          30.25,
          27.89,
          27.52,
          24.2,
          22.59,
          26.21,
          26.94,
          25.07,
          32.66,
          33,
          33.92,
          33.03,
          32.97,
          32.93,
          33.63,
          32.95,
          33.59,
          39.03,
          31.02,
          33.17,
          33.13,
          35.93,
          33.72,
          35.09,
          34.08,
          35.44,
          33.42,
          33.23,
          34.98,
          32.73,
          30.66,
          32.12,
          33.97,
          32.29,
          33.35,
          33.38,
          36.6,
          34.28,
          37.08,
          32.28,
          32.66,
          31.71,
          32.25,
          30.17,
          29.24,
          26,
          24.05,
          27.85,
          28.41,
          26.44,
          33.91,
          33.58,
          34.46,
          33.84,
          33.3,
          33.38,
          34.15,
          33.78,
          34.81,
          40.3,
          31.06,
          33.14,
          32.76,
          35.27,
          30.37,
          31.68,
          30.79,
          32.06,
          30.15,
          29.92,
          31.59,
          29.77,
          28.04,
          29.66,
          31.51,
          29.67,
          30.61,
          30.73,
          33.7,
          31.44,
          33.88,
          29.7,
          29.34,
          28.4,
          28.87,
          26.93,
          26.32,
          23.53,
          21.93,
          25.22,
          25.73,
          24.26,
          30.62,
          30.68,
          31.43,
          30.76,
          30.77,
          30.67,
          31.68,
          31.12,
          31.79,
          36.84,
          28.84,
          30.61,
          30.48,
          32.66,
          30.45,
          31.49,
          30.7,
          31.93,
          30.07,
          29.91,
          31.41,
          30.47,
          29.32,
          30.33,
          31.97,
          30.6,
          30.68,
          30.94,
          33.25,
          31.32,
          32.61,
          30.41,
          29.52,
          28.58,
          28.92,
          27.4,
          26.66,
          24.61,
          22.89,
          26.66,
          26.93,
          25.98,
          30.71,
          30.87,
          32.01,
          32.26,
          31.33,
          31.8,
          32.51,
          32.63,
          33.6,
          36.25,
          30.23,
          31.14,
          31.13,
          31.96,
          28.72,
          29.93,
          29.53,
          31.41,
          29.65,
          29.93,
          31.66,
          30.97,
          29.76,
          31.18,
          32.58,
          31.29,
          32.14,
          32.2,
          34.7,
          32.83,
          35.01,
          31.1,
          28.95,
          28.98,
          29.58,
          28.12,
          28.07,
          26.11,
          25.06,
          27.35,
          27.73,
          26.98,
          31.43,
          31.57,
          31.88,
          31.27,
          31.81,
          31.53,
          32.59,
          32.04,
          32.51,
          37.44,
          29.99,
          31.84,
          31.66,
          34.07,
          32.46,
          33.21,
          32.78,
          33.63,
          32.31,
          32.34,
          33.57,
          32.96,
          31.98,
          32.98,
          34.26,
          33.28,
          33.54,
          33.66,
          35.79,
          34.25,
          35.62,
          32.99,
          31.92,
          31.35,
          31.62,
          30.54,
          30.17,
          28.76,
          27.51,
          30.03,
          30.14,
          29.73,
          33.15,
          33.12,
          33.44,
          32.99,
          33.48,
          33.16,
          34.34,
          33.86,
          34.3,
          38.18,
          33.42,
          34.18,
          34.68,
          36.17
         ],
         "xaxis": "x3",
         "y": [
          61,
          282,
          693,
          588,
          631,
          657,
          504,
          88,
          176,
          645,
          376,
          62,
          97,
          446,
          195,
          34,
          101,
          503,
          168,
          298,
          254,
          87,
          49,
          27,
          17,
          8,
          80,
          10,
          79,
          225,
          84,
          34,
          157,
          50,
          269,
          431,
          224,
          185,
          80,
          78,
          35,
          47,
          74,
          285,
          563,
          491,
          552,
          505,
          435,
          48,
          135,
          559,
          348,
          56,
          64,
          361,
          160,
          20,
          90,
          402,
          176,
          246,
          240,
          77,
          48,
          32,
          20,
          0,
          59,
          8,
          86,
          197,
          89,
          23,
          160,
          46,
          226,
          343,
          173,
          177,
          56,
          85,
          12,
          43,
          65,
          303,
          528,
          552,
          529,
          533,
          457,
          43,
          176,
          582,
          313,
          64,
          103,
          361,
          176,
          42,
          67,
          387,
          164,
          259,
          212,
          75,
          51,
          25,
          9,
          0,
          67,
          9,
          80,
          187,
          83,
          7,
          149,
          48,
          170,
          267,
          157,
          132,
          65,
          63,
          18,
          36,
          67,
          320,
          559,
          609,
          524,
          571,
          501,
          34,
          171,
          591,
          329,
          57,
          90,
          387,
          191,
          44,
          85,
          387,
          160,
          299,
          203,
          57,
          53,
          30,
          13,
          7,
          77,
          0,
          70,
          234,
          68,
          31,
          146,
          37,
          218,
          257,
          176,
          86,
          79,
          65,
          14,
          38,
          72,
          319,
          589,
          515,
          559,
          627,
          453,
          26,
          130,
          581,
          346,
          63,
          70,
          409,
          191,
          30,
          74,
          292,
          161,
          276,
          222,
          56,
          41,
          21,
          16,
          6,
          67,
          4,
          66,
          202,
          82,
          12,
          87,
          49,
          181,
          288,
          158,
          86,
          64,
          77,
          12,
          39,
          71,
          324,
          648,
          521,
          567,
          624,
          478,
          46,
          121,
          607,
          366,
          54,
          73,
          460,
          159,
          17,
          82,
          292,
          217,
          233,
          239,
          64,
          40,
          32,
          14,
          4,
          57,
          2,
          67,
          249,
          75,
          21,
          109,
          34,
          209,
          276,
          162,
          100,
          67,
          80,
          11,
          40,
          60,
          268,
          548,
          523,
          463,
          574,
          431,
          27,
          114,
          506,
          349,
          37,
          75,
          413,
          179,
          27,
          58,
          219,
          175,
          234,
          197,
          51,
          42,
          21,
          5,
          1,
          67,
          4,
          47,
          177,
          70,
          19,
          95,
          57,
          183,
          261,
          135,
          86,
          68,
          59,
          12,
          38,
          53,
          265,
          545,
          441,
          427,
          565,
          361,
          26,
          112,
          473,
          361,
          33,
          72,
          364,
          172,
          30,
          84,
          240,
          210,
          284,
          151,
          43,
          39,
          11,
          8,
          4,
          73,
          7,
          55,
          199,
          79,
          7,
          97,
          51,
          146,
          239,
          115,
          73,
          83,
          72,
          12,
          36
         ],
         "yaxis": "y3"
        },
        {
         "mode": "markers",
         "name": "SO2",
         "type": "scatter",
         "x": [
          6.62,
          5.38,
          9.48,
          5.15,
          9.36,
          8.99,
          5.22,
          4.25,
          4.14,
          4.62,
          3.89,
          3.79,
          4.28,
          4.6,
          3.22,
          3.37,
          3.21,
          4.78,
          11.12,
          8.21,
          7.04,
          10.87,
          12.12,
          8.37,
          9.8,
          7.35,
          7.91,
          4.57,
          5.11,
          5.38,
          4.49,
          3.69,
          4.5,
          4.02,
          3.72,
          3.53,
          3.18,
          2.39,
          2.49,
          2.53,
          2.17,
          1.84,
          4.16,
          3.37,
          6.03,
          3.34,
          6.1,
          5.99,
          3.54,
          2.93,
          2.65,
          3.19,
          2.86,
          2.32,
          2.77,
          3.12,
          2.33,
          2.1,
          2.21,
          3.33,
          7.28,
          5.59,
          4.89,
          7.48,
          8.5,
          5.65,
          6.73,
          4.78,
          5.25,
          2.89,
          3.63,
          3.84,
          3.01,
          2.41,
          3.25,
          2.78,
          2.76,
          2.52,
          2.21,
          1.9,
          1.35,
          1.45,
          1.18,
          1.01,
          5.31,
          4.25,
          7.67,
          4.27,
          7.79,
          7.62,
          4.5,
          3.66,
          3.42,
          3.91,
          3.36,
          3.07,
          3.48,
          3.8,
          2.67,
          2.72,
          2.59,
          4.12,
          9.28,
          7.04,
          6.1,
          9.31,
          10.51,
          7.09,
          8.37,
          6.14,
          6.66,
          3.78,
          4.5,
          4.79,
          3.85,
          3.02,
          3.99,
          3.47,
          3.22,
          2.97,
          2.56,
          1.9,
          2.08,
          2.08,
          1.83,
          1.56,
          3.71,
          2.8,
          5.06,
          2.5,
          4.92,
          4.75,
          2.63,
          1.95,
          1.76,
          1.88,
          1.57,
          1.49,
          1.61,
          1.78,
          1.21,
          1.25,
          1.14,
          2.05,
          6.14,
          4.46,
          3.71,
          5.92,
          6.31,
          4.34,
          4.97,
          3.58,
          3.8,
          2.13,
          2.49,
          2.44,
          1.97,
          1.56,
          1.92,
          1.7,
          1.52,
          1.45,
          1.3,
          0.88,
          1.04,
          0.98,
          0.86,
          0.66,
          2.23,
          1.53,
          3.15,
          1.54,
          3.28,
          3.33,
          1.81,
          1.17,
          0.91,
          1.11,
          1.01,
          0.76,
          0.87,
          1,
          0.77,
          0.67,
          0.7,
          1.25,
          4.24,
          3.08,
          2.57,
          3.91,
          4.16,
          2.57,
          3.03,
          1.94,
          2.12,
          1.09,
          1.68,
          1.6,
          1.17,
          0.75,
          1.21,
          0.98,
          0.93,
          0.77,
          0.6,
          0.51,
          0.49,
          0.49,
          0.44,
          0.39,
          1.71,
          1.61,
          2.71,
          1.84,
          2.86,
          2.8,
          1.87,
          1.39,
          1.15,
          1.28,
          1.17,
          1.05,
          1.08,
          1.14,
          0.86,
          0.95,
          0.84,
          1.45,
          3.35,
          2.64,
          2.42,
          3.49,
          3.84,
          2.73,
          3.15,
          2.24,
          2.48,
          1.37,
          1.89,
          2,
          1.85,
          1.5,
          1.54,
          1.61,
          1.21,
          1.24,
          1.14,
          0.64,
          0.97,
          0.91,
          0.88,
          0.73,
          1,
          1.11,
          1.54,
          0.96,
          1.35,
          1.2,
          0.82,
          0.58,
          0.46,
          0.52,
          0.47,
          0.43,
          0.48,
          0.49,
          0.4,
          0.43,
          0.43,
          0.58,
          1.5,
          1.09,
          1,
          1.4,
          1.49,
          1.13,
          1.28,
          0.88,
          0.97,
          0.55,
          0.79,
          0.78,
          0.74,
          0.57,
          0.58,
          0.57,
          0.45,
          0.43,
          0.41,
          0.31,
          0.31,
          0.35,
          0.28,
          0.22,
          0.3,
          0.29,
          0.46,
          0.28,
          0.43,
          0.39,
          0.25,
          0.19,
          0.18,
          0.22,
          0.21,
          0.17,
          0.2,
          0.21,
          0.18,
          0.17,
          0.18,
          0.22,
          0.5,
          0.35,
          0.3,
          0.44,
          0.45,
          0.36,
          0.4,
          0.31,
          0.33,
          0.2,
          0.24,
          0.25,
          0.27,
          0.27,
          0.23,
          0.26,
          0.23,
          0.25,
          0.26,
          0.2,
          0.12,
          0.13,
          0.12,
          0.11
         ],
         "xaxis": "x4",
         "y": [
          61,
          282,
          693,
          588,
          631,
          657,
          504,
          88,
          176,
          645,
          376,
          62,
          97,
          446,
          195,
          34,
          101,
          503,
          168,
          298,
          254,
          87,
          49,
          27,
          17,
          8,
          80,
          10,
          79,
          225,
          84,
          34,
          157,
          50,
          269,
          431,
          224,
          185,
          80,
          78,
          35,
          47,
          74,
          285,
          563,
          491,
          552,
          505,
          435,
          48,
          135,
          559,
          348,
          56,
          64,
          361,
          160,
          20,
          90,
          402,
          176,
          246,
          240,
          77,
          48,
          32,
          20,
          0,
          59,
          8,
          86,
          197,
          89,
          23,
          160,
          46,
          226,
          343,
          173,
          177,
          56,
          85,
          12,
          43,
          65,
          303,
          528,
          552,
          529,
          533,
          457,
          43,
          176,
          582,
          313,
          64,
          103,
          361,
          176,
          42,
          67,
          387,
          164,
          259,
          212,
          75,
          51,
          25,
          9,
          0,
          67,
          9,
          80,
          187,
          83,
          7,
          149,
          48,
          170,
          267,
          157,
          132,
          65,
          63,
          18,
          36,
          67,
          320,
          559,
          609,
          524,
          571,
          501,
          34,
          171,
          591,
          329,
          57,
          90,
          387,
          191,
          44,
          85,
          387,
          160,
          299,
          203,
          57,
          53,
          30,
          13,
          7,
          77,
          0,
          70,
          234,
          68,
          31,
          146,
          37,
          218,
          257,
          176,
          86,
          79,
          65,
          14,
          38,
          72,
          319,
          589,
          515,
          559,
          627,
          453,
          26,
          130,
          581,
          346,
          63,
          70,
          409,
          191,
          30,
          74,
          292,
          161,
          276,
          222,
          56,
          41,
          21,
          16,
          6,
          67,
          4,
          66,
          202,
          82,
          12,
          87,
          49,
          181,
          288,
          158,
          86,
          64,
          77,
          12,
          39,
          71,
          324,
          648,
          521,
          567,
          624,
          478,
          46,
          121,
          607,
          366,
          54,
          73,
          460,
          159,
          17,
          82,
          292,
          217,
          233,
          239,
          64,
          40,
          32,
          14,
          4,
          57,
          2,
          67,
          249,
          75,
          21,
          109,
          34,
          209,
          276,
          162,
          100,
          67,
          80,
          11,
          40,
          60,
          268,
          548,
          523,
          463,
          574,
          431,
          27,
          114,
          506,
          349,
          37,
          75,
          413,
          179,
          27,
          58,
          219,
          175,
          234,
          197,
          51,
          42,
          21,
          5,
          1,
          67,
          4,
          47,
          177,
          70,
          19,
          95,
          57,
          183,
          261,
          135,
          86,
          68,
          59,
          12,
          38,
          53,
          265,
          545,
          441,
          427,
          565,
          361,
          26,
          112,
          473,
          361,
          33,
          72,
          364,
          172,
          30,
          84,
          240,
          210,
          284,
          151,
          43,
          39,
          11,
          8,
          4,
          73,
          7,
          55,
          199,
          79,
          7,
          97,
          51,
          146,
          239,
          115,
          73,
          83,
          72,
          12,
          36
         ],
         "yaxis": "y4"
        }
       ],
       "layout": {
        "annotations": [
         {
          "font": {
           "size": 16
          },
          "showarrow": false,
          "text": "NO2",
          "x": 0.225,
          "xanchor": "center",
          "xref": "paper",
          "y": 1,
          "yanchor": "bottom",
          "yref": "paper"
         },
         {
          "font": {
           "size": 16
          },
          "showarrow": false,
          "text": "PM2_5",
          "x": 0.775,
          "xanchor": "center",
          "xref": "paper",
          "y": 1,
          "yanchor": "bottom",
          "yref": "paper"
         },
         {
          "font": {
           "size": 16
          },
          "showarrow": false,
          "text": "O3",
          "x": 0.225,
          "xanchor": "center",
          "xref": "paper",
          "y": 0.375,
          "yanchor": "bottom",
          "yref": "paper"
         },
         {
          "font": {
           "size": 16
          },
          "showarrow": false,
          "text": "SO2",
          "x": 0.775,
          "xanchor": "center",
          "xref": "paper",
          "y": 0.375,
          "yanchor": "bottom",
          "yref": "paper"
         }
        ],
        "template": {
         "data": {
          "bar": [
           {
            "error_x": {
             "color": "#2a3f5f"
            },
            "error_y": {
             "color": "#2a3f5f"
            },
            "marker": {
             "line": {
              "color": "#E5ECF6",
              "width": 0.5
             },
             "pattern": {
              "fillmode": "overlay",
              "size": 10,
              "solidity": 0.2
             }
            },
            "type": "bar"
           }
          ],
          "barpolar": [
           {
            "marker": {
             "line": {
              "color": "#E5ECF6",
              "width": 0.5
             },
             "pattern": {
              "fillmode": "overlay",
              "size": 10,
              "solidity": 0.2
             }
            },
            "type": "barpolar"
           }
          ],
          "carpet": [
           {
            "aaxis": {
             "endlinecolor": "#2a3f5f",
             "gridcolor": "white",
             "linecolor": "white",
             "minorgridcolor": "white",
             "startlinecolor": "#2a3f5f"
            },
            "baxis": {
             "endlinecolor": "#2a3f5f",
             "gridcolor": "white",
             "linecolor": "white",
             "minorgridcolor": "white",
             "startlinecolor": "#2a3f5f"
            },
            "type": "carpet"
           }
          ],
          "choropleth": [
           {
            "colorbar": {
             "outlinewidth": 0,
             "ticks": ""
            },
            "type": "choropleth"
           }
          ],
          "contour": [
           {
            "colorbar": {
             "outlinewidth": 0,
             "ticks": ""
            },
            "colorscale": [
             [
              0,
              "#0d0887"
             ],
             [
              0.1111111111111111,
              "#46039f"
             ],
             [
              0.2222222222222222,
              "#7201a8"
             ],
             [
              0.3333333333333333,
              "#9c179e"
             ],
             [
              0.4444444444444444,
              "#bd3786"
             ],
             [
              0.5555555555555556,
              "#d8576b"
             ],
             [
              0.6666666666666666,
              "#ed7953"
             ],
             [
              0.7777777777777778,
              "#fb9f3a"
             ],
             [
              0.8888888888888888,
              "#fdca26"
             ],
             [
              1,
              "#f0f921"
             ]
            ],
            "type": "contour"
           }
          ],
          "contourcarpet": [
           {
            "colorbar": {
             "outlinewidth": 0,
             "ticks": ""
            },
            "type": "contourcarpet"
           }
          ],
          "heatmap": [
           {
            "colorbar": {
             "outlinewidth": 0,
             "ticks": ""
            },
            "colorscale": [
             [
              0,
              "#0d0887"
             ],
             [
              0.1111111111111111,
              "#46039f"
             ],
             [
              0.2222222222222222,
              "#7201a8"
             ],
             [
              0.3333333333333333,
              "#9c179e"
             ],
             [
              0.4444444444444444,
              "#bd3786"
             ],
             [
              0.5555555555555556,
              "#d8576b"
             ],
             [
              0.6666666666666666,
              "#ed7953"
             ],
             [
              0.7777777777777778,
              "#fb9f3a"
             ],
             [
              0.8888888888888888,
              "#fdca26"
             ],
             [
              1,
              "#f0f921"
             ]
            ],
            "type": "heatmap"
           }
          ],
          "heatmapgl": [
           {
            "colorbar": {
             "outlinewidth": 0,
             "ticks": ""
            },
            "colorscale": [
             [
              0,
              "#0d0887"
             ],
             [
              0.1111111111111111,
              "#46039f"
             ],
             [
              0.2222222222222222,
              "#7201a8"
             ],
             [
              0.3333333333333333,
              "#9c179e"
             ],
             [
              0.4444444444444444,
              "#bd3786"
             ],
             [
              0.5555555555555556,
              "#d8576b"
             ],
             [
              0.6666666666666666,
              "#ed7953"
             ],
             [
              0.7777777777777778,
              "#fb9f3a"
             ],
             [
              0.8888888888888888,
              "#fdca26"
             ],
             [
              1,
              "#f0f921"
             ]
            ],
            "type": "heatmapgl"
           }
          ],
          "histogram": [
           {
            "marker": {
             "pattern": {
              "fillmode": "overlay",
              "size": 10,
              "solidity": 0.2
             }
            },
            "type": "histogram"
           }
          ],
          "histogram2d": [
           {
            "colorbar": {
             "outlinewidth": 0,
             "ticks": ""
            },
            "colorscale": [
             [
              0,
              "#0d0887"
             ],
             [
              0.1111111111111111,
              "#46039f"
             ],
             [
              0.2222222222222222,
              "#7201a8"
             ],
             [
              0.3333333333333333,
              "#9c179e"
             ],
             [
              0.4444444444444444,
              "#bd3786"
             ],
             [
              0.5555555555555556,
              "#d8576b"
             ],
             [
              0.6666666666666666,
              "#ed7953"
             ],
             [
              0.7777777777777778,
              "#fb9f3a"
             ],
             [
              0.8888888888888888,
              "#fdca26"
             ],
             [
              1,
              "#f0f921"
             ]
            ],
            "type": "histogram2d"
           }
          ],
          "histogram2dcontour": [
           {
            "colorbar": {
             "outlinewidth": 0,
             "ticks": ""
            },
            "colorscale": [
             [
              0,
              "#0d0887"
             ],
             [
              0.1111111111111111,
              "#46039f"
             ],
             [
              0.2222222222222222,
              "#7201a8"
             ],
             [
              0.3333333333333333,
              "#9c179e"
             ],
             [
              0.4444444444444444,
              "#bd3786"
             ],
             [
              0.5555555555555556,
              "#d8576b"
             ],
             [
              0.6666666666666666,
              "#ed7953"
             ],
             [
              0.7777777777777778,
              "#fb9f3a"
             ],
             [
              0.8888888888888888,
              "#fdca26"
             ],
             [
              1,
              "#f0f921"
             ]
            ],
            "type": "histogram2dcontour"
           }
          ],
          "mesh3d": [
           {
            "colorbar": {
             "outlinewidth": 0,
             "ticks": ""
            },
            "type": "mesh3d"
           }
          ],
          "parcoords": [
           {
            "line": {
             "colorbar": {
              "outlinewidth": 0,
              "ticks": ""
             }
            },
            "type": "parcoords"
           }
          ],
          "pie": [
           {
            "automargin": true,
            "type": "pie"
           }
          ],
          "scatter": [
           {
            "marker": {
             "colorbar": {
              "outlinewidth": 0,
              "ticks": ""
             }
            },
            "type": "scatter"
           }
          ],
          "scatter3d": [
           {
            "line": {
             "colorbar": {
              "outlinewidth": 0,
              "ticks": ""
             }
            },
            "marker": {
             "colorbar": {
              "outlinewidth": 0,
              "ticks": ""
             }
            },
            "type": "scatter3d"
           }
          ],
          "scattercarpet": [
           {
            "marker": {
             "colorbar": {
              "outlinewidth": 0,
              "ticks": ""
             }
            },
            "type": "scattercarpet"
           }
          ],
          "scattergeo": [
           {
            "marker": {
             "colorbar": {
              "outlinewidth": 0,
              "ticks": ""
             }
            },
            "type": "scattergeo"
           }
          ],
          "scattergl": [
           {
            "marker": {
             "colorbar": {
              "outlinewidth": 0,
              "ticks": ""
             }
            },
            "type": "scattergl"
           }
          ],
          "scattermapbox": [
           {
            "marker": {
             "colorbar": {
              "outlinewidth": 0,
              "ticks": ""
             }
            },
            "type": "scattermapbox"
           }
          ],
          "scatterpolar": [
           {
            "marker": {
             "colorbar": {
              "outlinewidth": 0,
              "ticks": ""
             }
            },
            "type": "scatterpolar"
           }
          ],
          "scatterpolargl": [
           {
            "marker": {
             "colorbar": {
              "outlinewidth": 0,
              "ticks": ""
             }
            },
            "type": "scatterpolargl"
           }
          ],
          "scatterternary": [
           {
            "marker": {
             "colorbar": {
              "outlinewidth": 0,
              "ticks": ""
             }
            },
            "type": "scatterternary"
           }
          ],
          "surface": [
           {
            "colorbar": {
             "outlinewidth": 0,
             "ticks": ""
            },
            "colorscale": [
             [
              0,
              "#0d0887"
             ],
             [
              0.1111111111111111,
              "#46039f"
             ],
             [
              0.2222222222222222,
              "#7201a8"
             ],
             [
              0.3333333333333333,
              "#9c179e"
             ],
             [
              0.4444444444444444,
              "#bd3786"
             ],
             [
              0.5555555555555556,
              "#d8576b"
             ],
             [
              0.6666666666666666,
              "#ed7953"
             ],
             [
              0.7777777777777778,
              "#fb9f3a"
             ],
             [
              0.8888888888888888,
              "#fdca26"
             ],
             [
              1,
              "#f0f921"
             ]
            ],
            "type": "surface"
           }
          ],
          "table": [
           {
            "cells": {
             "fill": {
              "color": "#EBF0F8"
             },
             "line": {
              "color": "white"
             }
            },
            "header": {
             "fill": {
              "color": "#C8D4E3"
             },
             "line": {
              "color": "white"
             }
            },
            "type": "table"
           }
          ]
         },
         "layout": {
          "annotationdefaults": {
           "arrowcolor": "#2a3f5f",
           "arrowhead": 0,
           "arrowwidth": 1
          },
          "autotypenumbers": "strict",
          "coloraxis": {
           "colorbar": {
            "outlinewidth": 0,
            "ticks": ""
           }
          },
          "colorscale": {
           "diverging": [
            [
             0,
             "#8e0152"
            ],
            [
             0.1,
             "#c51b7d"
            ],
            [
             0.2,
             "#de77ae"
            ],
            [
             0.3,
             "#f1b6da"
            ],
            [
             0.4,
             "#fde0ef"
            ],
            [
             0.5,
             "#f7f7f7"
            ],
            [
             0.6,
             "#e6f5d0"
            ],
            [
             0.7,
             "#b8e186"
            ],
            [
             0.8,
             "#7fbc41"
            ],
            [
             0.9,
             "#4d9221"
            ],
            [
             1,
             "#276419"
            ]
           ],
           "sequential": [
            [
             0,
             "#0d0887"
            ],
            [
             0.1111111111111111,
             "#46039f"
            ],
            [
             0.2222222222222222,
             "#7201a8"
            ],
            [
             0.3333333333333333,
             "#9c179e"
            ],
            [
             0.4444444444444444,
             "#bd3786"
            ],
            [
             0.5555555555555556,
             "#d8576b"
            ],
            [
             0.6666666666666666,
             "#ed7953"
            ],
            [
             0.7777777777777778,
             "#fb9f3a"
            ],
            [
             0.8888888888888888,
             "#fdca26"
            ],
            [
             1,
             "#f0f921"
            ]
           ],
           "sequentialminus": [
            [
             0,
             "#0d0887"
            ],
            [
             0.1111111111111111,
             "#46039f"
            ],
            [
             0.2222222222222222,
             "#7201a8"
            ],
            [
             0.3333333333333333,
             "#9c179e"
            ],
            [
             0.4444444444444444,
             "#bd3786"
            ],
            [
             0.5555555555555556,
             "#d8576b"
            ],
            [
             0.6666666666666666,
             "#ed7953"
            ],
            [
             0.7777777777777778,
             "#fb9f3a"
            ],
            [
             0.8888888888888888,
             "#fdca26"
            ],
            [
             1,
             "#f0f921"
            ]
           ]
          },
          "colorway": [
           "#636efa",
           "#EF553B",
           "#00cc96",
           "#ab63fa",
           "#FFA15A",
           "#19d3f3",
           "#FF6692",
           "#B6E880",
           "#FF97FF",
           "#FECB52"
          ],
          "font": {
           "color": "#2a3f5f"
          },
          "geo": {
           "bgcolor": "white",
           "lakecolor": "white",
           "landcolor": "#E5ECF6",
           "showlakes": true,
           "showland": true,
           "subunitcolor": "white"
          },
          "hoverlabel": {
           "align": "left"
          },
          "hovermode": "closest",
          "mapbox": {
           "style": "light"
          },
          "paper_bgcolor": "white",
          "plot_bgcolor": "#E5ECF6",
          "polar": {
           "angularaxis": {
            "gridcolor": "white",
            "linecolor": "white",
            "ticks": ""
           },
           "bgcolor": "#E5ECF6",
           "radialaxis": {
            "gridcolor": "white",
            "linecolor": "white",
            "ticks": ""
           }
          },
          "scene": {
           "xaxis": {
            "backgroundcolor": "#E5ECF6",
            "gridcolor": "white",
            "gridwidth": 2,
            "linecolor": "white",
            "showbackground": true,
            "ticks": "",
            "zerolinecolor": "white"
           },
           "yaxis": {
            "backgroundcolor": "#E5ECF6",
            "gridcolor": "white",
            "gridwidth": 2,
            "linecolor": "white",
            "showbackground": true,
            "ticks": "",
            "zerolinecolor": "white"
           },
           "zaxis": {
            "backgroundcolor": "#E5ECF6",
            "gridcolor": "white",
            "gridwidth": 2,
            "linecolor": "white",
            "showbackground": true,
            "ticks": "",
            "zerolinecolor": "white"
           }
          },
          "shapedefaults": {
           "line": {
            "color": "#2a3f5f"
           }
          },
          "ternary": {
           "aaxis": {
            "gridcolor": "white",
            "linecolor": "white",
            "ticks": ""
           },
           "baxis": {
            "gridcolor": "white",
            "linecolor": "white",
            "ticks": ""
           },
           "bgcolor": "#E5ECF6",
           "caxis": {
            "gridcolor": "white",
            "linecolor": "white",
            "ticks": ""
           }
          },
          "title": {
           "x": 0.05
          },
          "xaxis": {
           "automargin": true,
           "gridcolor": "white",
           "linecolor": "white",
           "ticks": "",
           "title": {
            "standoff": 15
           },
           "zerolinecolor": "white",
           "zerolinewidth": 2
          },
          "yaxis": {
           "automargin": true,
           "gridcolor": "white",
           "linecolor": "white",
           "ticks": "",
           "title": {
            "standoff": 15
           },
           "zerolinecolor": "white",
           "zerolinewidth": 2
          }
         }
        },
        "xaxis": {
         "anchor": "y",
         "domain": [
          0,
          0.45
         ],
         "title": {
          "text": "NO2"
         }
        },
        "xaxis2": {
         "anchor": "y2",
         "domain": [
          0.55,
          1
         ],
         "title": {
          "text": "PM2_5"
         }
        },
        "xaxis3": {
         "anchor": "y3",
         "domain": [
          0,
          0.45
         ],
         "title": {
          "text": "O3"
         }
        },
        "xaxis4": {
         "anchor": "y4",
         "domain": [
          0.55,
          1
         ],
         "title": {
          "text": "SO2"
         }
        },
        "yaxis": {
         "anchor": "x",
         "domain": [
          0.625,
          1
         ],
         "title": {
          "text": "Asthma hosp"
         }
        },
        "yaxis2": {
         "anchor": "x2",
         "domain": [
          0.625,
          1
         ],
         "title": {
          "text": "Asthma hosp"
         }
        },
        "yaxis3": {
         "anchor": "x3",
         "domain": [
          0,
          0.375
         ],
         "title": {
          "text": "Asthma hosp"
         }
        },
        "yaxis4": {
         "anchor": "x4",
         "domain": [
          0,
          0.375
         ],
         "title": {
          "text": "Asthma hosp"
         }
        }
       }
      },
      "text/html": [
       "<div>                            <div id=\"d8c243ef-c6c5-44c6-878b-fb7b147e740a\" class=\"plotly-graph-div\" style=\"height:525px; width:100%;\"></div>            <script type=\"text/javascript\">                require([\"plotly\"], function(Plotly) {                    window.PLOTLYENV=window.PLOTLYENV || {};                                    if (document.getElementById(\"d8c243ef-c6c5-44c6-878b-fb7b147e740a\")) {                    Plotly.newPlot(                        \"d8c243ef-c6c5-44c6-878b-fb7b147e740a\",                        [{\"mode\":\"markers\",\"name\":\"NO2\",\"x\":[23.2,22.39,24.82,22.83,28.07,29.35,26.39,26.95,28.4,26.93,23.9,25.26,24.79,25.14,20.22,22.54,19.9,27.13,28.5,31.06,29.9,31.95,34.29,39.87,43.32,34.75,32.71,36.69,26.29,25.81,22.68,20.05,24.06,22.78,22.93,22.29,19.89,14.68,21.35,18.41,17.49,14.71,20.13,20.21,22.06,21.04,25.25,26.38,24.1,25.08,26.46,25.17,22.49,23.77,23.43,23.64,19.1,21.48,19.01,25.31,25.22,27.83,27.07,28.66,31.02,36.03,39.17,31.8,29.99,33.48,24.32,24.18,21.48,19.23,22.61,21.67,21.7,21.22,19.1,14.07,19.79,17.38,16.0,13.05,20.79,21.06,22.61,21.61,25.57,26.67,24.58,25.84,26.64,25.3,22.9,23.86,23.32,23.56,19.21,21.62,18.98,25.75,25.56,28.23,27.65,29.3,31.52,36.33,39.18,32.25,30.45,33.5,25.24,24.96,21.94,19.48,23.26,22.1,22.21,21.54,19.29,14.27,21.12,18.29,17.17,13.5,19.05,20.02,21.01,19.94,23.42,24.23,22.27,23.63,23.98,22.88,20.67,21.09,20.87,21.16,17.22,19.27,17.21,23.43,23.15,25.76,25.32,27.08,29.5,34.33,37.29,29.98,28.23,31.07,23.14,22.78,19.83,17.46,20.99,19.78,20.01,19.35,17.34,13.12,18.78,16.01,15.31,12.47,18.23,18.37,19.89,18.58,22.67,23.73,21.54,22.85,23.41,22.28,20.19,20.59,20.23,20.57,16.65,18.58,16.36,22.72,22.79,25.36,24.75,26.5,28.59,33.35,36.08,29.19,27.39,30.26,22.3,21.89,18.71,16.41,20.3,19.03,19.65,18.96,16.8,12.67,18.38,15.4,14.69,11.51,17.1,18.97,19.44,19.26,21.87,22.56,21.14,22.43,22.67,21.75,19.75,20.23,20.41,20.47,17.0,19.1,17.63,22.2,21.12,23.86,23.76,25.1,27.62,31.9,34.74,27.99,26.45,28.87,22.07,21.87,19.46,17.44,20.0,19.26,19.19,18.81,17.28,13.77,17.54,15.53,14.56,12.59,17.82,19.52,19.76,19.36,21.84,22.28,20.91,21.69,21.87,20.83,19.09,19.71,19.74,19.72,16.52,18.62,17.08,21.27,21.14,23.15,22.99,23.86,25.67,29.17,31.23,26.27,24.84,26.61,21.39,21.11,19.09,17.3,19.25,18.78,18.68,18.42,17.16,13.55,17.36,15.28,14.21,11.91,16.04,17.52,17.93,17.92,20.37,21.08,19.91,21.44,21.65,20.2,18.26,19.32,18.87,18.86,15.3,17.78,15.62,20.82,19.85,22.19,22.19,23.15,24.81,28.36,30.14,25.93,24.49,26.15,20.91,20.53,18.24,16.43,18.65,18.09,17.8,17.56,16.16,11.72,17.47,14.93,14.11,11.52],\"y\":[61,282,693,588,631,657,504,88,176,645,376,62,97,446,195,34,101,503,168,298,254,87,49,27,17,8,80,10,79,225,84,34,157,50,269,431,224,185,80,78,35,47,74,285,563,491,552,505,435,48,135,559,348,56,64,361,160,20,90,402,176,246,240,77,48,32,20,0,59,8,86,197,89,23,160,46,226,343,173,177,56,85,12,43,65,303,528,552,529,533,457,43,176,582,313,64,103,361,176,42,67,387,164,259,212,75,51,25,9,0,67,9,80,187,83,7,149,48,170,267,157,132,65,63,18,36,67,320,559,609,524,571,501,34,171,591,329,57,90,387,191,44,85,387,160,299,203,57,53,30,13,7,77,0,70,234,68,31,146,37,218,257,176,86,79,65,14,38,72,319,589,515,559,627,453,26,130,581,346,63,70,409,191,30,74,292,161,276,222,56,41,21,16,6,67,4,66,202,82,12,87,49,181,288,158,86,64,77,12,39,71,324,648,521,567,624,478,46,121,607,366,54,73,460,159,17,82,292,217,233,239,64,40,32,14,4,57,2,67,249,75,21,109,34,209,276,162,100,67,80,11,40,60,268,548,523,463,574,431,27,114,506,349,37,75,413,179,27,58,219,175,234,197,51,42,21,5,1,67,4,47,177,70,19,95,57,183,261,135,86,68,59,12,38,53,265,545,441,427,565,361,26,112,473,361,33,72,364,172,30,84,240,210,284,151,43,39,11,8,4,73,7,55,199,79,7,97,51,146,239,115,73,83,72,12,36],\"type\":\"scatter\",\"xaxis\":\"x\",\"yaxis\":\"y\"},{\"mode\":\"markers\",\"name\":\"PM2_5\",\"x\":[11.03,10.68,11.1,10.59,11.76,11.8,11.45,11.93,11.5,10.75,10.6,11.04,10.27,10.47,9.85,9.91,9.55,11.36,11.55,11.6,11.55,12.18,12.88,14.24,15.03,12.75,12.08,13.06,11.4,10.99,10.16,9.72,10.44,10.0,9.96,9.95,9.35,8.75,10.22,9.63,10.1,9.63,10.09,9.65,10.26,9.68,10.99,11.0,10.48,10.57,10.49,9.93,9.79,10.21,9.61,9.8,9.12,9.18,8.89,10.33,10.71,10.62,10.41,11.01,11.83,13.21,14.24,11.56,10.87,12.19,10.05,9.89,9.34,8.98,9.52,9.25,9.19,9.25,8.65,7.99,9.02,8.64,8.99,8.71,10.65,10.48,10.77,10.5,11.45,11.44,11.24,11.51,11.14,10.29,10.09,10.84,10.07,10.15,9.55,9.78,9.44,10.88,11.12,11.13,11.12,11.49,12.1,13.27,13.93,12.04,11.44,12.28,11.02,10.6,10.05,9.71,9.95,9.74,9.43,9.57,9.17,8.44,9.73,9.36,9.63,9.29,9.27,9.11,9.47,9.23,10.22,10.26,10.02,10.27,9.9,9.13,8.94,9.59,8.89,8.98,8.37,8.6,8.3,9.7,9.89,9.99,9.98,10.46,11.19,12.42,13.23,10.99,10.35,11.32,9.84,9.46,8.9,8.55,8.83,8.63,8.32,8.48,8.04,7.36,8.55,8.18,8.52,8.28,8.88,8.73,9.06,8.74,9.75,9.83,9.57,10.0,9.46,8.75,8.69,9.12,8.49,8.6,8.18,8.24,8.11,9.36,9.48,9.7,9.73,10.35,11.1,12.41,13.2,10.81,10.15,11.06,9.6,9.13,8.39,8.08,8.51,8.21,8.14,8.27,7.85,7.61,8.27,7.9,8.22,7.82,9.0,9.0,9.19,8.97,9.82,9.87,9.75,10.54,9.99,9.16,9.04,9.63,8.87,8.97,8.48,8.62,8.37,9.84,9.49,9.73,9.84,10.42,11.15,12.53,13.23,11.17,10.53,11.36,9.98,9.47,8.65,8.31,8.85,8.43,8.39,8.46,8.02,7.69,8.79,8.34,8.68,8.2,9.17,9.13,9.14,8.93,9.67,9.6,9.62,10.49,9.89,8.87,8.72,9.45,8.44,8.59,8.1,8.13,7.72,9.61,9.36,9.36,9.51,9.78,10.2,11.39,11.72,10.6,10.06,10.54,9.78,9.17,8.45,8.26,8.51,8.19,8.05,8.2,7.9,7.16,8.34,7.82,8.01,7.29,7.5,7.55,7.57,7.5,8.18,8.16,8.26,9.46,8.86,7.94,7.8,8.4,7.45,7.64,7.12,7.11,6.75,8.67,7.81,7.95,8.19,8.49,9.07,10.32,10.76,9.52,9.02,9.53,8.65,8.14,7.22,6.88,7.56,7.03,7.02,6.99,6.51,5.98,7.3,6.8,7.1,6.59],\"y\":[61,282,693,588,631,657,504,88,176,645,376,62,97,446,195,34,101,503,168,298,254,87,49,27,17,8,80,10,79,225,84,34,157,50,269,431,224,185,80,78,35,47,74,285,563,491,552,505,435,48,135,559,348,56,64,361,160,20,90,402,176,246,240,77,48,32,20,0,59,8,86,197,89,23,160,46,226,343,173,177,56,85,12,43,65,303,528,552,529,533,457,43,176,582,313,64,103,361,176,42,67,387,164,259,212,75,51,25,9,0,67,9,80,187,83,7,149,48,170,267,157,132,65,63,18,36,67,320,559,609,524,571,501,34,171,591,329,57,90,387,191,44,85,387,160,299,203,57,53,30,13,7,77,0,70,234,68,31,146,37,218,257,176,86,79,65,14,38,72,319,589,515,559,627,453,26,130,581,346,63,70,409,191,30,74,292,161,276,222,56,41,21,16,6,67,4,66,202,82,12,87,49,181,288,158,86,64,77,12,39,71,324,648,521,567,624,478,46,121,607,366,54,73,460,159,17,82,292,217,233,239,64,40,32,14,4,57,2,67,249,75,21,109,34,209,276,162,100,67,80,11,40,60,268,548,523,463,574,431,27,114,506,349,37,75,413,179,27,58,219,175,234,197,51,42,21,5,1,67,4,47,177,70,19,95,57,183,261,135,86,68,59,12,38,53,265,545,441,427,565,361,26,112,473,361,33,72,364,172,30,84,240,210,284,151,43,39,11,8,4,73,7,55,199,79,7,97,51,146,239,115,73,83,72,12,36],\"type\":\"scatter\",\"xaxis\":\"x2\",\"yaxis\":\"y2\"},{\"mode\":\"markers\",\"name\":\"O3\",\"x\":[23.67,26.82,24.47,26.72,23.08,22.64,25.23,25.56,23.08,24.33,26.28,24.63,25.54,25.47,28.97,26.86,29.64,24.76,21.82,21.52,22.84,21.31,20.87,18.19,16.13,20.56,21.16,18.88,26.08,25.7,26.29,26.29,25.58,25.43,26.48,26.14,27.59,33.59,24.42,26.48,26.04,27.77,31.91,33.96,32.53,34.31,31.63,31.25,33.34,32.54,30.94,32.27,33.97,32.71,33.38,33.33,36.12,34.5,36.52,32.38,30.54,29.75,30.52,28.68,28.21,25.62,23.9,27.87,28.38,26.89,33.01,33.17,33.99,33.51,33.32,33.23,34.04,33.52,34.29,38.98,32.74,34.3,34.45,36.53,31.24,33.44,32.08,34.24,31.46,31.12,33.42,31.61,29.54,31.43,33.5,31.5,32.7,32.67,35.91,33.85,36.56,31.54,30.13,29.4,30.25,27.89,27.52,24.2,22.59,26.21,26.94,25.07,32.66,33.0,33.92,33.03,32.97,32.93,33.63,32.95,33.59,39.03,31.02,33.17,33.13,35.93,33.72,35.09,34.08,35.44,33.42,33.23,34.98,32.73,30.66,32.12,33.97,32.29,33.35,33.38,36.6,34.28,37.08,32.28,32.66,31.71,32.25,30.17,29.24,26.0,24.05,27.85,28.41,26.44,33.91,33.58,34.46,33.84,33.3,33.38,34.15,33.78,34.81,40.3,31.06,33.14,32.76,35.27,30.37,31.68,30.79,32.06,30.15,29.92,31.59,29.77,28.04,29.66,31.51,29.67,30.61,30.73,33.7,31.44,33.88,29.7,29.34,28.4,28.87,26.93,26.32,23.53,21.93,25.22,25.73,24.26,30.62,30.68,31.43,30.76,30.77,30.67,31.68,31.12,31.79,36.84,28.84,30.61,30.48,32.66,30.45,31.49,30.7,31.93,30.07,29.91,31.41,30.47,29.32,30.33,31.97,30.6,30.68,30.94,33.25,31.32,32.61,30.41,29.52,28.58,28.92,27.4,26.66,24.61,22.89,26.66,26.93,25.98,30.71,30.87,32.01,32.26,31.33,31.8,32.51,32.63,33.6,36.25,30.23,31.14,31.13,31.96,28.72,29.93,29.53,31.41,29.65,29.93,31.66,30.97,29.76,31.18,32.58,31.29,32.14,32.2,34.7,32.83,35.01,31.1,28.95,28.98,29.58,28.12,28.07,26.11,25.06,27.35,27.73,26.98,31.43,31.57,31.88,31.27,31.81,31.53,32.59,32.04,32.51,37.44,29.99,31.84,31.66,34.07,32.46,33.21,32.78,33.63,32.31,32.34,33.57,32.96,31.98,32.98,34.26,33.28,33.54,33.66,35.79,34.25,35.62,32.99,31.92,31.35,31.62,30.54,30.17,28.76,27.51,30.03,30.14,29.73,33.15,33.12,33.44,32.99,33.48,33.16,34.34,33.86,34.3,38.18,33.42,34.18,34.68,36.17],\"y\":[61,282,693,588,631,657,504,88,176,645,376,62,97,446,195,34,101,503,168,298,254,87,49,27,17,8,80,10,79,225,84,34,157,50,269,431,224,185,80,78,35,47,74,285,563,491,552,505,435,48,135,559,348,56,64,361,160,20,90,402,176,246,240,77,48,32,20,0,59,8,86,197,89,23,160,46,226,343,173,177,56,85,12,43,65,303,528,552,529,533,457,43,176,582,313,64,103,361,176,42,67,387,164,259,212,75,51,25,9,0,67,9,80,187,83,7,149,48,170,267,157,132,65,63,18,36,67,320,559,609,524,571,501,34,171,591,329,57,90,387,191,44,85,387,160,299,203,57,53,30,13,7,77,0,70,234,68,31,146,37,218,257,176,86,79,65,14,38,72,319,589,515,559,627,453,26,130,581,346,63,70,409,191,30,74,292,161,276,222,56,41,21,16,6,67,4,66,202,82,12,87,49,181,288,158,86,64,77,12,39,71,324,648,521,567,624,478,46,121,607,366,54,73,460,159,17,82,292,217,233,239,64,40,32,14,4,57,2,67,249,75,21,109,34,209,276,162,100,67,80,11,40,60,268,548,523,463,574,431,27,114,506,349,37,75,413,179,27,58,219,175,234,197,51,42,21,5,1,67,4,47,177,70,19,95,57,183,261,135,86,68,59,12,38,53,265,545,441,427,565,361,26,112,473,361,33,72,364,172,30,84,240,210,284,151,43,39,11,8,4,73,7,55,199,79,7,97,51,146,239,115,73,83,72,12,36],\"type\":\"scatter\",\"xaxis\":\"x3\",\"yaxis\":\"y3\"},{\"mode\":\"markers\",\"name\":\"SO2\",\"x\":[6.62,5.38,9.48,5.15,9.36,8.99,5.22,4.25,4.14,4.62,3.89,3.79,4.28,4.6,3.22,3.37,3.21,4.78,11.12,8.21,7.04,10.87,12.12,8.37,9.8,7.35,7.91,4.57,5.11,5.38,4.49,3.69,4.5,4.02,3.72,3.53,3.18,2.39,2.49,2.53,2.17,1.84,4.16,3.37,6.03,3.34,6.1,5.99,3.54,2.93,2.65,3.19,2.86,2.32,2.77,3.12,2.33,2.1,2.21,3.33,7.28,5.59,4.89,7.48,8.5,5.65,6.73,4.78,5.25,2.89,3.63,3.84,3.01,2.41,3.25,2.78,2.76,2.52,2.21,1.9,1.35,1.45,1.18,1.01,5.31,4.25,7.67,4.27,7.79,7.62,4.5,3.66,3.42,3.91,3.36,3.07,3.48,3.8,2.67,2.72,2.59,4.12,9.28,7.04,6.1,9.31,10.51,7.09,8.37,6.14,6.66,3.78,4.5,4.79,3.85,3.02,3.99,3.47,3.22,2.97,2.56,1.9,2.08,2.08,1.83,1.56,3.71,2.8,5.06,2.5,4.92,4.75,2.63,1.95,1.76,1.88,1.57,1.49,1.61,1.78,1.21,1.25,1.14,2.05,6.14,4.46,3.71,5.92,6.31,4.34,4.97,3.58,3.8,2.13,2.49,2.44,1.97,1.56,1.92,1.7,1.52,1.45,1.3,0.88,1.04,0.98,0.86,0.66,2.23,1.53,3.15,1.54,3.28,3.33,1.81,1.17,0.91,1.11,1.01,0.76,0.87,1.0,0.77,0.67,0.7,1.25,4.24,3.08,2.57,3.91,4.16,2.57,3.03,1.94,2.12,1.09,1.68,1.6,1.17,0.75,1.21,0.98,0.93,0.77,0.6,0.51,0.49,0.49,0.44,0.39,1.71,1.61,2.71,1.84,2.86,2.8,1.87,1.39,1.15,1.28,1.17,1.05,1.08,1.14,0.86,0.95,0.84,1.45,3.35,2.64,2.42,3.49,3.84,2.73,3.15,2.24,2.48,1.37,1.89,2.0,1.85,1.5,1.54,1.61,1.21,1.24,1.14,0.64,0.97,0.91,0.88,0.73,1.0,1.11,1.54,0.96,1.35,1.2,0.82,0.58,0.46,0.52,0.47,0.43,0.48,0.49,0.4,0.43,0.43,0.58,1.5,1.09,1.0,1.4,1.49,1.13,1.28,0.88,0.97,0.55,0.79,0.78,0.74,0.57,0.58,0.57,0.45,0.43,0.41,0.31,0.31,0.35,0.28,0.22,0.3,0.29,0.46,0.28,0.43,0.39,0.25,0.19,0.18,0.22,0.21,0.17,0.2,0.21,0.18,0.17,0.18,0.22,0.5,0.35,0.3,0.44,0.45,0.36,0.4,0.31,0.33,0.2,0.24,0.25,0.27,0.27,0.23,0.26,0.23,0.25,0.26,0.2,0.12,0.13,0.12,0.11],\"y\":[61,282,693,588,631,657,504,88,176,645,376,62,97,446,195,34,101,503,168,298,254,87,49,27,17,8,80,10,79,225,84,34,157,50,269,431,224,185,80,78,35,47,74,285,563,491,552,505,435,48,135,559,348,56,64,361,160,20,90,402,176,246,240,77,48,32,20,0,59,8,86,197,89,23,160,46,226,343,173,177,56,85,12,43,65,303,528,552,529,533,457,43,176,582,313,64,103,361,176,42,67,387,164,259,212,75,51,25,9,0,67,9,80,187,83,7,149,48,170,267,157,132,65,63,18,36,67,320,559,609,524,571,501,34,171,591,329,57,90,387,191,44,85,387,160,299,203,57,53,30,13,7,77,0,70,234,68,31,146,37,218,257,176,86,79,65,14,38,72,319,589,515,559,627,453,26,130,581,346,63,70,409,191,30,74,292,161,276,222,56,41,21,16,6,67,4,66,202,82,12,87,49,181,288,158,86,64,77,12,39,71,324,648,521,567,624,478,46,121,607,366,54,73,460,159,17,82,292,217,233,239,64,40,32,14,4,57,2,67,249,75,21,109,34,209,276,162,100,67,80,11,40,60,268,548,523,463,574,431,27,114,506,349,37,75,413,179,27,58,219,175,234,197,51,42,21,5,1,67,4,47,177,70,19,95,57,183,261,135,86,68,59,12,38,53,265,545,441,427,565,361,26,112,473,361,33,72,364,172,30,84,240,210,284,151,43,39,11,8,4,73,7,55,199,79,7,97,51,146,239,115,73,83,72,12,36],\"type\":\"scatter\",\"xaxis\":\"x4\",\"yaxis\":\"y4\"}],                        {\"template\":{\"data\":{\"bar\":[{\"error_x\":{\"color\":\"#2a3f5f\"},\"error_y\":{\"color\":\"#2a3f5f\"},\"marker\":{\"line\":{\"color\":\"#E5ECF6\",\"width\":0.5},\"pattern\":{\"fillmode\":\"overlay\",\"size\":10,\"solidity\":0.2}},\"type\":\"bar\"}],\"barpolar\":[{\"marker\":{\"line\":{\"color\":\"#E5ECF6\",\"width\":0.5},\"pattern\":{\"fillmode\":\"overlay\",\"size\":10,\"solidity\":0.2}},\"type\":\"barpolar\"}],\"carpet\":[{\"aaxis\":{\"endlinecolor\":\"#2a3f5f\",\"gridcolor\":\"white\",\"linecolor\":\"white\",\"minorgridcolor\":\"white\",\"startlinecolor\":\"#2a3f5f\"},\"baxis\":{\"endlinecolor\":\"#2a3f5f\",\"gridcolor\":\"white\",\"linecolor\":\"white\",\"minorgridcolor\":\"white\",\"startlinecolor\":\"#2a3f5f\"},\"type\":\"carpet\"}],\"choropleth\":[{\"colorbar\":{\"outlinewidth\":0,\"ticks\":\"\"},\"type\":\"choropleth\"}],\"contour\":[{\"colorbar\":{\"outlinewidth\":0,\"ticks\":\"\"},\"colorscale\":[[0.0,\"#0d0887\"],[0.1111111111111111,\"#46039f\"],[0.2222222222222222,\"#7201a8\"],[0.3333333333333333,\"#9c179e\"],[0.4444444444444444,\"#bd3786\"],[0.5555555555555556,\"#d8576b\"],[0.6666666666666666,\"#ed7953\"],[0.7777777777777778,\"#fb9f3a\"],[0.8888888888888888,\"#fdca26\"],[1.0,\"#f0f921\"]],\"type\":\"contour\"}],\"contourcarpet\":[{\"colorbar\":{\"outlinewidth\":0,\"ticks\":\"\"},\"type\":\"contourcarpet\"}],\"heatmap\":[{\"colorbar\":{\"outlinewidth\":0,\"ticks\":\"\"},\"colorscale\":[[0.0,\"#0d0887\"],[0.1111111111111111,\"#46039f\"],[0.2222222222222222,\"#7201a8\"],[0.3333333333333333,\"#9c179e\"],[0.4444444444444444,\"#bd3786\"],[0.5555555555555556,\"#d8576b\"],[0.6666666666666666,\"#ed7953\"],[0.7777777777777778,\"#fb9f3a\"],[0.8888888888888888,\"#fdca26\"],[1.0,\"#f0f921\"]],\"type\":\"heatmap\"}],\"heatmapgl\":[{\"colorbar\":{\"outlinewidth\":0,\"ticks\":\"\"},\"colorscale\":[[0.0,\"#0d0887\"],[0.1111111111111111,\"#46039f\"],[0.2222222222222222,\"#7201a8\"],[0.3333333333333333,\"#9c179e\"],[0.4444444444444444,\"#bd3786\"],[0.5555555555555556,\"#d8576b\"],[0.6666666666666666,\"#ed7953\"],[0.7777777777777778,\"#fb9f3a\"],[0.8888888888888888,\"#fdca26\"],[1.0,\"#f0f921\"]],\"type\":\"heatmapgl\"}],\"histogram\":[{\"marker\":{\"pattern\":{\"fillmode\":\"overlay\",\"size\":10,\"solidity\":0.2}},\"type\":\"histogram\"}],\"histogram2d\":[{\"colorbar\":{\"outlinewidth\":0,\"ticks\":\"\"},\"colorscale\":[[0.0,\"#0d0887\"],[0.1111111111111111,\"#46039f\"],[0.2222222222222222,\"#7201a8\"],[0.3333333333333333,\"#9c179e\"],[0.4444444444444444,\"#bd3786\"],[0.5555555555555556,\"#d8576b\"],[0.6666666666666666,\"#ed7953\"],[0.7777777777777778,\"#fb9f3a\"],[0.8888888888888888,\"#fdca26\"],[1.0,\"#f0f921\"]],\"type\":\"histogram2d\"}],\"histogram2dcontour\":[{\"colorbar\":{\"outlinewidth\":0,\"ticks\":\"\"},\"colorscale\":[[0.0,\"#0d0887\"],[0.1111111111111111,\"#46039f\"],[0.2222222222222222,\"#7201a8\"],[0.3333333333333333,\"#9c179e\"],[0.4444444444444444,\"#bd3786\"],[0.5555555555555556,\"#d8576b\"],[0.6666666666666666,\"#ed7953\"],[0.7777777777777778,\"#fb9f3a\"],[0.8888888888888888,\"#fdca26\"],[1.0,\"#f0f921\"]],\"type\":\"histogram2dcontour\"}],\"mesh3d\":[{\"colorbar\":{\"outlinewidth\":0,\"ticks\":\"\"},\"type\":\"mesh3d\"}],\"parcoords\":[{\"line\":{\"colorbar\":{\"outlinewidth\":0,\"ticks\":\"\"}},\"type\":\"parcoords\"}],\"pie\":[{\"automargin\":true,\"type\":\"pie\"}],\"scatter\":[{\"marker\":{\"colorbar\":{\"outlinewidth\":0,\"ticks\":\"\"}},\"type\":\"scatter\"}],\"scatter3d\":[{\"line\":{\"colorbar\":{\"outlinewidth\":0,\"ticks\":\"\"}},\"marker\":{\"colorbar\":{\"outlinewidth\":0,\"ticks\":\"\"}},\"type\":\"scatter3d\"}],\"scattercarpet\":[{\"marker\":{\"colorbar\":{\"outlinewidth\":0,\"ticks\":\"\"}},\"type\":\"scattercarpet\"}],\"scattergeo\":[{\"marker\":{\"colorbar\":{\"outlinewidth\":0,\"ticks\":\"\"}},\"type\":\"scattergeo\"}],\"scattergl\":[{\"marker\":{\"colorbar\":{\"outlinewidth\":0,\"ticks\":\"\"}},\"type\":\"scattergl\"}],\"scattermapbox\":[{\"marker\":{\"colorbar\":{\"outlinewidth\":0,\"ticks\":\"\"}},\"type\":\"scattermapbox\"}],\"scatterpolar\":[{\"marker\":{\"colorbar\":{\"outlinewidth\":0,\"ticks\":\"\"}},\"type\":\"scatterpolar\"}],\"scatterpolargl\":[{\"marker\":{\"colorbar\":{\"outlinewidth\":0,\"ticks\":\"\"}},\"type\":\"scatterpolargl\"}],\"scatterternary\":[{\"marker\":{\"colorbar\":{\"outlinewidth\":0,\"ticks\":\"\"}},\"type\":\"scatterternary\"}],\"surface\":[{\"colorbar\":{\"outlinewidth\":0,\"ticks\":\"\"},\"colorscale\":[[0.0,\"#0d0887\"],[0.1111111111111111,\"#46039f\"],[0.2222222222222222,\"#7201a8\"],[0.3333333333333333,\"#9c179e\"],[0.4444444444444444,\"#bd3786\"],[0.5555555555555556,\"#d8576b\"],[0.6666666666666666,\"#ed7953\"],[0.7777777777777778,\"#fb9f3a\"],[0.8888888888888888,\"#fdca26\"],[1.0,\"#f0f921\"]],\"type\":\"surface\"}],\"table\":[{\"cells\":{\"fill\":{\"color\":\"#EBF0F8\"},\"line\":{\"color\":\"white\"}},\"header\":{\"fill\":{\"color\":\"#C8D4E3\"},\"line\":{\"color\":\"white\"}},\"type\":\"table\"}]},\"layout\":{\"annotationdefaults\":{\"arrowcolor\":\"#2a3f5f\",\"arrowhead\":0,\"arrowwidth\":1},\"autotypenumbers\":\"strict\",\"coloraxis\":{\"colorbar\":{\"outlinewidth\":0,\"ticks\":\"\"}},\"colorscale\":{\"diverging\":[[0,\"#8e0152\"],[0.1,\"#c51b7d\"],[0.2,\"#de77ae\"],[0.3,\"#f1b6da\"],[0.4,\"#fde0ef\"],[0.5,\"#f7f7f7\"],[0.6,\"#e6f5d0\"],[0.7,\"#b8e186\"],[0.8,\"#7fbc41\"],[0.9,\"#4d9221\"],[1,\"#276419\"]],\"sequential\":[[0.0,\"#0d0887\"],[0.1111111111111111,\"#46039f\"],[0.2222222222222222,\"#7201a8\"],[0.3333333333333333,\"#9c179e\"],[0.4444444444444444,\"#bd3786\"],[0.5555555555555556,\"#d8576b\"],[0.6666666666666666,\"#ed7953\"],[0.7777777777777778,\"#fb9f3a\"],[0.8888888888888888,\"#fdca26\"],[1.0,\"#f0f921\"]],\"sequentialminus\":[[0.0,\"#0d0887\"],[0.1111111111111111,\"#46039f\"],[0.2222222222222222,\"#7201a8\"],[0.3333333333333333,\"#9c179e\"],[0.4444444444444444,\"#bd3786\"],[0.5555555555555556,\"#d8576b\"],[0.6666666666666666,\"#ed7953\"],[0.7777777777777778,\"#fb9f3a\"],[0.8888888888888888,\"#fdca26\"],[1.0,\"#f0f921\"]]},\"colorway\":[\"#636efa\",\"#EF553B\",\"#00cc96\",\"#ab63fa\",\"#FFA15A\",\"#19d3f3\",\"#FF6692\",\"#B6E880\",\"#FF97FF\",\"#FECB52\"],\"font\":{\"color\":\"#2a3f5f\"},\"geo\":{\"bgcolor\":\"white\",\"lakecolor\":\"white\",\"landcolor\":\"#E5ECF6\",\"showlakes\":true,\"showland\":true,\"subunitcolor\":\"white\"},\"hoverlabel\":{\"align\":\"left\"},\"hovermode\":\"closest\",\"mapbox\":{\"style\":\"light\"},\"paper_bgcolor\":\"white\",\"plot_bgcolor\":\"#E5ECF6\",\"polar\":{\"angularaxis\":{\"gridcolor\":\"white\",\"linecolor\":\"white\",\"ticks\":\"\"},\"bgcolor\":\"#E5ECF6\",\"radialaxis\":{\"gridcolor\":\"white\",\"linecolor\":\"white\",\"ticks\":\"\"}},\"scene\":{\"xaxis\":{\"backgroundcolor\":\"#E5ECF6\",\"gridcolor\":\"white\",\"gridwidth\":2,\"linecolor\":\"white\",\"showbackground\":true,\"ticks\":\"\",\"zerolinecolor\":\"white\"},\"yaxis\":{\"backgroundcolor\":\"#E5ECF6\",\"gridcolor\":\"white\",\"gridwidth\":2,\"linecolor\":\"white\",\"showbackground\":true,\"ticks\":\"\",\"zerolinecolor\":\"white\"},\"zaxis\":{\"backgroundcolor\":\"#E5ECF6\",\"gridcolor\":\"white\",\"gridwidth\":2,\"linecolor\":\"white\",\"showbackground\":true,\"ticks\":\"\",\"zerolinecolor\":\"white\"}},\"shapedefaults\":{\"line\":{\"color\":\"#2a3f5f\"}},\"ternary\":{\"aaxis\":{\"gridcolor\":\"white\",\"linecolor\":\"white\",\"ticks\":\"\"},\"baxis\":{\"gridcolor\":\"white\",\"linecolor\":\"white\",\"ticks\":\"\"},\"bgcolor\":\"#E5ECF6\",\"caxis\":{\"gridcolor\":\"white\",\"linecolor\":\"white\",\"ticks\":\"\"}},\"title\":{\"x\":0.05},\"xaxis\":{\"automargin\":true,\"gridcolor\":\"white\",\"linecolor\":\"white\",\"ticks\":\"\",\"title\":{\"standoff\":15},\"zerolinecolor\":\"white\",\"zerolinewidth\":2},\"yaxis\":{\"automargin\":true,\"gridcolor\":\"white\",\"linecolor\":\"white\",\"ticks\":\"\",\"title\":{\"standoff\":15},\"zerolinecolor\":\"white\",\"zerolinewidth\":2}}},\"xaxis\":{\"anchor\":\"y\",\"domain\":[0.0,0.45],\"title\":{\"text\":\"NO2\"}},\"yaxis\":{\"anchor\":\"x\",\"domain\":[0.625,1.0],\"title\":{\"text\":\"Asthma hosp\"}},\"xaxis2\":{\"anchor\":\"y2\",\"domain\":[0.55,1.0],\"title\":{\"text\":\"PM2_5\"}},\"yaxis2\":{\"anchor\":\"x2\",\"domain\":[0.625,1.0],\"title\":{\"text\":\"Asthma hosp\"}},\"xaxis3\":{\"anchor\":\"y3\",\"domain\":[0.0,0.45],\"title\":{\"text\":\"O3\"}},\"yaxis3\":{\"anchor\":\"x3\",\"domain\":[0.0,0.375],\"title\":{\"text\":\"Asthma hosp\"}},\"xaxis4\":{\"anchor\":\"y4\",\"domain\":[0.55,1.0],\"title\":{\"text\":\"SO2\"}},\"yaxis4\":{\"anchor\":\"x4\",\"domain\":[0.0,0.375],\"title\":{\"text\":\"Asthma hosp\"}},\"annotations\":[{\"font\":{\"size\":16},\"showarrow\":false,\"text\":\"NO2\",\"x\":0.225,\"xanchor\":\"center\",\"xref\":\"paper\",\"y\":1.0,\"yanchor\":\"bottom\",\"yref\":\"paper\"},{\"font\":{\"size\":16},\"showarrow\":false,\"text\":\"PM2_5\",\"x\":0.775,\"xanchor\":\"center\",\"xref\":\"paper\",\"y\":1.0,\"yanchor\":\"bottom\",\"yref\":\"paper\"},{\"font\":{\"size\":16},\"showarrow\":false,\"text\":\"O3\",\"x\":0.225,\"xanchor\":\"center\",\"xref\":\"paper\",\"y\":0.375,\"yanchor\":\"bottom\",\"yref\":\"paper\"},{\"font\":{\"size\":16},\"showarrow\":false,\"text\":\"SO2\",\"x\":0.775,\"xanchor\":\"center\",\"xref\":\"paper\",\"y\":0.375,\"yanchor\":\"bottom\",\"yref\":\"paper\"}]},                        {\"responsive\": true}                    ).then(function(){\n",
       "                            \n",
       "var gd = document.getElementById('d8c243ef-c6c5-44c6-878b-fb7b147e740a');\n",
       "var x = new MutationObserver(function (mutations, observer) {{\n",
       "        var display = window.getComputedStyle(gd).display;\n",
       "        if (!display || display === 'none') {{\n",
       "            console.log([gd, 'removed!']);\n",
       "            Plotly.purge(gd);\n",
       "            observer.disconnect();\n",
       "        }}\n",
       "}});\n",
       "\n",
       "// Listen for the removal of the full notebook cells\n",
       "var notebookContainer = gd.closest('#notebook-container');\n",
       "if (notebookContainer) {{\n",
       "    x.observe(notebookContainer, {childList: true});\n",
       "}}\n",
       "\n",
       "// Listen for the clearing of the current output cell\n",
       "var outputEl = gd.closest('.output');\n",
       "if (outputEl) {{\n",
       "    x.observe(outputEl, {childList: true});\n",
       "}}\n",
       "\n",
       "                        })                };                });            </script>        </div>"
      ]
     },
     "metadata": {},
     "output_type": "display_data"
    }
   ],
   "source": [
    "import plotly.graph_objects as go\n",
    "from plotly.subplots import make_subplots\n",
    "\n",
    "air_pollutants=['NO2','PM2_5','O3','SO2']\n",
    "plot_idxs=[[1,1],[1,2],[2,1],[2,2]]\n",
    "\n",
    "fig = make_subplots(rows=2, cols=2, start_cell=\"top-left\",subplot_titles=('NO2','PM2_5','O3','SO2'))\n",
    "\n",
    "for idx,el in enumerate(air_pollutants):\n",
    "    fig.add_trace(go.Scatter(x=df[el], y=df[\"asthma_hosp\"],\n",
    "                            mode=\"markers\",name=el)\n",
    "                  ,row=plot_idxs[idx][0], col=plot_idxs[idx][1])\n",
    "    fig.update_xaxes(title_text=el,row=plot_idxs[idx][0], col=plot_idxs[idx][1])\n",
    "    fig.update_yaxes(title_text=\"Asthma hosp\")\n",
    "\n",
    "fig.show()"
   ]
  },
  {
   "cell_type": "code",
   "execution_count": 353,
   "id": "c437cc95",
   "metadata": {
    "scrolled": false
   },
   "outputs": [
    {
     "data": {
      "application/vnd.plotly.v1+json": {
       "config": {
        "plotlyServerURL": "https://plotly.com"
       },
       "data": [
        {
         "hovertemplate": "PM2_5=%{x}<br>asthma_hosp=%{y}<br>year=%{marker.color}<extra></extra>",
         "legendgroup": "",
         "marker": {
          "color": [
           2009,
           2009,
           2009,
           2009,
           2009,
           2009,
           2009,
           2009,
           2009,
           2009,
           2009,
           2009,
           2009,
           2009,
           2009,
           2009,
           2009,
           2009,
           2009,
           2009,
           2009,
           2009,
           2009,
           2009,
           2009,
           2009,
           2009,
           2009,
           2009,
           2009,
           2009,
           2009,
           2009,
           2009,
           2009,
           2009,
           2009,
           2009,
           2009,
           2009,
           2009,
           2009,
           2010,
           2010,
           2010,
           2010,
           2010,
           2010,
           2010,
           2010,
           2010,
           2010,
           2010,
           2010,
           2010,
           2010,
           2010,
           2010,
           2010,
           2010,
           2010,
           2010,
           2010,
           2010,
           2010,
           2010,
           2010,
           2010,
           2010,
           2010,
           2010,
           2010,
           2010,
           2010,
           2010,
           2010,
           2010,
           2010,
           2010,
           2010,
           2010,
           2010,
           2010,
           2010,
           2011,
           2011,
           2011,
           2011,
           2011,
           2011,
           2011,
           2011,
           2011,
           2011,
           2011,
           2011,
           2011,
           2011,
           2011,
           2011,
           2011,
           2011,
           2011,
           2011,
           2011,
           2011,
           2011,
           2011,
           2011,
           2011,
           2011,
           2011,
           2011,
           2011,
           2011,
           2011,
           2011,
           2011,
           2011,
           2011,
           2011,
           2011,
           2011,
           2011,
           2011,
           2011,
           2012,
           2012,
           2012,
           2012,
           2012,
           2012,
           2012,
           2012,
           2012,
           2012,
           2012,
           2012,
           2012,
           2012,
           2012,
           2012,
           2012,
           2012,
           2012,
           2012,
           2012,
           2012,
           2012,
           2012,
           2012,
           2012,
           2012,
           2012,
           2012,
           2012,
           2012,
           2012,
           2012,
           2012,
           2012,
           2012,
           2012,
           2012,
           2012,
           2012,
           2012,
           2012,
           2013,
           2013,
           2013,
           2013,
           2013,
           2013,
           2013,
           2013,
           2013,
           2013,
           2013,
           2013,
           2013,
           2013,
           2013,
           2013,
           2013,
           2013,
           2013,
           2013,
           2013,
           2013,
           2013,
           2013,
           2013,
           2013,
           2013,
           2013,
           2013,
           2013,
           2013,
           2013,
           2013,
           2013,
           2013,
           2013,
           2013,
           2013,
           2013,
           2013,
           2013,
           2013,
           2014,
           2014,
           2014,
           2014,
           2014,
           2014,
           2014,
           2014,
           2014,
           2014,
           2014,
           2014,
           2014,
           2014,
           2014,
           2014,
           2014,
           2014,
           2014,
           2014,
           2014,
           2014,
           2014,
           2014,
           2014,
           2014,
           2014,
           2014,
           2014,
           2014,
           2014,
           2014,
           2014,
           2014,
           2014,
           2014,
           2014,
           2014,
           2014,
           2014,
           2014,
           2014,
           2015,
           2015,
           2015,
           2015,
           2015,
           2015,
           2015,
           2015,
           2015,
           2015,
           2015,
           2015,
           2015,
           2015,
           2015,
           2015,
           2015,
           2015,
           2015,
           2015,
           2015,
           2015,
           2015,
           2015,
           2015,
           2015,
           2015,
           2015,
           2015,
           2015,
           2015,
           2015,
           2015,
           2015,
           2015,
           2015,
           2015,
           2015,
           2015,
           2015,
           2015,
           2015,
           2016,
           2016,
           2016,
           2016,
           2016,
           2016,
           2016,
           2016,
           2016,
           2016,
           2016,
           2016,
           2016,
           2016,
           2016,
           2016,
           2016,
           2016,
           2016,
           2016,
           2016,
           2016,
           2016,
           2016,
           2016,
           2016,
           2016,
           2016,
           2016,
           2016,
           2016,
           2016,
           2016,
           2016,
           2016,
           2016,
           2016,
           2016,
           2016,
           2016,
           2016,
           2016
          ],
          "coloraxis": "coloraxis",
          "symbol": "circle"
         },
         "mode": "markers",
         "name": "",
         "orientation": "v",
         "showlegend": false,
         "type": "scatter",
         "x": [
          11.03,
          10.68,
          11.1,
          10.59,
          11.76,
          11.8,
          11.45,
          11.93,
          11.5,
          10.75,
          10.6,
          11.04,
          10.27,
          10.47,
          9.85,
          9.91,
          9.55,
          11.36,
          11.55,
          11.6,
          11.55,
          12.18,
          12.88,
          14.24,
          15.03,
          12.75,
          12.08,
          13.06,
          11.4,
          10.99,
          10.16,
          9.72,
          10.44,
          10,
          9.96,
          9.95,
          9.35,
          8.75,
          10.22,
          9.63,
          10.1,
          9.63,
          10.09,
          9.65,
          10.26,
          9.68,
          10.99,
          11,
          10.48,
          10.57,
          10.49,
          9.93,
          9.79,
          10.21,
          9.61,
          9.8,
          9.12,
          9.18,
          8.89,
          10.33,
          10.71,
          10.62,
          10.41,
          11.01,
          11.83,
          13.21,
          14.24,
          11.56,
          10.87,
          12.19,
          10.05,
          9.89,
          9.34,
          8.98,
          9.52,
          9.25,
          9.19,
          9.25,
          8.65,
          7.99,
          9.02,
          8.64,
          8.99,
          8.71,
          10.65,
          10.48,
          10.77,
          10.5,
          11.45,
          11.44,
          11.24,
          11.51,
          11.14,
          10.29,
          10.09,
          10.84,
          10.07,
          10.15,
          9.55,
          9.78,
          9.44,
          10.88,
          11.12,
          11.13,
          11.12,
          11.49,
          12.1,
          13.27,
          13.93,
          12.04,
          11.44,
          12.28,
          11.02,
          10.6,
          10.05,
          9.71,
          9.95,
          9.74,
          9.43,
          9.57,
          9.17,
          8.44,
          9.73,
          9.36,
          9.63,
          9.29,
          9.27,
          9.11,
          9.47,
          9.23,
          10.22,
          10.26,
          10.02,
          10.27,
          9.9,
          9.13,
          8.94,
          9.59,
          8.89,
          8.98,
          8.37,
          8.6,
          8.3,
          9.7,
          9.89,
          9.99,
          9.98,
          10.46,
          11.19,
          12.42,
          13.23,
          10.99,
          10.35,
          11.32,
          9.84,
          9.46,
          8.9,
          8.55,
          8.83,
          8.63,
          8.32,
          8.48,
          8.04,
          7.36,
          8.55,
          8.18,
          8.52,
          8.28,
          8.88,
          8.73,
          9.06,
          8.74,
          9.75,
          9.83,
          9.57,
          10,
          9.46,
          8.75,
          8.69,
          9.12,
          8.49,
          8.6,
          8.18,
          8.24,
          8.11,
          9.36,
          9.48,
          9.7,
          9.73,
          10.35,
          11.1,
          12.41,
          13.2,
          10.81,
          10.15,
          11.06,
          9.6,
          9.13,
          8.39,
          8.08,
          8.51,
          8.21,
          8.14,
          8.27,
          7.85,
          7.61,
          8.27,
          7.9,
          8.22,
          7.82,
          9,
          9,
          9.19,
          8.97,
          9.82,
          9.87,
          9.75,
          10.54,
          9.99,
          9.16,
          9.04,
          9.63,
          8.87,
          8.97,
          8.48,
          8.62,
          8.37,
          9.84,
          9.49,
          9.73,
          9.84,
          10.42,
          11.15,
          12.53,
          13.23,
          11.17,
          10.53,
          11.36,
          9.98,
          9.47,
          8.65,
          8.31,
          8.85,
          8.43,
          8.39,
          8.46,
          8.02,
          7.69,
          8.79,
          8.34,
          8.68,
          8.2,
          9.17,
          9.13,
          9.14,
          8.93,
          9.67,
          9.6,
          9.62,
          10.49,
          9.89,
          8.87,
          8.72,
          9.45,
          8.44,
          8.59,
          8.1,
          8.13,
          7.72,
          9.61,
          9.36,
          9.36,
          9.51,
          9.78,
          10.2,
          11.39,
          11.72,
          10.6,
          10.06,
          10.54,
          9.78,
          9.17,
          8.45,
          8.26,
          8.51,
          8.19,
          8.05,
          8.2,
          7.9,
          7.16,
          8.34,
          7.82,
          8.01,
          7.29,
          7.5,
          7.55,
          7.57,
          7.5,
          8.18,
          8.16,
          8.26,
          9.46,
          8.86,
          7.94,
          7.8,
          8.4,
          7.45,
          7.64,
          7.12,
          7.11,
          6.75,
          8.67,
          7.81,
          7.95,
          8.19,
          8.49,
          9.07,
          10.32,
          10.76,
          9.52,
          9.02,
          9.53,
          8.65,
          8.14,
          7.22,
          6.88,
          7.56,
          7.03,
          7.02,
          6.99,
          6.51,
          5.98,
          7.3,
          6.8,
          7.1,
          6.59
         ],
         "xaxis": "x",
         "y": [
          61,
          282,
          693,
          588,
          631,
          657,
          504,
          88,
          176,
          645,
          376,
          62,
          97,
          446,
          195,
          34,
          101,
          503,
          168,
          298,
          254,
          87,
          49,
          27,
          17,
          8,
          80,
          10,
          79,
          225,
          84,
          34,
          157,
          50,
          269,
          431,
          224,
          185,
          80,
          78,
          35,
          47,
          74,
          285,
          563,
          491,
          552,
          505,
          435,
          48,
          135,
          559,
          348,
          56,
          64,
          361,
          160,
          20,
          90,
          402,
          176,
          246,
          240,
          77,
          48,
          32,
          20,
          0,
          59,
          8,
          86,
          197,
          89,
          23,
          160,
          46,
          226,
          343,
          173,
          177,
          56,
          85,
          12,
          43,
          65,
          303,
          528,
          552,
          529,
          533,
          457,
          43,
          176,
          582,
          313,
          64,
          103,
          361,
          176,
          42,
          67,
          387,
          164,
          259,
          212,
          75,
          51,
          25,
          9,
          0,
          67,
          9,
          80,
          187,
          83,
          7,
          149,
          48,
          170,
          267,
          157,
          132,
          65,
          63,
          18,
          36,
          67,
          320,
          559,
          609,
          524,
          571,
          501,
          34,
          171,
          591,
          329,
          57,
          90,
          387,
          191,
          44,
          85,
          387,
          160,
          299,
          203,
          57,
          53,
          30,
          13,
          7,
          77,
          0,
          70,
          234,
          68,
          31,
          146,
          37,
          218,
          257,
          176,
          86,
          79,
          65,
          14,
          38,
          72,
          319,
          589,
          515,
          559,
          627,
          453,
          26,
          130,
          581,
          346,
          63,
          70,
          409,
          191,
          30,
          74,
          292,
          161,
          276,
          222,
          56,
          41,
          21,
          16,
          6,
          67,
          4,
          66,
          202,
          82,
          12,
          87,
          49,
          181,
          288,
          158,
          86,
          64,
          77,
          12,
          39,
          71,
          324,
          648,
          521,
          567,
          624,
          478,
          46,
          121,
          607,
          366,
          54,
          73,
          460,
          159,
          17,
          82,
          292,
          217,
          233,
          239,
          64,
          40,
          32,
          14,
          4,
          57,
          2,
          67,
          249,
          75,
          21,
          109,
          34,
          209,
          276,
          162,
          100,
          67,
          80,
          11,
          40,
          60,
          268,
          548,
          523,
          463,
          574,
          431,
          27,
          114,
          506,
          349,
          37,
          75,
          413,
          179,
          27,
          58,
          219,
          175,
          234,
          197,
          51,
          42,
          21,
          5,
          1,
          67,
          4,
          47,
          177,
          70,
          19,
          95,
          57,
          183,
          261,
          135,
          86,
          68,
          59,
          12,
          38,
          53,
          265,
          545,
          441,
          427,
          565,
          361,
          26,
          112,
          473,
          361,
          33,
          72,
          364,
          172,
          30,
          84,
          240,
          210,
          284,
          151,
          43,
          39,
          11,
          8,
          4,
          73,
          7,
          55,
          199,
          79,
          7,
          97,
          51,
          146,
          239,
          115,
          73,
          83,
          72,
          12,
          36
         ],
         "yaxis": "y"
        },
        {
         "hovertemplate": "<b>OLS trendline</b><br>asthma_hosp = -2.46221 * PM2_5 + 207.15<br>R<sup>2</sup>=0.000401<br><br>PM2_5=%{x}<br>asthma_hosp=%{y} <b>(trend)</b><extra></extra>",
         "legendgroup": "",
         "marker": {
          "symbol": "circle"
         },
         "mode": "lines",
         "name": "",
         "showlegend": false,
         "type": "scatter",
         "x": [
          5.98,
          6.51,
          6.59,
          6.75,
          6.8,
          6.88,
          6.99,
          7.02,
          7.03,
          7.1,
          7.11,
          7.12,
          7.16,
          7.22,
          7.29,
          7.3,
          7.36,
          7.45,
          7.5,
          7.5,
          7.55,
          7.56,
          7.57,
          7.61,
          7.64,
          7.69,
          7.72,
          7.8,
          7.81,
          7.82,
          7.82,
          7.85,
          7.9,
          7.9,
          7.94,
          7.95,
          7.99,
          8.01,
          8.02,
          8.04,
          8.05,
          8.08,
          8.1,
          8.11,
          8.13,
          8.14,
          8.14,
          8.16,
          8.18,
          8.18,
          8.18,
          8.19,
          8.19,
          8.2,
          8.2,
          8.21,
          8.22,
          8.24,
          8.26,
          8.26,
          8.27,
          8.27,
          8.28,
          8.3,
          8.31,
          8.32,
          8.34,
          8.34,
          8.37,
          8.37,
          8.39,
          8.39,
          8.4,
          8.43,
          8.44,
          8.44,
          8.45,
          8.46,
          8.48,
          8.48,
          8.49,
          8.49,
          8.51,
          8.51,
          8.52,
          8.55,
          8.55,
          8.59,
          8.6,
          8.6,
          8.62,
          8.63,
          8.64,
          8.65,
          8.65,
          8.65,
          8.67,
          8.68,
          8.69,
          8.71,
          8.72,
          8.73,
          8.74,
          8.75,
          8.75,
          8.79,
          8.83,
          8.85,
          8.86,
          8.87,
          8.87,
          8.88,
          8.89,
          8.89,
          8.9,
          8.93,
          8.94,
          8.97,
          8.97,
          8.98,
          8.98,
          8.99,
          9,
          9,
          9.02,
          9.02,
          9.04,
          9.06,
          9.07,
          9.11,
          9.12,
          9.12,
          9.13,
          9.13,
          9.13,
          9.14,
          9.16,
          9.17,
          9.17,
          9.17,
          9.18,
          9.19,
          9.19,
          9.23,
          9.25,
          9.25,
          9.27,
          9.29,
          9.34,
          9.35,
          9.36,
          9.36,
          9.36,
          9.36,
          9.43,
          9.44,
          9.45,
          9.46,
          9.46,
          9.46,
          9.47,
          9.47,
          9.48,
          9.49,
          9.51,
          9.52,
          9.52,
          9.53,
          9.55,
          9.55,
          9.57,
          9.57,
          9.59,
          9.6,
          9.6,
          9.61,
          9.61,
          9.62,
          9.63,
          9.63,
          9.63,
          9.63,
          9.65,
          9.67,
          9.68,
          9.7,
          9.7,
          9.71,
          9.72,
          9.73,
          9.73,
          9.73,
          9.74,
          9.75,
          9.75,
          9.78,
          9.78,
          9.78,
          9.79,
          9.8,
          9.82,
          9.83,
          9.84,
          9.84,
          9.84,
          9.85,
          9.87,
          9.89,
          9.89,
          9.89,
          9.9,
          9.91,
          9.93,
          9.95,
          9.95,
          9.96,
          9.98,
          9.98,
          9.99,
          9.99,
          10,
          10,
          10.02,
          10.05,
          10.05,
          10.06,
          10.07,
          10.09,
          10.09,
          10.1,
          10.15,
          10.15,
          10.16,
          10.2,
          10.21,
          10.22,
          10.22,
          10.26,
          10.26,
          10.27,
          10.27,
          10.29,
          10.32,
          10.33,
          10.35,
          10.35,
          10.41,
          10.42,
          10.44,
          10.46,
          10.47,
          10.48,
          10.48,
          10.49,
          10.49,
          10.5,
          10.53,
          10.54,
          10.54,
          10.57,
          10.59,
          10.6,
          10.6,
          10.6,
          10.62,
          10.65,
          10.68,
          10.71,
          10.75,
          10.76,
          10.77,
          10.81,
          10.84,
          10.87,
          10.88,
          10.99,
          10.99,
          10.99,
          11,
          11.01,
          11.02,
          11.03,
          11.04,
          11.06,
          11.1,
          11.1,
          11.12,
          11.12,
          11.13,
          11.14,
          11.15,
          11.17,
          11.19,
          11.24,
          11.32,
          11.36,
          11.36,
          11.39,
          11.4,
          11.44,
          11.44,
          11.45,
          11.45,
          11.49,
          11.5,
          11.51,
          11.55,
          11.55,
          11.56,
          11.6,
          11.72,
          11.76,
          11.8,
          11.83,
          11.93,
          12.04,
          12.08,
          12.1,
          12.18,
          12.19,
          12.28,
          12.41,
          12.42,
          12.53,
          12.75,
          12.88,
          13.06,
          13.2,
          13.21,
          13.23,
          13.23,
          13.27,
          13.93,
          14.24,
          14.24,
          15.03
         ],
         "xaxis": "x",
         "y": [
          192.4263175388787,
          191.1213486509107,
          190.924372214991,
          190.5304193431516,
          190.40730907070179,
          190.2103326347821,
          189.9394900353925,
          189.86562387192262,
          189.84100181743267,
          189.6686474360029,
          189.64402538151296,
          189.619403327023,
          189.52091510906314,
          189.37318278212337,
          189.20082840069364,
          189.17620634620368,
          189.0284740192639,
          188.80687552885425,
          188.68376525640443,
          188.68376525640443,
          188.56065498395463,
          188.53603292946468,
          188.5114108749747,
          188.41292265701486,
          188.33905649354497,
          188.21594622109515,
          188.14208005762526,
          187.94510362170558,
          187.9204815672156,
          187.89585951272565,
          187.89585951272565,
          187.82199334925576,
          187.69888307680594,
          187.69888307680594,
          187.6003948588461,
          187.57577280435615,
          187.4772845863963,
          187.42804047741637,
          187.40341842292642,
          187.3541743139465,
          187.32955225945653,
          187.25568609598665,
          187.2064419870067,
          187.18181993251676,
          187.13257582353683,
          187.10795376904687,
          187.10795376904687,
          187.05870966006694,
          187.00946555108703,
          187.00946555108703,
          187.00946555108703,
          186.98484349659705,
          186.98484349659705,
          186.9602214421071,
          186.9602214421071,
          186.93559938761712,
          186.91097733312716,
          186.86173322414726,
          186.81248911516732,
          186.81248911516732,
          186.78786706067734,
          186.78786706067734,
          186.7632450061874,
          186.71400089720748,
          186.6893788427175,
          186.66475678822755,
          186.61551267924762,
          186.61551267924762,
          186.54164651577773,
          186.54164651577773,
          186.49240240679782,
          186.49240240679782,
          186.46778035230784,
          186.39391418883795,
          186.369292134348,
          186.369292134348,
          186.34467007985805,
          186.32004802536807,
          186.27080391638816,
          186.27080391638816,
          186.24618186189818,
          186.24618186189818,
          186.19693775291827,
          186.19693775291827,
          186.1723156984283,
          186.0984495349584,
          186.0984495349584,
          185.99996131699857,
          185.9753392625086,
          185.9753392625086,
          185.92609515352868,
          185.90147309903872,
          185.87685104454874,
          185.8522289900588,
          185.8522289900588,
          185.8522289900588,
          185.80298488107888,
          185.7783628265889,
          185.75374077209895,
          185.70449666311902,
          185.67987460862906,
          185.6552525541391,
          185.63063049964913,
          185.60600844515918,
          185.60600844515918,
          185.50752022719934,
          185.40903200923947,
          185.35978790025956,
          185.3351658457696,
          185.31054379127963,
          185.31054379127963,
          185.28592173678967,
          185.2612996822997,
          185.2612996822997,
          185.23667762780974,
          185.16281146433985,
          185.1381894098499,
          185.06432324638,
          185.06432324638,
          185.03970119189006,
          185.03970119189006,
          185.01507913740008,
          184.99045708291013,
          184.99045708291013,
          184.9412129739302,
          184.9412129739302,
          184.8919688649503,
          184.84272475597035,
          184.8181027014804,
          184.71961448352053,
          184.69499242903058,
          184.69499242903058,
          184.67037037454062,
          184.67037037454062,
          184.67037037454062,
          184.64574832005064,
          184.59650421107074,
          184.57188215658076,
          184.57188215658076,
          184.57188215658076,
          184.5472601020908,
          184.52263804760085,
          184.52263804760085,
          184.42414982964098,
          184.37490572066108,
          184.37490572066108,
          184.32566161168114,
          184.27641750270124,
          184.15330723025141,
          184.12868517576146,
          184.10406312127148,
          184.10406312127148,
          184.10406312127148,
          184.10406312127148,
          183.93170873984175,
          183.9070866853518,
          183.88246463086182,
          183.85784257637187,
          183.85784257637187,
          183.85784257637187,
          183.8332205218819,
          183.8332205218819,
          183.80859846739193,
          183.78397641290198,
          183.73473230392204,
          183.7101102494321,
          183.7101102494321,
          183.68548819494214,
          183.6362440859622,
          183.6362440859622,
          183.58699997698227,
          183.58699997698227,
          183.53775586800236,
          183.5131338135124,
          183.5131338135124,
          183.48851175902243,
          183.48851175902243,
          183.46388970453248,
          183.4392676500425,
          183.4392676500425,
          183.4392676500425,
          183.4392676500425,
          183.3900235410626,
          183.34077943208266,
          183.3161573775927,
          183.26691326861277,
          183.26691326861277,
          183.24229121412282,
          183.21766915963286,
          183.19304710514288,
          183.19304710514288,
          183.19304710514288,
          183.16842505065293,
          183.14380299616298,
          183.14380299616298,
          183.0699368326931,
          183.0699368326931,
          183.0699368326931,
          183.0453147782031,
          183.02069272371315,
          182.97144861473322,
          182.94682656024327,
          182.9222045057533,
          182.9222045057533,
          182.9222045057533,
          182.89758245126336,
          182.84833834228343,
          182.7990942333035,
          182.7990942333035,
          182.7990942333035,
          182.77447217881354,
          182.7498501243236,
          182.70060601534365,
          182.65136190636372,
          182.65136190636372,
          182.62673985187377,
          182.57749574289383,
          182.57749574289383,
          182.55287368840388,
          182.55287368840388,
          182.5282516339139,
          182.5282516339139,
          182.479007524934,
          182.4051413614641,
          182.4051413614641,
          182.38051930697415,
          182.35589725248417,
          182.30665314350426,
          182.30665314350426,
          182.28203108901428,
          182.1589208165645,
          182.1589208165645,
          182.1342987620745,
          182.03581054411467,
          182.01118848962471,
          181.98656643513473,
          181.98656643513473,
          181.8880782171749,
          181.8880782171749,
          181.86345616268494,
          181.86345616268494,
          181.814212053705,
          181.74034589023512,
          181.71572383574517,
          181.66647972676523,
          181.66647972676523,
          181.51874739982546,
          181.4941253453355,
          181.44488123635557,
          181.39563712737566,
          181.37101507288568,
          181.34639301839573,
          181.34639301839573,
          181.32177096390578,
          181.32177096390578,
          181.2971489094158,
          181.22328274594594,
          181.19866069145596,
          181.19866069145596,
          181.12479452798607,
          181.07555041900616,
          181.05092836451618,
          181.05092836451618,
          181.05092836451618,
          181.00168425553628,
          180.9278180920664,
          180.8539519285965,
          180.7800857651266,
          180.68159754716675,
          180.6569754926768,
          180.63235343818684,
          180.53386522022697,
          180.45999905675708,
          180.3861328932872,
          180.36151083879724,
          180.09066823940765,
          180.09066823940765,
          180.09066823940765,
          180.0660461849177,
          180.04142413042774,
          180.0168020759378,
          179.9921800214478,
          179.96755796695786,
          179.91831385797792,
          179.81982564001808,
          179.81982564001808,
          179.77058153103815,
          179.77058153103815,
          179.7459594765482,
          179.72133742205824,
          179.69671536756826,
          179.64747125858835,
          179.59822714960842,
          179.4751168771586,
          179.27814044123892,
          179.17965222327908,
          179.17965222327908,
          179.1057860598092,
          179.0811640053192,
          178.98267578735937,
          178.98267578735937,
          178.95805373286942,
          178.95805373286942,
          178.85956551490955,
          178.8349434604196,
          178.81032140592964,
          178.71183318796977,
          178.71183318796977,
          178.68721113347982,
          178.58872291551998,
          178.29325826164043,
          178.1947700436806,
          178.09628182572072,
          178.02241566225084,
          177.77619511735122,
          177.50535251796165,
          177.40686430000179,
          177.35762019102188,
          177.16064375510217,
          177.13602170061222,
          176.91442321020256,
          176.59433650183306,
          176.56971444734307,
          176.2988718479535,
          175.75718664917434,
          175.4370999408048,
          174.99390295998552,
          174.64919419712604,
          174.62457214263608,
          174.57532803365615,
          174.57532803365615,
          174.4768398156963,
          172.85178421935882,
          172.08850053017,
          172.08850053017,
          170.14335822546298
         ],
         "yaxis": "y"
        }
       ],
       "layout": {
        "coloraxis": {
         "colorbar": {
          "title": {
           "text": "year"
          }
         },
         "colorscale": [
          [
           0,
           "#0d0887"
          ],
          [
           0.1111111111111111,
           "#46039f"
          ],
          [
           0.2222222222222222,
           "#7201a8"
          ],
          [
           0.3333333333333333,
           "#9c179e"
          ],
          [
           0.4444444444444444,
           "#bd3786"
          ],
          [
           0.5555555555555556,
           "#d8576b"
          ],
          [
           0.6666666666666666,
           "#ed7953"
          ],
          [
           0.7777777777777778,
           "#fb9f3a"
          ],
          [
           0.8888888888888888,
           "#fdca26"
          ],
          [
           1,
           "#f0f921"
          ]
         ]
        },
        "legend": {
         "tracegroupgap": 0
        },
        "margin": {
         "t": 60
        },
        "template": {
         "data": {
          "bar": [
           {
            "error_x": {
             "color": "#2a3f5f"
            },
            "error_y": {
             "color": "#2a3f5f"
            },
            "marker": {
             "line": {
              "color": "#E5ECF6",
              "width": 0.5
             },
             "pattern": {
              "fillmode": "overlay",
              "size": 10,
              "solidity": 0.2
             }
            },
            "type": "bar"
           }
          ],
          "barpolar": [
           {
            "marker": {
             "line": {
              "color": "#E5ECF6",
              "width": 0.5
             },
             "pattern": {
              "fillmode": "overlay",
              "size": 10,
              "solidity": 0.2
             }
            },
            "type": "barpolar"
           }
          ],
          "carpet": [
           {
            "aaxis": {
             "endlinecolor": "#2a3f5f",
             "gridcolor": "white",
             "linecolor": "white",
             "minorgridcolor": "white",
             "startlinecolor": "#2a3f5f"
            },
            "baxis": {
             "endlinecolor": "#2a3f5f",
             "gridcolor": "white",
             "linecolor": "white",
             "minorgridcolor": "white",
             "startlinecolor": "#2a3f5f"
            },
            "type": "carpet"
           }
          ],
          "choropleth": [
           {
            "colorbar": {
             "outlinewidth": 0,
             "ticks": ""
            },
            "type": "choropleth"
           }
          ],
          "contour": [
           {
            "colorbar": {
             "outlinewidth": 0,
             "ticks": ""
            },
            "colorscale": [
             [
              0,
              "#0d0887"
             ],
             [
              0.1111111111111111,
              "#46039f"
             ],
             [
              0.2222222222222222,
              "#7201a8"
             ],
             [
              0.3333333333333333,
              "#9c179e"
             ],
             [
              0.4444444444444444,
              "#bd3786"
             ],
             [
              0.5555555555555556,
              "#d8576b"
             ],
             [
              0.6666666666666666,
              "#ed7953"
             ],
             [
              0.7777777777777778,
              "#fb9f3a"
             ],
             [
              0.8888888888888888,
              "#fdca26"
             ],
             [
              1,
              "#f0f921"
             ]
            ],
            "type": "contour"
           }
          ],
          "contourcarpet": [
           {
            "colorbar": {
             "outlinewidth": 0,
             "ticks": ""
            },
            "type": "contourcarpet"
           }
          ],
          "heatmap": [
           {
            "colorbar": {
             "outlinewidth": 0,
             "ticks": ""
            },
            "colorscale": [
             [
              0,
              "#0d0887"
             ],
             [
              0.1111111111111111,
              "#46039f"
             ],
             [
              0.2222222222222222,
              "#7201a8"
             ],
             [
              0.3333333333333333,
              "#9c179e"
             ],
             [
              0.4444444444444444,
              "#bd3786"
             ],
             [
              0.5555555555555556,
              "#d8576b"
             ],
             [
              0.6666666666666666,
              "#ed7953"
             ],
             [
              0.7777777777777778,
              "#fb9f3a"
             ],
             [
              0.8888888888888888,
              "#fdca26"
             ],
             [
              1,
              "#f0f921"
             ]
            ],
            "type": "heatmap"
           }
          ],
          "heatmapgl": [
           {
            "colorbar": {
             "outlinewidth": 0,
             "ticks": ""
            },
            "colorscale": [
             [
              0,
              "#0d0887"
             ],
             [
              0.1111111111111111,
              "#46039f"
             ],
             [
              0.2222222222222222,
              "#7201a8"
             ],
             [
              0.3333333333333333,
              "#9c179e"
             ],
             [
              0.4444444444444444,
              "#bd3786"
             ],
             [
              0.5555555555555556,
              "#d8576b"
             ],
             [
              0.6666666666666666,
              "#ed7953"
             ],
             [
              0.7777777777777778,
              "#fb9f3a"
             ],
             [
              0.8888888888888888,
              "#fdca26"
             ],
             [
              1,
              "#f0f921"
             ]
            ],
            "type": "heatmapgl"
           }
          ],
          "histogram": [
           {
            "marker": {
             "pattern": {
              "fillmode": "overlay",
              "size": 10,
              "solidity": 0.2
             }
            },
            "type": "histogram"
           }
          ],
          "histogram2d": [
           {
            "colorbar": {
             "outlinewidth": 0,
             "ticks": ""
            },
            "colorscale": [
             [
              0,
              "#0d0887"
             ],
             [
              0.1111111111111111,
              "#46039f"
             ],
             [
              0.2222222222222222,
              "#7201a8"
             ],
             [
              0.3333333333333333,
              "#9c179e"
             ],
             [
              0.4444444444444444,
              "#bd3786"
             ],
             [
              0.5555555555555556,
              "#d8576b"
             ],
             [
              0.6666666666666666,
              "#ed7953"
             ],
             [
              0.7777777777777778,
              "#fb9f3a"
             ],
             [
              0.8888888888888888,
              "#fdca26"
             ],
             [
              1,
              "#f0f921"
             ]
            ],
            "type": "histogram2d"
           }
          ],
          "histogram2dcontour": [
           {
            "colorbar": {
             "outlinewidth": 0,
             "ticks": ""
            },
            "colorscale": [
             [
              0,
              "#0d0887"
             ],
             [
              0.1111111111111111,
              "#46039f"
             ],
             [
              0.2222222222222222,
              "#7201a8"
             ],
             [
              0.3333333333333333,
              "#9c179e"
             ],
             [
              0.4444444444444444,
              "#bd3786"
             ],
             [
              0.5555555555555556,
              "#d8576b"
             ],
             [
              0.6666666666666666,
              "#ed7953"
             ],
             [
              0.7777777777777778,
              "#fb9f3a"
             ],
             [
              0.8888888888888888,
              "#fdca26"
             ],
             [
              1,
              "#f0f921"
             ]
            ],
            "type": "histogram2dcontour"
           }
          ],
          "mesh3d": [
           {
            "colorbar": {
             "outlinewidth": 0,
             "ticks": ""
            },
            "type": "mesh3d"
           }
          ],
          "parcoords": [
           {
            "line": {
             "colorbar": {
              "outlinewidth": 0,
              "ticks": ""
             }
            },
            "type": "parcoords"
           }
          ],
          "pie": [
           {
            "automargin": true,
            "type": "pie"
           }
          ],
          "scatter": [
           {
            "marker": {
             "colorbar": {
              "outlinewidth": 0,
              "ticks": ""
             }
            },
            "type": "scatter"
           }
          ],
          "scatter3d": [
           {
            "line": {
             "colorbar": {
              "outlinewidth": 0,
              "ticks": ""
             }
            },
            "marker": {
             "colorbar": {
              "outlinewidth": 0,
              "ticks": ""
             }
            },
            "type": "scatter3d"
           }
          ],
          "scattercarpet": [
           {
            "marker": {
             "colorbar": {
              "outlinewidth": 0,
              "ticks": ""
             }
            },
            "type": "scattercarpet"
           }
          ],
          "scattergeo": [
           {
            "marker": {
             "colorbar": {
              "outlinewidth": 0,
              "ticks": ""
             }
            },
            "type": "scattergeo"
           }
          ],
          "scattergl": [
           {
            "marker": {
             "colorbar": {
              "outlinewidth": 0,
              "ticks": ""
             }
            },
            "type": "scattergl"
           }
          ],
          "scattermapbox": [
           {
            "marker": {
             "colorbar": {
              "outlinewidth": 0,
              "ticks": ""
             }
            },
            "type": "scattermapbox"
           }
          ],
          "scatterpolar": [
           {
            "marker": {
             "colorbar": {
              "outlinewidth": 0,
              "ticks": ""
             }
            },
            "type": "scatterpolar"
           }
          ],
          "scatterpolargl": [
           {
            "marker": {
             "colorbar": {
              "outlinewidth": 0,
              "ticks": ""
             }
            },
            "type": "scatterpolargl"
           }
          ],
          "scatterternary": [
           {
            "marker": {
             "colorbar": {
              "outlinewidth": 0,
              "ticks": ""
             }
            },
            "type": "scatterternary"
           }
          ],
          "surface": [
           {
            "colorbar": {
             "outlinewidth": 0,
             "ticks": ""
            },
            "colorscale": [
             [
              0,
              "#0d0887"
             ],
             [
              0.1111111111111111,
              "#46039f"
             ],
             [
              0.2222222222222222,
              "#7201a8"
             ],
             [
              0.3333333333333333,
              "#9c179e"
             ],
             [
              0.4444444444444444,
              "#bd3786"
             ],
             [
              0.5555555555555556,
              "#d8576b"
             ],
             [
              0.6666666666666666,
              "#ed7953"
             ],
             [
              0.7777777777777778,
              "#fb9f3a"
             ],
             [
              0.8888888888888888,
              "#fdca26"
             ],
             [
              1,
              "#f0f921"
             ]
            ],
            "type": "surface"
           }
          ],
          "table": [
           {
            "cells": {
             "fill": {
              "color": "#EBF0F8"
             },
             "line": {
              "color": "white"
             }
            },
            "header": {
             "fill": {
              "color": "#C8D4E3"
             },
             "line": {
              "color": "white"
             }
            },
            "type": "table"
           }
          ]
         },
         "layout": {
          "annotationdefaults": {
           "arrowcolor": "#2a3f5f",
           "arrowhead": 0,
           "arrowwidth": 1
          },
          "autotypenumbers": "strict",
          "coloraxis": {
           "colorbar": {
            "outlinewidth": 0,
            "ticks": ""
           }
          },
          "colorscale": {
           "diverging": [
            [
             0,
             "#8e0152"
            ],
            [
             0.1,
             "#c51b7d"
            ],
            [
             0.2,
             "#de77ae"
            ],
            [
             0.3,
             "#f1b6da"
            ],
            [
             0.4,
             "#fde0ef"
            ],
            [
             0.5,
             "#f7f7f7"
            ],
            [
             0.6,
             "#e6f5d0"
            ],
            [
             0.7,
             "#b8e186"
            ],
            [
             0.8,
             "#7fbc41"
            ],
            [
             0.9,
             "#4d9221"
            ],
            [
             1,
             "#276419"
            ]
           ],
           "sequential": [
            [
             0,
             "#0d0887"
            ],
            [
             0.1111111111111111,
             "#46039f"
            ],
            [
             0.2222222222222222,
             "#7201a8"
            ],
            [
             0.3333333333333333,
             "#9c179e"
            ],
            [
             0.4444444444444444,
             "#bd3786"
            ],
            [
             0.5555555555555556,
             "#d8576b"
            ],
            [
             0.6666666666666666,
             "#ed7953"
            ],
            [
             0.7777777777777778,
             "#fb9f3a"
            ],
            [
             0.8888888888888888,
             "#fdca26"
            ],
            [
             1,
             "#f0f921"
            ]
           ],
           "sequentialminus": [
            [
             0,
             "#0d0887"
            ],
            [
             0.1111111111111111,
             "#46039f"
            ],
            [
             0.2222222222222222,
             "#7201a8"
            ],
            [
             0.3333333333333333,
             "#9c179e"
            ],
            [
             0.4444444444444444,
             "#bd3786"
            ],
            [
             0.5555555555555556,
             "#d8576b"
            ],
            [
             0.6666666666666666,
             "#ed7953"
            ],
            [
             0.7777777777777778,
             "#fb9f3a"
            ],
            [
             0.8888888888888888,
             "#fdca26"
            ],
            [
             1,
             "#f0f921"
            ]
           ]
          },
          "colorway": [
           "#636efa",
           "#EF553B",
           "#00cc96",
           "#ab63fa",
           "#FFA15A",
           "#19d3f3",
           "#FF6692",
           "#B6E880",
           "#FF97FF",
           "#FECB52"
          ],
          "font": {
           "color": "#2a3f5f"
          },
          "geo": {
           "bgcolor": "white",
           "lakecolor": "white",
           "landcolor": "#E5ECF6",
           "showlakes": true,
           "showland": true,
           "subunitcolor": "white"
          },
          "hoverlabel": {
           "align": "left"
          },
          "hovermode": "closest",
          "mapbox": {
           "style": "light"
          },
          "paper_bgcolor": "white",
          "plot_bgcolor": "#E5ECF6",
          "polar": {
           "angularaxis": {
            "gridcolor": "white",
            "linecolor": "white",
            "ticks": ""
           },
           "bgcolor": "#E5ECF6",
           "radialaxis": {
            "gridcolor": "white",
            "linecolor": "white",
            "ticks": ""
           }
          },
          "scene": {
           "xaxis": {
            "backgroundcolor": "#E5ECF6",
            "gridcolor": "white",
            "gridwidth": 2,
            "linecolor": "white",
            "showbackground": true,
            "ticks": "",
            "zerolinecolor": "white"
           },
           "yaxis": {
            "backgroundcolor": "#E5ECF6",
            "gridcolor": "white",
            "gridwidth": 2,
            "linecolor": "white",
            "showbackground": true,
            "ticks": "",
            "zerolinecolor": "white"
           },
           "zaxis": {
            "backgroundcolor": "#E5ECF6",
            "gridcolor": "white",
            "gridwidth": 2,
            "linecolor": "white",
            "showbackground": true,
            "ticks": "",
            "zerolinecolor": "white"
           }
          },
          "shapedefaults": {
           "line": {
            "color": "#2a3f5f"
           }
          },
          "ternary": {
           "aaxis": {
            "gridcolor": "white",
            "linecolor": "white",
            "ticks": ""
           },
           "baxis": {
            "gridcolor": "white",
            "linecolor": "white",
            "ticks": ""
           },
           "bgcolor": "#E5ECF6",
           "caxis": {
            "gridcolor": "white",
            "linecolor": "white",
            "ticks": ""
           }
          },
          "title": {
           "x": 0.05
          },
          "xaxis": {
           "automargin": true,
           "gridcolor": "white",
           "linecolor": "white",
           "ticks": "",
           "title": {
            "standoff": 15
           },
           "zerolinecolor": "white",
           "zerolinewidth": 2
          },
          "yaxis": {
           "automargin": true,
           "gridcolor": "white",
           "linecolor": "white",
           "ticks": "",
           "title": {
            "standoff": 15
           },
           "zerolinecolor": "white",
           "zerolinewidth": 2
          }
         }
        },
        "xaxis": {
         "anchor": "y",
         "domain": [
          0,
          1
         ],
         "title": {
          "text": "PM2_5"
         }
        },
        "yaxis": {
         "anchor": "x",
         "domain": [
          0,
          1
         ],
         "title": {
          "text": "asthma_hosp"
         }
        }
       }
      },
      "text/html": [
       "<div>                            <div id=\"f2730a47-7023-4db8-8ad8-6b49710716ca\" class=\"plotly-graph-div\" style=\"height:525px; width:100%;\"></div>            <script type=\"text/javascript\">                require([\"plotly\"], function(Plotly) {                    window.PLOTLYENV=window.PLOTLYENV || {};                                    if (document.getElementById(\"f2730a47-7023-4db8-8ad8-6b49710716ca\")) {                    Plotly.newPlot(                        \"f2730a47-7023-4db8-8ad8-6b49710716ca\",                        [{\"hovertemplate\":\"PM2_5=%{x}<br>asthma_hosp=%{y}<br>year=%{marker.color}<extra></extra>\",\"legendgroup\":\"\",\"marker\":{\"color\":[2009,2009,2009,2009,2009,2009,2009,2009,2009,2009,2009,2009,2009,2009,2009,2009,2009,2009,2009,2009,2009,2009,2009,2009,2009,2009,2009,2009,2009,2009,2009,2009,2009,2009,2009,2009,2009,2009,2009,2009,2009,2009,2010,2010,2010,2010,2010,2010,2010,2010,2010,2010,2010,2010,2010,2010,2010,2010,2010,2010,2010,2010,2010,2010,2010,2010,2010,2010,2010,2010,2010,2010,2010,2010,2010,2010,2010,2010,2010,2010,2010,2010,2010,2010,2011,2011,2011,2011,2011,2011,2011,2011,2011,2011,2011,2011,2011,2011,2011,2011,2011,2011,2011,2011,2011,2011,2011,2011,2011,2011,2011,2011,2011,2011,2011,2011,2011,2011,2011,2011,2011,2011,2011,2011,2011,2011,2012,2012,2012,2012,2012,2012,2012,2012,2012,2012,2012,2012,2012,2012,2012,2012,2012,2012,2012,2012,2012,2012,2012,2012,2012,2012,2012,2012,2012,2012,2012,2012,2012,2012,2012,2012,2012,2012,2012,2012,2012,2012,2013,2013,2013,2013,2013,2013,2013,2013,2013,2013,2013,2013,2013,2013,2013,2013,2013,2013,2013,2013,2013,2013,2013,2013,2013,2013,2013,2013,2013,2013,2013,2013,2013,2013,2013,2013,2013,2013,2013,2013,2013,2013,2014,2014,2014,2014,2014,2014,2014,2014,2014,2014,2014,2014,2014,2014,2014,2014,2014,2014,2014,2014,2014,2014,2014,2014,2014,2014,2014,2014,2014,2014,2014,2014,2014,2014,2014,2014,2014,2014,2014,2014,2014,2014,2015,2015,2015,2015,2015,2015,2015,2015,2015,2015,2015,2015,2015,2015,2015,2015,2015,2015,2015,2015,2015,2015,2015,2015,2015,2015,2015,2015,2015,2015,2015,2015,2015,2015,2015,2015,2015,2015,2015,2015,2015,2015,2016,2016,2016,2016,2016,2016,2016,2016,2016,2016,2016,2016,2016,2016,2016,2016,2016,2016,2016,2016,2016,2016,2016,2016,2016,2016,2016,2016,2016,2016,2016,2016,2016,2016,2016,2016,2016,2016,2016,2016,2016,2016],\"coloraxis\":\"coloraxis\",\"symbol\":\"circle\"},\"mode\":\"markers\",\"name\":\"\",\"orientation\":\"v\",\"showlegend\":false,\"x\":[11.03,10.68,11.1,10.59,11.76,11.8,11.45,11.93,11.5,10.75,10.6,11.04,10.27,10.47,9.85,9.91,9.55,11.36,11.55,11.6,11.55,12.18,12.88,14.24,15.03,12.75,12.08,13.06,11.4,10.99,10.16,9.72,10.44,10.0,9.96,9.95,9.35,8.75,10.22,9.63,10.1,9.63,10.09,9.65,10.26,9.68,10.99,11.0,10.48,10.57,10.49,9.93,9.79,10.21,9.61,9.8,9.12,9.18,8.89,10.33,10.71,10.62,10.41,11.01,11.83,13.21,14.24,11.56,10.87,12.19,10.05,9.89,9.34,8.98,9.52,9.25,9.19,9.25,8.65,7.99,9.02,8.64,8.99,8.71,10.65,10.48,10.77,10.5,11.45,11.44,11.24,11.51,11.14,10.29,10.09,10.84,10.07,10.15,9.55,9.78,9.44,10.88,11.12,11.13,11.12,11.49,12.1,13.27,13.93,12.04,11.44,12.28,11.02,10.6,10.05,9.71,9.95,9.74,9.43,9.57,9.17,8.44,9.73,9.36,9.63,9.29,9.27,9.11,9.47,9.23,10.22,10.26,10.02,10.27,9.9,9.13,8.94,9.59,8.89,8.98,8.37,8.6,8.3,9.7,9.89,9.99,9.98,10.46,11.19,12.42,13.23,10.99,10.35,11.32,9.84,9.46,8.9,8.55,8.83,8.63,8.32,8.48,8.04,7.36,8.55,8.18,8.52,8.28,8.88,8.73,9.06,8.74,9.75,9.83,9.57,10.0,9.46,8.75,8.69,9.12,8.49,8.6,8.18,8.24,8.11,9.36,9.48,9.7,9.73,10.35,11.1,12.41,13.2,10.81,10.15,11.06,9.6,9.13,8.39,8.08,8.51,8.21,8.14,8.27,7.85,7.61,8.27,7.9,8.22,7.82,9.0,9.0,9.19,8.97,9.82,9.87,9.75,10.54,9.99,9.16,9.04,9.63,8.87,8.97,8.48,8.62,8.37,9.84,9.49,9.73,9.84,10.42,11.15,12.53,13.23,11.17,10.53,11.36,9.98,9.47,8.65,8.31,8.85,8.43,8.39,8.46,8.02,7.69,8.79,8.34,8.68,8.2,9.17,9.13,9.14,8.93,9.67,9.6,9.62,10.49,9.89,8.87,8.72,9.45,8.44,8.59,8.1,8.13,7.72,9.61,9.36,9.36,9.51,9.78,10.2,11.39,11.72,10.6,10.06,10.54,9.78,9.17,8.45,8.26,8.51,8.19,8.05,8.2,7.9,7.16,8.34,7.82,8.01,7.29,7.5,7.55,7.57,7.5,8.18,8.16,8.26,9.46,8.86,7.94,7.8,8.4,7.45,7.64,7.12,7.11,6.75,8.67,7.81,7.95,8.19,8.49,9.07,10.32,10.76,9.52,9.02,9.53,8.65,8.14,7.22,6.88,7.56,7.03,7.02,6.99,6.51,5.98,7.3,6.8,7.1,6.59],\"xaxis\":\"x\",\"y\":[61,282,693,588,631,657,504,88,176,645,376,62,97,446,195,34,101,503,168,298,254,87,49,27,17,8,80,10,79,225,84,34,157,50,269,431,224,185,80,78,35,47,74,285,563,491,552,505,435,48,135,559,348,56,64,361,160,20,90,402,176,246,240,77,48,32,20,0,59,8,86,197,89,23,160,46,226,343,173,177,56,85,12,43,65,303,528,552,529,533,457,43,176,582,313,64,103,361,176,42,67,387,164,259,212,75,51,25,9,0,67,9,80,187,83,7,149,48,170,267,157,132,65,63,18,36,67,320,559,609,524,571,501,34,171,591,329,57,90,387,191,44,85,387,160,299,203,57,53,30,13,7,77,0,70,234,68,31,146,37,218,257,176,86,79,65,14,38,72,319,589,515,559,627,453,26,130,581,346,63,70,409,191,30,74,292,161,276,222,56,41,21,16,6,67,4,66,202,82,12,87,49,181,288,158,86,64,77,12,39,71,324,648,521,567,624,478,46,121,607,366,54,73,460,159,17,82,292,217,233,239,64,40,32,14,4,57,2,67,249,75,21,109,34,209,276,162,100,67,80,11,40,60,268,548,523,463,574,431,27,114,506,349,37,75,413,179,27,58,219,175,234,197,51,42,21,5,1,67,4,47,177,70,19,95,57,183,261,135,86,68,59,12,38,53,265,545,441,427,565,361,26,112,473,361,33,72,364,172,30,84,240,210,284,151,43,39,11,8,4,73,7,55,199,79,7,97,51,146,239,115,73,83,72,12,36],\"yaxis\":\"y\",\"type\":\"scatter\"},{\"hovertemplate\":\"<b>OLS trendline</b><br>asthma_hosp = -2.46221 * PM2_5 + 207.15<br>R<sup>2</sup>=0.000401<br><br>PM2_5=%{x}<br>asthma_hosp=%{y} <b>(trend)</b><extra></extra>\",\"legendgroup\":\"\",\"marker\":{\"symbol\":\"circle\"},\"mode\":\"lines\",\"name\":\"\",\"showlegend\":false,\"x\":[5.98,6.51,6.59,6.75,6.8,6.88,6.99,7.02,7.03,7.1,7.11,7.12,7.16,7.22,7.29,7.3,7.36,7.45,7.5,7.5,7.55,7.56,7.57,7.61,7.64,7.69,7.72,7.8,7.81,7.82,7.82,7.85,7.9,7.9,7.94,7.95,7.99,8.01,8.02,8.04,8.05,8.08,8.1,8.11,8.13,8.14,8.14,8.16,8.18,8.18,8.18,8.19,8.19,8.2,8.2,8.21,8.22,8.24,8.26,8.26,8.27,8.27,8.28,8.3,8.31,8.32,8.34,8.34,8.37,8.37,8.39,8.39,8.4,8.43,8.44,8.44,8.45,8.46,8.48,8.48,8.49,8.49,8.51,8.51,8.52,8.55,8.55,8.59,8.6,8.6,8.62,8.63,8.64,8.65,8.65,8.65,8.67,8.68,8.69,8.71,8.72,8.73,8.74,8.75,8.75,8.79,8.83,8.85,8.86,8.87,8.87,8.88,8.89,8.89,8.9,8.93,8.94,8.97,8.97,8.98,8.98,8.99,9.0,9.0,9.02,9.02,9.04,9.06,9.07,9.11,9.12,9.12,9.13,9.13,9.13,9.14,9.16,9.17,9.17,9.17,9.18,9.19,9.19,9.23,9.25,9.25,9.27,9.29,9.34,9.35,9.36,9.36,9.36,9.36,9.43,9.44,9.45,9.46,9.46,9.46,9.47,9.47,9.48,9.49,9.51,9.52,9.52,9.53,9.55,9.55,9.57,9.57,9.59,9.6,9.6,9.61,9.61,9.62,9.63,9.63,9.63,9.63,9.65,9.67,9.68,9.7,9.7,9.71,9.72,9.73,9.73,9.73,9.74,9.75,9.75,9.78,9.78,9.78,9.79,9.8,9.82,9.83,9.84,9.84,9.84,9.85,9.87,9.89,9.89,9.89,9.9,9.91,9.93,9.95,9.95,9.96,9.98,9.98,9.99,9.99,10.0,10.0,10.02,10.05,10.05,10.06,10.07,10.09,10.09,10.1,10.15,10.15,10.16,10.2,10.21,10.22,10.22,10.26,10.26,10.27,10.27,10.29,10.32,10.33,10.35,10.35,10.41,10.42,10.44,10.46,10.47,10.48,10.48,10.49,10.49,10.5,10.53,10.54,10.54,10.57,10.59,10.6,10.6,10.6,10.62,10.65,10.68,10.71,10.75,10.76,10.77,10.81,10.84,10.87,10.88,10.99,10.99,10.99,11.0,11.01,11.02,11.03,11.04,11.06,11.1,11.1,11.12,11.12,11.13,11.14,11.15,11.17,11.19,11.24,11.32,11.36,11.36,11.39,11.4,11.44,11.44,11.45,11.45,11.49,11.5,11.51,11.55,11.55,11.56,11.6,11.72,11.76,11.8,11.83,11.93,12.04,12.08,12.1,12.18,12.19,12.28,12.41,12.42,12.53,12.75,12.88,13.06,13.2,13.21,13.23,13.23,13.27,13.93,14.24,14.24,15.03],\"xaxis\":\"x\",\"y\":[192.4263175388787,191.1213486509107,190.924372214991,190.5304193431516,190.40730907070179,190.2103326347821,189.9394900353925,189.86562387192262,189.84100181743267,189.6686474360029,189.64402538151296,189.619403327023,189.52091510906314,189.37318278212337,189.20082840069364,189.17620634620368,189.0284740192639,188.80687552885425,188.68376525640443,188.68376525640443,188.56065498395463,188.53603292946468,188.5114108749747,188.41292265701486,188.33905649354497,188.21594622109515,188.14208005762526,187.94510362170558,187.9204815672156,187.89585951272565,187.89585951272565,187.82199334925576,187.69888307680594,187.69888307680594,187.6003948588461,187.57577280435615,187.4772845863963,187.42804047741637,187.40341842292642,187.3541743139465,187.32955225945653,187.25568609598665,187.2064419870067,187.18181993251676,187.13257582353683,187.10795376904687,187.10795376904687,187.05870966006694,187.00946555108703,187.00946555108703,187.00946555108703,186.98484349659705,186.98484349659705,186.9602214421071,186.9602214421071,186.93559938761712,186.91097733312716,186.86173322414726,186.81248911516732,186.81248911516732,186.78786706067734,186.78786706067734,186.7632450061874,186.71400089720748,186.6893788427175,186.66475678822755,186.61551267924762,186.61551267924762,186.54164651577773,186.54164651577773,186.49240240679782,186.49240240679782,186.46778035230784,186.39391418883795,186.369292134348,186.369292134348,186.34467007985805,186.32004802536807,186.27080391638816,186.27080391638816,186.24618186189818,186.24618186189818,186.19693775291827,186.19693775291827,186.1723156984283,186.0984495349584,186.0984495349584,185.99996131699857,185.9753392625086,185.9753392625086,185.92609515352868,185.90147309903872,185.87685104454874,185.8522289900588,185.8522289900588,185.8522289900588,185.80298488107888,185.7783628265889,185.75374077209895,185.70449666311902,185.67987460862906,185.6552525541391,185.63063049964913,185.60600844515918,185.60600844515918,185.50752022719934,185.40903200923947,185.35978790025956,185.3351658457696,185.31054379127963,185.31054379127963,185.28592173678967,185.2612996822997,185.2612996822997,185.23667762780974,185.16281146433985,185.1381894098499,185.06432324638,185.06432324638,185.03970119189006,185.03970119189006,185.01507913740008,184.99045708291013,184.99045708291013,184.9412129739302,184.9412129739302,184.8919688649503,184.84272475597035,184.8181027014804,184.71961448352053,184.69499242903058,184.69499242903058,184.67037037454062,184.67037037454062,184.67037037454062,184.64574832005064,184.59650421107074,184.57188215658076,184.57188215658076,184.57188215658076,184.5472601020908,184.52263804760085,184.52263804760085,184.42414982964098,184.37490572066108,184.37490572066108,184.32566161168114,184.27641750270124,184.15330723025141,184.12868517576146,184.10406312127148,184.10406312127148,184.10406312127148,184.10406312127148,183.93170873984175,183.9070866853518,183.88246463086182,183.85784257637187,183.85784257637187,183.85784257637187,183.8332205218819,183.8332205218819,183.80859846739193,183.78397641290198,183.73473230392204,183.7101102494321,183.7101102494321,183.68548819494214,183.6362440859622,183.6362440859622,183.58699997698227,183.58699997698227,183.53775586800236,183.5131338135124,183.5131338135124,183.48851175902243,183.48851175902243,183.46388970453248,183.4392676500425,183.4392676500425,183.4392676500425,183.4392676500425,183.3900235410626,183.34077943208266,183.3161573775927,183.26691326861277,183.26691326861277,183.24229121412282,183.21766915963286,183.19304710514288,183.19304710514288,183.19304710514288,183.16842505065293,183.14380299616298,183.14380299616298,183.0699368326931,183.0699368326931,183.0699368326931,183.0453147782031,183.02069272371315,182.97144861473322,182.94682656024327,182.9222045057533,182.9222045057533,182.9222045057533,182.89758245126336,182.84833834228343,182.7990942333035,182.7990942333035,182.7990942333035,182.77447217881354,182.7498501243236,182.70060601534365,182.65136190636372,182.65136190636372,182.62673985187377,182.57749574289383,182.57749574289383,182.55287368840388,182.55287368840388,182.5282516339139,182.5282516339139,182.479007524934,182.4051413614641,182.4051413614641,182.38051930697415,182.35589725248417,182.30665314350426,182.30665314350426,182.28203108901428,182.1589208165645,182.1589208165645,182.1342987620745,182.03581054411467,182.01118848962471,181.98656643513473,181.98656643513473,181.8880782171749,181.8880782171749,181.86345616268494,181.86345616268494,181.814212053705,181.74034589023512,181.71572383574517,181.66647972676523,181.66647972676523,181.51874739982546,181.4941253453355,181.44488123635557,181.39563712737566,181.37101507288568,181.34639301839573,181.34639301839573,181.32177096390578,181.32177096390578,181.2971489094158,181.22328274594594,181.19866069145596,181.19866069145596,181.12479452798607,181.07555041900616,181.05092836451618,181.05092836451618,181.05092836451618,181.00168425553628,180.9278180920664,180.8539519285965,180.7800857651266,180.68159754716675,180.6569754926768,180.63235343818684,180.53386522022697,180.45999905675708,180.3861328932872,180.36151083879724,180.09066823940765,180.09066823940765,180.09066823940765,180.0660461849177,180.04142413042774,180.0168020759378,179.9921800214478,179.96755796695786,179.91831385797792,179.81982564001808,179.81982564001808,179.77058153103815,179.77058153103815,179.7459594765482,179.72133742205824,179.69671536756826,179.64747125858835,179.59822714960842,179.4751168771586,179.27814044123892,179.17965222327908,179.17965222327908,179.1057860598092,179.0811640053192,178.98267578735937,178.98267578735937,178.95805373286942,178.95805373286942,178.85956551490955,178.8349434604196,178.81032140592964,178.71183318796977,178.71183318796977,178.68721113347982,178.58872291551998,178.29325826164043,178.1947700436806,178.09628182572072,178.02241566225084,177.77619511735122,177.50535251796165,177.40686430000179,177.35762019102188,177.16064375510217,177.13602170061222,176.91442321020256,176.59433650183306,176.56971444734307,176.2988718479535,175.75718664917434,175.4370999408048,174.99390295998552,174.64919419712604,174.62457214263608,174.57532803365615,174.57532803365615,174.4768398156963,172.85178421935882,172.08850053017,172.08850053017,170.14335822546298],\"yaxis\":\"y\",\"type\":\"scatter\"}],                        {\"template\":{\"data\":{\"bar\":[{\"error_x\":{\"color\":\"#2a3f5f\"},\"error_y\":{\"color\":\"#2a3f5f\"},\"marker\":{\"line\":{\"color\":\"#E5ECF6\",\"width\":0.5},\"pattern\":{\"fillmode\":\"overlay\",\"size\":10,\"solidity\":0.2}},\"type\":\"bar\"}],\"barpolar\":[{\"marker\":{\"line\":{\"color\":\"#E5ECF6\",\"width\":0.5},\"pattern\":{\"fillmode\":\"overlay\",\"size\":10,\"solidity\":0.2}},\"type\":\"barpolar\"}],\"carpet\":[{\"aaxis\":{\"endlinecolor\":\"#2a3f5f\",\"gridcolor\":\"white\",\"linecolor\":\"white\",\"minorgridcolor\":\"white\",\"startlinecolor\":\"#2a3f5f\"},\"baxis\":{\"endlinecolor\":\"#2a3f5f\",\"gridcolor\":\"white\",\"linecolor\":\"white\",\"minorgridcolor\":\"white\",\"startlinecolor\":\"#2a3f5f\"},\"type\":\"carpet\"}],\"choropleth\":[{\"colorbar\":{\"outlinewidth\":0,\"ticks\":\"\"},\"type\":\"choropleth\"}],\"contour\":[{\"colorbar\":{\"outlinewidth\":0,\"ticks\":\"\"},\"colorscale\":[[0.0,\"#0d0887\"],[0.1111111111111111,\"#46039f\"],[0.2222222222222222,\"#7201a8\"],[0.3333333333333333,\"#9c179e\"],[0.4444444444444444,\"#bd3786\"],[0.5555555555555556,\"#d8576b\"],[0.6666666666666666,\"#ed7953\"],[0.7777777777777778,\"#fb9f3a\"],[0.8888888888888888,\"#fdca26\"],[1.0,\"#f0f921\"]],\"type\":\"contour\"}],\"contourcarpet\":[{\"colorbar\":{\"outlinewidth\":0,\"ticks\":\"\"},\"type\":\"contourcarpet\"}],\"heatmap\":[{\"colorbar\":{\"outlinewidth\":0,\"ticks\":\"\"},\"colorscale\":[[0.0,\"#0d0887\"],[0.1111111111111111,\"#46039f\"],[0.2222222222222222,\"#7201a8\"],[0.3333333333333333,\"#9c179e\"],[0.4444444444444444,\"#bd3786\"],[0.5555555555555556,\"#d8576b\"],[0.6666666666666666,\"#ed7953\"],[0.7777777777777778,\"#fb9f3a\"],[0.8888888888888888,\"#fdca26\"],[1.0,\"#f0f921\"]],\"type\":\"heatmap\"}],\"heatmapgl\":[{\"colorbar\":{\"outlinewidth\":0,\"ticks\":\"\"},\"colorscale\":[[0.0,\"#0d0887\"],[0.1111111111111111,\"#46039f\"],[0.2222222222222222,\"#7201a8\"],[0.3333333333333333,\"#9c179e\"],[0.4444444444444444,\"#bd3786\"],[0.5555555555555556,\"#d8576b\"],[0.6666666666666666,\"#ed7953\"],[0.7777777777777778,\"#fb9f3a\"],[0.8888888888888888,\"#fdca26\"],[1.0,\"#f0f921\"]],\"type\":\"heatmapgl\"}],\"histogram\":[{\"marker\":{\"pattern\":{\"fillmode\":\"overlay\",\"size\":10,\"solidity\":0.2}},\"type\":\"histogram\"}],\"histogram2d\":[{\"colorbar\":{\"outlinewidth\":0,\"ticks\":\"\"},\"colorscale\":[[0.0,\"#0d0887\"],[0.1111111111111111,\"#46039f\"],[0.2222222222222222,\"#7201a8\"],[0.3333333333333333,\"#9c179e\"],[0.4444444444444444,\"#bd3786\"],[0.5555555555555556,\"#d8576b\"],[0.6666666666666666,\"#ed7953\"],[0.7777777777777778,\"#fb9f3a\"],[0.8888888888888888,\"#fdca26\"],[1.0,\"#f0f921\"]],\"type\":\"histogram2d\"}],\"histogram2dcontour\":[{\"colorbar\":{\"outlinewidth\":0,\"ticks\":\"\"},\"colorscale\":[[0.0,\"#0d0887\"],[0.1111111111111111,\"#46039f\"],[0.2222222222222222,\"#7201a8\"],[0.3333333333333333,\"#9c179e\"],[0.4444444444444444,\"#bd3786\"],[0.5555555555555556,\"#d8576b\"],[0.6666666666666666,\"#ed7953\"],[0.7777777777777778,\"#fb9f3a\"],[0.8888888888888888,\"#fdca26\"],[1.0,\"#f0f921\"]],\"type\":\"histogram2dcontour\"}],\"mesh3d\":[{\"colorbar\":{\"outlinewidth\":0,\"ticks\":\"\"},\"type\":\"mesh3d\"}],\"parcoords\":[{\"line\":{\"colorbar\":{\"outlinewidth\":0,\"ticks\":\"\"}},\"type\":\"parcoords\"}],\"pie\":[{\"automargin\":true,\"type\":\"pie\"}],\"scatter\":[{\"marker\":{\"colorbar\":{\"outlinewidth\":0,\"ticks\":\"\"}},\"type\":\"scatter\"}],\"scatter3d\":[{\"line\":{\"colorbar\":{\"outlinewidth\":0,\"ticks\":\"\"}},\"marker\":{\"colorbar\":{\"outlinewidth\":0,\"ticks\":\"\"}},\"type\":\"scatter3d\"}],\"scattercarpet\":[{\"marker\":{\"colorbar\":{\"outlinewidth\":0,\"ticks\":\"\"}},\"type\":\"scattercarpet\"}],\"scattergeo\":[{\"marker\":{\"colorbar\":{\"outlinewidth\":0,\"ticks\":\"\"}},\"type\":\"scattergeo\"}],\"scattergl\":[{\"marker\":{\"colorbar\":{\"outlinewidth\":0,\"ticks\":\"\"}},\"type\":\"scattergl\"}],\"scattermapbox\":[{\"marker\":{\"colorbar\":{\"outlinewidth\":0,\"ticks\":\"\"}},\"type\":\"scattermapbox\"}],\"scatterpolar\":[{\"marker\":{\"colorbar\":{\"outlinewidth\":0,\"ticks\":\"\"}},\"type\":\"scatterpolar\"}],\"scatterpolargl\":[{\"marker\":{\"colorbar\":{\"outlinewidth\":0,\"ticks\":\"\"}},\"type\":\"scatterpolargl\"}],\"scatterternary\":[{\"marker\":{\"colorbar\":{\"outlinewidth\":0,\"ticks\":\"\"}},\"type\":\"scatterternary\"}],\"surface\":[{\"colorbar\":{\"outlinewidth\":0,\"ticks\":\"\"},\"colorscale\":[[0.0,\"#0d0887\"],[0.1111111111111111,\"#46039f\"],[0.2222222222222222,\"#7201a8\"],[0.3333333333333333,\"#9c179e\"],[0.4444444444444444,\"#bd3786\"],[0.5555555555555556,\"#d8576b\"],[0.6666666666666666,\"#ed7953\"],[0.7777777777777778,\"#fb9f3a\"],[0.8888888888888888,\"#fdca26\"],[1.0,\"#f0f921\"]],\"type\":\"surface\"}],\"table\":[{\"cells\":{\"fill\":{\"color\":\"#EBF0F8\"},\"line\":{\"color\":\"white\"}},\"header\":{\"fill\":{\"color\":\"#C8D4E3\"},\"line\":{\"color\":\"white\"}},\"type\":\"table\"}]},\"layout\":{\"annotationdefaults\":{\"arrowcolor\":\"#2a3f5f\",\"arrowhead\":0,\"arrowwidth\":1},\"autotypenumbers\":\"strict\",\"coloraxis\":{\"colorbar\":{\"outlinewidth\":0,\"ticks\":\"\"}},\"colorscale\":{\"diverging\":[[0,\"#8e0152\"],[0.1,\"#c51b7d\"],[0.2,\"#de77ae\"],[0.3,\"#f1b6da\"],[0.4,\"#fde0ef\"],[0.5,\"#f7f7f7\"],[0.6,\"#e6f5d0\"],[0.7,\"#b8e186\"],[0.8,\"#7fbc41\"],[0.9,\"#4d9221\"],[1,\"#276419\"]],\"sequential\":[[0.0,\"#0d0887\"],[0.1111111111111111,\"#46039f\"],[0.2222222222222222,\"#7201a8\"],[0.3333333333333333,\"#9c179e\"],[0.4444444444444444,\"#bd3786\"],[0.5555555555555556,\"#d8576b\"],[0.6666666666666666,\"#ed7953\"],[0.7777777777777778,\"#fb9f3a\"],[0.8888888888888888,\"#fdca26\"],[1.0,\"#f0f921\"]],\"sequentialminus\":[[0.0,\"#0d0887\"],[0.1111111111111111,\"#46039f\"],[0.2222222222222222,\"#7201a8\"],[0.3333333333333333,\"#9c179e\"],[0.4444444444444444,\"#bd3786\"],[0.5555555555555556,\"#d8576b\"],[0.6666666666666666,\"#ed7953\"],[0.7777777777777778,\"#fb9f3a\"],[0.8888888888888888,\"#fdca26\"],[1.0,\"#f0f921\"]]},\"colorway\":[\"#636efa\",\"#EF553B\",\"#00cc96\",\"#ab63fa\",\"#FFA15A\",\"#19d3f3\",\"#FF6692\",\"#B6E880\",\"#FF97FF\",\"#FECB52\"],\"font\":{\"color\":\"#2a3f5f\"},\"geo\":{\"bgcolor\":\"white\",\"lakecolor\":\"white\",\"landcolor\":\"#E5ECF6\",\"showlakes\":true,\"showland\":true,\"subunitcolor\":\"white\"},\"hoverlabel\":{\"align\":\"left\"},\"hovermode\":\"closest\",\"mapbox\":{\"style\":\"light\"},\"paper_bgcolor\":\"white\",\"plot_bgcolor\":\"#E5ECF6\",\"polar\":{\"angularaxis\":{\"gridcolor\":\"white\",\"linecolor\":\"white\",\"ticks\":\"\"},\"bgcolor\":\"#E5ECF6\",\"radialaxis\":{\"gridcolor\":\"white\",\"linecolor\":\"white\",\"ticks\":\"\"}},\"scene\":{\"xaxis\":{\"backgroundcolor\":\"#E5ECF6\",\"gridcolor\":\"white\",\"gridwidth\":2,\"linecolor\":\"white\",\"showbackground\":true,\"ticks\":\"\",\"zerolinecolor\":\"white\"},\"yaxis\":{\"backgroundcolor\":\"#E5ECF6\",\"gridcolor\":\"white\",\"gridwidth\":2,\"linecolor\":\"white\",\"showbackground\":true,\"ticks\":\"\",\"zerolinecolor\":\"white\"},\"zaxis\":{\"backgroundcolor\":\"#E5ECF6\",\"gridcolor\":\"white\",\"gridwidth\":2,\"linecolor\":\"white\",\"showbackground\":true,\"ticks\":\"\",\"zerolinecolor\":\"white\"}},\"shapedefaults\":{\"line\":{\"color\":\"#2a3f5f\"}},\"ternary\":{\"aaxis\":{\"gridcolor\":\"white\",\"linecolor\":\"white\",\"ticks\":\"\"},\"baxis\":{\"gridcolor\":\"white\",\"linecolor\":\"white\",\"ticks\":\"\"},\"bgcolor\":\"#E5ECF6\",\"caxis\":{\"gridcolor\":\"white\",\"linecolor\":\"white\",\"ticks\":\"\"}},\"title\":{\"x\":0.05},\"xaxis\":{\"automargin\":true,\"gridcolor\":\"white\",\"linecolor\":\"white\",\"ticks\":\"\",\"title\":{\"standoff\":15},\"zerolinecolor\":\"white\",\"zerolinewidth\":2},\"yaxis\":{\"automargin\":true,\"gridcolor\":\"white\",\"linecolor\":\"white\",\"ticks\":\"\",\"title\":{\"standoff\":15},\"zerolinecolor\":\"white\",\"zerolinewidth\":2}}},\"xaxis\":{\"anchor\":\"y\",\"domain\":[0.0,1.0],\"title\":{\"text\":\"PM2_5\"}},\"yaxis\":{\"anchor\":\"x\",\"domain\":[0.0,1.0],\"title\":{\"text\":\"asthma_hosp\"}},\"coloraxis\":{\"colorbar\":{\"title\":{\"text\":\"year\"}},\"colorscale\":[[0.0,\"#0d0887\"],[0.1111111111111111,\"#46039f\"],[0.2222222222222222,\"#7201a8\"],[0.3333333333333333,\"#9c179e\"],[0.4444444444444444,\"#bd3786\"],[0.5555555555555556,\"#d8576b\"],[0.6666666666666666,\"#ed7953\"],[0.7777777777777778,\"#fb9f3a\"],[0.8888888888888888,\"#fdca26\"],[1.0,\"#f0f921\"]]},\"legend\":{\"tracegroupgap\":0},\"margin\":{\"t\":60}},                        {\"responsive\": true}                    ).then(function(){\n",
       "                            \n",
       "var gd = document.getElementById('f2730a47-7023-4db8-8ad8-6b49710716ca');\n",
       "var x = new MutationObserver(function (mutations, observer) {{\n",
       "        var display = window.getComputedStyle(gd).display;\n",
       "        if (!display || display === 'none') {{\n",
       "            console.log([gd, 'removed!']);\n",
       "            Plotly.purge(gd);\n",
       "            observer.disconnect();\n",
       "        }}\n",
       "}});\n",
       "\n",
       "// Listen for the removal of the full notebook cells\n",
       "var notebookContainer = gd.closest('#notebook-container');\n",
       "if (notebookContainer) {{\n",
       "    x.observe(notebookContainer, {childList: true});\n",
       "}}\n",
       "\n",
       "// Listen for the clearing of the current output cell\n",
       "var outputEl = gd.closest('.output');\n",
       "if (outputEl) {{\n",
       "    x.observe(outputEl, {childList: true});\n",
       "}}\n",
       "\n",
       "                        })                };                });            </script>        </div>"
      ]
     },
     "metadata": {},
     "output_type": "display_data"
    }
   ],
   "source": [
    "air_pollutants=['NO2','PM2_5','O3','SO2']\n",
    "fig = px.scatter(df, x='PM2_5', y=\"asthma_hosp\", trendline=\"ols\",color=\"year\")\n",
    "fig.show()"
   ]
  },
  {
   "cell_type": "markdown",
   "id": "8ad53b21",
   "metadata": {},
   "source": [
    "### More PM2.5 values do not strictly mean more asthma hospitalizations\n",
    "\n",
    "Contradicting the results found in Corinne A Keet et al. study [[3]](https://pubmed.ncbi.nlm.nih.gov/29243937/) it cannot be affirmed that long-term PM2-5 exposure is associated with asthma among children in medicaid.\n",
    "\n",
    "It can be observed how the levels of PM2.5 have significantly decrease by year. But even this reduction, the number of hospitalizations still remains quite high during the years. \n",
    "\n",
    "However, it is true that the results are highly affected by the huge amount of 0 or low values in terms of asthma hospitalizations. This might be due to the fact that these hospitals might not be able to handle asthma patients, and they are redirected to another hospital. Let's dig more into this phenomenon to find which may be the cause of this effect, by first filtering for just those hospitals that recieve more tha 50 average asthma visits per year."
   ]
  },
  {
   "cell_type": "code",
   "execution_count": 121,
   "id": "ce0b9f32",
   "metadata": {},
   "outputs": [
    {
     "data": {
      "application/vnd.plotly.v1+json": {
       "config": {
        "plotlyServerURL": "https://plotly.com"
       },
       "data": [
        {
         "hovertemplate": "PM2_5=%{x}<br>asthma_hosp=%{y}<br>year=%{marker.color}<extra></extra>",
         "legendgroup": "",
         "marker": {
          "color": [
           2009,
           2009,
           2009,
           2009,
           2009,
           2009,
           2009,
           2009,
           2009,
           2009,
           2009,
           2009,
           2009,
           2009,
           2009,
           2009,
           2009,
           2009,
           2009,
           2009,
           2009,
           2009,
           2009,
           2009,
           2009,
           2009,
           2009,
           2009,
           2009,
           2009,
           2010,
           2010,
           2010,
           2010,
           2010,
           2010,
           2010,
           2010,
           2010,
           2010,
           2010,
           2010,
           2010,
           2010,
           2010,
           2010,
           2010,
           2010,
           2010,
           2010,
           2010,
           2010,
           2010,
           2010,
           2010,
           2010,
           2011,
           2011,
           2011,
           2011,
           2011,
           2011,
           2011,
           2011,
           2011,
           2011,
           2011,
           2011,
           2011,
           2011,
           2011,
           2011,
           2011,
           2011,
           2011,
           2011,
           2011,
           2011,
           2011,
           2011,
           2012,
           2012,
           2012,
           2012,
           2012,
           2012,
           2012,
           2012,
           2012,
           2012,
           2012,
           2012,
           2012,
           2012,
           2012,
           2012,
           2012,
           2012,
           2012,
           2012,
           2012,
           2012,
           2012,
           2012,
           2012,
           2013,
           2013,
           2013,
           2013,
           2013,
           2013,
           2013,
           2013,
           2013,
           2013,
           2013,
           2013,
           2013,
           2013,
           2013,
           2013,
           2013,
           2013,
           2013,
           2013,
           2013,
           2013,
           2013,
           2014,
           2014,
           2014,
           2014,
           2014,
           2014,
           2014,
           2014,
           2014,
           2014,
           2014,
           2014,
           2014,
           2014,
           2014,
           2014,
           2014,
           2014,
           2014,
           2014,
           2014,
           2014,
           2014,
           2015,
           2015,
           2015,
           2015,
           2015,
           2015,
           2015,
           2015,
           2015,
           2015,
           2015,
           2015,
           2015,
           2015,
           2015,
           2015,
           2015,
           2015,
           2015,
           2015,
           2015,
           2016,
           2016,
           2016,
           2016,
           2016,
           2016,
           2016,
           2016,
           2016,
           2016,
           2016,
           2016,
           2016,
           2016,
           2016,
           2016,
           2016,
           2016,
           2016,
           2016,
           2016,
           2016,
           2016
          ],
          "coloraxis": "coloraxis",
          "symbol": "circle"
         },
         "mode": "markers",
         "name": "",
         "orientation": "v",
         "showlegend": false,
         "type": "scatter",
         "x": [
          10.68,
          11.1,
          10.59,
          11.76,
          11.8,
          11.45,
          11.93,
          11.5,
          10.75,
          10.6,
          10.27,
          10.47,
          9.85,
          9.55,
          11.36,
          11.55,
          11.6,
          11.55,
          12.18,
          12.08,
          11.4,
          10.99,
          10.16,
          10.44,
          9.96,
          9.95,
          9.35,
          8.75,
          10.22,
          9.63,
          9.65,
          10.26,
          9.68,
          10.99,
          11,
          10.48,
          10.49,
          9.93,
          9.79,
          9.8,
          9.12,
          8.89,
          10.33,
          10.71,
          10.62,
          10.41,
          11.01,
          10.05,
          9.89,
          9.34,
          9.52,
          9.19,
          9.25,
          8.65,
          7.99,
          8.64,
          10.48,
          10.77,
          10.5,
          11.45,
          11.44,
          11.24,
          11.14,
          10.29,
          10.09,
          10.07,
          10.15,
          9.55,
          10.88,
          11.12,
          11.13,
          11.12,
          11.02,
          10.6,
          10.05,
          9.95,
          9.43,
          9.57,
          9.17,
          8.44,
          9.11,
          9.47,
          9.23,
          10.22,
          10.26,
          10.02,
          9.9,
          9.13,
          8.94,
          8.89,
          8.98,
          8.37,
          8.3,
          9.7,
          9.89,
          9.99,
          9.98,
          10.35,
          9.46,
          8.83,
          8.32,
          8.48,
          8.04,
          7.36,
          8.55,
          8.73,
          9.06,
          8.74,
          9.75,
          9.83,
          9.57,
          9.46,
          8.75,
          8.69,
          8.6,
          8.18,
          9.36,
          9.48,
          9.7,
          9.73,
          9.13,
          8.39,
          8.51,
          8.14,
          8.27,
          7.85,
          7.61,
          7.9,
          9,
          9.19,
          8.97,
          9.82,
          9.87,
          9.75,
          9.99,
          9.16,
          9.04,
          8.97,
          8.48,
          8.37,
          9.84,
          9.49,
          9.73,
          9.84,
          9.47,
          8.85,
          8.39,
          8.46,
          8.02,
          7.69,
          8.34,
          9.13,
          9.14,
          8.93,
          9.67,
          9.6,
          9.62,
          9.89,
          8.87,
          8.72,
          8.59,
          8.1,
          9.61,
          9.36,
          9.36,
          9.51,
          9.17,
          8.51,
          8.05,
          8.2,
          7.9,
          7.16,
          7.55,
          7.57,
          7.5,
          8.18,
          8.16,
          8.26,
          8.86,
          7.94,
          7.8,
          7.64,
          7.12,
          6.75,
          8.67,
          7.81,
          7.95,
          8.19,
          8.14,
          7.22,
          7.56,
          7.02,
          6.99,
          6.51,
          7.3
         ],
         "xaxis": "x",
         "y": [
          282,
          693,
          588,
          631,
          657,
          504,
          88,
          176,
          645,
          376,
          97,
          446,
          195,
          101,
          503,
          168,
          298,
          254,
          87,
          80,
          79,
          225,
          84,
          157,
          269,
          431,
          224,
          185,
          80,
          78,
          285,
          563,
          491,
          552,
          505,
          435,
          135,
          559,
          348,
          361,
          160,
          90,
          402,
          176,
          246,
          240,
          77,
          86,
          197,
          89,
          160,
          226,
          343,
          173,
          177,
          85,
          303,
          528,
          552,
          529,
          533,
          457,
          176,
          582,
          313,
          103,
          361,
          176,
          387,
          164,
          259,
          212,
          80,
          187,
          83,
          149,
          170,
          267,
          157,
          132,
          320,
          559,
          609,
          524,
          571,
          501,
          171,
          591,
          329,
          90,
          387,
          191,
          85,
          387,
          160,
          299,
          203,
          77,
          234,
          146,
          218,
          257,
          176,
          86,
          79,
          319,
          589,
          515,
          559,
          627,
          453,
          130,
          581,
          346,
          409,
          191,
          292,
          161,
          276,
          222,
          202,
          82,
          87,
          181,
          288,
          158,
          86,
          77,
          324,
          648,
          521,
          567,
          624,
          478,
          121,
          607,
          366,
          460,
          159,
          82,
          292,
          217,
          233,
          239,
          249,
          109,
          209,
          276,
          162,
          100,
          80,
          268,
          548,
          523,
          463,
          574,
          431,
          114,
          506,
          349,
          413,
          179,
          219,
          175,
          234,
          197,
          177,
          95,
          183,
          261,
          135,
          86,
          265,
          545,
          441,
          427,
          565,
          361,
          112,
          473,
          361,
          364,
          172,
          84,
          240,
          210,
          284,
          151,
          199,
          79,
          97,
          146,
          239,
          115,
          83
         ],
         "yaxis": "y"
        },
        {
         "hovertemplate": "<b>OLS trendline</b><br>asthma_hosp = 34.4498 * PM2_5 + -36.6639<br>R<sup>2</sup>=0.056036<br><br>PM2_5=%{x}<br>asthma_hosp=%{y} <b>(trend)</b><extra></extra>",
         "legendgroup": "",
         "marker": {
          "symbol": "circle"
         },
         "mode": "lines",
         "name": "",
         "showlegend": false,
         "type": "scatter",
         "x": [
          6.51,
          6.75,
          6.99,
          7.02,
          7.12,
          7.16,
          7.22,
          7.3,
          7.36,
          7.5,
          7.55,
          7.56,
          7.57,
          7.61,
          7.64,
          7.69,
          7.8,
          7.81,
          7.85,
          7.9,
          7.9,
          7.94,
          7.95,
          7.99,
          8.02,
          8.04,
          8.05,
          8.1,
          8.14,
          8.14,
          8.16,
          8.18,
          8.18,
          8.19,
          8.2,
          8.26,
          8.27,
          8.3,
          8.32,
          8.34,
          8.37,
          8.37,
          8.39,
          8.39,
          8.44,
          8.46,
          8.48,
          8.48,
          8.51,
          8.51,
          8.55,
          8.59,
          8.6,
          8.64,
          8.65,
          8.67,
          8.69,
          8.72,
          8.73,
          8.74,
          8.75,
          8.75,
          8.83,
          8.85,
          8.86,
          8.87,
          8.89,
          8.89,
          8.93,
          8.94,
          8.97,
          8.97,
          8.98,
          9,
          9.04,
          9.06,
          9.11,
          9.12,
          9.13,
          9.13,
          9.13,
          9.14,
          9.16,
          9.17,
          9.17,
          9.19,
          9.19,
          9.23,
          9.25,
          9.34,
          9.35,
          9.36,
          9.36,
          9.36,
          9.43,
          9.46,
          9.46,
          9.47,
          9.47,
          9.48,
          9.49,
          9.51,
          9.52,
          9.55,
          9.55,
          9.57,
          9.57,
          9.6,
          9.61,
          9.62,
          9.63,
          9.65,
          9.67,
          9.68,
          9.7,
          9.7,
          9.73,
          9.73,
          9.75,
          9.75,
          9.79,
          9.8,
          9.82,
          9.83,
          9.84,
          9.84,
          9.85,
          9.87,
          9.89,
          9.89,
          9.89,
          9.9,
          9.93,
          9.95,
          9.95,
          9.96,
          9.98,
          9.99,
          9.99,
          10.02,
          10.05,
          10.05,
          10.07,
          10.09,
          10.15,
          10.16,
          10.22,
          10.22,
          10.26,
          10.26,
          10.27,
          10.29,
          10.33,
          10.35,
          10.41,
          10.44,
          10.47,
          10.48,
          10.48,
          10.49,
          10.5,
          10.59,
          10.6,
          10.6,
          10.62,
          10.68,
          10.71,
          10.75,
          10.77,
          10.88,
          10.99,
          10.99,
          11,
          11.01,
          11.02,
          11.1,
          11.12,
          11.12,
          11.13,
          11.14,
          11.24,
          11.36,
          11.4,
          11.44,
          11.45,
          11.45,
          11.5,
          11.55,
          11.55,
          11.6,
          11.76,
          11.8,
          11.93,
          12.08,
          12.18
         ],
         "xaxis": "x",
         "y": [
          187.60414345543927,
          195.87209037485565,
          204.14003729427202,
          205.17353065919906,
          208.61850854228925,
          209.9964996955253,
          212.06348642537938,
          214.81946873185154,
          216.88645546170562,
          221.70942449803186,
          223.43191343957693,
          223.77641122788594,
          224.12090901619496,
          225.498900169431,
          226.53239353435805,
          228.25488247590317,
          232.04435814730232,
          232.38885593561133,
          233.76684708884738,
          235.4893360303925,
          235.4893360303925,
          236.86732718362856,
          237.21182497193757,
          238.58981612517363,
          239.62330949010067,
          240.3123050667187,
          240.65680285502776,
          242.37929179657277,
          243.75728294980888,
          243.75728294980888,
          244.4462785264269,
          245.13527410304494,
          245.13527410304494,
          245.47977189135395,
          245.8242696796629,
          247.89125640951704,
          248.23575419782605,
          249.26924756275315,
          249.95824313937118,
          250.64723871598915,
          251.6807320809162,
          251.6807320809162,
          252.36972765753427,
          252.36972765753427,
          254.09221659907934,
          254.78121217569742,
          255.4702077523154,
          255.4702077523154,
          256.50370111724243,
          256.50370111724243,
          257.88169227047854,
          259.25968342371453,
          259.60418121202355,
          260.98217236525966,
          261.32667015356867,
          262.0156657301867,
          262.7046613068047,
          263.7381546717318,
          264.0826524600408,
          264.4271502483498,
          264.7716480366588,
          264.7716480366588,
          267.52763034313097,
          268.216625919749,
          268.56112370805795,
          268.90562149636696,
          269.59461707298505,
          269.59461707298505,
          270.9726082262211,
          271.3171060145301,
          272.3505993794572,
          272.3505993794572,
          272.6950971677662,
          273.3840927443842,
          274.76208389762024,
          275.4510794742383,
          277.1735684157834,
          277.51806620409235,
          277.8625639924014,
          277.8625639924014,
          277.8625639924014,
          278.20706178071043,
          278.89605735732846,
          279.2405551456375,
          279.2405551456375,
          279.9295507222555,
          279.9295507222555,
          281.3075418754916,
          281.9965374521096,
          285.09701754689075,
          285.44151533519977,
          285.7860131235088,
          285.7860131235088,
          285.7860131235088,
          288.1974976416719,
          289.23099100659897,
          289.23099100659897,
          289.575488794908,
          289.575488794908,
          289.919986583217,
          290.264484371526,
          290.953479948144,
          291.297977736453,
          292.3314711013801,
          292.3314711013801,
          293.0204666779981,
          293.0204666779981,
          294.05396004292515,
          294.39845783123417,
          294.7429556195432,
          295.08745340785225,
          295.7764489844702,
          296.46544456108825,
          296.80994234939726,
          297.4989379260153,
          297.4989379260153,
          298.5324312909424,
          298.5324312909424,
          299.2214268675604,
          299.2214268675604,
          300.5994180207964,
          300.9439158091055,
          301.6329113857235,
          301.9774091740325,
          302.32190696234153,
          302.32190696234153,
          302.66640475065054,
          303.35540032726857,
          304.04439590388665,
          304.04439590388665,
          304.04439590388665,
          304.38889369219567,
          305.42238705712265,
          306.1113826337407,
          306.1113826337407,
          306.45588042204974,
          307.14487599866777,
          307.4893737869768,
          307.4893737869768,
          308.5228671519038,
          309.55636051683086,
          309.55636051683086,
          310.2453560934489,
          310.9343516700669,
          313.00133839992105,
          313.34583618823007,
          315.41282291808415,
          315.41282291808415,
          316.7908140713202,
          316.7908140713202,
          317.1353118596292,
          317.82430743624724,
          319.2022985894833,
          319.8912941661013,
          321.95828089595545,
          322.99177426088244,
          324.02526762580953,
          324.36976541411855,
          324.36976541411855,
          324.71426320242756,
          325.0587609907366,
          328.1592410855177,
          328.5037388738267,
          328.5037388738267,
          329.19273445044473,
          331.25972118029887,
          332.2932145452259,
          333.67120569846196,
          334.36020127508,
          338.1496769464792,
          341.93915261787834,
          341.93915261787834,
          342.28365040618735,
          342.62814819449636,
          342.9726459828054,
          345.7286282892775,
          346.4176238658955,
          346.4176238658955,
          346.7621216542046,
          347.1066194425136,
          350.5515973256037,
          354.6855707853119,
          356.063561938548,
          357.44155309178404,
          357.78605088009306,
          357.78605088009306,
          359.5085398216381,
          361.23102876318325,
          361.23102876318325,
          362.9535177047283,
          368.4654823176725,
          369.84347347090863,
          374.3219447189258,
          379.48941154356106,
          382.9343894266512
         ],
         "yaxis": "y"
        }
       ],
       "layout": {
        "coloraxis": {
         "colorbar": {
          "title": {
           "text": "year"
          }
         },
         "colorscale": [
          [
           0,
           "#0d0887"
          ],
          [
           0.1111111111111111,
           "#46039f"
          ],
          [
           0.2222222222222222,
           "#7201a8"
          ],
          [
           0.3333333333333333,
           "#9c179e"
          ],
          [
           0.4444444444444444,
           "#bd3786"
          ],
          [
           0.5555555555555556,
           "#d8576b"
          ],
          [
           0.6666666666666666,
           "#ed7953"
          ],
          [
           0.7777777777777778,
           "#fb9f3a"
          ],
          [
           0.8888888888888888,
           "#fdca26"
          ],
          [
           1,
           "#f0f921"
          ]
         ]
        },
        "legend": {
         "tracegroupgap": 0
        },
        "margin": {
         "t": 60
        },
        "template": {
         "data": {
          "bar": [
           {
            "error_x": {
             "color": "#2a3f5f"
            },
            "error_y": {
             "color": "#2a3f5f"
            },
            "marker": {
             "line": {
              "color": "#E5ECF6",
              "width": 0.5
             },
             "pattern": {
              "fillmode": "overlay",
              "size": 10,
              "solidity": 0.2
             }
            },
            "type": "bar"
           }
          ],
          "barpolar": [
           {
            "marker": {
             "line": {
              "color": "#E5ECF6",
              "width": 0.5
             },
             "pattern": {
              "fillmode": "overlay",
              "size": 10,
              "solidity": 0.2
             }
            },
            "type": "barpolar"
           }
          ],
          "carpet": [
           {
            "aaxis": {
             "endlinecolor": "#2a3f5f",
             "gridcolor": "white",
             "linecolor": "white",
             "minorgridcolor": "white",
             "startlinecolor": "#2a3f5f"
            },
            "baxis": {
             "endlinecolor": "#2a3f5f",
             "gridcolor": "white",
             "linecolor": "white",
             "minorgridcolor": "white",
             "startlinecolor": "#2a3f5f"
            },
            "type": "carpet"
           }
          ],
          "choropleth": [
           {
            "colorbar": {
             "outlinewidth": 0,
             "ticks": ""
            },
            "type": "choropleth"
           }
          ],
          "contour": [
           {
            "colorbar": {
             "outlinewidth": 0,
             "ticks": ""
            },
            "colorscale": [
             [
              0,
              "#0d0887"
             ],
             [
              0.1111111111111111,
              "#46039f"
             ],
             [
              0.2222222222222222,
              "#7201a8"
             ],
             [
              0.3333333333333333,
              "#9c179e"
             ],
             [
              0.4444444444444444,
              "#bd3786"
             ],
             [
              0.5555555555555556,
              "#d8576b"
             ],
             [
              0.6666666666666666,
              "#ed7953"
             ],
             [
              0.7777777777777778,
              "#fb9f3a"
             ],
             [
              0.8888888888888888,
              "#fdca26"
             ],
             [
              1,
              "#f0f921"
             ]
            ],
            "type": "contour"
           }
          ],
          "contourcarpet": [
           {
            "colorbar": {
             "outlinewidth": 0,
             "ticks": ""
            },
            "type": "contourcarpet"
           }
          ],
          "heatmap": [
           {
            "colorbar": {
             "outlinewidth": 0,
             "ticks": ""
            },
            "colorscale": [
             [
              0,
              "#0d0887"
             ],
             [
              0.1111111111111111,
              "#46039f"
             ],
             [
              0.2222222222222222,
              "#7201a8"
             ],
             [
              0.3333333333333333,
              "#9c179e"
             ],
             [
              0.4444444444444444,
              "#bd3786"
             ],
             [
              0.5555555555555556,
              "#d8576b"
             ],
             [
              0.6666666666666666,
              "#ed7953"
             ],
             [
              0.7777777777777778,
              "#fb9f3a"
             ],
             [
              0.8888888888888888,
              "#fdca26"
             ],
             [
              1,
              "#f0f921"
             ]
            ],
            "type": "heatmap"
           }
          ],
          "heatmapgl": [
           {
            "colorbar": {
             "outlinewidth": 0,
             "ticks": ""
            },
            "colorscale": [
             [
              0,
              "#0d0887"
             ],
             [
              0.1111111111111111,
              "#46039f"
             ],
             [
              0.2222222222222222,
              "#7201a8"
             ],
             [
              0.3333333333333333,
              "#9c179e"
             ],
             [
              0.4444444444444444,
              "#bd3786"
             ],
             [
              0.5555555555555556,
              "#d8576b"
             ],
             [
              0.6666666666666666,
              "#ed7953"
             ],
             [
              0.7777777777777778,
              "#fb9f3a"
             ],
             [
              0.8888888888888888,
              "#fdca26"
             ],
             [
              1,
              "#f0f921"
             ]
            ],
            "type": "heatmapgl"
           }
          ],
          "histogram": [
           {
            "marker": {
             "pattern": {
              "fillmode": "overlay",
              "size": 10,
              "solidity": 0.2
             }
            },
            "type": "histogram"
           }
          ],
          "histogram2d": [
           {
            "colorbar": {
             "outlinewidth": 0,
             "ticks": ""
            },
            "colorscale": [
             [
              0,
              "#0d0887"
             ],
             [
              0.1111111111111111,
              "#46039f"
             ],
             [
              0.2222222222222222,
              "#7201a8"
             ],
             [
              0.3333333333333333,
              "#9c179e"
             ],
             [
              0.4444444444444444,
              "#bd3786"
             ],
             [
              0.5555555555555556,
              "#d8576b"
             ],
             [
              0.6666666666666666,
              "#ed7953"
             ],
             [
              0.7777777777777778,
              "#fb9f3a"
             ],
             [
              0.8888888888888888,
              "#fdca26"
             ],
             [
              1,
              "#f0f921"
             ]
            ],
            "type": "histogram2d"
           }
          ],
          "histogram2dcontour": [
           {
            "colorbar": {
             "outlinewidth": 0,
             "ticks": ""
            },
            "colorscale": [
             [
              0,
              "#0d0887"
             ],
             [
              0.1111111111111111,
              "#46039f"
             ],
             [
              0.2222222222222222,
              "#7201a8"
             ],
             [
              0.3333333333333333,
              "#9c179e"
             ],
             [
              0.4444444444444444,
              "#bd3786"
             ],
             [
              0.5555555555555556,
              "#d8576b"
             ],
             [
              0.6666666666666666,
              "#ed7953"
             ],
             [
              0.7777777777777778,
              "#fb9f3a"
             ],
             [
              0.8888888888888888,
              "#fdca26"
             ],
             [
              1,
              "#f0f921"
             ]
            ],
            "type": "histogram2dcontour"
           }
          ],
          "mesh3d": [
           {
            "colorbar": {
             "outlinewidth": 0,
             "ticks": ""
            },
            "type": "mesh3d"
           }
          ],
          "parcoords": [
           {
            "line": {
             "colorbar": {
              "outlinewidth": 0,
              "ticks": ""
             }
            },
            "type": "parcoords"
           }
          ],
          "pie": [
           {
            "automargin": true,
            "type": "pie"
           }
          ],
          "scatter": [
           {
            "marker": {
             "colorbar": {
              "outlinewidth": 0,
              "ticks": ""
             }
            },
            "type": "scatter"
           }
          ],
          "scatter3d": [
           {
            "line": {
             "colorbar": {
              "outlinewidth": 0,
              "ticks": ""
             }
            },
            "marker": {
             "colorbar": {
              "outlinewidth": 0,
              "ticks": ""
             }
            },
            "type": "scatter3d"
           }
          ],
          "scattercarpet": [
           {
            "marker": {
             "colorbar": {
              "outlinewidth": 0,
              "ticks": ""
             }
            },
            "type": "scattercarpet"
           }
          ],
          "scattergeo": [
           {
            "marker": {
             "colorbar": {
              "outlinewidth": 0,
              "ticks": ""
             }
            },
            "type": "scattergeo"
           }
          ],
          "scattergl": [
           {
            "marker": {
             "colorbar": {
              "outlinewidth": 0,
              "ticks": ""
             }
            },
            "type": "scattergl"
           }
          ],
          "scattermapbox": [
           {
            "marker": {
             "colorbar": {
              "outlinewidth": 0,
              "ticks": ""
             }
            },
            "type": "scattermapbox"
           }
          ],
          "scatterpolar": [
           {
            "marker": {
             "colorbar": {
              "outlinewidth": 0,
              "ticks": ""
             }
            },
            "type": "scatterpolar"
           }
          ],
          "scatterpolargl": [
           {
            "marker": {
             "colorbar": {
              "outlinewidth": 0,
              "ticks": ""
             }
            },
            "type": "scatterpolargl"
           }
          ],
          "scatterternary": [
           {
            "marker": {
             "colorbar": {
              "outlinewidth": 0,
              "ticks": ""
             }
            },
            "type": "scatterternary"
           }
          ],
          "surface": [
           {
            "colorbar": {
             "outlinewidth": 0,
             "ticks": ""
            },
            "colorscale": [
             [
              0,
              "#0d0887"
             ],
             [
              0.1111111111111111,
              "#46039f"
             ],
             [
              0.2222222222222222,
              "#7201a8"
             ],
             [
              0.3333333333333333,
              "#9c179e"
             ],
             [
              0.4444444444444444,
              "#bd3786"
             ],
             [
              0.5555555555555556,
              "#d8576b"
             ],
             [
              0.6666666666666666,
              "#ed7953"
             ],
             [
              0.7777777777777778,
              "#fb9f3a"
             ],
             [
              0.8888888888888888,
              "#fdca26"
             ],
             [
              1,
              "#f0f921"
             ]
            ],
            "type": "surface"
           }
          ],
          "table": [
           {
            "cells": {
             "fill": {
              "color": "#EBF0F8"
             },
             "line": {
              "color": "white"
             }
            },
            "header": {
             "fill": {
              "color": "#C8D4E3"
             },
             "line": {
              "color": "white"
             }
            },
            "type": "table"
           }
          ]
         },
         "layout": {
          "annotationdefaults": {
           "arrowcolor": "#2a3f5f",
           "arrowhead": 0,
           "arrowwidth": 1
          },
          "autotypenumbers": "strict",
          "coloraxis": {
           "colorbar": {
            "outlinewidth": 0,
            "ticks": ""
           }
          },
          "colorscale": {
           "diverging": [
            [
             0,
             "#8e0152"
            ],
            [
             0.1,
             "#c51b7d"
            ],
            [
             0.2,
             "#de77ae"
            ],
            [
             0.3,
             "#f1b6da"
            ],
            [
             0.4,
             "#fde0ef"
            ],
            [
             0.5,
             "#f7f7f7"
            ],
            [
             0.6,
             "#e6f5d0"
            ],
            [
             0.7,
             "#b8e186"
            ],
            [
             0.8,
             "#7fbc41"
            ],
            [
             0.9,
             "#4d9221"
            ],
            [
             1,
             "#276419"
            ]
           ],
           "sequential": [
            [
             0,
             "#0d0887"
            ],
            [
             0.1111111111111111,
             "#46039f"
            ],
            [
             0.2222222222222222,
             "#7201a8"
            ],
            [
             0.3333333333333333,
             "#9c179e"
            ],
            [
             0.4444444444444444,
             "#bd3786"
            ],
            [
             0.5555555555555556,
             "#d8576b"
            ],
            [
             0.6666666666666666,
             "#ed7953"
            ],
            [
             0.7777777777777778,
             "#fb9f3a"
            ],
            [
             0.8888888888888888,
             "#fdca26"
            ],
            [
             1,
             "#f0f921"
            ]
           ],
           "sequentialminus": [
            [
             0,
             "#0d0887"
            ],
            [
             0.1111111111111111,
             "#46039f"
            ],
            [
             0.2222222222222222,
             "#7201a8"
            ],
            [
             0.3333333333333333,
             "#9c179e"
            ],
            [
             0.4444444444444444,
             "#bd3786"
            ],
            [
             0.5555555555555556,
             "#d8576b"
            ],
            [
             0.6666666666666666,
             "#ed7953"
            ],
            [
             0.7777777777777778,
             "#fb9f3a"
            ],
            [
             0.8888888888888888,
             "#fdca26"
            ],
            [
             1,
             "#f0f921"
            ]
           ]
          },
          "colorway": [
           "#636efa",
           "#EF553B",
           "#00cc96",
           "#ab63fa",
           "#FFA15A",
           "#19d3f3",
           "#FF6692",
           "#B6E880",
           "#FF97FF",
           "#FECB52"
          ],
          "font": {
           "color": "#2a3f5f"
          },
          "geo": {
           "bgcolor": "white",
           "lakecolor": "white",
           "landcolor": "#E5ECF6",
           "showlakes": true,
           "showland": true,
           "subunitcolor": "white"
          },
          "hoverlabel": {
           "align": "left"
          },
          "hovermode": "closest",
          "mapbox": {
           "style": "light"
          },
          "paper_bgcolor": "white",
          "plot_bgcolor": "#E5ECF6",
          "polar": {
           "angularaxis": {
            "gridcolor": "white",
            "linecolor": "white",
            "ticks": ""
           },
           "bgcolor": "#E5ECF6",
           "radialaxis": {
            "gridcolor": "white",
            "linecolor": "white",
            "ticks": ""
           }
          },
          "scene": {
           "xaxis": {
            "backgroundcolor": "#E5ECF6",
            "gridcolor": "white",
            "gridwidth": 2,
            "linecolor": "white",
            "showbackground": true,
            "ticks": "",
            "zerolinecolor": "white"
           },
           "yaxis": {
            "backgroundcolor": "#E5ECF6",
            "gridcolor": "white",
            "gridwidth": 2,
            "linecolor": "white",
            "showbackground": true,
            "ticks": "",
            "zerolinecolor": "white"
           },
           "zaxis": {
            "backgroundcolor": "#E5ECF6",
            "gridcolor": "white",
            "gridwidth": 2,
            "linecolor": "white",
            "showbackground": true,
            "ticks": "",
            "zerolinecolor": "white"
           }
          },
          "shapedefaults": {
           "line": {
            "color": "#2a3f5f"
           }
          },
          "ternary": {
           "aaxis": {
            "gridcolor": "white",
            "linecolor": "white",
            "ticks": ""
           },
           "baxis": {
            "gridcolor": "white",
            "linecolor": "white",
            "ticks": ""
           },
           "bgcolor": "#E5ECF6",
           "caxis": {
            "gridcolor": "white",
            "linecolor": "white",
            "ticks": ""
           }
          },
          "title": {
           "x": 0.05
          },
          "xaxis": {
           "automargin": true,
           "gridcolor": "white",
           "linecolor": "white",
           "ticks": "",
           "title": {
            "standoff": 15
           },
           "zerolinecolor": "white",
           "zerolinewidth": 2
          },
          "yaxis": {
           "automargin": true,
           "gridcolor": "white",
           "linecolor": "white",
           "ticks": "",
           "title": {
            "standoff": 15
           },
           "zerolinecolor": "white",
           "zerolinewidth": 2
          }
         }
        },
        "xaxis": {
         "anchor": "y",
         "domain": [
          0,
          1
         ],
         "title": {
          "text": "PM2_5"
         }
        },
        "yaxis": {
         "anchor": "x",
         "domain": [
          0,
          1
         ],
         "title": {
          "text": "asthma_hosp"
         }
        }
       }
      },
      "text/html": [
       "<div>                            <div id=\"1498c28b-341d-4530-8774-d6d158ef0522\" class=\"plotly-graph-div\" style=\"height:525px; width:100%;\"></div>            <script type=\"text/javascript\">                require([\"plotly\"], function(Plotly) {                    window.PLOTLYENV=window.PLOTLYENV || {};                                    if (document.getElementById(\"1498c28b-341d-4530-8774-d6d158ef0522\")) {                    Plotly.newPlot(                        \"1498c28b-341d-4530-8774-d6d158ef0522\",                        [{\"hovertemplate\":\"PM2_5=%{x}<br>asthma_hosp=%{y}<br>year=%{marker.color}<extra></extra>\",\"legendgroup\":\"\",\"marker\":{\"color\":[2009,2009,2009,2009,2009,2009,2009,2009,2009,2009,2009,2009,2009,2009,2009,2009,2009,2009,2009,2009,2009,2009,2009,2009,2009,2009,2009,2009,2009,2009,2010,2010,2010,2010,2010,2010,2010,2010,2010,2010,2010,2010,2010,2010,2010,2010,2010,2010,2010,2010,2010,2010,2010,2010,2010,2010,2011,2011,2011,2011,2011,2011,2011,2011,2011,2011,2011,2011,2011,2011,2011,2011,2011,2011,2011,2011,2011,2011,2011,2011,2012,2012,2012,2012,2012,2012,2012,2012,2012,2012,2012,2012,2012,2012,2012,2012,2012,2012,2012,2012,2012,2012,2012,2012,2012,2013,2013,2013,2013,2013,2013,2013,2013,2013,2013,2013,2013,2013,2013,2013,2013,2013,2013,2013,2013,2013,2013,2013,2014,2014,2014,2014,2014,2014,2014,2014,2014,2014,2014,2014,2014,2014,2014,2014,2014,2014,2014,2014,2014,2014,2014,2015,2015,2015,2015,2015,2015,2015,2015,2015,2015,2015,2015,2015,2015,2015,2015,2015,2015,2015,2015,2015,2016,2016,2016,2016,2016,2016,2016,2016,2016,2016,2016,2016,2016,2016,2016,2016,2016,2016,2016,2016,2016,2016,2016],\"coloraxis\":\"coloraxis\",\"symbol\":\"circle\"},\"mode\":\"markers\",\"name\":\"\",\"orientation\":\"v\",\"showlegend\":false,\"x\":[10.68,11.1,10.59,11.76,11.8,11.45,11.93,11.5,10.75,10.6,10.27,10.47,9.85,9.55,11.36,11.55,11.6,11.55,12.18,12.08,11.4,10.99,10.16,10.44,9.96,9.95,9.35,8.75,10.22,9.63,9.65,10.26,9.68,10.99,11.0,10.48,10.49,9.93,9.79,9.8,9.12,8.89,10.33,10.71,10.62,10.41,11.01,10.05,9.89,9.34,9.52,9.19,9.25,8.65,7.99,8.64,10.48,10.77,10.5,11.45,11.44,11.24,11.14,10.29,10.09,10.07,10.15,9.55,10.88,11.12,11.13,11.12,11.02,10.6,10.05,9.95,9.43,9.57,9.17,8.44,9.11,9.47,9.23,10.22,10.26,10.02,9.9,9.13,8.94,8.89,8.98,8.37,8.3,9.7,9.89,9.99,9.98,10.35,9.46,8.83,8.32,8.48,8.04,7.36,8.55,8.73,9.06,8.74,9.75,9.83,9.57,9.46,8.75,8.69,8.6,8.18,9.36,9.48,9.7,9.73,9.13,8.39,8.51,8.14,8.27,7.85,7.61,7.9,9.0,9.19,8.97,9.82,9.87,9.75,9.99,9.16,9.04,8.97,8.48,8.37,9.84,9.49,9.73,9.84,9.47,8.85,8.39,8.46,8.02,7.69,8.34,9.13,9.14,8.93,9.67,9.6,9.62,9.89,8.87,8.72,8.59,8.1,9.61,9.36,9.36,9.51,9.17,8.51,8.05,8.2,7.9,7.16,7.55,7.57,7.5,8.18,8.16,8.26,8.86,7.94,7.8,7.64,7.12,6.75,8.67,7.81,7.95,8.19,8.14,7.22,7.56,7.02,6.99,6.51,7.3],\"xaxis\":\"x\",\"y\":[282,693,588,631,657,504,88,176,645,376,97,446,195,101,503,168,298,254,87,80,79,225,84,157,269,431,224,185,80,78,285,563,491,552,505,435,135,559,348,361,160,90,402,176,246,240,77,86,197,89,160,226,343,173,177,85,303,528,552,529,533,457,176,582,313,103,361,176,387,164,259,212,80,187,83,149,170,267,157,132,320,559,609,524,571,501,171,591,329,90,387,191,85,387,160,299,203,77,234,146,218,257,176,86,79,319,589,515,559,627,453,130,581,346,409,191,292,161,276,222,202,82,87,181,288,158,86,77,324,648,521,567,624,478,121,607,366,460,159,82,292,217,233,239,249,109,209,276,162,100,80,268,548,523,463,574,431,114,506,349,413,179,219,175,234,197,177,95,183,261,135,86,265,545,441,427,565,361,112,473,361,364,172,84,240,210,284,151,199,79,97,146,239,115,83],\"yaxis\":\"y\",\"type\":\"scatter\"},{\"hovertemplate\":\"<b>OLS trendline</b><br>asthma_hosp = 34.4498 * PM2_5 + -36.6639<br>R<sup>2</sup>=0.056036<br><br>PM2_5=%{x}<br>asthma_hosp=%{y} <b>(trend)</b><extra></extra>\",\"legendgroup\":\"\",\"marker\":{\"symbol\":\"circle\"},\"mode\":\"lines\",\"name\":\"\",\"showlegend\":false,\"x\":[6.51,6.75,6.99,7.02,7.12,7.16,7.22,7.3,7.36,7.5,7.55,7.56,7.57,7.61,7.64,7.69,7.8,7.81,7.85,7.9,7.9,7.94,7.95,7.99,8.02,8.04,8.05,8.1,8.14,8.14,8.16,8.18,8.18,8.19,8.2,8.26,8.27,8.3,8.32,8.34,8.37,8.37,8.39,8.39,8.44,8.46,8.48,8.48,8.51,8.51,8.55,8.59,8.6,8.64,8.65,8.67,8.69,8.72,8.73,8.74,8.75,8.75,8.83,8.85,8.86,8.87,8.89,8.89,8.93,8.94,8.97,8.97,8.98,9.0,9.04,9.06,9.11,9.12,9.13,9.13,9.13,9.14,9.16,9.17,9.17,9.19,9.19,9.23,9.25,9.34,9.35,9.36,9.36,9.36,9.43,9.46,9.46,9.47,9.47,9.48,9.49,9.51,9.52,9.55,9.55,9.57,9.57,9.6,9.61,9.62,9.63,9.65,9.67,9.68,9.7,9.7,9.73,9.73,9.75,9.75,9.79,9.8,9.82,9.83,9.84,9.84,9.85,9.87,9.89,9.89,9.89,9.9,9.93,9.95,9.95,9.96,9.98,9.99,9.99,10.02,10.05,10.05,10.07,10.09,10.15,10.16,10.22,10.22,10.26,10.26,10.27,10.29,10.33,10.35,10.41,10.44,10.47,10.48,10.48,10.49,10.5,10.59,10.6,10.6,10.62,10.68,10.71,10.75,10.77,10.88,10.99,10.99,11.0,11.01,11.02,11.1,11.12,11.12,11.13,11.14,11.24,11.36,11.4,11.44,11.45,11.45,11.5,11.55,11.55,11.6,11.76,11.8,11.93,12.08,12.18],\"xaxis\":\"x\",\"y\":[187.60414345543927,195.87209037485565,204.14003729427202,205.17353065919906,208.61850854228925,209.9964996955253,212.06348642537938,214.81946873185154,216.88645546170562,221.70942449803186,223.43191343957693,223.77641122788594,224.12090901619496,225.498900169431,226.53239353435805,228.25488247590317,232.04435814730232,232.38885593561133,233.76684708884738,235.4893360303925,235.4893360303925,236.86732718362856,237.21182497193757,238.58981612517363,239.62330949010067,240.3123050667187,240.65680285502776,242.37929179657277,243.75728294980888,243.75728294980888,244.4462785264269,245.13527410304494,245.13527410304494,245.47977189135395,245.8242696796629,247.89125640951704,248.23575419782605,249.26924756275315,249.95824313937118,250.64723871598915,251.6807320809162,251.6807320809162,252.36972765753427,252.36972765753427,254.09221659907934,254.78121217569742,255.4702077523154,255.4702077523154,256.50370111724243,256.50370111724243,257.88169227047854,259.25968342371453,259.60418121202355,260.98217236525966,261.32667015356867,262.0156657301867,262.7046613068047,263.7381546717318,264.0826524600408,264.4271502483498,264.7716480366588,264.7716480366588,267.52763034313097,268.216625919749,268.56112370805795,268.90562149636696,269.59461707298505,269.59461707298505,270.9726082262211,271.3171060145301,272.3505993794572,272.3505993794572,272.6950971677662,273.3840927443842,274.76208389762024,275.4510794742383,277.1735684157834,277.51806620409235,277.8625639924014,277.8625639924014,277.8625639924014,278.20706178071043,278.89605735732846,279.2405551456375,279.2405551456375,279.9295507222555,279.9295507222555,281.3075418754916,281.9965374521096,285.09701754689075,285.44151533519977,285.7860131235088,285.7860131235088,285.7860131235088,288.1974976416719,289.23099100659897,289.23099100659897,289.575488794908,289.575488794908,289.919986583217,290.264484371526,290.953479948144,291.297977736453,292.3314711013801,292.3314711013801,293.0204666779981,293.0204666779981,294.05396004292515,294.39845783123417,294.7429556195432,295.08745340785225,295.7764489844702,296.46544456108825,296.80994234939726,297.4989379260153,297.4989379260153,298.5324312909424,298.5324312909424,299.2214268675604,299.2214268675604,300.5994180207964,300.9439158091055,301.6329113857235,301.9774091740325,302.32190696234153,302.32190696234153,302.66640475065054,303.35540032726857,304.04439590388665,304.04439590388665,304.04439590388665,304.38889369219567,305.42238705712265,306.1113826337407,306.1113826337407,306.45588042204974,307.14487599866777,307.4893737869768,307.4893737869768,308.5228671519038,309.55636051683086,309.55636051683086,310.2453560934489,310.9343516700669,313.00133839992105,313.34583618823007,315.41282291808415,315.41282291808415,316.7908140713202,316.7908140713202,317.1353118596292,317.82430743624724,319.2022985894833,319.8912941661013,321.95828089595545,322.99177426088244,324.02526762580953,324.36976541411855,324.36976541411855,324.71426320242756,325.0587609907366,328.1592410855177,328.5037388738267,328.5037388738267,329.19273445044473,331.25972118029887,332.2932145452259,333.67120569846196,334.36020127508,338.1496769464792,341.93915261787834,341.93915261787834,342.28365040618735,342.62814819449636,342.9726459828054,345.7286282892775,346.4176238658955,346.4176238658955,346.7621216542046,347.1066194425136,350.5515973256037,354.6855707853119,356.063561938548,357.44155309178404,357.78605088009306,357.78605088009306,359.5085398216381,361.23102876318325,361.23102876318325,362.9535177047283,368.4654823176725,369.84347347090863,374.3219447189258,379.48941154356106,382.9343894266512],\"yaxis\":\"y\",\"type\":\"scatter\"}],                        {\"template\":{\"data\":{\"bar\":[{\"error_x\":{\"color\":\"#2a3f5f\"},\"error_y\":{\"color\":\"#2a3f5f\"},\"marker\":{\"line\":{\"color\":\"#E5ECF6\",\"width\":0.5},\"pattern\":{\"fillmode\":\"overlay\",\"size\":10,\"solidity\":0.2}},\"type\":\"bar\"}],\"barpolar\":[{\"marker\":{\"line\":{\"color\":\"#E5ECF6\",\"width\":0.5},\"pattern\":{\"fillmode\":\"overlay\",\"size\":10,\"solidity\":0.2}},\"type\":\"barpolar\"}],\"carpet\":[{\"aaxis\":{\"endlinecolor\":\"#2a3f5f\",\"gridcolor\":\"white\",\"linecolor\":\"white\",\"minorgridcolor\":\"white\",\"startlinecolor\":\"#2a3f5f\"},\"baxis\":{\"endlinecolor\":\"#2a3f5f\",\"gridcolor\":\"white\",\"linecolor\":\"white\",\"minorgridcolor\":\"white\",\"startlinecolor\":\"#2a3f5f\"},\"type\":\"carpet\"}],\"choropleth\":[{\"colorbar\":{\"outlinewidth\":0,\"ticks\":\"\"},\"type\":\"choropleth\"}],\"contour\":[{\"colorbar\":{\"outlinewidth\":0,\"ticks\":\"\"},\"colorscale\":[[0.0,\"#0d0887\"],[0.1111111111111111,\"#46039f\"],[0.2222222222222222,\"#7201a8\"],[0.3333333333333333,\"#9c179e\"],[0.4444444444444444,\"#bd3786\"],[0.5555555555555556,\"#d8576b\"],[0.6666666666666666,\"#ed7953\"],[0.7777777777777778,\"#fb9f3a\"],[0.8888888888888888,\"#fdca26\"],[1.0,\"#f0f921\"]],\"type\":\"contour\"}],\"contourcarpet\":[{\"colorbar\":{\"outlinewidth\":0,\"ticks\":\"\"},\"type\":\"contourcarpet\"}],\"heatmap\":[{\"colorbar\":{\"outlinewidth\":0,\"ticks\":\"\"},\"colorscale\":[[0.0,\"#0d0887\"],[0.1111111111111111,\"#46039f\"],[0.2222222222222222,\"#7201a8\"],[0.3333333333333333,\"#9c179e\"],[0.4444444444444444,\"#bd3786\"],[0.5555555555555556,\"#d8576b\"],[0.6666666666666666,\"#ed7953\"],[0.7777777777777778,\"#fb9f3a\"],[0.8888888888888888,\"#fdca26\"],[1.0,\"#f0f921\"]],\"type\":\"heatmap\"}],\"heatmapgl\":[{\"colorbar\":{\"outlinewidth\":0,\"ticks\":\"\"},\"colorscale\":[[0.0,\"#0d0887\"],[0.1111111111111111,\"#46039f\"],[0.2222222222222222,\"#7201a8\"],[0.3333333333333333,\"#9c179e\"],[0.4444444444444444,\"#bd3786\"],[0.5555555555555556,\"#d8576b\"],[0.6666666666666666,\"#ed7953\"],[0.7777777777777778,\"#fb9f3a\"],[0.8888888888888888,\"#fdca26\"],[1.0,\"#f0f921\"]],\"type\":\"heatmapgl\"}],\"histogram\":[{\"marker\":{\"pattern\":{\"fillmode\":\"overlay\",\"size\":10,\"solidity\":0.2}},\"type\":\"histogram\"}],\"histogram2d\":[{\"colorbar\":{\"outlinewidth\":0,\"ticks\":\"\"},\"colorscale\":[[0.0,\"#0d0887\"],[0.1111111111111111,\"#46039f\"],[0.2222222222222222,\"#7201a8\"],[0.3333333333333333,\"#9c179e\"],[0.4444444444444444,\"#bd3786\"],[0.5555555555555556,\"#d8576b\"],[0.6666666666666666,\"#ed7953\"],[0.7777777777777778,\"#fb9f3a\"],[0.8888888888888888,\"#fdca26\"],[1.0,\"#f0f921\"]],\"type\":\"histogram2d\"}],\"histogram2dcontour\":[{\"colorbar\":{\"outlinewidth\":0,\"ticks\":\"\"},\"colorscale\":[[0.0,\"#0d0887\"],[0.1111111111111111,\"#46039f\"],[0.2222222222222222,\"#7201a8\"],[0.3333333333333333,\"#9c179e\"],[0.4444444444444444,\"#bd3786\"],[0.5555555555555556,\"#d8576b\"],[0.6666666666666666,\"#ed7953\"],[0.7777777777777778,\"#fb9f3a\"],[0.8888888888888888,\"#fdca26\"],[1.0,\"#f0f921\"]],\"type\":\"histogram2dcontour\"}],\"mesh3d\":[{\"colorbar\":{\"outlinewidth\":0,\"ticks\":\"\"},\"type\":\"mesh3d\"}],\"parcoords\":[{\"line\":{\"colorbar\":{\"outlinewidth\":0,\"ticks\":\"\"}},\"type\":\"parcoords\"}],\"pie\":[{\"automargin\":true,\"type\":\"pie\"}],\"scatter\":[{\"marker\":{\"colorbar\":{\"outlinewidth\":0,\"ticks\":\"\"}},\"type\":\"scatter\"}],\"scatter3d\":[{\"line\":{\"colorbar\":{\"outlinewidth\":0,\"ticks\":\"\"}},\"marker\":{\"colorbar\":{\"outlinewidth\":0,\"ticks\":\"\"}},\"type\":\"scatter3d\"}],\"scattercarpet\":[{\"marker\":{\"colorbar\":{\"outlinewidth\":0,\"ticks\":\"\"}},\"type\":\"scattercarpet\"}],\"scattergeo\":[{\"marker\":{\"colorbar\":{\"outlinewidth\":0,\"ticks\":\"\"}},\"type\":\"scattergeo\"}],\"scattergl\":[{\"marker\":{\"colorbar\":{\"outlinewidth\":0,\"ticks\":\"\"}},\"type\":\"scattergl\"}],\"scattermapbox\":[{\"marker\":{\"colorbar\":{\"outlinewidth\":0,\"ticks\":\"\"}},\"type\":\"scattermapbox\"}],\"scatterpolar\":[{\"marker\":{\"colorbar\":{\"outlinewidth\":0,\"ticks\":\"\"}},\"type\":\"scatterpolar\"}],\"scatterpolargl\":[{\"marker\":{\"colorbar\":{\"outlinewidth\":0,\"ticks\":\"\"}},\"type\":\"scatterpolargl\"}],\"scatterternary\":[{\"marker\":{\"colorbar\":{\"outlinewidth\":0,\"ticks\":\"\"}},\"type\":\"scatterternary\"}],\"surface\":[{\"colorbar\":{\"outlinewidth\":0,\"ticks\":\"\"},\"colorscale\":[[0.0,\"#0d0887\"],[0.1111111111111111,\"#46039f\"],[0.2222222222222222,\"#7201a8\"],[0.3333333333333333,\"#9c179e\"],[0.4444444444444444,\"#bd3786\"],[0.5555555555555556,\"#d8576b\"],[0.6666666666666666,\"#ed7953\"],[0.7777777777777778,\"#fb9f3a\"],[0.8888888888888888,\"#fdca26\"],[1.0,\"#f0f921\"]],\"type\":\"surface\"}],\"table\":[{\"cells\":{\"fill\":{\"color\":\"#EBF0F8\"},\"line\":{\"color\":\"white\"}},\"header\":{\"fill\":{\"color\":\"#C8D4E3\"},\"line\":{\"color\":\"white\"}},\"type\":\"table\"}]},\"layout\":{\"annotationdefaults\":{\"arrowcolor\":\"#2a3f5f\",\"arrowhead\":0,\"arrowwidth\":1},\"autotypenumbers\":\"strict\",\"coloraxis\":{\"colorbar\":{\"outlinewidth\":0,\"ticks\":\"\"}},\"colorscale\":{\"diverging\":[[0,\"#8e0152\"],[0.1,\"#c51b7d\"],[0.2,\"#de77ae\"],[0.3,\"#f1b6da\"],[0.4,\"#fde0ef\"],[0.5,\"#f7f7f7\"],[0.6,\"#e6f5d0\"],[0.7,\"#b8e186\"],[0.8,\"#7fbc41\"],[0.9,\"#4d9221\"],[1,\"#276419\"]],\"sequential\":[[0.0,\"#0d0887\"],[0.1111111111111111,\"#46039f\"],[0.2222222222222222,\"#7201a8\"],[0.3333333333333333,\"#9c179e\"],[0.4444444444444444,\"#bd3786\"],[0.5555555555555556,\"#d8576b\"],[0.6666666666666666,\"#ed7953\"],[0.7777777777777778,\"#fb9f3a\"],[0.8888888888888888,\"#fdca26\"],[1.0,\"#f0f921\"]],\"sequentialminus\":[[0.0,\"#0d0887\"],[0.1111111111111111,\"#46039f\"],[0.2222222222222222,\"#7201a8\"],[0.3333333333333333,\"#9c179e\"],[0.4444444444444444,\"#bd3786\"],[0.5555555555555556,\"#d8576b\"],[0.6666666666666666,\"#ed7953\"],[0.7777777777777778,\"#fb9f3a\"],[0.8888888888888888,\"#fdca26\"],[1.0,\"#f0f921\"]]},\"colorway\":[\"#636efa\",\"#EF553B\",\"#00cc96\",\"#ab63fa\",\"#FFA15A\",\"#19d3f3\",\"#FF6692\",\"#B6E880\",\"#FF97FF\",\"#FECB52\"],\"font\":{\"color\":\"#2a3f5f\"},\"geo\":{\"bgcolor\":\"white\",\"lakecolor\":\"white\",\"landcolor\":\"#E5ECF6\",\"showlakes\":true,\"showland\":true,\"subunitcolor\":\"white\"},\"hoverlabel\":{\"align\":\"left\"},\"hovermode\":\"closest\",\"mapbox\":{\"style\":\"light\"},\"paper_bgcolor\":\"white\",\"plot_bgcolor\":\"#E5ECF6\",\"polar\":{\"angularaxis\":{\"gridcolor\":\"white\",\"linecolor\":\"white\",\"ticks\":\"\"},\"bgcolor\":\"#E5ECF6\",\"radialaxis\":{\"gridcolor\":\"white\",\"linecolor\":\"white\",\"ticks\":\"\"}},\"scene\":{\"xaxis\":{\"backgroundcolor\":\"#E5ECF6\",\"gridcolor\":\"white\",\"gridwidth\":2,\"linecolor\":\"white\",\"showbackground\":true,\"ticks\":\"\",\"zerolinecolor\":\"white\"},\"yaxis\":{\"backgroundcolor\":\"#E5ECF6\",\"gridcolor\":\"white\",\"gridwidth\":2,\"linecolor\":\"white\",\"showbackground\":true,\"ticks\":\"\",\"zerolinecolor\":\"white\"},\"zaxis\":{\"backgroundcolor\":\"#E5ECF6\",\"gridcolor\":\"white\",\"gridwidth\":2,\"linecolor\":\"white\",\"showbackground\":true,\"ticks\":\"\",\"zerolinecolor\":\"white\"}},\"shapedefaults\":{\"line\":{\"color\":\"#2a3f5f\"}},\"ternary\":{\"aaxis\":{\"gridcolor\":\"white\",\"linecolor\":\"white\",\"ticks\":\"\"},\"baxis\":{\"gridcolor\":\"white\",\"linecolor\":\"white\",\"ticks\":\"\"},\"bgcolor\":\"#E5ECF6\",\"caxis\":{\"gridcolor\":\"white\",\"linecolor\":\"white\",\"ticks\":\"\"}},\"title\":{\"x\":0.05},\"xaxis\":{\"automargin\":true,\"gridcolor\":\"white\",\"linecolor\":\"white\",\"ticks\":\"\",\"title\":{\"standoff\":15},\"zerolinecolor\":\"white\",\"zerolinewidth\":2},\"yaxis\":{\"automargin\":true,\"gridcolor\":\"white\",\"linecolor\":\"white\",\"ticks\":\"\",\"title\":{\"standoff\":15},\"zerolinecolor\":\"white\",\"zerolinewidth\":2}}},\"xaxis\":{\"anchor\":\"y\",\"domain\":[0.0,1.0],\"title\":{\"text\":\"PM2_5\"}},\"yaxis\":{\"anchor\":\"x\",\"domain\":[0.0,1.0],\"title\":{\"text\":\"asthma_hosp\"}},\"coloraxis\":{\"colorbar\":{\"title\":{\"text\":\"year\"}},\"colorscale\":[[0.0,\"#0d0887\"],[0.1111111111111111,\"#46039f\"],[0.2222222222222222,\"#7201a8\"],[0.3333333333333333,\"#9c179e\"],[0.4444444444444444,\"#bd3786\"],[0.5555555555555556,\"#d8576b\"],[0.6666666666666666,\"#ed7953\"],[0.7777777777777778,\"#fb9f3a\"],[0.8888888888888888,\"#fdca26\"],[1.0,\"#f0f921\"]]},\"legend\":{\"tracegroupgap\":0},\"margin\":{\"t\":60}},                        {\"responsive\": true}                    ).then(function(){\n",
       "                            \n",
       "var gd = document.getElementById('1498c28b-341d-4530-8774-d6d158ef0522');\n",
       "var x = new MutationObserver(function (mutations, observer) {{\n",
       "        var display = window.getComputedStyle(gd).display;\n",
       "        if (!display || display === 'none') {{\n",
       "            console.log([gd, 'removed!']);\n",
       "            Plotly.purge(gd);\n",
       "            observer.disconnect();\n",
       "        }}\n",
       "}});\n",
       "\n",
       "// Listen for the removal of the full notebook cells\n",
       "var notebookContainer = gd.closest('#notebook-container');\n",
       "if (notebookContainer) {{\n",
       "    x.observe(notebookContainer, {childList: true});\n",
       "}}\n",
       "\n",
       "// Listen for the clearing of the current output cell\n",
       "var outputEl = gd.closest('.output');\n",
       "if (outputEl) {{\n",
       "    x.observe(outputEl, {childList: true});\n",
       "}}\n",
       "\n",
       "                        })                };                });            </script>        </div>"
      ]
     },
     "metadata": {},
     "output_type": "display_data"
    }
   ],
   "source": [
    "df_non_0=df[df.asthma_hosp>75]\n",
    "fig = px.scatter(df_non_0, x='PM2_5', y=\"asthma_hosp\", trendline=\"ols\",color=\"year\")\n",
    "fig.show()"
   ]
  },
  {
   "cell_type": "markdown",
   "id": "4453c3e9",
   "metadata": {},
   "source": [
    "Let's add the broroughs of each district as an extra column in the dataframe in order to facet the plots."
   ]
  },
  {
   "cell_type": "code",
   "execution_count": 126,
   "id": "aa3b8f4e",
   "metadata": {},
   "outputs": [
    {
     "data": {
      "text/html": [
       "<div>\n",
       "<style scoped>\n",
       "    .dataframe tbody tr th:only-of-type {\n",
       "        vertical-align: middle;\n",
       "    }\n",
       "\n",
       "    .dataframe tbody tr th {\n",
       "        vertical-align: top;\n",
       "    }\n",
       "\n",
       "    .dataframe thead th {\n",
       "        text-align: right;\n",
       "    }\n",
       "</style>\n",
       "<table border=\"1\" class=\"dataframe\">\n",
       "  <thead>\n",
       "    <tr style=\"text-align: right;\">\n",
       "      <th></th>\n",
       "      <th>year</th>\n",
       "      <th>district</th>\n",
       "      <th>NO2</th>\n",
       "      <th>PM2_5</th>\n",
       "      <th>O3</th>\n",
       "      <th>SO2</th>\n",
       "      <th>asthma_hosp</th>\n",
       "      <th>Boroughs</th>\n",
       "    </tr>\n",
       "  </thead>\n",
       "  <tbody>\n",
       "    <tr>\n",
       "      <th>0</th>\n",
       "      <td>2009</td>\n",
       "      <td>101</td>\n",
       "      <td>23.20</td>\n",
       "      <td>11.03</td>\n",
       "      <td>23.67</td>\n",
       "      <td>6.62</td>\n",
       "      <td>61</td>\n",
       "      <td>Bronx</td>\n",
       "    </tr>\n",
       "    <tr>\n",
       "      <th>1</th>\n",
       "      <td>2009</td>\n",
       "      <td>102</td>\n",
       "      <td>22.39</td>\n",
       "      <td>10.68</td>\n",
       "      <td>26.82</td>\n",
       "      <td>5.38</td>\n",
       "      <td>282</td>\n",
       "      <td>Bronx</td>\n",
       "    </tr>\n",
       "    <tr>\n",
       "      <th>2</th>\n",
       "      <td>2009</td>\n",
       "      <td>103</td>\n",
       "      <td>24.82</td>\n",
       "      <td>11.10</td>\n",
       "      <td>24.47</td>\n",
       "      <td>9.48</td>\n",
       "      <td>693</td>\n",
       "      <td>Bronx</td>\n",
       "    </tr>\n",
       "    <tr>\n",
       "      <th>3</th>\n",
       "      <td>2009</td>\n",
       "      <td>104</td>\n",
       "      <td>22.83</td>\n",
       "      <td>10.59</td>\n",
       "      <td>26.72</td>\n",
       "      <td>5.15</td>\n",
       "      <td>588</td>\n",
       "      <td>Bronx</td>\n",
       "    </tr>\n",
       "    <tr>\n",
       "      <th>4</th>\n",
       "      <td>2009</td>\n",
       "      <td>105</td>\n",
       "      <td>28.07</td>\n",
       "      <td>11.76</td>\n",
       "      <td>23.08</td>\n",
       "      <td>9.36</td>\n",
       "      <td>631</td>\n",
       "      <td>Bronx</td>\n",
       "    </tr>\n",
       "  </tbody>\n",
       "</table>\n",
       "</div>"
      ],
      "text/plain": [
       "   year  district    NO2  PM2_5     O3   SO2  asthma_hosp Boroughs\n",
       "0  2009       101  23.20  11.03  23.67  6.62           61    Bronx\n",
       "1  2009       102  22.39  10.68  26.82  5.38          282    Bronx\n",
       "2  2009       103  24.82  11.10  24.47  9.48          693    Bronx\n",
       "3  2009       104  22.83  10.59  26.72  5.15          588    Bronx\n",
       "4  2009       105  28.07  11.76  23.08  9.36          631    Bronx"
      ]
     },
     "execution_count": 126,
     "metadata": {},
     "output_type": "execute_result"
    }
   ],
   "source": [
    "nyc_ares=['Bronx','Brooklyn','Manhattan','Queens','Staten Island']\n",
    "df['Boroughs']=[nyc_ares[int(str(el)[0])-1] for el in df.district]\n",
    "df.head()"
   ]
  },
  {
   "cell_type": "code",
   "execution_count": 170,
   "id": "22f77510",
   "metadata": {},
   "outputs": [
    {
     "data": {
      "application/vnd.plotly.v1+json": {
       "config": {
        "plotlyServerURL": "https://plotly.com"
       },
       "data": [
        {
         "hovertemplate": "year=%{x}<br>asthma_hosp=%{y}<extra></extra>",
         "legendgroup": "",
         "marker": {
          "color": "#636efa",
          "symbol": "circle"
         },
         "mode": "markers",
         "name": "",
         "orientation": "v",
         "showlegend": false,
         "type": "scatter",
         "x": [
          2009,
          2009,
          2009,
          2009,
          2009,
          2009,
          2009,
          2009,
          2009,
          2009,
          2009,
          2009,
          2009,
          2009,
          2009,
          2009,
          2009,
          2009,
          2009,
          2009,
          2009,
          2009,
          2009,
          2009,
          2009,
          2009,
          2009,
          2009,
          2009,
          2009,
          2009,
          2009,
          2009,
          2009,
          2009,
          2009,
          2009,
          2009,
          2009,
          2009,
          2009,
          2009,
          2010,
          2010,
          2010,
          2010,
          2010,
          2010,
          2010,
          2010,
          2010,
          2010,
          2010,
          2010,
          2010,
          2010,
          2010,
          2010,
          2010,
          2010,
          2010,
          2010,
          2010,
          2010,
          2010,
          2010,
          2010,
          2010,
          2010,
          2010,
          2010,
          2010,
          2010,
          2010,
          2010,
          2010,
          2010,
          2010,
          2010,
          2010,
          2010,
          2010,
          2010,
          2010,
          2011,
          2011,
          2011,
          2011,
          2011,
          2011,
          2011,
          2011,
          2011,
          2011,
          2011,
          2011,
          2011,
          2011,
          2011,
          2011,
          2011,
          2011,
          2011,
          2011,
          2011,
          2011,
          2011,
          2011,
          2011,
          2011,
          2011,
          2011,
          2011,
          2011,
          2011,
          2011,
          2011,
          2011,
          2011,
          2011,
          2011,
          2011,
          2011,
          2011,
          2011,
          2011,
          2012,
          2012,
          2012,
          2012,
          2012,
          2012,
          2012,
          2012,
          2012,
          2012,
          2012,
          2012,
          2012,
          2012,
          2012,
          2012,
          2012,
          2012,
          2012,
          2012,
          2012,
          2012,
          2012,
          2012,
          2012,
          2012,
          2012,
          2012,
          2012,
          2012,
          2012,
          2012,
          2012,
          2012,
          2012,
          2012,
          2012,
          2012,
          2012,
          2012,
          2012,
          2012,
          2013,
          2013,
          2013,
          2013,
          2013,
          2013,
          2013,
          2013,
          2013,
          2013,
          2013,
          2013,
          2013,
          2013,
          2013,
          2013,
          2013,
          2013,
          2013,
          2013,
          2013,
          2013,
          2013,
          2013,
          2013,
          2013,
          2013,
          2013,
          2013,
          2013,
          2013,
          2013,
          2013,
          2013,
          2013,
          2013,
          2013,
          2013,
          2013,
          2013,
          2013,
          2013,
          2014,
          2014,
          2014,
          2014,
          2014,
          2014,
          2014,
          2014,
          2014,
          2014,
          2014,
          2014,
          2014,
          2014,
          2014,
          2014,
          2014,
          2014,
          2014,
          2014,
          2014,
          2014,
          2014,
          2014,
          2014,
          2014,
          2014,
          2014,
          2014,
          2014,
          2014,
          2014,
          2014,
          2014,
          2014,
          2014,
          2014,
          2014,
          2014,
          2014,
          2014,
          2014,
          2015,
          2015,
          2015,
          2015,
          2015,
          2015,
          2015,
          2015,
          2015,
          2015,
          2015,
          2015,
          2015,
          2015,
          2015,
          2015,
          2015,
          2015,
          2015,
          2015,
          2015,
          2015,
          2015,
          2015,
          2015,
          2015,
          2015,
          2015,
          2015,
          2015,
          2015,
          2015,
          2015,
          2015,
          2015,
          2015,
          2015,
          2015,
          2015,
          2015,
          2015,
          2015,
          2016,
          2016,
          2016,
          2016,
          2016,
          2016,
          2016,
          2016,
          2016,
          2016,
          2016,
          2016,
          2016,
          2016,
          2016,
          2016,
          2016,
          2016,
          2016,
          2016,
          2016,
          2016,
          2016,
          2016,
          2016,
          2016,
          2016,
          2016,
          2016,
          2016,
          2016,
          2016,
          2016,
          2016,
          2016,
          2016,
          2016,
          2016,
          2016,
          2016,
          2016,
          2016
         ],
         "xaxis": "x",
         "y": [
          61,
          282,
          693,
          588,
          631,
          657,
          504,
          88,
          176,
          645,
          376,
          62,
          97,
          446,
          195,
          34,
          101,
          503,
          168,
          298,
          254,
          87,
          49,
          27,
          17,
          8,
          80,
          10,
          79,
          225,
          84,
          34,
          157,
          50,
          269,
          431,
          224,
          185,
          80,
          78,
          35,
          47,
          74,
          285,
          563,
          491,
          552,
          505,
          435,
          48,
          135,
          559,
          348,
          56,
          64,
          361,
          160,
          20,
          90,
          402,
          176,
          246,
          240,
          77,
          48,
          32,
          20,
          0,
          59,
          8,
          86,
          197,
          89,
          23,
          160,
          46,
          226,
          343,
          173,
          177,
          56,
          85,
          12,
          43,
          65,
          303,
          528,
          552,
          529,
          533,
          457,
          43,
          176,
          582,
          313,
          64,
          103,
          361,
          176,
          42,
          67,
          387,
          164,
          259,
          212,
          75,
          51,
          25,
          9,
          0,
          67,
          9,
          80,
          187,
          83,
          7,
          149,
          48,
          170,
          267,
          157,
          132,
          65,
          63,
          18,
          36,
          67,
          320,
          559,
          609,
          524,
          571,
          501,
          34,
          171,
          591,
          329,
          57,
          90,
          387,
          191,
          44,
          85,
          387,
          160,
          299,
          203,
          57,
          53,
          30,
          13,
          7,
          77,
          0,
          70,
          234,
          68,
          31,
          146,
          37,
          218,
          257,
          176,
          86,
          79,
          65,
          14,
          38,
          72,
          319,
          589,
          515,
          559,
          627,
          453,
          26,
          130,
          581,
          346,
          63,
          70,
          409,
          191,
          30,
          74,
          292,
          161,
          276,
          222,
          56,
          41,
          21,
          16,
          6,
          67,
          4,
          66,
          202,
          82,
          12,
          87,
          49,
          181,
          288,
          158,
          86,
          64,
          77,
          12,
          39,
          71,
          324,
          648,
          521,
          567,
          624,
          478,
          46,
          121,
          607,
          366,
          54,
          73,
          460,
          159,
          17,
          82,
          292,
          217,
          233,
          239,
          64,
          40,
          32,
          14,
          4,
          57,
          2,
          67,
          249,
          75,
          21,
          109,
          34,
          209,
          276,
          162,
          100,
          67,
          80,
          11,
          40,
          60,
          268,
          548,
          523,
          463,
          574,
          431,
          27,
          114,
          506,
          349,
          37,
          75,
          413,
          179,
          27,
          58,
          219,
          175,
          234,
          197,
          51,
          42,
          21,
          5,
          1,
          67,
          4,
          47,
          177,
          70,
          19,
          95,
          57,
          183,
          261,
          135,
          86,
          68,
          59,
          12,
          38,
          53,
          265,
          545,
          441,
          427,
          565,
          361,
          26,
          112,
          473,
          361,
          33,
          72,
          364,
          172,
          30,
          84,
          240,
          210,
          284,
          151,
          43,
          39,
          11,
          8,
          4,
          73,
          7,
          55,
          199,
          79,
          7,
          97,
          51,
          146,
          239,
          115,
          73,
          83,
          72,
          12,
          36
         ],
         "yaxis": "y"
        },
        {
         "hovertemplate": "<b>OLS trendline</b><br>asthma_hosp = -5.71882 * year + 11692.6<br>R<sup>2</sup>=0.005275<br><br>year=%{x}<br>asthma_hosp=%{y} <b>(trend)</b><extra></extra>",
         "legendgroup": "",
         "marker": {
          "color": "#636efa",
          "symbol": "circle"
         },
         "mode": "lines",
         "name": "",
         "showlegend": false,
         "type": "scatter",
         "x": [
          2009,
          2009,
          2009,
          2009,
          2009,
          2009,
          2009,
          2009,
          2009,
          2009,
          2009,
          2009,
          2009,
          2009,
          2009,
          2009,
          2009,
          2009,
          2009,
          2009,
          2009,
          2009,
          2009,
          2009,
          2009,
          2009,
          2009,
          2009,
          2009,
          2009,
          2009,
          2009,
          2009,
          2009,
          2009,
          2009,
          2009,
          2009,
          2009,
          2009,
          2009,
          2009,
          2010,
          2010,
          2010,
          2010,
          2010,
          2010,
          2010,
          2010,
          2010,
          2010,
          2010,
          2010,
          2010,
          2010,
          2010,
          2010,
          2010,
          2010,
          2010,
          2010,
          2010,
          2010,
          2010,
          2010,
          2010,
          2010,
          2010,
          2010,
          2010,
          2010,
          2010,
          2010,
          2010,
          2010,
          2010,
          2010,
          2010,
          2010,
          2010,
          2010,
          2010,
          2010,
          2011,
          2011,
          2011,
          2011,
          2011,
          2011,
          2011,
          2011,
          2011,
          2011,
          2011,
          2011,
          2011,
          2011,
          2011,
          2011,
          2011,
          2011,
          2011,
          2011,
          2011,
          2011,
          2011,
          2011,
          2011,
          2011,
          2011,
          2011,
          2011,
          2011,
          2011,
          2011,
          2011,
          2011,
          2011,
          2011,
          2011,
          2011,
          2011,
          2011,
          2011,
          2011,
          2012,
          2012,
          2012,
          2012,
          2012,
          2012,
          2012,
          2012,
          2012,
          2012,
          2012,
          2012,
          2012,
          2012,
          2012,
          2012,
          2012,
          2012,
          2012,
          2012,
          2012,
          2012,
          2012,
          2012,
          2012,
          2012,
          2012,
          2012,
          2012,
          2012,
          2012,
          2012,
          2012,
          2012,
          2012,
          2012,
          2012,
          2012,
          2012,
          2012,
          2012,
          2012,
          2013,
          2013,
          2013,
          2013,
          2013,
          2013,
          2013,
          2013,
          2013,
          2013,
          2013,
          2013,
          2013,
          2013,
          2013,
          2013,
          2013,
          2013,
          2013,
          2013,
          2013,
          2013,
          2013,
          2013,
          2013,
          2013,
          2013,
          2013,
          2013,
          2013,
          2013,
          2013,
          2013,
          2013,
          2013,
          2013,
          2013,
          2013,
          2013,
          2013,
          2013,
          2013,
          2014,
          2014,
          2014,
          2014,
          2014,
          2014,
          2014,
          2014,
          2014,
          2014,
          2014,
          2014,
          2014,
          2014,
          2014,
          2014,
          2014,
          2014,
          2014,
          2014,
          2014,
          2014,
          2014,
          2014,
          2014,
          2014,
          2014,
          2014,
          2014,
          2014,
          2014,
          2014,
          2014,
          2014,
          2014,
          2014,
          2014,
          2014,
          2014,
          2014,
          2014,
          2014,
          2015,
          2015,
          2015,
          2015,
          2015,
          2015,
          2015,
          2015,
          2015,
          2015,
          2015,
          2015,
          2015,
          2015,
          2015,
          2015,
          2015,
          2015,
          2015,
          2015,
          2015,
          2015,
          2015,
          2015,
          2015,
          2015,
          2015,
          2015,
          2015,
          2015,
          2015,
          2015,
          2015,
          2015,
          2015,
          2015,
          2015,
          2015,
          2015,
          2015,
          2015,
          2015,
          2016,
          2016,
          2016,
          2016,
          2016,
          2016,
          2016,
          2016,
          2016,
          2016,
          2016,
          2016,
          2016,
          2016,
          2016,
          2016,
          2016,
          2016,
          2016,
          2016,
          2016,
          2016,
          2016,
          2016,
          2016,
          2016,
          2016,
          2016,
          2016,
          2016,
          2016,
          2016,
          2016,
          2016,
          2016,
          2016,
          2016,
          2016,
          2016,
          2016,
          2016,
          2016
         ],
         "xaxis": "x",
         "y": [
          203.5218253968378,
          203.5218253968378,
          203.5218253968378,
          203.5218253968378,
          203.5218253968378,
          203.5218253968378,
          203.5218253968378,
          203.5218253968378,
          203.5218253968378,
          203.5218253968378,
          203.5218253968378,
          203.5218253968378,
          203.5218253968378,
          203.5218253968378,
          203.5218253968378,
          203.5218253968378,
          203.5218253968378,
          203.5218253968378,
          203.5218253968378,
          203.5218253968378,
          203.5218253968378,
          203.5218253968378,
          203.5218253968378,
          203.5218253968378,
          203.5218253968378,
          203.5218253968378,
          203.5218253968378,
          203.5218253968378,
          203.5218253968378,
          203.5218253968378,
          203.5218253968378,
          203.5218253968378,
          203.5218253968378,
          203.5218253968378,
          203.5218253968378,
          203.5218253968378,
          203.5218253968378,
          203.5218253968378,
          203.5218253968378,
          203.5218253968378,
          203.5218253968378,
          203.5218253968378,
          197.80300453515702,
          197.80300453515702,
          197.80300453515702,
          197.80300453515702,
          197.80300453515702,
          197.80300453515702,
          197.80300453515702,
          197.80300453515702,
          197.80300453515702,
          197.80300453515702,
          197.80300453515702,
          197.80300453515702,
          197.80300453515702,
          197.80300453515702,
          197.80300453515702,
          197.80300453515702,
          197.80300453515702,
          197.80300453515702,
          197.80300453515702,
          197.80300453515702,
          197.80300453515702,
          197.80300453515702,
          197.80300453515702,
          197.80300453515702,
          197.80300453515702,
          197.80300453515702,
          197.80300453515702,
          197.80300453515702,
          197.80300453515702,
          197.80300453515702,
          197.80300453515702,
          197.80300453515702,
          197.80300453515702,
          197.80300453515702,
          197.80300453515702,
          197.80300453515702,
          197.80300453515702,
          197.80300453515702,
          197.80300453515702,
          197.80300453515702,
          197.80300453515702,
          197.80300453515702,
          192.08418367347804,
          192.08418367347804,
          192.08418367347804,
          192.08418367347804,
          192.08418367347804,
          192.08418367347804,
          192.08418367347804,
          192.08418367347804,
          192.08418367347804,
          192.08418367347804,
          192.08418367347804,
          192.08418367347804,
          192.08418367347804,
          192.08418367347804,
          192.08418367347804,
          192.08418367347804,
          192.08418367347804,
          192.08418367347804,
          192.08418367347804,
          192.08418367347804,
          192.08418367347804,
          192.08418367347804,
          192.08418367347804,
          192.08418367347804,
          192.08418367347804,
          192.08418367347804,
          192.08418367347804,
          192.08418367347804,
          192.08418367347804,
          192.08418367347804,
          192.08418367347804,
          192.08418367347804,
          192.08418367347804,
          192.08418367347804,
          192.08418367347804,
          192.08418367347804,
          192.08418367347804,
          192.08418367347804,
          192.08418367347804,
          192.08418367347804,
          192.08418367347804,
          192.08418367347804,
          186.36536281179906,
          186.36536281179906,
          186.36536281179906,
          186.36536281179906,
          186.36536281179906,
          186.36536281179906,
          186.36536281179906,
          186.36536281179906,
          186.36536281179906,
          186.36536281179906,
          186.36536281179906,
          186.36536281179906,
          186.36536281179906,
          186.36536281179906,
          186.36536281179906,
          186.36536281179906,
          186.36536281179906,
          186.36536281179906,
          186.36536281179906,
          186.36536281179906,
          186.36536281179906,
          186.36536281179906,
          186.36536281179906,
          186.36536281179906,
          186.36536281179906,
          186.36536281179906,
          186.36536281179906,
          186.36536281179906,
          186.36536281179906,
          186.36536281179906,
          186.36536281179906,
          186.36536281179906,
          186.36536281179906,
          186.36536281179906,
          186.36536281179906,
          186.36536281179906,
          186.36536281179906,
          186.36536281179906,
          186.36536281179906,
          186.36536281179906,
          186.36536281179906,
          186.36536281179906,
          180.64654195011826,
          180.64654195011826,
          180.64654195011826,
          180.64654195011826,
          180.64654195011826,
          180.64654195011826,
          180.64654195011826,
          180.64654195011826,
          180.64654195011826,
          180.64654195011826,
          180.64654195011826,
          180.64654195011826,
          180.64654195011826,
          180.64654195011826,
          180.64654195011826,
          180.64654195011826,
          180.64654195011826,
          180.64654195011826,
          180.64654195011826,
          180.64654195011826,
          180.64654195011826,
          180.64654195011826,
          180.64654195011826,
          180.64654195011826,
          180.64654195011826,
          180.64654195011826,
          180.64654195011826,
          180.64654195011826,
          180.64654195011826,
          180.64654195011826,
          180.64654195011826,
          180.64654195011826,
          180.64654195011826,
          180.64654195011826,
          180.64654195011826,
          180.64654195011826,
          180.64654195011826,
          180.64654195011826,
          180.64654195011826,
          180.64654195011826,
          180.64654195011826,
          180.64654195011826,
          174.92772108843928,
          174.92772108843928,
          174.92772108843928,
          174.92772108843928,
          174.92772108843928,
          174.92772108843928,
          174.92772108843928,
          174.92772108843928,
          174.92772108843928,
          174.92772108843928,
          174.92772108843928,
          174.92772108843928,
          174.92772108843928,
          174.92772108843928,
          174.92772108843928,
          174.92772108843928,
          174.92772108843928,
          174.92772108843928,
          174.92772108843928,
          174.92772108843928,
          174.92772108843928,
          174.92772108843928,
          174.92772108843928,
          174.92772108843928,
          174.92772108843928,
          174.92772108843928,
          174.92772108843928,
          174.92772108843928,
          174.92772108843928,
          174.92772108843928,
          174.92772108843928,
          174.92772108843928,
          174.92772108843928,
          174.92772108843928,
          174.92772108843928,
          174.92772108843928,
          174.92772108843928,
          174.92772108843928,
          174.92772108843928,
          174.92772108843928,
          174.92772108843928,
          174.92772108843928,
          169.2089002267603,
          169.2089002267603,
          169.2089002267603,
          169.2089002267603,
          169.2089002267603,
          169.2089002267603,
          169.2089002267603,
          169.2089002267603,
          169.2089002267603,
          169.2089002267603,
          169.2089002267603,
          169.2089002267603,
          169.2089002267603,
          169.2089002267603,
          169.2089002267603,
          169.2089002267603,
          169.2089002267603,
          169.2089002267603,
          169.2089002267603,
          169.2089002267603,
          169.2089002267603,
          169.2089002267603,
          169.2089002267603,
          169.2089002267603,
          169.2089002267603,
          169.2089002267603,
          169.2089002267603,
          169.2089002267603,
          169.2089002267603,
          169.2089002267603,
          169.2089002267603,
          169.2089002267603,
          169.2089002267603,
          169.2089002267603,
          169.2089002267603,
          169.2089002267603,
          169.2089002267603,
          169.2089002267603,
          169.2089002267603,
          169.2089002267603,
          169.2089002267603,
          169.2089002267603,
          163.49007936508133,
          163.49007936508133,
          163.49007936508133,
          163.49007936508133,
          163.49007936508133,
          163.49007936508133,
          163.49007936508133,
          163.49007936508133,
          163.49007936508133,
          163.49007936508133,
          163.49007936508133,
          163.49007936508133,
          163.49007936508133,
          163.49007936508133,
          163.49007936508133,
          163.49007936508133,
          163.49007936508133,
          163.49007936508133,
          163.49007936508133,
          163.49007936508133,
          163.49007936508133,
          163.49007936508133,
          163.49007936508133,
          163.49007936508133,
          163.49007936508133,
          163.49007936508133,
          163.49007936508133,
          163.49007936508133,
          163.49007936508133,
          163.49007936508133,
          163.49007936508133,
          163.49007936508133,
          163.49007936508133,
          163.49007936508133,
          163.49007936508133,
          163.49007936508133,
          163.49007936508133,
          163.49007936508133,
          163.49007936508133,
          163.49007936508133,
          163.49007936508133,
          163.49007936508133
         ],
         "yaxis": "y"
        }
       ],
       "layout": {
        "legend": {
         "tracegroupgap": 0
        },
        "margin": {
         "t": 60
        },
        "template": {
         "data": {
          "bar": [
           {
            "error_x": {
             "color": "#2a3f5f"
            },
            "error_y": {
             "color": "#2a3f5f"
            },
            "marker": {
             "line": {
              "color": "#E5ECF6",
              "width": 0.5
             },
             "pattern": {
              "fillmode": "overlay",
              "size": 10,
              "solidity": 0.2
             }
            },
            "type": "bar"
           }
          ],
          "barpolar": [
           {
            "marker": {
             "line": {
              "color": "#E5ECF6",
              "width": 0.5
             },
             "pattern": {
              "fillmode": "overlay",
              "size": 10,
              "solidity": 0.2
             }
            },
            "type": "barpolar"
           }
          ],
          "carpet": [
           {
            "aaxis": {
             "endlinecolor": "#2a3f5f",
             "gridcolor": "white",
             "linecolor": "white",
             "minorgridcolor": "white",
             "startlinecolor": "#2a3f5f"
            },
            "baxis": {
             "endlinecolor": "#2a3f5f",
             "gridcolor": "white",
             "linecolor": "white",
             "minorgridcolor": "white",
             "startlinecolor": "#2a3f5f"
            },
            "type": "carpet"
           }
          ],
          "choropleth": [
           {
            "colorbar": {
             "outlinewidth": 0,
             "ticks": ""
            },
            "type": "choropleth"
           }
          ],
          "contour": [
           {
            "colorbar": {
             "outlinewidth": 0,
             "ticks": ""
            },
            "colorscale": [
             [
              0,
              "#0d0887"
             ],
             [
              0.1111111111111111,
              "#46039f"
             ],
             [
              0.2222222222222222,
              "#7201a8"
             ],
             [
              0.3333333333333333,
              "#9c179e"
             ],
             [
              0.4444444444444444,
              "#bd3786"
             ],
             [
              0.5555555555555556,
              "#d8576b"
             ],
             [
              0.6666666666666666,
              "#ed7953"
             ],
             [
              0.7777777777777778,
              "#fb9f3a"
             ],
             [
              0.8888888888888888,
              "#fdca26"
             ],
             [
              1,
              "#f0f921"
             ]
            ],
            "type": "contour"
           }
          ],
          "contourcarpet": [
           {
            "colorbar": {
             "outlinewidth": 0,
             "ticks": ""
            },
            "type": "contourcarpet"
           }
          ],
          "heatmap": [
           {
            "colorbar": {
             "outlinewidth": 0,
             "ticks": ""
            },
            "colorscale": [
             [
              0,
              "#0d0887"
             ],
             [
              0.1111111111111111,
              "#46039f"
             ],
             [
              0.2222222222222222,
              "#7201a8"
             ],
             [
              0.3333333333333333,
              "#9c179e"
             ],
             [
              0.4444444444444444,
              "#bd3786"
             ],
             [
              0.5555555555555556,
              "#d8576b"
             ],
             [
              0.6666666666666666,
              "#ed7953"
             ],
             [
              0.7777777777777778,
              "#fb9f3a"
             ],
             [
              0.8888888888888888,
              "#fdca26"
             ],
             [
              1,
              "#f0f921"
             ]
            ],
            "type": "heatmap"
           }
          ],
          "heatmapgl": [
           {
            "colorbar": {
             "outlinewidth": 0,
             "ticks": ""
            },
            "colorscale": [
             [
              0,
              "#0d0887"
             ],
             [
              0.1111111111111111,
              "#46039f"
             ],
             [
              0.2222222222222222,
              "#7201a8"
             ],
             [
              0.3333333333333333,
              "#9c179e"
             ],
             [
              0.4444444444444444,
              "#bd3786"
             ],
             [
              0.5555555555555556,
              "#d8576b"
             ],
             [
              0.6666666666666666,
              "#ed7953"
             ],
             [
              0.7777777777777778,
              "#fb9f3a"
             ],
             [
              0.8888888888888888,
              "#fdca26"
             ],
             [
              1,
              "#f0f921"
             ]
            ],
            "type": "heatmapgl"
           }
          ],
          "histogram": [
           {
            "marker": {
             "pattern": {
              "fillmode": "overlay",
              "size": 10,
              "solidity": 0.2
             }
            },
            "type": "histogram"
           }
          ],
          "histogram2d": [
           {
            "colorbar": {
             "outlinewidth": 0,
             "ticks": ""
            },
            "colorscale": [
             [
              0,
              "#0d0887"
             ],
             [
              0.1111111111111111,
              "#46039f"
             ],
             [
              0.2222222222222222,
              "#7201a8"
             ],
             [
              0.3333333333333333,
              "#9c179e"
             ],
             [
              0.4444444444444444,
              "#bd3786"
             ],
             [
              0.5555555555555556,
              "#d8576b"
             ],
             [
              0.6666666666666666,
              "#ed7953"
             ],
             [
              0.7777777777777778,
              "#fb9f3a"
             ],
             [
              0.8888888888888888,
              "#fdca26"
             ],
             [
              1,
              "#f0f921"
             ]
            ],
            "type": "histogram2d"
           }
          ],
          "histogram2dcontour": [
           {
            "colorbar": {
             "outlinewidth": 0,
             "ticks": ""
            },
            "colorscale": [
             [
              0,
              "#0d0887"
             ],
             [
              0.1111111111111111,
              "#46039f"
             ],
             [
              0.2222222222222222,
              "#7201a8"
             ],
             [
              0.3333333333333333,
              "#9c179e"
             ],
             [
              0.4444444444444444,
              "#bd3786"
             ],
             [
              0.5555555555555556,
              "#d8576b"
             ],
             [
              0.6666666666666666,
              "#ed7953"
             ],
             [
              0.7777777777777778,
              "#fb9f3a"
             ],
             [
              0.8888888888888888,
              "#fdca26"
             ],
             [
              1,
              "#f0f921"
             ]
            ],
            "type": "histogram2dcontour"
           }
          ],
          "mesh3d": [
           {
            "colorbar": {
             "outlinewidth": 0,
             "ticks": ""
            },
            "type": "mesh3d"
           }
          ],
          "parcoords": [
           {
            "line": {
             "colorbar": {
              "outlinewidth": 0,
              "ticks": ""
             }
            },
            "type": "parcoords"
           }
          ],
          "pie": [
           {
            "automargin": true,
            "type": "pie"
           }
          ],
          "scatter": [
           {
            "marker": {
             "colorbar": {
              "outlinewidth": 0,
              "ticks": ""
             }
            },
            "type": "scatter"
           }
          ],
          "scatter3d": [
           {
            "line": {
             "colorbar": {
              "outlinewidth": 0,
              "ticks": ""
             }
            },
            "marker": {
             "colorbar": {
              "outlinewidth": 0,
              "ticks": ""
             }
            },
            "type": "scatter3d"
           }
          ],
          "scattercarpet": [
           {
            "marker": {
             "colorbar": {
              "outlinewidth": 0,
              "ticks": ""
             }
            },
            "type": "scattercarpet"
           }
          ],
          "scattergeo": [
           {
            "marker": {
             "colorbar": {
              "outlinewidth": 0,
              "ticks": ""
             }
            },
            "type": "scattergeo"
           }
          ],
          "scattergl": [
           {
            "marker": {
             "colorbar": {
              "outlinewidth": 0,
              "ticks": ""
             }
            },
            "type": "scattergl"
           }
          ],
          "scattermapbox": [
           {
            "marker": {
             "colorbar": {
              "outlinewidth": 0,
              "ticks": ""
             }
            },
            "type": "scattermapbox"
           }
          ],
          "scatterpolar": [
           {
            "marker": {
             "colorbar": {
              "outlinewidth": 0,
              "ticks": ""
             }
            },
            "type": "scatterpolar"
           }
          ],
          "scatterpolargl": [
           {
            "marker": {
             "colorbar": {
              "outlinewidth": 0,
              "ticks": ""
             }
            },
            "type": "scatterpolargl"
           }
          ],
          "scatterternary": [
           {
            "marker": {
             "colorbar": {
              "outlinewidth": 0,
              "ticks": ""
             }
            },
            "type": "scatterternary"
           }
          ],
          "surface": [
           {
            "colorbar": {
             "outlinewidth": 0,
             "ticks": ""
            },
            "colorscale": [
             [
              0,
              "#0d0887"
             ],
             [
              0.1111111111111111,
              "#46039f"
             ],
             [
              0.2222222222222222,
              "#7201a8"
             ],
             [
              0.3333333333333333,
              "#9c179e"
             ],
             [
              0.4444444444444444,
              "#bd3786"
             ],
             [
              0.5555555555555556,
              "#d8576b"
             ],
             [
              0.6666666666666666,
              "#ed7953"
             ],
             [
              0.7777777777777778,
              "#fb9f3a"
             ],
             [
              0.8888888888888888,
              "#fdca26"
             ],
             [
              1,
              "#f0f921"
             ]
            ],
            "type": "surface"
           }
          ],
          "table": [
           {
            "cells": {
             "fill": {
              "color": "#EBF0F8"
             },
             "line": {
              "color": "white"
             }
            },
            "header": {
             "fill": {
              "color": "#C8D4E3"
             },
             "line": {
              "color": "white"
             }
            },
            "type": "table"
           }
          ]
         },
         "layout": {
          "annotationdefaults": {
           "arrowcolor": "#2a3f5f",
           "arrowhead": 0,
           "arrowwidth": 1
          },
          "autotypenumbers": "strict",
          "coloraxis": {
           "colorbar": {
            "outlinewidth": 0,
            "ticks": ""
           }
          },
          "colorscale": {
           "diverging": [
            [
             0,
             "#8e0152"
            ],
            [
             0.1,
             "#c51b7d"
            ],
            [
             0.2,
             "#de77ae"
            ],
            [
             0.3,
             "#f1b6da"
            ],
            [
             0.4,
             "#fde0ef"
            ],
            [
             0.5,
             "#f7f7f7"
            ],
            [
             0.6,
             "#e6f5d0"
            ],
            [
             0.7,
             "#b8e186"
            ],
            [
             0.8,
             "#7fbc41"
            ],
            [
             0.9,
             "#4d9221"
            ],
            [
             1,
             "#276419"
            ]
           ],
           "sequential": [
            [
             0,
             "#0d0887"
            ],
            [
             0.1111111111111111,
             "#46039f"
            ],
            [
             0.2222222222222222,
             "#7201a8"
            ],
            [
             0.3333333333333333,
             "#9c179e"
            ],
            [
             0.4444444444444444,
             "#bd3786"
            ],
            [
             0.5555555555555556,
             "#d8576b"
            ],
            [
             0.6666666666666666,
             "#ed7953"
            ],
            [
             0.7777777777777778,
             "#fb9f3a"
            ],
            [
             0.8888888888888888,
             "#fdca26"
            ],
            [
             1,
             "#f0f921"
            ]
           ],
           "sequentialminus": [
            [
             0,
             "#0d0887"
            ],
            [
             0.1111111111111111,
             "#46039f"
            ],
            [
             0.2222222222222222,
             "#7201a8"
            ],
            [
             0.3333333333333333,
             "#9c179e"
            ],
            [
             0.4444444444444444,
             "#bd3786"
            ],
            [
             0.5555555555555556,
             "#d8576b"
            ],
            [
             0.6666666666666666,
             "#ed7953"
            ],
            [
             0.7777777777777778,
             "#fb9f3a"
            ],
            [
             0.8888888888888888,
             "#fdca26"
            ],
            [
             1,
             "#f0f921"
            ]
           ]
          },
          "colorway": [
           "#636efa",
           "#EF553B",
           "#00cc96",
           "#ab63fa",
           "#FFA15A",
           "#19d3f3",
           "#FF6692",
           "#B6E880",
           "#FF97FF",
           "#FECB52"
          ],
          "font": {
           "color": "#2a3f5f"
          },
          "geo": {
           "bgcolor": "white",
           "lakecolor": "white",
           "landcolor": "#E5ECF6",
           "showlakes": true,
           "showland": true,
           "subunitcolor": "white"
          },
          "hoverlabel": {
           "align": "left"
          },
          "hovermode": "closest",
          "mapbox": {
           "style": "light"
          },
          "paper_bgcolor": "white",
          "plot_bgcolor": "#E5ECF6",
          "polar": {
           "angularaxis": {
            "gridcolor": "white",
            "linecolor": "white",
            "ticks": ""
           },
           "bgcolor": "#E5ECF6",
           "radialaxis": {
            "gridcolor": "white",
            "linecolor": "white",
            "ticks": ""
           }
          },
          "scene": {
           "xaxis": {
            "backgroundcolor": "#E5ECF6",
            "gridcolor": "white",
            "gridwidth": 2,
            "linecolor": "white",
            "showbackground": true,
            "ticks": "",
            "zerolinecolor": "white"
           },
           "yaxis": {
            "backgroundcolor": "#E5ECF6",
            "gridcolor": "white",
            "gridwidth": 2,
            "linecolor": "white",
            "showbackground": true,
            "ticks": "",
            "zerolinecolor": "white"
           },
           "zaxis": {
            "backgroundcolor": "#E5ECF6",
            "gridcolor": "white",
            "gridwidth": 2,
            "linecolor": "white",
            "showbackground": true,
            "ticks": "",
            "zerolinecolor": "white"
           }
          },
          "shapedefaults": {
           "line": {
            "color": "#2a3f5f"
           }
          },
          "ternary": {
           "aaxis": {
            "gridcolor": "white",
            "linecolor": "white",
            "ticks": ""
           },
           "baxis": {
            "gridcolor": "white",
            "linecolor": "white",
            "ticks": ""
           },
           "bgcolor": "#E5ECF6",
           "caxis": {
            "gridcolor": "white",
            "linecolor": "white",
            "ticks": ""
           }
          },
          "title": {
           "x": 0.05
          },
          "xaxis": {
           "automargin": true,
           "gridcolor": "white",
           "linecolor": "white",
           "ticks": "",
           "title": {
            "standoff": 15
           },
           "zerolinecolor": "white",
           "zerolinewidth": 2
          },
          "yaxis": {
           "automargin": true,
           "gridcolor": "white",
           "linecolor": "white",
           "ticks": "",
           "title": {
            "standoff": 15
           },
           "zerolinecolor": "white",
           "zerolinewidth": 2
          }
         }
        },
        "xaxis": {
         "anchor": "y",
         "domain": [
          0,
          1
         ],
         "title": {
          "text": "year"
         }
        },
        "yaxis": {
         "anchor": "x",
         "domain": [
          0,
          1
         ],
         "title": {
          "text": "asthma_hosp"
         }
        }
       }
      },
      "text/html": [
       "<div>                            <div id=\"4c9bcbe0-cfa5-4abc-9582-d4af8177a5c8\" class=\"plotly-graph-div\" style=\"height:525px; width:100%;\"></div>            <script type=\"text/javascript\">                require([\"plotly\"], function(Plotly) {                    window.PLOTLYENV=window.PLOTLYENV || {};                                    if (document.getElementById(\"4c9bcbe0-cfa5-4abc-9582-d4af8177a5c8\")) {                    Plotly.newPlot(                        \"4c9bcbe0-cfa5-4abc-9582-d4af8177a5c8\",                        [{\"hovertemplate\":\"year=%{x}<br>asthma_hosp=%{y}<extra></extra>\",\"legendgroup\":\"\",\"marker\":{\"color\":\"#636efa\",\"symbol\":\"circle\"},\"mode\":\"markers\",\"name\":\"\",\"orientation\":\"v\",\"showlegend\":false,\"x\":[2009,2009,2009,2009,2009,2009,2009,2009,2009,2009,2009,2009,2009,2009,2009,2009,2009,2009,2009,2009,2009,2009,2009,2009,2009,2009,2009,2009,2009,2009,2009,2009,2009,2009,2009,2009,2009,2009,2009,2009,2009,2009,2010,2010,2010,2010,2010,2010,2010,2010,2010,2010,2010,2010,2010,2010,2010,2010,2010,2010,2010,2010,2010,2010,2010,2010,2010,2010,2010,2010,2010,2010,2010,2010,2010,2010,2010,2010,2010,2010,2010,2010,2010,2010,2011,2011,2011,2011,2011,2011,2011,2011,2011,2011,2011,2011,2011,2011,2011,2011,2011,2011,2011,2011,2011,2011,2011,2011,2011,2011,2011,2011,2011,2011,2011,2011,2011,2011,2011,2011,2011,2011,2011,2011,2011,2011,2012,2012,2012,2012,2012,2012,2012,2012,2012,2012,2012,2012,2012,2012,2012,2012,2012,2012,2012,2012,2012,2012,2012,2012,2012,2012,2012,2012,2012,2012,2012,2012,2012,2012,2012,2012,2012,2012,2012,2012,2012,2012,2013,2013,2013,2013,2013,2013,2013,2013,2013,2013,2013,2013,2013,2013,2013,2013,2013,2013,2013,2013,2013,2013,2013,2013,2013,2013,2013,2013,2013,2013,2013,2013,2013,2013,2013,2013,2013,2013,2013,2013,2013,2013,2014,2014,2014,2014,2014,2014,2014,2014,2014,2014,2014,2014,2014,2014,2014,2014,2014,2014,2014,2014,2014,2014,2014,2014,2014,2014,2014,2014,2014,2014,2014,2014,2014,2014,2014,2014,2014,2014,2014,2014,2014,2014,2015,2015,2015,2015,2015,2015,2015,2015,2015,2015,2015,2015,2015,2015,2015,2015,2015,2015,2015,2015,2015,2015,2015,2015,2015,2015,2015,2015,2015,2015,2015,2015,2015,2015,2015,2015,2015,2015,2015,2015,2015,2015,2016,2016,2016,2016,2016,2016,2016,2016,2016,2016,2016,2016,2016,2016,2016,2016,2016,2016,2016,2016,2016,2016,2016,2016,2016,2016,2016,2016,2016,2016,2016,2016,2016,2016,2016,2016,2016,2016,2016,2016,2016,2016],\"xaxis\":\"x\",\"y\":[61,282,693,588,631,657,504,88,176,645,376,62,97,446,195,34,101,503,168,298,254,87,49,27,17,8,80,10,79,225,84,34,157,50,269,431,224,185,80,78,35,47,74,285,563,491,552,505,435,48,135,559,348,56,64,361,160,20,90,402,176,246,240,77,48,32,20,0,59,8,86,197,89,23,160,46,226,343,173,177,56,85,12,43,65,303,528,552,529,533,457,43,176,582,313,64,103,361,176,42,67,387,164,259,212,75,51,25,9,0,67,9,80,187,83,7,149,48,170,267,157,132,65,63,18,36,67,320,559,609,524,571,501,34,171,591,329,57,90,387,191,44,85,387,160,299,203,57,53,30,13,7,77,0,70,234,68,31,146,37,218,257,176,86,79,65,14,38,72,319,589,515,559,627,453,26,130,581,346,63,70,409,191,30,74,292,161,276,222,56,41,21,16,6,67,4,66,202,82,12,87,49,181,288,158,86,64,77,12,39,71,324,648,521,567,624,478,46,121,607,366,54,73,460,159,17,82,292,217,233,239,64,40,32,14,4,57,2,67,249,75,21,109,34,209,276,162,100,67,80,11,40,60,268,548,523,463,574,431,27,114,506,349,37,75,413,179,27,58,219,175,234,197,51,42,21,5,1,67,4,47,177,70,19,95,57,183,261,135,86,68,59,12,38,53,265,545,441,427,565,361,26,112,473,361,33,72,364,172,30,84,240,210,284,151,43,39,11,8,4,73,7,55,199,79,7,97,51,146,239,115,73,83,72,12,36],\"yaxis\":\"y\",\"type\":\"scatter\"},{\"hovertemplate\":\"<b>OLS trendline</b><br>asthma_hosp = -5.71882 * year + 11692.6<br>R<sup>2</sup>=0.005275<br><br>year=%{x}<br>asthma_hosp=%{y} <b>(trend)</b><extra></extra>\",\"legendgroup\":\"\",\"marker\":{\"color\":\"#636efa\",\"symbol\":\"circle\"},\"mode\":\"lines\",\"name\":\"\",\"showlegend\":false,\"x\":[2009,2009,2009,2009,2009,2009,2009,2009,2009,2009,2009,2009,2009,2009,2009,2009,2009,2009,2009,2009,2009,2009,2009,2009,2009,2009,2009,2009,2009,2009,2009,2009,2009,2009,2009,2009,2009,2009,2009,2009,2009,2009,2010,2010,2010,2010,2010,2010,2010,2010,2010,2010,2010,2010,2010,2010,2010,2010,2010,2010,2010,2010,2010,2010,2010,2010,2010,2010,2010,2010,2010,2010,2010,2010,2010,2010,2010,2010,2010,2010,2010,2010,2010,2010,2011,2011,2011,2011,2011,2011,2011,2011,2011,2011,2011,2011,2011,2011,2011,2011,2011,2011,2011,2011,2011,2011,2011,2011,2011,2011,2011,2011,2011,2011,2011,2011,2011,2011,2011,2011,2011,2011,2011,2011,2011,2011,2012,2012,2012,2012,2012,2012,2012,2012,2012,2012,2012,2012,2012,2012,2012,2012,2012,2012,2012,2012,2012,2012,2012,2012,2012,2012,2012,2012,2012,2012,2012,2012,2012,2012,2012,2012,2012,2012,2012,2012,2012,2012,2013,2013,2013,2013,2013,2013,2013,2013,2013,2013,2013,2013,2013,2013,2013,2013,2013,2013,2013,2013,2013,2013,2013,2013,2013,2013,2013,2013,2013,2013,2013,2013,2013,2013,2013,2013,2013,2013,2013,2013,2013,2013,2014,2014,2014,2014,2014,2014,2014,2014,2014,2014,2014,2014,2014,2014,2014,2014,2014,2014,2014,2014,2014,2014,2014,2014,2014,2014,2014,2014,2014,2014,2014,2014,2014,2014,2014,2014,2014,2014,2014,2014,2014,2014,2015,2015,2015,2015,2015,2015,2015,2015,2015,2015,2015,2015,2015,2015,2015,2015,2015,2015,2015,2015,2015,2015,2015,2015,2015,2015,2015,2015,2015,2015,2015,2015,2015,2015,2015,2015,2015,2015,2015,2015,2015,2015,2016,2016,2016,2016,2016,2016,2016,2016,2016,2016,2016,2016,2016,2016,2016,2016,2016,2016,2016,2016,2016,2016,2016,2016,2016,2016,2016,2016,2016,2016,2016,2016,2016,2016,2016,2016,2016,2016,2016,2016,2016,2016],\"xaxis\":\"x\",\"y\":[203.5218253968378,203.5218253968378,203.5218253968378,203.5218253968378,203.5218253968378,203.5218253968378,203.5218253968378,203.5218253968378,203.5218253968378,203.5218253968378,203.5218253968378,203.5218253968378,203.5218253968378,203.5218253968378,203.5218253968378,203.5218253968378,203.5218253968378,203.5218253968378,203.5218253968378,203.5218253968378,203.5218253968378,203.5218253968378,203.5218253968378,203.5218253968378,203.5218253968378,203.5218253968378,203.5218253968378,203.5218253968378,203.5218253968378,203.5218253968378,203.5218253968378,203.5218253968378,203.5218253968378,203.5218253968378,203.5218253968378,203.5218253968378,203.5218253968378,203.5218253968378,203.5218253968378,203.5218253968378,203.5218253968378,203.5218253968378,197.80300453515702,197.80300453515702,197.80300453515702,197.80300453515702,197.80300453515702,197.80300453515702,197.80300453515702,197.80300453515702,197.80300453515702,197.80300453515702,197.80300453515702,197.80300453515702,197.80300453515702,197.80300453515702,197.80300453515702,197.80300453515702,197.80300453515702,197.80300453515702,197.80300453515702,197.80300453515702,197.80300453515702,197.80300453515702,197.80300453515702,197.80300453515702,197.80300453515702,197.80300453515702,197.80300453515702,197.80300453515702,197.80300453515702,197.80300453515702,197.80300453515702,197.80300453515702,197.80300453515702,197.80300453515702,197.80300453515702,197.80300453515702,197.80300453515702,197.80300453515702,197.80300453515702,197.80300453515702,197.80300453515702,197.80300453515702,192.08418367347804,192.08418367347804,192.08418367347804,192.08418367347804,192.08418367347804,192.08418367347804,192.08418367347804,192.08418367347804,192.08418367347804,192.08418367347804,192.08418367347804,192.08418367347804,192.08418367347804,192.08418367347804,192.08418367347804,192.08418367347804,192.08418367347804,192.08418367347804,192.08418367347804,192.08418367347804,192.08418367347804,192.08418367347804,192.08418367347804,192.08418367347804,192.08418367347804,192.08418367347804,192.08418367347804,192.08418367347804,192.08418367347804,192.08418367347804,192.08418367347804,192.08418367347804,192.08418367347804,192.08418367347804,192.08418367347804,192.08418367347804,192.08418367347804,192.08418367347804,192.08418367347804,192.08418367347804,192.08418367347804,192.08418367347804,186.36536281179906,186.36536281179906,186.36536281179906,186.36536281179906,186.36536281179906,186.36536281179906,186.36536281179906,186.36536281179906,186.36536281179906,186.36536281179906,186.36536281179906,186.36536281179906,186.36536281179906,186.36536281179906,186.36536281179906,186.36536281179906,186.36536281179906,186.36536281179906,186.36536281179906,186.36536281179906,186.36536281179906,186.36536281179906,186.36536281179906,186.36536281179906,186.36536281179906,186.36536281179906,186.36536281179906,186.36536281179906,186.36536281179906,186.36536281179906,186.36536281179906,186.36536281179906,186.36536281179906,186.36536281179906,186.36536281179906,186.36536281179906,186.36536281179906,186.36536281179906,186.36536281179906,186.36536281179906,186.36536281179906,186.36536281179906,180.64654195011826,180.64654195011826,180.64654195011826,180.64654195011826,180.64654195011826,180.64654195011826,180.64654195011826,180.64654195011826,180.64654195011826,180.64654195011826,180.64654195011826,180.64654195011826,180.64654195011826,180.64654195011826,180.64654195011826,180.64654195011826,180.64654195011826,180.64654195011826,180.64654195011826,180.64654195011826,180.64654195011826,180.64654195011826,180.64654195011826,180.64654195011826,180.64654195011826,180.64654195011826,180.64654195011826,180.64654195011826,180.64654195011826,180.64654195011826,180.64654195011826,180.64654195011826,180.64654195011826,180.64654195011826,180.64654195011826,180.64654195011826,180.64654195011826,180.64654195011826,180.64654195011826,180.64654195011826,180.64654195011826,180.64654195011826,174.92772108843928,174.92772108843928,174.92772108843928,174.92772108843928,174.92772108843928,174.92772108843928,174.92772108843928,174.92772108843928,174.92772108843928,174.92772108843928,174.92772108843928,174.92772108843928,174.92772108843928,174.92772108843928,174.92772108843928,174.92772108843928,174.92772108843928,174.92772108843928,174.92772108843928,174.92772108843928,174.92772108843928,174.92772108843928,174.92772108843928,174.92772108843928,174.92772108843928,174.92772108843928,174.92772108843928,174.92772108843928,174.92772108843928,174.92772108843928,174.92772108843928,174.92772108843928,174.92772108843928,174.92772108843928,174.92772108843928,174.92772108843928,174.92772108843928,174.92772108843928,174.92772108843928,174.92772108843928,174.92772108843928,174.92772108843928,169.2089002267603,169.2089002267603,169.2089002267603,169.2089002267603,169.2089002267603,169.2089002267603,169.2089002267603,169.2089002267603,169.2089002267603,169.2089002267603,169.2089002267603,169.2089002267603,169.2089002267603,169.2089002267603,169.2089002267603,169.2089002267603,169.2089002267603,169.2089002267603,169.2089002267603,169.2089002267603,169.2089002267603,169.2089002267603,169.2089002267603,169.2089002267603,169.2089002267603,169.2089002267603,169.2089002267603,169.2089002267603,169.2089002267603,169.2089002267603,169.2089002267603,169.2089002267603,169.2089002267603,169.2089002267603,169.2089002267603,169.2089002267603,169.2089002267603,169.2089002267603,169.2089002267603,169.2089002267603,169.2089002267603,169.2089002267603,163.49007936508133,163.49007936508133,163.49007936508133,163.49007936508133,163.49007936508133,163.49007936508133,163.49007936508133,163.49007936508133,163.49007936508133,163.49007936508133,163.49007936508133,163.49007936508133,163.49007936508133,163.49007936508133,163.49007936508133,163.49007936508133,163.49007936508133,163.49007936508133,163.49007936508133,163.49007936508133,163.49007936508133,163.49007936508133,163.49007936508133,163.49007936508133,163.49007936508133,163.49007936508133,163.49007936508133,163.49007936508133,163.49007936508133,163.49007936508133,163.49007936508133,163.49007936508133,163.49007936508133,163.49007936508133,163.49007936508133,163.49007936508133,163.49007936508133,163.49007936508133,163.49007936508133,163.49007936508133,163.49007936508133,163.49007936508133],\"yaxis\":\"y\",\"type\":\"scatter\"}],                        {\"template\":{\"data\":{\"bar\":[{\"error_x\":{\"color\":\"#2a3f5f\"},\"error_y\":{\"color\":\"#2a3f5f\"},\"marker\":{\"line\":{\"color\":\"#E5ECF6\",\"width\":0.5},\"pattern\":{\"fillmode\":\"overlay\",\"size\":10,\"solidity\":0.2}},\"type\":\"bar\"}],\"barpolar\":[{\"marker\":{\"line\":{\"color\":\"#E5ECF6\",\"width\":0.5},\"pattern\":{\"fillmode\":\"overlay\",\"size\":10,\"solidity\":0.2}},\"type\":\"barpolar\"}],\"carpet\":[{\"aaxis\":{\"endlinecolor\":\"#2a3f5f\",\"gridcolor\":\"white\",\"linecolor\":\"white\",\"minorgridcolor\":\"white\",\"startlinecolor\":\"#2a3f5f\"},\"baxis\":{\"endlinecolor\":\"#2a3f5f\",\"gridcolor\":\"white\",\"linecolor\":\"white\",\"minorgridcolor\":\"white\",\"startlinecolor\":\"#2a3f5f\"},\"type\":\"carpet\"}],\"choropleth\":[{\"colorbar\":{\"outlinewidth\":0,\"ticks\":\"\"},\"type\":\"choropleth\"}],\"contour\":[{\"colorbar\":{\"outlinewidth\":0,\"ticks\":\"\"},\"colorscale\":[[0.0,\"#0d0887\"],[0.1111111111111111,\"#46039f\"],[0.2222222222222222,\"#7201a8\"],[0.3333333333333333,\"#9c179e\"],[0.4444444444444444,\"#bd3786\"],[0.5555555555555556,\"#d8576b\"],[0.6666666666666666,\"#ed7953\"],[0.7777777777777778,\"#fb9f3a\"],[0.8888888888888888,\"#fdca26\"],[1.0,\"#f0f921\"]],\"type\":\"contour\"}],\"contourcarpet\":[{\"colorbar\":{\"outlinewidth\":0,\"ticks\":\"\"},\"type\":\"contourcarpet\"}],\"heatmap\":[{\"colorbar\":{\"outlinewidth\":0,\"ticks\":\"\"},\"colorscale\":[[0.0,\"#0d0887\"],[0.1111111111111111,\"#46039f\"],[0.2222222222222222,\"#7201a8\"],[0.3333333333333333,\"#9c179e\"],[0.4444444444444444,\"#bd3786\"],[0.5555555555555556,\"#d8576b\"],[0.6666666666666666,\"#ed7953\"],[0.7777777777777778,\"#fb9f3a\"],[0.8888888888888888,\"#fdca26\"],[1.0,\"#f0f921\"]],\"type\":\"heatmap\"}],\"heatmapgl\":[{\"colorbar\":{\"outlinewidth\":0,\"ticks\":\"\"},\"colorscale\":[[0.0,\"#0d0887\"],[0.1111111111111111,\"#46039f\"],[0.2222222222222222,\"#7201a8\"],[0.3333333333333333,\"#9c179e\"],[0.4444444444444444,\"#bd3786\"],[0.5555555555555556,\"#d8576b\"],[0.6666666666666666,\"#ed7953\"],[0.7777777777777778,\"#fb9f3a\"],[0.8888888888888888,\"#fdca26\"],[1.0,\"#f0f921\"]],\"type\":\"heatmapgl\"}],\"histogram\":[{\"marker\":{\"pattern\":{\"fillmode\":\"overlay\",\"size\":10,\"solidity\":0.2}},\"type\":\"histogram\"}],\"histogram2d\":[{\"colorbar\":{\"outlinewidth\":0,\"ticks\":\"\"},\"colorscale\":[[0.0,\"#0d0887\"],[0.1111111111111111,\"#46039f\"],[0.2222222222222222,\"#7201a8\"],[0.3333333333333333,\"#9c179e\"],[0.4444444444444444,\"#bd3786\"],[0.5555555555555556,\"#d8576b\"],[0.6666666666666666,\"#ed7953\"],[0.7777777777777778,\"#fb9f3a\"],[0.8888888888888888,\"#fdca26\"],[1.0,\"#f0f921\"]],\"type\":\"histogram2d\"}],\"histogram2dcontour\":[{\"colorbar\":{\"outlinewidth\":0,\"ticks\":\"\"},\"colorscale\":[[0.0,\"#0d0887\"],[0.1111111111111111,\"#46039f\"],[0.2222222222222222,\"#7201a8\"],[0.3333333333333333,\"#9c179e\"],[0.4444444444444444,\"#bd3786\"],[0.5555555555555556,\"#d8576b\"],[0.6666666666666666,\"#ed7953\"],[0.7777777777777778,\"#fb9f3a\"],[0.8888888888888888,\"#fdca26\"],[1.0,\"#f0f921\"]],\"type\":\"histogram2dcontour\"}],\"mesh3d\":[{\"colorbar\":{\"outlinewidth\":0,\"ticks\":\"\"},\"type\":\"mesh3d\"}],\"parcoords\":[{\"line\":{\"colorbar\":{\"outlinewidth\":0,\"ticks\":\"\"}},\"type\":\"parcoords\"}],\"pie\":[{\"automargin\":true,\"type\":\"pie\"}],\"scatter\":[{\"marker\":{\"colorbar\":{\"outlinewidth\":0,\"ticks\":\"\"}},\"type\":\"scatter\"}],\"scatter3d\":[{\"line\":{\"colorbar\":{\"outlinewidth\":0,\"ticks\":\"\"}},\"marker\":{\"colorbar\":{\"outlinewidth\":0,\"ticks\":\"\"}},\"type\":\"scatter3d\"}],\"scattercarpet\":[{\"marker\":{\"colorbar\":{\"outlinewidth\":0,\"ticks\":\"\"}},\"type\":\"scattercarpet\"}],\"scattergeo\":[{\"marker\":{\"colorbar\":{\"outlinewidth\":0,\"ticks\":\"\"}},\"type\":\"scattergeo\"}],\"scattergl\":[{\"marker\":{\"colorbar\":{\"outlinewidth\":0,\"ticks\":\"\"}},\"type\":\"scattergl\"}],\"scattermapbox\":[{\"marker\":{\"colorbar\":{\"outlinewidth\":0,\"ticks\":\"\"}},\"type\":\"scattermapbox\"}],\"scatterpolar\":[{\"marker\":{\"colorbar\":{\"outlinewidth\":0,\"ticks\":\"\"}},\"type\":\"scatterpolar\"}],\"scatterpolargl\":[{\"marker\":{\"colorbar\":{\"outlinewidth\":0,\"ticks\":\"\"}},\"type\":\"scatterpolargl\"}],\"scatterternary\":[{\"marker\":{\"colorbar\":{\"outlinewidth\":0,\"ticks\":\"\"}},\"type\":\"scatterternary\"}],\"surface\":[{\"colorbar\":{\"outlinewidth\":0,\"ticks\":\"\"},\"colorscale\":[[0.0,\"#0d0887\"],[0.1111111111111111,\"#46039f\"],[0.2222222222222222,\"#7201a8\"],[0.3333333333333333,\"#9c179e\"],[0.4444444444444444,\"#bd3786\"],[0.5555555555555556,\"#d8576b\"],[0.6666666666666666,\"#ed7953\"],[0.7777777777777778,\"#fb9f3a\"],[0.8888888888888888,\"#fdca26\"],[1.0,\"#f0f921\"]],\"type\":\"surface\"}],\"table\":[{\"cells\":{\"fill\":{\"color\":\"#EBF0F8\"},\"line\":{\"color\":\"white\"}},\"header\":{\"fill\":{\"color\":\"#C8D4E3\"},\"line\":{\"color\":\"white\"}},\"type\":\"table\"}]},\"layout\":{\"annotationdefaults\":{\"arrowcolor\":\"#2a3f5f\",\"arrowhead\":0,\"arrowwidth\":1},\"autotypenumbers\":\"strict\",\"coloraxis\":{\"colorbar\":{\"outlinewidth\":0,\"ticks\":\"\"}},\"colorscale\":{\"diverging\":[[0,\"#8e0152\"],[0.1,\"#c51b7d\"],[0.2,\"#de77ae\"],[0.3,\"#f1b6da\"],[0.4,\"#fde0ef\"],[0.5,\"#f7f7f7\"],[0.6,\"#e6f5d0\"],[0.7,\"#b8e186\"],[0.8,\"#7fbc41\"],[0.9,\"#4d9221\"],[1,\"#276419\"]],\"sequential\":[[0.0,\"#0d0887\"],[0.1111111111111111,\"#46039f\"],[0.2222222222222222,\"#7201a8\"],[0.3333333333333333,\"#9c179e\"],[0.4444444444444444,\"#bd3786\"],[0.5555555555555556,\"#d8576b\"],[0.6666666666666666,\"#ed7953\"],[0.7777777777777778,\"#fb9f3a\"],[0.8888888888888888,\"#fdca26\"],[1.0,\"#f0f921\"]],\"sequentialminus\":[[0.0,\"#0d0887\"],[0.1111111111111111,\"#46039f\"],[0.2222222222222222,\"#7201a8\"],[0.3333333333333333,\"#9c179e\"],[0.4444444444444444,\"#bd3786\"],[0.5555555555555556,\"#d8576b\"],[0.6666666666666666,\"#ed7953\"],[0.7777777777777778,\"#fb9f3a\"],[0.8888888888888888,\"#fdca26\"],[1.0,\"#f0f921\"]]},\"colorway\":[\"#636efa\",\"#EF553B\",\"#00cc96\",\"#ab63fa\",\"#FFA15A\",\"#19d3f3\",\"#FF6692\",\"#B6E880\",\"#FF97FF\",\"#FECB52\"],\"font\":{\"color\":\"#2a3f5f\"},\"geo\":{\"bgcolor\":\"white\",\"lakecolor\":\"white\",\"landcolor\":\"#E5ECF6\",\"showlakes\":true,\"showland\":true,\"subunitcolor\":\"white\"},\"hoverlabel\":{\"align\":\"left\"},\"hovermode\":\"closest\",\"mapbox\":{\"style\":\"light\"},\"paper_bgcolor\":\"white\",\"plot_bgcolor\":\"#E5ECF6\",\"polar\":{\"angularaxis\":{\"gridcolor\":\"white\",\"linecolor\":\"white\",\"ticks\":\"\"},\"bgcolor\":\"#E5ECF6\",\"radialaxis\":{\"gridcolor\":\"white\",\"linecolor\":\"white\",\"ticks\":\"\"}},\"scene\":{\"xaxis\":{\"backgroundcolor\":\"#E5ECF6\",\"gridcolor\":\"white\",\"gridwidth\":2,\"linecolor\":\"white\",\"showbackground\":true,\"ticks\":\"\",\"zerolinecolor\":\"white\"},\"yaxis\":{\"backgroundcolor\":\"#E5ECF6\",\"gridcolor\":\"white\",\"gridwidth\":2,\"linecolor\":\"white\",\"showbackground\":true,\"ticks\":\"\",\"zerolinecolor\":\"white\"},\"zaxis\":{\"backgroundcolor\":\"#E5ECF6\",\"gridcolor\":\"white\",\"gridwidth\":2,\"linecolor\":\"white\",\"showbackground\":true,\"ticks\":\"\",\"zerolinecolor\":\"white\"}},\"shapedefaults\":{\"line\":{\"color\":\"#2a3f5f\"}},\"ternary\":{\"aaxis\":{\"gridcolor\":\"white\",\"linecolor\":\"white\",\"ticks\":\"\"},\"baxis\":{\"gridcolor\":\"white\",\"linecolor\":\"white\",\"ticks\":\"\"},\"bgcolor\":\"#E5ECF6\",\"caxis\":{\"gridcolor\":\"white\",\"linecolor\":\"white\",\"ticks\":\"\"}},\"title\":{\"x\":0.05},\"xaxis\":{\"automargin\":true,\"gridcolor\":\"white\",\"linecolor\":\"white\",\"ticks\":\"\",\"title\":{\"standoff\":15},\"zerolinecolor\":\"white\",\"zerolinewidth\":2},\"yaxis\":{\"automargin\":true,\"gridcolor\":\"white\",\"linecolor\":\"white\",\"ticks\":\"\",\"title\":{\"standoff\":15},\"zerolinecolor\":\"white\",\"zerolinewidth\":2}}},\"xaxis\":{\"anchor\":\"y\",\"domain\":[0.0,1.0],\"title\":{\"text\":\"year\"}},\"yaxis\":{\"anchor\":\"x\",\"domain\":[0.0,1.0],\"title\":{\"text\":\"asthma_hosp\"}},\"legend\":{\"tracegroupgap\":0},\"margin\":{\"t\":60}},                        {\"responsive\": true}                    ).then(function(){\n",
       "                            \n",
       "var gd = document.getElementById('4c9bcbe0-cfa5-4abc-9582-d4af8177a5c8');\n",
       "var x = new MutationObserver(function (mutations, observer) {{\n",
       "        var display = window.getComputedStyle(gd).display;\n",
       "        if (!display || display === 'none') {{\n",
       "            console.log([gd, 'removed!']);\n",
       "            Plotly.purge(gd);\n",
       "            observer.disconnect();\n",
       "        }}\n",
       "}});\n",
       "\n",
       "// Listen for the removal of the full notebook cells\n",
       "var notebookContainer = gd.closest('#notebook-container');\n",
       "if (notebookContainer) {{\n",
       "    x.observe(notebookContainer, {childList: true});\n",
       "}}\n",
       "\n",
       "// Listen for the clearing of the current output cell\n",
       "var outputEl = gd.closest('.output');\n",
       "if (outputEl) {{\n",
       "    x.observe(outputEl, {childList: true});\n",
       "}}\n",
       "\n",
       "                        })                };                });            </script>        </div>"
      ]
     },
     "metadata": {},
     "output_type": "display_data"
    }
   ],
   "source": [
    "fig = px.scatter(df, x=\"year\", y=\"asthma_hosp\",trendline=\"ols\")\n",
    "fig.show()"
   ]
  },
  {
   "cell_type": "code",
   "execution_count": 171,
   "id": "2d854ee1",
   "metadata": {},
   "outputs": [
    {
     "data": {
      "application/vnd.plotly.v1+json": {
       "config": {
        "plotlyServerURL": "https://plotly.com"
       },
       "data": [
        {
         "hovertemplate": "Boroughs=Bronx<br>PM2_5=%{x}<br>asthma_hosp=%{y}<br>year=%{marker.color}<extra></extra>",
         "legendgroup": "",
         "marker": {
          "color": [
           2009,
           2009,
           2009,
           2009,
           2009,
           2009,
           2009,
           2010,
           2010,
           2010,
           2010,
           2010,
           2010,
           2010,
           2011,
           2011,
           2011,
           2011,
           2011,
           2011,
           2011,
           2012,
           2012,
           2012,
           2012,
           2012,
           2012,
           2012,
           2013,
           2013,
           2013,
           2013,
           2013,
           2013,
           2013,
           2014,
           2014,
           2014,
           2014,
           2014,
           2014,
           2014,
           2015,
           2015,
           2015,
           2015,
           2015,
           2015,
           2015,
           2016,
           2016,
           2016,
           2016,
           2016,
           2016,
           2016
          ],
          "coloraxis": "coloraxis",
          "symbol": "circle"
         },
         "mode": "markers",
         "name": "",
         "orientation": "v",
         "showlegend": false,
         "type": "scatter",
         "x": [
          11.03,
          10.68,
          11.1,
          10.59,
          11.76,
          11.8,
          11.45,
          10.09,
          9.65,
          10.26,
          9.68,
          10.99,
          11,
          10.48,
          10.65,
          10.48,
          10.77,
          10.5,
          11.45,
          11.44,
          11.24,
          9.27,
          9.11,
          9.47,
          9.23,
          10.22,
          10.26,
          10.02,
          8.88,
          8.73,
          9.06,
          8.74,
          9.75,
          9.83,
          9.57,
          9,
          9,
          9.19,
          8.97,
          9.82,
          9.87,
          9.75,
          9.17,
          9.13,
          9.14,
          8.93,
          9.67,
          9.6,
          9.62,
          7.5,
          7.55,
          7.57,
          7.5,
          8.18,
          8.16,
          8.26
         ],
         "xaxis": "x",
         "y": [
          61,
          282,
          693,
          588,
          631,
          657,
          504,
          74,
          285,
          563,
          491,
          552,
          505,
          435,
          65,
          303,
          528,
          552,
          529,
          533,
          457,
          67,
          320,
          559,
          609,
          524,
          571,
          501,
          72,
          319,
          589,
          515,
          559,
          627,
          453,
          71,
          324,
          648,
          521,
          567,
          624,
          478,
          60,
          268,
          548,
          523,
          463,
          574,
          431,
          53,
          265,
          545,
          441,
          427,
          565,
          361
         ],
         "yaxis": "y"
        },
        {
         "hovertemplate": "<b>OLS trendline</b><br>asthma_hosp = 43.2602 * PM2_5 + 13.5963<br>R<sup>2</sup>=0.067301<br><br>Boroughs=Bronx<br>PM2_5=%{x}<br>asthma_hosp=%{y} <b>(trend)</b><extra></extra>",
         "legendgroup": "",
         "marker": {
          "symbol": "circle"
         },
         "mode": "lines",
         "name": "",
         "showlegend": false,
         "type": "scatter",
         "x": [
          7.5,
          7.5,
          7.55,
          7.57,
          8.16,
          8.18,
          8.26,
          8.73,
          8.74,
          8.88,
          8.93,
          8.97,
          9,
          9,
          9.06,
          9.11,
          9.13,
          9.14,
          9.17,
          9.19,
          9.23,
          9.27,
          9.47,
          9.57,
          9.6,
          9.62,
          9.65,
          9.67,
          9.68,
          9.75,
          9.75,
          9.82,
          9.83,
          9.87,
          10.02,
          10.09,
          10.22,
          10.26,
          10.26,
          10.48,
          10.48,
          10.5,
          10.59,
          10.65,
          10.68,
          10.77,
          10.99,
          11,
          11.03,
          11.1,
          11.24,
          11.44,
          11.45,
          11.45,
          11.76,
          11.8
         ],
         "xaxis": "x",
         "y": [
          338.04804365841767,
          338.04804365841767,
          340.2110552581007,
          341.07625989797384,
          366.5997967742328,
          367.4650014141059,
          370.92581997359866,
          391.2581290106185,
          391.6907313305551,
          397.7471638096674,
          399.91017540935024,
          401.6405846890967,
          402.9383916489064,
          402.9383916489064,
          405.534005568526,
          407.69701716820896,
          408.5622218080822,
          408.99482412801876,
          410.29263108782845,
          411.1578357277017,
          412.88824500744806,
          414.61865428719443,
          423.2707006859263,
          427.59672388529214,
          428.89453084510194,
          429.75973548497507,
          431.0575424447849,
          431.9227470846581,
          432.3553494045947,
          435.38356564415085,
          435.38356564415085,
          438.411781883707,
          438.8443842036436,
          440.57479348338984,
          447.06382828243875,
          450.0920445219949,
          455.7158746811707,
          457.44628396091696,
          457.44628396091696,
          466.96353499952204,
          466.96353499952204,
          467.82873963939517,
          471.72216051882447,
          474.3177744384441,
          475.61558139825377,
          479.5090022776832,
          489.02625331628815,
          489.4588556362247,
          490.7566625960345,
          493.7848788355907,
          499.8413113147029,
          508.49335771343476,
          508.9259600333713,
          508.9259600333713,
          522.3366319514057,
          524.0670412311521
         ],
         "yaxis": "y"
        },
        {
         "hovertemplate": "Boroughs=Brooklyn<br>PM2_5=%{x}<br>asthma_hosp=%{y}<br>year=%{marker.color}<extra></extra>",
         "legendgroup": "",
         "marker": {
          "color": [
           2009,
           2009,
           2009,
           2009,
           2009,
           2009,
           2009,
           2009,
           2009,
           2009,
           2009,
           2010,
           2010,
           2010,
           2010,
           2010,
           2010,
           2010,
           2010,
           2010,
           2010,
           2010,
           2011,
           2011,
           2011,
           2011,
           2011,
           2011,
           2011,
           2011,
           2011,
           2011,
           2011,
           2012,
           2012,
           2012,
           2012,
           2012,
           2012,
           2012,
           2012,
           2012,
           2012,
           2012,
           2013,
           2013,
           2013,
           2013,
           2013,
           2013,
           2013,
           2013,
           2013,
           2013,
           2013,
           2014,
           2014,
           2014,
           2014,
           2014,
           2014,
           2014,
           2014,
           2014,
           2014,
           2014,
           2015,
           2015,
           2015,
           2015,
           2015,
           2015,
           2015,
           2015,
           2015,
           2015,
           2015,
           2016,
           2016,
           2016,
           2016,
           2016,
           2016,
           2016,
           2016,
           2016,
           2016,
           2016
          ],
          "coloraxis": "coloraxis",
          "symbol": "circle"
         },
         "mode": "markers",
         "name": "",
         "orientation": "v",
         "showlegend": false,
         "type": "scatter",
         "x": [
          11.93,
          11.5,
          10.75,
          10.6,
          11.04,
          10.27,
          10.47,
          9.85,
          9.91,
          9.55,
          11.36,
          10.57,
          10.49,
          9.93,
          9.79,
          10.21,
          9.61,
          9.8,
          9.12,
          9.18,
          8.89,
          10.33,
          11.51,
          11.14,
          10.29,
          10.09,
          10.84,
          10.07,
          10.15,
          9.55,
          9.78,
          9.44,
          10.88,
          10.27,
          9.9,
          9.13,
          8.94,
          9.59,
          8.89,
          8.98,
          8.37,
          8.6,
          8.3,
          9.7,
          10,
          9.46,
          8.75,
          8.69,
          9.12,
          8.49,
          8.6,
          8.18,
          8.24,
          8.11,
          9.36,
          10.54,
          9.99,
          9.16,
          9.04,
          9.63,
          8.87,
          8.97,
          8.48,
          8.62,
          8.37,
          9.84,
          10.49,
          9.89,
          8.87,
          8.72,
          9.45,
          8.44,
          8.59,
          8.1,
          8.13,
          7.72,
          9.61,
          9.46,
          8.86,
          7.94,
          7.8,
          8.4,
          7.45,
          7.64,
          7.12,
          7.11,
          6.75,
          8.67
         ],
         "xaxis": "x2",
         "y": [
          88,
          176,
          645,
          376,
          62,
          97,
          446,
          195,
          34,
          101,
          503,
          48,
          135,
          559,
          348,
          56,
          64,
          361,
          160,
          20,
          90,
          402,
          43,
          176,
          582,
          313,
          64,
          103,
          361,
          176,
          42,
          67,
          387,
          34,
          171,
          591,
          329,
          57,
          90,
          387,
          191,
          44,
          85,
          387,
          26,
          130,
          581,
          346,
          63,
          70,
          409,
          191,
          30,
          74,
          292,
          46,
          121,
          607,
          366,
          54,
          73,
          460,
          159,
          17,
          82,
          292,
          27,
          114,
          506,
          349,
          37,
          75,
          413,
          179,
          27,
          58,
          219,
          26,
          112,
          473,
          361,
          33,
          72,
          364,
          172,
          30,
          84,
          240
         ],
         "yaxis": "y2"
        },
        {
         "hovertemplate": "<b>OLS trendline</b><br>asthma_hosp = 11.6459 * PM2_5 + 96.7974<br>R<sup>2</sup>=0.005011<br><br>Boroughs=Brooklyn<br>PM2_5=%{x}<br>asthma_hosp=%{y} <b>(trend)</b><extra></extra>",
         "legendgroup": "",
         "marker": {
          "symbol": "circle"
         },
         "mode": "lines",
         "name": "",
         "showlegend": false,
         "type": "scatter",
         "x": [
          6.75,
          7.11,
          7.12,
          7.45,
          7.64,
          7.72,
          7.8,
          7.94,
          8.1,
          8.11,
          8.13,
          8.18,
          8.24,
          8.3,
          8.37,
          8.37,
          8.4,
          8.44,
          8.48,
          8.49,
          8.59,
          8.6,
          8.6,
          8.62,
          8.67,
          8.69,
          8.72,
          8.75,
          8.86,
          8.87,
          8.87,
          8.89,
          8.89,
          8.94,
          8.97,
          8.98,
          9.04,
          9.12,
          9.12,
          9.13,
          9.16,
          9.18,
          9.36,
          9.44,
          9.45,
          9.46,
          9.46,
          9.55,
          9.55,
          9.59,
          9.61,
          9.61,
          9.63,
          9.7,
          9.78,
          9.79,
          9.8,
          9.84,
          9.85,
          9.89,
          9.9,
          9.91,
          9.93,
          9.99,
          10,
          10.07,
          10.09,
          10.15,
          10.21,
          10.27,
          10.27,
          10.29,
          10.33,
          10.47,
          10.49,
          10.49,
          10.54,
          10.57,
          10.6,
          10.75,
          10.84,
          10.88,
          11.04,
          11.14,
          11.36,
          11.5,
          11.51,
          11.93
         ],
         "xaxis": "x2",
         "y": [
          175.40715713651687,
          179.59967834165968,
          179.71613726402478,
          183.55928170207235,
          185.77200122700884,
          186.70367260592946,
          187.6353439848501,
          189.2657688979612,
          191.12911165580243,
          191.24557057816753,
          191.4784884228977,
          192.06078303472307,
          192.75953656891355,
          193.45829010310405,
          194.27350255965956,
          194.27350255965956,
          194.6228793267548,
          195.0887150162151,
          195.55455070567544,
          195.6710096280405,
          196.8355988516913,
          196.95205777405636,
          196.95205777405636,
          197.1849756187865,
          197.76727023061193,
          198.00018807534207,
          198.3495648424373,
          198.69894160953254,
          199.9799897555484,
          200.0964486779135,
          200.0964486779135,
          200.32936652264365,
          200.32936652264365,
          200.91166113446903,
          201.2610379015643,
          201.37749682392933,
          202.0762503581198,
          203.00792173704042,
          203.00792173704042,
          203.12438065940552,
          203.47375742650075,
          203.7066752712309,
          205.8029358738023,
          206.73460725272292,
          206.85106617508802,
          206.96752509745312,
          206.96752509745312,
          208.01565539873883,
          208.01565539873883,
          208.4814910881991,
          208.71440893292927,
          208.71440893292927,
          208.94732677765944,
          209.76253923421498,
          210.69421061313562,
          210.81066953550067,
          210.92712845786576,
          211.3929641473261,
          211.50942306969114,
          211.97525875915147,
          212.09171768151657,
          212.20817660388164,
          212.4410944486118,
          213.13984798280228,
          213.25630690516732,
          214.0715193617229,
          214.30443720645303,
          215.0031907406435,
          215.70194427483398,
          216.40069780902445,
          216.40069780902445,
          216.6336156537546,
          217.09945134321492,
          218.729876256326,
          218.96279410105618,
          218.96279410105618,
          219.54508871288158,
          219.89446547997682,
          220.24384224707205,
          221.99072608254824,
          223.03885638383392,
          223.50469207329422,
          225.36803483113547,
          226.53262405478628,
          229.09472034681798,
          230.7251452599291,
          230.84160418229416,
          235.73287892162745
         ],
         "yaxis": "y2"
        },
        {
         "hovertemplate": "Boroughs=Manhattan<br>PM2_5=%{x}<br>asthma_hosp=%{y}<br>year=%{marker.color}<extra></extra>",
         "legendgroup": "",
         "marker": {
          "color": [
           2009,
           2009,
           2009,
           2009,
           2009,
           2009,
           2009,
           2009,
           2009,
           2009,
           2010,
           2010,
           2010,
           2010,
           2010,
           2010,
           2010,
           2010,
           2010,
           2010,
           2011,
           2011,
           2011,
           2011,
           2011,
           2011,
           2011,
           2011,
           2011,
           2011,
           2012,
           2012,
           2012,
           2012,
           2012,
           2012,
           2012,
           2012,
           2012,
           2012,
           2013,
           2013,
           2013,
           2013,
           2013,
           2013,
           2013,
           2013,
           2013,
           2013,
           2014,
           2014,
           2014,
           2014,
           2014,
           2014,
           2014,
           2014,
           2014,
           2014,
           2015,
           2015,
           2015,
           2015,
           2015,
           2015,
           2015,
           2015,
           2015,
           2015,
           2016,
           2016,
           2016,
           2016,
           2016,
           2016,
           2016,
           2016,
           2016,
           2016
          ],
          "coloraxis": "coloraxis",
          "symbol": "circle"
         },
         "mode": "markers",
         "name": "",
         "orientation": "v",
         "showlegend": false,
         "type": "scatter",
         "x": [
          11.55,
          11.6,
          11.55,
          12.18,
          12.88,
          14.24,
          15.03,
          12.75,
          12.08,
          13.06,
          10.71,
          10.62,
          10.41,
          11.01,
          11.83,
          13.21,
          14.24,
          11.56,
          10.87,
          12.19,
          11.12,
          11.13,
          11.12,
          11.49,
          12.1,
          13.27,
          13.93,
          12.04,
          11.44,
          12.28,
          9.89,
          9.99,
          9.98,
          10.46,
          11.19,
          12.42,
          13.23,
          10.99,
          10.35,
          11.32,
          9.48,
          9.7,
          9.73,
          10.35,
          11.1,
          12.41,
          13.2,
          10.81,
          10.15,
          11.06,
          9.49,
          9.73,
          9.84,
          10.42,
          11.15,
          12.53,
          13.23,
          11.17,
          10.53,
          11.36,
          9.36,
          9.36,
          9.51,
          9.78,
          10.2,
          11.39,
          11.72,
          10.6,
          10.06,
          10.54,
          7.81,
          7.95,
          8.19,
          8.49,
          9.07,
          10.32,
          10.76,
          9.52,
          9.02,
          9.53
         ],
         "xaxis": "x3",
         "y": [
          168,
          298,
          254,
          87,
          49,
          27,
          17,
          8,
          80,
          10,
          176,
          246,
          240,
          77,
          48,
          32,
          20,
          0,
          59,
          8,
          164,
          259,
          212,
          75,
          51,
          25,
          9,
          0,
          67,
          9,
          160,
          299,
          203,
          57,
          53,
          30,
          13,
          7,
          77,
          0,
          161,
          276,
          222,
          56,
          41,
          21,
          16,
          6,
          67,
          4,
          217,
          233,
          239,
          64,
          40,
          32,
          14,
          4,
          57,
          2,
          175,
          234,
          197,
          51,
          42,
          21,
          5,
          1,
          67,
          4,
          210,
          284,
          151,
          43,
          39,
          11,
          8,
          4,
          73,
          7
         ],
         "yaxis": "y3"
        },
        {
         "hovertemplate": "<b>OLS trendline</b><br>asthma_hosp = -29.8708 * PM2_5 + 418.459<br>R<sup>2</sup>=0.228162<br><br>Boroughs=Manhattan<br>PM2_5=%{x}<br>asthma_hosp=%{y} <b>(trend)</b><extra></extra>",
         "legendgroup": "",
         "marker": {
          "symbol": "circle"
         },
         "mode": "lines",
         "name": "",
         "showlegend": false,
         "type": "scatter",
         "x": [
          7.81,
          7.95,
          8.19,
          8.49,
          9.02,
          9.07,
          9.36,
          9.36,
          9.48,
          9.49,
          9.51,
          9.52,
          9.53,
          9.7,
          9.73,
          9.73,
          9.78,
          9.84,
          9.89,
          9.98,
          9.99,
          10.06,
          10.15,
          10.2,
          10.32,
          10.35,
          10.35,
          10.41,
          10.42,
          10.46,
          10.53,
          10.54,
          10.6,
          10.62,
          10.71,
          10.76,
          10.81,
          10.87,
          10.99,
          11.01,
          11.06,
          11.1,
          11.12,
          11.12,
          11.13,
          11.15,
          11.17,
          11.19,
          11.32,
          11.36,
          11.39,
          11.44,
          11.49,
          11.55,
          11.55,
          11.56,
          11.6,
          11.72,
          11.83,
          12.04,
          12.08,
          12.1,
          12.18,
          12.19,
          12.28,
          12.41,
          12.42,
          12.53,
          12.75,
          12.88,
          13.06,
          13.2,
          13.21,
          13.23,
          13.23,
          13.27,
          13.93,
          14.24,
          14.24,
          15.03
         ],
         "xaxis": "x3",
         "y": [
          185.16771192395558,
          180.98580178793,
          173.81681298331478,
          164.85557697754572,
          149.0240600340204,
          147.53052069972557,
          138.86799256081554,
          138.86799256081554,
          135.28349815850788,
          134.9847902916489,
          134.38737455793097,
          134.08866669107204,
          133.78995882421304,
          128.7119250876106,
          127.81580148703364,
          127.81580148703364,
          126.32226215273886,
          124.53001495158503,
          123.0364756172902,
          120.34810481555945,
          120.04939694870052,
          117.9584418806877,
          115.27007107895702,
          113.77653174466218,
          110.19203734235452,
          109.29591374177767,
          109.29591374177767,
          107.50366654062384,
          107.20495867376485,
          106.010127206329,
          103.91917213831624,
          103.62046427145731,
          101.82821707030348,
          101.23080133658556,
          98.54243053485476,
          97.04889120055998,
          95.55535186626508,
          93.76310466511131,
          90.17861026280366,
          89.58119452908574,
          88.0876551947909,
          86.89282372735505,
          86.29540799363713,
          86.29540799363713,
          85.99670012677814,
          85.39928439306021,
          84.80186865934229,
          84.20445292562437,
          80.32125065645772,
          79.12641918902187,
          78.23029558844496,
          76.73675625415012,
          75.24321691985529,
          73.45096971870146,
          73.45096971870146,
          73.15226185184247,
          71.95743038440662,
          68.37293598209902,
          65.08714944665036,
          58.814284242612075,
          57.61945277517617,
          57.02203704145825,
          54.6323741065865,
          54.333666239727506,
          51.64529543799682,
          47.76209316883023,
          47.46338530197124,
          44.177598766522635,
          37.606025695625306,
          33.72282342645866,
          28.34608182299729,
          24.16417168697177,
          23.865463820112723,
          23.2680480863948,
          23.2680480863948,
          22.073216618958952,
          2.3584974062670767,
          -6.901446466360937,
          -6.901446466360937,
          -30.4993679482194
         ],
         "yaxis": "y3"
        },
        {
         "hovertemplate": "Boroughs=Queens<br>PM2_5=%{x}<br>asthma_hosp=%{y}<br>year=%{marker.color}<extra></extra>",
         "legendgroup": "",
         "marker": {
          "color": [
           2009,
           2009,
           2009,
           2009,
           2009,
           2009,
           2009,
           2009,
           2009,
           2009,
           2010,
           2010,
           2010,
           2010,
           2010,
           2010,
           2010,
           2010,
           2010,
           2010,
           2011,
           2011,
           2011,
           2011,
           2011,
           2011,
           2011,
           2011,
           2011,
           2011,
           2012,
           2012,
           2012,
           2012,
           2012,
           2012,
           2012,
           2012,
           2012,
           2012,
           2013,
           2013,
           2013,
           2013,
           2013,
           2013,
           2013,
           2013,
           2013,
           2013,
           2014,
           2014,
           2014,
           2014,
           2014,
           2014,
           2014,
           2014,
           2014,
           2014,
           2015,
           2015,
           2015,
           2015,
           2015,
           2015,
           2015,
           2015,
           2015,
           2015,
           2016,
           2016,
           2016,
           2016,
           2016,
           2016,
           2016,
           2016,
           2016,
           2016
          ],
          "coloraxis": "coloraxis",
          "symbol": "circle"
         },
         "mode": "markers",
         "name": "",
         "orientation": "v",
         "showlegend": false,
         "type": "scatter",
         "x": [
          11.4,
          10.99,
          10.16,
          9.72,
          10.44,
          10,
          9.96,
          9.95,
          9.35,
          8.75,
          10.05,
          9.89,
          9.34,
          8.98,
          9.52,
          9.25,
          9.19,
          9.25,
          8.65,
          7.99,
          11.02,
          10.6,
          10.05,
          9.71,
          9.95,
          9.74,
          9.43,
          9.57,
          9.17,
          8.44,
          9.84,
          9.46,
          8.9,
          8.55,
          8.83,
          8.63,
          8.32,
          8.48,
          8.04,
          7.36,
          9.6,
          9.13,
          8.39,
          8.08,
          8.51,
          8.21,
          8.14,
          8.27,
          7.85,
          7.61,
          9.98,
          9.47,
          8.65,
          8.31,
          8.85,
          8.43,
          8.39,
          8.46,
          8.02,
          7.69,
          9.78,
          9.17,
          8.45,
          8.26,
          8.51,
          8.19,
          8.05,
          8.2,
          7.9,
          7.16,
          8.65,
          8.14,
          7.22,
          6.88,
          7.56,
          7.03,
          7.02,
          6.99,
          6.51,
          5.98
         ],
         "xaxis": "x4",
         "y": [
          79,
          225,
          84,
          34,
          157,
          50,
          269,
          431,
          224,
          185,
          86,
          197,
          89,
          23,
          160,
          46,
          226,
          343,
          173,
          177,
          80,
          187,
          83,
          7,
          149,
          48,
          170,
          267,
          157,
          132,
          70,
          234,
          68,
          31,
          146,
          37,
          218,
          257,
          176,
          86,
          66,
          202,
          82,
          12,
          87,
          49,
          181,
          288,
          158,
          86,
          67,
          249,
          75,
          21,
          109,
          34,
          209,
          276,
          162,
          100,
          47,
          177,
          70,
          19,
          95,
          57,
          183,
          261,
          135,
          86,
          55,
          199,
          79,
          7,
          97,
          51,
          146,
          239,
          115,
          73
         ],
         "yaxis": "y4"
        },
        {
         "hovertemplate": "<b>OLS trendline</b><br>asthma_hosp = 9.85439 * PM2_5 + 45.5151<br>R<sup>2</sup>=0.014922<br><br>Boroughs=Queens<br>PM2_5=%{x}<br>asthma_hosp=%{y} <b>(trend)</b><extra></extra>",
         "legendgroup": "",
         "marker": {
          "symbol": "circle"
         },
         "mode": "lines",
         "name": "",
         "showlegend": false,
         "type": "scatter",
         "x": [
          5.98,
          6.51,
          6.88,
          6.99,
          7.02,
          7.03,
          7.16,
          7.22,
          7.36,
          7.56,
          7.61,
          7.69,
          7.85,
          7.9,
          7.99,
          8.02,
          8.04,
          8.05,
          8.08,
          8.14,
          8.14,
          8.19,
          8.2,
          8.21,
          8.26,
          8.27,
          8.31,
          8.32,
          8.39,
          8.39,
          8.43,
          8.44,
          8.45,
          8.46,
          8.48,
          8.51,
          8.51,
          8.55,
          8.63,
          8.65,
          8.65,
          8.65,
          8.75,
          8.83,
          8.85,
          8.9,
          8.98,
          9.13,
          9.17,
          9.17,
          9.19,
          9.25,
          9.25,
          9.34,
          9.35,
          9.43,
          9.46,
          9.47,
          9.52,
          9.57,
          9.6,
          9.71,
          9.72,
          9.74,
          9.78,
          9.84,
          9.89,
          9.95,
          9.95,
          9.96,
          9.98,
          10,
          10.05,
          10.05,
          10.16,
          10.44,
          10.6,
          10.99,
          11.02,
          11.4
         ],
         "xaxis": "x4",
         "y": [
          104.44435129723652,
          109.6671759036197,
          113.31329874203814,
          114.39728120751391,
          114.6929127890073,
          114.79145664950508,
          116.07252683597642,
          116.66378999896321,
          118.04340404593236,
          120.01428125588825,
          120.50700055837726,
          121.29535144235962,
          122.87205321032434,
          123.36477251281332,
          124.25166725729349,
          124.54729883878687,
          124.74438655978247,
          124.84293042028028,
          125.13856200177364,
          125.72982516476043,
          125.72982516476043,
          126.2225444672494,
          126.32108832774719,
          126.419632188245,
          126.91235149073398,
          127.01089535123177,
          127.40507079322296,
          127.50361465372075,
          128.19342167720532,
          128.19342167720532,
          128.5875971191965,
          128.6861409796943,
          128.78468484019209,
          128.8832287006899,
          129.0803164216855,
          129.37594800317888,
          129.37594800317888,
          129.77012344517007,
          130.55847432915243,
          130.75556205014803,
          130.75556205014803,
          130.75556205014803,
          131.74100065512596,
          132.52935153910835,
          132.72643926010392,
          133.21915856259292,
          134.00750944657528,
          135.48566735404222,
          135.8798427960334,
          135.8798427960334,
          136.07693051702898,
          136.66819368001578,
          136.66819368001578,
          137.55508842449592,
          137.65363228499373,
          138.4419831689761,
          138.73761475046948,
          138.8361586109673,
          139.32887791345624,
          139.82159721594525,
          140.11722879743863,
          141.20121126291437,
          141.29975512341218,
          141.49684284440775,
          141.89101828639895,
          142.4822814493857,
          142.97500075187472,
          143.56626391486148,
          143.56626391486148,
          143.6648077753593,
          143.86189549635486,
          144.05898321735046,
          144.55170251983944,
          144.55170251983944,
          145.63568498531518,
          148.39491307925346,
          149.9716148472182,
          153.81482540663225,
          154.11045698812563,
          157.85512368704187
         ],
         "yaxis": "y4"
        },
        {
         "hovertemplate": "Boroughs=Staten Island<br>PM2_5=%{x}<br>asthma_hosp=%{y}<br>year=%{marker.color}<extra></extra>",
         "legendgroup": "",
         "marker": {
          "color": [
           2009,
           2009,
           2009,
           2009,
           2010,
           2010,
           2010,
           2010,
           2011,
           2011,
           2011,
           2011,
           2012,
           2012,
           2012,
           2012,
           2013,
           2013,
           2013,
           2013,
           2014,
           2014,
           2014,
           2014,
           2015,
           2015,
           2015,
           2015,
           2016,
           2016,
           2016,
           2016
          ],
          "coloraxis": "coloraxis",
          "symbol": "circle"
         },
         "mode": "markers",
         "name": "",
         "orientation": "v",
         "showlegend": false,
         "type": "scatter",
         "x": [
          10.22,
          9.63,
          10.1,
          9.63,
          9.02,
          8.64,
          8.99,
          8.71,
          9.73,
          9.36,
          9.63,
          9.29,
          8.55,
          8.18,
          8.52,
          8.28,
          8.27,
          7.9,
          8.22,
          7.82,
          8.79,
          8.34,
          8.68,
          8.2,
          8.34,
          7.82,
          8.01,
          7.29,
          7.3,
          6.8,
          7.1,
          6.59
         ],
         "xaxis": "x5",
         "y": [
          80,
          78,
          35,
          47,
          56,
          85,
          12,
          43,
          65,
          63,
          18,
          36,
          79,
          65,
          14,
          38,
          64,
          77,
          12,
          39,
          67,
          80,
          11,
          40,
          68,
          59,
          12,
          38,
          83,
          72,
          12,
          36
         ],
         "yaxis": "y5"
        },
        {
         "hovertemplate": "<b>OLS trendline</b><br>asthma_hosp = 1.77486 * PM2_5 + 34.4164<br>R<sup>2</sup>=0.004290<br><br>Boroughs=Staten Island<br>PM2_5=%{x}<br>asthma_hosp=%{y} <b>(trend)</b><extra></extra>",
         "legendgroup": "",
         "marker": {
          "symbol": "circle"
         },
         "mode": "lines",
         "name": "",
         "showlegend": false,
         "type": "scatter",
         "x": [
          6.59,
          6.8,
          7.1,
          7.29,
          7.3,
          7.82,
          7.82,
          7.9,
          8.01,
          8.18,
          8.2,
          8.22,
          8.27,
          8.28,
          8.34,
          8.34,
          8.52,
          8.55,
          8.64,
          8.68,
          8.71,
          8.79,
          8.99,
          9.02,
          9.29,
          9.36,
          9.63,
          9.63,
          9.63,
          9.73,
          10.1,
          10.22
         ],
         "xaxis": "x5",
         "y": [
          46.11278343247947,
          46.48550482323987,
          47.01796395289759,
          47.35518806834748,
          47.37293670600274,
          48.29586586407612,
          48.29586586407612,
          48.43785496531818,
          48.63308997952601,
          48.934816819665386,
          48.9703140949759,
          49.005811370286416,
          49.0945545585627,
          49.11230319621796,
          49.2187950221495,
          49.2187950221495,
          49.53827049994413,
          49.59151641290991,
          49.751254151807224,
          49.822248702428254,
          49.875494615394025,
          50.01748371663608,
          50.37245646974123,
          50.425702382707,
          50.90491559939895,
          51.02915606298575,
          51.5083692796777,
          51.5083692796777,
          51.5083692796777,
          51.685855656230274,
          52.3425552494748,
          52.55553890133788
         ],
         "yaxis": "y5"
        }
       ],
       "layout": {
        "annotations": [
         {
          "font": {},
          "showarrow": false,
          "text": "Boroughs=Bronx",
          "x": 0.09200000000000001,
          "xanchor": "center",
          "xref": "paper",
          "y": 1,
          "yanchor": "bottom",
          "yref": "paper"
         },
         {
          "font": {},
          "showarrow": false,
          "text": "Boroughs=Brooklyn",
          "x": 0.29600000000000004,
          "xanchor": "center",
          "xref": "paper",
          "y": 1,
          "yanchor": "bottom",
          "yref": "paper"
         },
         {
          "font": {},
          "showarrow": false,
          "text": "Boroughs=Manhattan",
          "x": 0.5,
          "xanchor": "center",
          "xref": "paper",
          "y": 1,
          "yanchor": "bottom",
          "yref": "paper"
         },
         {
          "font": {},
          "showarrow": false,
          "text": "Boroughs=Queens",
          "x": 0.7040000000000002,
          "xanchor": "center",
          "xref": "paper",
          "y": 1,
          "yanchor": "bottom",
          "yref": "paper"
         },
         {
          "font": {},
          "showarrow": false,
          "text": "Boroughs=Staten Island",
          "x": 0.908,
          "xanchor": "center",
          "xref": "paper",
          "y": 1,
          "yanchor": "bottom",
          "yref": "paper"
         }
        ],
        "coloraxis": {
         "colorbar": {
          "title": {
           "text": "year"
          }
         },
         "colorscale": [
          [
           0,
           "#0d0887"
          ],
          [
           0.1111111111111111,
           "#46039f"
          ],
          [
           0.2222222222222222,
           "#7201a8"
          ],
          [
           0.3333333333333333,
           "#9c179e"
          ],
          [
           0.4444444444444444,
           "#bd3786"
          ],
          [
           0.5555555555555556,
           "#d8576b"
          ],
          [
           0.6666666666666666,
           "#ed7953"
          ],
          [
           0.7777777777777778,
           "#fb9f3a"
          ],
          [
           0.8888888888888888,
           "#fdca26"
          ],
          [
           1,
           "#f0f921"
          ]
         ]
        },
        "legend": {
         "tracegroupgap": 0
        },
        "margin": {
         "t": 60
        },
        "template": {
         "data": {
          "bar": [
           {
            "error_x": {
             "color": "#2a3f5f"
            },
            "error_y": {
             "color": "#2a3f5f"
            },
            "marker": {
             "line": {
              "color": "#E5ECF6",
              "width": 0.5
             },
             "pattern": {
              "fillmode": "overlay",
              "size": 10,
              "solidity": 0.2
             }
            },
            "type": "bar"
           }
          ],
          "barpolar": [
           {
            "marker": {
             "line": {
              "color": "#E5ECF6",
              "width": 0.5
             },
             "pattern": {
              "fillmode": "overlay",
              "size": 10,
              "solidity": 0.2
             }
            },
            "type": "barpolar"
           }
          ],
          "carpet": [
           {
            "aaxis": {
             "endlinecolor": "#2a3f5f",
             "gridcolor": "white",
             "linecolor": "white",
             "minorgridcolor": "white",
             "startlinecolor": "#2a3f5f"
            },
            "baxis": {
             "endlinecolor": "#2a3f5f",
             "gridcolor": "white",
             "linecolor": "white",
             "minorgridcolor": "white",
             "startlinecolor": "#2a3f5f"
            },
            "type": "carpet"
           }
          ],
          "choropleth": [
           {
            "colorbar": {
             "outlinewidth": 0,
             "ticks": ""
            },
            "type": "choropleth"
           }
          ],
          "contour": [
           {
            "colorbar": {
             "outlinewidth": 0,
             "ticks": ""
            },
            "colorscale": [
             [
              0,
              "#0d0887"
             ],
             [
              0.1111111111111111,
              "#46039f"
             ],
             [
              0.2222222222222222,
              "#7201a8"
             ],
             [
              0.3333333333333333,
              "#9c179e"
             ],
             [
              0.4444444444444444,
              "#bd3786"
             ],
             [
              0.5555555555555556,
              "#d8576b"
             ],
             [
              0.6666666666666666,
              "#ed7953"
             ],
             [
              0.7777777777777778,
              "#fb9f3a"
             ],
             [
              0.8888888888888888,
              "#fdca26"
             ],
             [
              1,
              "#f0f921"
             ]
            ],
            "type": "contour"
           }
          ],
          "contourcarpet": [
           {
            "colorbar": {
             "outlinewidth": 0,
             "ticks": ""
            },
            "type": "contourcarpet"
           }
          ],
          "heatmap": [
           {
            "colorbar": {
             "outlinewidth": 0,
             "ticks": ""
            },
            "colorscale": [
             [
              0,
              "#0d0887"
             ],
             [
              0.1111111111111111,
              "#46039f"
             ],
             [
              0.2222222222222222,
              "#7201a8"
             ],
             [
              0.3333333333333333,
              "#9c179e"
             ],
             [
              0.4444444444444444,
              "#bd3786"
             ],
             [
              0.5555555555555556,
              "#d8576b"
             ],
             [
              0.6666666666666666,
              "#ed7953"
             ],
             [
              0.7777777777777778,
              "#fb9f3a"
             ],
             [
              0.8888888888888888,
              "#fdca26"
             ],
             [
              1,
              "#f0f921"
             ]
            ],
            "type": "heatmap"
           }
          ],
          "heatmapgl": [
           {
            "colorbar": {
             "outlinewidth": 0,
             "ticks": ""
            },
            "colorscale": [
             [
              0,
              "#0d0887"
             ],
             [
              0.1111111111111111,
              "#46039f"
             ],
             [
              0.2222222222222222,
              "#7201a8"
             ],
             [
              0.3333333333333333,
              "#9c179e"
             ],
             [
              0.4444444444444444,
              "#bd3786"
             ],
             [
              0.5555555555555556,
              "#d8576b"
             ],
             [
              0.6666666666666666,
              "#ed7953"
             ],
             [
              0.7777777777777778,
              "#fb9f3a"
             ],
             [
              0.8888888888888888,
              "#fdca26"
             ],
             [
              1,
              "#f0f921"
             ]
            ],
            "type": "heatmapgl"
           }
          ],
          "histogram": [
           {
            "marker": {
             "pattern": {
              "fillmode": "overlay",
              "size": 10,
              "solidity": 0.2
             }
            },
            "type": "histogram"
           }
          ],
          "histogram2d": [
           {
            "colorbar": {
             "outlinewidth": 0,
             "ticks": ""
            },
            "colorscale": [
             [
              0,
              "#0d0887"
             ],
             [
              0.1111111111111111,
              "#46039f"
             ],
             [
              0.2222222222222222,
              "#7201a8"
             ],
             [
              0.3333333333333333,
              "#9c179e"
             ],
             [
              0.4444444444444444,
              "#bd3786"
             ],
             [
              0.5555555555555556,
              "#d8576b"
             ],
             [
              0.6666666666666666,
              "#ed7953"
             ],
             [
              0.7777777777777778,
              "#fb9f3a"
             ],
             [
              0.8888888888888888,
              "#fdca26"
             ],
             [
              1,
              "#f0f921"
             ]
            ],
            "type": "histogram2d"
           }
          ],
          "histogram2dcontour": [
           {
            "colorbar": {
             "outlinewidth": 0,
             "ticks": ""
            },
            "colorscale": [
             [
              0,
              "#0d0887"
             ],
             [
              0.1111111111111111,
              "#46039f"
             ],
             [
              0.2222222222222222,
              "#7201a8"
             ],
             [
              0.3333333333333333,
              "#9c179e"
             ],
             [
              0.4444444444444444,
              "#bd3786"
             ],
             [
              0.5555555555555556,
              "#d8576b"
             ],
             [
              0.6666666666666666,
              "#ed7953"
             ],
             [
              0.7777777777777778,
              "#fb9f3a"
             ],
             [
              0.8888888888888888,
              "#fdca26"
             ],
             [
              1,
              "#f0f921"
             ]
            ],
            "type": "histogram2dcontour"
           }
          ],
          "mesh3d": [
           {
            "colorbar": {
             "outlinewidth": 0,
             "ticks": ""
            },
            "type": "mesh3d"
           }
          ],
          "parcoords": [
           {
            "line": {
             "colorbar": {
              "outlinewidth": 0,
              "ticks": ""
             }
            },
            "type": "parcoords"
           }
          ],
          "pie": [
           {
            "automargin": true,
            "type": "pie"
           }
          ],
          "scatter": [
           {
            "marker": {
             "colorbar": {
              "outlinewidth": 0,
              "ticks": ""
             }
            },
            "type": "scatter"
           }
          ],
          "scatter3d": [
           {
            "line": {
             "colorbar": {
              "outlinewidth": 0,
              "ticks": ""
             }
            },
            "marker": {
             "colorbar": {
              "outlinewidth": 0,
              "ticks": ""
             }
            },
            "type": "scatter3d"
           }
          ],
          "scattercarpet": [
           {
            "marker": {
             "colorbar": {
              "outlinewidth": 0,
              "ticks": ""
             }
            },
            "type": "scattercarpet"
           }
          ],
          "scattergeo": [
           {
            "marker": {
             "colorbar": {
              "outlinewidth": 0,
              "ticks": ""
             }
            },
            "type": "scattergeo"
           }
          ],
          "scattergl": [
           {
            "marker": {
             "colorbar": {
              "outlinewidth": 0,
              "ticks": ""
             }
            },
            "type": "scattergl"
           }
          ],
          "scattermapbox": [
           {
            "marker": {
             "colorbar": {
              "outlinewidth": 0,
              "ticks": ""
             }
            },
            "type": "scattermapbox"
           }
          ],
          "scatterpolar": [
           {
            "marker": {
             "colorbar": {
              "outlinewidth": 0,
              "ticks": ""
             }
            },
            "type": "scatterpolar"
           }
          ],
          "scatterpolargl": [
           {
            "marker": {
             "colorbar": {
              "outlinewidth": 0,
              "ticks": ""
             }
            },
            "type": "scatterpolargl"
           }
          ],
          "scatterternary": [
           {
            "marker": {
             "colorbar": {
              "outlinewidth": 0,
              "ticks": ""
             }
            },
            "type": "scatterternary"
           }
          ],
          "surface": [
           {
            "colorbar": {
             "outlinewidth": 0,
             "ticks": ""
            },
            "colorscale": [
             [
              0,
              "#0d0887"
             ],
             [
              0.1111111111111111,
              "#46039f"
             ],
             [
              0.2222222222222222,
              "#7201a8"
             ],
             [
              0.3333333333333333,
              "#9c179e"
             ],
             [
              0.4444444444444444,
              "#bd3786"
             ],
             [
              0.5555555555555556,
              "#d8576b"
             ],
             [
              0.6666666666666666,
              "#ed7953"
             ],
             [
              0.7777777777777778,
              "#fb9f3a"
             ],
             [
              0.8888888888888888,
              "#fdca26"
             ],
             [
              1,
              "#f0f921"
             ]
            ],
            "type": "surface"
           }
          ],
          "table": [
           {
            "cells": {
             "fill": {
              "color": "#EBF0F8"
             },
             "line": {
              "color": "white"
             }
            },
            "header": {
             "fill": {
              "color": "#C8D4E3"
             },
             "line": {
              "color": "white"
             }
            },
            "type": "table"
           }
          ]
         },
         "layout": {
          "annotationdefaults": {
           "arrowcolor": "#2a3f5f",
           "arrowhead": 0,
           "arrowwidth": 1
          },
          "autotypenumbers": "strict",
          "coloraxis": {
           "colorbar": {
            "outlinewidth": 0,
            "ticks": ""
           }
          },
          "colorscale": {
           "diverging": [
            [
             0,
             "#8e0152"
            ],
            [
             0.1,
             "#c51b7d"
            ],
            [
             0.2,
             "#de77ae"
            ],
            [
             0.3,
             "#f1b6da"
            ],
            [
             0.4,
             "#fde0ef"
            ],
            [
             0.5,
             "#f7f7f7"
            ],
            [
             0.6,
             "#e6f5d0"
            ],
            [
             0.7,
             "#b8e186"
            ],
            [
             0.8,
             "#7fbc41"
            ],
            [
             0.9,
             "#4d9221"
            ],
            [
             1,
             "#276419"
            ]
           ],
           "sequential": [
            [
             0,
             "#0d0887"
            ],
            [
             0.1111111111111111,
             "#46039f"
            ],
            [
             0.2222222222222222,
             "#7201a8"
            ],
            [
             0.3333333333333333,
             "#9c179e"
            ],
            [
             0.4444444444444444,
             "#bd3786"
            ],
            [
             0.5555555555555556,
             "#d8576b"
            ],
            [
             0.6666666666666666,
             "#ed7953"
            ],
            [
             0.7777777777777778,
             "#fb9f3a"
            ],
            [
             0.8888888888888888,
             "#fdca26"
            ],
            [
             1,
             "#f0f921"
            ]
           ],
           "sequentialminus": [
            [
             0,
             "#0d0887"
            ],
            [
             0.1111111111111111,
             "#46039f"
            ],
            [
             0.2222222222222222,
             "#7201a8"
            ],
            [
             0.3333333333333333,
             "#9c179e"
            ],
            [
             0.4444444444444444,
             "#bd3786"
            ],
            [
             0.5555555555555556,
             "#d8576b"
            ],
            [
             0.6666666666666666,
             "#ed7953"
            ],
            [
             0.7777777777777778,
             "#fb9f3a"
            ],
            [
             0.8888888888888888,
             "#fdca26"
            ],
            [
             1,
             "#f0f921"
            ]
           ]
          },
          "colorway": [
           "#636efa",
           "#EF553B",
           "#00cc96",
           "#ab63fa",
           "#FFA15A",
           "#19d3f3",
           "#FF6692",
           "#B6E880",
           "#FF97FF",
           "#FECB52"
          ],
          "font": {
           "color": "#2a3f5f"
          },
          "geo": {
           "bgcolor": "white",
           "lakecolor": "white",
           "landcolor": "#E5ECF6",
           "showlakes": true,
           "showland": true,
           "subunitcolor": "white"
          },
          "hoverlabel": {
           "align": "left"
          },
          "hovermode": "closest",
          "mapbox": {
           "style": "light"
          },
          "paper_bgcolor": "white",
          "plot_bgcolor": "#E5ECF6",
          "polar": {
           "angularaxis": {
            "gridcolor": "white",
            "linecolor": "white",
            "ticks": ""
           },
           "bgcolor": "#E5ECF6",
           "radialaxis": {
            "gridcolor": "white",
            "linecolor": "white",
            "ticks": ""
           }
          },
          "scene": {
           "xaxis": {
            "backgroundcolor": "#E5ECF6",
            "gridcolor": "white",
            "gridwidth": 2,
            "linecolor": "white",
            "showbackground": true,
            "ticks": "",
            "zerolinecolor": "white"
           },
           "yaxis": {
            "backgroundcolor": "#E5ECF6",
            "gridcolor": "white",
            "gridwidth": 2,
            "linecolor": "white",
            "showbackground": true,
            "ticks": "",
            "zerolinecolor": "white"
           },
           "zaxis": {
            "backgroundcolor": "#E5ECF6",
            "gridcolor": "white",
            "gridwidth": 2,
            "linecolor": "white",
            "showbackground": true,
            "ticks": "",
            "zerolinecolor": "white"
           }
          },
          "shapedefaults": {
           "line": {
            "color": "#2a3f5f"
           }
          },
          "ternary": {
           "aaxis": {
            "gridcolor": "white",
            "linecolor": "white",
            "ticks": ""
           },
           "baxis": {
            "gridcolor": "white",
            "linecolor": "white",
            "ticks": ""
           },
           "bgcolor": "#E5ECF6",
           "caxis": {
            "gridcolor": "white",
            "linecolor": "white",
            "ticks": ""
           }
          },
          "title": {
           "x": 0.05
          },
          "xaxis": {
           "automargin": true,
           "gridcolor": "white",
           "linecolor": "white",
           "ticks": "",
           "title": {
            "standoff": 15
           },
           "zerolinecolor": "white",
           "zerolinewidth": 2
          },
          "yaxis": {
           "automargin": true,
           "gridcolor": "white",
           "linecolor": "white",
           "ticks": "",
           "title": {
            "standoff": 15
           },
           "zerolinecolor": "white",
           "zerolinewidth": 2
          }
         }
        },
        "xaxis": {
         "anchor": "y",
         "domain": [
          0,
          0.18400000000000002
         ],
         "title": {
          "text": "PM2_5"
         }
        },
        "xaxis2": {
         "anchor": "y2",
         "domain": [
          0.20400000000000001,
          0.388
         ],
         "matches": "x",
         "title": {
          "text": "PM2_5"
         }
        },
        "xaxis3": {
         "anchor": "y3",
         "domain": [
          0.40800000000000003,
          0.5920000000000001
         ],
         "matches": "x",
         "title": {
          "text": "PM2_5"
         }
        },
        "xaxis4": {
         "anchor": "y4",
         "domain": [
          0.6120000000000001,
          0.7960000000000002
         ],
         "matches": "x",
         "title": {
          "text": "PM2_5"
         }
        },
        "xaxis5": {
         "anchor": "y5",
         "domain": [
          0.8160000000000001,
          1
         ],
         "matches": "x",
         "title": {
          "text": "PM2_5"
         }
        },
        "yaxis": {
         "anchor": "x",
         "domain": [
          0,
          1
         ],
         "title": {
          "text": "asthma_hosp"
         }
        },
        "yaxis2": {
         "anchor": "x2",
         "domain": [
          0,
          1
         ],
         "matches": "y",
         "showticklabels": false
        },
        "yaxis3": {
         "anchor": "x3",
         "domain": [
          0,
          1
         ],
         "matches": "y",
         "showticklabels": false
        },
        "yaxis4": {
         "anchor": "x4",
         "domain": [
          0,
          1
         ],
         "matches": "y",
         "showticklabels": false
        },
        "yaxis5": {
         "anchor": "x5",
         "domain": [
          0,
          1
         ],
         "matches": "y",
         "showticklabels": false
        }
       }
      },
      "text/html": [
       "<div>                            <div id=\"ce3ed4e3-8d93-40ad-95f9-26db63eed131\" class=\"plotly-graph-div\" style=\"height:525px; width:100%;\"></div>            <script type=\"text/javascript\">                require([\"plotly\"], function(Plotly) {                    window.PLOTLYENV=window.PLOTLYENV || {};                                    if (document.getElementById(\"ce3ed4e3-8d93-40ad-95f9-26db63eed131\")) {                    Plotly.newPlot(                        \"ce3ed4e3-8d93-40ad-95f9-26db63eed131\",                        [{\"hovertemplate\":\"Boroughs=Bronx<br>PM2_5=%{x}<br>asthma_hosp=%{y}<br>year=%{marker.color}<extra></extra>\",\"legendgroup\":\"\",\"marker\":{\"color\":[2009,2009,2009,2009,2009,2009,2009,2010,2010,2010,2010,2010,2010,2010,2011,2011,2011,2011,2011,2011,2011,2012,2012,2012,2012,2012,2012,2012,2013,2013,2013,2013,2013,2013,2013,2014,2014,2014,2014,2014,2014,2014,2015,2015,2015,2015,2015,2015,2015,2016,2016,2016,2016,2016,2016,2016],\"coloraxis\":\"coloraxis\",\"symbol\":\"circle\"},\"mode\":\"markers\",\"name\":\"\",\"orientation\":\"v\",\"showlegend\":false,\"x\":[11.03,10.68,11.1,10.59,11.76,11.8,11.45,10.09,9.65,10.26,9.68,10.99,11.0,10.48,10.65,10.48,10.77,10.5,11.45,11.44,11.24,9.27,9.11,9.47,9.23,10.22,10.26,10.02,8.88,8.73,9.06,8.74,9.75,9.83,9.57,9.0,9.0,9.19,8.97,9.82,9.87,9.75,9.17,9.13,9.14,8.93,9.67,9.6,9.62,7.5,7.55,7.57,7.5,8.18,8.16,8.26],\"xaxis\":\"x\",\"y\":[61,282,693,588,631,657,504,74,285,563,491,552,505,435,65,303,528,552,529,533,457,67,320,559,609,524,571,501,72,319,589,515,559,627,453,71,324,648,521,567,624,478,60,268,548,523,463,574,431,53,265,545,441,427,565,361],\"yaxis\":\"y\",\"type\":\"scatter\"},{\"hovertemplate\":\"<b>OLS trendline</b><br>asthma_hosp = 43.2602 * PM2_5 + 13.5963<br>R<sup>2</sup>=0.067301<br><br>Boroughs=Bronx<br>PM2_5=%{x}<br>asthma_hosp=%{y} <b>(trend)</b><extra></extra>\",\"legendgroup\":\"\",\"marker\":{\"symbol\":\"circle\"},\"mode\":\"lines\",\"name\":\"\",\"showlegend\":false,\"x\":[7.5,7.5,7.55,7.57,8.16,8.18,8.26,8.73,8.74,8.88,8.93,8.97,9.0,9.0,9.06,9.11,9.13,9.14,9.17,9.19,9.23,9.27,9.47,9.57,9.6,9.62,9.65,9.67,9.68,9.75,9.75,9.82,9.83,9.87,10.02,10.09,10.22,10.26,10.26,10.48,10.48,10.5,10.59,10.65,10.68,10.77,10.99,11.0,11.03,11.1,11.24,11.44,11.45,11.45,11.76,11.8],\"xaxis\":\"x\",\"y\":[338.04804365841767,338.04804365841767,340.2110552581007,341.07625989797384,366.5997967742328,367.4650014141059,370.92581997359866,391.2581290106185,391.6907313305551,397.7471638096674,399.91017540935024,401.6405846890967,402.9383916489064,402.9383916489064,405.534005568526,407.69701716820896,408.5622218080822,408.99482412801876,410.29263108782845,411.1578357277017,412.88824500744806,414.61865428719443,423.2707006859263,427.59672388529214,428.89453084510194,429.75973548497507,431.0575424447849,431.9227470846581,432.3553494045947,435.38356564415085,435.38356564415085,438.411781883707,438.8443842036436,440.57479348338984,447.06382828243875,450.0920445219949,455.7158746811707,457.44628396091696,457.44628396091696,466.96353499952204,466.96353499952204,467.82873963939517,471.72216051882447,474.3177744384441,475.61558139825377,479.5090022776832,489.02625331628815,489.4588556362247,490.7566625960345,493.7848788355907,499.8413113147029,508.49335771343476,508.9259600333713,508.9259600333713,522.3366319514057,524.0670412311521],\"yaxis\":\"y\",\"type\":\"scatter\"},{\"hovertemplate\":\"Boroughs=Brooklyn<br>PM2_5=%{x}<br>asthma_hosp=%{y}<br>year=%{marker.color}<extra></extra>\",\"legendgroup\":\"\",\"marker\":{\"color\":[2009,2009,2009,2009,2009,2009,2009,2009,2009,2009,2009,2010,2010,2010,2010,2010,2010,2010,2010,2010,2010,2010,2011,2011,2011,2011,2011,2011,2011,2011,2011,2011,2011,2012,2012,2012,2012,2012,2012,2012,2012,2012,2012,2012,2013,2013,2013,2013,2013,2013,2013,2013,2013,2013,2013,2014,2014,2014,2014,2014,2014,2014,2014,2014,2014,2014,2015,2015,2015,2015,2015,2015,2015,2015,2015,2015,2015,2016,2016,2016,2016,2016,2016,2016,2016,2016,2016,2016],\"coloraxis\":\"coloraxis\",\"symbol\":\"circle\"},\"mode\":\"markers\",\"name\":\"\",\"orientation\":\"v\",\"showlegend\":false,\"x\":[11.93,11.5,10.75,10.6,11.04,10.27,10.47,9.85,9.91,9.55,11.36,10.57,10.49,9.93,9.79,10.21,9.61,9.8,9.12,9.18,8.89,10.33,11.51,11.14,10.29,10.09,10.84,10.07,10.15,9.55,9.78,9.44,10.88,10.27,9.9,9.13,8.94,9.59,8.89,8.98,8.37,8.6,8.3,9.7,10.0,9.46,8.75,8.69,9.12,8.49,8.6,8.18,8.24,8.11,9.36,10.54,9.99,9.16,9.04,9.63,8.87,8.97,8.48,8.62,8.37,9.84,10.49,9.89,8.87,8.72,9.45,8.44,8.59,8.1,8.13,7.72,9.61,9.46,8.86,7.94,7.8,8.4,7.45,7.64,7.12,7.11,6.75,8.67],\"xaxis\":\"x2\",\"y\":[88,176,645,376,62,97,446,195,34,101,503,48,135,559,348,56,64,361,160,20,90,402,43,176,582,313,64,103,361,176,42,67,387,34,171,591,329,57,90,387,191,44,85,387,26,130,581,346,63,70,409,191,30,74,292,46,121,607,366,54,73,460,159,17,82,292,27,114,506,349,37,75,413,179,27,58,219,26,112,473,361,33,72,364,172,30,84,240],\"yaxis\":\"y2\",\"type\":\"scatter\"},{\"hovertemplate\":\"<b>OLS trendline</b><br>asthma_hosp = 11.6459 * PM2_5 + 96.7974<br>R<sup>2</sup>=0.005011<br><br>Boroughs=Brooklyn<br>PM2_5=%{x}<br>asthma_hosp=%{y} <b>(trend)</b><extra></extra>\",\"legendgroup\":\"\",\"marker\":{\"symbol\":\"circle\"},\"mode\":\"lines\",\"name\":\"\",\"showlegend\":false,\"x\":[6.75,7.11,7.12,7.45,7.64,7.72,7.8,7.94,8.1,8.11,8.13,8.18,8.24,8.3,8.37,8.37,8.4,8.44,8.48,8.49,8.59,8.6,8.6,8.62,8.67,8.69,8.72,8.75,8.86,8.87,8.87,8.89,8.89,8.94,8.97,8.98,9.04,9.12,9.12,9.13,9.16,9.18,9.36,9.44,9.45,9.46,9.46,9.55,9.55,9.59,9.61,9.61,9.63,9.7,9.78,9.79,9.8,9.84,9.85,9.89,9.9,9.91,9.93,9.99,10.0,10.07,10.09,10.15,10.21,10.27,10.27,10.29,10.33,10.47,10.49,10.49,10.54,10.57,10.6,10.75,10.84,10.88,11.04,11.14,11.36,11.5,11.51,11.93],\"xaxis\":\"x2\",\"y\":[175.40715713651687,179.59967834165968,179.71613726402478,183.55928170207235,185.77200122700884,186.70367260592946,187.6353439848501,189.2657688979612,191.12911165580243,191.24557057816753,191.4784884228977,192.06078303472307,192.75953656891355,193.45829010310405,194.27350255965956,194.27350255965956,194.6228793267548,195.0887150162151,195.55455070567544,195.6710096280405,196.8355988516913,196.95205777405636,196.95205777405636,197.1849756187865,197.76727023061193,198.00018807534207,198.3495648424373,198.69894160953254,199.9799897555484,200.0964486779135,200.0964486779135,200.32936652264365,200.32936652264365,200.91166113446903,201.2610379015643,201.37749682392933,202.0762503581198,203.00792173704042,203.00792173704042,203.12438065940552,203.47375742650075,203.7066752712309,205.8029358738023,206.73460725272292,206.85106617508802,206.96752509745312,206.96752509745312,208.01565539873883,208.01565539873883,208.4814910881991,208.71440893292927,208.71440893292927,208.94732677765944,209.76253923421498,210.69421061313562,210.81066953550067,210.92712845786576,211.3929641473261,211.50942306969114,211.97525875915147,212.09171768151657,212.20817660388164,212.4410944486118,213.13984798280228,213.25630690516732,214.0715193617229,214.30443720645303,215.0031907406435,215.70194427483398,216.40069780902445,216.40069780902445,216.6336156537546,217.09945134321492,218.729876256326,218.96279410105618,218.96279410105618,219.54508871288158,219.89446547997682,220.24384224707205,221.99072608254824,223.03885638383392,223.50469207329422,225.36803483113547,226.53262405478628,229.09472034681798,230.7251452599291,230.84160418229416,235.73287892162745],\"yaxis\":\"y2\",\"type\":\"scatter\"},{\"hovertemplate\":\"Boroughs=Manhattan<br>PM2_5=%{x}<br>asthma_hosp=%{y}<br>year=%{marker.color}<extra></extra>\",\"legendgroup\":\"\",\"marker\":{\"color\":[2009,2009,2009,2009,2009,2009,2009,2009,2009,2009,2010,2010,2010,2010,2010,2010,2010,2010,2010,2010,2011,2011,2011,2011,2011,2011,2011,2011,2011,2011,2012,2012,2012,2012,2012,2012,2012,2012,2012,2012,2013,2013,2013,2013,2013,2013,2013,2013,2013,2013,2014,2014,2014,2014,2014,2014,2014,2014,2014,2014,2015,2015,2015,2015,2015,2015,2015,2015,2015,2015,2016,2016,2016,2016,2016,2016,2016,2016,2016,2016],\"coloraxis\":\"coloraxis\",\"symbol\":\"circle\"},\"mode\":\"markers\",\"name\":\"\",\"orientation\":\"v\",\"showlegend\":false,\"x\":[11.55,11.6,11.55,12.18,12.88,14.24,15.03,12.75,12.08,13.06,10.71,10.62,10.41,11.01,11.83,13.21,14.24,11.56,10.87,12.19,11.12,11.13,11.12,11.49,12.1,13.27,13.93,12.04,11.44,12.28,9.89,9.99,9.98,10.46,11.19,12.42,13.23,10.99,10.35,11.32,9.48,9.7,9.73,10.35,11.1,12.41,13.2,10.81,10.15,11.06,9.49,9.73,9.84,10.42,11.15,12.53,13.23,11.17,10.53,11.36,9.36,9.36,9.51,9.78,10.2,11.39,11.72,10.6,10.06,10.54,7.81,7.95,8.19,8.49,9.07,10.32,10.76,9.52,9.02,9.53],\"xaxis\":\"x3\",\"y\":[168,298,254,87,49,27,17,8,80,10,176,246,240,77,48,32,20,0,59,8,164,259,212,75,51,25,9,0,67,9,160,299,203,57,53,30,13,7,77,0,161,276,222,56,41,21,16,6,67,4,217,233,239,64,40,32,14,4,57,2,175,234,197,51,42,21,5,1,67,4,210,284,151,43,39,11,8,4,73,7],\"yaxis\":\"y3\",\"type\":\"scatter\"},{\"hovertemplate\":\"<b>OLS trendline</b><br>asthma_hosp = -29.8708 * PM2_5 + 418.459<br>R<sup>2</sup>=0.228162<br><br>Boroughs=Manhattan<br>PM2_5=%{x}<br>asthma_hosp=%{y} <b>(trend)</b><extra></extra>\",\"legendgroup\":\"\",\"marker\":{\"symbol\":\"circle\"},\"mode\":\"lines\",\"name\":\"\",\"showlegend\":false,\"x\":[7.81,7.95,8.19,8.49,9.02,9.07,9.36,9.36,9.48,9.49,9.51,9.52,9.53,9.7,9.73,9.73,9.78,9.84,9.89,9.98,9.99,10.06,10.15,10.2,10.32,10.35,10.35,10.41,10.42,10.46,10.53,10.54,10.6,10.62,10.71,10.76,10.81,10.87,10.99,11.01,11.06,11.1,11.12,11.12,11.13,11.15,11.17,11.19,11.32,11.36,11.39,11.44,11.49,11.55,11.55,11.56,11.6,11.72,11.83,12.04,12.08,12.1,12.18,12.19,12.28,12.41,12.42,12.53,12.75,12.88,13.06,13.2,13.21,13.23,13.23,13.27,13.93,14.24,14.24,15.03],\"xaxis\":\"x3\",\"y\":[185.16771192395558,180.98580178793,173.81681298331478,164.85557697754572,149.0240600340204,147.53052069972557,138.86799256081554,138.86799256081554,135.28349815850788,134.9847902916489,134.38737455793097,134.08866669107204,133.78995882421304,128.7119250876106,127.81580148703364,127.81580148703364,126.32226215273886,124.53001495158503,123.0364756172902,120.34810481555945,120.04939694870052,117.9584418806877,115.27007107895702,113.77653174466218,110.19203734235452,109.29591374177767,109.29591374177767,107.50366654062384,107.20495867376485,106.010127206329,103.91917213831624,103.62046427145731,101.82821707030348,101.23080133658556,98.54243053485476,97.04889120055998,95.55535186626508,93.76310466511131,90.17861026280366,89.58119452908574,88.0876551947909,86.89282372735505,86.29540799363713,86.29540799363713,85.99670012677814,85.39928439306021,84.80186865934229,84.20445292562437,80.32125065645772,79.12641918902187,78.23029558844496,76.73675625415012,75.24321691985529,73.45096971870146,73.45096971870146,73.15226185184247,71.95743038440662,68.37293598209902,65.08714944665036,58.814284242612075,57.61945277517617,57.02203704145825,54.6323741065865,54.333666239727506,51.64529543799682,47.76209316883023,47.46338530197124,44.177598766522635,37.606025695625306,33.72282342645866,28.34608182299729,24.16417168697177,23.865463820112723,23.2680480863948,23.2680480863948,22.073216618958952,2.3584974062670767,-6.901446466360937,-6.901446466360937,-30.4993679482194],\"yaxis\":\"y3\",\"type\":\"scatter\"},{\"hovertemplate\":\"Boroughs=Queens<br>PM2_5=%{x}<br>asthma_hosp=%{y}<br>year=%{marker.color}<extra></extra>\",\"legendgroup\":\"\",\"marker\":{\"color\":[2009,2009,2009,2009,2009,2009,2009,2009,2009,2009,2010,2010,2010,2010,2010,2010,2010,2010,2010,2010,2011,2011,2011,2011,2011,2011,2011,2011,2011,2011,2012,2012,2012,2012,2012,2012,2012,2012,2012,2012,2013,2013,2013,2013,2013,2013,2013,2013,2013,2013,2014,2014,2014,2014,2014,2014,2014,2014,2014,2014,2015,2015,2015,2015,2015,2015,2015,2015,2015,2015,2016,2016,2016,2016,2016,2016,2016,2016,2016,2016],\"coloraxis\":\"coloraxis\",\"symbol\":\"circle\"},\"mode\":\"markers\",\"name\":\"\",\"orientation\":\"v\",\"showlegend\":false,\"x\":[11.4,10.99,10.16,9.72,10.44,10.0,9.96,9.95,9.35,8.75,10.05,9.89,9.34,8.98,9.52,9.25,9.19,9.25,8.65,7.99,11.02,10.6,10.05,9.71,9.95,9.74,9.43,9.57,9.17,8.44,9.84,9.46,8.9,8.55,8.83,8.63,8.32,8.48,8.04,7.36,9.6,9.13,8.39,8.08,8.51,8.21,8.14,8.27,7.85,7.61,9.98,9.47,8.65,8.31,8.85,8.43,8.39,8.46,8.02,7.69,9.78,9.17,8.45,8.26,8.51,8.19,8.05,8.2,7.9,7.16,8.65,8.14,7.22,6.88,7.56,7.03,7.02,6.99,6.51,5.98],\"xaxis\":\"x4\",\"y\":[79,225,84,34,157,50,269,431,224,185,86,197,89,23,160,46,226,343,173,177,80,187,83,7,149,48,170,267,157,132,70,234,68,31,146,37,218,257,176,86,66,202,82,12,87,49,181,288,158,86,67,249,75,21,109,34,209,276,162,100,47,177,70,19,95,57,183,261,135,86,55,199,79,7,97,51,146,239,115,73],\"yaxis\":\"y4\",\"type\":\"scatter\"},{\"hovertemplate\":\"<b>OLS trendline</b><br>asthma_hosp = 9.85439 * PM2_5 + 45.5151<br>R<sup>2</sup>=0.014922<br><br>Boroughs=Queens<br>PM2_5=%{x}<br>asthma_hosp=%{y} <b>(trend)</b><extra></extra>\",\"legendgroup\":\"\",\"marker\":{\"symbol\":\"circle\"},\"mode\":\"lines\",\"name\":\"\",\"showlegend\":false,\"x\":[5.98,6.51,6.88,6.99,7.02,7.03,7.16,7.22,7.36,7.56,7.61,7.69,7.85,7.9,7.99,8.02,8.04,8.05,8.08,8.14,8.14,8.19,8.2,8.21,8.26,8.27,8.31,8.32,8.39,8.39,8.43,8.44,8.45,8.46,8.48,8.51,8.51,8.55,8.63,8.65,8.65,8.65,8.75,8.83,8.85,8.9,8.98,9.13,9.17,9.17,9.19,9.25,9.25,9.34,9.35,9.43,9.46,9.47,9.52,9.57,9.6,9.71,9.72,9.74,9.78,9.84,9.89,9.95,9.95,9.96,9.98,10.0,10.05,10.05,10.16,10.44,10.6,10.99,11.02,11.4],\"xaxis\":\"x4\",\"y\":[104.44435129723652,109.6671759036197,113.31329874203814,114.39728120751391,114.6929127890073,114.79145664950508,116.07252683597642,116.66378999896321,118.04340404593236,120.01428125588825,120.50700055837726,121.29535144235962,122.87205321032434,123.36477251281332,124.25166725729349,124.54729883878687,124.74438655978247,124.84293042028028,125.13856200177364,125.72982516476043,125.72982516476043,126.2225444672494,126.32108832774719,126.419632188245,126.91235149073398,127.01089535123177,127.40507079322296,127.50361465372075,128.19342167720532,128.19342167720532,128.5875971191965,128.6861409796943,128.78468484019209,128.8832287006899,129.0803164216855,129.37594800317888,129.37594800317888,129.77012344517007,130.55847432915243,130.75556205014803,130.75556205014803,130.75556205014803,131.74100065512596,132.52935153910835,132.72643926010392,133.21915856259292,134.00750944657528,135.48566735404222,135.8798427960334,135.8798427960334,136.07693051702898,136.66819368001578,136.66819368001578,137.55508842449592,137.65363228499373,138.4419831689761,138.73761475046948,138.8361586109673,139.32887791345624,139.82159721594525,140.11722879743863,141.20121126291437,141.29975512341218,141.49684284440775,141.89101828639895,142.4822814493857,142.97500075187472,143.56626391486148,143.56626391486148,143.6648077753593,143.86189549635486,144.05898321735046,144.55170251983944,144.55170251983944,145.63568498531518,148.39491307925346,149.9716148472182,153.81482540663225,154.11045698812563,157.85512368704187],\"yaxis\":\"y4\",\"type\":\"scatter\"},{\"hovertemplate\":\"Boroughs=Staten Island<br>PM2_5=%{x}<br>asthma_hosp=%{y}<br>year=%{marker.color}<extra></extra>\",\"legendgroup\":\"\",\"marker\":{\"color\":[2009,2009,2009,2009,2010,2010,2010,2010,2011,2011,2011,2011,2012,2012,2012,2012,2013,2013,2013,2013,2014,2014,2014,2014,2015,2015,2015,2015,2016,2016,2016,2016],\"coloraxis\":\"coloraxis\",\"symbol\":\"circle\"},\"mode\":\"markers\",\"name\":\"\",\"orientation\":\"v\",\"showlegend\":false,\"x\":[10.22,9.63,10.1,9.63,9.02,8.64,8.99,8.71,9.73,9.36,9.63,9.29,8.55,8.18,8.52,8.28,8.27,7.9,8.22,7.82,8.79,8.34,8.68,8.2,8.34,7.82,8.01,7.29,7.3,6.8,7.1,6.59],\"xaxis\":\"x5\",\"y\":[80,78,35,47,56,85,12,43,65,63,18,36,79,65,14,38,64,77,12,39,67,80,11,40,68,59,12,38,83,72,12,36],\"yaxis\":\"y5\",\"type\":\"scatter\"},{\"hovertemplate\":\"<b>OLS trendline</b><br>asthma_hosp = 1.77486 * PM2_5 + 34.4164<br>R<sup>2</sup>=0.004290<br><br>Boroughs=Staten Island<br>PM2_5=%{x}<br>asthma_hosp=%{y} <b>(trend)</b><extra></extra>\",\"legendgroup\":\"\",\"marker\":{\"symbol\":\"circle\"},\"mode\":\"lines\",\"name\":\"\",\"showlegend\":false,\"x\":[6.59,6.8,7.1,7.29,7.3,7.82,7.82,7.9,8.01,8.18,8.2,8.22,8.27,8.28,8.34,8.34,8.52,8.55,8.64,8.68,8.71,8.79,8.99,9.02,9.29,9.36,9.63,9.63,9.63,9.73,10.1,10.22],\"xaxis\":\"x5\",\"y\":[46.11278343247947,46.48550482323987,47.01796395289759,47.35518806834748,47.37293670600274,48.29586586407612,48.29586586407612,48.43785496531818,48.63308997952601,48.934816819665386,48.9703140949759,49.005811370286416,49.0945545585627,49.11230319621796,49.2187950221495,49.2187950221495,49.53827049994413,49.59151641290991,49.751254151807224,49.822248702428254,49.875494615394025,50.01748371663608,50.37245646974123,50.425702382707,50.90491559939895,51.02915606298575,51.5083692796777,51.5083692796777,51.5083692796777,51.685855656230274,52.3425552494748,52.55553890133788],\"yaxis\":\"y5\",\"type\":\"scatter\"}],                        {\"template\":{\"data\":{\"bar\":[{\"error_x\":{\"color\":\"#2a3f5f\"},\"error_y\":{\"color\":\"#2a3f5f\"},\"marker\":{\"line\":{\"color\":\"#E5ECF6\",\"width\":0.5},\"pattern\":{\"fillmode\":\"overlay\",\"size\":10,\"solidity\":0.2}},\"type\":\"bar\"}],\"barpolar\":[{\"marker\":{\"line\":{\"color\":\"#E5ECF6\",\"width\":0.5},\"pattern\":{\"fillmode\":\"overlay\",\"size\":10,\"solidity\":0.2}},\"type\":\"barpolar\"}],\"carpet\":[{\"aaxis\":{\"endlinecolor\":\"#2a3f5f\",\"gridcolor\":\"white\",\"linecolor\":\"white\",\"minorgridcolor\":\"white\",\"startlinecolor\":\"#2a3f5f\"},\"baxis\":{\"endlinecolor\":\"#2a3f5f\",\"gridcolor\":\"white\",\"linecolor\":\"white\",\"minorgridcolor\":\"white\",\"startlinecolor\":\"#2a3f5f\"},\"type\":\"carpet\"}],\"choropleth\":[{\"colorbar\":{\"outlinewidth\":0,\"ticks\":\"\"},\"type\":\"choropleth\"}],\"contour\":[{\"colorbar\":{\"outlinewidth\":0,\"ticks\":\"\"},\"colorscale\":[[0.0,\"#0d0887\"],[0.1111111111111111,\"#46039f\"],[0.2222222222222222,\"#7201a8\"],[0.3333333333333333,\"#9c179e\"],[0.4444444444444444,\"#bd3786\"],[0.5555555555555556,\"#d8576b\"],[0.6666666666666666,\"#ed7953\"],[0.7777777777777778,\"#fb9f3a\"],[0.8888888888888888,\"#fdca26\"],[1.0,\"#f0f921\"]],\"type\":\"contour\"}],\"contourcarpet\":[{\"colorbar\":{\"outlinewidth\":0,\"ticks\":\"\"},\"type\":\"contourcarpet\"}],\"heatmap\":[{\"colorbar\":{\"outlinewidth\":0,\"ticks\":\"\"},\"colorscale\":[[0.0,\"#0d0887\"],[0.1111111111111111,\"#46039f\"],[0.2222222222222222,\"#7201a8\"],[0.3333333333333333,\"#9c179e\"],[0.4444444444444444,\"#bd3786\"],[0.5555555555555556,\"#d8576b\"],[0.6666666666666666,\"#ed7953\"],[0.7777777777777778,\"#fb9f3a\"],[0.8888888888888888,\"#fdca26\"],[1.0,\"#f0f921\"]],\"type\":\"heatmap\"}],\"heatmapgl\":[{\"colorbar\":{\"outlinewidth\":0,\"ticks\":\"\"},\"colorscale\":[[0.0,\"#0d0887\"],[0.1111111111111111,\"#46039f\"],[0.2222222222222222,\"#7201a8\"],[0.3333333333333333,\"#9c179e\"],[0.4444444444444444,\"#bd3786\"],[0.5555555555555556,\"#d8576b\"],[0.6666666666666666,\"#ed7953\"],[0.7777777777777778,\"#fb9f3a\"],[0.8888888888888888,\"#fdca26\"],[1.0,\"#f0f921\"]],\"type\":\"heatmapgl\"}],\"histogram\":[{\"marker\":{\"pattern\":{\"fillmode\":\"overlay\",\"size\":10,\"solidity\":0.2}},\"type\":\"histogram\"}],\"histogram2d\":[{\"colorbar\":{\"outlinewidth\":0,\"ticks\":\"\"},\"colorscale\":[[0.0,\"#0d0887\"],[0.1111111111111111,\"#46039f\"],[0.2222222222222222,\"#7201a8\"],[0.3333333333333333,\"#9c179e\"],[0.4444444444444444,\"#bd3786\"],[0.5555555555555556,\"#d8576b\"],[0.6666666666666666,\"#ed7953\"],[0.7777777777777778,\"#fb9f3a\"],[0.8888888888888888,\"#fdca26\"],[1.0,\"#f0f921\"]],\"type\":\"histogram2d\"}],\"histogram2dcontour\":[{\"colorbar\":{\"outlinewidth\":0,\"ticks\":\"\"},\"colorscale\":[[0.0,\"#0d0887\"],[0.1111111111111111,\"#46039f\"],[0.2222222222222222,\"#7201a8\"],[0.3333333333333333,\"#9c179e\"],[0.4444444444444444,\"#bd3786\"],[0.5555555555555556,\"#d8576b\"],[0.6666666666666666,\"#ed7953\"],[0.7777777777777778,\"#fb9f3a\"],[0.8888888888888888,\"#fdca26\"],[1.0,\"#f0f921\"]],\"type\":\"histogram2dcontour\"}],\"mesh3d\":[{\"colorbar\":{\"outlinewidth\":0,\"ticks\":\"\"},\"type\":\"mesh3d\"}],\"parcoords\":[{\"line\":{\"colorbar\":{\"outlinewidth\":0,\"ticks\":\"\"}},\"type\":\"parcoords\"}],\"pie\":[{\"automargin\":true,\"type\":\"pie\"}],\"scatter\":[{\"marker\":{\"colorbar\":{\"outlinewidth\":0,\"ticks\":\"\"}},\"type\":\"scatter\"}],\"scatter3d\":[{\"line\":{\"colorbar\":{\"outlinewidth\":0,\"ticks\":\"\"}},\"marker\":{\"colorbar\":{\"outlinewidth\":0,\"ticks\":\"\"}},\"type\":\"scatter3d\"}],\"scattercarpet\":[{\"marker\":{\"colorbar\":{\"outlinewidth\":0,\"ticks\":\"\"}},\"type\":\"scattercarpet\"}],\"scattergeo\":[{\"marker\":{\"colorbar\":{\"outlinewidth\":0,\"ticks\":\"\"}},\"type\":\"scattergeo\"}],\"scattergl\":[{\"marker\":{\"colorbar\":{\"outlinewidth\":0,\"ticks\":\"\"}},\"type\":\"scattergl\"}],\"scattermapbox\":[{\"marker\":{\"colorbar\":{\"outlinewidth\":0,\"ticks\":\"\"}},\"type\":\"scattermapbox\"}],\"scatterpolar\":[{\"marker\":{\"colorbar\":{\"outlinewidth\":0,\"ticks\":\"\"}},\"type\":\"scatterpolar\"}],\"scatterpolargl\":[{\"marker\":{\"colorbar\":{\"outlinewidth\":0,\"ticks\":\"\"}},\"type\":\"scatterpolargl\"}],\"scatterternary\":[{\"marker\":{\"colorbar\":{\"outlinewidth\":0,\"ticks\":\"\"}},\"type\":\"scatterternary\"}],\"surface\":[{\"colorbar\":{\"outlinewidth\":0,\"ticks\":\"\"},\"colorscale\":[[0.0,\"#0d0887\"],[0.1111111111111111,\"#46039f\"],[0.2222222222222222,\"#7201a8\"],[0.3333333333333333,\"#9c179e\"],[0.4444444444444444,\"#bd3786\"],[0.5555555555555556,\"#d8576b\"],[0.6666666666666666,\"#ed7953\"],[0.7777777777777778,\"#fb9f3a\"],[0.8888888888888888,\"#fdca26\"],[1.0,\"#f0f921\"]],\"type\":\"surface\"}],\"table\":[{\"cells\":{\"fill\":{\"color\":\"#EBF0F8\"},\"line\":{\"color\":\"white\"}},\"header\":{\"fill\":{\"color\":\"#C8D4E3\"},\"line\":{\"color\":\"white\"}},\"type\":\"table\"}]},\"layout\":{\"annotationdefaults\":{\"arrowcolor\":\"#2a3f5f\",\"arrowhead\":0,\"arrowwidth\":1},\"autotypenumbers\":\"strict\",\"coloraxis\":{\"colorbar\":{\"outlinewidth\":0,\"ticks\":\"\"}},\"colorscale\":{\"diverging\":[[0,\"#8e0152\"],[0.1,\"#c51b7d\"],[0.2,\"#de77ae\"],[0.3,\"#f1b6da\"],[0.4,\"#fde0ef\"],[0.5,\"#f7f7f7\"],[0.6,\"#e6f5d0\"],[0.7,\"#b8e186\"],[0.8,\"#7fbc41\"],[0.9,\"#4d9221\"],[1,\"#276419\"]],\"sequential\":[[0.0,\"#0d0887\"],[0.1111111111111111,\"#46039f\"],[0.2222222222222222,\"#7201a8\"],[0.3333333333333333,\"#9c179e\"],[0.4444444444444444,\"#bd3786\"],[0.5555555555555556,\"#d8576b\"],[0.6666666666666666,\"#ed7953\"],[0.7777777777777778,\"#fb9f3a\"],[0.8888888888888888,\"#fdca26\"],[1.0,\"#f0f921\"]],\"sequentialminus\":[[0.0,\"#0d0887\"],[0.1111111111111111,\"#46039f\"],[0.2222222222222222,\"#7201a8\"],[0.3333333333333333,\"#9c179e\"],[0.4444444444444444,\"#bd3786\"],[0.5555555555555556,\"#d8576b\"],[0.6666666666666666,\"#ed7953\"],[0.7777777777777778,\"#fb9f3a\"],[0.8888888888888888,\"#fdca26\"],[1.0,\"#f0f921\"]]},\"colorway\":[\"#636efa\",\"#EF553B\",\"#00cc96\",\"#ab63fa\",\"#FFA15A\",\"#19d3f3\",\"#FF6692\",\"#B6E880\",\"#FF97FF\",\"#FECB52\"],\"font\":{\"color\":\"#2a3f5f\"},\"geo\":{\"bgcolor\":\"white\",\"lakecolor\":\"white\",\"landcolor\":\"#E5ECF6\",\"showlakes\":true,\"showland\":true,\"subunitcolor\":\"white\"},\"hoverlabel\":{\"align\":\"left\"},\"hovermode\":\"closest\",\"mapbox\":{\"style\":\"light\"},\"paper_bgcolor\":\"white\",\"plot_bgcolor\":\"#E5ECF6\",\"polar\":{\"angularaxis\":{\"gridcolor\":\"white\",\"linecolor\":\"white\",\"ticks\":\"\"},\"bgcolor\":\"#E5ECF6\",\"radialaxis\":{\"gridcolor\":\"white\",\"linecolor\":\"white\",\"ticks\":\"\"}},\"scene\":{\"xaxis\":{\"backgroundcolor\":\"#E5ECF6\",\"gridcolor\":\"white\",\"gridwidth\":2,\"linecolor\":\"white\",\"showbackground\":true,\"ticks\":\"\",\"zerolinecolor\":\"white\"},\"yaxis\":{\"backgroundcolor\":\"#E5ECF6\",\"gridcolor\":\"white\",\"gridwidth\":2,\"linecolor\":\"white\",\"showbackground\":true,\"ticks\":\"\",\"zerolinecolor\":\"white\"},\"zaxis\":{\"backgroundcolor\":\"#E5ECF6\",\"gridcolor\":\"white\",\"gridwidth\":2,\"linecolor\":\"white\",\"showbackground\":true,\"ticks\":\"\",\"zerolinecolor\":\"white\"}},\"shapedefaults\":{\"line\":{\"color\":\"#2a3f5f\"}},\"ternary\":{\"aaxis\":{\"gridcolor\":\"white\",\"linecolor\":\"white\",\"ticks\":\"\"},\"baxis\":{\"gridcolor\":\"white\",\"linecolor\":\"white\",\"ticks\":\"\"},\"bgcolor\":\"#E5ECF6\",\"caxis\":{\"gridcolor\":\"white\",\"linecolor\":\"white\",\"ticks\":\"\"}},\"title\":{\"x\":0.05},\"xaxis\":{\"automargin\":true,\"gridcolor\":\"white\",\"linecolor\":\"white\",\"ticks\":\"\",\"title\":{\"standoff\":15},\"zerolinecolor\":\"white\",\"zerolinewidth\":2},\"yaxis\":{\"automargin\":true,\"gridcolor\":\"white\",\"linecolor\":\"white\",\"ticks\":\"\",\"title\":{\"standoff\":15},\"zerolinecolor\":\"white\",\"zerolinewidth\":2}}},\"xaxis\":{\"anchor\":\"y\",\"domain\":[0.0,0.18400000000000002],\"title\":{\"text\":\"PM2_5\"}},\"yaxis\":{\"anchor\":\"x\",\"domain\":[0.0,1.0],\"title\":{\"text\":\"asthma_hosp\"}},\"xaxis2\":{\"anchor\":\"y2\",\"domain\":[0.20400000000000001,0.388],\"matches\":\"x\",\"title\":{\"text\":\"PM2_5\"}},\"yaxis2\":{\"anchor\":\"x2\",\"domain\":[0.0,1.0],\"matches\":\"y\",\"showticklabels\":false},\"xaxis3\":{\"anchor\":\"y3\",\"domain\":[0.40800000000000003,0.5920000000000001],\"matches\":\"x\",\"title\":{\"text\":\"PM2_5\"}},\"yaxis3\":{\"anchor\":\"x3\",\"domain\":[0.0,1.0],\"matches\":\"y\",\"showticklabels\":false},\"xaxis4\":{\"anchor\":\"y4\",\"domain\":[0.6120000000000001,0.7960000000000002],\"matches\":\"x\",\"title\":{\"text\":\"PM2_5\"}},\"yaxis4\":{\"anchor\":\"x4\",\"domain\":[0.0,1.0],\"matches\":\"y\",\"showticklabels\":false},\"xaxis5\":{\"anchor\":\"y5\",\"domain\":[0.8160000000000001,1.0],\"matches\":\"x\",\"title\":{\"text\":\"PM2_5\"}},\"yaxis5\":{\"anchor\":\"x5\",\"domain\":[0.0,1.0],\"matches\":\"y\",\"showticklabels\":false},\"annotations\":[{\"font\":{},\"showarrow\":false,\"text\":\"Boroughs=Bronx\",\"x\":0.09200000000000001,\"xanchor\":\"center\",\"xref\":\"paper\",\"y\":1.0,\"yanchor\":\"bottom\",\"yref\":\"paper\"},{\"font\":{},\"showarrow\":false,\"text\":\"Boroughs=Brooklyn\",\"x\":0.29600000000000004,\"xanchor\":\"center\",\"xref\":\"paper\",\"y\":1.0,\"yanchor\":\"bottom\",\"yref\":\"paper\"},{\"font\":{},\"showarrow\":false,\"text\":\"Boroughs=Manhattan\",\"x\":0.5,\"xanchor\":\"center\",\"xref\":\"paper\",\"y\":1.0,\"yanchor\":\"bottom\",\"yref\":\"paper\"},{\"font\":{},\"showarrow\":false,\"text\":\"Boroughs=Queens\",\"x\":0.7040000000000002,\"xanchor\":\"center\",\"xref\":\"paper\",\"y\":1.0,\"yanchor\":\"bottom\",\"yref\":\"paper\"},{\"font\":{},\"showarrow\":false,\"text\":\"Boroughs=Staten Island\",\"x\":0.908,\"xanchor\":\"center\",\"xref\":\"paper\",\"y\":1.0,\"yanchor\":\"bottom\",\"yref\":\"paper\"}],\"coloraxis\":{\"colorbar\":{\"title\":{\"text\":\"year\"}},\"colorscale\":[[0.0,\"#0d0887\"],[0.1111111111111111,\"#46039f\"],[0.2222222222222222,\"#7201a8\"],[0.3333333333333333,\"#9c179e\"],[0.4444444444444444,\"#bd3786\"],[0.5555555555555556,\"#d8576b\"],[0.6666666666666666,\"#ed7953\"],[0.7777777777777778,\"#fb9f3a\"],[0.8888888888888888,\"#fdca26\"],[1.0,\"#f0f921\"]]},\"legend\":{\"tracegroupgap\":0},\"margin\":{\"t\":60}},                        {\"responsive\": true}                    ).then(function(){\n",
       "                            \n",
       "var gd = document.getElementById('ce3ed4e3-8d93-40ad-95f9-26db63eed131');\n",
       "var x = new MutationObserver(function (mutations, observer) {{\n",
       "        var display = window.getComputedStyle(gd).display;\n",
       "        if (!display || display === 'none') {{\n",
       "            console.log([gd, 'removed!']);\n",
       "            Plotly.purge(gd);\n",
       "            observer.disconnect();\n",
       "        }}\n",
       "}});\n",
       "\n",
       "// Listen for the removal of the full notebook cells\n",
       "var notebookContainer = gd.closest('#notebook-container');\n",
       "if (notebookContainer) {{\n",
       "    x.observe(notebookContainer, {childList: true});\n",
       "}}\n",
       "\n",
       "// Listen for the clearing of the current output cell\n",
       "var outputEl = gd.closest('.output');\n",
       "if (outputEl) {{\n",
       "    x.observe(outputEl, {childList: true});\n",
       "}}\n",
       "\n",
       "                        })                };                });            </script>        </div>"
      ]
     },
     "metadata": {},
     "output_type": "display_data"
    }
   ],
   "source": [
    "fig = px.scatter(df, x=\"PM2_5\", y=\"asthma_hosp\", color=\"year\",trendline=\"ols\", facet_col=\"Boroughs\")\n",
    "fig.show()"
   ]
  },
  {
   "cell_type": "markdown",
   "id": "40fc94ce",
   "metadata": {},
   "source": [
    "### When the trendline highly varies depending on the district we are located\n",
    "Something really interesting can be observed here, and is the fact that really different regression trendlines can be observed depending on the neighbourhood. While in the Bronx the number of asthma hospitalizations strongly increases as the levels of PM2.5 increase, in Manhattan happens exactly the opposite.\n",
    "\n",
    "Bronx, Brookykn and Queens district seem to show the expected behaviour. As levels of PM2.5 increase, air becomes more polluted, and so the number of asthma hospitalizations increases. However, why does the number of hospitalizations decrease in Manhattan as the levels of air pollution increase?"
   ]
  },
  {
   "cell_type": "markdown",
   "id": "f89c1a06",
   "metadata": {},
   "source": [
    "Different hypothesis appear here. Is it because in the more polluted areas of Manhattan, there is less space for hospitals in which you can treat asthma cases? Or is it because healtcare and quality of life is basically better in Mantattan?\n",
    "\n",
    "Is it hard to believe that the first hypothesis might be the cause, specially becuase if we look at the more polluted ares of Manhattan we can find hospitals such as the Metropolitan [[4]](https://www.nychealthandhospitals.org/metropolitan/about-us/), which have a Children’s Asthma Program or Bellevue [[5]](https://www.nychealthandhospitals.org/bellevue/health-care-services/childrens-health/) which provides multidisciplinary care for children and adolescents with asthma.\n",
    "\n",
    "Thus, it seems that this tendency is due to the fact\n",
    "\n",
    "If we go to check the Median Household Income on 2017 in NYC, we observe that the Bronx has the lowest value with a Median Household Income of 37.397 \\\\$ , while Manhattan has a value up to 85.071 \\\\$."
   ]
  },
  {
   "cell_type": "code",
   "execution_count": 154,
   "id": "2aa52736",
   "metadata": {},
   "outputs": [
    {
     "data": {
      "text/html": [
       "<div>\n",
       "<style scoped>\n",
       "    .dataframe tbody tr th:only-of-type {\n",
       "        vertical-align: middle;\n",
       "    }\n",
       "\n",
       "    .dataframe tbody tr th {\n",
       "        vertical-align: top;\n",
       "    }\n",
       "\n",
       "    .dataframe thead th {\n",
       "        text-align: right;\n",
       "    }\n",
       "</style>\n",
       "<table border=\"1\" class=\"dataframe\">\n",
       "  <thead>\n",
       "    <tr style=\"text-align: right;\">\n",
       "      <th></th>\n",
       "      <th>year</th>\n",
       "      <th>district</th>\n",
       "      <th>NO2</th>\n",
       "      <th>PM2_5</th>\n",
       "      <th>O3</th>\n",
       "      <th>SO2</th>\n",
       "      <th>asthma_hosp</th>\n",
       "      <th>Boroughs</th>\n",
       "    </tr>\n",
       "  </thead>\n",
       "  <tbody>\n",
       "    <tr>\n",
       "      <th>0</th>\n",
       "      <td>2009</td>\n",
       "      <td>101</td>\n",
       "      <td>23.20</td>\n",
       "      <td>11.03</td>\n",
       "      <td>23.67</td>\n",
       "      <td>6.62</td>\n",
       "      <td>61</td>\n",
       "      <td>Bronx</td>\n",
       "    </tr>\n",
       "    <tr>\n",
       "      <th>1</th>\n",
       "      <td>2009</td>\n",
       "      <td>102</td>\n",
       "      <td>22.39</td>\n",
       "      <td>10.68</td>\n",
       "      <td>26.82</td>\n",
       "      <td>5.38</td>\n",
       "      <td>282</td>\n",
       "      <td>Bronx</td>\n",
       "    </tr>\n",
       "    <tr>\n",
       "      <th>2</th>\n",
       "      <td>2009</td>\n",
       "      <td>103</td>\n",
       "      <td>24.82</td>\n",
       "      <td>11.10</td>\n",
       "      <td>24.47</td>\n",
       "      <td>9.48</td>\n",
       "      <td>693</td>\n",
       "      <td>Bronx</td>\n",
       "    </tr>\n",
       "    <tr>\n",
       "      <th>3</th>\n",
       "      <td>2009</td>\n",
       "      <td>104</td>\n",
       "      <td>22.83</td>\n",
       "      <td>10.59</td>\n",
       "      <td>26.72</td>\n",
       "      <td>5.15</td>\n",
       "      <td>588</td>\n",
       "      <td>Bronx</td>\n",
       "    </tr>\n",
       "    <tr>\n",
       "      <th>4</th>\n",
       "      <td>2009</td>\n",
       "      <td>105</td>\n",
       "      <td>28.07</td>\n",
       "      <td>11.76</td>\n",
       "      <td>23.08</td>\n",
       "      <td>9.36</td>\n",
       "      <td>631</td>\n",
       "      <td>Bronx</td>\n",
       "    </tr>\n",
       "  </tbody>\n",
       "</table>\n",
       "</div>"
      ],
      "text/plain": [
       "   year  district    NO2  PM2_5     O3   SO2  asthma_hosp Boroughs\n",
       "0  2009       101  23.20  11.03  23.67  6.62           61    Bronx\n",
       "1  2009       102  22.39  10.68  26.82  5.38          282    Bronx\n",
       "2  2009       103  24.82  11.10  24.47  9.48          693    Bronx\n",
       "3  2009       104  22.83  10.59  26.72  5.15          588    Bronx\n",
       "4  2009       105  28.07  11.76  23.08  9.36          631    Bronx"
      ]
     },
     "execution_count": 154,
     "metadata": {},
     "output_type": "execute_result"
    }
   ],
   "source": [
    "df.head()"
   ]
  },
  {
   "cell_type": "code",
   "execution_count": 163,
   "id": "01f55158",
   "metadata": {},
   "outputs": [
    {
     "data": {
      "application/vnd.plotly.v1+json": {
       "config": {
        "plotlyServerURL": "https://plotly.com"
       },
       "data": [
        {
         "hovertemplate": "Boroughs=Bronx<br>PM2_5=%{x}<br>asthma_hosp=%{y}<br>year=%{marker.color}<extra></extra>",
         "legendgroup": "",
         "marker": {
          "color": [
           2009,
           2009,
           2009,
           2009,
           2009,
           2009,
           2009,
           2010,
           2010,
           2010,
           2010,
           2010,
           2010,
           2010,
           2011,
           2011,
           2011,
           2011,
           2011,
           2011,
           2011,
           2012,
           2012,
           2012,
           2012,
           2012,
           2012,
           2012,
           2013,
           2013,
           2013,
           2013,
           2013,
           2013,
           2013,
           2014,
           2014,
           2014,
           2014,
           2014,
           2014,
           2014,
           2015,
           2015,
           2015,
           2015,
           2015,
           2015,
           2015,
           2016,
           2016,
           2016,
           2016,
           2016,
           2016,
           2016
          ],
          "coloraxis": "coloraxis",
          "symbol": "circle"
         },
         "mode": "markers",
         "name": "",
         "orientation": "v",
         "showlegend": false,
         "type": "scatter",
         "x": [
          11.03,
          10.68,
          11.1,
          10.59,
          11.76,
          11.8,
          11.45,
          10.09,
          9.65,
          10.26,
          9.68,
          10.99,
          11,
          10.48,
          10.65,
          10.48,
          10.77,
          10.5,
          11.45,
          11.44,
          11.24,
          9.27,
          9.11,
          9.47,
          9.23,
          10.22,
          10.26,
          10.02,
          8.88,
          8.73,
          9.06,
          8.74,
          9.75,
          9.83,
          9.57,
          9,
          9,
          9.19,
          8.97,
          9.82,
          9.87,
          9.75,
          9.17,
          9.13,
          9.14,
          8.93,
          9.67,
          9.6,
          9.62,
          7.5,
          7.55,
          7.57,
          7.5,
          8.18,
          8.16,
          8.26
         ],
         "xaxis": "x",
         "y": [
          61,
          282,
          693,
          588,
          631,
          657,
          504,
          74,
          285,
          563,
          491,
          552,
          505,
          435,
          65,
          303,
          528,
          552,
          529,
          533,
          457,
          67,
          320,
          559,
          609,
          524,
          571,
          501,
          72,
          319,
          589,
          515,
          559,
          627,
          453,
          71,
          324,
          648,
          521,
          567,
          624,
          478,
          60,
          268,
          548,
          523,
          463,
          574,
          431,
          53,
          265,
          545,
          441,
          427,
          565,
          361
         ],
         "yaxis": "y"
        },
        {
         "hovertemplate": "<b>OLS trendline</b><br>asthma_hosp = 43.2602 * PM2_5 + 13.5963<br>R<sup>2</sup>=0.067301<br><br>Boroughs=Bronx<br>PM2_5=%{x}<br>asthma_hosp=%{y} <b>(trend)</b><extra></extra>",
         "legendgroup": "",
         "marker": {
          "symbol": "circle"
         },
         "mode": "lines",
         "name": "",
         "showlegend": false,
         "type": "scatter",
         "x": [
          7.5,
          7.5,
          7.55,
          7.57,
          8.16,
          8.18,
          8.26,
          8.73,
          8.74,
          8.88,
          8.93,
          8.97,
          9,
          9,
          9.06,
          9.11,
          9.13,
          9.14,
          9.17,
          9.19,
          9.23,
          9.27,
          9.47,
          9.57,
          9.6,
          9.62,
          9.65,
          9.67,
          9.68,
          9.75,
          9.75,
          9.82,
          9.83,
          9.87,
          10.02,
          10.09,
          10.22,
          10.26,
          10.26,
          10.48,
          10.48,
          10.5,
          10.59,
          10.65,
          10.68,
          10.77,
          10.99,
          11,
          11.03,
          11.1,
          11.24,
          11.44,
          11.45,
          11.45,
          11.76,
          11.8
         ],
         "xaxis": "x",
         "y": [
          338.04804365841767,
          338.04804365841767,
          340.2110552581007,
          341.07625989797384,
          366.5997967742328,
          367.4650014141059,
          370.92581997359866,
          391.2581290106185,
          391.6907313305551,
          397.7471638096674,
          399.91017540935024,
          401.6405846890967,
          402.9383916489064,
          402.9383916489064,
          405.534005568526,
          407.69701716820896,
          408.5622218080822,
          408.99482412801876,
          410.29263108782845,
          411.1578357277017,
          412.88824500744806,
          414.61865428719443,
          423.2707006859263,
          427.59672388529214,
          428.89453084510194,
          429.75973548497507,
          431.0575424447849,
          431.9227470846581,
          432.3553494045947,
          435.38356564415085,
          435.38356564415085,
          438.411781883707,
          438.8443842036436,
          440.57479348338984,
          447.06382828243875,
          450.0920445219949,
          455.7158746811707,
          457.44628396091696,
          457.44628396091696,
          466.96353499952204,
          466.96353499952204,
          467.82873963939517,
          471.72216051882447,
          474.3177744384441,
          475.61558139825377,
          479.5090022776832,
          489.02625331628815,
          489.4588556362247,
          490.7566625960345,
          493.7848788355907,
          499.8413113147029,
          508.49335771343476,
          508.9259600333713,
          508.9259600333713,
          522.3366319514057,
          524.0670412311521
         ],
         "yaxis": "y"
        }
       ],
       "layout": {
        "annotations": [
         {
          "font": {},
          "showarrow": false,
          "text": "Boroughs=Bronx",
          "x": 0.5,
          "xanchor": "center",
          "xref": "paper",
          "y": 1,
          "yanchor": "bottom",
          "yref": "paper"
         }
        ],
        "coloraxis": {
         "colorbar": {
          "title": {
           "text": "year"
          }
         },
         "colorscale": [
          [
           0,
           "#0d0887"
          ],
          [
           0.1111111111111111,
           "#46039f"
          ],
          [
           0.2222222222222222,
           "#7201a8"
          ],
          [
           0.3333333333333333,
           "#9c179e"
          ],
          [
           0.4444444444444444,
           "#bd3786"
          ],
          [
           0.5555555555555556,
           "#d8576b"
          ],
          [
           0.6666666666666666,
           "#ed7953"
          ],
          [
           0.7777777777777778,
           "#fb9f3a"
          ],
          [
           0.8888888888888888,
           "#fdca26"
          ],
          [
           1,
           "#f0f921"
          ]
         ]
        },
        "legend": {
         "tracegroupgap": 0
        },
        "margin": {
         "t": 60
        },
        "template": {
         "data": {
          "bar": [
           {
            "error_x": {
             "color": "#2a3f5f"
            },
            "error_y": {
             "color": "#2a3f5f"
            },
            "marker": {
             "line": {
              "color": "#E5ECF6",
              "width": 0.5
             },
             "pattern": {
              "fillmode": "overlay",
              "size": 10,
              "solidity": 0.2
             }
            },
            "type": "bar"
           }
          ],
          "barpolar": [
           {
            "marker": {
             "line": {
              "color": "#E5ECF6",
              "width": 0.5
             },
             "pattern": {
              "fillmode": "overlay",
              "size": 10,
              "solidity": 0.2
             }
            },
            "type": "barpolar"
           }
          ],
          "carpet": [
           {
            "aaxis": {
             "endlinecolor": "#2a3f5f",
             "gridcolor": "white",
             "linecolor": "white",
             "minorgridcolor": "white",
             "startlinecolor": "#2a3f5f"
            },
            "baxis": {
             "endlinecolor": "#2a3f5f",
             "gridcolor": "white",
             "linecolor": "white",
             "minorgridcolor": "white",
             "startlinecolor": "#2a3f5f"
            },
            "type": "carpet"
           }
          ],
          "choropleth": [
           {
            "colorbar": {
             "outlinewidth": 0,
             "ticks": ""
            },
            "type": "choropleth"
           }
          ],
          "contour": [
           {
            "colorbar": {
             "outlinewidth": 0,
             "ticks": ""
            },
            "colorscale": [
             [
              0,
              "#0d0887"
             ],
             [
              0.1111111111111111,
              "#46039f"
             ],
             [
              0.2222222222222222,
              "#7201a8"
             ],
             [
              0.3333333333333333,
              "#9c179e"
             ],
             [
              0.4444444444444444,
              "#bd3786"
             ],
             [
              0.5555555555555556,
              "#d8576b"
             ],
             [
              0.6666666666666666,
              "#ed7953"
             ],
             [
              0.7777777777777778,
              "#fb9f3a"
             ],
             [
              0.8888888888888888,
              "#fdca26"
             ],
             [
              1,
              "#f0f921"
             ]
            ],
            "type": "contour"
           }
          ],
          "contourcarpet": [
           {
            "colorbar": {
             "outlinewidth": 0,
             "ticks": ""
            },
            "type": "contourcarpet"
           }
          ],
          "heatmap": [
           {
            "colorbar": {
             "outlinewidth": 0,
             "ticks": ""
            },
            "colorscale": [
             [
              0,
              "#0d0887"
             ],
             [
              0.1111111111111111,
              "#46039f"
             ],
             [
              0.2222222222222222,
              "#7201a8"
             ],
             [
              0.3333333333333333,
              "#9c179e"
             ],
             [
              0.4444444444444444,
              "#bd3786"
             ],
             [
              0.5555555555555556,
              "#d8576b"
             ],
             [
              0.6666666666666666,
              "#ed7953"
             ],
             [
              0.7777777777777778,
              "#fb9f3a"
             ],
             [
              0.8888888888888888,
              "#fdca26"
             ],
             [
              1,
              "#f0f921"
             ]
            ],
            "type": "heatmap"
           }
          ],
          "heatmapgl": [
           {
            "colorbar": {
             "outlinewidth": 0,
             "ticks": ""
            },
            "colorscale": [
             [
              0,
              "#0d0887"
             ],
             [
              0.1111111111111111,
              "#46039f"
             ],
             [
              0.2222222222222222,
              "#7201a8"
             ],
             [
              0.3333333333333333,
              "#9c179e"
             ],
             [
              0.4444444444444444,
              "#bd3786"
             ],
             [
              0.5555555555555556,
              "#d8576b"
             ],
             [
              0.6666666666666666,
              "#ed7953"
             ],
             [
              0.7777777777777778,
              "#fb9f3a"
             ],
             [
              0.8888888888888888,
              "#fdca26"
             ],
             [
              1,
              "#f0f921"
             ]
            ],
            "type": "heatmapgl"
           }
          ],
          "histogram": [
           {
            "marker": {
             "pattern": {
              "fillmode": "overlay",
              "size": 10,
              "solidity": 0.2
             }
            },
            "type": "histogram"
           }
          ],
          "histogram2d": [
           {
            "colorbar": {
             "outlinewidth": 0,
             "ticks": ""
            },
            "colorscale": [
             [
              0,
              "#0d0887"
             ],
             [
              0.1111111111111111,
              "#46039f"
             ],
             [
              0.2222222222222222,
              "#7201a8"
             ],
             [
              0.3333333333333333,
              "#9c179e"
             ],
             [
              0.4444444444444444,
              "#bd3786"
             ],
             [
              0.5555555555555556,
              "#d8576b"
             ],
             [
              0.6666666666666666,
              "#ed7953"
             ],
             [
              0.7777777777777778,
              "#fb9f3a"
             ],
             [
              0.8888888888888888,
              "#fdca26"
             ],
             [
              1,
              "#f0f921"
             ]
            ],
            "type": "histogram2d"
           }
          ],
          "histogram2dcontour": [
           {
            "colorbar": {
             "outlinewidth": 0,
             "ticks": ""
            },
            "colorscale": [
             [
              0,
              "#0d0887"
             ],
             [
              0.1111111111111111,
              "#46039f"
             ],
             [
              0.2222222222222222,
              "#7201a8"
             ],
             [
              0.3333333333333333,
              "#9c179e"
             ],
             [
              0.4444444444444444,
              "#bd3786"
             ],
             [
              0.5555555555555556,
              "#d8576b"
             ],
             [
              0.6666666666666666,
              "#ed7953"
             ],
             [
              0.7777777777777778,
              "#fb9f3a"
             ],
             [
              0.8888888888888888,
              "#fdca26"
             ],
             [
              1,
              "#f0f921"
             ]
            ],
            "type": "histogram2dcontour"
           }
          ],
          "mesh3d": [
           {
            "colorbar": {
             "outlinewidth": 0,
             "ticks": ""
            },
            "type": "mesh3d"
           }
          ],
          "parcoords": [
           {
            "line": {
             "colorbar": {
              "outlinewidth": 0,
              "ticks": ""
             }
            },
            "type": "parcoords"
           }
          ],
          "pie": [
           {
            "automargin": true,
            "type": "pie"
           }
          ],
          "scatter": [
           {
            "marker": {
             "colorbar": {
              "outlinewidth": 0,
              "ticks": ""
             }
            },
            "type": "scatter"
           }
          ],
          "scatter3d": [
           {
            "line": {
             "colorbar": {
              "outlinewidth": 0,
              "ticks": ""
             }
            },
            "marker": {
             "colorbar": {
              "outlinewidth": 0,
              "ticks": ""
             }
            },
            "type": "scatter3d"
           }
          ],
          "scattercarpet": [
           {
            "marker": {
             "colorbar": {
              "outlinewidth": 0,
              "ticks": ""
             }
            },
            "type": "scattercarpet"
           }
          ],
          "scattergeo": [
           {
            "marker": {
             "colorbar": {
              "outlinewidth": 0,
              "ticks": ""
             }
            },
            "type": "scattergeo"
           }
          ],
          "scattergl": [
           {
            "marker": {
             "colorbar": {
              "outlinewidth": 0,
              "ticks": ""
             }
            },
            "type": "scattergl"
           }
          ],
          "scattermapbox": [
           {
            "marker": {
             "colorbar": {
              "outlinewidth": 0,
              "ticks": ""
             }
            },
            "type": "scattermapbox"
           }
          ],
          "scatterpolar": [
           {
            "marker": {
             "colorbar": {
              "outlinewidth": 0,
              "ticks": ""
             }
            },
            "type": "scatterpolar"
           }
          ],
          "scatterpolargl": [
           {
            "marker": {
             "colorbar": {
              "outlinewidth": 0,
              "ticks": ""
             }
            },
            "type": "scatterpolargl"
           }
          ],
          "scatterternary": [
           {
            "marker": {
             "colorbar": {
              "outlinewidth": 0,
              "ticks": ""
             }
            },
            "type": "scatterternary"
           }
          ],
          "surface": [
           {
            "colorbar": {
             "outlinewidth": 0,
             "ticks": ""
            },
            "colorscale": [
             [
              0,
              "#0d0887"
             ],
             [
              0.1111111111111111,
              "#46039f"
             ],
             [
              0.2222222222222222,
              "#7201a8"
             ],
             [
              0.3333333333333333,
              "#9c179e"
             ],
             [
              0.4444444444444444,
              "#bd3786"
             ],
             [
              0.5555555555555556,
              "#d8576b"
             ],
             [
              0.6666666666666666,
              "#ed7953"
             ],
             [
              0.7777777777777778,
              "#fb9f3a"
             ],
             [
              0.8888888888888888,
              "#fdca26"
             ],
             [
              1,
              "#f0f921"
             ]
            ],
            "type": "surface"
           }
          ],
          "table": [
           {
            "cells": {
             "fill": {
              "color": "#EBF0F8"
             },
             "line": {
              "color": "white"
             }
            },
            "header": {
             "fill": {
              "color": "#C8D4E3"
             },
             "line": {
              "color": "white"
             }
            },
            "type": "table"
           }
          ]
         },
         "layout": {
          "annotationdefaults": {
           "arrowcolor": "#2a3f5f",
           "arrowhead": 0,
           "arrowwidth": 1
          },
          "autotypenumbers": "strict",
          "coloraxis": {
           "colorbar": {
            "outlinewidth": 0,
            "ticks": ""
           }
          },
          "colorscale": {
           "diverging": [
            [
             0,
             "#8e0152"
            ],
            [
             0.1,
             "#c51b7d"
            ],
            [
             0.2,
             "#de77ae"
            ],
            [
             0.3,
             "#f1b6da"
            ],
            [
             0.4,
             "#fde0ef"
            ],
            [
             0.5,
             "#f7f7f7"
            ],
            [
             0.6,
             "#e6f5d0"
            ],
            [
             0.7,
             "#b8e186"
            ],
            [
             0.8,
             "#7fbc41"
            ],
            [
             0.9,
             "#4d9221"
            ],
            [
             1,
             "#276419"
            ]
           ],
           "sequential": [
            [
             0,
             "#0d0887"
            ],
            [
             0.1111111111111111,
             "#46039f"
            ],
            [
             0.2222222222222222,
             "#7201a8"
            ],
            [
             0.3333333333333333,
             "#9c179e"
            ],
            [
             0.4444444444444444,
             "#bd3786"
            ],
            [
             0.5555555555555556,
             "#d8576b"
            ],
            [
             0.6666666666666666,
             "#ed7953"
            ],
            [
             0.7777777777777778,
             "#fb9f3a"
            ],
            [
             0.8888888888888888,
             "#fdca26"
            ],
            [
             1,
             "#f0f921"
            ]
           ],
           "sequentialminus": [
            [
             0,
             "#0d0887"
            ],
            [
             0.1111111111111111,
             "#46039f"
            ],
            [
             0.2222222222222222,
             "#7201a8"
            ],
            [
             0.3333333333333333,
             "#9c179e"
            ],
            [
             0.4444444444444444,
             "#bd3786"
            ],
            [
             0.5555555555555556,
             "#d8576b"
            ],
            [
             0.6666666666666666,
             "#ed7953"
            ],
            [
             0.7777777777777778,
             "#fb9f3a"
            ],
            [
             0.8888888888888888,
             "#fdca26"
            ],
            [
             1,
             "#f0f921"
            ]
           ]
          },
          "colorway": [
           "#636efa",
           "#EF553B",
           "#00cc96",
           "#ab63fa",
           "#FFA15A",
           "#19d3f3",
           "#FF6692",
           "#B6E880",
           "#FF97FF",
           "#FECB52"
          ],
          "font": {
           "color": "#2a3f5f"
          },
          "geo": {
           "bgcolor": "white",
           "lakecolor": "white",
           "landcolor": "#E5ECF6",
           "showlakes": true,
           "showland": true,
           "subunitcolor": "white"
          },
          "hoverlabel": {
           "align": "left"
          },
          "hovermode": "closest",
          "mapbox": {
           "style": "light"
          },
          "paper_bgcolor": "white",
          "plot_bgcolor": "#E5ECF6",
          "polar": {
           "angularaxis": {
            "gridcolor": "white",
            "linecolor": "white",
            "ticks": ""
           },
           "bgcolor": "#E5ECF6",
           "radialaxis": {
            "gridcolor": "white",
            "linecolor": "white",
            "ticks": ""
           }
          },
          "scene": {
           "xaxis": {
            "backgroundcolor": "#E5ECF6",
            "gridcolor": "white",
            "gridwidth": 2,
            "linecolor": "white",
            "showbackground": true,
            "ticks": "",
            "zerolinecolor": "white"
           },
           "yaxis": {
            "backgroundcolor": "#E5ECF6",
            "gridcolor": "white",
            "gridwidth": 2,
            "linecolor": "white",
            "showbackground": true,
            "ticks": "",
            "zerolinecolor": "white"
           },
           "zaxis": {
            "backgroundcolor": "#E5ECF6",
            "gridcolor": "white",
            "gridwidth": 2,
            "linecolor": "white",
            "showbackground": true,
            "ticks": "",
            "zerolinecolor": "white"
           }
          },
          "shapedefaults": {
           "line": {
            "color": "#2a3f5f"
           }
          },
          "ternary": {
           "aaxis": {
            "gridcolor": "white",
            "linecolor": "white",
            "ticks": ""
           },
           "baxis": {
            "gridcolor": "white",
            "linecolor": "white",
            "ticks": ""
           },
           "bgcolor": "#E5ECF6",
           "caxis": {
            "gridcolor": "white",
            "linecolor": "white",
            "ticks": ""
           }
          },
          "title": {
           "x": 0.05
          },
          "xaxis": {
           "automargin": true,
           "gridcolor": "white",
           "linecolor": "white",
           "ticks": "",
           "title": {
            "standoff": 15
           },
           "zerolinecolor": "white",
           "zerolinewidth": 2
          },
          "yaxis": {
           "automargin": true,
           "gridcolor": "white",
           "linecolor": "white",
           "ticks": "",
           "title": {
            "standoff": 15
           },
           "zerolinecolor": "white",
           "zerolinewidth": 2
          }
         }
        },
        "xaxis": {
         "anchor": "y",
         "domain": [
          0,
          1
         ],
         "title": {
          "text": "PM2_5"
         }
        },
        "yaxis": {
         "anchor": "x",
         "domain": [
          0,
          1
         ],
         "title": {
          "text": "asthma_hosp"
         }
        }
       }
      },
      "text/html": [
       "<div>                            <div id=\"558ff2ee-c9e0-4230-be64-ea2762f15ae4\" class=\"plotly-graph-div\" style=\"height:525px; width:100%;\"></div>            <script type=\"text/javascript\">                require([\"plotly\"], function(Plotly) {                    window.PLOTLYENV=window.PLOTLYENV || {};                                    if (document.getElementById(\"558ff2ee-c9e0-4230-be64-ea2762f15ae4\")) {                    Plotly.newPlot(                        \"558ff2ee-c9e0-4230-be64-ea2762f15ae4\",                        [{\"hovertemplate\":\"Boroughs=Bronx<br>PM2_5=%{x}<br>asthma_hosp=%{y}<br>year=%{marker.color}<extra></extra>\",\"legendgroup\":\"\",\"marker\":{\"color\":[2009,2009,2009,2009,2009,2009,2009,2010,2010,2010,2010,2010,2010,2010,2011,2011,2011,2011,2011,2011,2011,2012,2012,2012,2012,2012,2012,2012,2013,2013,2013,2013,2013,2013,2013,2014,2014,2014,2014,2014,2014,2014,2015,2015,2015,2015,2015,2015,2015,2016,2016,2016,2016,2016,2016,2016],\"coloraxis\":\"coloraxis\",\"symbol\":\"circle\"},\"mode\":\"markers\",\"name\":\"\",\"orientation\":\"v\",\"showlegend\":false,\"x\":[11.03,10.68,11.1,10.59,11.76,11.8,11.45,10.09,9.65,10.26,9.68,10.99,11.0,10.48,10.65,10.48,10.77,10.5,11.45,11.44,11.24,9.27,9.11,9.47,9.23,10.22,10.26,10.02,8.88,8.73,9.06,8.74,9.75,9.83,9.57,9.0,9.0,9.19,8.97,9.82,9.87,9.75,9.17,9.13,9.14,8.93,9.67,9.6,9.62,7.5,7.55,7.57,7.5,8.18,8.16,8.26],\"xaxis\":\"x\",\"y\":[61,282,693,588,631,657,504,74,285,563,491,552,505,435,65,303,528,552,529,533,457,67,320,559,609,524,571,501,72,319,589,515,559,627,453,71,324,648,521,567,624,478,60,268,548,523,463,574,431,53,265,545,441,427,565,361],\"yaxis\":\"y\",\"type\":\"scatter\"},{\"hovertemplate\":\"<b>OLS trendline</b><br>asthma_hosp = 43.2602 * PM2_5 + 13.5963<br>R<sup>2</sup>=0.067301<br><br>Boroughs=Bronx<br>PM2_5=%{x}<br>asthma_hosp=%{y} <b>(trend)</b><extra></extra>\",\"legendgroup\":\"\",\"marker\":{\"symbol\":\"circle\"},\"mode\":\"lines\",\"name\":\"\",\"showlegend\":false,\"x\":[7.5,7.5,7.55,7.57,8.16,8.18,8.26,8.73,8.74,8.88,8.93,8.97,9.0,9.0,9.06,9.11,9.13,9.14,9.17,9.19,9.23,9.27,9.47,9.57,9.6,9.62,9.65,9.67,9.68,9.75,9.75,9.82,9.83,9.87,10.02,10.09,10.22,10.26,10.26,10.48,10.48,10.5,10.59,10.65,10.68,10.77,10.99,11.0,11.03,11.1,11.24,11.44,11.45,11.45,11.76,11.8],\"xaxis\":\"x\",\"y\":[338.04804365841767,338.04804365841767,340.2110552581007,341.07625989797384,366.5997967742328,367.4650014141059,370.92581997359866,391.2581290106185,391.6907313305551,397.7471638096674,399.91017540935024,401.6405846890967,402.9383916489064,402.9383916489064,405.534005568526,407.69701716820896,408.5622218080822,408.99482412801876,410.29263108782845,411.1578357277017,412.88824500744806,414.61865428719443,423.2707006859263,427.59672388529214,428.89453084510194,429.75973548497507,431.0575424447849,431.9227470846581,432.3553494045947,435.38356564415085,435.38356564415085,438.411781883707,438.8443842036436,440.57479348338984,447.06382828243875,450.0920445219949,455.7158746811707,457.44628396091696,457.44628396091696,466.96353499952204,466.96353499952204,467.82873963939517,471.72216051882447,474.3177744384441,475.61558139825377,479.5090022776832,489.02625331628815,489.4588556362247,490.7566625960345,493.7848788355907,499.8413113147029,508.49335771343476,508.9259600333713,508.9259600333713,522.3366319514057,524.0670412311521],\"yaxis\":\"y\",\"type\":\"scatter\"}],                        {\"template\":{\"data\":{\"bar\":[{\"error_x\":{\"color\":\"#2a3f5f\"},\"error_y\":{\"color\":\"#2a3f5f\"},\"marker\":{\"line\":{\"color\":\"#E5ECF6\",\"width\":0.5},\"pattern\":{\"fillmode\":\"overlay\",\"size\":10,\"solidity\":0.2}},\"type\":\"bar\"}],\"barpolar\":[{\"marker\":{\"line\":{\"color\":\"#E5ECF6\",\"width\":0.5},\"pattern\":{\"fillmode\":\"overlay\",\"size\":10,\"solidity\":0.2}},\"type\":\"barpolar\"}],\"carpet\":[{\"aaxis\":{\"endlinecolor\":\"#2a3f5f\",\"gridcolor\":\"white\",\"linecolor\":\"white\",\"minorgridcolor\":\"white\",\"startlinecolor\":\"#2a3f5f\"},\"baxis\":{\"endlinecolor\":\"#2a3f5f\",\"gridcolor\":\"white\",\"linecolor\":\"white\",\"minorgridcolor\":\"white\",\"startlinecolor\":\"#2a3f5f\"},\"type\":\"carpet\"}],\"choropleth\":[{\"colorbar\":{\"outlinewidth\":0,\"ticks\":\"\"},\"type\":\"choropleth\"}],\"contour\":[{\"colorbar\":{\"outlinewidth\":0,\"ticks\":\"\"},\"colorscale\":[[0.0,\"#0d0887\"],[0.1111111111111111,\"#46039f\"],[0.2222222222222222,\"#7201a8\"],[0.3333333333333333,\"#9c179e\"],[0.4444444444444444,\"#bd3786\"],[0.5555555555555556,\"#d8576b\"],[0.6666666666666666,\"#ed7953\"],[0.7777777777777778,\"#fb9f3a\"],[0.8888888888888888,\"#fdca26\"],[1.0,\"#f0f921\"]],\"type\":\"contour\"}],\"contourcarpet\":[{\"colorbar\":{\"outlinewidth\":0,\"ticks\":\"\"},\"type\":\"contourcarpet\"}],\"heatmap\":[{\"colorbar\":{\"outlinewidth\":0,\"ticks\":\"\"},\"colorscale\":[[0.0,\"#0d0887\"],[0.1111111111111111,\"#46039f\"],[0.2222222222222222,\"#7201a8\"],[0.3333333333333333,\"#9c179e\"],[0.4444444444444444,\"#bd3786\"],[0.5555555555555556,\"#d8576b\"],[0.6666666666666666,\"#ed7953\"],[0.7777777777777778,\"#fb9f3a\"],[0.8888888888888888,\"#fdca26\"],[1.0,\"#f0f921\"]],\"type\":\"heatmap\"}],\"heatmapgl\":[{\"colorbar\":{\"outlinewidth\":0,\"ticks\":\"\"},\"colorscale\":[[0.0,\"#0d0887\"],[0.1111111111111111,\"#46039f\"],[0.2222222222222222,\"#7201a8\"],[0.3333333333333333,\"#9c179e\"],[0.4444444444444444,\"#bd3786\"],[0.5555555555555556,\"#d8576b\"],[0.6666666666666666,\"#ed7953\"],[0.7777777777777778,\"#fb9f3a\"],[0.8888888888888888,\"#fdca26\"],[1.0,\"#f0f921\"]],\"type\":\"heatmapgl\"}],\"histogram\":[{\"marker\":{\"pattern\":{\"fillmode\":\"overlay\",\"size\":10,\"solidity\":0.2}},\"type\":\"histogram\"}],\"histogram2d\":[{\"colorbar\":{\"outlinewidth\":0,\"ticks\":\"\"},\"colorscale\":[[0.0,\"#0d0887\"],[0.1111111111111111,\"#46039f\"],[0.2222222222222222,\"#7201a8\"],[0.3333333333333333,\"#9c179e\"],[0.4444444444444444,\"#bd3786\"],[0.5555555555555556,\"#d8576b\"],[0.6666666666666666,\"#ed7953\"],[0.7777777777777778,\"#fb9f3a\"],[0.8888888888888888,\"#fdca26\"],[1.0,\"#f0f921\"]],\"type\":\"histogram2d\"}],\"histogram2dcontour\":[{\"colorbar\":{\"outlinewidth\":0,\"ticks\":\"\"},\"colorscale\":[[0.0,\"#0d0887\"],[0.1111111111111111,\"#46039f\"],[0.2222222222222222,\"#7201a8\"],[0.3333333333333333,\"#9c179e\"],[0.4444444444444444,\"#bd3786\"],[0.5555555555555556,\"#d8576b\"],[0.6666666666666666,\"#ed7953\"],[0.7777777777777778,\"#fb9f3a\"],[0.8888888888888888,\"#fdca26\"],[1.0,\"#f0f921\"]],\"type\":\"histogram2dcontour\"}],\"mesh3d\":[{\"colorbar\":{\"outlinewidth\":0,\"ticks\":\"\"},\"type\":\"mesh3d\"}],\"parcoords\":[{\"line\":{\"colorbar\":{\"outlinewidth\":0,\"ticks\":\"\"}},\"type\":\"parcoords\"}],\"pie\":[{\"automargin\":true,\"type\":\"pie\"}],\"scatter\":[{\"marker\":{\"colorbar\":{\"outlinewidth\":0,\"ticks\":\"\"}},\"type\":\"scatter\"}],\"scatter3d\":[{\"line\":{\"colorbar\":{\"outlinewidth\":0,\"ticks\":\"\"}},\"marker\":{\"colorbar\":{\"outlinewidth\":0,\"ticks\":\"\"}},\"type\":\"scatter3d\"}],\"scattercarpet\":[{\"marker\":{\"colorbar\":{\"outlinewidth\":0,\"ticks\":\"\"}},\"type\":\"scattercarpet\"}],\"scattergeo\":[{\"marker\":{\"colorbar\":{\"outlinewidth\":0,\"ticks\":\"\"}},\"type\":\"scattergeo\"}],\"scattergl\":[{\"marker\":{\"colorbar\":{\"outlinewidth\":0,\"ticks\":\"\"}},\"type\":\"scattergl\"}],\"scattermapbox\":[{\"marker\":{\"colorbar\":{\"outlinewidth\":0,\"ticks\":\"\"}},\"type\":\"scattermapbox\"}],\"scatterpolar\":[{\"marker\":{\"colorbar\":{\"outlinewidth\":0,\"ticks\":\"\"}},\"type\":\"scatterpolar\"}],\"scatterpolargl\":[{\"marker\":{\"colorbar\":{\"outlinewidth\":0,\"ticks\":\"\"}},\"type\":\"scatterpolargl\"}],\"scatterternary\":[{\"marker\":{\"colorbar\":{\"outlinewidth\":0,\"ticks\":\"\"}},\"type\":\"scatterternary\"}],\"surface\":[{\"colorbar\":{\"outlinewidth\":0,\"ticks\":\"\"},\"colorscale\":[[0.0,\"#0d0887\"],[0.1111111111111111,\"#46039f\"],[0.2222222222222222,\"#7201a8\"],[0.3333333333333333,\"#9c179e\"],[0.4444444444444444,\"#bd3786\"],[0.5555555555555556,\"#d8576b\"],[0.6666666666666666,\"#ed7953\"],[0.7777777777777778,\"#fb9f3a\"],[0.8888888888888888,\"#fdca26\"],[1.0,\"#f0f921\"]],\"type\":\"surface\"}],\"table\":[{\"cells\":{\"fill\":{\"color\":\"#EBF0F8\"},\"line\":{\"color\":\"white\"}},\"header\":{\"fill\":{\"color\":\"#C8D4E3\"},\"line\":{\"color\":\"white\"}},\"type\":\"table\"}]},\"layout\":{\"annotationdefaults\":{\"arrowcolor\":\"#2a3f5f\",\"arrowhead\":0,\"arrowwidth\":1},\"autotypenumbers\":\"strict\",\"coloraxis\":{\"colorbar\":{\"outlinewidth\":0,\"ticks\":\"\"}},\"colorscale\":{\"diverging\":[[0,\"#8e0152\"],[0.1,\"#c51b7d\"],[0.2,\"#de77ae\"],[0.3,\"#f1b6da\"],[0.4,\"#fde0ef\"],[0.5,\"#f7f7f7\"],[0.6,\"#e6f5d0\"],[0.7,\"#b8e186\"],[0.8,\"#7fbc41\"],[0.9,\"#4d9221\"],[1,\"#276419\"]],\"sequential\":[[0.0,\"#0d0887\"],[0.1111111111111111,\"#46039f\"],[0.2222222222222222,\"#7201a8\"],[0.3333333333333333,\"#9c179e\"],[0.4444444444444444,\"#bd3786\"],[0.5555555555555556,\"#d8576b\"],[0.6666666666666666,\"#ed7953\"],[0.7777777777777778,\"#fb9f3a\"],[0.8888888888888888,\"#fdca26\"],[1.0,\"#f0f921\"]],\"sequentialminus\":[[0.0,\"#0d0887\"],[0.1111111111111111,\"#46039f\"],[0.2222222222222222,\"#7201a8\"],[0.3333333333333333,\"#9c179e\"],[0.4444444444444444,\"#bd3786\"],[0.5555555555555556,\"#d8576b\"],[0.6666666666666666,\"#ed7953\"],[0.7777777777777778,\"#fb9f3a\"],[0.8888888888888888,\"#fdca26\"],[1.0,\"#f0f921\"]]},\"colorway\":[\"#636efa\",\"#EF553B\",\"#00cc96\",\"#ab63fa\",\"#FFA15A\",\"#19d3f3\",\"#FF6692\",\"#B6E880\",\"#FF97FF\",\"#FECB52\"],\"font\":{\"color\":\"#2a3f5f\"},\"geo\":{\"bgcolor\":\"white\",\"lakecolor\":\"white\",\"landcolor\":\"#E5ECF6\",\"showlakes\":true,\"showland\":true,\"subunitcolor\":\"white\"},\"hoverlabel\":{\"align\":\"left\"},\"hovermode\":\"closest\",\"mapbox\":{\"style\":\"light\"},\"paper_bgcolor\":\"white\",\"plot_bgcolor\":\"#E5ECF6\",\"polar\":{\"angularaxis\":{\"gridcolor\":\"white\",\"linecolor\":\"white\",\"ticks\":\"\"},\"bgcolor\":\"#E5ECF6\",\"radialaxis\":{\"gridcolor\":\"white\",\"linecolor\":\"white\",\"ticks\":\"\"}},\"scene\":{\"xaxis\":{\"backgroundcolor\":\"#E5ECF6\",\"gridcolor\":\"white\",\"gridwidth\":2,\"linecolor\":\"white\",\"showbackground\":true,\"ticks\":\"\",\"zerolinecolor\":\"white\"},\"yaxis\":{\"backgroundcolor\":\"#E5ECF6\",\"gridcolor\":\"white\",\"gridwidth\":2,\"linecolor\":\"white\",\"showbackground\":true,\"ticks\":\"\",\"zerolinecolor\":\"white\"},\"zaxis\":{\"backgroundcolor\":\"#E5ECF6\",\"gridcolor\":\"white\",\"gridwidth\":2,\"linecolor\":\"white\",\"showbackground\":true,\"ticks\":\"\",\"zerolinecolor\":\"white\"}},\"shapedefaults\":{\"line\":{\"color\":\"#2a3f5f\"}},\"ternary\":{\"aaxis\":{\"gridcolor\":\"white\",\"linecolor\":\"white\",\"ticks\":\"\"},\"baxis\":{\"gridcolor\":\"white\",\"linecolor\":\"white\",\"ticks\":\"\"},\"bgcolor\":\"#E5ECF6\",\"caxis\":{\"gridcolor\":\"white\",\"linecolor\":\"white\",\"ticks\":\"\"}},\"title\":{\"x\":0.05},\"xaxis\":{\"automargin\":true,\"gridcolor\":\"white\",\"linecolor\":\"white\",\"ticks\":\"\",\"title\":{\"standoff\":15},\"zerolinecolor\":\"white\",\"zerolinewidth\":2},\"yaxis\":{\"automargin\":true,\"gridcolor\":\"white\",\"linecolor\":\"white\",\"ticks\":\"\",\"title\":{\"standoff\":15},\"zerolinecolor\":\"white\",\"zerolinewidth\":2}}},\"xaxis\":{\"anchor\":\"y\",\"domain\":[0.0,1.0],\"title\":{\"text\":\"PM2_5\"}},\"yaxis\":{\"anchor\":\"x\",\"domain\":[0.0,1.0],\"title\":{\"text\":\"asthma_hosp\"}},\"annotations\":[{\"font\":{},\"showarrow\":false,\"text\":\"Boroughs=Bronx\",\"x\":0.5,\"xanchor\":\"center\",\"xref\":\"paper\",\"y\":1.0,\"yanchor\":\"bottom\",\"yref\":\"paper\"}],\"coloraxis\":{\"colorbar\":{\"title\":{\"text\":\"year\"}},\"colorscale\":[[0.0,\"#0d0887\"],[0.1111111111111111,\"#46039f\"],[0.2222222222222222,\"#7201a8\"],[0.3333333333333333,\"#9c179e\"],[0.4444444444444444,\"#bd3786\"],[0.5555555555555556,\"#d8576b\"],[0.6666666666666666,\"#ed7953\"],[0.7777777777777778,\"#fb9f3a\"],[0.8888888888888888,\"#fdca26\"],[1.0,\"#f0f921\"]]},\"legend\":{\"tracegroupgap\":0},\"margin\":{\"t\":60}},                        {\"responsive\": true}                    ).then(function(){\n",
       "                            \n",
       "var gd = document.getElementById('558ff2ee-c9e0-4230-be64-ea2762f15ae4');\n",
       "var x = new MutationObserver(function (mutations, observer) {{\n",
       "        var display = window.getComputedStyle(gd).display;\n",
       "        if (!display || display === 'none') {{\n",
       "            console.log([gd, 'removed!']);\n",
       "            Plotly.purge(gd);\n",
       "            observer.disconnect();\n",
       "        }}\n",
       "}});\n",
       "\n",
       "// Listen for the removal of the full notebook cells\n",
       "var notebookContainer = gd.closest('#notebook-container');\n",
       "if (notebookContainer) {{\n",
       "    x.observe(notebookContainer, {childList: true});\n",
       "}}\n",
       "\n",
       "// Listen for the clearing of the current output cell\n",
       "var outputEl = gd.closest('.output');\n",
       "if (outputEl) {{\n",
       "    x.observe(outputEl, {childList: true});\n",
       "}}\n",
       "\n",
       "                        })                };                });            </script>        </div>"
      ]
     },
     "metadata": {},
     "output_type": "display_data"
    }
   ],
   "source": [
    "df_bronx=df[df.Boroughs==\"Bronx\"]\n",
    "fig = px.scatter(df_bronx, x=\"PM2_5\", y=\"asthma_hosp\",trendline=\"ols\", facet_col=\"Boroughs\",color=\"year\")\n",
    "fig.show()"
   ]
  },
  {
   "cell_type": "code",
   "execution_count": 165,
   "id": "2f55fced",
   "metadata": {},
   "outputs": [
    {
     "data": {
      "application/vnd.plotly.v1+json": {
       "config": {
        "plotlyServerURL": "https://plotly.com"
       },
       "data": [
        {
         "hovertemplate": "PM2_5=%{x}<br>asthma_hosp=%{y}<br>year=%{marker.color}<extra></extra>",
         "legendgroup": "",
         "marker": {
          "color": [
           2009,
           2009,
           2009,
           2009,
           2009,
           2009,
           2009,
           2009,
           2009,
           2009,
           2010,
           2010,
           2010,
           2010,
           2010,
           2010,
           2010,
           2010,
           2010,
           2010,
           2011,
           2011,
           2011,
           2011,
           2011,
           2011,
           2011,
           2011,
           2011,
           2011,
           2012,
           2012,
           2012,
           2012,
           2012,
           2012,
           2012,
           2012,
           2012,
           2012,
           2013,
           2013,
           2013,
           2013,
           2013,
           2013,
           2013,
           2013,
           2013,
           2013,
           2014,
           2014,
           2014,
           2014,
           2014,
           2014,
           2014,
           2014,
           2014,
           2014,
           2015,
           2015,
           2015,
           2015,
           2015,
           2015,
           2015,
           2015,
           2015,
           2015,
           2016,
           2016,
           2016,
           2016,
           2016,
           2016,
           2016,
           2016,
           2016,
           2016
          ],
          "coloraxis": "coloraxis",
          "symbol": "circle"
         },
         "mode": "markers",
         "name": "",
         "orientation": "v",
         "showlegend": false,
         "type": "scatter",
         "x": [
          11.55,
          11.6,
          11.55,
          12.18,
          12.88,
          14.24,
          15.03,
          12.75,
          12.08,
          13.06,
          10.71,
          10.62,
          10.41,
          11.01,
          11.83,
          13.21,
          14.24,
          11.56,
          10.87,
          12.19,
          11.12,
          11.13,
          11.12,
          11.49,
          12.1,
          13.27,
          13.93,
          12.04,
          11.44,
          12.28,
          9.89,
          9.99,
          9.98,
          10.46,
          11.19,
          12.42,
          13.23,
          10.99,
          10.35,
          11.32,
          9.48,
          9.7,
          9.73,
          10.35,
          11.1,
          12.41,
          13.2,
          10.81,
          10.15,
          11.06,
          9.49,
          9.73,
          9.84,
          10.42,
          11.15,
          12.53,
          13.23,
          11.17,
          10.53,
          11.36,
          9.36,
          9.36,
          9.51,
          9.78,
          10.2,
          11.39,
          11.72,
          10.6,
          10.06,
          10.54,
          7.81,
          7.95,
          8.19,
          8.49,
          9.07,
          10.32,
          10.76,
          9.52,
          9.02,
          9.53
         ],
         "xaxis": "x",
         "y": [
          168,
          298,
          254,
          87,
          49,
          27,
          17,
          8,
          80,
          10,
          176,
          246,
          240,
          77,
          48,
          32,
          20,
          0,
          59,
          8,
          164,
          259,
          212,
          75,
          51,
          25,
          9,
          0,
          67,
          9,
          160,
          299,
          203,
          57,
          53,
          30,
          13,
          7,
          77,
          0,
          161,
          276,
          222,
          56,
          41,
          21,
          16,
          6,
          67,
          4,
          217,
          233,
          239,
          64,
          40,
          32,
          14,
          4,
          57,
          2,
          175,
          234,
          197,
          51,
          42,
          21,
          5,
          1,
          67,
          4,
          210,
          284,
          151,
          43,
          39,
          11,
          8,
          4,
          73,
          7
         ],
         "yaxis": "y"
        },
        {
         "hovertemplate": "<b>OLS trendline</b><br>asthma_hosp = -29.8708 * PM2_5 + 418.459<br>R<sup>2</sup>=0.228162<br><br>PM2_5=%{x}<br>asthma_hosp=%{y} <b>(trend)</b><extra></extra>",
         "legendgroup": "",
         "marker": {
          "symbol": "circle"
         },
         "mode": "lines",
         "name": "",
         "showlegend": false,
         "type": "scatter",
         "x": [
          7.81,
          7.95,
          8.19,
          8.49,
          9.02,
          9.07,
          9.36,
          9.36,
          9.48,
          9.49,
          9.51,
          9.52,
          9.53,
          9.7,
          9.73,
          9.73,
          9.78,
          9.84,
          9.89,
          9.98,
          9.99,
          10.06,
          10.15,
          10.2,
          10.32,
          10.35,
          10.35,
          10.41,
          10.42,
          10.46,
          10.53,
          10.54,
          10.6,
          10.62,
          10.71,
          10.76,
          10.81,
          10.87,
          10.99,
          11.01,
          11.06,
          11.1,
          11.12,
          11.12,
          11.13,
          11.15,
          11.17,
          11.19,
          11.32,
          11.36,
          11.39,
          11.44,
          11.49,
          11.55,
          11.55,
          11.56,
          11.6,
          11.72,
          11.83,
          12.04,
          12.08,
          12.1,
          12.18,
          12.19,
          12.28,
          12.41,
          12.42,
          12.53,
          12.75,
          12.88,
          13.06,
          13.2,
          13.21,
          13.23,
          13.23,
          13.27,
          13.93,
          14.24,
          14.24,
          15.03
         ],
         "xaxis": "x",
         "y": [
          185.16771192395558,
          180.98580178793,
          173.81681298331478,
          164.85557697754572,
          149.0240600340204,
          147.53052069972557,
          138.86799256081554,
          138.86799256081554,
          135.28349815850788,
          134.9847902916489,
          134.38737455793097,
          134.08866669107204,
          133.78995882421304,
          128.7119250876106,
          127.81580148703364,
          127.81580148703364,
          126.32226215273886,
          124.53001495158503,
          123.0364756172902,
          120.34810481555945,
          120.04939694870052,
          117.9584418806877,
          115.27007107895702,
          113.77653174466218,
          110.19203734235452,
          109.29591374177767,
          109.29591374177767,
          107.50366654062384,
          107.20495867376485,
          106.010127206329,
          103.91917213831624,
          103.62046427145731,
          101.82821707030348,
          101.23080133658556,
          98.54243053485476,
          97.04889120055998,
          95.55535186626508,
          93.76310466511131,
          90.17861026280366,
          89.58119452908574,
          88.0876551947909,
          86.89282372735505,
          86.29540799363713,
          86.29540799363713,
          85.99670012677814,
          85.39928439306021,
          84.80186865934229,
          84.20445292562437,
          80.32125065645772,
          79.12641918902187,
          78.23029558844496,
          76.73675625415012,
          75.24321691985529,
          73.45096971870146,
          73.45096971870146,
          73.15226185184247,
          71.95743038440662,
          68.37293598209902,
          65.08714944665036,
          58.814284242612075,
          57.61945277517617,
          57.02203704145825,
          54.6323741065865,
          54.333666239727506,
          51.64529543799682,
          47.76209316883023,
          47.46338530197124,
          44.177598766522635,
          37.606025695625306,
          33.72282342645866,
          28.34608182299729,
          24.16417168697177,
          23.865463820112723,
          23.2680480863948,
          23.2680480863948,
          22.073216618958952,
          2.3584974062670767,
          -6.901446466360937,
          -6.901446466360937,
          -30.4993679482194
         ],
         "yaxis": "y"
        }
       ],
       "layout": {
        "coloraxis": {
         "colorbar": {
          "title": {
           "text": "year"
          }
         },
         "colorscale": [
          [
           0,
           "#0d0887"
          ],
          [
           0.1111111111111111,
           "#46039f"
          ],
          [
           0.2222222222222222,
           "#7201a8"
          ],
          [
           0.3333333333333333,
           "#9c179e"
          ],
          [
           0.4444444444444444,
           "#bd3786"
          ],
          [
           0.5555555555555556,
           "#d8576b"
          ],
          [
           0.6666666666666666,
           "#ed7953"
          ],
          [
           0.7777777777777778,
           "#fb9f3a"
          ],
          [
           0.8888888888888888,
           "#fdca26"
          ],
          [
           1,
           "#f0f921"
          ]
         ]
        },
        "legend": {
         "tracegroupgap": 0
        },
        "margin": {
         "t": 60
        },
        "template": {
         "data": {
          "bar": [
           {
            "error_x": {
             "color": "#2a3f5f"
            },
            "error_y": {
             "color": "#2a3f5f"
            },
            "marker": {
             "line": {
              "color": "#E5ECF6",
              "width": 0.5
             },
             "pattern": {
              "fillmode": "overlay",
              "size": 10,
              "solidity": 0.2
             }
            },
            "type": "bar"
           }
          ],
          "barpolar": [
           {
            "marker": {
             "line": {
              "color": "#E5ECF6",
              "width": 0.5
             },
             "pattern": {
              "fillmode": "overlay",
              "size": 10,
              "solidity": 0.2
             }
            },
            "type": "barpolar"
           }
          ],
          "carpet": [
           {
            "aaxis": {
             "endlinecolor": "#2a3f5f",
             "gridcolor": "white",
             "linecolor": "white",
             "minorgridcolor": "white",
             "startlinecolor": "#2a3f5f"
            },
            "baxis": {
             "endlinecolor": "#2a3f5f",
             "gridcolor": "white",
             "linecolor": "white",
             "minorgridcolor": "white",
             "startlinecolor": "#2a3f5f"
            },
            "type": "carpet"
           }
          ],
          "choropleth": [
           {
            "colorbar": {
             "outlinewidth": 0,
             "ticks": ""
            },
            "type": "choropleth"
           }
          ],
          "contour": [
           {
            "colorbar": {
             "outlinewidth": 0,
             "ticks": ""
            },
            "colorscale": [
             [
              0,
              "#0d0887"
             ],
             [
              0.1111111111111111,
              "#46039f"
             ],
             [
              0.2222222222222222,
              "#7201a8"
             ],
             [
              0.3333333333333333,
              "#9c179e"
             ],
             [
              0.4444444444444444,
              "#bd3786"
             ],
             [
              0.5555555555555556,
              "#d8576b"
             ],
             [
              0.6666666666666666,
              "#ed7953"
             ],
             [
              0.7777777777777778,
              "#fb9f3a"
             ],
             [
              0.8888888888888888,
              "#fdca26"
             ],
             [
              1,
              "#f0f921"
             ]
            ],
            "type": "contour"
           }
          ],
          "contourcarpet": [
           {
            "colorbar": {
             "outlinewidth": 0,
             "ticks": ""
            },
            "type": "contourcarpet"
           }
          ],
          "heatmap": [
           {
            "colorbar": {
             "outlinewidth": 0,
             "ticks": ""
            },
            "colorscale": [
             [
              0,
              "#0d0887"
             ],
             [
              0.1111111111111111,
              "#46039f"
             ],
             [
              0.2222222222222222,
              "#7201a8"
             ],
             [
              0.3333333333333333,
              "#9c179e"
             ],
             [
              0.4444444444444444,
              "#bd3786"
             ],
             [
              0.5555555555555556,
              "#d8576b"
             ],
             [
              0.6666666666666666,
              "#ed7953"
             ],
             [
              0.7777777777777778,
              "#fb9f3a"
             ],
             [
              0.8888888888888888,
              "#fdca26"
             ],
             [
              1,
              "#f0f921"
             ]
            ],
            "type": "heatmap"
           }
          ],
          "heatmapgl": [
           {
            "colorbar": {
             "outlinewidth": 0,
             "ticks": ""
            },
            "colorscale": [
             [
              0,
              "#0d0887"
             ],
             [
              0.1111111111111111,
              "#46039f"
             ],
             [
              0.2222222222222222,
              "#7201a8"
             ],
             [
              0.3333333333333333,
              "#9c179e"
             ],
             [
              0.4444444444444444,
              "#bd3786"
             ],
             [
              0.5555555555555556,
              "#d8576b"
             ],
             [
              0.6666666666666666,
              "#ed7953"
             ],
             [
              0.7777777777777778,
              "#fb9f3a"
             ],
             [
              0.8888888888888888,
              "#fdca26"
             ],
             [
              1,
              "#f0f921"
             ]
            ],
            "type": "heatmapgl"
           }
          ],
          "histogram": [
           {
            "marker": {
             "pattern": {
              "fillmode": "overlay",
              "size": 10,
              "solidity": 0.2
             }
            },
            "type": "histogram"
           }
          ],
          "histogram2d": [
           {
            "colorbar": {
             "outlinewidth": 0,
             "ticks": ""
            },
            "colorscale": [
             [
              0,
              "#0d0887"
             ],
             [
              0.1111111111111111,
              "#46039f"
             ],
             [
              0.2222222222222222,
              "#7201a8"
             ],
             [
              0.3333333333333333,
              "#9c179e"
             ],
             [
              0.4444444444444444,
              "#bd3786"
             ],
             [
              0.5555555555555556,
              "#d8576b"
             ],
             [
              0.6666666666666666,
              "#ed7953"
             ],
             [
              0.7777777777777778,
              "#fb9f3a"
             ],
             [
              0.8888888888888888,
              "#fdca26"
             ],
             [
              1,
              "#f0f921"
             ]
            ],
            "type": "histogram2d"
           }
          ],
          "histogram2dcontour": [
           {
            "colorbar": {
             "outlinewidth": 0,
             "ticks": ""
            },
            "colorscale": [
             [
              0,
              "#0d0887"
             ],
             [
              0.1111111111111111,
              "#46039f"
             ],
             [
              0.2222222222222222,
              "#7201a8"
             ],
             [
              0.3333333333333333,
              "#9c179e"
             ],
             [
              0.4444444444444444,
              "#bd3786"
             ],
             [
              0.5555555555555556,
              "#d8576b"
             ],
             [
              0.6666666666666666,
              "#ed7953"
             ],
             [
              0.7777777777777778,
              "#fb9f3a"
             ],
             [
              0.8888888888888888,
              "#fdca26"
             ],
             [
              1,
              "#f0f921"
             ]
            ],
            "type": "histogram2dcontour"
           }
          ],
          "mesh3d": [
           {
            "colorbar": {
             "outlinewidth": 0,
             "ticks": ""
            },
            "type": "mesh3d"
           }
          ],
          "parcoords": [
           {
            "line": {
             "colorbar": {
              "outlinewidth": 0,
              "ticks": ""
             }
            },
            "type": "parcoords"
           }
          ],
          "pie": [
           {
            "automargin": true,
            "type": "pie"
           }
          ],
          "scatter": [
           {
            "marker": {
             "colorbar": {
              "outlinewidth": 0,
              "ticks": ""
             }
            },
            "type": "scatter"
           }
          ],
          "scatter3d": [
           {
            "line": {
             "colorbar": {
              "outlinewidth": 0,
              "ticks": ""
             }
            },
            "marker": {
             "colorbar": {
              "outlinewidth": 0,
              "ticks": ""
             }
            },
            "type": "scatter3d"
           }
          ],
          "scattercarpet": [
           {
            "marker": {
             "colorbar": {
              "outlinewidth": 0,
              "ticks": ""
             }
            },
            "type": "scattercarpet"
           }
          ],
          "scattergeo": [
           {
            "marker": {
             "colorbar": {
              "outlinewidth": 0,
              "ticks": ""
             }
            },
            "type": "scattergeo"
           }
          ],
          "scattergl": [
           {
            "marker": {
             "colorbar": {
              "outlinewidth": 0,
              "ticks": ""
             }
            },
            "type": "scattergl"
           }
          ],
          "scattermapbox": [
           {
            "marker": {
             "colorbar": {
              "outlinewidth": 0,
              "ticks": ""
             }
            },
            "type": "scattermapbox"
           }
          ],
          "scatterpolar": [
           {
            "marker": {
             "colorbar": {
              "outlinewidth": 0,
              "ticks": ""
             }
            },
            "type": "scatterpolar"
           }
          ],
          "scatterpolargl": [
           {
            "marker": {
             "colorbar": {
              "outlinewidth": 0,
              "ticks": ""
             }
            },
            "type": "scatterpolargl"
           }
          ],
          "scatterternary": [
           {
            "marker": {
             "colorbar": {
              "outlinewidth": 0,
              "ticks": ""
             }
            },
            "type": "scatterternary"
           }
          ],
          "surface": [
           {
            "colorbar": {
             "outlinewidth": 0,
             "ticks": ""
            },
            "colorscale": [
             [
              0,
              "#0d0887"
             ],
             [
              0.1111111111111111,
              "#46039f"
             ],
             [
              0.2222222222222222,
              "#7201a8"
             ],
             [
              0.3333333333333333,
              "#9c179e"
             ],
             [
              0.4444444444444444,
              "#bd3786"
             ],
             [
              0.5555555555555556,
              "#d8576b"
             ],
             [
              0.6666666666666666,
              "#ed7953"
             ],
             [
              0.7777777777777778,
              "#fb9f3a"
             ],
             [
              0.8888888888888888,
              "#fdca26"
             ],
             [
              1,
              "#f0f921"
             ]
            ],
            "type": "surface"
           }
          ],
          "table": [
           {
            "cells": {
             "fill": {
              "color": "#EBF0F8"
             },
             "line": {
              "color": "white"
             }
            },
            "header": {
             "fill": {
              "color": "#C8D4E3"
             },
             "line": {
              "color": "white"
             }
            },
            "type": "table"
           }
          ]
         },
         "layout": {
          "annotationdefaults": {
           "arrowcolor": "#2a3f5f",
           "arrowhead": 0,
           "arrowwidth": 1
          },
          "autotypenumbers": "strict",
          "coloraxis": {
           "colorbar": {
            "outlinewidth": 0,
            "ticks": ""
           }
          },
          "colorscale": {
           "diverging": [
            [
             0,
             "#8e0152"
            ],
            [
             0.1,
             "#c51b7d"
            ],
            [
             0.2,
             "#de77ae"
            ],
            [
             0.3,
             "#f1b6da"
            ],
            [
             0.4,
             "#fde0ef"
            ],
            [
             0.5,
             "#f7f7f7"
            ],
            [
             0.6,
             "#e6f5d0"
            ],
            [
             0.7,
             "#b8e186"
            ],
            [
             0.8,
             "#7fbc41"
            ],
            [
             0.9,
             "#4d9221"
            ],
            [
             1,
             "#276419"
            ]
           ],
           "sequential": [
            [
             0,
             "#0d0887"
            ],
            [
             0.1111111111111111,
             "#46039f"
            ],
            [
             0.2222222222222222,
             "#7201a8"
            ],
            [
             0.3333333333333333,
             "#9c179e"
            ],
            [
             0.4444444444444444,
             "#bd3786"
            ],
            [
             0.5555555555555556,
             "#d8576b"
            ],
            [
             0.6666666666666666,
             "#ed7953"
            ],
            [
             0.7777777777777778,
             "#fb9f3a"
            ],
            [
             0.8888888888888888,
             "#fdca26"
            ],
            [
             1,
             "#f0f921"
            ]
           ],
           "sequentialminus": [
            [
             0,
             "#0d0887"
            ],
            [
             0.1111111111111111,
             "#46039f"
            ],
            [
             0.2222222222222222,
             "#7201a8"
            ],
            [
             0.3333333333333333,
             "#9c179e"
            ],
            [
             0.4444444444444444,
             "#bd3786"
            ],
            [
             0.5555555555555556,
             "#d8576b"
            ],
            [
             0.6666666666666666,
             "#ed7953"
            ],
            [
             0.7777777777777778,
             "#fb9f3a"
            ],
            [
             0.8888888888888888,
             "#fdca26"
            ],
            [
             1,
             "#f0f921"
            ]
           ]
          },
          "colorway": [
           "#636efa",
           "#EF553B",
           "#00cc96",
           "#ab63fa",
           "#FFA15A",
           "#19d3f3",
           "#FF6692",
           "#B6E880",
           "#FF97FF",
           "#FECB52"
          ],
          "font": {
           "color": "#2a3f5f"
          },
          "geo": {
           "bgcolor": "white",
           "lakecolor": "white",
           "landcolor": "#E5ECF6",
           "showlakes": true,
           "showland": true,
           "subunitcolor": "white"
          },
          "hoverlabel": {
           "align": "left"
          },
          "hovermode": "closest",
          "mapbox": {
           "style": "light"
          },
          "paper_bgcolor": "white",
          "plot_bgcolor": "#E5ECF6",
          "polar": {
           "angularaxis": {
            "gridcolor": "white",
            "linecolor": "white",
            "ticks": ""
           },
           "bgcolor": "#E5ECF6",
           "radialaxis": {
            "gridcolor": "white",
            "linecolor": "white",
            "ticks": ""
           }
          },
          "scene": {
           "xaxis": {
            "backgroundcolor": "#E5ECF6",
            "gridcolor": "white",
            "gridwidth": 2,
            "linecolor": "white",
            "showbackground": true,
            "ticks": "",
            "zerolinecolor": "white"
           },
           "yaxis": {
            "backgroundcolor": "#E5ECF6",
            "gridcolor": "white",
            "gridwidth": 2,
            "linecolor": "white",
            "showbackground": true,
            "ticks": "",
            "zerolinecolor": "white"
           },
           "zaxis": {
            "backgroundcolor": "#E5ECF6",
            "gridcolor": "white",
            "gridwidth": 2,
            "linecolor": "white",
            "showbackground": true,
            "ticks": "",
            "zerolinecolor": "white"
           }
          },
          "shapedefaults": {
           "line": {
            "color": "#2a3f5f"
           }
          },
          "ternary": {
           "aaxis": {
            "gridcolor": "white",
            "linecolor": "white",
            "ticks": ""
           },
           "baxis": {
            "gridcolor": "white",
            "linecolor": "white",
            "ticks": ""
           },
           "bgcolor": "#E5ECF6",
           "caxis": {
            "gridcolor": "white",
            "linecolor": "white",
            "ticks": ""
           }
          },
          "title": {
           "x": 0.05
          },
          "xaxis": {
           "automargin": true,
           "gridcolor": "white",
           "linecolor": "white",
           "ticks": "",
           "title": {
            "standoff": 15
           },
           "zerolinecolor": "white",
           "zerolinewidth": 2
          },
          "yaxis": {
           "automargin": true,
           "gridcolor": "white",
           "linecolor": "white",
           "ticks": "",
           "title": {
            "standoff": 15
           },
           "zerolinecolor": "white",
           "zerolinewidth": 2
          }
         }
        },
        "xaxis": {
         "anchor": "y",
         "domain": [
          0,
          1
         ],
         "title": {
          "text": "PM2_5"
         }
        },
        "yaxis": {
         "anchor": "x",
         "domain": [
          0,
          1
         ],
         "title": {
          "text": "asthma_hosp"
         }
        }
       }
      },
      "text/html": [
       "<div>                            <div id=\"55cd0a1a-12d8-4032-8b9b-77b51a722d54\" class=\"plotly-graph-div\" style=\"height:525px; width:100%;\"></div>            <script type=\"text/javascript\">                require([\"plotly\"], function(Plotly) {                    window.PLOTLYENV=window.PLOTLYENV || {};                                    if (document.getElementById(\"55cd0a1a-12d8-4032-8b9b-77b51a722d54\")) {                    Plotly.newPlot(                        \"55cd0a1a-12d8-4032-8b9b-77b51a722d54\",                        [{\"hovertemplate\":\"PM2_5=%{x}<br>asthma_hosp=%{y}<br>year=%{marker.color}<extra></extra>\",\"legendgroup\":\"\",\"marker\":{\"color\":[2009,2009,2009,2009,2009,2009,2009,2009,2009,2009,2010,2010,2010,2010,2010,2010,2010,2010,2010,2010,2011,2011,2011,2011,2011,2011,2011,2011,2011,2011,2012,2012,2012,2012,2012,2012,2012,2012,2012,2012,2013,2013,2013,2013,2013,2013,2013,2013,2013,2013,2014,2014,2014,2014,2014,2014,2014,2014,2014,2014,2015,2015,2015,2015,2015,2015,2015,2015,2015,2015,2016,2016,2016,2016,2016,2016,2016,2016,2016,2016],\"coloraxis\":\"coloraxis\",\"symbol\":\"circle\"},\"mode\":\"markers\",\"name\":\"\",\"orientation\":\"v\",\"showlegend\":false,\"x\":[11.55,11.6,11.55,12.18,12.88,14.24,15.03,12.75,12.08,13.06,10.71,10.62,10.41,11.01,11.83,13.21,14.24,11.56,10.87,12.19,11.12,11.13,11.12,11.49,12.1,13.27,13.93,12.04,11.44,12.28,9.89,9.99,9.98,10.46,11.19,12.42,13.23,10.99,10.35,11.32,9.48,9.7,9.73,10.35,11.1,12.41,13.2,10.81,10.15,11.06,9.49,9.73,9.84,10.42,11.15,12.53,13.23,11.17,10.53,11.36,9.36,9.36,9.51,9.78,10.2,11.39,11.72,10.6,10.06,10.54,7.81,7.95,8.19,8.49,9.07,10.32,10.76,9.52,9.02,9.53],\"xaxis\":\"x\",\"y\":[168,298,254,87,49,27,17,8,80,10,176,246,240,77,48,32,20,0,59,8,164,259,212,75,51,25,9,0,67,9,160,299,203,57,53,30,13,7,77,0,161,276,222,56,41,21,16,6,67,4,217,233,239,64,40,32,14,4,57,2,175,234,197,51,42,21,5,1,67,4,210,284,151,43,39,11,8,4,73,7],\"yaxis\":\"y\",\"type\":\"scatter\"},{\"hovertemplate\":\"<b>OLS trendline</b><br>asthma_hosp = -29.8708 * PM2_5 + 418.459<br>R<sup>2</sup>=0.228162<br><br>PM2_5=%{x}<br>asthma_hosp=%{y} <b>(trend)</b><extra></extra>\",\"legendgroup\":\"\",\"marker\":{\"symbol\":\"circle\"},\"mode\":\"lines\",\"name\":\"\",\"showlegend\":false,\"x\":[7.81,7.95,8.19,8.49,9.02,9.07,9.36,9.36,9.48,9.49,9.51,9.52,9.53,9.7,9.73,9.73,9.78,9.84,9.89,9.98,9.99,10.06,10.15,10.2,10.32,10.35,10.35,10.41,10.42,10.46,10.53,10.54,10.6,10.62,10.71,10.76,10.81,10.87,10.99,11.01,11.06,11.1,11.12,11.12,11.13,11.15,11.17,11.19,11.32,11.36,11.39,11.44,11.49,11.55,11.55,11.56,11.6,11.72,11.83,12.04,12.08,12.1,12.18,12.19,12.28,12.41,12.42,12.53,12.75,12.88,13.06,13.2,13.21,13.23,13.23,13.27,13.93,14.24,14.24,15.03],\"xaxis\":\"x\",\"y\":[185.16771192395558,180.98580178793,173.81681298331478,164.85557697754572,149.0240600340204,147.53052069972557,138.86799256081554,138.86799256081554,135.28349815850788,134.9847902916489,134.38737455793097,134.08866669107204,133.78995882421304,128.7119250876106,127.81580148703364,127.81580148703364,126.32226215273886,124.53001495158503,123.0364756172902,120.34810481555945,120.04939694870052,117.9584418806877,115.27007107895702,113.77653174466218,110.19203734235452,109.29591374177767,109.29591374177767,107.50366654062384,107.20495867376485,106.010127206329,103.91917213831624,103.62046427145731,101.82821707030348,101.23080133658556,98.54243053485476,97.04889120055998,95.55535186626508,93.76310466511131,90.17861026280366,89.58119452908574,88.0876551947909,86.89282372735505,86.29540799363713,86.29540799363713,85.99670012677814,85.39928439306021,84.80186865934229,84.20445292562437,80.32125065645772,79.12641918902187,78.23029558844496,76.73675625415012,75.24321691985529,73.45096971870146,73.45096971870146,73.15226185184247,71.95743038440662,68.37293598209902,65.08714944665036,58.814284242612075,57.61945277517617,57.02203704145825,54.6323741065865,54.333666239727506,51.64529543799682,47.76209316883023,47.46338530197124,44.177598766522635,37.606025695625306,33.72282342645866,28.34608182299729,24.16417168697177,23.865463820112723,23.2680480863948,23.2680480863948,22.073216618958952,2.3584974062670767,-6.901446466360937,-6.901446466360937,-30.4993679482194],\"yaxis\":\"y\",\"type\":\"scatter\"}],                        {\"template\":{\"data\":{\"bar\":[{\"error_x\":{\"color\":\"#2a3f5f\"},\"error_y\":{\"color\":\"#2a3f5f\"},\"marker\":{\"line\":{\"color\":\"#E5ECF6\",\"width\":0.5},\"pattern\":{\"fillmode\":\"overlay\",\"size\":10,\"solidity\":0.2}},\"type\":\"bar\"}],\"barpolar\":[{\"marker\":{\"line\":{\"color\":\"#E5ECF6\",\"width\":0.5},\"pattern\":{\"fillmode\":\"overlay\",\"size\":10,\"solidity\":0.2}},\"type\":\"barpolar\"}],\"carpet\":[{\"aaxis\":{\"endlinecolor\":\"#2a3f5f\",\"gridcolor\":\"white\",\"linecolor\":\"white\",\"minorgridcolor\":\"white\",\"startlinecolor\":\"#2a3f5f\"},\"baxis\":{\"endlinecolor\":\"#2a3f5f\",\"gridcolor\":\"white\",\"linecolor\":\"white\",\"minorgridcolor\":\"white\",\"startlinecolor\":\"#2a3f5f\"},\"type\":\"carpet\"}],\"choropleth\":[{\"colorbar\":{\"outlinewidth\":0,\"ticks\":\"\"},\"type\":\"choropleth\"}],\"contour\":[{\"colorbar\":{\"outlinewidth\":0,\"ticks\":\"\"},\"colorscale\":[[0.0,\"#0d0887\"],[0.1111111111111111,\"#46039f\"],[0.2222222222222222,\"#7201a8\"],[0.3333333333333333,\"#9c179e\"],[0.4444444444444444,\"#bd3786\"],[0.5555555555555556,\"#d8576b\"],[0.6666666666666666,\"#ed7953\"],[0.7777777777777778,\"#fb9f3a\"],[0.8888888888888888,\"#fdca26\"],[1.0,\"#f0f921\"]],\"type\":\"contour\"}],\"contourcarpet\":[{\"colorbar\":{\"outlinewidth\":0,\"ticks\":\"\"},\"type\":\"contourcarpet\"}],\"heatmap\":[{\"colorbar\":{\"outlinewidth\":0,\"ticks\":\"\"},\"colorscale\":[[0.0,\"#0d0887\"],[0.1111111111111111,\"#46039f\"],[0.2222222222222222,\"#7201a8\"],[0.3333333333333333,\"#9c179e\"],[0.4444444444444444,\"#bd3786\"],[0.5555555555555556,\"#d8576b\"],[0.6666666666666666,\"#ed7953\"],[0.7777777777777778,\"#fb9f3a\"],[0.8888888888888888,\"#fdca26\"],[1.0,\"#f0f921\"]],\"type\":\"heatmap\"}],\"heatmapgl\":[{\"colorbar\":{\"outlinewidth\":0,\"ticks\":\"\"},\"colorscale\":[[0.0,\"#0d0887\"],[0.1111111111111111,\"#46039f\"],[0.2222222222222222,\"#7201a8\"],[0.3333333333333333,\"#9c179e\"],[0.4444444444444444,\"#bd3786\"],[0.5555555555555556,\"#d8576b\"],[0.6666666666666666,\"#ed7953\"],[0.7777777777777778,\"#fb9f3a\"],[0.8888888888888888,\"#fdca26\"],[1.0,\"#f0f921\"]],\"type\":\"heatmapgl\"}],\"histogram\":[{\"marker\":{\"pattern\":{\"fillmode\":\"overlay\",\"size\":10,\"solidity\":0.2}},\"type\":\"histogram\"}],\"histogram2d\":[{\"colorbar\":{\"outlinewidth\":0,\"ticks\":\"\"},\"colorscale\":[[0.0,\"#0d0887\"],[0.1111111111111111,\"#46039f\"],[0.2222222222222222,\"#7201a8\"],[0.3333333333333333,\"#9c179e\"],[0.4444444444444444,\"#bd3786\"],[0.5555555555555556,\"#d8576b\"],[0.6666666666666666,\"#ed7953\"],[0.7777777777777778,\"#fb9f3a\"],[0.8888888888888888,\"#fdca26\"],[1.0,\"#f0f921\"]],\"type\":\"histogram2d\"}],\"histogram2dcontour\":[{\"colorbar\":{\"outlinewidth\":0,\"ticks\":\"\"},\"colorscale\":[[0.0,\"#0d0887\"],[0.1111111111111111,\"#46039f\"],[0.2222222222222222,\"#7201a8\"],[0.3333333333333333,\"#9c179e\"],[0.4444444444444444,\"#bd3786\"],[0.5555555555555556,\"#d8576b\"],[0.6666666666666666,\"#ed7953\"],[0.7777777777777778,\"#fb9f3a\"],[0.8888888888888888,\"#fdca26\"],[1.0,\"#f0f921\"]],\"type\":\"histogram2dcontour\"}],\"mesh3d\":[{\"colorbar\":{\"outlinewidth\":0,\"ticks\":\"\"},\"type\":\"mesh3d\"}],\"parcoords\":[{\"line\":{\"colorbar\":{\"outlinewidth\":0,\"ticks\":\"\"}},\"type\":\"parcoords\"}],\"pie\":[{\"automargin\":true,\"type\":\"pie\"}],\"scatter\":[{\"marker\":{\"colorbar\":{\"outlinewidth\":0,\"ticks\":\"\"}},\"type\":\"scatter\"}],\"scatter3d\":[{\"line\":{\"colorbar\":{\"outlinewidth\":0,\"ticks\":\"\"}},\"marker\":{\"colorbar\":{\"outlinewidth\":0,\"ticks\":\"\"}},\"type\":\"scatter3d\"}],\"scattercarpet\":[{\"marker\":{\"colorbar\":{\"outlinewidth\":0,\"ticks\":\"\"}},\"type\":\"scattercarpet\"}],\"scattergeo\":[{\"marker\":{\"colorbar\":{\"outlinewidth\":0,\"ticks\":\"\"}},\"type\":\"scattergeo\"}],\"scattergl\":[{\"marker\":{\"colorbar\":{\"outlinewidth\":0,\"ticks\":\"\"}},\"type\":\"scattergl\"}],\"scattermapbox\":[{\"marker\":{\"colorbar\":{\"outlinewidth\":0,\"ticks\":\"\"}},\"type\":\"scattermapbox\"}],\"scatterpolar\":[{\"marker\":{\"colorbar\":{\"outlinewidth\":0,\"ticks\":\"\"}},\"type\":\"scatterpolar\"}],\"scatterpolargl\":[{\"marker\":{\"colorbar\":{\"outlinewidth\":0,\"ticks\":\"\"}},\"type\":\"scatterpolargl\"}],\"scatterternary\":[{\"marker\":{\"colorbar\":{\"outlinewidth\":0,\"ticks\":\"\"}},\"type\":\"scatterternary\"}],\"surface\":[{\"colorbar\":{\"outlinewidth\":0,\"ticks\":\"\"},\"colorscale\":[[0.0,\"#0d0887\"],[0.1111111111111111,\"#46039f\"],[0.2222222222222222,\"#7201a8\"],[0.3333333333333333,\"#9c179e\"],[0.4444444444444444,\"#bd3786\"],[0.5555555555555556,\"#d8576b\"],[0.6666666666666666,\"#ed7953\"],[0.7777777777777778,\"#fb9f3a\"],[0.8888888888888888,\"#fdca26\"],[1.0,\"#f0f921\"]],\"type\":\"surface\"}],\"table\":[{\"cells\":{\"fill\":{\"color\":\"#EBF0F8\"},\"line\":{\"color\":\"white\"}},\"header\":{\"fill\":{\"color\":\"#C8D4E3\"},\"line\":{\"color\":\"white\"}},\"type\":\"table\"}]},\"layout\":{\"annotationdefaults\":{\"arrowcolor\":\"#2a3f5f\",\"arrowhead\":0,\"arrowwidth\":1},\"autotypenumbers\":\"strict\",\"coloraxis\":{\"colorbar\":{\"outlinewidth\":0,\"ticks\":\"\"}},\"colorscale\":{\"diverging\":[[0,\"#8e0152\"],[0.1,\"#c51b7d\"],[0.2,\"#de77ae\"],[0.3,\"#f1b6da\"],[0.4,\"#fde0ef\"],[0.5,\"#f7f7f7\"],[0.6,\"#e6f5d0\"],[0.7,\"#b8e186\"],[0.8,\"#7fbc41\"],[0.9,\"#4d9221\"],[1,\"#276419\"]],\"sequential\":[[0.0,\"#0d0887\"],[0.1111111111111111,\"#46039f\"],[0.2222222222222222,\"#7201a8\"],[0.3333333333333333,\"#9c179e\"],[0.4444444444444444,\"#bd3786\"],[0.5555555555555556,\"#d8576b\"],[0.6666666666666666,\"#ed7953\"],[0.7777777777777778,\"#fb9f3a\"],[0.8888888888888888,\"#fdca26\"],[1.0,\"#f0f921\"]],\"sequentialminus\":[[0.0,\"#0d0887\"],[0.1111111111111111,\"#46039f\"],[0.2222222222222222,\"#7201a8\"],[0.3333333333333333,\"#9c179e\"],[0.4444444444444444,\"#bd3786\"],[0.5555555555555556,\"#d8576b\"],[0.6666666666666666,\"#ed7953\"],[0.7777777777777778,\"#fb9f3a\"],[0.8888888888888888,\"#fdca26\"],[1.0,\"#f0f921\"]]},\"colorway\":[\"#636efa\",\"#EF553B\",\"#00cc96\",\"#ab63fa\",\"#FFA15A\",\"#19d3f3\",\"#FF6692\",\"#B6E880\",\"#FF97FF\",\"#FECB52\"],\"font\":{\"color\":\"#2a3f5f\"},\"geo\":{\"bgcolor\":\"white\",\"lakecolor\":\"white\",\"landcolor\":\"#E5ECF6\",\"showlakes\":true,\"showland\":true,\"subunitcolor\":\"white\"},\"hoverlabel\":{\"align\":\"left\"},\"hovermode\":\"closest\",\"mapbox\":{\"style\":\"light\"},\"paper_bgcolor\":\"white\",\"plot_bgcolor\":\"#E5ECF6\",\"polar\":{\"angularaxis\":{\"gridcolor\":\"white\",\"linecolor\":\"white\",\"ticks\":\"\"},\"bgcolor\":\"#E5ECF6\",\"radialaxis\":{\"gridcolor\":\"white\",\"linecolor\":\"white\",\"ticks\":\"\"}},\"scene\":{\"xaxis\":{\"backgroundcolor\":\"#E5ECF6\",\"gridcolor\":\"white\",\"gridwidth\":2,\"linecolor\":\"white\",\"showbackground\":true,\"ticks\":\"\",\"zerolinecolor\":\"white\"},\"yaxis\":{\"backgroundcolor\":\"#E5ECF6\",\"gridcolor\":\"white\",\"gridwidth\":2,\"linecolor\":\"white\",\"showbackground\":true,\"ticks\":\"\",\"zerolinecolor\":\"white\"},\"zaxis\":{\"backgroundcolor\":\"#E5ECF6\",\"gridcolor\":\"white\",\"gridwidth\":2,\"linecolor\":\"white\",\"showbackground\":true,\"ticks\":\"\",\"zerolinecolor\":\"white\"}},\"shapedefaults\":{\"line\":{\"color\":\"#2a3f5f\"}},\"ternary\":{\"aaxis\":{\"gridcolor\":\"white\",\"linecolor\":\"white\",\"ticks\":\"\"},\"baxis\":{\"gridcolor\":\"white\",\"linecolor\":\"white\",\"ticks\":\"\"},\"bgcolor\":\"#E5ECF6\",\"caxis\":{\"gridcolor\":\"white\",\"linecolor\":\"white\",\"ticks\":\"\"}},\"title\":{\"x\":0.05},\"xaxis\":{\"automargin\":true,\"gridcolor\":\"white\",\"linecolor\":\"white\",\"ticks\":\"\",\"title\":{\"standoff\":15},\"zerolinecolor\":\"white\",\"zerolinewidth\":2},\"yaxis\":{\"automargin\":true,\"gridcolor\":\"white\",\"linecolor\":\"white\",\"ticks\":\"\",\"title\":{\"standoff\":15},\"zerolinecolor\":\"white\",\"zerolinewidth\":2}}},\"xaxis\":{\"anchor\":\"y\",\"domain\":[0.0,1.0],\"title\":{\"text\":\"PM2_5\"}},\"yaxis\":{\"anchor\":\"x\",\"domain\":[0.0,1.0],\"title\":{\"text\":\"asthma_hosp\"}},\"coloraxis\":{\"colorbar\":{\"title\":{\"text\":\"year\"}},\"colorscale\":[[0.0,\"#0d0887\"],[0.1111111111111111,\"#46039f\"],[0.2222222222222222,\"#7201a8\"],[0.3333333333333333,\"#9c179e\"],[0.4444444444444444,\"#bd3786\"],[0.5555555555555556,\"#d8576b\"],[0.6666666666666666,\"#ed7953\"],[0.7777777777777778,\"#fb9f3a\"],[0.8888888888888888,\"#fdca26\"],[1.0,\"#f0f921\"]]},\"legend\":{\"tracegroupgap\":0},\"margin\":{\"t\":60}},                        {\"responsive\": true}                    ).then(function(){\n",
       "                            \n",
       "var gd = document.getElementById('55cd0a1a-12d8-4032-8b9b-77b51a722d54');\n",
       "var x = new MutationObserver(function (mutations, observer) {{\n",
       "        var display = window.getComputedStyle(gd).display;\n",
       "        if (!display || display === 'none') {{\n",
       "            console.log([gd, 'removed!']);\n",
       "            Plotly.purge(gd);\n",
       "            observer.disconnect();\n",
       "        }}\n",
       "}});\n",
       "\n",
       "// Listen for the removal of the full notebook cells\n",
       "var notebookContainer = gd.closest('#notebook-container');\n",
       "if (notebookContainer) {{\n",
       "    x.observe(notebookContainer, {childList: true});\n",
       "}}\n",
       "\n",
       "// Listen for the clearing of the current output cell\n",
       "var outputEl = gd.closest('.output');\n",
       "if (outputEl) {{\n",
       "    x.observe(outputEl, {childList: true});\n",
       "}}\n",
       "\n",
       "                        })                };                });            </script>        </div>"
      ]
     },
     "metadata": {},
     "output_type": "display_data"
    }
   ],
   "source": [
    "df_manhattan=df[df.Boroughs==\"Manhattan\"]\n",
    "fig = px.scatter(df_manhattan, x=\"PM2_5\", y=\"asthma_hosp\",trendline=\"ols\",color=\"year\")\n",
    "fig.show()"
   ]
  },
  {
   "cell_type": "code",
   "execution_count": 152,
   "id": "3c9a9f66",
   "metadata": {},
   "outputs": [
    {
     "data": {
      "application/vnd.plotly.v1+json": {
       "config": {
        "plotlyServerURL": "https://plotly.com"
       },
       "data": [
        {
         "hovertemplate": "Boroughs=Bronx<br>NO2=%{x}<br>asthma_hosp=%{y}<extra></extra>",
         "legendgroup": "",
         "marker": {
          "color": "#636efa",
          "symbol": "circle"
         },
         "mode": "markers",
         "name": "",
         "orientation": "v",
         "showlegend": false,
         "type": "scatter",
         "x": [
          16.04,
          17.52,
          17.93,
          17.92,
          20.37,
          21.08,
          19.91
         ],
         "xaxis": "x",
         "y": [
          53,
          265,
          545,
          441,
          427,
          565,
          361
         ],
         "yaxis": "y"
        },
        {
         "hovertemplate": "<b>OLS trendline</b><br>asthma_hosp = 67.7397 * NO2 + -885.904<br>R<sup>2</sup>=0.478280<br><br>Boroughs=Bronx<br>NO2=%{x}<br>asthma_hosp=%{y} <b>(trend)</b><extra></extra>",
         "legendgroup": "",
         "marker": {
          "color": "#636efa",
          "symbol": "circle"
         },
         "mode": "lines",
         "name": "",
         "showlegend": false,
         "type": "scatter",
         "x": [
          16.04,
          17.52,
          17.92,
          17.93,
          19.91,
          20.37,
          21.08
         ],
         "xaxis": "x",
         "y": [
          200.641762345904,
          300.89656721861525,
          327.9924604274563,
          328.6698577576774,
          462.79452914143985,
          493.95480633160696,
          542.0500167772993
         ],
         "yaxis": "y"
        },
        {
         "hovertemplate": "Boroughs=Brooklyn<br>NO2=%{x}<br>asthma_hosp=%{y}<extra></extra>",
         "legendgroup": "",
         "marker": {
          "color": "#636efa",
          "symbol": "circle"
         },
         "mode": "markers",
         "name": "",
         "orientation": "v",
         "showlegend": false,
         "type": "scatter",
         "x": [
          21.44,
          21.65,
          20.2,
          18.26,
          19.32,
          18.87,
          18.86,
          15.3,
          17.78,
          15.62,
          20.82
         ],
         "xaxis": "x2",
         "y": [
          26,
          112,
          473,
          361,
          33,
          72,
          364,
          172,
          30,
          84,
          240
         ],
         "yaxis": "y2"
        },
        {
         "hovertemplate": "<b>OLS trendline</b><br>asthma_hosp = 5.52157 * NO2 + 74.3502<br>R<sup>2</sup>=0.005494<br><br>Boroughs=Brooklyn<br>NO2=%{x}<br>asthma_hosp=%{y} <b>(trend)</b><extra></extra>",
         "legendgroup": "",
         "marker": {
          "color": "#636efa",
          "symbol": "circle"
         },
         "mode": "lines",
         "name": "",
         "showlegend": false,
         "type": "scatter",
         "x": [
          15.3,
          15.62,
          17.78,
          18.26,
          18.86,
          18.87,
          19.32,
          20.2,
          20.82,
          21.44,
          21.65
         ],
         "xaxis": "x2",
         "y": [
          158.83011576764278,
          160.59701663398874,
          172.5235974818242,
          175.1739487813432,
          178.48688790574192,
          178.54210355781524,
          181.0268079011143,
          185.88578528356575,
          189.30915571211114,
          192.7325261406565,
          193.89205483419602
         ],
         "yaxis": "y2"
        },
        {
         "hovertemplate": "Boroughs=Manhattan<br>NO2=%{x}<br>asthma_hosp=%{y}<extra></extra>",
         "legendgroup": "",
         "marker": {
          "color": "#636efa",
          "symbol": "circle"
         },
         "mode": "markers",
         "name": "",
         "orientation": "v",
         "showlegend": false,
         "type": "scatter",
         "x": [
          19.85,
          22.19,
          22.19,
          23.15,
          24.81,
          28.36,
          30.14,
          25.93,
          24.49,
          26.15
         ],
         "xaxis": "x3",
         "y": [
          210,
          284,
          151,
          43,
          39,
          11,
          8,
          4,
          73,
          7
         ],
         "yaxis": "y3"
        },
        {
         "hovertemplate": "<b>OLS trendline</b><br>asthma_hosp = -24.7803 * NO2 + 695.719<br>R<sup>2</sup>=0.596987<br><br>Boroughs=Manhattan<br>NO2=%{x}<br>asthma_hosp=%{y} <b>(trend)</b><extra></extra>",
         "legendgroup": "",
         "marker": {
          "color": "#636efa",
          "symbol": "circle"
         },
         "mode": "lines",
         "name": "",
         "showlegend": false,
         "type": "scatter",
         "x": [
          19.85,
          22.19,
          22.19,
          23.15,
          24.49,
          24.81,
          25.93,
          26.15,
          28.36,
          30.14
         ],
         "xaxis": "x3",
         "y": [
          203.82890760706448,
          145.84292651589726,
          145.84292651589726,
          122.05380606823906,
          88.84815877671588,
          80.91845196082977,
          53.16447810522834,
          47.712804669306706,
          -7.051733027906721,
          -51.16072719127328
         ],
         "yaxis": "y3"
        },
        {
         "hovertemplate": "Boroughs=Queens<br>NO2=%{x}<br>asthma_hosp=%{y}<extra></extra>",
         "legendgroup": "",
         "marker": {
          "color": "#636efa",
          "symbol": "circle"
         },
         "mode": "markers",
         "name": "",
         "orientation": "v",
         "showlegend": false,
         "type": "scatter",
         "x": [
          20.91,
          20.53,
          18.24,
          16.43,
          18.65,
          18.09,
          17.8,
          17.56,
          16.16,
          11.72
         ],
         "xaxis": "x4",
         "y": [
          55,
          199,
          79,
          7,
          97,
          51,
          146,
          239,
          115,
          73
         ],
         "yaxis": "y4"
        },
        {
         "hovertemplate": "<b>OLS trendline</b><br>asthma_hosp = 5.89007 * NO2 + 2.38173<br>R<sup>2</sup>=0.045409<br><br>Boroughs=Queens<br>NO2=%{x}<br>asthma_hosp=%{y} <b>(trend)</b><extra></extra>",
         "legendgroup": "",
         "marker": {
          "color": "#636efa",
          "symbol": "circle"
         },
         "mode": "lines",
         "name": "",
         "showlegend": false,
         "type": "scatter",
         "x": [
          11.72,
          16.16,
          16.43,
          17.56,
          17.8,
          18.09,
          18.24,
          18.65,
          20.53,
          20.91
         ],
         "xaxis": "x4",
         "y": [
          71.41336751647701,
          97.56528604710056,
          99.15560541720603,
          105.81138648468455,
          107.2250037025561,
          108.93312450748421,
          109.81663526865391,
          112.2315646825178,
          123.3048995558449,
          125.54312681747484
         ],
         "yaxis": "y4"
        },
        {
         "hovertemplate": "Boroughs=Staten Island<br>NO2=%{x}<br>asthma_hosp=%{y}<extra></extra>",
         "legendgroup": "",
         "marker": {
          "color": "#636efa",
          "symbol": "circle"
         },
         "mode": "markers",
         "name": "",
         "orientation": "v",
         "showlegend": false,
         "type": "scatter",
         "x": [
          17.47,
          14.93,
          14.11,
          11.52
         ],
         "xaxis": "x5",
         "y": [
          83,
          72,
          12,
          36
         ],
         "yaxis": "y5"
        },
        {
         "hovertemplate": "<b>OLS trendline</b><br>asthma_hosp = 9.09119 * NO2 + -81.1404<br>R<sup>2</sup>=0.464328<br><br>Boroughs=Staten Island<br>NO2=%{x}<br>asthma_hosp=%{y} <b>(trend)</b><extra></extra>",
         "legendgroup": "",
         "marker": {
          "color": "#636efa",
          "symbol": "circle"
         },
         "mode": "lines",
         "name": "",
         "showlegend": false,
         "type": "scatter",
         "x": [
          11.52,
          14.11,
          14.93,
          17.47
         ],
         "xaxis": "x5",
         "y": [
          23.59008098147946,
          47.13625345276587,
          54.591026204292845,
          77.68263936146177
         ],
         "yaxis": "y5"
        }
       ],
       "layout": {
        "annotations": [
         {
          "font": {},
          "showarrow": false,
          "text": "Boroughs=Bronx",
          "x": 0.09200000000000001,
          "xanchor": "center",
          "xref": "paper",
          "y": 1,
          "yanchor": "bottom",
          "yref": "paper"
         },
         {
          "font": {},
          "showarrow": false,
          "text": "Boroughs=Brooklyn",
          "x": 0.29600000000000004,
          "xanchor": "center",
          "xref": "paper",
          "y": 1,
          "yanchor": "bottom",
          "yref": "paper"
         },
         {
          "font": {},
          "showarrow": false,
          "text": "Boroughs=Manhattan",
          "x": 0.5,
          "xanchor": "center",
          "xref": "paper",
          "y": 1,
          "yanchor": "bottom",
          "yref": "paper"
         },
         {
          "font": {},
          "showarrow": false,
          "text": "Boroughs=Queens",
          "x": 0.7040000000000002,
          "xanchor": "center",
          "xref": "paper",
          "y": 1,
          "yanchor": "bottom",
          "yref": "paper"
         },
         {
          "font": {},
          "showarrow": false,
          "text": "Boroughs=Staten Island",
          "x": 0.908,
          "xanchor": "center",
          "xref": "paper",
          "y": 1,
          "yanchor": "bottom",
          "yref": "paper"
         }
        ],
        "legend": {
         "tracegroupgap": 0
        },
        "margin": {
         "t": 60
        },
        "template": {
         "data": {
          "bar": [
           {
            "error_x": {
             "color": "#2a3f5f"
            },
            "error_y": {
             "color": "#2a3f5f"
            },
            "marker": {
             "line": {
              "color": "#E5ECF6",
              "width": 0.5
             },
             "pattern": {
              "fillmode": "overlay",
              "size": 10,
              "solidity": 0.2
             }
            },
            "type": "bar"
           }
          ],
          "barpolar": [
           {
            "marker": {
             "line": {
              "color": "#E5ECF6",
              "width": 0.5
             },
             "pattern": {
              "fillmode": "overlay",
              "size": 10,
              "solidity": 0.2
             }
            },
            "type": "barpolar"
           }
          ],
          "carpet": [
           {
            "aaxis": {
             "endlinecolor": "#2a3f5f",
             "gridcolor": "white",
             "linecolor": "white",
             "minorgridcolor": "white",
             "startlinecolor": "#2a3f5f"
            },
            "baxis": {
             "endlinecolor": "#2a3f5f",
             "gridcolor": "white",
             "linecolor": "white",
             "minorgridcolor": "white",
             "startlinecolor": "#2a3f5f"
            },
            "type": "carpet"
           }
          ],
          "choropleth": [
           {
            "colorbar": {
             "outlinewidth": 0,
             "ticks": ""
            },
            "type": "choropleth"
           }
          ],
          "contour": [
           {
            "colorbar": {
             "outlinewidth": 0,
             "ticks": ""
            },
            "colorscale": [
             [
              0,
              "#0d0887"
             ],
             [
              0.1111111111111111,
              "#46039f"
             ],
             [
              0.2222222222222222,
              "#7201a8"
             ],
             [
              0.3333333333333333,
              "#9c179e"
             ],
             [
              0.4444444444444444,
              "#bd3786"
             ],
             [
              0.5555555555555556,
              "#d8576b"
             ],
             [
              0.6666666666666666,
              "#ed7953"
             ],
             [
              0.7777777777777778,
              "#fb9f3a"
             ],
             [
              0.8888888888888888,
              "#fdca26"
             ],
             [
              1,
              "#f0f921"
             ]
            ],
            "type": "contour"
           }
          ],
          "contourcarpet": [
           {
            "colorbar": {
             "outlinewidth": 0,
             "ticks": ""
            },
            "type": "contourcarpet"
           }
          ],
          "heatmap": [
           {
            "colorbar": {
             "outlinewidth": 0,
             "ticks": ""
            },
            "colorscale": [
             [
              0,
              "#0d0887"
             ],
             [
              0.1111111111111111,
              "#46039f"
             ],
             [
              0.2222222222222222,
              "#7201a8"
             ],
             [
              0.3333333333333333,
              "#9c179e"
             ],
             [
              0.4444444444444444,
              "#bd3786"
             ],
             [
              0.5555555555555556,
              "#d8576b"
             ],
             [
              0.6666666666666666,
              "#ed7953"
             ],
             [
              0.7777777777777778,
              "#fb9f3a"
             ],
             [
              0.8888888888888888,
              "#fdca26"
             ],
             [
              1,
              "#f0f921"
             ]
            ],
            "type": "heatmap"
           }
          ],
          "heatmapgl": [
           {
            "colorbar": {
             "outlinewidth": 0,
             "ticks": ""
            },
            "colorscale": [
             [
              0,
              "#0d0887"
             ],
             [
              0.1111111111111111,
              "#46039f"
             ],
             [
              0.2222222222222222,
              "#7201a8"
             ],
             [
              0.3333333333333333,
              "#9c179e"
             ],
             [
              0.4444444444444444,
              "#bd3786"
             ],
             [
              0.5555555555555556,
              "#d8576b"
             ],
             [
              0.6666666666666666,
              "#ed7953"
             ],
             [
              0.7777777777777778,
              "#fb9f3a"
             ],
             [
              0.8888888888888888,
              "#fdca26"
             ],
             [
              1,
              "#f0f921"
             ]
            ],
            "type": "heatmapgl"
           }
          ],
          "histogram": [
           {
            "marker": {
             "pattern": {
              "fillmode": "overlay",
              "size": 10,
              "solidity": 0.2
             }
            },
            "type": "histogram"
           }
          ],
          "histogram2d": [
           {
            "colorbar": {
             "outlinewidth": 0,
             "ticks": ""
            },
            "colorscale": [
             [
              0,
              "#0d0887"
             ],
             [
              0.1111111111111111,
              "#46039f"
             ],
             [
              0.2222222222222222,
              "#7201a8"
             ],
             [
              0.3333333333333333,
              "#9c179e"
             ],
             [
              0.4444444444444444,
              "#bd3786"
             ],
             [
              0.5555555555555556,
              "#d8576b"
             ],
             [
              0.6666666666666666,
              "#ed7953"
             ],
             [
              0.7777777777777778,
              "#fb9f3a"
             ],
             [
              0.8888888888888888,
              "#fdca26"
             ],
             [
              1,
              "#f0f921"
             ]
            ],
            "type": "histogram2d"
           }
          ],
          "histogram2dcontour": [
           {
            "colorbar": {
             "outlinewidth": 0,
             "ticks": ""
            },
            "colorscale": [
             [
              0,
              "#0d0887"
             ],
             [
              0.1111111111111111,
              "#46039f"
             ],
             [
              0.2222222222222222,
              "#7201a8"
             ],
             [
              0.3333333333333333,
              "#9c179e"
             ],
             [
              0.4444444444444444,
              "#bd3786"
             ],
             [
              0.5555555555555556,
              "#d8576b"
             ],
             [
              0.6666666666666666,
              "#ed7953"
             ],
             [
              0.7777777777777778,
              "#fb9f3a"
             ],
             [
              0.8888888888888888,
              "#fdca26"
             ],
             [
              1,
              "#f0f921"
             ]
            ],
            "type": "histogram2dcontour"
           }
          ],
          "mesh3d": [
           {
            "colorbar": {
             "outlinewidth": 0,
             "ticks": ""
            },
            "type": "mesh3d"
           }
          ],
          "parcoords": [
           {
            "line": {
             "colorbar": {
              "outlinewidth": 0,
              "ticks": ""
             }
            },
            "type": "parcoords"
           }
          ],
          "pie": [
           {
            "automargin": true,
            "type": "pie"
           }
          ],
          "scatter": [
           {
            "marker": {
             "colorbar": {
              "outlinewidth": 0,
              "ticks": ""
             }
            },
            "type": "scatter"
           }
          ],
          "scatter3d": [
           {
            "line": {
             "colorbar": {
              "outlinewidth": 0,
              "ticks": ""
             }
            },
            "marker": {
             "colorbar": {
              "outlinewidth": 0,
              "ticks": ""
             }
            },
            "type": "scatter3d"
           }
          ],
          "scattercarpet": [
           {
            "marker": {
             "colorbar": {
              "outlinewidth": 0,
              "ticks": ""
             }
            },
            "type": "scattercarpet"
           }
          ],
          "scattergeo": [
           {
            "marker": {
             "colorbar": {
              "outlinewidth": 0,
              "ticks": ""
             }
            },
            "type": "scattergeo"
           }
          ],
          "scattergl": [
           {
            "marker": {
             "colorbar": {
              "outlinewidth": 0,
              "ticks": ""
             }
            },
            "type": "scattergl"
           }
          ],
          "scattermapbox": [
           {
            "marker": {
             "colorbar": {
              "outlinewidth": 0,
              "ticks": ""
             }
            },
            "type": "scattermapbox"
           }
          ],
          "scatterpolar": [
           {
            "marker": {
             "colorbar": {
              "outlinewidth": 0,
              "ticks": ""
             }
            },
            "type": "scatterpolar"
           }
          ],
          "scatterpolargl": [
           {
            "marker": {
             "colorbar": {
              "outlinewidth": 0,
              "ticks": ""
             }
            },
            "type": "scatterpolargl"
           }
          ],
          "scatterternary": [
           {
            "marker": {
             "colorbar": {
              "outlinewidth": 0,
              "ticks": ""
             }
            },
            "type": "scatterternary"
           }
          ],
          "surface": [
           {
            "colorbar": {
             "outlinewidth": 0,
             "ticks": ""
            },
            "colorscale": [
             [
              0,
              "#0d0887"
             ],
             [
              0.1111111111111111,
              "#46039f"
             ],
             [
              0.2222222222222222,
              "#7201a8"
             ],
             [
              0.3333333333333333,
              "#9c179e"
             ],
             [
              0.4444444444444444,
              "#bd3786"
             ],
             [
              0.5555555555555556,
              "#d8576b"
             ],
             [
              0.6666666666666666,
              "#ed7953"
             ],
             [
              0.7777777777777778,
              "#fb9f3a"
             ],
             [
              0.8888888888888888,
              "#fdca26"
             ],
             [
              1,
              "#f0f921"
             ]
            ],
            "type": "surface"
           }
          ],
          "table": [
           {
            "cells": {
             "fill": {
              "color": "#EBF0F8"
             },
             "line": {
              "color": "white"
             }
            },
            "header": {
             "fill": {
              "color": "#C8D4E3"
             },
             "line": {
              "color": "white"
             }
            },
            "type": "table"
           }
          ]
         },
         "layout": {
          "annotationdefaults": {
           "arrowcolor": "#2a3f5f",
           "arrowhead": 0,
           "arrowwidth": 1
          },
          "autotypenumbers": "strict",
          "coloraxis": {
           "colorbar": {
            "outlinewidth": 0,
            "ticks": ""
           }
          },
          "colorscale": {
           "diverging": [
            [
             0,
             "#8e0152"
            ],
            [
             0.1,
             "#c51b7d"
            ],
            [
             0.2,
             "#de77ae"
            ],
            [
             0.3,
             "#f1b6da"
            ],
            [
             0.4,
             "#fde0ef"
            ],
            [
             0.5,
             "#f7f7f7"
            ],
            [
             0.6,
             "#e6f5d0"
            ],
            [
             0.7,
             "#b8e186"
            ],
            [
             0.8,
             "#7fbc41"
            ],
            [
             0.9,
             "#4d9221"
            ],
            [
             1,
             "#276419"
            ]
           ],
           "sequential": [
            [
             0,
             "#0d0887"
            ],
            [
             0.1111111111111111,
             "#46039f"
            ],
            [
             0.2222222222222222,
             "#7201a8"
            ],
            [
             0.3333333333333333,
             "#9c179e"
            ],
            [
             0.4444444444444444,
             "#bd3786"
            ],
            [
             0.5555555555555556,
             "#d8576b"
            ],
            [
             0.6666666666666666,
             "#ed7953"
            ],
            [
             0.7777777777777778,
             "#fb9f3a"
            ],
            [
             0.8888888888888888,
             "#fdca26"
            ],
            [
             1,
             "#f0f921"
            ]
           ],
           "sequentialminus": [
            [
             0,
             "#0d0887"
            ],
            [
             0.1111111111111111,
             "#46039f"
            ],
            [
             0.2222222222222222,
             "#7201a8"
            ],
            [
             0.3333333333333333,
             "#9c179e"
            ],
            [
             0.4444444444444444,
             "#bd3786"
            ],
            [
             0.5555555555555556,
             "#d8576b"
            ],
            [
             0.6666666666666666,
             "#ed7953"
            ],
            [
             0.7777777777777778,
             "#fb9f3a"
            ],
            [
             0.8888888888888888,
             "#fdca26"
            ],
            [
             1,
             "#f0f921"
            ]
           ]
          },
          "colorway": [
           "#636efa",
           "#EF553B",
           "#00cc96",
           "#ab63fa",
           "#FFA15A",
           "#19d3f3",
           "#FF6692",
           "#B6E880",
           "#FF97FF",
           "#FECB52"
          ],
          "font": {
           "color": "#2a3f5f"
          },
          "geo": {
           "bgcolor": "white",
           "lakecolor": "white",
           "landcolor": "#E5ECF6",
           "showlakes": true,
           "showland": true,
           "subunitcolor": "white"
          },
          "hoverlabel": {
           "align": "left"
          },
          "hovermode": "closest",
          "mapbox": {
           "style": "light"
          },
          "paper_bgcolor": "white",
          "plot_bgcolor": "#E5ECF6",
          "polar": {
           "angularaxis": {
            "gridcolor": "white",
            "linecolor": "white",
            "ticks": ""
           },
           "bgcolor": "#E5ECF6",
           "radialaxis": {
            "gridcolor": "white",
            "linecolor": "white",
            "ticks": ""
           }
          },
          "scene": {
           "xaxis": {
            "backgroundcolor": "#E5ECF6",
            "gridcolor": "white",
            "gridwidth": 2,
            "linecolor": "white",
            "showbackground": true,
            "ticks": "",
            "zerolinecolor": "white"
           },
           "yaxis": {
            "backgroundcolor": "#E5ECF6",
            "gridcolor": "white",
            "gridwidth": 2,
            "linecolor": "white",
            "showbackground": true,
            "ticks": "",
            "zerolinecolor": "white"
           },
           "zaxis": {
            "backgroundcolor": "#E5ECF6",
            "gridcolor": "white",
            "gridwidth": 2,
            "linecolor": "white",
            "showbackground": true,
            "ticks": "",
            "zerolinecolor": "white"
           }
          },
          "shapedefaults": {
           "line": {
            "color": "#2a3f5f"
           }
          },
          "ternary": {
           "aaxis": {
            "gridcolor": "white",
            "linecolor": "white",
            "ticks": ""
           },
           "baxis": {
            "gridcolor": "white",
            "linecolor": "white",
            "ticks": ""
           },
           "bgcolor": "#E5ECF6",
           "caxis": {
            "gridcolor": "white",
            "linecolor": "white",
            "ticks": ""
           }
          },
          "title": {
           "x": 0.05
          },
          "xaxis": {
           "automargin": true,
           "gridcolor": "white",
           "linecolor": "white",
           "ticks": "",
           "title": {
            "standoff": 15
           },
           "zerolinecolor": "white",
           "zerolinewidth": 2
          },
          "yaxis": {
           "automargin": true,
           "gridcolor": "white",
           "linecolor": "white",
           "ticks": "",
           "title": {
            "standoff": 15
           },
           "zerolinecolor": "white",
           "zerolinewidth": 2
          }
         }
        },
        "xaxis": {
         "anchor": "y",
         "domain": [
          0,
          0.18400000000000002
         ],
         "title": {
          "text": "NO2"
         }
        },
        "xaxis2": {
         "anchor": "y2",
         "domain": [
          0.20400000000000001,
          0.388
         ],
         "matches": "x",
         "title": {
          "text": "NO2"
         }
        },
        "xaxis3": {
         "anchor": "y3",
         "domain": [
          0.40800000000000003,
          0.5920000000000001
         ],
         "matches": "x",
         "title": {
          "text": "NO2"
         }
        },
        "xaxis4": {
         "anchor": "y4",
         "domain": [
          0.6120000000000001,
          0.7960000000000002
         ],
         "matches": "x",
         "title": {
          "text": "NO2"
         }
        },
        "xaxis5": {
         "anchor": "y5",
         "domain": [
          0.8160000000000001,
          1
         ],
         "matches": "x",
         "title": {
          "text": "NO2"
         }
        },
        "yaxis": {
         "anchor": "x",
         "domain": [
          0,
          1
         ],
         "title": {
          "text": "asthma_hosp"
         }
        },
        "yaxis2": {
         "anchor": "x2",
         "domain": [
          0,
          1
         ],
         "matches": "y",
         "showticklabels": false
        },
        "yaxis3": {
         "anchor": "x3",
         "domain": [
          0,
          1
         ],
         "matches": "y",
         "showticklabels": false
        },
        "yaxis4": {
         "anchor": "x4",
         "domain": [
          0,
          1
         ],
         "matches": "y",
         "showticklabels": false
        },
        "yaxis5": {
         "anchor": "x5",
         "domain": [
          0,
          1
         ],
         "matches": "y",
         "showticklabels": false
        }
       }
      },
      "text/html": [
       "<div>                            <div id=\"6b881afd-98b6-4075-b141-aa036b0eaa39\" class=\"plotly-graph-div\" style=\"height:525px; width:100%;\"></div>            <script type=\"text/javascript\">                require([\"plotly\"], function(Plotly) {                    window.PLOTLYENV=window.PLOTLYENV || {};                                    if (document.getElementById(\"6b881afd-98b6-4075-b141-aa036b0eaa39\")) {                    Plotly.newPlot(                        \"6b881afd-98b6-4075-b141-aa036b0eaa39\",                        [{\"hovertemplate\":\"Boroughs=Bronx<br>NO2=%{x}<br>asthma_hosp=%{y}<extra></extra>\",\"legendgroup\":\"\",\"marker\":{\"color\":\"#636efa\",\"symbol\":\"circle\"},\"mode\":\"markers\",\"name\":\"\",\"orientation\":\"v\",\"showlegend\":false,\"x\":[16.04,17.52,17.93,17.92,20.37,21.08,19.91],\"xaxis\":\"x\",\"y\":[53,265,545,441,427,565,361],\"yaxis\":\"y\",\"type\":\"scatter\"},{\"hovertemplate\":\"<b>OLS trendline</b><br>asthma_hosp = 67.7397 * NO2 + -885.904<br>R<sup>2</sup>=0.478280<br><br>Boroughs=Bronx<br>NO2=%{x}<br>asthma_hosp=%{y} <b>(trend)</b><extra></extra>\",\"legendgroup\":\"\",\"marker\":{\"color\":\"#636efa\",\"symbol\":\"circle\"},\"mode\":\"lines\",\"name\":\"\",\"showlegend\":false,\"x\":[16.04,17.52,17.92,17.93,19.91,20.37,21.08],\"xaxis\":\"x\",\"y\":[200.641762345904,300.89656721861525,327.9924604274563,328.6698577576774,462.79452914143985,493.95480633160696,542.0500167772993],\"yaxis\":\"y\",\"type\":\"scatter\"},{\"hovertemplate\":\"Boroughs=Brooklyn<br>NO2=%{x}<br>asthma_hosp=%{y}<extra></extra>\",\"legendgroup\":\"\",\"marker\":{\"color\":\"#636efa\",\"symbol\":\"circle\"},\"mode\":\"markers\",\"name\":\"\",\"orientation\":\"v\",\"showlegend\":false,\"x\":[21.44,21.65,20.2,18.26,19.32,18.87,18.86,15.3,17.78,15.62,20.82],\"xaxis\":\"x2\",\"y\":[26,112,473,361,33,72,364,172,30,84,240],\"yaxis\":\"y2\",\"type\":\"scatter\"},{\"hovertemplate\":\"<b>OLS trendline</b><br>asthma_hosp = 5.52157 * NO2 + 74.3502<br>R<sup>2</sup>=0.005494<br><br>Boroughs=Brooklyn<br>NO2=%{x}<br>asthma_hosp=%{y} <b>(trend)</b><extra></extra>\",\"legendgroup\":\"\",\"marker\":{\"color\":\"#636efa\",\"symbol\":\"circle\"},\"mode\":\"lines\",\"name\":\"\",\"showlegend\":false,\"x\":[15.3,15.62,17.78,18.26,18.86,18.87,19.32,20.2,20.82,21.44,21.65],\"xaxis\":\"x2\",\"y\":[158.83011576764278,160.59701663398874,172.5235974818242,175.1739487813432,178.48688790574192,178.54210355781524,181.0268079011143,185.88578528356575,189.30915571211114,192.7325261406565,193.89205483419602],\"yaxis\":\"y2\",\"type\":\"scatter\"},{\"hovertemplate\":\"Boroughs=Manhattan<br>NO2=%{x}<br>asthma_hosp=%{y}<extra></extra>\",\"legendgroup\":\"\",\"marker\":{\"color\":\"#636efa\",\"symbol\":\"circle\"},\"mode\":\"markers\",\"name\":\"\",\"orientation\":\"v\",\"showlegend\":false,\"x\":[19.85,22.19,22.19,23.15,24.81,28.36,30.14,25.93,24.49,26.15],\"xaxis\":\"x3\",\"y\":[210,284,151,43,39,11,8,4,73,7],\"yaxis\":\"y3\",\"type\":\"scatter\"},{\"hovertemplate\":\"<b>OLS trendline</b><br>asthma_hosp = -24.7803 * NO2 + 695.719<br>R<sup>2</sup>=0.596987<br><br>Boroughs=Manhattan<br>NO2=%{x}<br>asthma_hosp=%{y} <b>(trend)</b><extra></extra>\",\"legendgroup\":\"\",\"marker\":{\"color\":\"#636efa\",\"symbol\":\"circle\"},\"mode\":\"lines\",\"name\":\"\",\"showlegend\":false,\"x\":[19.85,22.19,22.19,23.15,24.49,24.81,25.93,26.15,28.36,30.14],\"xaxis\":\"x3\",\"y\":[203.82890760706448,145.84292651589726,145.84292651589726,122.05380606823906,88.84815877671588,80.91845196082977,53.16447810522834,47.712804669306706,-7.051733027906721,-51.16072719127328],\"yaxis\":\"y3\",\"type\":\"scatter\"},{\"hovertemplate\":\"Boroughs=Queens<br>NO2=%{x}<br>asthma_hosp=%{y}<extra></extra>\",\"legendgroup\":\"\",\"marker\":{\"color\":\"#636efa\",\"symbol\":\"circle\"},\"mode\":\"markers\",\"name\":\"\",\"orientation\":\"v\",\"showlegend\":false,\"x\":[20.91,20.53,18.24,16.43,18.65,18.09,17.8,17.56,16.16,11.72],\"xaxis\":\"x4\",\"y\":[55,199,79,7,97,51,146,239,115,73],\"yaxis\":\"y4\",\"type\":\"scatter\"},{\"hovertemplate\":\"<b>OLS trendline</b><br>asthma_hosp = 5.89007 * NO2 + 2.38173<br>R<sup>2</sup>=0.045409<br><br>Boroughs=Queens<br>NO2=%{x}<br>asthma_hosp=%{y} <b>(trend)</b><extra></extra>\",\"legendgroup\":\"\",\"marker\":{\"color\":\"#636efa\",\"symbol\":\"circle\"},\"mode\":\"lines\",\"name\":\"\",\"showlegend\":false,\"x\":[11.72,16.16,16.43,17.56,17.8,18.09,18.24,18.65,20.53,20.91],\"xaxis\":\"x4\",\"y\":[71.41336751647701,97.56528604710056,99.15560541720603,105.81138648468455,107.2250037025561,108.93312450748421,109.81663526865391,112.2315646825178,123.3048995558449,125.54312681747484],\"yaxis\":\"y4\",\"type\":\"scatter\"},{\"hovertemplate\":\"Boroughs=Staten Island<br>NO2=%{x}<br>asthma_hosp=%{y}<extra></extra>\",\"legendgroup\":\"\",\"marker\":{\"color\":\"#636efa\",\"symbol\":\"circle\"},\"mode\":\"markers\",\"name\":\"\",\"orientation\":\"v\",\"showlegend\":false,\"x\":[17.47,14.93,14.11,11.52],\"xaxis\":\"x5\",\"y\":[83,72,12,36],\"yaxis\":\"y5\",\"type\":\"scatter\"},{\"hovertemplate\":\"<b>OLS trendline</b><br>asthma_hosp = 9.09119 * NO2 + -81.1404<br>R<sup>2</sup>=0.464328<br><br>Boroughs=Staten Island<br>NO2=%{x}<br>asthma_hosp=%{y} <b>(trend)</b><extra></extra>\",\"legendgroup\":\"\",\"marker\":{\"color\":\"#636efa\",\"symbol\":\"circle\"},\"mode\":\"lines\",\"name\":\"\",\"showlegend\":false,\"x\":[11.52,14.11,14.93,17.47],\"xaxis\":\"x5\",\"y\":[23.59008098147946,47.13625345276587,54.591026204292845,77.68263936146177],\"yaxis\":\"y5\",\"type\":\"scatter\"}],                        {\"template\":{\"data\":{\"bar\":[{\"error_x\":{\"color\":\"#2a3f5f\"},\"error_y\":{\"color\":\"#2a3f5f\"},\"marker\":{\"line\":{\"color\":\"#E5ECF6\",\"width\":0.5},\"pattern\":{\"fillmode\":\"overlay\",\"size\":10,\"solidity\":0.2}},\"type\":\"bar\"}],\"barpolar\":[{\"marker\":{\"line\":{\"color\":\"#E5ECF6\",\"width\":0.5},\"pattern\":{\"fillmode\":\"overlay\",\"size\":10,\"solidity\":0.2}},\"type\":\"barpolar\"}],\"carpet\":[{\"aaxis\":{\"endlinecolor\":\"#2a3f5f\",\"gridcolor\":\"white\",\"linecolor\":\"white\",\"minorgridcolor\":\"white\",\"startlinecolor\":\"#2a3f5f\"},\"baxis\":{\"endlinecolor\":\"#2a3f5f\",\"gridcolor\":\"white\",\"linecolor\":\"white\",\"minorgridcolor\":\"white\",\"startlinecolor\":\"#2a3f5f\"},\"type\":\"carpet\"}],\"choropleth\":[{\"colorbar\":{\"outlinewidth\":0,\"ticks\":\"\"},\"type\":\"choropleth\"}],\"contour\":[{\"colorbar\":{\"outlinewidth\":0,\"ticks\":\"\"},\"colorscale\":[[0.0,\"#0d0887\"],[0.1111111111111111,\"#46039f\"],[0.2222222222222222,\"#7201a8\"],[0.3333333333333333,\"#9c179e\"],[0.4444444444444444,\"#bd3786\"],[0.5555555555555556,\"#d8576b\"],[0.6666666666666666,\"#ed7953\"],[0.7777777777777778,\"#fb9f3a\"],[0.8888888888888888,\"#fdca26\"],[1.0,\"#f0f921\"]],\"type\":\"contour\"}],\"contourcarpet\":[{\"colorbar\":{\"outlinewidth\":0,\"ticks\":\"\"},\"type\":\"contourcarpet\"}],\"heatmap\":[{\"colorbar\":{\"outlinewidth\":0,\"ticks\":\"\"},\"colorscale\":[[0.0,\"#0d0887\"],[0.1111111111111111,\"#46039f\"],[0.2222222222222222,\"#7201a8\"],[0.3333333333333333,\"#9c179e\"],[0.4444444444444444,\"#bd3786\"],[0.5555555555555556,\"#d8576b\"],[0.6666666666666666,\"#ed7953\"],[0.7777777777777778,\"#fb9f3a\"],[0.8888888888888888,\"#fdca26\"],[1.0,\"#f0f921\"]],\"type\":\"heatmap\"}],\"heatmapgl\":[{\"colorbar\":{\"outlinewidth\":0,\"ticks\":\"\"},\"colorscale\":[[0.0,\"#0d0887\"],[0.1111111111111111,\"#46039f\"],[0.2222222222222222,\"#7201a8\"],[0.3333333333333333,\"#9c179e\"],[0.4444444444444444,\"#bd3786\"],[0.5555555555555556,\"#d8576b\"],[0.6666666666666666,\"#ed7953\"],[0.7777777777777778,\"#fb9f3a\"],[0.8888888888888888,\"#fdca26\"],[1.0,\"#f0f921\"]],\"type\":\"heatmapgl\"}],\"histogram\":[{\"marker\":{\"pattern\":{\"fillmode\":\"overlay\",\"size\":10,\"solidity\":0.2}},\"type\":\"histogram\"}],\"histogram2d\":[{\"colorbar\":{\"outlinewidth\":0,\"ticks\":\"\"},\"colorscale\":[[0.0,\"#0d0887\"],[0.1111111111111111,\"#46039f\"],[0.2222222222222222,\"#7201a8\"],[0.3333333333333333,\"#9c179e\"],[0.4444444444444444,\"#bd3786\"],[0.5555555555555556,\"#d8576b\"],[0.6666666666666666,\"#ed7953\"],[0.7777777777777778,\"#fb9f3a\"],[0.8888888888888888,\"#fdca26\"],[1.0,\"#f0f921\"]],\"type\":\"histogram2d\"}],\"histogram2dcontour\":[{\"colorbar\":{\"outlinewidth\":0,\"ticks\":\"\"},\"colorscale\":[[0.0,\"#0d0887\"],[0.1111111111111111,\"#46039f\"],[0.2222222222222222,\"#7201a8\"],[0.3333333333333333,\"#9c179e\"],[0.4444444444444444,\"#bd3786\"],[0.5555555555555556,\"#d8576b\"],[0.6666666666666666,\"#ed7953\"],[0.7777777777777778,\"#fb9f3a\"],[0.8888888888888888,\"#fdca26\"],[1.0,\"#f0f921\"]],\"type\":\"histogram2dcontour\"}],\"mesh3d\":[{\"colorbar\":{\"outlinewidth\":0,\"ticks\":\"\"},\"type\":\"mesh3d\"}],\"parcoords\":[{\"line\":{\"colorbar\":{\"outlinewidth\":0,\"ticks\":\"\"}},\"type\":\"parcoords\"}],\"pie\":[{\"automargin\":true,\"type\":\"pie\"}],\"scatter\":[{\"marker\":{\"colorbar\":{\"outlinewidth\":0,\"ticks\":\"\"}},\"type\":\"scatter\"}],\"scatter3d\":[{\"line\":{\"colorbar\":{\"outlinewidth\":0,\"ticks\":\"\"}},\"marker\":{\"colorbar\":{\"outlinewidth\":0,\"ticks\":\"\"}},\"type\":\"scatter3d\"}],\"scattercarpet\":[{\"marker\":{\"colorbar\":{\"outlinewidth\":0,\"ticks\":\"\"}},\"type\":\"scattercarpet\"}],\"scattergeo\":[{\"marker\":{\"colorbar\":{\"outlinewidth\":0,\"ticks\":\"\"}},\"type\":\"scattergeo\"}],\"scattergl\":[{\"marker\":{\"colorbar\":{\"outlinewidth\":0,\"ticks\":\"\"}},\"type\":\"scattergl\"}],\"scattermapbox\":[{\"marker\":{\"colorbar\":{\"outlinewidth\":0,\"ticks\":\"\"}},\"type\":\"scattermapbox\"}],\"scatterpolar\":[{\"marker\":{\"colorbar\":{\"outlinewidth\":0,\"ticks\":\"\"}},\"type\":\"scatterpolar\"}],\"scatterpolargl\":[{\"marker\":{\"colorbar\":{\"outlinewidth\":0,\"ticks\":\"\"}},\"type\":\"scatterpolargl\"}],\"scatterternary\":[{\"marker\":{\"colorbar\":{\"outlinewidth\":0,\"ticks\":\"\"}},\"type\":\"scatterternary\"}],\"surface\":[{\"colorbar\":{\"outlinewidth\":0,\"ticks\":\"\"},\"colorscale\":[[0.0,\"#0d0887\"],[0.1111111111111111,\"#46039f\"],[0.2222222222222222,\"#7201a8\"],[0.3333333333333333,\"#9c179e\"],[0.4444444444444444,\"#bd3786\"],[0.5555555555555556,\"#d8576b\"],[0.6666666666666666,\"#ed7953\"],[0.7777777777777778,\"#fb9f3a\"],[0.8888888888888888,\"#fdca26\"],[1.0,\"#f0f921\"]],\"type\":\"surface\"}],\"table\":[{\"cells\":{\"fill\":{\"color\":\"#EBF0F8\"},\"line\":{\"color\":\"white\"}},\"header\":{\"fill\":{\"color\":\"#C8D4E3\"},\"line\":{\"color\":\"white\"}},\"type\":\"table\"}]},\"layout\":{\"annotationdefaults\":{\"arrowcolor\":\"#2a3f5f\",\"arrowhead\":0,\"arrowwidth\":1},\"autotypenumbers\":\"strict\",\"coloraxis\":{\"colorbar\":{\"outlinewidth\":0,\"ticks\":\"\"}},\"colorscale\":{\"diverging\":[[0,\"#8e0152\"],[0.1,\"#c51b7d\"],[0.2,\"#de77ae\"],[0.3,\"#f1b6da\"],[0.4,\"#fde0ef\"],[0.5,\"#f7f7f7\"],[0.6,\"#e6f5d0\"],[0.7,\"#b8e186\"],[0.8,\"#7fbc41\"],[0.9,\"#4d9221\"],[1,\"#276419\"]],\"sequential\":[[0.0,\"#0d0887\"],[0.1111111111111111,\"#46039f\"],[0.2222222222222222,\"#7201a8\"],[0.3333333333333333,\"#9c179e\"],[0.4444444444444444,\"#bd3786\"],[0.5555555555555556,\"#d8576b\"],[0.6666666666666666,\"#ed7953\"],[0.7777777777777778,\"#fb9f3a\"],[0.8888888888888888,\"#fdca26\"],[1.0,\"#f0f921\"]],\"sequentialminus\":[[0.0,\"#0d0887\"],[0.1111111111111111,\"#46039f\"],[0.2222222222222222,\"#7201a8\"],[0.3333333333333333,\"#9c179e\"],[0.4444444444444444,\"#bd3786\"],[0.5555555555555556,\"#d8576b\"],[0.6666666666666666,\"#ed7953\"],[0.7777777777777778,\"#fb9f3a\"],[0.8888888888888888,\"#fdca26\"],[1.0,\"#f0f921\"]]},\"colorway\":[\"#636efa\",\"#EF553B\",\"#00cc96\",\"#ab63fa\",\"#FFA15A\",\"#19d3f3\",\"#FF6692\",\"#B6E880\",\"#FF97FF\",\"#FECB52\"],\"font\":{\"color\":\"#2a3f5f\"},\"geo\":{\"bgcolor\":\"white\",\"lakecolor\":\"white\",\"landcolor\":\"#E5ECF6\",\"showlakes\":true,\"showland\":true,\"subunitcolor\":\"white\"},\"hoverlabel\":{\"align\":\"left\"},\"hovermode\":\"closest\",\"mapbox\":{\"style\":\"light\"},\"paper_bgcolor\":\"white\",\"plot_bgcolor\":\"#E5ECF6\",\"polar\":{\"angularaxis\":{\"gridcolor\":\"white\",\"linecolor\":\"white\",\"ticks\":\"\"},\"bgcolor\":\"#E5ECF6\",\"radialaxis\":{\"gridcolor\":\"white\",\"linecolor\":\"white\",\"ticks\":\"\"}},\"scene\":{\"xaxis\":{\"backgroundcolor\":\"#E5ECF6\",\"gridcolor\":\"white\",\"gridwidth\":2,\"linecolor\":\"white\",\"showbackground\":true,\"ticks\":\"\",\"zerolinecolor\":\"white\"},\"yaxis\":{\"backgroundcolor\":\"#E5ECF6\",\"gridcolor\":\"white\",\"gridwidth\":2,\"linecolor\":\"white\",\"showbackground\":true,\"ticks\":\"\",\"zerolinecolor\":\"white\"},\"zaxis\":{\"backgroundcolor\":\"#E5ECF6\",\"gridcolor\":\"white\",\"gridwidth\":2,\"linecolor\":\"white\",\"showbackground\":true,\"ticks\":\"\",\"zerolinecolor\":\"white\"}},\"shapedefaults\":{\"line\":{\"color\":\"#2a3f5f\"}},\"ternary\":{\"aaxis\":{\"gridcolor\":\"white\",\"linecolor\":\"white\",\"ticks\":\"\"},\"baxis\":{\"gridcolor\":\"white\",\"linecolor\":\"white\",\"ticks\":\"\"},\"bgcolor\":\"#E5ECF6\",\"caxis\":{\"gridcolor\":\"white\",\"linecolor\":\"white\",\"ticks\":\"\"}},\"title\":{\"x\":0.05},\"xaxis\":{\"automargin\":true,\"gridcolor\":\"white\",\"linecolor\":\"white\",\"ticks\":\"\",\"title\":{\"standoff\":15},\"zerolinecolor\":\"white\",\"zerolinewidth\":2},\"yaxis\":{\"automargin\":true,\"gridcolor\":\"white\",\"linecolor\":\"white\",\"ticks\":\"\",\"title\":{\"standoff\":15},\"zerolinecolor\":\"white\",\"zerolinewidth\":2}}},\"xaxis\":{\"anchor\":\"y\",\"domain\":[0.0,0.18400000000000002],\"title\":{\"text\":\"NO2\"}},\"yaxis\":{\"anchor\":\"x\",\"domain\":[0.0,1.0],\"title\":{\"text\":\"asthma_hosp\"}},\"xaxis2\":{\"anchor\":\"y2\",\"domain\":[0.20400000000000001,0.388],\"matches\":\"x\",\"title\":{\"text\":\"NO2\"}},\"yaxis2\":{\"anchor\":\"x2\",\"domain\":[0.0,1.0],\"matches\":\"y\",\"showticklabels\":false},\"xaxis3\":{\"anchor\":\"y3\",\"domain\":[0.40800000000000003,0.5920000000000001],\"matches\":\"x\",\"title\":{\"text\":\"NO2\"}},\"yaxis3\":{\"anchor\":\"x3\",\"domain\":[0.0,1.0],\"matches\":\"y\",\"showticklabels\":false},\"xaxis4\":{\"anchor\":\"y4\",\"domain\":[0.6120000000000001,0.7960000000000002],\"matches\":\"x\",\"title\":{\"text\":\"NO2\"}},\"yaxis4\":{\"anchor\":\"x4\",\"domain\":[0.0,1.0],\"matches\":\"y\",\"showticklabels\":false},\"xaxis5\":{\"anchor\":\"y5\",\"domain\":[0.8160000000000001,1.0],\"matches\":\"x\",\"title\":{\"text\":\"NO2\"}},\"yaxis5\":{\"anchor\":\"x5\",\"domain\":[0.0,1.0],\"matches\":\"y\",\"showticklabels\":false},\"annotations\":[{\"font\":{},\"showarrow\":false,\"text\":\"Boroughs=Bronx\",\"x\":0.09200000000000001,\"xanchor\":\"center\",\"xref\":\"paper\",\"y\":1.0,\"yanchor\":\"bottom\",\"yref\":\"paper\"},{\"font\":{},\"showarrow\":false,\"text\":\"Boroughs=Brooklyn\",\"x\":0.29600000000000004,\"xanchor\":\"center\",\"xref\":\"paper\",\"y\":1.0,\"yanchor\":\"bottom\",\"yref\":\"paper\"},{\"font\":{},\"showarrow\":false,\"text\":\"Boroughs=Manhattan\",\"x\":0.5,\"xanchor\":\"center\",\"xref\":\"paper\",\"y\":1.0,\"yanchor\":\"bottom\",\"yref\":\"paper\"},{\"font\":{},\"showarrow\":false,\"text\":\"Boroughs=Queens\",\"x\":0.7040000000000002,\"xanchor\":\"center\",\"xref\":\"paper\",\"y\":1.0,\"yanchor\":\"bottom\",\"yref\":\"paper\"},{\"font\":{},\"showarrow\":false,\"text\":\"Boroughs=Staten Island\",\"x\":0.908,\"xanchor\":\"center\",\"xref\":\"paper\",\"y\":1.0,\"yanchor\":\"bottom\",\"yref\":\"paper\"}],\"legend\":{\"tracegroupgap\":0},\"margin\":{\"t\":60}},                        {\"responsive\": true}                    ).then(function(){\n",
       "                            \n",
       "var gd = document.getElementById('6b881afd-98b6-4075-b141-aa036b0eaa39');\n",
       "var x = new MutationObserver(function (mutations, observer) {{\n",
       "        var display = window.getComputedStyle(gd).display;\n",
       "        if (!display || display === 'none') {{\n",
       "            console.log([gd, 'removed!']);\n",
       "            Plotly.purge(gd);\n",
       "            observer.disconnect();\n",
       "        }}\n",
       "}});\n",
       "\n",
       "// Listen for the removal of the full notebook cells\n",
       "var notebookContainer = gd.closest('#notebook-container');\n",
       "if (notebookContainer) {{\n",
       "    x.observe(notebookContainer, {childList: true});\n",
       "}}\n",
       "\n",
       "// Listen for the clearing of the current output cell\n",
       "var outputEl = gd.closest('.output');\n",
       "if (outputEl) {{\n",
       "    x.observe(outputEl, {childList: true});\n",
       "}}\n",
       "\n",
       "                        })                };                });            </script>        </div>"
      ]
     },
     "metadata": {},
     "output_type": "display_data"
    }
   ],
   "source": [
    "df_2016=df[df.year>2015]\n",
    "fig = px.scatter(df_2016, x=\"NO2\", y=\"asthma_hosp\",trendline=\"ols\", facet_col=\"Boroughs\")\n",
    "fig.show()"
   ]
  },
  {
   "cell_type": "code",
   "execution_count": 140,
   "id": "22245599",
   "metadata": {},
   "outputs": [
    {
     "data": {
      "text/html": [
       "<div>\n",
       "<style scoped>\n",
       "    .dataframe tbody tr th:only-of-type {\n",
       "        vertical-align: middle;\n",
       "    }\n",
       "\n",
       "    .dataframe tbody tr th {\n",
       "        vertical-align: top;\n",
       "    }\n",
       "\n",
       "    .dataframe thead th {\n",
       "        text-align: right;\n",
       "    }\n",
       "</style>\n",
       "<table border=\"1\" class=\"dataframe\">\n",
       "  <thead>\n",
       "    <tr style=\"text-align: right;\">\n",
       "      <th></th>\n",
       "      <th>year</th>\n",
       "      <th>district</th>\n",
       "      <th>NO2</th>\n",
       "      <th>PM2_5</th>\n",
       "      <th>O3</th>\n",
       "      <th>SO2</th>\n",
       "      <th>asthma_hosp</th>\n",
       "      <th>Boroughs</th>\n",
       "    </tr>\n",
       "  </thead>\n",
       "  <tbody>\n",
       "    <tr>\n",
       "      <th>0</th>\n",
       "      <td>2009</td>\n",
       "      <td>101</td>\n",
       "      <td>23.20</td>\n",
       "      <td>11.03</td>\n",
       "      <td>23.67</td>\n",
       "      <td>6.62</td>\n",
       "      <td>61</td>\n",
       "      <td>Bronx</td>\n",
       "    </tr>\n",
       "    <tr>\n",
       "      <th>1</th>\n",
       "      <td>2009</td>\n",
       "      <td>102</td>\n",
       "      <td>22.39</td>\n",
       "      <td>10.68</td>\n",
       "      <td>26.82</td>\n",
       "      <td>5.38</td>\n",
       "      <td>282</td>\n",
       "      <td>Bronx</td>\n",
       "    </tr>\n",
       "    <tr>\n",
       "      <th>2</th>\n",
       "      <td>2009</td>\n",
       "      <td>103</td>\n",
       "      <td>24.82</td>\n",
       "      <td>11.10</td>\n",
       "      <td>24.47</td>\n",
       "      <td>9.48</td>\n",
       "      <td>693</td>\n",
       "      <td>Bronx</td>\n",
       "    </tr>\n",
       "    <tr>\n",
       "      <th>3</th>\n",
       "      <td>2009</td>\n",
       "      <td>104</td>\n",
       "      <td>22.83</td>\n",
       "      <td>10.59</td>\n",
       "      <td>26.72</td>\n",
       "      <td>5.15</td>\n",
       "      <td>588</td>\n",
       "      <td>Bronx</td>\n",
       "    </tr>\n",
       "    <tr>\n",
       "      <th>4</th>\n",
       "      <td>2009</td>\n",
       "      <td>105</td>\n",
       "      <td>28.07</td>\n",
       "      <td>11.76</td>\n",
       "      <td>23.08</td>\n",
       "      <td>9.36</td>\n",
       "      <td>631</td>\n",
       "      <td>Bronx</td>\n",
       "    </tr>\n",
       "    <tr>\n",
       "      <th>...</th>\n",
       "      <td>...</td>\n",
       "      <td>...</td>\n",
       "      <td>...</td>\n",
       "      <td>...</td>\n",
       "      <td>...</td>\n",
       "      <td>...</td>\n",
       "      <td>...</td>\n",
       "      <td>...</td>\n",
       "    </tr>\n",
       "    <tr>\n",
       "      <th>331</th>\n",
       "      <td>2016</td>\n",
       "      <td>410</td>\n",
       "      <td>11.72</td>\n",
       "      <td>5.98</td>\n",
       "      <td>38.18</td>\n",
       "      <td>0.20</td>\n",
       "      <td>73</td>\n",
       "      <td>Queens</td>\n",
       "    </tr>\n",
       "    <tr>\n",
       "      <th>332</th>\n",
       "      <td>2016</td>\n",
       "      <td>501</td>\n",
       "      <td>17.47</td>\n",
       "      <td>7.30</td>\n",
       "      <td>33.42</td>\n",
       "      <td>0.12</td>\n",
       "      <td>83</td>\n",
       "      <td>Staten Island</td>\n",
       "    </tr>\n",
       "    <tr>\n",
       "      <th>333</th>\n",
       "      <td>2016</td>\n",
       "      <td>502</td>\n",
       "      <td>14.93</td>\n",
       "      <td>6.80</td>\n",
       "      <td>34.18</td>\n",
       "      <td>0.13</td>\n",
       "      <td>72</td>\n",
       "      <td>Staten Island</td>\n",
       "    </tr>\n",
       "    <tr>\n",
       "      <th>334</th>\n",
       "      <td>2016</td>\n",
       "      <td>503</td>\n",
       "      <td>14.11</td>\n",
       "      <td>7.10</td>\n",
       "      <td>34.68</td>\n",
       "      <td>0.12</td>\n",
       "      <td>12</td>\n",
       "      <td>Staten Island</td>\n",
       "    </tr>\n",
       "    <tr>\n",
       "      <th>335</th>\n",
       "      <td>2016</td>\n",
       "      <td>504</td>\n",
       "      <td>11.52</td>\n",
       "      <td>6.59</td>\n",
       "      <td>36.17</td>\n",
       "      <td>0.11</td>\n",
       "      <td>36</td>\n",
       "      <td>Staten Island</td>\n",
       "    </tr>\n",
       "  </tbody>\n",
       "</table>\n",
       "<p>336 rows × 8 columns</p>\n",
       "</div>"
      ],
      "text/plain": [
       "     year  district    NO2  PM2_5     O3   SO2  asthma_hosp       Boroughs\n",
       "0    2009       101  23.20  11.03  23.67  6.62           61          Bronx\n",
       "1    2009       102  22.39  10.68  26.82  5.38          282          Bronx\n",
       "2    2009       103  24.82  11.10  24.47  9.48          693          Bronx\n",
       "3    2009       104  22.83  10.59  26.72  5.15          588          Bronx\n",
       "4    2009       105  28.07  11.76  23.08  9.36          631          Bronx\n",
       "..    ...       ...    ...    ...    ...   ...          ...            ...\n",
       "331  2016       410  11.72   5.98  38.18  0.20           73         Queens\n",
       "332  2016       501  17.47   7.30  33.42  0.12           83  Staten Island\n",
       "333  2016       502  14.93   6.80  34.18  0.13           72  Staten Island\n",
       "334  2016       503  14.11   7.10  34.68  0.12           12  Staten Island\n",
       "335  2016       504  11.52   6.59  36.17  0.11           36  Staten Island\n",
       "\n",
       "[336 rows x 8 columns]"
      ]
     },
     "execution_count": 140,
     "metadata": {},
     "output_type": "execute_result"
    }
   ],
   "source": [
    "df"
   ]
  },
  {
   "cell_type": "code",
   "execution_count": null,
   "id": "b856fcac",
   "metadata": {},
   "outputs": [],
   "source": []
  },
  {
   "cell_type": "code",
   "execution_count": 135,
   "id": "86d61a4a",
   "metadata": {},
   "outputs": [
    {
     "data": {
      "application/vnd.plotly.v1+json": {
       "config": {
        "plotlyServerURL": "https://plotly.com"
       },
       "data": [
        {
         "hovertemplate": "Boroughs=Bronx<br>PM2_5=%{x}<br>asthma_hosp=%{y}<br>year=%{marker.color}<extra></extra>",
         "legendgroup": "",
         "marker": {
          "color": [
           2009,
           2009,
           2009,
           2009,
           2009,
           2009,
           2009,
           2010,
           2010,
           2010,
           2010,
           2010,
           2010,
           2010,
           2011,
           2011,
           2011,
           2011,
           2011,
           2011,
           2011,
           2012,
           2012,
           2012,
           2012,
           2012,
           2012,
           2012,
           2013,
           2013,
           2013,
           2013,
           2013,
           2013,
           2013,
           2014,
           2014,
           2014,
           2014,
           2014,
           2014,
           2014,
           2015,
           2015,
           2015,
           2015,
           2015,
           2015,
           2015,
           2016,
           2016,
           2016,
           2016,
           2016,
           2016,
           2016
          ],
          "coloraxis": "coloraxis",
          "symbol": "circle"
         },
         "mode": "markers",
         "name": "",
         "orientation": "v",
         "showlegend": false,
         "type": "scatter",
         "x": [
          11.03,
          10.68,
          11.1,
          10.59,
          11.76,
          11.8,
          11.45,
          10.09,
          9.65,
          10.26,
          9.68,
          10.99,
          11,
          10.48,
          10.65,
          10.48,
          10.77,
          10.5,
          11.45,
          11.44,
          11.24,
          9.27,
          9.11,
          9.47,
          9.23,
          10.22,
          10.26,
          10.02,
          8.88,
          8.73,
          9.06,
          8.74,
          9.75,
          9.83,
          9.57,
          9,
          9,
          9.19,
          8.97,
          9.82,
          9.87,
          9.75,
          9.17,
          9.13,
          9.14,
          8.93,
          9.67,
          9.6,
          9.62,
          7.5,
          7.55,
          7.57,
          7.5,
          8.18,
          8.16,
          8.26
         ],
         "xaxis": "x",
         "y": [
          61,
          282,
          693,
          588,
          631,
          657,
          504,
          74,
          285,
          563,
          491,
          552,
          505,
          435,
          65,
          303,
          528,
          552,
          529,
          533,
          457,
          67,
          320,
          559,
          609,
          524,
          571,
          501,
          72,
          319,
          589,
          515,
          559,
          627,
          453,
          71,
          324,
          648,
          521,
          567,
          624,
          478,
          60,
          268,
          548,
          523,
          463,
          574,
          431,
          53,
          265,
          545,
          441,
          427,
          565,
          361
         ],
         "yaxis": "y"
        },
        {
         "hovertemplate": "<b>OLS trendline</b><br>asthma_hosp = 43.2602 * PM2_5 + 13.5963<br>R<sup>2</sup>=0.067301<br><br>Boroughs=Bronx<br>PM2_5=%{x}<br>asthma_hosp=%{y} <b>(trend)</b><extra></extra>",
         "legendgroup": "",
         "marker": {
          "symbol": "circle"
         },
         "mode": "lines",
         "name": "",
         "showlegend": false,
         "type": "scatter",
         "x": [
          7.5,
          7.5,
          7.55,
          7.57,
          8.16,
          8.18,
          8.26,
          8.73,
          8.74,
          8.88,
          8.93,
          8.97,
          9,
          9,
          9.06,
          9.11,
          9.13,
          9.14,
          9.17,
          9.19,
          9.23,
          9.27,
          9.47,
          9.57,
          9.6,
          9.62,
          9.65,
          9.67,
          9.68,
          9.75,
          9.75,
          9.82,
          9.83,
          9.87,
          10.02,
          10.09,
          10.22,
          10.26,
          10.26,
          10.48,
          10.48,
          10.5,
          10.59,
          10.65,
          10.68,
          10.77,
          10.99,
          11,
          11.03,
          11.1,
          11.24,
          11.44,
          11.45,
          11.45,
          11.76,
          11.8
         ],
         "xaxis": "x",
         "y": [
          338.04804365841767,
          338.04804365841767,
          340.2110552581007,
          341.07625989797384,
          366.5997967742328,
          367.4650014141059,
          370.92581997359866,
          391.2581290106185,
          391.6907313305551,
          397.7471638096674,
          399.91017540935024,
          401.6405846890967,
          402.9383916489064,
          402.9383916489064,
          405.534005568526,
          407.69701716820896,
          408.5622218080822,
          408.99482412801876,
          410.29263108782845,
          411.1578357277017,
          412.88824500744806,
          414.61865428719443,
          423.2707006859263,
          427.59672388529214,
          428.89453084510194,
          429.75973548497507,
          431.0575424447849,
          431.9227470846581,
          432.3553494045947,
          435.38356564415085,
          435.38356564415085,
          438.411781883707,
          438.8443842036436,
          440.57479348338984,
          447.06382828243875,
          450.0920445219949,
          455.7158746811707,
          457.44628396091696,
          457.44628396091696,
          466.96353499952204,
          466.96353499952204,
          467.82873963939517,
          471.72216051882447,
          474.3177744384441,
          475.61558139825377,
          479.5090022776832,
          489.02625331628815,
          489.4588556362247,
          490.7566625960345,
          493.7848788355907,
          499.8413113147029,
          508.49335771343476,
          508.9259600333713,
          508.9259600333713,
          522.3366319514057,
          524.0670412311521
         ],
         "yaxis": "y"
        },
        {
         "hovertemplate": "Boroughs=Brooklyn<br>PM2_5=%{x}<br>asthma_hosp=%{y}<br>year=%{marker.color}<extra></extra>",
         "legendgroup": "",
         "marker": {
          "color": [
           2009,
           2009,
           2009,
           2009,
           2009,
           2009,
           2009,
           2009,
           2009,
           2009,
           2010,
           2010,
           2010,
           2010,
           2010,
           2010,
           2010,
           2010,
           2010,
           2011,
           2011,
           2011,
           2011,
           2011,
           2011,
           2011,
           2011,
           2011,
           2012,
           2012,
           2012,
           2012,
           2012,
           2012,
           2012,
           2012,
           2012,
           2013,
           2013,
           2013,
           2013,
           2013,
           2013,
           2013,
           2013,
           2013,
           2014,
           2014,
           2014,
           2014,
           2014,
           2014,
           2014,
           2014,
           2014,
           2015,
           2015,
           2015,
           2015,
           2015,
           2015,
           2015,
           2015,
           2016,
           2016,
           2016,
           2016,
           2016,
           2016,
           2016,
           2016
          ],
          "coloraxis": "coloraxis",
          "symbol": "circle"
         },
         "mode": "markers",
         "name": "",
         "orientation": "v",
         "showlegend": false,
         "type": "scatter",
         "x": [
          11.93,
          11.5,
          10.75,
          10.6,
          11.04,
          10.27,
          10.47,
          9.85,
          9.55,
          11.36,
          10.49,
          9.93,
          9.79,
          10.21,
          9.61,
          9.8,
          9.12,
          8.89,
          10.33,
          11.14,
          10.29,
          10.09,
          10.84,
          10.07,
          10.15,
          9.55,
          9.44,
          10.88,
          9.9,
          9.13,
          8.94,
          9.59,
          8.89,
          8.98,
          8.37,
          8.3,
          9.7,
          9.46,
          8.75,
          8.69,
          9.12,
          8.49,
          8.6,
          8.18,
          8.11,
          9.36,
          9.99,
          9.16,
          9.04,
          9.63,
          8.87,
          8.97,
          8.48,
          8.37,
          9.84,
          9.89,
          8.87,
          8.72,
          8.44,
          8.59,
          8.1,
          7.72,
          9.61,
          8.86,
          7.94,
          7.8,
          7.45,
          7.64,
          7.12,
          6.75,
          8.67
         ],
         "xaxis": "x2",
         "y": [
          88,
          176,
          645,
          376,
          62,
          97,
          446,
          195,
          101,
          503,
          135,
          559,
          348,
          56,
          64,
          361,
          160,
          90,
          402,
          176,
          582,
          313,
          64,
          103,
          361,
          176,
          67,
          387,
          171,
          591,
          329,
          57,
          90,
          387,
          191,
          85,
          387,
          130,
          581,
          346,
          63,
          70,
          409,
          191,
          74,
          292,
          121,
          607,
          366,
          54,
          73,
          460,
          159,
          82,
          292,
          114,
          506,
          349,
          75,
          413,
          179,
          58,
          219,
          112,
          473,
          361,
          72,
          364,
          172,
          84,
          240
         ],
         "yaxis": "y2"
        },
        {
         "hovertemplate": "<b>OLS trendline</b><br>asthma_hosp = 17.0014 * PM2_5 + 88.3056<br>R<sup>2</sup>=0.011069<br><br>Boroughs=Brooklyn<br>PM2_5=%{x}<br>asthma_hosp=%{y} <b>(trend)</b><extra></extra>",
         "legendgroup": "",
         "marker": {
          "symbol": "circle"
         },
         "mode": "lines",
         "name": "",
         "showlegend": false,
         "type": "scatter",
         "x": [
          6.75,
          7.12,
          7.45,
          7.64,
          7.72,
          7.8,
          7.94,
          8.1,
          8.11,
          8.18,
          8.3,
          8.37,
          8.37,
          8.44,
          8.48,
          8.49,
          8.59,
          8.6,
          8.67,
          8.69,
          8.72,
          8.75,
          8.86,
          8.87,
          8.87,
          8.89,
          8.89,
          8.94,
          8.97,
          8.98,
          9.04,
          9.12,
          9.12,
          9.13,
          9.16,
          9.36,
          9.44,
          9.46,
          9.55,
          9.55,
          9.59,
          9.61,
          9.61,
          9.63,
          9.7,
          9.79,
          9.8,
          9.84,
          9.85,
          9.89,
          9.9,
          9.93,
          9.99,
          10.07,
          10.09,
          10.15,
          10.21,
          10.27,
          10.29,
          10.33,
          10.47,
          10.49,
          10.6,
          10.75,
          10.84,
          10.88,
          11.04,
          11.14,
          11.36,
          11.5,
          11.93
         ],
         "xaxis": "x2",
         "y": [
          203.06540816259064,
          209.3559437645319,
          214.9664214635606,
          218.1966965023953,
          219.55681230822043,
          220.91692811404556,
          223.29713077423955,
          226.0173623858898,
          226.18737686161796,
          227.37747819171494,
          229.41765190045268,
          230.60775323054963,
          230.60775323054963,
          231.79785456064664,
          232.47791246355922,
          232.64792693928737,
          234.34807169656878,
          234.5180861722969,
          235.7081875023939,
          236.0482164538502,
          236.55825988103464,
          237.06830330821904,
          238.9384625412286,
          239.10847701695675,
          239.10847701695675,
          239.44850596841306,
          239.44850596841306,
          240.29857834705373,
          240.8086217742382,
          240.9786362499663,
          241.99872310433517,
          243.3588389101603,
          243.3588389101603,
          243.52885338588845,
          244.03889681307288,
          247.4391863276357,
          248.79930213346086,
          249.13933108491716,
          250.66946136647041,
          250.66946136647041,
          251.34951926938297,
          251.68954822083927,
          251.68954822083927,
          252.02957717229557,
          253.21967850239253,
          254.7498087839458,
          254.919823259674,
          255.59988116258654,
          255.76989563831467,
          256.4499535412273,
          256.6199680169554,
          257.13001144413977,
          258.1500982985086,
          259.51021410433384,
          259.8502430557901,
          260.87032991015894,
          261.8904167645278,
          262.91050361889666,
          263.2505325703529,
          263.9305904732655,
          266.31079313345947,
          266.6508220849158,
          268.5209813179253,
          271.07119845384744,
          272.6013287354007,
          273.2813866383133,
          276.0016182499636,
          277.701763007245,
          281.4420814732641,
          283.8222841334581,
          291.1329065897682
         ],
         "yaxis": "y2"
        },
        {
         "hovertemplate": "Boroughs=Manhattan<br>PM2_5=%{x}<br>asthma_hosp=%{y}<br>year=%{marker.color}<extra></extra>",
         "legendgroup": "",
         "marker": {
          "color": [
           2009,
           2009,
           2009,
           2009,
           2009,
           2010,
           2010,
           2010,
           2010,
           2010,
           2011,
           2011,
           2011,
           2011,
           2011,
           2011,
           2012,
           2012,
           2012,
           2012,
           2012,
           2012,
           2013,
           2013,
           2013,
           2013,
           2013,
           2014,
           2014,
           2014,
           2014,
           2014,
           2015,
           2015,
           2015,
           2015,
           2015,
           2016,
           2016,
           2016,
           2016
          ],
          "coloraxis": "coloraxis",
          "symbol": "circle"
         },
         "mode": "markers",
         "name": "",
         "orientation": "v",
         "showlegend": false,
         "type": "scatter",
         "x": [
          11.55,
          11.6,
          11.55,
          12.18,
          12.08,
          10.71,
          10.62,
          10.41,
          11.01,
          10.87,
          11.12,
          11.13,
          11.12,
          11.49,
          12.1,
          11.44,
          9.89,
          9.99,
          9.98,
          10.46,
          11.19,
          10.35,
          9.48,
          9.7,
          9.73,
          10.35,
          10.15,
          9.49,
          9.73,
          9.84,
          10.42,
          10.53,
          9.36,
          9.36,
          9.51,
          9.78,
          10.06,
          7.81,
          7.95,
          8.19,
          9.02
         ],
         "xaxis": "x3",
         "y": [
          168,
          298,
          254,
          87,
          80,
          176,
          246,
          240,
          77,
          59,
          164,
          259,
          212,
          75,
          51,
          67,
          160,
          299,
          203,
          57,
          53,
          77,
          161,
          276,
          222,
          56,
          67,
          217,
          233,
          239,
          64,
          57,
          175,
          234,
          197,
          51,
          67,
          210,
          284,
          151,
          73
         ],
         "yaxis": "y3"
        },
        {
         "hovertemplate": "<b>OLS trendline</b><br>asthma_hosp = -23.7151 * PM2_5 + 400.844<br>R<sup>2</sup>=0.088686<br><br>Boroughs=Manhattan<br>PM2_5=%{x}<br>asthma_hosp=%{y} <b>(trend)</b><extra></extra>",
         "legendgroup": "",
         "marker": {
          "symbol": "circle"
         },
         "mode": "lines",
         "name": "",
         "showlegend": false,
         "type": "scatter",
         "x": [
          7.81,
          7.95,
          8.19,
          9.02,
          9.36,
          9.36,
          9.48,
          9.49,
          9.51,
          9.7,
          9.73,
          9.73,
          9.78,
          9.84,
          9.89,
          9.98,
          9.99,
          10.06,
          10.15,
          10.35,
          10.35,
          10.41,
          10.42,
          10.46,
          10.53,
          10.62,
          10.71,
          10.87,
          11.01,
          11.12,
          11.12,
          11.13,
          11.19,
          11.44,
          11.49,
          11.55,
          11.55,
          11.6,
          12.08,
          12.1,
          12.18
         ],
         "xaxis": "x3",
         "y": [
          215.62893083842462,
          212.30882158425294,
          206.6172057199587,
          186.93370085594097,
          178.87057838152407,
          178.87057838152407,
          176.02477044937692,
          175.78761978836465,
          175.31331846634015,
          170.8074559071072,
          170.09600392407037,
          170.09600392407037,
          168.9102506190091,
          167.4873466529355,
          166.3015933478742,
          164.16723739876383,
          163.93008673775157,
          162.27003211066574,
          160.13567616155538,
          155.39266294131016,
          155.39266294131016,
          153.9697589752366,
          153.73260831422434,
          152.78400567017528,
          151.12395104308948,
          148.98959509397912,
          146.85523914486873,
          143.0608285686726,
          139.7407193145009,
          137.13206204336603,
          137.13206204336603,
          136.89491138235377,
          135.47200741628018,
          129.54324089097366,
          128.35748758591234,
          126.93458361983875,
          126.93458361983875,
          125.74883031477748,
          114.36559858618892,
          113.8912972641644,
          111.99409197606627
         ],
         "yaxis": "y3"
        },
        {
         "hovertemplate": "Boroughs=Queens<br>PM2_5=%{x}<br>asthma_hosp=%{y}<br>year=%{marker.color}<extra></extra>",
         "legendgroup": "",
         "marker": {
          "color": [
           2009,
           2009,
           2009,
           2009,
           2009,
           2009,
           2009,
           2009,
           2010,
           2010,
           2010,
           2010,
           2010,
           2010,
           2010,
           2010,
           2011,
           2011,
           2011,
           2011,
           2011,
           2011,
           2011,
           2011,
           2012,
           2012,
           2012,
           2012,
           2012,
           2012,
           2012,
           2012,
           2013,
           2013,
           2013,
           2013,
           2013,
           2013,
           2013,
           2013,
           2014,
           2014,
           2014,
           2014,
           2014,
           2014,
           2014,
           2014,
           2015,
           2015,
           2015,
           2015,
           2015,
           2015,
           2015,
           2015,
           2016,
           2016,
           2016,
           2016,
           2016,
           2016,
           2016,
           2016,
           2016
          ],
          "coloraxis": "coloraxis",
          "symbol": "circle"
         },
         "mode": "markers",
         "name": "",
         "orientation": "v",
         "showlegend": false,
         "type": "scatter",
         "x": [
          11.4,
          10.99,
          10.16,
          10.44,
          9.96,
          9.95,
          9.35,
          8.75,
          10.05,
          9.89,
          9.34,
          9.52,
          9.19,
          9.25,
          8.65,
          7.99,
          11.02,
          10.6,
          10.05,
          9.95,
          9.43,
          9.57,
          9.17,
          8.44,
          9.84,
          9.46,
          8.9,
          8.83,
          8.32,
          8.48,
          8.04,
          7.36,
          9.6,
          9.13,
          8.39,
          8.51,
          8.14,
          8.27,
          7.85,
          7.61,
          9.98,
          9.47,
          8.65,
          8.85,
          8.39,
          8.46,
          8.02,
          7.69,
          9.17,
          8.45,
          8.51,
          8.19,
          8.05,
          8.2,
          7.9,
          7.16,
          8.65,
          8.14,
          7.22,
          7.56,
          7.03,
          7.02,
          6.99,
          6.51,
          5.98
         ],
         "xaxis": "x4",
         "y": [
          79,
          225,
          84,
          157,
          269,
          431,
          224,
          185,
          86,
          197,
          89,
          160,
          226,
          343,
          173,
          177,
          80,
          187,
          83,
          149,
          170,
          267,
          157,
          132,
          70,
          234,
          68,
          146,
          218,
          257,
          176,
          86,
          66,
          202,
          82,
          87,
          181,
          288,
          158,
          86,
          67,
          249,
          75,
          109,
          209,
          276,
          162,
          100,
          177,
          70,
          95,
          57,
          183,
          261,
          135,
          86,
          55,
          199,
          79,
          97,
          51,
          146,
          239,
          115,
          73
         ],
         "yaxis": "y4"
        },
        {
         "hovertemplate": "<b>OLS trendline</b><br>asthma_hosp = 11.1297 * PM2_5 + 57.7724<br>R<sup>2</sup>=0.024859<br><br>Boroughs=Queens<br>PM2_5=%{x}<br>asthma_hosp=%{y} <b>(trend)</b><extra></extra>",
         "legendgroup": "",
         "marker": {
          "symbol": "circle"
         },
         "mode": "lines",
         "name": "",
         "showlegend": false,
         "type": "scatter",
         "x": [
          5.98,
          6.51,
          6.99,
          7.02,
          7.03,
          7.16,
          7.22,
          7.36,
          7.56,
          7.61,
          7.69,
          7.85,
          7.9,
          7.99,
          8.02,
          8.04,
          8.05,
          8.14,
          8.14,
          8.19,
          8.2,
          8.27,
          8.32,
          8.39,
          8.39,
          8.44,
          8.45,
          8.46,
          8.48,
          8.51,
          8.51,
          8.65,
          8.65,
          8.65,
          8.75,
          8.83,
          8.85,
          8.9,
          9.13,
          9.17,
          9.17,
          9.19,
          9.25,
          9.34,
          9.35,
          9.43,
          9.46,
          9.47,
          9.52,
          9.57,
          9.6,
          9.84,
          9.89,
          9.95,
          9.95,
          9.96,
          9.98,
          10.05,
          10.05,
          10.16,
          10.44,
          10.6,
          10.99,
          11.02,
          11.4
         ],
         "xaxis": "x4",
         "y": [
          124.32773045352096,
          130.22644963907726,
          135.5686858826,
          135.90257564782016,
          136.0138722362269,
          137.4607278855143,
          138.12850741595463,
          139.68665965364875,
          141.9125914217832,
          142.46907436381684,
          143.35944707107063,
          145.14019248557818,
          145.6966754276118,
          146.69834472327233,
          147.03223448849246,
          147.25482766530592,
          147.36612425371266,
          148.36779354937318,
          148.36779354937318,
          148.92427649140677,
          149.0355730798135,
          149.81464919866056,
          150.37113214069416,
          151.15020825954124,
          151.15020825954124,
          151.70669120157484,
          151.81798778998154,
          151.9292843783883,
          152.15187755520174,
          152.48576732042193,
          152.48576732042193,
          154.04391955811604,
          154.04391955811604,
          154.04391955811604,
          155.15688544218327,
          156.04725814943706,
          156.2698513262505,
          156.8263342682841,
          159.38615580163875,
          159.83134215526565,
          159.83134215526565,
          160.05393533207908,
          160.72171486251943,
          161.72338415817993,
          161.83468074658666,
          162.72505345384042,
          163.0589432190606,
          163.17023980746734,
          163.72672274950094,
          164.28320569153456,
          164.61709545675473,
          167.2882135785161,
          167.84469652054972,
          168.51247605099002,
          168.51247605099002,
          168.62377263939678,
          168.8463658162102,
          169.62544193505727,
          169.62544193505727,
          170.84970440753125,
          173.96600888291948,
          175.74675429742706,
          180.08732124528927,
          180.4212110105094,
          184.6504813699649
         ],
         "yaxis": "y4"
        },
        {
         "hovertemplate": "Boroughs=Staten Island<br>PM2_5=%{x}<br>asthma_hosp=%{y}<br>year=%{marker.color}<extra></extra>",
         "legendgroup": "",
         "marker": {
          "color": [
           2009,
           2009,
           2010,
           2010,
           2011,
           2011,
           2012,
           2012,
           2013,
           2013,
           2014,
           2014,
           2015,
           2015,
           2016,
           2016
          ],
          "coloraxis": "coloraxis",
          "symbol": "circle"
         },
         "mode": "markers",
         "name": "",
         "orientation": "v",
         "showlegend": false,
         "type": "scatter",
         "x": [
          10.22,
          9.63,
          9.02,
          8.64,
          9.73,
          9.36,
          8.55,
          8.18,
          8.27,
          7.9,
          8.79,
          8.34,
          8.34,
          7.82,
          7.3,
          6.8
         ],
         "xaxis": "x5",
         "y": [
          80,
          78,
          56,
          85,
          65,
          63,
          79,
          65,
          64,
          77,
          67,
          80,
          68,
          59,
          83,
          72
         ],
         "yaxis": "y5"
        },
        {
         "hovertemplate": "<b>OLS trendline</b><br>asthma_hosp = -0.551851 * PM2_5 + 76.0339<br>R<sup>2</sup>=0.003016<br><br>Boroughs=Staten Island<br>PM2_5=%{x}<br>asthma_hosp=%{y} <b>(trend)</b><extra></extra>",
         "legendgroup": "",
         "marker": {
          "symbol": "circle"
         },
         "mode": "lines",
         "name": "",
         "showlegend": false,
         "type": "scatter",
         "x": [
          6.8,
          7.3,
          7.82,
          7.9,
          8.18,
          8.27,
          8.34,
          8.34,
          8.55,
          8.64,
          8.79,
          9.02,
          9.36,
          9.63,
          9.73,
          10.22
         ],
         "xaxis": "x5",
         "y": [
          72.28134409620675,
          72.00541840130987,
          71.7184556786171,
          71.67430756743362,
          71.51978917829136,
          71.47012255320992,
          71.43149295592436,
          71.43149295592436,
          71.31560416406766,
          71.26593753898622,
          71.18315983051716,
          71.0562340108646,
          70.86860453833472,
          70.7196046630904,
          70.66441952411103,
          70.39401234311208
         ],
         "yaxis": "y5"
        }
       ],
       "layout": {
        "annotations": [
         {
          "font": {},
          "showarrow": false,
          "text": "Boroughs=Bronx",
          "x": 0.09200000000000001,
          "xanchor": "center",
          "xref": "paper",
          "y": 1,
          "yanchor": "bottom",
          "yref": "paper"
         },
         {
          "font": {},
          "showarrow": false,
          "text": "Boroughs=Brooklyn",
          "x": 0.29600000000000004,
          "xanchor": "center",
          "xref": "paper",
          "y": 1,
          "yanchor": "bottom",
          "yref": "paper"
         },
         {
          "font": {},
          "showarrow": false,
          "text": "Boroughs=Manhattan",
          "x": 0.5,
          "xanchor": "center",
          "xref": "paper",
          "y": 1,
          "yanchor": "bottom",
          "yref": "paper"
         },
         {
          "font": {},
          "showarrow": false,
          "text": "Boroughs=Queens",
          "x": 0.7040000000000002,
          "xanchor": "center",
          "xref": "paper",
          "y": 1,
          "yanchor": "bottom",
          "yref": "paper"
         },
         {
          "font": {},
          "showarrow": false,
          "text": "Boroughs=Staten Island",
          "x": 0.908,
          "xanchor": "center",
          "xref": "paper",
          "y": 1,
          "yanchor": "bottom",
          "yref": "paper"
         }
        ],
        "coloraxis": {
         "colorbar": {
          "title": {
           "text": "year"
          }
         },
         "colorscale": [
          [
           0,
           "#0d0887"
          ],
          [
           0.1111111111111111,
           "#46039f"
          ],
          [
           0.2222222222222222,
           "#7201a8"
          ],
          [
           0.3333333333333333,
           "#9c179e"
          ],
          [
           0.4444444444444444,
           "#bd3786"
          ],
          [
           0.5555555555555556,
           "#d8576b"
          ],
          [
           0.6666666666666666,
           "#ed7953"
          ],
          [
           0.7777777777777778,
           "#fb9f3a"
          ],
          [
           0.8888888888888888,
           "#fdca26"
          ],
          [
           1,
           "#f0f921"
          ]
         ]
        },
        "legend": {
         "tracegroupgap": 0
        },
        "margin": {
         "t": 60
        },
        "template": {
         "data": {
          "bar": [
           {
            "error_x": {
             "color": "#2a3f5f"
            },
            "error_y": {
             "color": "#2a3f5f"
            },
            "marker": {
             "line": {
              "color": "#E5ECF6",
              "width": 0.5
             },
             "pattern": {
              "fillmode": "overlay",
              "size": 10,
              "solidity": 0.2
             }
            },
            "type": "bar"
           }
          ],
          "barpolar": [
           {
            "marker": {
             "line": {
              "color": "#E5ECF6",
              "width": 0.5
             },
             "pattern": {
              "fillmode": "overlay",
              "size": 10,
              "solidity": 0.2
             }
            },
            "type": "barpolar"
           }
          ],
          "carpet": [
           {
            "aaxis": {
             "endlinecolor": "#2a3f5f",
             "gridcolor": "white",
             "linecolor": "white",
             "minorgridcolor": "white",
             "startlinecolor": "#2a3f5f"
            },
            "baxis": {
             "endlinecolor": "#2a3f5f",
             "gridcolor": "white",
             "linecolor": "white",
             "minorgridcolor": "white",
             "startlinecolor": "#2a3f5f"
            },
            "type": "carpet"
           }
          ],
          "choropleth": [
           {
            "colorbar": {
             "outlinewidth": 0,
             "ticks": ""
            },
            "type": "choropleth"
           }
          ],
          "contour": [
           {
            "colorbar": {
             "outlinewidth": 0,
             "ticks": ""
            },
            "colorscale": [
             [
              0,
              "#0d0887"
             ],
             [
              0.1111111111111111,
              "#46039f"
             ],
             [
              0.2222222222222222,
              "#7201a8"
             ],
             [
              0.3333333333333333,
              "#9c179e"
             ],
             [
              0.4444444444444444,
              "#bd3786"
             ],
             [
              0.5555555555555556,
              "#d8576b"
             ],
             [
              0.6666666666666666,
              "#ed7953"
             ],
             [
              0.7777777777777778,
              "#fb9f3a"
             ],
             [
              0.8888888888888888,
              "#fdca26"
             ],
             [
              1,
              "#f0f921"
             ]
            ],
            "type": "contour"
           }
          ],
          "contourcarpet": [
           {
            "colorbar": {
             "outlinewidth": 0,
             "ticks": ""
            },
            "type": "contourcarpet"
           }
          ],
          "heatmap": [
           {
            "colorbar": {
             "outlinewidth": 0,
             "ticks": ""
            },
            "colorscale": [
             [
              0,
              "#0d0887"
             ],
             [
              0.1111111111111111,
              "#46039f"
             ],
             [
              0.2222222222222222,
              "#7201a8"
             ],
             [
              0.3333333333333333,
              "#9c179e"
             ],
             [
              0.4444444444444444,
              "#bd3786"
             ],
             [
              0.5555555555555556,
              "#d8576b"
             ],
             [
              0.6666666666666666,
              "#ed7953"
             ],
             [
              0.7777777777777778,
              "#fb9f3a"
             ],
             [
              0.8888888888888888,
              "#fdca26"
             ],
             [
              1,
              "#f0f921"
             ]
            ],
            "type": "heatmap"
           }
          ],
          "heatmapgl": [
           {
            "colorbar": {
             "outlinewidth": 0,
             "ticks": ""
            },
            "colorscale": [
             [
              0,
              "#0d0887"
             ],
             [
              0.1111111111111111,
              "#46039f"
             ],
             [
              0.2222222222222222,
              "#7201a8"
             ],
             [
              0.3333333333333333,
              "#9c179e"
             ],
             [
              0.4444444444444444,
              "#bd3786"
             ],
             [
              0.5555555555555556,
              "#d8576b"
             ],
             [
              0.6666666666666666,
              "#ed7953"
             ],
             [
              0.7777777777777778,
              "#fb9f3a"
             ],
             [
              0.8888888888888888,
              "#fdca26"
             ],
             [
              1,
              "#f0f921"
             ]
            ],
            "type": "heatmapgl"
           }
          ],
          "histogram": [
           {
            "marker": {
             "pattern": {
              "fillmode": "overlay",
              "size": 10,
              "solidity": 0.2
             }
            },
            "type": "histogram"
           }
          ],
          "histogram2d": [
           {
            "colorbar": {
             "outlinewidth": 0,
             "ticks": ""
            },
            "colorscale": [
             [
              0,
              "#0d0887"
             ],
             [
              0.1111111111111111,
              "#46039f"
             ],
             [
              0.2222222222222222,
              "#7201a8"
             ],
             [
              0.3333333333333333,
              "#9c179e"
             ],
             [
              0.4444444444444444,
              "#bd3786"
             ],
             [
              0.5555555555555556,
              "#d8576b"
             ],
             [
              0.6666666666666666,
              "#ed7953"
             ],
             [
              0.7777777777777778,
              "#fb9f3a"
             ],
             [
              0.8888888888888888,
              "#fdca26"
             ],
             [
              1,
              "#f0f921"
             ]
            ],
            "type": "histogram2d"
           }
          ],
          "histogram2dcontour": [
           {
            "colorbar": {
             "outlinewidth": 0,
             "ticks": ""
            },
            "colorscale": [
             [
              0,
              "#0d0887"
             ],
             [
              0.1111111111111111,
              "#46039f"
             ],
             [
              0.2222222222222222,
              "#7201a8"
             ],
             [
              0.3333333333333333,
              "#9c179e"
             ],
             [
              0.4444444444444444,
              "#bd3786"
             ],
             [
              0.5555555555555556,
              "#d8576b"
             ],
             [
              0.6666666666666666,
              "#ed7953"
             ],
             [
              0.7777777777777778,
              "#fb9f3a"
             ],
             [
              0.8888888888888888,
              "#fdca26"
             ],
             [
              1,
              "#f0f921"
             ]
            ],
            "type": "histogram2dcontour"
           }
          ],
          "mesh3d": [
           {
            "colorbar": {
             "outlinewidth": 0,
             "ticks": ""
            },
            "type": "mesh3d"
           }
          ],
          "parcoords": [
           {
            "line": {
             "colorbar": {
              "outlinewidth": 0,
              "ticks": ""
             }
            },
            "type": "parcoords"
           }
          ],
          "pie": [
           {
            "automargin": true,
            "type": "pie"
           }
          ],
          "scatter": [
           {
            "marker": {
             "colorbar": {
              "outlinewidth": 0,
              "ticks": ""
             }
            },
            "type": "scatter"
           }
          ],
          "scatter3d": [
           {
            "line": {
             "colorbar": {
              "outlinewidth": 0,
              "ticks": ""
             }
            },
            "marker": {
             "colorbar": {
              "outlinewidth": 0,
              "ticks": ""
             }
            },
            "type": "scatter3d"
           }
          ],
          "scattercarpet": [
           {
            "marker": {
             "colorbar": {
              "outlinewidth": 0,
              "ticks": ""
             }
            },
            "type": "scattercarpet"
           }
          ],
          "scattergeo": [
           {
            "marker": {
             "colorbar": {
              "outlinewidth": 0,
              "ticks": ""
             }
            },
            "type": "scattergeo"
           }
          ],
          "scattergl": [
           {
            "marker": {
             "colorbar": {
              "outlinewidth": 0,
              "ticks": ""
             }
            },
            "type": "scattergl"
           }
          ],
          "scattermapbox": [
           {
            "marker": {
             "colorbar": {
              "outlinewidth": 0,
              "ticks": ""
             }
            },
            "type": "scattermapbox"
           }
          ],
          "scatterpolar": [
           {
            "marker": {
             "colorbar": {
              "outlinewidth": 0,
              "ticks": ""
             }
            },
            "type": "scatterpolar"
           }
          ],
          "scatterpolargl": [
           {
            "marker": {
             "colorbar": {
              "outlinewidth": 0,
              "ticks": ""
             }
            },
            "type": "scatterpolargl"
           }
          ],
          "scatterternary": [
           {
            "marker": {
             "colorbar": {
              "outlinewidth": 0,
              "ticks": ""
             }
            },
            "type": "scatterternary"
           }
          ],
          "surface": [
           {
            "colorbar": {
             "outlinewidth": 0,
             "ticks": ""
            },
            "colorscale": [
             [
              0,
              "#0d0887"
             ],
             [
              0.1111111111111111,
              "#46039f"
             ],
             [
              0.2222222222222222,
              "#7201a8"
             ],
             [
              0.3333333333333333,
              "#9c179e"
             ],
             [
              0.4444444444444444,
              "#bd3786"
             ],
             [
              0.5555555555555556,
              "#d8576b"
             ],
             [
              0.6666666666666666,
              "#ed7953"
             ],
             [
              0.7777777777777778,
              "#fb9f3a"
             ],
             [
              0.8888888888888888,
              "#fdca26"
             ],
             [
              1,
              "#f0f921"
             ]
            ],
            "type": "surface"
           }
          ],
          "table": [
           {
            "cells": {
             "fill": {
              "color": "#EBF0F8"
             },
             "line": {
              "color": "white"
             }
            },
            "header": {
             "fill": {
              "color": "#C8D4E3"
             },
             "line": {
              "color": "white"
             }
            },
            "type": "table"
           }
          ]
         },
         "layout": {
          "annotationdefaults": {
           "arrowcolor": "#2a3f5f",
           "arrowhead": 0,
           "arrowwidth": 1
          },
          "autotypenumbers": "strict",
          "coloraxis": {
           "colorbar": {
            "outlinewidth": 0,
            "ticks": ""
           }
          },
          "colorscale": {
           "diverging": [
            [
             0,
             "#8e0152"
            ],
            [
             0.1,
             "#c51b7d"
            ],
            [
             0.2,
             "#de77ae"
            ],
            [
             0.3,
             "#f1b6da"
            ],
            [
             0.4,
             "#fde0ef"
            ],
            [
             0.5,
             "#f7f7f7"
            ],
            [
             0.6,
             "#e6f5d0"
            ],
            [
             0.7,
             "#b8e186"
            ],
            [
             0.8,
             "#7fbc41"
            ],
            [
             0.9,
             "#4d9221"
            ],
            [
             1,
             "#276419"
            ]
           ],
           "sequential": [
            [
             0,
             "#0d0887"
            ],
            [
             0.1111111111111111,
             "#46039f"
            ],
            [
             0.2222222222222222,
             "#7201a8"
            ],
            [
             0.3333333333333333,
             "#9c179e"
            ],
            [
             0.4444444444444444,
             "#bd3786"
            ],
            [
             0.5555555555555556,
             "#d8576b"
            ],
            [
             0.6666666666666666,
             "#ed7953"
            ],
            [
             0.7777777777777778,
             "#fb9f3a"
            ],
            [
             0.8888888888888888,
             "#fdca26"
            ],
            [
             1,
             "#f0f921"
            ]
           ],
           "sequentialminus": [
            [
             0,
             "#0d0887"
            ],
            [
             0.1111111111111111,
             "#46039f"
            ],
            [
             0.2222222222222222,
             "#7201a8"
            ],
            [
             0.3333333333333333,
             "#9c179e"
            ],
            [
             0.4444444444444444,
             "#bd3786"
            ],
            [
             0.5555555555555556,
             "#d8576b"
            ],
            [
             0.6666666666666666,
             "#ed7953"
            ],
            [
             0.7777777777777778,
             "#fb9f3a"
            ],
            [
             0.8888888888888888,
             "#fdca26"
            ],
            [
             1,
             "#f0f921"
            ]
           ]
          },
          "colorway": [
           "#636efa",
           "#EF553B",
           "#00cc96",
           "#ab63fa",
           "#FFA15A",
           "#19d3f3",
           "#FF6692",
           "#B6E880",
           "#FF97FF",
           "#FECB52"
          ],
          "font": {
           "color": "#2a3f5f"
          },
          "geo": {
           "bgcolor": "white",
           "lakecolor": "white",
           "landcolor": "#E5ECF6",
           "showlakes": true,
           "showland": true,
           "subunitcolor": "white"
          },
          "hoverlabel": {
           "align": "left"
          },
          "hovermode": "closest",
          "mapbox": {
           "style": "light"
          },
          "paper_bgcolor": "white",
          "plot_bgcolor": "#E5ECF6",
          "polar": {
           "angularaxis": {
            "gridcolor": "white",
            "linecolor": "white",
            "ticks": ""
           },
           "bgcolor": "#E5ECF6",
           "radialaxis": {
            "gridcolor": "white",
            "linecolor": "white",
            "ticks": ""
           }
          },
          "scene": {
           "xaxis": {
            "backgroundcolor": "#E5ECF6",
            "gridcolor": "white",
            "gridwidth": 2,
            "linecolor": "white",
            "showbackground": true,
            "ticks": "",
            "zerolinecolor": "white"
           },
           "yaxis": {
            "backgroundcolor": "#E5ECF6",
            "gridcolor": "white",
            "gridwidth": 2,
            "linecolor": "white",
            "showbackground": true,
            "ticks": "",
            "zerolinecolor": "white"
           },
           "zaxis": {
            "backgroundcolor": "#E5ECF6",
            "gridcolor": "white",
            "gridwidth": 2,
            "linecolor": "white",
            "showbackground": true,
            "ticks": "",
            "zerolinecolor": "white"
           }
          },
          "shapedefaults": {
           "line": {
            "color": "#2a3f5f"
           }
          },
          "ternary": {
           "aaxis": {
            "gridcolor": "white",
            "linecolor": "white",
            "ticks": ""
           },
           "baxis": {
            "gridcolor": "white",
            "linecolor": "white",
            "ticks": ""
           },
           "bgcolor": "#E5ECF6",
           "caxis": {
            "gridcolor": "white",
            "linecolor": "white",
            "ticks": ""
           }
          },
          "title": {
           "x": 0.05
          },
          "xaxis": {
           "automargin": true,
           "gridcolor": "white",
           "linecolor": "white",
           "ticks": "",
           "title": {
            "standoff": 15
           },
           "zerolinecolor": "white",
           "zerolinewidth": 2
          },
          "yaxis": {
           "automargin": true,
           "gridcolor": "white",
           "linecolor": "white",
           "ticks": "",
           "title": {
            "standoff": 15
           },
           "zerolinecolor": "white",
           "zerolinewidth": 2
          }
         }
        },
        "xaxis": {
         "anchor": "y",
         "domain": [
          0,
          0.18400000000000002
         ],
         "title": {
          "text": "PM2_5"
         }
        },
        "xaxis2": {
         "anchor": "y2",
         "domain": [
          0.20400000000000001,
          0.388
         ],
         "matches": "x",
         "title": {
          "text": "PM2_5"
         }
        },
        "xaxis3": {
         "anchor": "y3",
         "domain": [
          0.40800000000000003,
          0.5920000000000001
         ],
         "matches": "x",
         "title": {
          "text": "PM2_5"
         }
        },
        "xaxis4": {
         "anchor": "y4",
         "domain": [
          0.6120000000000001,
          0.7960000000000002
         ],
         "matches": "x",
         "title": {
          "text": "PM2_5"
         }
        },
        "xaxis5": {
         "anchor": "y5",
         "domain": [
          0.8160000000000001,
          1
         ],
         "matches": "x",
         "title": {
          "text": "PM2_5"
         }
        },
        "yaxis": {
         "anchor": "x",
         "domain": [
          0,
          1
         ],
         "title": {
          "text": "asthma_hosp"
         }
        },
        "yaxis2": {
         "anchor": "x2",
         "domain": [
          0,
          1
         ],
         "matches": "y",
         "showticklabels": false
        },
        "yaxis3": {
         "anchor": "x3",
         "domain": [
          0,
          1
         ],
         "matches": "y",
         "showticklabels": false
        },
        "yaxis4": {
         "anchor": "x4",
         "domain": [
          0,
          1
         ],
         "matches": "y",
         "showticklabels": false
        },
        "yaxis5": {
         "anchor": "x5",
         "domain": [
          0,
          1
         ],
         "matches": "y",
         "showticklabels": false
        }
       }
      },
      "text/html": [
       "<div>                            <div id=\"3e5523ed-4be2-43f4-a23f-85350c6e5227\" class=\"plotly-graph-div\" style=\"height:525px; width:100%;\"></div>            <script type=\"text/javascript\">                require([\"plotly\"], function(Plotly) {                    window.PLOTLYENV=window.PLOTLYENV || {};                                    if (document.getElementById(\"3e5523ed-4be2-43f4-a23f-85350c6e5227\")) {                    Plotly.newPlot(                        \"3e5523ed-4be2-43f4-a23f-85350c6e5227\",                        [{\"hovertemplate\":\"Boroughs=Bronx<br>PM2_5=%{x}<br>asthma_hosp=%{y}<br>year=%{marker.color}<extra></extra>\",\"legendgroup\":\"\",\"marker\":{\"color\":[2009,2009,2009,2009,2009,2009,2009,2010,2010,2010,2010,2010,2010,2010,2011,2011,2011,2011,2011,2011,2011,2012,2012,2012,2012,2012,2012,2012,2013,2013,2013,2013,2013,2013,2013,2014,2014,2014,2014,2014,2014,2014,2015,2015,2015,2015,2015,2015,2015,2016,2016,2016,2016,2016,2016,2016],\"coloraxis\":\"coloraxis\",\"symbol\":\"circle\"},\"mode\":\"markers\",\"name\":\"\",\"orientation\":\"v\",\"showlegend\":false,\"x\":[11.03,10.68,11.1,10.59,11.76,11.8,11.45,10.09,9.65,10.26,9.68,10.99,11.0,10.48,10.65,10.48,10.77,10.5,11.45,11.44,11.24,9.27,9.11,9.47,9.23,10.22,10.26,10.02,8.88,8.73,9.06,8.74,9.75,9.83,9.57,9.0,9.0,9.19,8.97,9.82,9.87,9.75,9.17,9.13,9.14,8.93,9.67,9.6,9.62,7.5,7.55,7.57,7.5,8.18,8.16,8.26],\"xaxis\":\"x\",\"y\":[61,282,693,588,631,657,504,74,285,563,491,552,505,435,65,303,528,552,529,533,457,67,320,559,609,524,571,501,72,319,589,515,559,627,453,71,324,648,521,567,624,478,60,268,548,523,463,574,431,53,265,545,441,427,565,361],\"yaxis\":\"y\",\"type\":\"scatter\"},{\"hovertemplate\":\"<b>OLS trendline</b><br>asthma_hosp = 43.2602 * PM2_5 + 13.5963<br>R<sup>2</sup>=0.067301<br><br>Boroughs=Bronx<br>PM2_5=%{x}<br>asthma_hosp=%{y} <b>(trend)</b><extra></extra>\",\"legendgroup\":\"\",\"marker\":{\"symbol\":\"circle\"},\"mode\":\"lines\",\"name\":\"\",\"showlegend\":false,\"x\":[7.5,7.5,7.55,7.57,8.16,8.18,8.26,8.73,8.74,8.88,8.93,8.97,9.0,9.0,9.06,9.11,9.13,9.14,9.17,9.19,9.23,9.27,9.47,9.57,9.6,9.62,9.65,9.67,9.68,9.75,9.75,9.82,9.83,9.87,10.02,10.09,10.22,10.26,10.26,10.48,10.48,10.5,10.59,10.65,10.68,10.77,10.99,11.0,11.03,11.1,11.24,11.44,11.45,11.45,11.76,11.8],\"xaxis\":\"x\",\"y\":[338.04804365841767,338.04804365841767,340.2110552581007,341.07625989797384,366.5997967742328,367.4650014141059,370.92581997359866,391.2581290106185,391.6907313305551,397.7471638096674,399.91017540935024,401.6405846890967,402.9383916489064,402.9383916489064,405.534005568526,407.69701716820896,408.5622218080822,408.99482412801876,410.29263108782845,411.1578357277017,412.88824500744806,414.61865428719443,423.2707006859263,427.59672388529214,428.89453084510194,429.75973548497507,431.0575424447849,431.9227470846581,432.3553494045947,435.38356564415085,435.38356564415085,438.411781883707,438.8443842036436,440.57479348338984,447.06382828243875,450.0920445219949,455.7158746811707,457.44628396091696,457.44628396091696,466.96353499952204,466.96353499952204,467.82873963939517,471.72216051882447,474.3177744384441,475.61558139825377,479.5090022776832,489.02625331628815,489.4588556362247,490.7566625960345,493.7848788355907,499.8413113147029,508.49335771343476,508.9259600333713,508.9259600333713,522.3366319514057,524.0670412311521],\"yaxis\":\"y\",\"type\":\"scatter\"},{\"hovertemplate\":\"Boroughs=Brooklyn<br>PM2_5=%{x}<br>asthma_hosp=%{y}<br>year=%{marker.color}<extra></extra>\",\"legendgroup\":\"\",\"marker\":{\"color\":[2009,2009,2009,2009,2009,2009,2009,2009,2009,2009,2010,2010,2010,2010,2010,2010,2010,2010,2010,2011,2011,2011,2011,2011,2011,2011,2011,2011,2012,2012,2012,2012,2012,2012,2012,2012,2012,2013,2013,2013,2013,2013,2013,2013,2013,2013,2014,2014,2014,2014,2014,2014,2014,2014,2014,2015,2015,2015,2015,2015,2015,2015,2015,2016,2016,2016,2016,2016,2016,2016,2016],\"coloraxis\":\"coloraxis\",\"symbol\":\"circle\"},\"mode\":\"markers\",\"name\":\"\",\"orientation\":\"v\",\"showlegend\":false,\"x\":[11.93,11.5,10.75,10.6,11.04,10.27,10.47,9.85,9.55,11.36,10.49,9.93,9.79,10.21,9.61,9.8,9.12,8.89,10.33,11.14,10.29,10.09,10.84,10.07,10.15,9.55,9.44,10.88,9.9,9.13,8.94,9.59,8.89,8.98,8.37,8.3,9.7,9.46,8.75,8.69,9.12,8.49,8.6,8.18,8.11,9.36,9.99,9.16,9.04,9.63,8.87,8.97,8.48,8.37,9.84,9.89,8.87,8.72,8.44,8.59,8.1,7.72,9.61,8.86,7.94,7.8,7.45,7.64,7.12,6.75,8.67],\"xaxis\":\"x2\",\"y\":[88,176,645,376,62,97,446,195,101,503,135,559,348,56,64,361,160,90,402,176,582,313,64,103,361,176,67,387,171,591,329,57,90,387,191,85,387,130,581,346,63,70,409,191,74,292,121,607,366,54,73,460,159,82,292,114,506,349,75,413,179,58,219,112,473,361,72,364,172,84,240],\"yaxis\":\"y2\",\"type\":\"scatter\"},{\"hovertemplate\":\"<b>OLS trendline</b><br>asthma_hosp = 17.0014 * PM2_5 + 88.3056<br>R<sup>2</sup>=0.011069<br><br>Boroughs=Brooklyn<br>PM2_5=%{x}<br>asthma_hosp=%{y} <b>(trend)</b><extra></extra>\",\"legendgroup\":\"\",\"marker\":{\"symbol\":\"circle\"},\"mode\":\"lines\",\"name\":\"\",\"showlegend\":false,\"x\":[6.75,7.12,7.45,7.64,7.72,7.8,7.94,8.1,8.11,8.18,8.3,8.37,8.37,8.44,8.48,8.49,8.59,8.6,8.67,8.69,8.72,8.75,8.86,8.87,8.87,8.89,8.89,8.94,8.97,8.98,9.04,9.12,9.12,9.13,9.16,9.36,9.44,9.46,9.55,9.55,9.59,9.61,9.61,9.63,9.7,9.79,9.8,9.84,9.85,9.89,9.9,9.93,9.99,10.07,10.09,10.15,10.21,10.27,10.29,10.33,10.47,10.49,10.6,10.75,10.84,10.88,11.04,11.14,11.36,11.5,11.93],\"xaxis\":\"x2\",\"y\":[203.06540816259064,209.3559437645319,214.9664214635606,218.1966965023953,219.55681230822043,220.91692811404556,223.29713077423955,226.0173623858898,226.18737686161796,227.37747819171494,229.41765190045268,230.60775323054963,230.60775323054963,231.79785456064664,232.47791246355922,232.64792693928737,234.34807169656878,234.5180861722969,235.7081875023939,236.0482164538502,236.55825988103464,237.06830330821904,238.9384625412286,239.10847701695675,239.10847701695675,239.44850596841306,239.44850596841306,240.29857834705373,240.8086217742382,240.9786362499663,241.99872310433517,243.3588389101603,243.3588389101603,243.52885338588845,244.03889681307288,247.4391863276357,248.79930213346086,249.13933108491716,250.66946136647041,250.66946136647041,251.34951926938297,251.68954822083927,251.68954822083927,252.02957717229557,253.21967850239253,254.7498087839458,254.919823259674,255.59988116258654,255.76989563831467,256.4499535412273,256.6199680169554,257.13001144413977,258.1500982985086,259.51021410433384,259.8502430557901,260.87032991015894,261.8904167645278,262.91050361889666,263.2505325703529,263.9305904732655,266.31079313345947,266.6508220849158,268.5209813179253,271.07119845384744,272.6013287354007,273.2813866383133,276.0016182499636,277.701763007245,281.4420814732641,283.8222841334581,291.1329065897682],\"yaxis\":\"y2\",\"type\":\"scatter\"},{\"hovertemplate\":\"Boroughs=Manhattan<br>PM2_5=%{x}<br>asthma_hosp=%{y}<br>year=%{marker.color}<extra></extra>\",\"legendgroup\":\"\",\"marker\":{\"color\":[2009,2009,2009,2009,2009,2010,2010,2010,2010,2010,2011,2011,2011,2011,2011,2011,2012,2012,2012,2012,2012,2012,2013,2013,2013,2013,2013,2014,2014,2014,2014,2014,2015,2015,2015,2015,2015,2016,2016,2016,2016],\"coloraxis\":\"coloraxis\",\"symbol\":\"circle\"},\"mode\":\"markers\",\"name\":\"\",\"orientation\":\"v\",\"showlegend\":false,\"x\":[11.55,11.6,11.55,12.18,12.08,10.71,10.62,10.41,11.01,10.87,11.12,11.13,11.12,11.49,12.1,11.44,9.89,9.99,9.98,10.46,11.19,10.35,9.48,9.7,9.73,10.35,10.15,9.49,9.73,9.84,10.42,10.53,9.36,9.36,9.51,9.78,10.06,7.81,7.95,8.19,9.02],\"xaxis\":\"x3\",\"y\":[168,298,254,87,80,176,246,240,77,59,164,259,212,75,51,67,160,299,203,57,53,77,161,276,222,56,67,217,233,239,64,57,175,234,197,51,67,210,284,151,73],\"yaxis\":\"y3\",\"type\":\"scatter\"},{\"hovertemplate\":\"<b>OLS trendline</b><br>asthma_hosp = -23.7151 * PM2_5 + 400.844<br>R<sup>2</sup>=0.088686<br><br>Boroughs=Manhattan<br>PM2_5=%{x}<br>asthma_hosp=%{y} <b>(trend)</b><extra></extra>\",\"legendgroup\":\"\",\"marker\":{\"symbol\":\"circle\"},\"mode\":\"lines\",\"name\":\"\",\"showlegend\":false,\"x\":[7.81,7.95,8.19,9.02,9.36,9.36,9.48,9.49,9.51,9.7,9.73,9.73,9.78,9.84,9.89,9.98,9.99,10.06,10.15,10.35,10.35,10.41,10.42,10.46,10.53,10.62,10.71,10.87,11.01,11.12,11.12,11.13,11.19,11.44,11.49,11.55,11.55,11.6,12.08,12.1,12.18],\"xaxis\":\"x3\",\"y\":[215.62893083842462,212.30882158425294,206.6172057199587,186.93370085594097,178.87057838152407,178.87057838152407,176.02477044937692,175.78761978836465,175.31331846634015,170.8074559071072,170.09600392407037,170.09600392407037,168.9102506190091,167.4873466529355,166.3015933478742,164.16723739876383,163.93008673775157,162.27003211066574,160.13567616155538,155.39266294131016,155.39266294131016,153.9697589752366,153.73260831422434,152.78400567017528,151.12395104308948,148.98959509397912,146.85523914486873,143.0608285686726,139.7407193145009,137.13206204336603,137.13206204336603,136.89491138235377,135.47200741628018,129.54324089097366,128.35748758591234,126.93458361983875,126.93458361983875,125.74883031477748,114.36559858618892,113.8912972641644,111.99409197606627],\"yaxis\":\"y3\",\"type\":\"scatter\"},{\"hovertemplate\":\"Boroughs=Queens<br>PM2_5=%{x}<br>asthma_hosp=%{y}<br>year=%{marker.color}<extra></extra>\",\"legendgroup\":\"\",\"marker\":{\"color\":[2009,2009,2009,2009,2009,2009,2009,2009,2010,2010,2010,2010,2010,2010,2010,2010,2011,2011,2011,2011,2011,2011,2011,2011,2012,2012,2012,2012,2012,2012,2012,2012,2013,2013,2013,2013,2013,2013,2013,2013,2014,2014,2014,2014,2014,2014,2014,2014,2015,2015,2015,2015,2015,2015,2015,2015,2016,2016,2016,2016,2016,2016,2016,2016,2016],\"coloraxis\":\"coloraxis\",\"symbol\":\"circle\"},\"mode\":\"markers\",\"name\":\"\",\"orientation\":\"v\",\"showlegend\":false,\"x\":[11.4,10.99,10.16,10.44,9.96,9.95,9.35,8.75,10.05,9.89,9.34,9.52,9.19,9.25,8.65,7.99,11.02,10.6,10.05,9.95,9.43,9.57,9.17,8.44,9.84,9.46,8.9,8.83,8.32,8.48,8.04,7.36,9.6,9.13,8.39,8.51,8.14,8.27,7.85,7.61,9.98,9.47,8.65,8.85,8.39,8.46,8.02,7.69,9.17,8.45,8.51,8.19,8.05,8.2,7.9,7.16,8.65,8.14,7.22,7.56,7.03,7.02,6.99,6.51,5.98],\"xaxis\":\"x4\",\"y\":[79,225,84,157,269,431,224,185,86,197,89,160,226,343,173,177,80,187,83,149,170,267,157,132,70,234,68,146,218,257,176,86,66,202,82,87,181,288,158,86,67,249,75,109,209,276,162,100,177,70,95,57,183,261,135,86,55,199,79,97,51,146,239,115,73],\"yaxis\":\"y4\",\"type\":\"scatter\"},{\"hovertemplate\":\"<b>OLS trendline</b><br>asthma_hosp = 11.1297 * PM2_5 + 57.7724<br>R<sup>2</sup>=0.024859<br><br>Boroughs=Queens<br>PM2_5=%{x}<br>asthma_hosp=%{y} <b>(trend)</b><extra></extra>\",\"legendgroup\":\"\",\"marker\":{\"symbol\":\"circle\"},\"mode\":\"lines\",\"name\":\"\",\"showlegend\":false,\"x\":[5.98,6.51,6.99,7.02,7.03,7.16,7.22,7.36,7.56,7.61,7.69,7.85,7.9,7.99,8.02,8.04,8.05,8.14,8.14,8.19,8.2,8.27,8.32,8.39,8.39,8.44,8.45,8.46,8.48,8.51,8.51,8.65,8.65,8.65,8.75,8.83,8.85,8.9,9.13,9.17,9.17,9.19,9.25,9.34,9.35,9.43,9.46,9.47,9.52,9.57,9.6,9.84,9.89,9.95,9.95,9.96,9.98,10.05,10.05,10.16,10.44,10.6,10.99,11.02,11.4],\"xaxis\":\"x4\",\"y\":[124.32773045352096,130.22644963907726,135.5686858826,135.90257564782016,136.0138722362269,137.4607278855143,138.12850741595463,139.68665965364875,141.9125914217832,142.46907436381684,143.35944707107063,145.14019248557818,145.6966754276118,146.69834472327233,147.03223448849246,147.25482766530592,147.36612425371266,148.36779354937318,148.36779354937318,148.92427649140677,149.0355730798135,149.81464919866056,150.37113214069416,151.15020825954124,151.15020825954124,151.70669120157484,151.81798778998154,151.9292843783883,152.15187755520174,152.48576732042193,152.48576732042193,154.04391955811604,154.04391955811604,154.04391955811604,155.15688544218327,156.04725814943706,156.2698513262505,156.8263342682841,159.38615580163875,159.83134215526565,159.83134215526565,160.05393533207908,160.72171486251943,161.72338415817993,161.83468074658666,162.72505345384042,163.0589432190606,163.17023980746734,163.72672274950094,164.28320569153456,164.61709545675473,167.2882135785161,167.84469652054972,168.51247605099002,168.51247605099002,168.62377263939678,168.8463658162102,169.62544193505727,169.62544193505727,170.84970440753125,173.96600888291948,175.74675429742706,180.08732124528927,180.4212110105094,184.6504813699649],\"yaxis\":\"y4\",\"type\":\"scatter\"},{\"hovertemplate\":\"Boroughs=Staten Island<br>PM2_5=%{x}<br>asthma_hosp=%{y}<br>year=%{marker.color}<extra></extra>\",\"legendgroup\":\"\",\"marker\":{\"color\":[2009,2009,2010,2010,2011,2011,2012,2012,2013,2013,2014,2014,2015,2015,2016,2016],\"coloraxis\":\"coloraxis\",\"symbol\":\"circle\"},\"mode\":\"markers\",\"name\":\"\",\"orientation\":\"v\",\"showlegend\":false,\"x\":[10.22,9.63,9.02,8.64,9.73,9.36,8.55,8.18,8.27,7.9,8.79,8.34,8.34,7.82,7.3,6.8],\"xaxis\":\"x5\",\"y\":[80,78,56,85,65,63,79,65,64,77,67,80,68,59,83,72],\"yaxis\":\"y5\",\"type\":\"scatter\"},{\"hovertemplate\":\"<b>OLS trendline</b><br>asthma_hosp = -0.551851 * PM2_5 + 76.0339<br>R<sup>2</sup>=0.003016<br><br>Boroughs=Staten Island<br>PM2_5=%{x}<br>asthma_hosp=%{y} <b>(trend)</b><extra></extra>\",\"legendgroup\":\"\",\"marker\":{\"symbol\":\"circle\"},\"mode\":\"lines\",\"name\":\"\",\"showlegend\":false,\"x\":[6.8,7.3,7.82,7.9,8.18,8.27,8.34,8.34,8.55,8.64,8.79,9.02,9.36,9.63,9.73,10.22],\"xaxis\":\"x5\",\"y\":[72.28134409620675,72.00541840130987,71.7184556786171,71.67430756743362,71.51978917829136,71.47012255320992,71.43149295592436,71.43149295592436,71.31560416406766,71.26593753898622,71.18315983051716,71.0562340108646,70.86860453833472,70.7196046630904,70.66441952411103,70.39401234311208],\"yaxis\":\"y5\",\"type\":\"scatter\"}],                        {\"template\":{\"data\":{\"bar\":[{\"error_x\":{\"color\":\"#2a3f5f\"},\"error_y\":{\"color\":\"#2a3f5f\"},\"marker\":{\"line\":{\"color\":\"#E5ECF6\",\"width\":0.5},\"pattern\":{\"fillmode\":\"overlay\",\"size\":10,\"solidity\":0.2}},\"type\":\"bar\"}],\"barpolar\":[{\"marker\":{\"line\":{\"color\":\"#E5ECF6\",\"width\":0.5},\"pattern\":{\"fillmode\":\"overlay\",\"size\":10,\"solidity\":0.2}},\"type\":\"barpolar\"}],\"carpet\":[{\"aaxis\":{\"endlinecolor\":\"#2a3f5f\",\"gridcolor\":\"white\",\"linecolor\":\"white\",\"minorgridcolor\":\"white\",\"startlinecolor\":\"#2a3f5f\"},\"baxis\":{\"endlinecolor\":\"#2a3f5f\",\"gridcolor\":\"white\",\"linecolor\":\"white\",\"minorgridcolor\":\"white\",\"startlinecolor\":\"#2a3f5f\"},\"type\":\"carpet\"}],\"choropleth\":[{\"colorbar\":{\"outlinewidth\":0,\"ticks\":\"\"},\"type\":\"choropleth\"}],\"contour\":[{\"colorbar\":{\"outlinewidth\":0,\"ticks\":\"\"},\"colorscale\":[[0.0,\"#0d0887\"],[0.1111111111111111,\"#46039f\"],[0.2222222222222222,\"#7201a8\"],[0.3333333333333333,\"#9c179e\"],[0.4444444444444444,\"#bd3786\"],[0.5555555555555556,\"#d8576b\"],[0.6666666666666666,\"#ed7953\"],[0.7777777777777778,\"#fb9f3a\"],[0.8888888888888888,\"#fdca26\"],[1.0,\"#f0f921\"]],\"type\":\"contour\"}],\"contourcarpet\":[{\"colorbar\":{\"outlinewidth\":0,\"ticks\":\"\"},\"type\":\"contourcarpet\"}],\"heatmap\":[{\"colorbar\":{\"outlinewidth\":0,\"ticks\":\"\"},\"colorscale\":[[0.0,\"#0d0887\"],[0.1111111111111111,\"#46039f\"],[0.2222222222222222,\"#7201a8\"],[0.3333333333333333,\"#9c179e\"],[0.4444444444444444,\"#bd3786\"],[0.5555555555555556,\"#d8576b\"],[0.6666666666666666,\"#ed7953\"],[0.7777777777777778,\"#fb9f3a\"],[0.8888888888888888,\"#fdca26\"],[1.0,\"#f0f921\"]],\"type\":\"heatmap\"}],\"heatmapgl\":[{\"colorbar\":{\"outlinewidth\":0,\"ticks\":\"\"},\"colorscale\":[[0.0,\"#0d0887\"],[0.1111111111111111,\"#46039f\"],[0.2222222222222222,\"#7201a8\"],[0.3333333333333333,\"#9c179e\"],[0.4444444444444444,\"#bd3786\"],[0.5555555555555556,\"#d8576b\"],[0.6666666666666666,\"#ed7953\"],[0.7777777777777778,\"#fb9f3a\"],[0.8888888888888888,\"#fdca26\"],[1.0,\"#f0f921\"]],\"type\":\"heatmapgl\"}],\"histogram\":[{\"marker\":{\"pattern\":{\"fillmode\":\"overlay\",\"size\":10,\"solidity\":0.2}},\"type\":\"histogram\"}],\"histogram2d\":[{\"colorbar\":{\"outlinewidth\":0,\"ticks\":\"\"},\"colorscale\":[[0.0,\"#0d0887\"],[0.1111111111111111,\"#46039f\"],[0.2222222222222222,\"#7201a8\"],[0.3333333333333333,\"#9c179e\"],[0.4444444444444444,\"#bd3786\"],[0.5555555555555556,\"#d8576b\"],[0.6666666666666666,\"#ed7953\"],[0.7777777777777778,\"#fb9f3a\"],[0.8888888888888888,\"#fdca26\"],[1.0,\"#f0f921\"]],\"type\":\"histogram2d\"}],\"histogram2dcontour\":[{\"colorbar\":{\"outlinewidth\":0,\"ticks\":\"\"},\"colorscale\":[[0.0,\"#0d0887\"],[0.1111111111111111,\"#46039f\"],[0.2222222222222222,\"#7201a8\"],[0.3333333333333333,\"#9c179e\"],[0.4444444444444444,\"#bd3786\"],[0.5555555555555556,\"#d8576b\"],[0.6666666666666666,\"#ed7953\"],[0.7777777777777778,\"#fb9f3a\"],[0.8888888888888888,\"#fdca26\"],[1.0,\"#f0f921\"]],\"type\":\"histogram2dcontour\"}],\"mesh3d\":[{\"colorbar\":{\"outlinewidth\":0,\"ticks\":\"\"},\"type\":\"mesh3d\"}],\"parcoords\":[{\"line\":{\"colorbar\":{\"outlinewidth\":0,\"ticks\":\"\"}},\"type\":\"parcoords\"}],\"pie\":[{\"automargin\":true,\"type\":\"pie\"}],\"scatter\":[{\"marker\":{\"colorbar\":{\"outlinewidth\":0,\"ticks\":\"\"}},\"type\":\"scatter\"}],\"scatter3d\":[{\"line\":{\"colorbar\":{\"outlinewidth\":0,\"ticks\":\"\"}},\"marker\":{\"colorbar\":{\"outlinewidth\":0,\"ticks\":\"\"}},\"type\":\"scatter3d\"}],\"scattercarpet\":[{\"marker\":{\"colorbar\":{\"outlinewidth\":0,\"ticks\":\"\"}},\"type\":\"scattercarpet\"}],\"scattergeo\":[{\"marker\":{\"colorbar\":{\"outlinewidth\":0,\"ticks\":\"\"}},\"type\":\"scattergeo\"}],\"scattergl\":[{\"marker\":{\"colorbar\":{\"outlinewidth\":0,\"ticks\":\"\"}},\"type\":\"scattergl\"}],\"scattermapbox\":[{\"marker\":{\"colorbar\":{\"outlinewidth\":0,\"ticks\":\"\"}},\"type\":\"scattermapbox\"}],\"scatterpolar\":[{\"marker\":{\"colorbar\":{\"outlinewidth\":0,\"ticks\":\"\"}},\"type\":\"scatterpolar\"}],\"scatterpolargl\":[{\"marker\":{\"colorbar\":{\"outlinewidth\":0,\"ticks\":\"\"}},\"type\":\"scatterpolargl\"}],\"scatterternary\":[{\"marker\":{\"colorbar\":{\"outlinewidth\":0,\"ticks\":\"\"}},\"type\":\"scatterternary\"}],\"surface\":[{\"colorbar\":{\"outlinewidth\":0,\"ticks\":\"\"},\"colorscale\":[[0.0,\"#0d0887\"],[0.1111111111111111,\"#46039f\"],[0.2222222222222222,\"#7201a8\"],[0.3333333333333333,\"#9c179e\"],[0.4444444444444444,\"#bd3786\"],[0.5555555555555556,\"#d8576b\"],[0.6666666666666666,\"#ed7953\"],[0.7777777777777778,\"#fb9f3a\"],[0.8888888888888888,\"#fdca26\"],[1.0,\"#f0f921\"]],\"type\":\"surface\"}],\"table\":[{\"cells\":{\"fill\":{\"color\":\"#EBF0F8\"},\"line\":{\"color\":\"white\"}},\"header\":{\"fill\":{\"color\":\"#C8D4E3\"},\"line\":{\"color\":\"white\"}},\"type\":\"table\"}]},\"layout\":{\"annotationdefaults\":{\"arrowcolor\":\"#2a3f5f\",\"arrowhead\":0,\"arrowwidth\":1},\"autotypenumbers\":\"strict\",\"coloraxis\":{\"colorbar\":{\"outlinewidth\":0,\"ticks\":\"\"}},\"colorscale\":{\"diverging\":[[0,\"#8e0152\"],[0.1,\"#c51b7d\"],[0.2,\"#de77ae\"],[0.3,\"#f1b6da\"],[0.4,\"#fde0ef\"],[0.5,\"#f7f7f7\"],[0.6,\"#e6f5d0\"],[0.7,\"#b8e186\"],[0.8,\"#7fbc41\"],[0.9,\"#4d9221\"],[1,\"#276419\"]],\"sequential\":[[0.0,\"#0d0887\"],[0.1111111111111111,\"#46039f\"],[0.2222222222222222,\"#7201a8\"],[0.3333333333333333,\"#9c179e\"],[0.4444444444444444,\"#bd3786\"],[0.5555555555555556,\"#d8576b\"],[0.6666666666666666,\"#ed7953\"],[0.7777777777777778,\"#fb9f3a\"],[0.8888888888888888,\"#fdca26\"],[1.0,\"#f0f921\"]],\"sequentialminus\":[[0.0,\"#0d0887\"],[0.1111111111111111,\"#46039f\"],[0.2222222222222222,\"#7201a8\"],[0.3333333333333333,\"#9c179e\"],[0.4444444444444444,\"#bd3786\"],[0.5555555555555556,\"#d8576b\"],[0.6666666666666666,\"#ed7953\"],[0.7777777777777778,\"#fb9f3a\"],[0.8888888888888888,\"#fdca26\"],[1.0,\"#f0f921\"]]},\"colorway\":[\"#636efa\",\"#EF553B\",\"#00cc96\",\"#ab63fa\",\"#FFA15A\",\"#19d3f3\",\"#FF6692\",\"#B6E880\",\"#FF97FF\",\"#FECB52\"],\"font\":{\"color\":\"#2a3f5f\"},\"geo\":{\"bgcolor\":\"white\",\"lakecolor\":\"white\",\"landcolor\":\"#E5ECF6\",\"showlakes\":true,\"showland\":true,\"subunitcolor\":\"white\"},\"hoverlabel\":{\"align\":\"left\"},\"hovermode\":\"closest\",\"mapbox\":{\"style\":\"light\"},\"paper_bgcolor\":\"white\",\"plot_bgcolor\":\"#E5ECF6\",\"polar\":{\"angularaxis\":{\"gridcolor\":\"white\",\"linecolor\":\"white\",\"ticks\":\"\"},\"bgcolor\":\"#E5ECF6\",\"radialaxis\":{\"gridcolor\":\"white\",\"linecolor\":\"white\",\"ticks\":\"\"}},\"scene\":{\"xaxis\":{\"backgroundcolor\":\"#E5ECF6\",\"gridcolor\":\"white\",\"gridwidth\":2,\"linecolor\":\"white\",\"showbackground\":true,\"ticks\":\"\",\"zerolinecolor\":\"white\"},\"yaxis\":{\"backgroundcolor\":\"#E5ECF6\",\"gridcolor\":\"white\",\"gridwidth\":2,\"linecolor\":\"white\",\"showbackground\":true,\"ticks\":\"\",\"zerolinecolor\":\"white\"},\"zaxis\":{\"backgroundcolor\":\"#E5ECF6\",\"gridcolor\":\"white\",\"gridwidth\":2,\"linecolor\":\"white\",\"showbackground\":true,\"ticks\":\"\",\"zerolinecolor\":\"white\"}},\"shapedefaults\":{\"line\":{\"color\":\"#2a3f5f\"}},\"ternary\":{\"aaxis\":{\"gridcolor\":\"white\",\"linecolor\":\"white\",\"ticks\":\"\"},\"baxis\":{\"gridcolor\":\"white\",\"linecolor\":\"white\",\"ticks\":\"\"},\"bgcolor\":\"#E5ECF6\",\"caxis\":{\"gridcolor\":\"white\",\"linecolor\":\"white\",\"ticks\":\"\"}},\"title\":{\"x\":0.05},\"xaxis\":{\"automargin\":true,\"gridcolor\":\"white\",\"linecolor\":\"white\",\"ticks\":\"\",\"title\":{\"standoff\":15},\"zerolinecolor\":\"white\",\"zerolinewidth\":2},\"yaxis\":{\"automargin\":true,\"gridcolor\":\"white\",\"linecolor\":\"white\",\"ticks\":\"\",\"title\":{\"standoff\":15},\"zerolinecolor\":\"white\",\"zerolinewidth\":2}}},\"xaxis\":{\"anchor\":\"y\",\"domain\":[0.0,0.18400000000000002],\"title\":{\"text\":\"PM2_5\"}},\"yaxis\":{\"anchor\":\"x\",\"domain\":[0.0,1.0],\"title\":{\"text\":\"asthma_hosp\"}},\"xaxis2\":{\"anchor\":\"y2\",\"domain\":[0.20400000000000001,0.388],\"matches\":\"x\",\"title\":{\"text\":\"PM2_5\"}},\"yaxis2\":{\"anchor\":\"x2\",\"domain\":[0.0,1.0],\"matches\":\"y\",\"showticklabels\":false},\"xaxis3\":{\"anchor\":\"y3\",\"domain\":[0.40800000000000003,0.5920000000000001],\"matches\":\"x\",\"title\":{\"text\":\"PM2_5\"}},\"yaxis3\":{\"anchor\":\"x3\",\"domain\":[0.0,1.0],\"matches\":\"y\",\"showticklabels\":false},\"xaxis4\":{\"anchor\":\"y4\",\"domain\":[0.6120000000000001,0.7960000000000002],\"matches\":\"x\",\"title\":{\"text\":\"PM2_5\"}},\"yaxis4\":{\"anchor\":\"x4\",\"domain\":[0.0,1.0],\"matches\":\"y\",\"showticklabels\":false},\"xaxis5\":{\"anchor\":\"y5\",\"domain\":[0.8160000000000001,1.0],\"matches\":\"x\",\"title\":{\"text\":\"PM2_5\"}},\"yaxis5\":{\"anchor\":\"x5\",\"domain\":[0.0,1.0],\"matches\":\"y\",\"showticklabels\":false},\"annotations\":[{\"font\":{},\"showarrow\":false,\"text\":\"Boroughs=Bronx\",\"x\":0.09200000000000001,\"xanchor\":\"center\",\"xref\":\"paper\",\"y\":1.0,\"yanchor\":\"bottom\",\"yref\":\"paper\"},{\"font\":{},\"showarrow\":false,\"text\":\"Boroughs=Brooklyn\",\"x\":0.29600000000000004,\"xanchor\":\"center\",\"xref\":\"paper\",\"y\":1.0,\"yanchor\":\"bottom\",\"yref\":\"paper\"},{\"font\":{},\"showarrow\":false,\"text\":\"Boroughs=Manhattan\",\"x\":0.5,\"xanchor\":\"center\",\"xref\":\"paper\",\"y\":1.0,\"yanchor\":\"bottom\",\"yref\":\"paper\"},{\"font\":{},\"showarrow\":false,\"text\":\"Boroughs=Queens\",\"x\":0.7040000000000002,\"xanchor\":\"center\",\"xref\":\"paper\",\"y\":1.0,\"yanchor\":\"bottom\",\"yref\":\"paper\"},{\"font\":{},\"showarrow\":false,\"text\":\"Boroughs=Staten Island\",\"x\":0.908,\"xanchor\":\"center\",\"xref\":\"paper\",\"y\":1.0,\"yanchor\":\"bottom\",\"yref\":\"paper\"}],\"coloraxis\":{\"colorbar\":{\"title\":{\"text\":\"year\"}},\"colorscale\":[[0.0,\"#0d0887\"],[0.1111111111111111,\"#46039f\"],[0.2222222222222222,\"#7201a8\"],[0.3333333333333333,\"#9c179e\"],[0.4444444444444444,\"#bd3786\"],[0.5555555555555556,\"#d8576b\"],[0.6666666666666666,\"#ed7953\"],[0.7777777777777778,\"#fb9f3a\"],[0.8888888888888888,\"#fdca26\"],[1.0,\"#f0f921\"]]},\"legend\":{\"tracegroupgap\":0},\"margin\":{\"t\":60}},                        {\"responsive\": true}                    ).then(function(){\n",
       "                            \n",
       "var gd = document.getElementById('3e5523ed-4be2-43f4-a23f-85350c6e5227');\n",
       "var x = new MutationObserver(function (mutations, observer) {{\n",
       "        var display = window.getComputedStyle(gd).display;\n",
       "        if (!display || display === 'none') {{\n",
       "            console.log([gd, 'removed!']);\n",
       "            Plotly.purge(gd);\n",
       "            observer.disconnect();\n",
       "        }}\n",
       "}});\n",
       "\n",
       "// Listen for the removal of the full notebook cells\n",
       "var notebookContainer = gd.closest('#notebook-container');\n",
       "if (notebookContainer) {{\n",
       "    x.observe(notebookContainer, {childList: true});\n",
       "}}\n",
       "\n",
       "// Listen for the clearing of the current output cell\n",
       "var outputEl = gd.closest('.output');\n",
       "if (outputEl) {{\n",
       "    x.observe(outputEl, {childList: true});\n",
       "}}\n",
       "\n",
       "                        })                };                });            </script>        </div>"
      ]
     },
     "metadata": {},
     "output_type": "display_data"
    }
   ],
   "source": [
    "df_non_0=df[df.asthma_hosp>50]\n",
    "fig = px.scatter(df_non_0, x=\"PM2_5\", y=\"asthma_hosp\", color=\"year\",trendline=\"ols\", facet_col=\"Boroughs\")\n",
    "fig.show()"
   ]
  },
  {
   "cell_type": "code",
   "execution_count": 136,
   "id": "fe537b12",
   "metadata": {},
   "outputs": [
    {
     "data": {
      "application/vnd.plotly.v1+json": {
       "config": {
        "plotlyServerURL": "https://plotly.com"
       },
       "data": [
        {
         "hovertemplate": "Boroughs=Bronx<br>O3=%{x}<br>asthma_hosp=%{y}<br>year=%{marker.color}<extra></extra>",
         "legendgroup": "",
         "marker": {
          "color": [
           2009,
           2009,
           2009,
           2009,
           2009,
           2009,
           2009,
           2010,
           2010,
           2010,
           2010,
           2010,
           2010,
           2010,
           2011,
           2011,
           2011,
           2011,
           2011,
           2011,
           2011,
           2012,
           2012,
           2012,
           2012,
           2012,
           2012,
           2012,
           2013,
           2013,
           2013,
           2013,
           2013,
           2013,
           2013,
           2014,
           2014,
           2014,
           2014,
           2014,
           2014,
           2014,
           2015,
           2015,
           2015,
           2015,
           2015,
           2015,
           2015,
           2016,
           2016,
           2016,
           2016,
           2016,
           2016,
           2016
          ],
          "coloraxis": "coloraxis",
          "symbol": "circle"
         },
         "mode": "markers",
         "name": "",
         "orientation": "v",
         "showlegend": false,
         "type": "scatter",
         "x": [
          23.67,
          26.82,
          24.47,
          26.72,
          23.08,
          22.64,
          25.23,
          31.91,
          33.96,
          32.53,
          34.31,
          31.63,
          31.25,
          33.34,
          31.24,
          33.44,
          32.08,
          34.24,
          31.46,
          31.12,
          33.42,
          33.72,
          35.09,
          34.08,
          35.44,
          33.42,
          33.23,
          34.98,
          30.37,
          31.68,
          30.79,
          32.06,
          30.15,
          29.92,
          31.59,
          30.45,
          31.49,
          30.7,
          31.93,
          30.07,
          29.91,
          31.41,
          28.72,
          29.93,
          29.53,
          31.41,
          29.65,
          29.93,
          31.66,
          32.46,
          33.21,
          32.78,
          33.63,
          32.31,
          32.34,
          33.57
         ],
         "xaxis": "x",
         "y": [
          61,
          282,
          693,
          588,
          631,
          657,
          504,
          74,
          285,
          563,
          491,
          552,
          505,
          435,
          65,
          303,
          528,
          552,
          529,
          533,
          457,
          67,
          320,
          559,
          609,
          524,
          571,
          501,
          72,
          319,
          589,
          515,
          559,
          627,
          453,
          71,
          324,
          648,
          521,
          567,
          624,
          478,
          60,
          268,
          548,
          523,
          463,
          574,
          431,
          53,
          265,
          545,
          441,
          427,
          565,
          361
         ],
         "yaxis": "y"
        },
        {
         "hovertemplate": "<b>OLS trendline</b><br>asthma_hosp = -5.66449 * O3 + 610.688<br>R<sup>2</sup>=0.008249<br><br>Boroughs=Bronx<br>O3=%{x}<br>asthma_hosp=%{y} <b>(trend)</b><extra></extra>",
         "legendgroup": "",
         "marker": {
          "symbol": "circle"
         },
         "mode": "lines",
         "name": "",
         "showlegend": false,
         "type": "scatter",
         "x": [
          22.64,
          23.08,
          23.67,
          24.47,
          25.23,
          26.72,
          26.82,
          28.72,
          29.53,
          29.65,
          29.91,
          29.92,
          29.93,
          29.93,
          30.07,
          30.15,
          30.37,
          30.45,
          30.7,
          30.79,
          31.12,
          31.24,
          31.25,
          31.41,
          31.41,
          31.46,
          31.49,
          31.59,
          31.63,
          31.66,
          31.68,
          31.91,
          31.93,
          32.06,
          32.08,
          32.31,
          32.34,
          32.46,
          32.53,
          32.78,
          33.21,
          33.23,
          33.34,
          33.42,
          33.42,
          33.44,
          33.57,
          33.63,
          33.72,
          33.96,
          34.08,
          34.24,
          34.31,
          34.98,
          35.09,
          35.44
         ],
         "xaxis": "x",
         "y": [
          482.44351830534663,
          479.9511431845579,
          476.6090947271366,
          472.07750359842976,
          467.77249202615826,
          459.3324035489418,
          458.7659546578534,
          448.00342572717466,
          443.41518970935897,
          442.73545104005296,
          441.2626839232232,
          441.2060390341144,
          441.14939414500554,
          441.14939414500554,
          440.35636569748186,
          439.9032065846112,
          438.65701902421677,
          438.2038599113461,
          436.7877376836252,
          436.2779336816457,
          434.4086523410541,
          433.7289136717481,
          433.67226878263926,
          432.7659505568979,
          432.7659505568979,
          432.4827261113537,
          432.3127914440272,
          431.74634255293887,
          431.5197629965035,
          431.349828329177,
          431.2365385509594,
          429.9337061014561,
          429.8204163232384,
          429.0840327648236,
          428.97074298660596,
          427.66791053710267,
          427.49797586977616,
          426.8182372004702,
          426.42172297670834,
          425.00560074898743,
          422.5698705173075,
          422.4565807390899,
          421.83348695889265,
          421.38032784602194,
          421.38032784602194,
          421.26703806780426,
          420.5306545093894,
          420.1907851747364,
          419.6809811727569,
          418.32150383414483,
          417.64176516483883,
          416.7354469390974,
          416.33893271533555,
          412.5437251450436,
          411.9206313648464,
          409.9380602460372
         ],
         "yaxis": "y"
        },
        {
         "hovertemplate": "Boroughs=Brooklyn<br>O3=%{x}<br>asthma_hosp=%{y}<br>year=%{marker.color}<extra></extra>",
         "legendgroup": "",
         "marker": {
          "color": [
           2009,
           2009,
           2009,
           2009,
           2009,
           2009,
           2009,
           2009,
           2009,
           2009,
           2009,
           2010,
           2010,
           2010,
           2010,
           2010,
           2010,
           2010,
           2010,
           2010,
           2010,
           2010,
           2011,
           2011,
           2011,
           2011,
           2011,
           2011,
           2011,
           2011,
           2011,
           2011,
           2011,
           2012,
           2012,
           2012,
           2012,
           2012,
           2012,
           2012,
           2012,
           2012,
           2012,
           2012,
           2013,
           2013,
           2013,
           2013,
           2013,
           2013,
           2013,
           2013,
           2013,
           2013,
           2013,
           2014,
           2014,
           2014,
           2014,
           2014,
           2014,
           2014,
           2014,
           2014,
           2014,
           2014,
           2015,
           2015,
           2015,
           2015,
           2015,
           2015,
           2015,
           2015,
           2015,
           2015,
           2015,
           2016,
           2016,
           2016,
           2016,
           2016,
           2016,
           2016,
           2016,
           2016,
           2016,
           2016
          ],
          "coloraxis": "coloraxis",
          "symbol": "circle"
         },
         "mode": "markers",
         "name": "",
         "orientation": "v",
         "showlegend": false,
         "type": "scatter",
         "x": [
          25.56,
          23.08,
          24.33,
          26.28,
          24.63,
          25.54,
          25.47,
          28.97,
          26.86,
          29.64,
          24.76,
          32.54,
          30.94,
          32.27,
          33.97,
          32.71,
          33.38,
          33.33,
          36.12,
          34.5,
          36.52,
          32.38,
          31.61,
          29.54,
          31.43,
          33.5,
          31.5,
          32.7,
          32.67,
          35.91,
          33.85,
          36.56,
          31.54,
          32.73,
          30.66,
          32.12,
          33.97,
          32.29,
          33.35,
          33.38,
          36.6,
          34.28,
          37.08,
          32.28,
          29.77,
          28.04,
          29.66,
          31.51,
          29.67,
          30.61,
          30.73,
          33.7,
          31.44,
          33.88,
          29.7,
          30.47,
          29.32,
          30.33,
          31.97,
          30.6,
          30.68,
          30.94,
          33.25,
          31.32,
          32.61,
          30.41,
          30.97,
          29.76,
          31.18,
          32.58,
          31.29,
          32.14,
          32.2,
          34.7,
          32.83,
          35.01,
          31.1,
          32.96,
          31.98,
          32.98,
          34.26,
          33.28,
          33.54,
          33.66,
          35.79,
          34.25,
          35.62,
          32.99
         ],
         "xaxis": "x2",
         "y": [
          88,
          176,
          645,
          376,
          62,
          97,
          446,
          195,
          34,
          101,
          503,
          48,
          135,
          559,
          348,
          56,
          64,
          361,
          160,
          20,
          90,
          402,
          43,
          176,
          582,
          313,
          64,
          103,
          361,
          176,
          42,
          67,
          387,
          34,
          171,
          591,
          329,
          57,
          90,
          387,
          191,
          44,
          85,
          387,
          26,
          130,
          581,
          346,
          63,
          70,
          409,
          191,
          30,
          74,
          292,
          46,
          121,
          607,
          366,
          54,
          73,
          460,
          159,
          17,
          82,
          292,
          27,
          114,
          506,
          349,
          37,
          75,
          413,
          179,
          27,
          58,
          219,
          26,
          112,
          473,
          361,
          33,
          72,
          364,
          172,
          30,
          84,
          240
         ],
         "yaxis": "y2"
        },
        {
         "hovertemplate": "<b>OLS trendline</b><br>asthma_hosp = -10.9911 * O3 + 554.094<br>R<sup>2</sup>=0.033184<br><br>Boroughs=Brooklyn<br>O3=%{x}<br>asthma_hosp=%{y} <b>(trend)</b><extra></extra>",
         "legendgroup": "",
         "marker": {
          "symbol": "circle"
         },
         "mode": "lines",
         "name": "",
         "showlegend": false,
         "type": "scatter",
         "x": [
          23.08,
          24.33,
          24.63,
          24.76,
          25.47,
          25.54,
          25.56,
          26.28,
          26.86,
          28.04,
          28.97,
          29.32,
          29.54,
          29.64,
          29.66,
          29.67,
          29.7,
          29.76,
          29.77,
          30.33,
          30.41,
          30.47,
          30.6,
          30.61,
          30.66,
          30.68,
          30.73,
          30.94,
          30.94,
          30.97,
          31.1,
          31.18,
          31.29,
          31.32,
          31.43,
          31.44,
          31.5,
          31.51,
          31.54,
          31.61,
          31.97,
          31.98,
          32.12,
          32.14,
          32.2,
          32.27,
          32.28,
          32.29,
          32.38,
          32.54,
          32.58,
          32.61,
          32.67,
          32.7,
          32.71,
          32.73,
          32.83,
          32.96,
          32.98,
          32.99,
          33.25,
          33.28,
          33.33,
          33.35,
          33.38,
          33.38,
          33.5,
          33.54,
          33.66,
          33.7,
          33.85,
          33.88,
          33.97,
          33.97,
          34.25,
          34.26,
          34.28,
          34.5,
          34.7,
          35.01,
          35.62,
          35.79,
          35.91,
          36.12,
          36.52,
          36.56,
          36.6,
          37.08
         ],
         "xaxis": "x2",
         "y": [
          300.41959363787964,
          286.6807183523581,
          283.3833882838329,
          281.9545452541386,
          274.15086409196243,
          273.3814870759732,
          273.16166507140485,
          265.2480729069444,
          258.87323477446245,
          245.90373650493012,
          235.68201329250206,
          231.83512821255601,
          229.41708616230426,
          228.31797613946253,
          228.09815413489417,
          227.98824313260997,
          227.65851012575746,
          226.99904411205245,
          226.8891331097683,
          220.73411698185464,
          219.8548289635812,
          219.1953629498762,
          217.76651992018196,
          217.6566089178978,
          217.10705390647695,
          216.8872319019086,
          216.33767689048773,
          214.02954584252006,
          214.02954584252006,
          213.69981283566761,
          212.27096980597332,
          211.39168178769995,
          210.18266076257407,
          209.85292775572157,
          208.64390673059563,
          208.53399572831148,
          207.87452971460647,
          207.76461871232226,
          207.43488570546975,
          206.66550868948053,
          202.70871260725033,
          202.59880160496618,
          201.0600475729878,
          200.84022556841938,
          200.18075955471437,
          199.41138253872515,
          199.301471536441,
          199.19156053415685,
          198.20236151359927,
          196.44378547705253,
          196.00414146791587,
          195.6744084610633,
          195.01494244735824,
          194.68520944050573,
          194.57529843822158,
          194.35547643365328,
          193.25636641081155,
          191.82752338111726,
          191.60770137654896,
          191.49779037426475,
          188.64010431487628,
          188.31037130802378,
          187.7608162966029,
          187.54099429203455,
          187.211261285182,
          187.211261285182,
          185.89232925777196,
          185.4526852486353,
          184.13375322122522,
          183.6941092120885,
          182.0454441778259,
          181.7157111709734,
          180.72651215041589,
          180.72651215041589,
          177.64900408645906,
          177.5390930841749,
          177.3192710796065,
          174.90122902935474,
          172.70300898367122,
          169.29576791286195,
          162.59119677352743,
          160.72270973469648,
          159.40377770728645,
          157.09564665931885,
          152.69920656795188,
          152.25956255881516,
          151.8199185496785,
          146.54419044003828
         ],
         "yaxis": "y2"
        },
        {
         "hovertemplate": "Boroughs=Manhattan<br>O3=%{x}<br>asthma_hosp=%{y}<br>year=%{marker.color}<extra></extra>",
         "legendgroup": "",
         "marker": {
          "color": [
           2009,
           2009,
           2009,
           2009,
           2009,
           2009,
           2009,
           2009,
           2009,
           2009,
           2010,
           2010,
           2010,
           2010,
           2010,
           2010,
           2010,
           2010,
           2010,
           2010,
           2011,
           2011,
           2011,
           2011,
           2011,
           2011,
           2011,
           2011,
           2011,
           2011,
           2012,
           2012,
           2012,
           2012,
           2012,
           2012,
           2012,
           2012,
           2012,
           2012,
           2013,
           2013,
           2013,
           2013,
           2013,
           2013,
           2013,
           2013,
           2013,
           2013,
           2014,
           2014,
           2014,
           2014,
           2014,
           2014,
           2014,
           2014,
           2014,
           2014,
           2015,
           2015,
           2015,
           2015,
           2015,
           2015,
           2015,
           2015,
           2015,
           2015,
           2016,
           2016,
           2016,
           2016,
           2016,
           2016,
           2016,
           2016,
           2016,
           2016
          ],
          "coloraxis": "coloraxis",
          "symbol": "circle"
         },
         "mode": "markers",
         "name": "",
         "orientation": "v",
         "showlegend": false,
         "type": "scatter",
         "x": [
          21.82,
          21.52,
          22.84,
          21.31,
          20.87,
          18.19,
          16.13,
          20.56,
          21.16,
          18.88,
          30.54,
          29.75,
          30.52,
          28.68,
          28.21,
          25.62,
          23.9,
          27.87,
          28.38,
          26.89,
          30.13,
          29.4,
          30.25,
          27.89,
          27.52,
          24.2,
          22.59,
          26.21,
          26.94,
          25.07,
          32.66,
          31.71,
          32.25,
          30.17,
          29.24,
          26,
          24.05,
          27.85,
          28.41,
          26.44,
          29.34,
          28.4,
          28.87,
          26.93,
          26.32,
          23.53,
          21.93,
          25.22,
          25.73,
          24.26,
          29.52,
          28.58,
          28.92,
          27.4,
          26.66,
          24.61,
          22.89,
          26.66,
          26.93,
          25.98,
          28.95,
          28.98,
          29.58,
          28.12,
          28.07,
          26.11,
          25.06,
          27.35,
          27.73,
          26.98,
          31.92,
          31.35,
          31.62,
          30.54,
          30.17,
          28.76,
          27.51,
          30.03,
          30.14,
          29.73
         ],
         "xaxis": "x3",
         "y": [
          168,
          298,
          254,
          87,
          49,
          27,
          17,
          8,
          80,
          10,
          176,
          246,
          240,
          77,
          48,
          32,
          20,
          0,
          59,
          8,
          164,
          259,
          212,
          75,
          51,
          25,
          9,
          0,
          67,
          9,
          160,
          299,
          203,
          57,
          53,
          30,
          13,
          7,
          77,
          0,
          161,
          276,
          222,
          56,
          41,
          21,
          16,
          6,
          67,
          4,
          217,
          233,
          239,
          64,
          40,
          32,
          14,
          4,
          57,
          2,
          175,
          234,
          197,
          51,
          42,
          21,
          5,
          1,
          67,
          4,
          210,
          284,
          151,
          43,
          39,
          11,
          8,
          4,
          73,
          7
         ],
         "yaxis": "y3"
        },
        {
         "hovertemplate": "<b>OLS trendline</b><br>asthma_hosp = 11.1228 * O3 + -210.512<br>R<sup>2</sup>=0.170885<br><br>Boroughs=Manhattan<br>O3=%{x}<br>asthma_hosp=%{y} <b>(trend)</b><extra></extra>",
         "legendgroup": "",
         "marker": {
          "symbol": "circle"
         },
         "mode": "lines",
         "name": "",
         "showlegend": false,
         "type": "scatter",
         "x": [
          16.13,
          18.19,
          18.88,
          20.56,
          20.87,
          21.16,
          21.31,
          21.52,
          21.82,
          21.93,
          22.59,
          22.84,
          22.89,
          23.53,
          23.9,
          24.05,
          24.2,
          24.26,
          24.61,
          25.06,
          25.07,
          25.22,
          25.62,
          25.73,
          25.98,
          26,
          26.11,
          26.21,
          26.32,
          26.44,
          26.66,
          26.66,
          26.89,
          26.93,
          26.93,
          26.94,
          26.98,
          27.35,
          27.4,
          27.51,
          27.52,
          27.73,
          27.85,
          27.87,
          27.89,
          28.07,
          28.12,
          28.21,
          28.38,
          28.4,
          28.41,
          28.58,
          28.68,
          28.76,
          28.87,
          28.92,
          28.95,
          28.98,
          29.24,
          29.34,
          29.4,
          29.52,
          29.58,
          29.73,
          29.75,
          30.03,
          30.13,
          30.14,
          30.17,
          30.17,
          30.25,
          30.52,
          30.54,
          30.54,
          31.35,
          31.62,
          31.71,
          31.92,
          32.25,
          32.66
         ],
         "xaxis": "x3",
         "y": [
          -31.101672113485137,
          -8.188764290890475,
          -0.5140524474000756,
          18.172202475880994,
          21.620261420057886,
          24.845864948481392,
          26.51428056663147,
          28.850062432041625,
          32.18689366834181,
          33.4103984549852,
          40.75142717484562,
          43.53211987176246,
          44.08825841114583,
          51.20683171525292,
          55.3222569066898,
          56.99067252483991,
          58.65908814298996,
          59.326454390250035,
          63.21942416593356,
          68.22467102038382,
          68.33589872826053,
          70.00431434641064,
          74.45342266147759,
          75.67692744812098,
          78.45762014503777,
          78.68007556079112,
          79.90358034743451,
          81.01585742620125,
          82.23936221284464,
          83.57409470736474,
          86.02110428065157,
          86.02110428065157,
          88.57934156181506,
          89.02425239332172,
          89.02425239332172,
          89.13548010119843,
          89.58039093270509,
          93.69581612414203,
          94.25195466352534,
          95.47545945016878,
          95.58668715804544,
          97.92246902345556,
          99.25720151797566,
          99.47965693372902,
          99.70211234948232,
          101.70421109126244,
          102.2603496306458,
          103.26139900153589,
          105.1522700354393,
          105.37472545119266,
          105.48595315906931,
          107.37682419297272,
          108.48910127173951,
          109.3789229347529,
          110.60242772139628,
          111.15856626077965,
          111.49224938440966,
          111.82593250803967,
          114.71785291283317,
          115.8301299915999,
          116.49749623885992,
          117.83222873338002,
          118.49959498064004,
          120.16801059879015,
          120.3904660145435,
          123.50484183509036,
          124.6171189138571,
          124.72834662173375,
          125.06202974536382,
          125.06202974536382,
          125.95185140837714,
          128.95499952104734,
          129.17745493680064,
          129.17745493680064,
          138.1868992748112,
          141.1900473874814,
          142.19109675837143,
          144.52687862378156,
          148.19739298371178,
          152.75772900665532
         ],
         "yaxis": "y3"
        },
        {
         "hovertemplate": "Boroughs=Queens<br>O3=%{x}<br>asthma_hosp=%{y}<br>year=%{marker.color}<extra></extra>",
         "legendgroup": "",
         "marker": {
          "color": [
           2009,
           2009,
           2009,
           2009,
           2009,
           2009,
           2009,
           2009,
           2009,
           2009,
           2010,
           2010,
           2010,
           2010,
           2010,
           2010,
           2010,
           2010,
           2010,
           2010,
           2011,
           2011,
           2011,
           2011,
           2011,
           2011,
           2011,
           2011,
           2011,
           2011,
           2012,
           2012,
           2012,
           2012,
           2012,
           2012,
           2012,
           2012,
           2012,
           2012,
           2013,
           2013,
           2013,
           2013,
           2013,
           2013,
           2013,
           2013,
           2013,
           2013,
           2014,
           2014,
           2014,
           2014,
           2014,
           2014,
           2014,
           2014,
           2014,
           2014,
           2015,
           2015,
           2015,
           2015,
           2015,
           2015,
           2015,
           2015,
           2015,
           2015,
           2016,
           2016,
           2016,
           2016,
           2016,
           2016,
           2016,
           2016,
           2016,
           2016
          ],
          "coloraxis": "coloraxis",
          "symbol": "circle"
         },
         "mode": "markers",
         "name": "",
         "orientation": "v",
         "showlegend": false,
         "type": "scatter",
         "x": [
          26.08,
          25.7,
          26.29,
          26.29,
          25.58,
          25.43,
          26.48,
          26.14,
          27.59,
          33.59,
          33.01,
          33.17,
          33.99,
          33.51,
          33.32,
          33.23,
          34.04,
          33.52,
          34.29,
          38.98,
          32.66,
          33,
          33.92,
          33.03,
          32.97,
          32.93,
          33.63,
          32.95,
          33.59,
          39.03,
          33.91,
          33.58,
          34.46,
          33.84,
          33.3,
          33.38,
          34.15,
          33.78,
          34.81,
          40.3,
          30.62,
          30.68,
          31.43,
          30.76,
          30.77,
          30.67,
          31.68,
          31.12,
          31.79,
          36.84,
          30.71,
          30.87,
          32.01,
          32.26,
          31.33,
          31.8,
          32.51,
          32.63,
          33.6,
          36.25,
          31.43,
          31.57,
          31.88,
          31.27,
          31.81,
          31.53,
          32.59,
          32.04,
          32.51,
          37.44,
          33.15,
          33.12,
          33.44,
          32.99,
          33.48,
          33.16,
          34.34,
          33.86,
          34.3,
          38.18
         ],
         "xaxis": "x4",
         "y": [
          79,
          225,
          84,
          34,
          157,
          50,
          269,
          431,
          224,
          185,
          86,
          197,
          89,
          23,
          160,
          46,
          226,
          343,
          173,
          177,
          80,
          187,
          83,
          7,
          149,
          48,
          170,
          267,
          157,
          132,
          70,
          234,
          68,
          31,
          146,
          37,
          218,
          257,
          176,
          86,
          66,
          202,
          82,
          12,
          87,
          49,
          181,
          288,
          158,
          86,
          67,
          249,
          75,
          21,
          109,
          34,
          209,
          276,
          162,
          100,
          47,
          177,
          70,
          19,
          95,
          57,
          183,
          261,
          135,
          86,
          55,
          199,
          79,
          7,
          97,
          51,
          146,
          239,
          115,
          73
         ],
         "yaxis": "y4"
        },
        {
         "hovertemplate": "<b>OLS trendline</b><br>asthma_hosp = -3.19252 * O3 + 235.734<br>R<sup>2</sup>=0.011717<br><br>Boroughs=Queens<br>O3=%{x}<br>asthma_hosp=%{y} <b>(trend)</b><extra></extra>",
         "legendgroup": "",
         "marker": {
          "symbol": "circle"
         },
         "mode": "lines",
         "name": "",
         "showlegend": false,
         "type": "scatter",
         "x": [
          25.43,
          25.58,
          25.7,
          26.08,
          26.14,
          26.29,
          26.29,
          26.48,
          27.59,
          30.62,
          30.67,
          30.68,
          30.71,
          30.76,
          30.77,
          30.87,
          31.12,
          31.27,
          31.33,
          31.43,
          31.43,
          31.53,
          31.57,
          31.68,
          31.79,
          31.8,
          31.81,
          31.88,
          32.01,
          32.04,
          32.26,
          32.51,
          32.51,
          32.59,
          32.63,
          32.66,
          32.93,
          32.95,
          32.97,
          32.99,
          33,
          33.01,
          33.03,
          33.12,
          33.15,
          33.16,
          33.17,
          33.23,
          33.3,
          33.32,
          33.38,
          33.44,
          33.48,
          33.51,
          33.52,
          33.58,
          33.59,
          33.59,
          33.6,
          33.63,
          33.78,
          33.84,
          33.86,
          33.91,
          33.92,
          33.99,
          34.04,
          34.15,
          34.29,
          34.3,
          34.34,
          34.46,
          34.81,
          36.25,
          36.84,
          37.44,
          38.18,
          38.98,
          39.03,
          40.3
         ],
         "xaxis": "x4",
         "y": [
          154.54859426289352,
          154.06971671634318,
          153.6866146791029,
          152.47345822784203,
          152.28190720922186,
          151.80302966267152,
          151.80302966267152,
          151.1964514370411,
          147.6527575925685,
          137.97943115225144,
          137.81980530340132,
          137.78788013363132,
          137.69210462432125,
          137.53247877547113,
          137.5005536057011,
          137.18130190800088,
          136.38317266375032,
          135.90429511719995,
          135.71274409857983,
          135.39349240087958,
          135.39349240087958,
          135.07424070317933,
          134.94654002409925,
          134.595363156629,
          134.24418628915873,
          134.2122611193887,
          134.1803359496187,
          133.95685976122854,
          133.54183255421822,
          133.44605704490817,
          132.74370330996766,
          131.94557406571707,
          131.94557406571707,
          131.69017270755688,
          131.56247202847678,
          131.46669651916673,
          130.60471693537608,
          130.54086659583604,
          130.477016256296,
          130.41316591675593,
          130.38124074698592,
          130.34931557721592,
          130.28546523767585,
          129.99813870974566,
          129.9023632004356,
          129.87043803066558,
          129.83851286089552,
          129.6469618422754,
          129.42348565388522,
          129.35963531434518,
          129.16808429572504,
          128.97653327710492,
          128.8488325980248,
          128.75305708871474,
          128.7211319189447,
          128.5295809003246,
          128.49765573055453,
          128.49765573055453,
          128.46573056078452,
          128.36995505147445,
          127.89107750492411,
          127.69952648630397,
          127.63567614676393,
          127.47605029791382,
          127.44412512814378,
          127.22064893975362,
          127.0610230909035,
          126.70984622343326,
          126.26289384665293,
          126.23096867688291,
          126.1032679978028,
          125.72016596056253,
          124.60278501861171,
          120.00556057172837,
          118.12197555529698,
          116.20646536909561,
          113.84400280611388,
          111.28998922451203,
          111.1303633756619,
          107.07586681486896
         ],
         "yaxis": "y4"
        },
        {
         "hovertemplate": "Boroughs=Staten Island<br>O3=%{x}<br>asthma_hosp=%{y}<br>year=%{marker.color}<extra></extra>",
         "legendgroup": "",
         "marker": {
          "color": [
           2009,
           2009,
           2009,
           2009,
           2010,
           2010,
           2010,
           2010,
           2011,
           2011,
           2011,
           2011,
           2012,
           2012,
           2012,
           2012,
           2013,
           2013,
           2013,
           2013,
           2014,
           2014,
           2014,
           2014,
           2015,
           2015,
           2015,
           2015,
           2016,
           2016,
           2016,
           2016
          ],
          "coloraxis": "coloraxis",
          "symbol": "circle"
         },
         "mode": "markers",
         "name": "",
         "orientation": "v",
         "showlegend": false,
         "type": "scatter",
         "x": [
          24.42,
          26.48,
          26.04,
          27.77,
          32.74,
          34.3,
          34.45,
          36.53,
          31.02,
          33.17,
          33.13,
          35.93,
          31.06,
          33.14,
          32.76,
          35.27,
          28.84,
          30.61,
          30.48,
          32.66,
          30.23,
          31.14,
          31.13,
          31.96,
          29.99,
          31.84,
          31.66,
          34.07,
          33.42,
          34.18,
          34.68,
          36.17
         ],
         "xaxis": "x5",
         "y": [
          80,
          78,
          35,
          47,
          56,
          85,
          12,
          43,
          65,
          63,
          18,
          36,
          79,
          65,
          14,
          38,
          64,
          77,
          12,
          39,
          67,
          80,
          11,
          40,
          68,
          59,
          12,
          38,
          83,
          72,
          12,
          36
         ],
         "yaxis": "y5"
        },
        {
         "hovertemplate": "<b>OLS trendline</b><br>asthma_hosp = -2.47592 * O3 + 128.518<br>R<sup>2</sup>=0.084238<br><br>Boroughs=Staten Island<br>O3=%{x}<br>asthma_hosp=%{y} <b>(trend)</b><extra></extra>",
         "legendgroup": "",
         "marker": {
          "symbol": "circle"
         },
         "mode": "lines",
         "name": "",
         "showlegend": false,
         "type": "scatter",
         "x": [
          24.42,
          26.04,
          26.48,
          27.77,
          28.84,
          29.99,
          30.23,
          30.48,
          30.61,
          31.02,
          31.06,
          31.13,
          31.14,
          31.66,
          31.84,
          31.96,
          32.66,
          32.74,
          32.76,
          33.13,
          33.14,
          33.17,
          33.42,
          34.07,
          34.18,
          34.3,
          34.45,
          34.68,
          35.27,
          35.93,
          36.17,
          36.53
         ],
         "xaxis": "x5",
         "y": [
          68.05624719957129,
          64.0452566861836,
          62.95585185538694,
          59.761914965096736,
          57.112680490204866,
          54.265372409713606,
          53.67115159291542,
          53.05217157541732,
          52.73030196631831,
          51.715174737621425,
          51.61613793482172,
          51.442823529922265,
          51.41806432922233,
          50.130585892826275,
          49.684920280227644,
          49.38780987182855,
          47.65466582283389,
          47.45659221723447,
          47.407073815834636,
          46.49098338993744,
          46.46622418923752,
          46.39194658713774,
          45.77296656963965,
          44.16361852414458,
          43.89126731644542,
          43.594156908046344,
          43.22276889754747,
          42.653307281449216,
          41.19251444015369,
          39.558407193958715,
          38.96418637716053,
          38.07285515196327
         ],
         "yaxis": "y5"
        }
       ],
       "layout": {
        "annotations": [
         {
          "font": {},
          "showarrow": false,
          "text": "Boroughs=Bronx",
          "x": 0.09200000000000001,
          "xanchor": "center",
          "xref": "paper",
          "y": 1,
          "yanchor": "bottom",
          "yref": "paper"
         },
         {
          "font": {},
          "showarrow": false,
          "text": "Boroughs=Brooklyn",
          "x": 0.29600000000000004,
          "xanchor": "center",
          "xref": "paper",
          "y": 1,
          "yanchor": "bottom",
          "yref": "paper"
         },
         {
          "font": {},
          "showarrow": false,
          "text": "Boroughs=Manhattan",
          "x": 0.5,
          "xanchor": "center",
          "xref": "paper",
          "y": 1,
          "yanchor": "bottom",
          "yref": "paper"
         },
         {
          "font": {},
          "showarrow": false,
          "text": "Boroughs=Queens",
          "x": 0.7040000000000002,
          "xanchor": "center",
          "xref": "paper",
          "y": 1,
          "yanchor": "bottom",
          "yref": "paper"
         },
         {
          "font": {},
          "showarrow": false,
          "text": "Boroughs=Staten Island",
          "x": 0.908,
          "xanchor": "center",
          "xref": "paper",
          "y": 1,
          "yanchor": "bottom",
          "yref": "paper"
         }
        ],
        "coloraxis": {
         "colorbar": {
          "title": {
           "text": "year"
          }
         },
         "colorscale": [
          [
           0,
           "#0d0887"
          ],
          [
           0.1111111111111111,
           "#46039f"
          ],
          [
           0.2222222222222222,
           "#7201a8"
          ],
          [
           0.3333333333333333,
           "#9c179e"
          ],
          [
           0.4444444444444444,
           "#bd3786"
          ],
          [
           0.5555555555555556,
           "#d8576b"
          ],
          [
           0.6666666666666666,
           "#ed7953"
          ],
          [
           0.7777777777777778,
           "#fb9f3a"
          ],
          [
           0.8888888888888888,
           "#fdca26"
          ],
          [
           1,
           "#f0f921"
          ]
         ]
        },
        "legend": {
         "tracegroupgap": 0
        },
        "margin": {
         "t": 60
        },
        "template": {
         "data": {
          "bar": [
           {
            "error_x": {
             "color": "#2a3f5f"
            },
            "error_y": {
             "color": "#2a3f5f"
            },
            "marker": {
             "line": {
              "color": "#E5ECF6",
              "width": 0.5
             },
             "pattern": {
              "fillmode": "overlay",
              "size": 10,
              "solidity": 0.2
             }
            },
            "type": "bar"
           }
          ],
          "barpolar": [
           {
            "marker": {
             "line": {
              "color": "#E5ECF6",
              "width": 0.5
             },
             "pattern": {
              "fillmode": "overlay",
              "size": 10,
              "solidity": 0.2
             }
            },
            "type": "barpolar"
           }
          ],
          "carpet": [
           {
            "aaxis": {
             "endlinecolor": "#2a3f5f",
             "gridcolor": "white",
             "linecolor": "white",
             "minorgridcolor": "white",
             "startlinecolor": "#2a3f5f"
            },
            "baxis": {
             "endlinecolor": "#2a3f5f",
             "gridcolor": "white",
             "linecolor": "white",
             "minorgridcolor": "white",
             "startlinecolor": "#2a3f5f"
            },
            "type": "carpet"
           }
          ],
          "choropleth": [
           {
            "colorbar": {
             "outlinewidth": 0,
             "ticks": ""
            },
            "type": "choropleth"
           }
          ],
          "contour": [
           {
            "colorbar": {
             "outlinewidth": 0,
             "ticks": ""
            },
            "colorscale": [
             [
              0,
              "#0d0887"
             ],
             [
              0.1111111111111111,
              "#46039f"
             ],
             [
              0.2222222222222222,
              "#7201a8"
             ],
             [
              0.3333333333333333,
              "#9c179e"
             ],
             [
              0.4444444444444444,
              "#bd3786"
             ],
             [
              0.5555555555555556,
              "#d8576b"
             ],
             [
              0.6666666666666666,
              "#ed7953"
             ],
             [
              0.7777777777777778,
              "#fb9f3a"
             ],
             [
              0.8888888888888888,
              "#fdca26"
             ],
             [
              1,
              "#f0f921"
             ]
            ],
            "type": "contour"
           }
          ],
          "contourcarpet": [
           {
            "colorbar": {
             "outlinewidth": 0,
             "ticks": ""
            },
            "type": "contourcarpet"
           }
          ],
          "heatmap": [
           {
            "colorbar": {
             "outlinewidth": 0,
             "ticks": ""
            },
            "colorscale": [
             [
              0,
              "#0d0887"
             ],
             [
              0.1111111111111111,
              "#46039f"
             ],
             [
              0.2222222222222222,
              "#7201a8"
             ],
             [
              0.3333333333333333,
              "#9c179e"
             ],
             [
              0.4444444444444444,
              "#bd3786"
             ],
             [
              0.5555555555555556,
              "#d8576b"
             ],
             [
              0.6666666666666666,
              "#ed7953"
             ],
             [
              0.7777777777777778,
              "#fb9f3a"
             ],
             [
              0.8888888888888888,
              "#fdca26"
             ],
             [
              1,
              "#f0f921"
             ]
            ],
            "type": "heatmap"
           }
          ],
          "heatmapgl": [
           {
            "colorbar": {
             "outlinewidth": 0,
             "ticks": ""
            },
            "colorscale": [
             [
              0,
              "#0d0887"
             ],
             [
              0.1111111111111111,
              "#46039f"
             ],
             [
              0.2222222222222222,
              "#7201a8"
             ],
             [
              0.3333333333333333,
              "#9c179e"
             ],
             [
              0.4444444444444444,
              "#bd3786"
             ],
             [
              0.5555555555555556,
              "#d8576b"
             ],
             [
              0.6666666666666666,
              "#ed7953"
             ],
             [
              0.7777777777777778,
              "#fb9f3a"
             ],
             [
              0.8888888888888888,
              "#fdca26"
             ],
             [
              1,
              "#f0f921"
             ]
            ],
            "type": "heatmapgl"
           }
          ],
          "histogram": [
           {
            "marker": {
             "pattern": {
              "fillmode": "overlay",
              "size": 10,
              "solidity": 0.2
             }
            },
            "type": "histogram"
           }
          ],
          "histogram2d": [
           {
            "colorbar": {
             "outlinewidth": 0,
             "ticks": ""
            },
            "colorscale": [
             [
              0,
              "#0d0887"
             ],
             [
              0.1111111111111111,
              "#46039f"
             ],
             [
              0.2222222222222222,
              "#7201a8"
             ],
             [
              0.3333333333333333,
              "#9c179e"
             ],
             [
              0.4444444444444444,
              "#bd3786"
             ],
             [
              0.5555555555555556,
              "#d8576b"
             ],
             [
              0.6666666666666666,
              "#ed7953"
             ],
             [
              0.7777777777777778,
              "#fb9f3a"
             ],
             [
              0.8888888888888888,
              "#fdca26"
             ],
             [
              1,
              "#f0f921"
             ]
            ],
            "type": "histogram2d"
           }
          ],
          "histogram2dcontour": [
           {
            "colorbar": {
             "outlinewidth": 0,
             "ticks": ""
            },
            "colorscale": [
             [
              0,
              "#0d0887"
             ],
             [
              0.1111111111111111,
              "#46039f"
             ],
             [
              0.2222222222222222,
              "#7201a8"
             ],
             [
              0.3333333333333333,
              "#9c179e"
             ],
             [
              0.4444444444444444,
              "#bd3786"
             ],
             [
              0.5555555555555556,
              "#d8576b"
             ],
             [
              0.6666666666666666,
              "#ed7953"
             ],
             [
              0.7777777777777778,
              "#fb9f3a"
             ],
             [
              0.8888888888888888,
              "#fdca26"
             ],
             [
              1,
              "#f0f921"
             ]
            ],
            "type": "histogram2dcontour"
           }
          ],
          "mesh3d": [
           {
            "colorbar": {
             "outlinewidth": 0,
             "ticks": ""
            },
            "type": "mesh3d"
           }
          ],
          "parcoords": [
           {
            "line": {
             "colorbar": {
              "outlinewidth": 0,
              "ticks": ""
             }
            },
            "type": "parcoords"
           }
          ],
          "pie": [
           {
            "automargin": true,
            "type": "pie"
           }
          ],
          "scatter": [
           {
            "marker": {
             "colorbar": {
              "outlinewidth": 0,
              "ticks": ""
             }
            },
            "type": "scatter"
           }
          ],
          "scatter3d": [
           {
            "line": {
             "colorbar": {
              "outlinewidth": 0,
              "ticks": ""
             }
            },
            "marker": {
             "colorbar": {
              "outlinewidth": 0,
              "ticks": ""
             }
            },
            "type": "scatter3d"
           }
          ],
          "scattercarpet": [
           {
            "marker": {
             "colorbar": {
              "outlinewidth": 0,
              "ticks": ""
             }
            },
            "type": "scattercarpet"
           }
          ],
          "scattergeo": [
           {
            "marker": {
             "colorbar": {
              "outlinewidth": 0,
              "ticks": ""
             }
            },
            "type": "scattergeo"
           }
          ],
          "scattergl": [
           {
            "marker": {
             "colorbar": {
              "outlinewidth": 0,
              "ticks": ""
             }
            },
            "type": "scattergl"
           }
          ],
          "scattermapbox": [
           {
            "marker": {
             "colorbar": {
              "outlinewidth": 0,
              "ticks": ""
             }
            },
            "type": "scattermapbox"
           }
          ],
          "scatterpolar": [
           {
            "marker": {
             "colorbar": {
              "outlinewidth": 0,
              "ticks": ""
             }
            },
            "type": "scatterpolar"
           }
          ],
          "scatterpolargl": [
           {
            "marker": {
             "colorbar": {
              "outlinewidth": 0,
              "ticks": ""
             }
            },
            "type": "scatterpolargl"
           }
          ],
          "scatterternary": [
           {
            "marker": {
             "colorbar": {
              "outlinewidth": 0,
              "ticks": ""
             }
            },
            "type": "scatterternary"
           }
          ],
          "surface": [
           {
            "colorbar": {
             "outlinewidth": 0,
             "ticks": ""
            },
            "colorscale": [
             [
              0,
              "#0d0887"
             ],
             [
              0.1111111111111111,
              "#46039f"
             ],
             [
              0.2222222222222222,
              "#7201a8"
             ],
             [
              0.3333333333333333,
              "#9c179e"
             ],
             [
              0.4444444444444444,
              "#bd3786"
             ],
             [
              0.5555555555555556,
              "#d8576b"
             ],
             [
              0.6666666666666666,
              "#ed7953"
             ],
             [
              0.7777777777777778,
              "#fb9f3a"
             ],
             [
              0.8888888888888888,
              "#fdca26"
             ],
             [
              1,
              "#f0f921"
             ]
            ],
            "type": "surface"
           }
          ],
          "table": [
           {
            "cells": {
             "fill": {
              "color": "#EBF0F8"
             },
             "line": {
              "color": "white"
             }
            },
            "header": {
             "fill": {
              "color": "#C8D4E3"
             },
             "line": {
              "color": "white"
             }
            },
            "type": "table"
           }
          ]
         },
         "layout": {
          "annotationdefaults": {
           "arrowcolor": "#2a3f5f",
           "arrowhead": 0,
           "arrowwidth": 1
          },
          "autotypenumbers": "strict",
          "coloraxis": {
           "colorbar": {
            "outlinewidth": 0,
            "ticks": ""
           }
          },
          "colorscale": {
           "diverging": [
            [
             0,
             "#8e0152"
            ],
            [
             0.1,
             "#c51b7d"
            ],
            [
             0.2,
             "#de77ae"
            ],
            [
             0.3,
             "#f1b6da"
            ],
            [
             0.4,
             "#fde0ef"
            ],
            [
             0.5,
             "#f7f7f7"
            ],
            [
             0.6,
             "#e6f5d0"
            ],
            [
             0.7,
             "#b8e186"
            ],
            [
             0.8,
             "#7fbc41"
            ],
            [
             0.9,
             "#4d9221"
            ],
            [
             1,
             "#276419"
            ]
           ],
           "sequential": [
            [
             0,
             "#0d0887"
            ],
            [
             0.1111111111111111,
             "#46039f"
            ],
            [
             0.2222222222222222,
             "#7201a8"
            ],
            [
             0.3333333333333333,
             "#9c179e"
            ],
            [
             0.4444444444444444,
             "#bd3786"
            ],
            [
             0.5555555555555556,
             "#d8576b"
            ],
            [
             0.6666666666666666,
             "#ed7953"
            ],
            [
             0.7777777777777778,
             "#fb9f3a"
            ],
            [
             0.8888888888888888,
             "#fdca26"
            ],
            [
             1,
             "#f0f921"
            ]
           ],
           "sequentialminus": [
            [
             0,
             "#0d0887"
            ],
            [
             0.1111111111111111,
             "#46039f"
            ],
            [
             0.2222222222222222,
             "#7201a8"
            ],
            [
             0.3333333333333333,
             "#9c179e"
            ],
            [
             0.4444444444444444,
             "#bd3786"
            ],
            [
             0.5555555555555556,
             "#d8576b"
            ],
            [
             0.6666666666666666,
             "#ed7953"
            ],
            [
             0.7777777777777778,
             "#fb9f3a"
            ],
            [
             0.8888888888888888,
             "#fdca26"
            ],
            [
             1,
             "#f0f921"
            ]
           ]
          },
          "colorway": [
           "#636efa",
           "#EF553B",
           "#00cc96",
           "#ab63fa",
           "#FFA15A",
           "#19d3f3",
           "#FF6692",
           "#B6E880",
           "#FF97FF",
           "#FECB52"
          ],
          "font": {
           "color": "#2a3f5f"
          },
          "geo": {
           "bgcolor": "white",
           "lakecolor": "white",
           "landcolor": "#E5ECF6",
           "showlakes": true,
           "showland": true,
           "subunitcolor": "white"
          },
          "hoverlabel": {
           "align": "left"
          },
          "hovermode": "closest",
          "mapbox": {
           "style": "light"
          },
          "paper_bgcolor": "white",
          "plot_bgcolor": "#E5ECF6",
          "polar": {
           "angularaxis": {
            "gridcolor": "white",
            "linecolor": "white",
            "ticks": ""
           },
           "bgcolor": "#E5ECF6",
           "radialaxis": {
            "gridcolor": "white",
            "linecolor": "white",
            "ticks": ""
           }
          },
          "scene": {
           "xaxis": {
            "backgroundcolor": "#E5ECF6",
            "gridcolor": "white",
            "gridwidth": 2,
            "linecolor": "white",
            "showbackground": true,
            "ticks": "",
            "zerolinecolor": "white"
           },
           "yaxis": {
            "backgroundcolor": "#E5ECF6",
            "gridcolor": "white",
            "gridwidth": 2,
            "linecolor": "white",
            "showbackground": true,
            "ticks": "",
            "zerolinecolor": "white"
           },
           "zaxis": {
            "backgroundcolor": "#E5ECF6",
            "gridcolor": "white",
            "gridwidth": 2,
            "linecolor": "white",
            "showbackground": true,
            "ticks": "",
            "zerolinecolor": "white"
           }
          },
          "shapedefaults": {
           "line": {
            "color": "#2a3f5f"
           }
          },
          "ternary": {
           "aaxis": {
            "gridcolor": "white",
            "linecolor": "white",
            "ticks": ""
           },
           "baxis": {
            "gridcolor": "white",
            "linecolor": "white",
            "ticks": ""
           },
           "bgcolor": "#E5ECF6",
           "caxis": {
            "gridcolor": "white",
            "linecolor": "white",
            "ticks": ""
           }
          },
          "title": {
           "x": 0.05
          },
          "xaxis": {
           "automargin": true,
           "gridcolor": "white",
           "linecolor": "white",
           "ticks": "",
           "title": {
            "standoff": 15
           },
           "zerolinecolor": "white",
           "zerolinewidth": 2
          },
          "yaxis": {
           "automargin": true,
           "gridcolor": "white",
           "linecolor": "white",
           "ticks": "",
           "title": {
            "standoff": 15
           },
           "zerolinecolor": "white",
           "zerolinewidth": 2
          }
         }
        },
        "xaxis": {
         "anchor": "y",
         "domain": [
          0,
          0.18400000000000002
         ],
         "title": {
          "text": "O3"
         }
        },
        "xaxis2": {
         "anchor": "y2",
         "domain": [
          0.20400000000000001,
          0.388
         ],
         "matches": "x",
         "title": {
          "text": "O3"
         }
        },
        "xaxis3": {
         "anchor": "y3",
         "domain": [
          0.40800000000000003,
          0.5920000000000001
         ],
         "matches": "x",
         "title": {
          "text": "O3"
         }
        },
        "xaxis4": {
         "anchor": "y4",
         "domain": [
          0.6120000000000001,
          0.7960000000000002
         ],
         "matches": "x",
         "title": {
          "text": "O3"
         }
        },
        "xaxis5": {
         "anchor": "y5",
         "domain": [
          0.8160000000000001,
          1
         ],
         "matches": "x",
         "title": {
          "text": "O3"
         }
        },
        "yaxis": {
         "anchor": "x",
         "domain": [
          0,
          1
         ],
         "title": {
          "text": "asthma_hosp"
         }
        },
        "yaxis2": {
         "anchor": "x2",
         "domain": [
          0,
          1
         ],
         "matches": "y",
         "showticklabels": false
        },
        "yaxis3": {
         "anchor": "x3",
         "domain": [
          0,
          1
         ],
         "matches": "y",
         "showticklabels": false
        },
        "yaxis4": {
         "anchor": "x4",
         "domain": [
          0,
          1
         ],
         "matches": "y",
         "showticklabels": false
        },
        "yaxis5": {
         "anchor": "x5",
         "domain": [
          0,
          1
         ],
         "matches": "y",
         "showticklabels": false
        }
       }
      },
      "text/html": [
       "<div>                            <div id=\"e06925f0-dde1-4b09-9f0d-6fb8ec0944f2\" class=\"plotly-graph-div\" style=\"height:525px; width:100%;\"></div>            <script type=\"text/javascript\">                require([\"plotly\"], function(Plotly) {                    window.PLOTLYENV=window.PLOTLYENV || {};                                    if (document.getElementById(\"e06925f0-dde1-4b09-9f0d-6fb8ec0944f2\")) {                    Plotly.newPlot(                        \"e06925f0-dde1-4b09-9f0d-6fb8ec0944f2\",                        [{\"hovertemplate\":\"Boroughs=Bronx<br>O3=%{x}<br>asthma_hosp=%{y}<br>year=%{marker.color}<extra></extra>\",\"legendgroup\":\"\",\"marker\":{\"color\":[2009,2009,2009,2009,2009,2009,2009,2010,2010,2010,2010,2010,2010,2010,2011,2011,2011,2011,2011,2011,2011,2012,2012,2012,2012,2012,2012,2012,2013,2013,2013,2013,2013,2013,2013,2014,2014,2014,2014,2014,2014,2014,2015,2015,2015,2015,2015,2015,2015,2016,2016,2016,2016,2016,2016,2016],\"coloraxis\":\"coloraxis\",\"symbol\":\"circle\"},\"mode\":\"markers\",\"name\":\"\",\"orientation\":\"v\",\"showlegend\":false,\"x\":[23.67,26.82,24.47,26.72,23.08,22.64,25.23,31.91,33.96,32.53,34.31,31.63,31.25,33.34,31.24,33.44,32.08,34.24,31.46,31.12,33.42,33.72,35.09,34.08,35.44,33.42,33.23,34.98,30.37,31.68,30.79,32.06,30.15,29.92,31.59,30.45,31.49,30.7,31.93,30.07,29.91,31.41,28.72,29.93,29.53,31.41,29.65,29.93,31.66,32.46,33.21,32.78,33.63,32.31,32.34,33.57],\"xaxis\":\"x\",\"y\":[61,282,693,588,631,657,504,74,285,563,491,552,505,435,65,303,528,552,529,533,457,67,320,559,609,524,571,501,72,319,589,515,559,627,453,71,324,648,521,567,624,478,60,268,548,523,463,574,431,53,265,545,441,427,565,361],\"yaxis\":\"y\",\"type\":\"scatter\"},{\"hovertemplate\":\"<b>OLS trendline</b><br>asthma_hosp = -5.66449 * O3 + 610.688<br>R<sup>2</sup>=0.008249<br><br>Boroughs=Bronx<br>O3=%{x}<br>asthma_hosp=%{y} <b>(trend)</b><extra></extra>\",\"legendgroup\":\"\",\"marker\":{\"symbol\":\"circle\"},\"mode\":\"lines\",\"name\":\"\",\"showlegend\":false,\"x\":[22.64,23.08,23.67,24.47,25.23,26.72,26.82,28.72,29.53,29.65,29.91,29.92,29.93,29.93,30.07,30.15,30.37,30.45,30.7,30.79,31.12,31.24,31.25,31.41,31.41,31.46,31.49,31.59,31.63,31.66,31.68,31.91,31.93,32.06,32.08,32.31,32.34,32.46,32.53,32.78,33.21,33.23,33.34,33.42,33.42,33.44,33.57,33.63,33.72,33.96,34.08,34.24,34.31,34.98,35.09,35.44],\"xaxis\":\"x\",\"y\":[482.44351830534663,479.9511431845579,476.6090947271366,472.07750359842976,467.77249202615826,459.3324035489418,458.7659546578534,448.00342572717466,443.41518970935897,442.73545104005296,441.2626839232232,441.2060390341144,441.14939414500554,441.14939414500554,440.35636569748186,439.9032065846112,438.65701902421677,438.2038599113461,436.7877376836252,436.2779336816457,434.4086523410541,433.7289136717481,433.67226878263926,432.7659505568979,432.7659505568979,432.4827261113537,432.3127914440272,431.74634255293887,431.5197629965035,431.349828329177,431.2365385509594,429.9337061014561,429.8204163232384,429.0840327648236,428.97074298660596,427.66791053710267,427.49797586977616,426.8182372004702,426.42172297670834,425.00560074898743,422.5698705173075,422.4565807390899,421.83348695889265,421.38032784602194,421.38032784602194,421.26703806780426,420.5306545093894,420.1907851747364,419.6809811727569,418.32150383414483,417.64176516483883,416.7354469390974,416.33893271533555,412.5437251450436,411.9206313648464,409.9380602460372],\"yaxis\":\"y\",\"type\":\"scatter\"},{\"hovertemplate\":\"Boroughs=Brooklyn<br>O3=%{x}<br>asthma_hosp=%{y}<br>year=%{marker.color}<extra></extra>\",\"legendgroup\":\"\",\"marker\":{\"color\":[2009,2009,2009,2009,2009,2009,2009,2009,2009,2009,2009,2010,2010,2010,2010,2010,2010,2010,2010,2010,2010,2010,2011,2011,2011,2011,2011,2011,2011,2011,2011,2011,2011,2012,2012,2012,2012,2012,2012,2012,2012,2012,2012,2012,2013,2013,2013,2013,2013,2013,2013,2013,2013,2013,2013,2014,2014,2014,2014,2014,2014,2014,2014,2014,2014,2014,2015,2015,2015,2015,2015,2015,2015,2015,2015,2015,2015,2016,2016,2016,2016,2016,2016,2016,2016,2016,2016,2016],\"coloraxis\":\"coloraxis\",\"symbol\":\"circle\"},\"mode\":\"markers\",\"name\":\"\",\"orientation\":\"v\",\"showlegend\":false,\"x\":[25.56,23.08,24.33,26.28,24.63,25.54,25.47,28.97,26.86,29.64,24.76,32.54,30.94,32.27,33.97,32.71,33.38,33.33,36.12,34.5,36.52,32.38,31.61,29.54,31.43,33.5,31.5,32.7,32.67,35.91,33.85,36.56,31.54,32.73,30.66,32.12,33.97,32.29,33.35,33.38,36.6,34.28,37.08,32.28,29.77,28.04,29.66,31.51,29.67,30.61,30.73,33.7,31.44,33.88,29.7,30.47,29.32,30.33,31.97,30.6,30.68,30.94,33.25,31.32,32.61,30.41,30.97,29.76,31.18,32.58,31.29,32.14,32.2,34.7,32.83,35.01,31.1,32.96,31.98,32.98,34.26,33.28,33.54,33.66,35.79,34.25,35.62,32.99],\"xaxis\":\"x2\",\"y\":[88,176,645,376,62,97,446,195,34,101,503,48,135,559,348,56,64,361,160,20,90,402,43,176,582,313,64,103,361,176,42,67,387,34,171,591,329,57,90,387,191,44,85,387,26,130,581,346,63,70,409,191,30,74,292,46,121,607,366,54,73,460,159,17,82,292,27,114,506,349,37,75,413,179,27,58,219,26,112,473,361,33,72,364,172,30,84,240],\"yaxis\":\"y2\",\"type\":\"scatter\"},{\"hovertemplate\":\"<b>OLS trendline</b><br>asthma_hosp = -10.9911 * O3 + 554.094<br>R<sup>2</sup>=0.033184<br><br>Boroughs=Brooklyn<br>O3=%{x}<br>asthma_hosp=%{y} <b>(trend)</b><extra></extra>\",\"legendgroup\":\"\",\"marker\":{\"symbol\":\"circle\"},\"mode\":\"lines\",\"name\":\"\",\"showlegend\":false,\"x\":[23.08,24.33,24.63,24.76,25.47,25.54,25.56,26.28,26.86,28.04,28.97,29.32,29.54,29.64,29.66,29.67,29.7,29.76,29.77,30.33,30.41,30.47,30.6,30.61,30.66,30.68,30.73,30.94,30.94,30.97,31.1,31.18,31.29,31.32,31.43,31.44,31.5,31.51,31.54,31.61,31.97,31.98,32.12,32.14,32.2,32.27,32.28,32.29,32.38,32.54,32.58,32.61,32.67,32.7,32.71,32.73,32.83,32.96,32.98,32.99,33.25,33.28,33.33,33.35,33.38,33.38,33.5,33.54,33.66,33.7,33.85,33.88,33.97,33.97,34.25,34.26,34.28,34.5,34.7,35.01,35.62,35.79,35.91,36.12,36.52,36.56,36.6,37.08],\"xaxis\":\"x2\",\"y\":[300.41959363787964,286.6807183523581,283.3833882838329,281.9545452541386,274.15086409196243,273.3814870759732,273.16166507140485,265.2480729069444,258.87323477446245,245.90373650493012,235.68201329250206,231.83512821255601,229.41708616230426,228.31797613946253,228.09815413489417,227.98824313260997,227.65851012575746,226.99904411205245,226.8891331097683,220.73411698185464,219.8548289635812,219.1953629498762,217.76651992018196,217.6566089178978,217.10705390647695,216.8872319019086,216.33767689048773,214.02954584252006,214.02954584252006,213.69981283566761,212.27096980597332,211.39168178769995,210.18266076257407,209.85292775572157,208.64390673059563,208.53399572831148,207.87452971460647,207.76461871232226,207.43488570546975,206.66550868948053,202.70871260725033,202.59880160496618,201.0600475729878,200.84022556841938,200.18075955471437,199.41138253872515,199.301471536441,199.19156053415685,198.20236151359927,196.44378547705253,196.00414146791587,195.6744084610633,195.01494244735824,194.68520944050573,194.57529843822158,194.35547643365328,193.25636641081155,191.82752338111726,191.60770137654896,191.49779037426475,188.64010431487628,188.31037130802378,187.7608162966029,187.54099429203455,187.211261285182,187.211261285182,185.89232925777196,185.4526852486353,184.13375322122522,183.6941092120885,182.0454441778259,181.7157111709734,180.72651215041589,180.72651215041589,177.64900408645906,177.5390930841749,177.3192710796065,174.90122902935474,172.70300898367122,169.29576791286195,162.59119677352743,160.72270973469648,159.40377770728645,157.09564665931885,152.69920656795188,152.25956255881516,151.8199185496785,146.54419044003828],\"yaxis\":\"y2\",\"type\":\"scatter\"},{\"hovertemplate\":\"Boroughs=Manhattan<br>O3=%{x}<br>asthma_hosp=%{y}<br>year=%{marker.color}<extra></extra>\",\"legendgroup\":\"\",\"marker\":{\"color\":[2009,2009,2009,2009,2009,2009,2009,2009,2009,2009,2010,2010,2010,2010,2010,2010,2010,2010,2010,2010,2011,2011,2011,2011,2011,2011,2011,2011,2011,2011,2012,2012,2012,2012,2012,2012,2012,2012,2012,2012,2013,2013,2013,2013,2013,2013,2013,2013,2013,2013,2014,2014,2014,2014,2014,2014,2014,2014,2014,2014,2015,2015,2015,2015,2015,2015,2015,2015,2015,2015,2016,2016,2016,2016,2016,2016,2016,2016,2016,2016],\"coloraxis\":\"coloraxis\",\"symbol\":\"circle\"},\"mode\":\"markers\",\"name\":\"\",\"orientation\":\"v\",\"showlegend\":false,\"x\":[21.82,21.52,22.84,21.31,20.87,18.19,16.13,20.56,21.16,18.88,30.54,29.75,30.52,28.68,28.21,25.62,23.9,27.87,28.38,26.89,30.13,29.4,30.25,27.89,27.52,24.2,22.59,26.21,26.94,25.07,32.66,31.71,32.25,30.17,29.24,26.0,24.05,27.85,28.41,26.44,29.34,28.4,28.87,26.93,26.32,23.53,21.93,25.22,25.73,24.26,29.52,28.58,28.92,27.4,26.66,24.61,22.89,26.66,26.93,25.98,28.95,28.98,29.58,28.12,28.07,26.11,25.06,27.35,27.73,26.98,31.92,31.35,31.62,30.54,30.17,28.76,27.51,30.03,30.14,29.73],\"xaxis\":\"x3\",\"y\":[168,298,254,87,49,27,17,8,80,10,176,246,240,77,48,32,20,0,59,8,164,259,212,75,51,25,9,0,67,9,160,299,203,57,53,30,13,7,77,0,161,276,222,56,41,21,16,6,67,4,217,233,239,64,40,32,14,4,57,2,175,234,197,51,42,21,5,1,67,4,210,284,151,43,39,11,8,4,73,7],\"yaxis\":\"y3\",\"type\":\"scatter\"},{\"hovertemplate\":\"<b>OLS trendline</b><br>asthma_hosp = 11.1228 * O3 + -210.512<br>R<sup>2</sup>=0.170885<br><br>Boroughs=Manhattan<br>O3=%{x}<br>asthma_hosp=%{y} <b>(trend)</b><extra></extra>\",\"legendgroup\":\"\",\"marker\":{\"symbol\":\"circle\"},\"mode\":\"lines\",\"name\":\"\",\"showlegend\":false,\"x\":[16.13,18.19,18.88,20.56,20.87,21.16,21.31,21.52,21.82,21.93,22.59,22.84,22.89,23.53,23.9,24.05,24.2,24.26,24.61,25.06,25.07,25.22,25.62,25.73,25.98,26.0,26.11,26.21,26.32,26.44,26.66,26.66,26.89,26.93,26.93,26.94,26.98,27.35,27.4,27.51,27.52,27.73,27.85,27.87,27.89,28.07,28.12,28.21,28.38,28.4,28.41,28.58,28.68,28.76,28.87,28.92,28.95,28.98,29.24,29.34,29.4,29.52,29.58,29.73,29.75,30.03,30.13,30.14,30.17,30.17,30.25,30.52,30.54,30.54,31.35,31.62,31.71,31.92,32.25,32.66],\"xaxis\":\"x3\",\"y\":[-31.101672113485137,-8.188764290890475,-0.5140524474000756,18.172202475880994,21.620261420057886,24.845864948481392,26.51428056663147,28.850062432041625,32.18689366834181,33.4103984549852,40.75142717484562,43.53211987176246,44.08825841114583,51.20683171525292,55.3222569066898,56.99067252483991,58.65908814298996,59.326454390250035,63.21942416593356,68.22467102038382,68.33589872826053,70.00431434641064,74.45342266147759,75.67692744812098,78.45762014503777,78.68007556079112,79.90358034743451,81.01585742620125,82.23936221284464,83.57409470736474,86.02110428065157,86.02110428065157,88.57934156181506,89.02425239332172,89.02425239332172,89.13548010119843,89.58039093270509,93.69581612414203,94.25195466352534,95.47545945016878,95.58668715804544,97.92246902345556,99.25720151797566,99.47965693372902,99.70211234948232,101.70421109126244,102.2603496306458,103.26139900153589,105.1522700354393,105.37472545119266,105.48595315906931,107.37682419297272,108.48910127173951,109.3789229347529,110.60242772139628,111.15856626077965,111.49224938440966,111.82593250803967,114.71785291283317,115.8301299915999,116.49749623885992,117.83222873338002,118.49959498064004,120.16801059879015,120.3904660145435,123.50484183509036,124.6171189138571,124.72834662173375,125.06202974536382,125.06202974536382,125.95185140837714,128.95499952104734,129.17745493680064,129.17745493680064,138.1868992748112,141.1900473874814,142.19109675837143,144.52687862378156,148.19739298371178,152.75772900665532],\"yaxis\":\"y3\",\"type\":\"scatter\"},{\"hovertemplate\":\"Boroughs=Queens<br>O3=%{x}<br>asthma_hosp=%{y}<br>year=%{marker.color}<extra></extra>\",\"legendgroup\":\"\",\"marker\":{\"color\":[2009,2009,2009,2009,2009,2009,2009,2009,2009,2009,2010,2010,2010,2010,2010,2010,2010,2010,2010,2010,2011,2011,2011,2011,2011,2011,2011,2011,2011,2011,2012,2012,2012,2012,2012,2012,2012,2012,2012,2012,2013,2013,2013,2013,2013,2013,2013,2013,2013,2013,2014,2014,2014,2014,2014,2014,2014,2014,2014,2014,2015,2015,2015,2015,2015,2015,2015,2015,2015,2015,2016,2016,2016,2016,2016,2016,2016,2016,2016,2016],\"coloraxis\":\"coloraxis\",\"symbol\":\"circle\"},\"mode\":\"markers\",\"name\":\"\",\"orientation\":\"v\",\"showlegend\":false,\"x\":[26.08,25.7,26.29,26.29,25.58,25.43,26.48,26.14,27.59,33.59,33.01,33.17,33.99,33.51,33.32,33.23,34.04,33.52,34.29,38.98,32.66,33.0,33.92,33.03,32.97,32.93,33.63,32.95,33.59,39.03,33.91,33.58,34.46,33.84,33.3,33.38,34.15,33.78,34.81,40.3,30.62,30.68,31.43,30.76,30.77,30.67,31.68,31.12,31.79,36.84,30.71,30.87,32.01,32.26,31.33,31.8,32.51,32.63,33.6,36.25,31.43,31.57,31.88,31.27,31.81,31.53,32.59,32.04,32.51,37.44,33.15,33.12,33.44,32.99,33.48,33.16,34.34,33.86,34.3,38.18],\"xaxis\":\"x4\",\"y\":[79,225,84,34,157,50,269,431,224,185,86,197,89,23,160,46,226,343,173,177,80,187,83,7,149,48,170,267,157,132,70,234,68,31,146,37,218,257,176,86,66,202,82,12,87,49,181,288,158,86,67,249,75,21,109,34,209,276,162,100,47,177,70,19,95,57,183,261,135,86,55,199,79,7,97,51,146,239,115,73],\"yaxis\":\"y4\",\"type\":\"scatter\"},{\"hovertemplate\":\"<b>OLS trendline</b><br>asthma_hosp = -3.19252 * O3 + 235.734<br>R<sup>2</sup>=0.011717<br><br>Boroughs=Queens<br>O3=%{x}<br>asthma_hosp=%{y} <b>(trend)</b><extra></extra>\",\"legendgroup\":\"\",\"marker\":{\"symbol\":\"circle\"},\"mode\":\"lines\",\"name\":\"\",\"showlegend\":false,\"x\":[25.43,25.58,25.7,26.08,26.14,26.29,26.29,26.48,27.59,30.62,30.67,30.68,30.71,30.76,30.77,30.87,31.12,31.27,31.33,31.43,31.43,31.53,31.57,31.68,31.79,31.8,31.81,31.88,32.01,32.04,32.26,32.51,32.51,32.59,32.63,32.66,32.93,32.95,32.97,32.99,33.0,33.01,33.03,33.12,33.15,33.16,33.17,33.23,33.3,33.32,33.38,33.44,33.48,33.51,33.52,33.58,33.59,33.59,33.6,33.63,33.78,33.84,33.86,33.91,33.92,33.99,34.04,34.15,34.29,34.3,34.34,34.46,34.81,36.25,36.84,37.44,38.18,38.98,39.03,40.3],\"xaxis\":\"x4\",\"y\":[154.54859426289352,154.06971671634318,153.6866146791029,152.47345822784203,152.28190720922186,151.80302966267152,151.80302966267152,151.1964514370411,147.6527575925685,137.97943115225144,137.81980530340132,137.78788013363132,137.69210462432125,137.53247877547113,137.5005536057011,137.18130190800088,136.38317266375032,135.90429511719995,135.71274409857983,135.39349240087958,135.39349240087958,135.07424070317933,134.94654002409925,134.595363156629,134.24418628915873,134.2122611193887,134.1803359496187,133.95685976122854,133.54183255421822,133.44605704490817,132.74370330996766,131.94557406571707,131.94557406571707,131.69017270755688,131.56247202847678,131.46669651916673,130.60471693537608,130.54086659583604,130.477016256296,130.41316591675593,130.38124074698592,130.34931557721592,130.28546523767585,129.99813870974566,129.9023632004356,129.87043803066558,129.83851286089552,129.6469618422754,129.42348565388522,129.35963531434518,129.16808429572504,128.97653327710492,128.8488325980248,128.75305708871474,128.7211319189447,128.5295809003246,128.49765573055453,128.49765573055453,128.46573056078452,128.36995505147445,127.89107750492411,127.69952648630397,127.63567614676393,127.47605029791382,127.44412512814378,127.22064893975362,127.0610230909035,126.70984622343326,126.26289384665293,126.23096867688291,126.1032679978028,125.72016596056253,124.60278501861171,120.00556057172837,118.12197555529698,116.20646536909561,113.84400280611388,111.28998922451203,111.1303633756619,107.07586681486896],\"yaxis\":\"y4\",\"type\":\"scatter\"},{\"hovertemplate\":\"Boroughs=Staten Island<br>O3=%{x}<br>asthma_hosp=%{y}<br>year=%{marker.color}<extra></extra>\",\"legendgroup\":\"\",\"marker\":{\"color\":[2009,2009,2009,2009,2010,2010,2010,2010,2011,2011,2011,2011,2012,2012,2012,2012,2013,2013,2013,2013,2014,2014,2014,2014,2015,2015,2015,2015,2016,2016,2016,2016],\"coloraxis\":\"coloraxis\",\"symbol\":\"circle\"},\"mode\":\"markers\",\"name\":\"\",\"orientation\":\"v\",\"showlegend\":false,\"x\":[24.42,26.48,26.04,27.77,32.74,34.3,34.45,36.53,31.02,33.17,33.13,35.93,31.06,33.14,32.76,35.27,28.84,30.61,30.48,32.66,30.23,31.14,31.13,31.96,29.99,31.84,31.66,34.07,33.42,34.18,34.68,36.17],\"xaxis\":\"x5\",\"y\":[80,78,35,47,56,85,12,43,65,63,18,36,79,65,14,38,64,77,12,39,67,80,11,40,68,59,12,38,83,72,12,36],\"yaxis\":\"y5\",\"type\":\"scatter\"},{\"hovertemplate\":\"<b>OLS trendline</b><br>asthma_hosp = -2.47592 * O3 + 128.518<br>R<sup>2</sup>=0.084238<br><br>Boroughs=Staten Island<br>O3=%{x}<br>asthma_hosp=%{y} <b>(trend)</b><extra></extra>\",\"legendgroup\":\"\",\"marker\":{\"symbol\":\"circle\"},\"mode\":\"lines\",\"name\":\"\",\"showlegend\":false,\"x\":[24.42,26.04,26.48,27.77,28.84,29.99,30.23,30.48,30.61,31.02,31.06,31.13,31.14,31.66,31.84,31.96,32.66,32.74,32.76,33.13,33.14,33.17,33.42,34.07,34.18,34.3,34.45,34.68,35.27,35.93,36.17,36.53],\"xaxis\":\"x5\",\"y\":[68.05624719957129,64.0452566861836,62.95585185538694,59.761914965096736,57.112680490204866,54.265372409713606,53.67115159291542,53.05217157541732,52.73030196631831,51.715174737621425,51.61613793482172,51.442823529922265,51.41806432922233,50.130585892826275,49.684920280227644,49.38780987182855,47.65466582283389,47.45659221723447,47.407073815834636,46.49098338993744,46.46622418923752,46.39194658713774,45.77296656963965,44.16361852414458,43.89126731644542,43.594156908046344,43.22276889754747,42.653307281449216,41.19251444015369,39.558407193958715,38.96418637716053,38.07285515196327],\"yaxis\":\"y5\",\"type\":\"scatter\"}],                        {\"template\":{\"data\":{\"bar\":[{\"error_x\":{\"color\":\"#2a3f5f\"},\"error_y\":{\"color\":\"#2a3f5f\"},\"marker\":{\"line\":{\"color\":\"#E5ECF6\",\"width\":0.5},\"pattern\":{\"fillmode\":\"overlay\",\"size\":10,\"solidity\":0.2}},\"type\":\"bar\"}],\"barpolar\":[{\"marker\":{\"line\":{\"color\":\"#E5ECF6\",\"width\":0.5},\"pattern\":{\"fillmode\":\"overlay\",\"size\":10,\"solidity\":0.2}},\"type\":\"barpolar\"}],\"carpet\":[{\"aaxis\":{\"endlinecolor\":\"#2a3f5f\",\"gridcolor\":\"white\",\"linecolor\":\"white\",\"minorgridcolor\":\"white\",\"startlinecolor\":\"#2a3f5f\"},\"baxis\":{\"endlinecolor\":\"#2a3f5f\",\"gridcolor\":\"white\",\"linecolor\":\"white\",\"minorgridcolor\":\"white\",\"startlinecolor\":\"#2a3f5f\"},\"type\":\"carpet\"}],\"choropleth\":[{\"colorbar\":{\"outlinewidth\":0,\"ticks\":\"\"},\"type\":\"choropleth\"}],\"contour\":[{\"colorbar\":{\"outlinewidth\":0,\"ticks\":\"\"},\"colorscale\":[[0.0,\"#0d0887\"],[0.1111111111111111,\"#46039f\"],[0.2222222222222222,\"#7201a8\"],[0.3333333333333333,\"#9c179e\"],[0.4444444444444444,\"#bd3786\"],[0.5555555555555556,\"#d8576b\"],[0.6666666666666666,\"#ed7953\"],[0.7777777777777778,\"#fb9f3a\"],[0.8888888888888888,\"#fdca26\"],[1.0,\"#f0f921\"]],\"type\":\"contour\"}],\"contourcarpet\":[{\"colorbar\":{\"outlinewidth\":0,\"ticks\":\"\"},\"type\":\"contourcarpet\"}],\"heatmap\":[{\"colorbar\":{\"outlinewidth\":0,\"ticks\":\"\"},\"colorscale\":[[0.0,\"#0d0887\"],[0.1111111111111111,\"#46039f\"],[0.2222222222222222,\"#7201a8\"],[0.3333333333333333,\"#9c179e\"],[0.4444444444444444,\"#bd3786\"],[0.5555555555555556,\"#d8576b\"],[0.6666666666666666,\"#ed7953\"],[0.7777777777777778,\"#fb9f3a\"],[0.8888888888888888,\"#fdca26\"],[1.0,\"#f0f921\"]],\"type\":\"heatmap\"}],\"heatmapgl\":[{\"colorbar\":{\"outlinewidth\":0,\"ticks\":\"\"},\"colorscale\":[[0.0,\"#0d0887\"],[0.1111111111111111,\"#46039f\"],[0.2222222222222222,\"#7201a8\"],[0.3333333333333333,\"#9c179e\"],[0.4444444444444444,\"#bd3786\"],[0.5555555555555556,\"#d8576b\"],[0.6666666666666666,\"#ed7953\"],[0.7777777777777778,\"#fb9f3a\"],[0.8888888888888888,\"#fdca26\"],[1.0,\"#f0f921\"]],\"type\":\"heatmapgl\"}],\"histogram\":[{\"marker\":{\"pattern\":{\"fillmode\":\"overlay\",\"size\":10,\"solidity\":0.2}},\"type\":\"histogram\"}],\"histogram2d\":[{\"colorbar\":{\"outlinewidth\":0,\"ticks\":\"\"},\"colorscale\":[[0.0,\"#0d0887\"],[0.1111111111111111,\"#46039f\"],[0.2222222222222222,\"#7201a8\"],[0.3333333333333333,\"#9c179e\"],[0.4444444444444444,\"#bd3786\"],[0.5555555555555556,\"#d8576b\"],[0.6666666666666666,\"#ed7953\"],[0.7777777777777778,\"#fb9f3a\"],[0.8888888888888888,\"#fdca26\"],[1.0,\"#f0f921\"]],\"type\":\"histogram2d\"}],\"histogram2dcontour\":[{\"colorbar\":{\"outlinewidth\":0,\"ticks\":\"\"},\"colorscale\":[[0.0,\"#0d0887\"],[0.1111111111111111,\"#46039f\"],[0.2222222222222222,\"#7201a8\"],[0.3333333333333333,\"#9c179e\"],[0.4444444444444444,\"#bd3786\"],[0.5555555555555556,\"#d8576b\"],[0.6666666666666666,\"#ed7953\"],[0.7777777777777778,\"#fb9f3a\"],[0.8888888888888888,\"#fdca26\"],[1.0,\"#f0f921\"]],\"type\":\"histogram2dcontour\"}],\"mesh3d\":[{\"colorbar\":{\"outlinewidth\":0,\"ticks\":\"\"},\"type\":\"mesh3d\"}],\"parcoords\":[{\"line\":{\"colorbar\":{\"outlinewidth\":0,\"ticks\":\"\"}},\"type\":\"parcoords\"}],\"pie\":[{\"automargin\":true,\"type\":\"pie\"}],\"scatter\":[{\"marker\":{\"colorbar\":{\"outlinewidth\":0,\"ticks\":\"\"}},\"type\":\"scatter\"}],\"scatter3d\":[{\"line\":{\"colorbar\":{\"outlinewidth\":0,\"ticks\":\"\"}},\"marker\":{\"colorbar\":{\"outlinewidth\":0,\"ticks\":\"\"}},\"type\":\"scatter3d\"}],\"scattercarpet\":[{\"marker\":{\"colorbar\":{\"outlinewidth\":0,\"ticks\":\"\"}},\"type\":\"scattercarpet\"}],\"scattergeo\":[{\"marker\":{\"colorbar\":{\"outlinewidth\":0,\"ticks\":\"\"}},\"type\":\"scattergeo\"}],\"scattergl\":[{\"marker\":{\"colorbar\":{\"outlinewidth\":0,\"ticks\":\"\"}},\"type\":\"scattergl\"}],\"scattermapbox\":[{\"marker\":{\"colorbar\":{\"outlinewidth\":0,\"ticks\":\"\"}},\"type\":\"scattermapbox\"}],\"scatterpolar\":[{\"marker\":{\"colorbar\":{\"outlinewidth\":0,\"ticks\":\"\"}},\"type\":\"scatterpolar\"}],\"scatterpolargl\":[{\"marker\":{\"colorbar\":{\"outlinewidth\":0,\"ticks\":\"\"}},\"type\":\"scatterpolargl\"}],\"scatterternary\":[{\"marker\":{\"colorbar\":{\"outlinewidth\":0,\"ticks\":\"\"}},\"type\":\"scatterternary\"}],\"surface\":[{\"colorbar\":{\"outlinewidth\":0,\"ticks\":\"\"},\"colorscale\":[[0.0,\"#0d0887\"],[0.1111111111111111,\"#46039f\"],[0.2222222222222222,\"#7201a8\"],[0.3333333333333333,\"#9c179e\"],[0.4444444444444444,\"#bd3786\"],[0.5555555555555556,\"#d8576b\"],[0.6666666666666666,\"#ed7953\"],[0.7777777777777778,\"#fb9f3a\"],[0.8888888888888888,\"#fdca26\"],[1.0,\"#f0f921\"]],\"type\":\"surface\"}],\"table\":[{\"cells\":{\"fill\":{\"color\":\"#EBF0F8\"},\"line\":{\"color\":\"white\"}},\"header\":{\"fill\":{\"color\":\"#C8D4E3\"},\"line\":{\"color\":\"white\"}},\"type\":\"table\"}]},\"layout\":{\"annotationdefaults\":{\"arrowcolor\":\"#2a3f5f\",\"arrowhead\":0,\"arrowwidth\":1},\"autotypenumbers\":\"strict\",\"coloraxis\":{\"colorbar\":{\"outlinewidth\":0,\"ticks\":\"\"}},\"colorscale\":{\"diverging\":[[0,\"#8e0152\"],[0.1,\"#c51b7d\"],[0.2,\"#de77ae\"],[0.3,\"#f1b6da\"],[0.4,\"#fde0ef\"],[0.5,\"#f7f7f7\"],[0.6,\"#e6f5d0\"],[0.7,\"#b8e186\"],[0.8,\"#7fbc41\"],[0.9,\"#4d9221\"],[1,\"#276419\"]],\"sequential\":[[0.0,\"#0d0887\"],[0.1111111111111111,\"#46039f\"],[0.2222222222222222,\"#7201a8\"],[0.3333333333333333,\"#9c179e\"],[0.4444444444444444,\"#bd3786\"],[0.5555555555555556,\"#d8576b\"],[0.6666666666666666,\"#ed7953\"],[0.7777777777777778,\"#fb9f3a\"],[0.8888888888888888,\"#fdca26\"],[1.0,\"#f0f921\"]],\"sequentialminus\":[[0.0,\"#0d0887\"],[0.1111111111111111,\"#46039f\"],[0.2222222222222222,\"#7201a8\"],[0.3333333333333333,\"#9c179e\"],[0.4444444444444444,\"#bd3786\"],[0.5555555555555556,\"#d8576b\"],[0.6666666666666666,\"#ed7953\"],[0.7777777777777778,\"#fb9f3a\"],[0.8888888888888888,\"#fdca26\"],[1.0,\"#f0f921\"]]},\"colorway\":[\"#636efa\",\"#EF553B\",\"#00cc96\",\"#ab63fa\",\"#FFA15A\",\"#19d3f3\",\"#FF6692\",\"#B6E880\",\"#FF97FF\",\"#FECB52\"],\"font\":{\"color\":\"#2a3f5f\"},\"geo\":{\"bgcolor\":\"white\",\"lakecolor\":\"white\",\"landcolor\":\"#E5ECF6\",\"showlakes\":true,\"showland\":true,\"subunitcolor\":\"white\"},\"hoverlabel\":{\"align\":\"left\"},\"hovermode\":\"closest\",\"mapbox\":{\"style\":\"light\"},\"paper_bgcolor\":\"white\",\"plot_bgcolor\":\"#E5ECF6\",\"polar\":{\"angularaxis\":{\"gridcolor\":\"white\",\"linecolor\":\"white\",\"ticks\":\"\"},\"bgcolor\":\"#E5ECF6\",\"radialaxis\":{\"gridcolor\":\"white\",\"linecolor\":\"white\",\"ticks\":\"\"}},\"scene\":{\"xaxis\":{\"backgroundcolor\":\"#E5ECF6\",\"gridcolor\":\"white\",\"gridwidth\":2,\"linecolor\":\"white\",\"showbackground\":true,\"ticks\":\"\",\"zerolinecolor\":\"white\"},\"yaxis\":{\"backgroundcolor\":\"#E5ECF6\",\"gridcolor\":\"white\",\"gridwidth\":2,\"linecolor\":\"white\",\"showbackground\":true,\"ticks\":\"\",\"zerolinecolor\":\"white\"},\"zaxis\":{\"backgroundcolor\":\"#E5ECF6\",\"gridcolor\":\"white\",\"gridwidth\":2,\"linecolor\":\"white\",\"showbackground\":true,\"ticks\":\"\",\"zerolinecolor\":\"white\"}},\"shapedefaults\":{\"line\":{\"color\":\"#2a3f5f\"}},\"ternary\":{\"aaxis\":{\"gridcolor\":\"white\",\"linecolor\":\"white\",\"ticks\":\"\"},\"baxis\":{\"gridcolor\":\"white\",\"linecolor\":\"white\",\"ticks\":\"\"},\"bgcolor\":\"#E5ECF6\",\"caxis\":{\"gridcolor\":\"white\",\"linecolor\":\"white\",\"ticks\":\"\"}},\"title\":{\"x\":0.05},\"xaxis\":{\"automargin\":true,\"gridcolor\":\"white\",\"linecolor\":\"white\",\"ticks\":\"\",\"title\":{\"standoff\":15},\"zerolinecolor\":\"white\",\"zerolinewidth\":2},\"yaxis\":{\"automargin\":true,\"gridcolor\":\"white\",\"linecolor\":\"white\",\"ticks\":\"\",\"title\":{\"standoff\":15},\"zerolinecolor\":\"white\",\"zerolinewidth\":2}}},\"xaxis\":{\"anchor\":\"y\",\"domain\":[0.0,0.18400000000000002],\"title\":{\"text\":\"O3\"}},\"yaxis\":{\"anchor\":\"x\",\"domain\":[0.0,1.0],\"title\":{\"text\":\"asthma_hosp\"}},\"xaxis2\":{\"anchor\":\"y2\",\"domain\":[0.20400000000000001,0.388],\"matches\":\"x\",\"title\":{\"text\":\"O3\"}},\"yaxis2\":{\"anchor\":\"x2\",\"domain\":[0.0,1.0],\"matches\":\"y\",\"showticklabels\":false},\"xaxis3\":{\"anchor\":\"y3\",\"domain\":[0.40800000000000003,0.5920000000000001],\"matches\":\"x\",\"title\":{\"text\":\"O3\"}},\"yaxis3\":{\"anchor\":\"x3\",\"domain\":[0.0,1.0],\"matches\":\"y\",\"showticklabels\":false},\"xaxis4\":{\"anchor\":\"y4\",\"domain\":[0.6120000000000001,0.7960000000000002],\"matches\":\"x\",\"title\":{\"text\":\"O3\"}},\"yaxis4\":{\"anchor\":\"x4\",\"domain\":[0.0,1.0],\"matches\":\"y\",\"showticklabels\":false},\"xaxis5\":{\"anchor\":\"y5\",\"domain\":[0.8160000000000001,1.0],\"matches\":\"x\",\"title\":{\"text\":\"O3\"}},\"yaxis5\":{\"anchor\":\"x5\",\"domain\":[0.0,1.0],\"matches\":\"y\",\"showticklabels\":false},\"annotations\":[{\"font\":{},\"showarrow\":false,\"text\":\"Boroughs=Bronx\",\"x\":0.09200000000000001,\"xanchor\":\"center\",\"xref\":\"paper\",\"y\":1.0,\"yanchor\":\"bottom\",\"yref\":\"paper\"},{\"font\":{},\"showarrow\":false,\"text\":\"Boroughs=Brooklyn\",\"x\":0.29600000000000004,\"xanchor\":\"center\",\"xref\":\"paper\",\"y\":1.0,\"yanchor\":\"bottom\",\"yref\":\"paper\"},{\"font\":{},\"showarrow\":false,\"text\":\"Boroughs=Manhattan\",\"x\":0.5,\"xanchor\":\"center\",\"xref\":\"paper\",\"y\":1.0,\"yanchor\":\"bottom\",\"yref\":\"paper\"},{\"font\":{},\"showarrow\":false,\"text\":\"Boroughs=Queens\",\"x\":0.7040000000000002,\"xanchor\":\"center\",\"xref\":\"paper\",\"y\":1.0,\"yanchor\":\"bottom\",\"yref\":\"paper\"},{\"font\":{},\"showarrow\":false,\"text\":\"Boroughs=Staten Island\",\"x\":0.908,\"xanchor\":\"center\",\"xref\":\"paper\",\"y\":1.0,\"yanchor\":\"bottom\",\"yref\":\"paper\"}],\"coloraxis\":{\"colorbar\":{\"title\":{\"text\":\"year\"}},\"colorscale\":[[0.0,\"#0d0887\"],[0.1111111111111111,\"#46039f\"],[0.2222222222222222,\"#7201a8\"],[0.3333333333333333,\"#9c179e\"],[0.4444444444444444,\"#bd3786\"],[0.5555555555555556,\"#d8576b\"],[0.6666666666666666,\"#ed7953\"],[0.7777777777777778,\"#fb9f3a\"],[0.8888888888888888,\"#fdca26\"],[1.0,\"#f0f921\"]]},\"legend\":{\"tracegroupgap\":0},\"margin\":{\"t\":60}},                        {\"responsive\": true}                    ).then(function(){\n",
       "                            \n",
       "var gd = document.getElementById('e06925f0-dde1-4b09-9f0d-6fb8ec0944f2');\n",
       "var x = new MutationObserver(function (mutations, observer) {{\n",
       "        var display = window.getComputedStyle(gd).display;\n",
       "        if (!display || display === 'none') {{\n",
       "            console.log([gd, 'removed!']);\n",
       "            Plotly.purge(gd);\n",
       "            observer.disconnect();\n",
       "        }}\n",
       "}});\n",
       "\n",
       "// Listen for the removal of the full notebook cells\n",
       "var notebookContainer = gd.closest('#notebook-container');\n",
       "if (notebookContainer) {{\n",
       "    x.observe(notebookContainer, {childList: true});\n",
       "}}\n",
       "\n",
       "// Listen for the clearing of the current output cell\n",
       "var outputEl = gd.closest('.output');\n",
       "if (outputEl) {{\n",
       "    x.observe(outputEl, {childList: true});\n",
       "}}\n",
       "\n",
       "                        })                };                });            </script>        </div>"
      ]
     },
     "metadata": {},
     "output_type": "display_data"
    }
   ],
   "source": [
    "fig = px.scatter(df, x=\"O3\", y=\"asthma_hosp\", color=\"year\",trendline=\"ols\", facet_col=\"Boroughs\")\n",
    "fig.show()"
   ]
  },
  {
   "cell_type": "code",
   "execution_count": 137,
   "id": "bf7bf7de",
   "metadata": {},
   "outputs": [
    {
     "data": {
      "application/vnd.plotly.v1+json": {
       "config": {
        "plotlyServerURL": "https://plotly.com"
       },
       "data": [
        {
         "hovertemplate": "Boroughs=Bronx<br>SO2=%{x}<br>asthma_hosp=%{y}<br>year=%{marker.color}<extra></extra>",
         "legendgroup": "",
         "marker": {
          "color": [
           2009,
           2009,
           2009,
           2009,
           2009,
           2009,
           2009,
           2010,
           2010,
           2010,
           2010,
           2010,
           2010,
           2010,
           2011,
           2011,
           2011,
           2011,
           2011,
           2011,
           2011,
           2012,
           2012,
           2012,
           2012,
           2012,
           2012,
           2012,
           2013,
           2013,
           2013,
           2013,
           2013,
           2013,
           2013,
           2014,
           2014,
           2014,
           2014,
           2014,
           2014,
           2014,
           2015,
           2015,
           2015,
           2015,
           2015,
           2015,
           2015,
           2016,
           2016,
           2016,
           2016,
           2016,
           2016,
           2016
          ],
          "coloraxis": "coloraxis",
          "symbol": "circle"
         },
         "mode": "markers",
         "name": "",
         "orientation": "v",
         "showlegend": false,
         "type": "scatter",
         "x": [
          6.62,
          5.38,
          9.48,
          5.15,
          9.36,
          8.99,
          5.22,
          4.16,
          3.37,
          6.03,
          3.34,
          6.1,
          5.99,
          3.54,
          5.31,
          4.25,
          7.67,
          4.27,
          7.79,
          7.62,
          4.5,
          3.71,
          2.8,
          5.06,
          2.5,
          4.92,
          4.75,
          2.63,
          2.23,
          1.53,
          3.15,
          1.54,
          3.28,
          3.33,
          1.81,
          1.71,
          1.61,
          2.71,
          1.84,
          2.86,
          2.8,
          1.87,
          1,
          1.11,
          1.54,
          0.96,
          1.35,
          1.2,
          0.82,
          0.3,
          0.29,
          0.46,
          0.28,
          0.43,
          0.39,
          0.25
         ],
         "xaxis": "x",
         "y": [
          61,
          282,
          693,
          588,
          631,
          657,
          504,
          74,
          285,
          563,
          491,
          552,
          505,
          435,
          65,
          303,
          528,
          552,
          529,
          533,
          457,
          67,
          320,
          559,
          609,
          524,
          571,
          501,
          72,
          319,
          589,
          515,
          559,
          627,
          453,
          71,
          324,
          648,
          521,
          567,
          624,
          478,
          60,
          268,
          548,
          523,
          463,
          574,
          431,
          53,
          265,
          545,
          441,
          427,
          565,
          361
         ],
         "yaxis": "y"
        },
        {
         "hovertemplate": "<b>OLS trendline</b><br>asthma_hosp = 19.519 * SO2 + 367.138<br>R<sup>2</sup>=0.069916<br><br>Boroughs=Bronx<br>SO2=%{x}<br>asthma_hosp=%{y} <b>(trend)</b><extra></extra>",
         "legendgroup": "",
         "marker": {
          "symbol": "circle"
         },
         "mode": "lines",
         "name": "",
         "showlegend": false,
         "type": "scatter",
         "x": [
          0.25,
          0.28,
          0.29,
          0.3,
          0.39,
          0.43,
          0.46,
          0.82,
          0.96,
          1,
          1.11,
          1.2,
          1.35,
          1.53,
          1.54,
          1.54,
          1.61,
          1.71,
          1.81,
          1.84,
          1.87,
          2.23,
          2.5,
          2.63,
          2.71,
          2.8,
          2.8,
          2.86,
          3.15,
          3.28,
          3.33,
          3.34,
          3.37,
          3.54,
          3.71,
          4.16,
          4.25,
          4.27,
          4.5,
          4.75,
          4.92,
          5.06,
          5.15,
          5.22,
          5.31,
          5.38,
          5.99,
          6.03,
          6.1,
          6.62,
          7.62,
          7.67,
          7.79,
          8.99,
          9.36,
          9.48
         ],
         "xaxis": "x",
         "y": [
          372.0175512852373,
          372.60312012784055,
          372.7983097420417,
          372.99349935624275,
          374.75020588405255,
          375.5309643408569,
          376.11653318346015,
          383.14335929469934,
          385.8760138935146,
          386.656772350319,
          388.8038581065309,
          390.5605646343407,
          393.48840884735705,
          397.00182190297664,
          397.19701151717777,
          397.19701151717777,
          398.5633388165854,
          400.51523495859624,
          402.46713110060716,
          403.0526999432104,
          403.6382687858137,
          410.6650948970529,
          415.9352144804823,
          418.4726794650964,
          420.03419637870513,
          421.79090290651493,
          421.79090290651493,
          422.96204059172146,
          428.622539403553,
          431.1600043881672,
          432.1359524591726,
          432.3311420733737,
          432.916710915977,
          436.23493435739545,
          439.55315779881397,
          448.336690437863,
          450.0933969656728,
          450.48377619407495,
          454.9731373207,
          459.8528776757272,
          463.1711011171457,
          465.903755715961,
          467.6604622437708,
          469.0267895431784,
          470.7834960709882,
          472.1498233703958,
          484.0563898366622,
          484.83714829346656,
          486.20347559287416,
          496.3533355313308,
          515.8722969514397,
          516.8482450224451,
          519.1905203928582,
          542.6132740969888,
          549.8352898224291,
          552.1775651928422
         ],
         "yaxis": "y"
        },
        {
         "hovertemplate": "Boroughs=Brooklyn<br>SO2=%{x}<br>asthma_hosp=%{y}<br>year=%{marker.color}<extra></extra>",
         "legendgroup": "",
         "marker": {
          "color": [
           2009,
           2009,
           2009,
           2009,
           2009,
           2009,
           2009,
           2009,
           2009,
           2009,
           2009,
           2010,
           2010,
           2010,
           2010,
           2010,
           2010,
           2010,
           2010,
           2010,
           2010,
           2010,
           2011,
           2011,
           2011,
           2011,
           2011,
           2011,
           2011,
           2011,
           2011,
           2011,
           2011,
           2012,
           2012,
           2012,
           2012,
           2012,
           2012,
           2012,
           2012,
           2012,
           2012,
           2012,
           2013,
           2013,
           2013,
           2013,
           2013,
           2013,
           2013,
           2013,
           2013,
           2013,
           2013,
           2014,
           2014,
           2014,
           2014,
           2014,
           2014,
           2014,
           2014,
           2014,
           2014,
           2014,
           2015,
           2015,
           2015,
           2015,
           2015,
           2015,
           2015,
           2015,
           2015,
           2015,
           2015,
           2016,
           2016,
           2016,
           2016,
           2016,
           2016,
           2016,
           2016,
           2016,
           2016,
           2016
          ],
          "coloraxis": "coloraxis",
          "symbol": "circle"
         },
         "mode": "markers",
         "name": "",
         "orientation": "v",
         "showlegend": false,
         "type": "scatter",
         "x": [
          4.25,
          4.14,
          4.62,
          3.89,
          3.79,
          4.28,
          4.6,
          3.22,
          3.37,
          3.21,
          4.78,
          2.93,
          2.65,
          3.19,
          2.86,
          2.32,
          2.77,
          3.12,
          2.33,
          2.1,
          2.21,
          3.33,
          3.66,
          3.42,
          3.91,
          3.36,
          3.07,
          3.48,
          3.8,
          2.67,
          2.72,
          2.59,
          4.12,
          1.95,
          1.76,
          1.88,
          1.57,
          1.49,
          1.61,
          1.78,
          1.21,
          1.25,
          1.14,
          2.05,
          1.17,
          0.91,
          1.11,
          1.01,
          0.76,
          0.87,
          1,
          0.77,
          0.67,
          0.7,
          1.25,
          1.39,
          1.15,
          1.28,
          1.17,
          1.05,
          1.08,
          1.14,
          0.86,
          0.95,
          0.84,
          1.45,
          0.58,
          0.46,
          0.52,
          0.47,
          0.43,
          0.48,
          0.49,
          0.4,
          0.43,
          0.43,
          0.58,
          0.19,
          0.18,
          0.22,
          0.21,
          0.17,
          0.2,
          0.21,
          0.18,
          0.17,
          0.18,
          0.22
         ],
         "xaxis": "x2",
         "y": [
          88,
          176,
          645,
          376,
          62,
          97,
          446,
          195,
          34,
          101,
          503,
          48,
          135,
          559,
          348,
          56,
          64,
          361,
          160,
          20,
          90,
          402,
          43,
          176,
          582,
          313,
          64,
          103,
          361,
          176,
          42,
          67,
          387,
          34,
          171,
          591,
          329,
          57,
          90,
          387,
          191,
          44,
          85,
          387,
          26,
          130,
          581,
          346,
          63,
          70,
          409,
          191,
          30,
          74,
          292,
          46,
          121,
          607,
          366,
          54,
          73,
          460,
          159,
          17,
          82,
          292,
          27,
          114,
          506,
          349,
          37,
          75,
          413,
          179,
          27,
          58,
          219,
          26,
          112,
          473,
          361,
          33,
          72,
          364,
          172,
          30,
          84,
          240
         ],
         "yaxis": "y2"
        },
        {
         "hovertemplate": "<b>OLS trendline</b><br>asthma_hosp = 28.6473 * SO2 + 154.175<br>R<sup>2</sup>=0.048515<br><br>Boroughs=Brooklyn<br>SO2=%{x}<br>asthma_hosp=%{y} <b>(trend)</b><extra></extra>",
         "legendgroup": "",
         "marker": {
          "symbol": "circle"
         },
         "mode": "lines",
         "name": "",
         "showlegend": false,
         "type": "scatter",
         "x": [
          0.17,
          0.17,
          0.18,
          0.18,
          0.18,
          0.19,
          0.2,
          0.21,
          0.21,
          0.22,
          0.22,
          0.4,
          0.43,
          0.43,
          0.43,
          0.46,
          0.47,
          0.48,
          0.49,
          0.52,
          0.58,
          0.58,
          0.67,
          0.7,
          0.76,
          0.77,
          0.84,
          0.86,
          0.87,
          0.91,
          0.95,
          1,
          1.01,
          1.05,
          1.08,
          1.11,
          1.14,
          1.14,
          1.15,
          1.17,
          1.17,
          1.21,
          1.25,
          1.25,
          1.28,
          1.39,
          1.45,
          1.49,
          1.57,
          1.61,
          1.76,
          1.78,
          1.88,
          1.95,
          2.05,
          2.1,
          2.21,
          2.32,
          2.33,
          2.59,
          2.65,
          2.67,
          2.72,
          2.77,
          2.86,
          2.93,
          3.07,
          3.12,
          3.19,
          3.21,
          3.22,
          3.33,
          3.36,
          3.37,
          3.42,
          3.48,
          3.66,
          3.79,
          3.8,
          3.89,
          3.91,
          4.12,
          4.14,
          4.25,
          4.28,
          4.6,
          4.62,
          4.78
         ],
         "xaxis": "x2",
         "y": [
          159.04512467689938,
          159.04512467689938,
          159.33159773945133,
          159.33159773945133,
          159.33159773945133,
          159.61807080200327,
          159.90454386455522,
          160.19101692710717,
          160.19101692710717,
          160.47748998965912,
          160.47748998965912,
          165.63400511559428,
          166.49342430325012,
          166.49342430325012,
          166.49342430325012,
          167.352843490906,
          167.63931655345795,
          167.9257896160099,
          168.21226267856184,
          169.07168186621772,
          170.79052024152944,
          170.79052024152944,
          173.368777804497,
          174.22819699215285,
          175.94703536746457,
          176.2335084300165,
          178.23881986788018,
          178.8117659929841,
          179.09823905553606,
          180.24413130574388,
          181.39002355595167,
          182.82238886871144,
          183.1088619312634,
          184.2547541814712,
          185.11417336912706,
          185.97359255678293,
          186.83301174443878,
          186.83301174443878,
          187.11948480699073,
          187.69243093209462,
          187.69243093209462,
          188.83832318230245,
          189.98421543251027,
          189.98421543251027,
          190.8436346201661,
          193.9948383082376,
          195.7136766835493,
          196.85956893375712,
          199.15135343417273,
          200.29724568438056,
          204.59434162265984,
          205.16728774776374,
          208.03201837328328,
          210.03732981114695,
          212.90206043666646,
          214.33442574942623,
          217.48562943749772,
          220.63683312556918,
          220.92330618812116,
          228.37160581447193,
          230.09044418978363,
          230.66339031488752,
          232.0957556276473,
          233.52812094040706,
          236.10637850337463,
          238.1116899412383,
          242.12231281696563,
          243.5546781297254,
          245.55998956758907,
          246.13293569269297,
          246.41940875524494,
          249.5706124433164,
          250.43003163097228,
          250.71650469352423,
          252.148870006284,
          253.86770838159572,
          259.02422350753085,
          262.74837332070626,
          263.0348463832582,
          265.6131039462258,
          266.1860500713297,
          272.2019843849207,
          272.7749305100246,
          275.92613419809607,
          276.78555338575194,
          285.9526913874144,
          286.5256375125183,
          291.1092065133496
         ],
         "yaxis": "y2"
        },
        {
         "hovertemplate": "Boroughs=Manhattan<br>SO2=%{x}<br>asthma_hosp=%{y}<br>year=%{marker.color}<extra></extra>",
         "legendgroup": "",
         "marker": {
          "color": [
           2009,
           2009,
           2009,
           2009,
           2009,
           2009,
           2009,
           2009,
           2009,
           2009,
           2010,
           2010,
           2010,
           2010,
           2010,
           2010,
           2010,
           2010,
           2010,
           2010,
           2011,
           2011,
           2011,
           2011,
           2011,
           2011,
           2011,
           2011,
           2011,
           2011,
           2012,
           2012,
           2012,
           2012,
           2012,
           2012,
           2012,
           2012,
           2012,
           2012,
           2013,
           2013,
           2013,
           2013,
           2013,
           2013,
           2013,
           2013,
           2013,
           2013,
           2014,
           2014,
           2014,
           2014,
           2014,
           2014,
           2014,
           2014,
           2014,
           2014,
           2015,
           2015,
           2015,
           2015,
           2015,
           2015,
           2015,
           2015,
           2015,
           2015,
           2016,
           2016,
           2016,
           2016,
           2016,
           2016,
           2016,
           2016,
           2016,
           2016
          ],
          "coloraxis": "coloraxis",
          "symbol": "circle"
         },
         "mode": "markers",
         "name": "",
         "orientation": "v",
         "showlegend": false,
         "type": "scatter",
         "x": [
          11.12,
          8.21,
          7.04,
          10.87,
          12.12,
          8.37,
          9.8,
          7.35,
          7.91,
          4.57,
          7.28,
          5.59,
          4.89,
          7.48,
          8.5,
          5.65,
          6.73,
          4.78,
          5.25,
          2.89,
          9.28,
          7.04,
          6.1,
          9.31,
          10.51,
          7.09,
          8.37,
          6.14,
          6.66,
          3.78,
          6.14,
          4.46,
          3.71,
          5.92,
          6.31,
          4.34,
          4.97,
          3.58,
          3.8,
          2.13,
          4.24,
          3.08,
          2.57,
          3.91,
          4.16,
          2.57,
          3.03,
          1.94,
          2.12,
          1.09,
          3.35,
          2.64,
          2.42,
          3.49,
          3.84,
          2.73,
          3.15,
          2.24,
          2.48,
          1.37,
          1.5,
          1.09,
          1,
          1.4,
          1.49,
          1.13,
          1.28,
          0.88,
          0.97,
          0.55,
          0.5,
          0.35,
          0.3,
          0.44,
          0.45,
          0.36,
          0.4,
          0.31,
          0.33,
          0.2
         ],
         "xaxis": "x3",
         "y": [
          168,
          298,
          254,
          87,
          49,
          27,
          17,
          8,
          80,
          10,
          176,
          246,
          240,
          77,
          48,
          32,
          20,
          0,
          59,
          8,
          164,
          259,
          212,
          75,
          51,
          25,
          9,
          0,
          67,
          9,
          160,
          299,
          203,
          57,
          53,
          30,
          13,
          7,
          77,
          0,
          161,
          276,
          222,
          56,
          41,
          21,
          16,
          6,
          67,
          4,
          217,
          233,
          239,
          64,
          40,
          32,
          14,
          4,
          57,
          2,
          175,
          234,
          197,
          51,
          42,
          21,
          5,
          1,
          67,
          4,
          210,
          284,
          151,
          43,
          39,
          11,
          8,
          4,
          73,
          7
         ],
         "yaxis": "y3"
        },
        {
         "hovertemplate": "<b>OLS trendline</b><br>asthma_hosp = 2.47112 * SO2 + 77.9908<br>R<sup>2</sup>=0.006802<br><br>Boroughs=Manhattan<br>SO2=%{x}<br>asthma_hosp=%{y} <b>(trend)</b><extra></extra>",
         "legendgroup": "",
         "marker": {
          "symbol": "circle"
         },
         "mode": "lines",
         "name": "",
         "showlegend": false,
         "type": "scatter",
         "x": [
          0.2,
          0.3,
          0.31,
          0.33,
          0.35,
          0.36,
          0.4,
          0.44,
          0.45,
          0.5,
          0.55,
          0.88,
          0.97,
          1,
          1.09,
          1.09,
          1.13,
          1.28,
          1.37,
          1.4,
          1.49,
          1.5,
          1.94,
          2.12,
          2.13,
          2.24,
          2.42,
          2.48,
          2.57,
          2.57,
          2.64,
          2.73,
          2.89,
          3.03,
          3.08,
          3.15,
          3.35,
          3.49,
          3.58,
          3.71,
          3.78,
          3.8,
          3.84,
          3.91,
          4.16,
          4.24,
          4.34,
          4.46,
          4.57,
          4.78,
          4.89,
          4.97,
          5.25,
          5.59,
          5.65,
          5.92,
          6.1,
          6.14,
          6.14,
          6.31,
          6.66,
          6.73,
          7.04,
          7.04,
          7.09,
          7.28,
          7.35,
          7.48,
          7.91,
          8.21,
          8.37,
          8.37,
          8.5,
          9.28,
          9.31,
          9.8,
          10.51,
          10.87,
          11.12,
          12.12
         ],
         "xaxis": "x3",
         "y": [
          78.48506734177091,
          78.73217976364413,
          78.75689100583145,
          78.8063134902061,
          78.85573597458074,
          78.88044721676805,
          78.97929218551734,
          79.07813715426663,
          79.10284839645395,
          79.22640460739055,
          79.34996081832716,
          80.16543181050878,
          80.38783299019467,
          80.46196671675663,
          80.68436789644252,
          80.68436789644252,
          80.78321286519181,
          81.15388149800164,
          81.37628267768753,
          81.4504164042495,
          81.67281758393538,
          81.6975288261227,
          82.78482348236486,
          83.22962584173665,
          83.25433708392397,
          83.5261607479845,
          83.9709631073563,
          84.11923056048022,
          84.34163174016612,
          84.34163174016612,
          84.51461043547737,
          84.73701161516327,
          85.1323914901604,
          85.4783488807829,
          85.60190509171952,
          85.77488378703077,
          86.2691086307772,
          86.6150660213997,
          86.83746720108559,
          87.15871334952078,
          87.33169204483202,
          87.38111452920667,
          87.47995949795596,
          87.6529381932672,
          88.27071924795024,
          88.46840918544882,
          88.71552160732203,
          89.01205651356989,
          89.28388017763044,
          89.80281626356418,
          90.07463992762472,
          90.27232986512328,
          90.9642446463683,
          91.80442688073722,
          91.95269433386116,
          92.61989787291884,
          93.06470023229062,
          93.16354520103991,
          93.16354520103991,
          93.58363631822438,
          94.44852979478063,
          94.62150849009188,
          95.38755699789886,
          95.38755699789886,
          95.51111320883547,
          95.98062681039457,
          96.15360550570583,
          96.474851654141,
          97.53743506819583,
          98.27877233381548,
          98.67415220881261,
          98.67415220881261,
          98.99539835724781,
          100.92287524785888,
          100.99700897442085,
          102.2078598415996,
          103.96235803689943,
          104.851962755643,
          105.46974381032605,
          107.94086802905821
         ],
         "yaxis": "y3"
        },
        {
         "hovertemplate": "Boroughs=Queens<br>SO2=%{x}<br>asthma_hosp=%{y}<br>year=%{marker.color}<extra></extra>",
         "legendgroup": "",
         "marker": {
          "color": [
           2009,
           2009,
           2009,
           2009,
           2009,
           2009,
           2009,
           2009,
           2009,
           2009,
           2010,
           2010,
           2010,
           2010,
           2010,
           2010,
           2010,
           2010,
           2010,
           2010,
           2011,
           2011,
           2011,
           2011,
           2011,
           2011,
           2011,
           2011,
           2011,
           2011,
           2012,
           2012,
           2012,
           2012,
           2012,
           2012,
           2012,
           2012,
           2012,
           2012,
           2013,
           2013,
           2013,
           2013,
           2013,
           2013,
           2013,
           2013,
           2013,
           2013,
           2014,
           2014,
           2014,
           2014,
           2014,
           2014,
           2014,
           2014,
           2014,
           2014,
           2015,
           2015,
           2015,
           2015,
           2015,
           2015,
           2015,
           2015,
           2015,
           2015,
           2016,
           2016,
           2016,
           2016,
           2016,
           2016,
           2016,
           2016,
           2016,
           2016
          ],
          "coloraxis": "coloraxis",
          "symbol": "circle"
         },
         "mode": "markers",
         "name": "",
         "orientation": "v",
         "showlegend": false,
         "type": "scatter",
         "x": [
          5.11,
          5.38,
          4.49,
          3.69,
          4.5,
          4.02,
          3.72,
          3.53,
          3.18,
          2.39,
          3.63,
          3.84,
          3.01,
          2.41,
          3.25,
          2.78,
          2.76,
          2.52,
          2.21,
          1.9,
          4.5,
          4.79,
          3.85,
          3.02,
          3.99,
          3.47,
          3.22,
          2.97,
          2.56,
          1.9,
          2.49,
          2.44,
          1.97,
          1.56,
          1.92,
          1.7,
          1.52,
          1.45,
          1.3,
          0.88,
          1.68,
          1.6,
          1.17,
          0.75,
          1.21,
          0.98,
          0.93,
          0.77,
          0.6,
          0.51,
          1.89,
          2,
          1.85,
          1.5,
          1.54,
          1.61,
          1.21,
          1.24,
          1.14,
          0.64,
          0.79,
          0.78,
          0.74,
          0.57,
          0.58,
          0.57,
          0.45,
          0.43,
          0.41,
          0.31,
          0.24,
          0.25,
          0.27,
          0.27,
          0.23,
          0.26,
          0.23,
          0.25,
          0.26,
          0.2
         ],
         "xaxis": "x4",
         "y": [
          79,
          225,
          84,
          34,
          157,
          50,
          269,
          431,
          224,
          185,
          86,
          197,
          89,
          23,
          160,
          46,
          226,
          343,
          173,
          177,
          80,
          187,
          83,
          7,
          149,
          48,
          170,
          267,
          157,
          132,
          70,
          234,
          68,
          31,
          146,
          37,
          218,
          257,
          176,
          86,
          66,
          202,
          82,
          12,
          87,
          49,
          181,
          288,
          158,
          86,
          67,
          249,
          75,
          21,
          109,
          34,
          209,
          276,
          162,
          100,
          47,
          177,
          70,
          19,
          95,
          57,
          183,
          261,
          135,
          86,
          55,
          199,
          79,
          7,
          97,
          51,
          146,
          239,
          115,
          73
         ],
         "yaxis": "y4"
        },
        {
         "hovertemplate": "<b>OLS trendline</b><br>asthma_hosp = 8.74891 * SO2 + 115.36<br>R<sup>2</sup>=0.019878<br><br>Boroughs=Queens<br>SO2=%{x}<br>asthma_hosp=%{y} <b>(trend)</b><extra></extra>",
         "legendgroup": "",
         "marker": {
          "symbol": "circle"
         },
         "mode": "lines",
         "name": "",
         "showlegend": false,
         "type": "scatter",
         "x": [
          0.2,
          0.23,
          0.23,
          0.24,
          0.25,
          0.25,
          0.26,
          0.26,
          0.27,
          0.27,
          0.31,
          0.41,
          0.43,
          0.45,
          0.51,
          0.57,
          0.57,
          0.58,
          0.6,
          0.64,
          0.74,
          0.75,
          0.77,
          0.78,
          0.79,
          0.88,
          0.93,
          0.98,
          1.14,
          1.17,
          1.21,
          1.21,
          1.24,
          1.3,
          1.45,
          1.5,
          1.52,
          1.54,
          1.56,
          1.6,
          1.61,
          1.68,
          1.7,
          1.85,
          1.89,
          1.9,
          1.9,
          1.92,
          1.97,
          2,
          2.21,
          2.39,
          2.41,
          2.44,
          2.49,
          2.52,
          2.56,
          2.76,
          2.78,
          2.97,
          3.01,
          3.02,
          3.18,
          3.22,
          3.25,
          3.47,
          3.53,
          3.63,
          3.69,
          3.72,
          3.84,
          3.85,
          3.99,
          4.02,
          4.49,
          4.5,
          4.5,
          4.79,
          5.11,
          5.38
         ],
         "xaxis": "x4",
         "y": [
          117.10951750039942,
          117.37198483016643,
          117.37198483016643,
          117.45947394008876,
          117.54696305001109,
          117.54696305001109,
          117.63445215993342,
          117.63445215993342,
          117.72194126985575,
          117.72194126985575,
          118.07189770954508,
          118.9467888087684,
          119.12176702861306,
          119.29674524845773,
          119.82167990799172,
          120.3466145675257,
          120.3466145675257,
          120.43410367744804,
          120.60908189729271,
          120.95903833698203,
          121.83392943620535,
          121.92141854612768,
          122.09639676597236,
          122.18388587589469,
          122.27137498581702,
          123.05877697511801,
          123.49622252472966,
          123.93366807434133,
          125.33349383309864,
          125.59596116286563,
          125.94591760255497,
          125.94591760255497,
          126.20838493232196,
          126.73331959185596,
          128.04565624069093,
          128.48310179030258,
          128.65808001014727,
          128.83305822999193,
          129.0080364498366,
          129.35799288952592,
          129.44548199944825,
          130.05790576890456,
          130.23288398874925,
          131.5452206375842,
          131.89517707727356,
          131.9826661871959,
          131.9826661871959,
          132.15764440704055,
          132.5950899566522,
          132.8575572864192,
          134.69482859478816,
          136.26963257339014,
          136.44461079323483,
          136.70707812300182,
          137.14452367261347,
          137.40699100238047,
          137.7569474420698,
          139.50672964051643,
          139.68170786036112,
          141.34400094888542,
          141.69395738857474,
          141.78144649849708,
          143.1812722572544,
          143.5312286969437,
          143.7936960267107,
          145.71845644500203,
          146.24339110453602,
          147.11828220375932,
          147.64321686329333,
          147.90568419306032,
          148.9555535121283,
          149.04304262205065,
          150.2678901609633,
          150.5303574907303,
          154.6423456570799,
          154.72983476700222,
          154.72983476700222,
          157.26701895474986,
          160.0666704722645,
          162.42887644016744
         ],
         "yaxis": "y4"
        },
        {
         "hovertemplate": "Boroughs=Staten Island<br>SO2=%{x}<br>asthma_hosp=%{y}<br>year=%{marker.color}<extra></extra>",
         "legendgroup": "",
         "marker": {
          "color": [
           2009,
           2009,
           2009,
           2009,
           2010,
           2010,
           2010,
           2010,
           2011,
           2011,
           2011,
           2011,
           2012,
           2012,
           2012,
           2012,
           2013,
           2013,
           2013,
           2013,
           2014,
           2014,
           2014,
           2014,
           2015,
           2015,
           2015,
           2015,
           2016,
           2016,
           2016,
           2016
          ],
          "coloraxis": "coloraxis",
          "symbol": "circle"
         },
         "mode": "markers",
         "name": "",
         "orientation": "v",
         "showlegend": false,
         "type": "scatter",
         "x": [
          2.49,
          2.53,
          2.17,
          1.84,
          1.35,
          1.45,
          1.18,
          1.01,
          2.08,
          2.08,
          1.83,
          1.56,
          1.04,
          0.98,
          0.86,
          0.66,
          0.49,
          0.49,
          0.44,
          0.39,
          0.97,
          0.91,
          0.88,
          0.73,
          0.31,
          0.35,
          0.28,
          0.22,
          0.12,
          0.13,
          0.12,
          0.11
         ],
         "xaxis": "x5",
         "y": [
          80,
          78,
          35,
          47,
          56,
          85,
          12,
          43,
          65,
          63,
          18,
          36,
          79,
          65,
          14,
          38,
          64,
          77,
          12,
          39,
          67,
          80,
          11,
          40,
          68,
          59,
          12,
          38,
          83,
          72,
          12,
          36
         ],
         "yaxis": "y5"
        },
        {
         "hovertemplate": "<b>OLS trendline</b><br>asthma_hosp = 6.61158 * SO2 + 42.8781<br>R<sup>2</sup>=0.038276<br><br>Boroughs=Staten Island<br>SO2=%{x}<br>asthma_hosp=%{y} <b>(trend)</b><extra></extra>",
         "legendgroup": "",
         "marker": {
          "symbol": "circle"
         },
         "mode": "lines",
         "name": "",
         "showlegend": false,
         "type": "scatter",
         "x": [
          0.11,
          0.12,
          0.12,
          0.13,
          0.22,
          0.28,
          0.31,
          0.35,
          0.39,
          0.44,
          0.49,
          0.49,
          0.66,
          0.73,
          0.86,
          0.88,
          0.91,
          0.97,
          0.98,
          1.01,
          1.04,
          1.18,
          1.35,
          1.45,
          1.56,
          1.83,
          1.84,
          2.08,
          2.08,
          2.17,
          2.49,
          2.53
         ],
         "xaxis": "x5",
         "y": [
          43.60536426679949,
          43.67148005490409,
          43.67148005490409,
          43.737595843008684,
          44.33263793595006,
          44.72933266457765,
          44.927680028891444,
          45.19214318130983,
          45.45660633372822,
          45.78718527425121,
          46.1177642147742,
          46.1177642147742,
          47.241732612552354,
          47.70454312928453,
          48.5640483746443,
          48.696279950853494,
          48.894627315167284,
          49.29132204379487,
          49.35743783189947,
          49.55578519621326,
          49.754132560527054,
          50.679753593991414,
          51.80372199176957,
          52.464879872815544,
          53.19215354196612,
          54.97727982079025,
          55.04339560889485,
          56.63017452340519,
          56.63017452340519,
          57.22521661634656,
          59.34092183569368,
          59.605384988112064
         ],
         "yaxis": "y5"
        }
       ],
       "layout": {
        "annotations": [
         {
          "font": {},
          "showarrow": false,
          "text": "Boroughs=Bronx",
          "x": 0.09200000000000001,
          "xanchor": "center",
          "xref": "paper",
          "y": 1,
          "yanchor": "bottom",
          "yref": "paper"
         },
         {
          "font": {},
          "showarrow": false,
          "text": "Boroughs=Brooklyn",
          "x": 0.29600000000000004,
          "xanchor": "center",
          "xref": "paper",
          "y": 1,
          "yanchor": "bottom",
          "yref": "paper"
         },
         {
          "font": {},
          "showarrow": false,
          "text": "Boroughs=Manhattan",
          "x": 0.5,
          "xanchor": "center",
          "xref": "paper",
          "y": 1,
          "yanchor": "bottom",
          "yref": "paper"
         },
         {
          "font": {},
          "showarrow": false,
          "text": "Boroughs=Queens",
          "x": 0.7040000000000002,
          "xanchor": "center",
          "xref": "paper",
          "y": 1,
          "yanchor": "bottom",
          "yref": "paper"
         },
         {
          "font": {},
          "showarrow": false,
          "text": "Boroughs=Staten Island",
          "x": 0.908,
          "xanchor": "center",
          "xref": "paper",
          "y": 1,
          "yanchor": "bottom",
          "yref": "paper"
         }
        ],
        "coloraxis": {
         "colorbar": {
          "title": {
           "text": "year"
          }
         },
         "colorscale": [
          [
           0,
           "#0d0887"
          ],
          [
           0.1111111111111111,
           "#46039f"
          ],
          [
           0.2222222222222222,
           "#7201a8"
          ],
          [
           0.3333333333333333,
           "#9c179e"
          ],
          [
           0.4444444444444444,
           "#bd3786"
          ],
          [
           0.5555555555555556,
           "#d8576b"
          ],
          [
           0.6666666666666666,
           "#ed7953"
          ],
          [
           0.7777777777777778,
           "#fb9f3a"
          ],
          [
           0.8888888888888888,
           "#fdca26"
          ],
          [
           1,
           "#f0f921"
          ]
         ]
        },
        "legend": {
         "tracegroupgap": 0
        },
        "margin": {
         "t": 60
        },
        "template": {
         "data": {
          "bar": [
           {
            "error_x": {
             "color": "#2a3f5f"
            },
            "error_y": {
             "color": "#2a3f5f"
            },
            "marker": {
             "line": {
              "color": "#E5ECF6",
              "width": 0.5
             },
             "pattern": {
              "fillmode": "overlay",
              "size": 10,
              "solidity": 0.2
             }
            },
            "type": "bar"
           }
          ],
          "barpolar": [
           {
            "marker": {
             "line": {
              "color": "#E5ECF6",
              "width": 0.5
             },
             "pattern": {
              "fillmode": "overlay",
              "size": 10,
              "solidity": 0.2
             }
            },
            "type": "barpolar"
           }
          ],
          "carpet": [
           {
            "aaxis": {
             "endlinecolor": "#2a3f5f",
             "gridcolor": "white",
             "linecolor": "white",
             "minorgridcolor": "white",
             "startlinecolor": "#2a3f5f"
            },
            "baxis": {
             "endlinecolor": "#2a3f5f",
             "gridcolor": "white",
             "linecolor": "white",
             "minorgridcolor": "white",
             "startlinecolor": "#2a3f5f"
            },
            "type": "carpet"
           }
          ],
          "choropleth": [
           {
            "colorbar": {
             "outlinewidth": 0,
             "ticks": ""
            },
            "type": "choropleth"
           }
          ],
          "contour": [
           {
            "colorbar": {
             "outlinewidth": 0,
             "ticks": ""
            },
            "colorscale": [
             [
              0,
              "#0d0887"
             ],
             [
              0.1111111111111111,
              "#46039f"
             ],
             [
              0.2222222222222222,
              "#7201a8"
             ],
             [
              0.3333333333333333,
              "#9c179e"
             ],
             [
              0.4444444444444444,
              "#bd3786"
             ],
             [
              0.5555555555555556,
              "#d8576b"
             ],
             [
              0.6666666666666666,
              "#ed7953"
             ],
             [
              0.7777777777777778,
              "#fb9f3a"
             ],
             [
              0.8888888888888888,
              "#fdca26"
             ],
             [
              1,
              "#f0f921"
             ]
            ],
            "type": "contour"
           }
          ],
          "contourcarpet": [
           {
            "colorbar": {
             "outlinewidth": 0,
             "ticks": ""
            },
            "type": "contourcarpet"
           }
          ],
          "heatmap": [
           {
            "colorbar": {
             "outlinewidth": 0,
             "ticks": ""
            },
            "colorscale": [
             [
              0,
              "#0d0887"
             ],
             [
              0.1111111111111111,
              "#46039f"
             ],
             [
              0.2222222222222222,
              "#7201a8"
             ],
             [
              0.3333333333333333,
              "#9c179e"
             ],
             [
              0.4444444444444444,
              "#bd3786"
             ],
             [
              0.5555555555555556,
              "#d8576b"
             ],
             [
              0.6666666666666666,
              "#ed7953"
             ],
             [
              0.7777777777777778,
              "#fb9f3a"
             ],
             [
              0.8888888888888888,
              "#fdca26"
             ],
             [
              1,
              "#f0f921"
             ]
            ],
            "type": "heatmap"
           }
          ],
          "heatmapgl": [
           {
            "colorbar": {
             "outlinewidth": 0,
             "ticks": ""
            },
            "colorscale": [
             [
              0,
              "#0d0887"
             ],
             [
              0.1111111111111111,
              "#46039f"
             ],
             [
              0.2222222222222222,
              "#7201a8"
             ],
             [
              0.3333333333333333,
              "#9c179e"
             ],
             [
              0.4444444444444444,
              "#bd3786"
             ],
             [
              0.5555555555555556,
              "#d8576b"
             ],
             [
              0.6666666666666666,
              "#ed7953"
             ],
             [
              0.7777777777777778,
              "#fb9f3a"
             ],
             [
              0.8888888888888888,
              "#fdca26"
             ],
             [
              1,
              "#f0f921"
             ]
            ],
            "type": "heatmapgl"
           }
          ],
          "histogram": [
           {
            "marker": {
             "pattern": {
              "fillmode": "overlay",
              "size": 10,
              "solidity": 0.2
             }
            },
            "type": "histogram"
           }
          ],
          "histogram2d": [
           {
            "colorbar": {
             "outlinewidth": 0,
             "ticks": ""
            },
            "colorscale": [
             [
              0,
              "#0d0887"
             ],
             [
              0.1111111111111111,
              "#46039f"
             ],
             [
              0.2222222222222222,
              "#7201a8"
             ],
             [
              0.3333333333333333,
              "#9c179e"
             ],
             [
              0.4444444444444444,
              "#bd3786"
             ],
             [
              0.5555555555555556,
              "#d8576b"
             ],
             [
              0.6666666666666666,
              "#ed7953"
             ],
             [
              0.7777777777777778,
              "#fb9f3a"
             ],
             [
              0.8888888888888888,
              "#fdca26"
             ],
             [
              1,
              "#f0f921"
             ]
            ],
            "type": "histogram2d"
           }
          ],
          "histogram2dcontour": [
           {
            "colorbar": {
             "outlinewidth": 0,
             "ticks": ""
            },
            "colorscale": [
             [
              0,
              "#0d0887"
             ],
             [
              0.1111111111111111,
              "#46039f"
             ],
             [
              0.2222222222222222,
              "#7201a8"
             ],
             [
              0.3333333333333333,
              "#9c179e"
             ],
             [
              0.4444444444444444,
              "#bd3786"
             ],
             [
              0.5555555555555556,
              "#d8576b"
             ],
             [
              0.6666666666666666,
              "#ed7953"
             ],
             [
              0.7777777777777778,
              "#fb9f3a"
             ],
             [
              0.8888888888888888,
              "#fdca26"
             ],
             [
              1,
              "#f0f921"
             ]
            ],
            "type": "histogram2dcontour"
           }
          ],
          "mesh3d": [
           {
            "colorbar": {
             "outlinewidth": 0,
             "ticks": ""
            },
            "type": "mesh3d"
           }
          ],
          "parcoords": [
           {
            "line": {
             "colorbar": {
              "outlinewidth": 0,
              "ticks": ""
             }
            },
            "type": "parcoords"
           }
          ],
          "pie": [
           {
            "automargin": true,
            "type": "pie"
           }
          ],
          "scatter": [
           {
            "marker": {
             "colorbar": {
              "outlinewidth": 0,
              "ticks": ""
             }
            },
            "type": "scatter"
           }
          ],
          "scatter3d": [
           {
            "line": {
             "colorbar": {
              "outlinewidth": 0,
              "ticks": ""
             }
            },
            "marker": {
             "colorbar": {
              "outlinewidth": 0,
              "ticks": ""
             }
            },
            "type": "scatter3d"
           }
          ],
          "scattercarpet": [
           {
            "marker": {
             "colorbar": {
              "outlinewidth": 0,
              "ticks": ""
             }
            },
            "type": "scattercarpet"
           }
          ],
          "scattergeo": [
           {
            "marker": {
             "colorbar": {
              "outlinewidth": 0,
              "ticks": ""
             }
            },
            "type": "scattergeo"
           }
          ],
          "scattergl": [
           {
            "marker": {
             "colorbar": {
              "outlinewidth": 0,
              "ticks": ""
             }
            },
            "type": "scattergl"
           }
          ],
          "scattermapbox": [
           {
            "marker": {
             "colorbar": {
              "outlinewidth": 0,
              "ticks": ""
             }
            },
            "type": "scattermapbox"
           }
          ],
          "scatterpolar": [
           {
            "marker": {
             "colorbar": {
              "outlinewidth": 0,
              "ticks": ""
             }
            },
            "type": "scatterpolar"
           }
          ],
          "scatterpolargl": [
           {
            "marker": {
             "colorbar": {
              "outlinewidth": 0,
              "ticks": ""
             }
            },
            "type": "scatterpolargl"
           }
          ],
          "scatterternary": [
           {
            "marker": {
             "colorbar": {
              "outlinewidth": 0,
              "ticks": ""
             }
            },
            "type": "scatterternary"
           }
          ],
          "surface": [
           {
            "colorbar": {
             "outlinewidth": 0,
             "ticks": ""
            },
            "colorscale": [
             [
              0,
              "#0d0887"
             ],
             [
              0.1111111111111111,
              "#46039f"
             ],
             [
              0.2222222222222222,
              "#7201a8"
             ],
             [
              0.3333333333333333,
              "#9c179e"
             ],
             [
              0.4444444444444444,
              "#bd3786"
             ],
             [
              0.5555555555555556,
              "#d8576b"
             ],
             [
              0.6666666666666666,
              "#ed7953"
             ],
             [
              0.7777777777777778,
              "#fb9f3a"
             ],
             [
              0.8888888888888888,
              "#fdca26"
             ],
             [
              1,
              "#f0f921"
             ]
            ],
            "type": "surface"
           }
          ],
          "table": [
           {
            "cells": {
             "fill": {
              "color": "#EBF0F8"
             },
             "line": {
              "color": "white"
             }
            },
            "header": {
             "fill": {
              "color": "#C8D4E3"
             },
             "line": {
              "color": "white"
             }
            },
            "type": "table"
           }
          ]
         },
         "layout": {
          "annotationdefaults": {
           "arrowcolor": "#2a3f5f",
           "arrowhead": 0,
           "arrowwidth": 1
          },
          "autotypenumbers": "strict",
          "coloraxis": {
           "colorbar": {
            "outlinewidth": 0,
            "ticks": ""
           }
          },
          "colorscale": {
           "diverging": [
            [
             0,
             "#8e0152"
            ],
            [
             0.1,
             "#c51b7d"
            ],
            [
             0.2,
             "#de77ae"
            ],
            [
             0.3,
             "#f1b6da"
            ],
            [
             0.4,
             "#fde0ef"
            ],
            [
             0.5,
             "#f7f7f7"
            ],
            [
             0.6,
             "#e6f5d0"
            ],
            [
             0.7,
             "#b8e186"
            ],
            [
             0.8,
             "#7fbc41"
            ],
            [
             0.9,
             "#4d9221"
            ],
            [
             1,
             "#276419"
            ]
           ],
           "sequential": [
            [
             0,
             "#0d0887"
            ],
            [
             0.1111111111111111,
             "#46039f"
            ],
            [
             0.2222222222222222,
             "#7201a8"
            ],
            [
             0.3333333333333333,
             "#9c179e"
            ],
            [
             0.4444444444444444,
             "#bd3786"
            ],
            [
             0.5555555555555556,
             "#d8576b"
            ],
            [
             0.6666666666666666,
             "#ed7953"
            ],
            [
             0.7777777777777778,
             "#fb9f3a"
            ],
            [
             0.8888888888888888,
             "#fdca26"
            ],
            [
             1,
             "#f0f921"
            ]
           ],
           "sequentialminus": [
            [
             0,
             "#0d0887"
            ],
            [
             0.1111111111111111,
             "#46039f"
            ],
            [
             0.2222222222222222,
             "#7201a8"
            ],
            [
             0.3333333333333333,
             "#9c179e"
            ],
            [
             0.4444444444444444,
             "#bd3786"
            ],
            [
             0.5555555555555556,
             "#d8576b"
            ],
            [
             0.6666666666666666,
             "#ed7953"
            ],
            [
             0.7777777777777778,
             "#fb9f3a"
            ],
            [
             0.8888888888888888,
             "#fdca26"
            ],
            [
             1,
             "#f0f921"
            ]
           ]
          },
          "colorway": [
           "#636efa",
           "#EF553B",
           "#00cc96",
           "#ab63fa",
           "#FFA15A",
           "#19d3f3",
           "#FF6692",
           "#B6E880",
           "#FF97FF",
           "#FECB52"
          ],
          "font": {
           "color": "#2a3f5f"
          },
          "geo": {
           "bgcolor": "white",
           "lakecolor": "white",
           "landcolor": "#E5ECF6",
           "showlakes": true,
           "showland": true,
           "subunitcolor": "white"
          },
          "hoverlabel": {
           "align": "left"
          },
          "hovermode": "closest",
          "mapbox": {
           "style": "light"
          },
          "paper_bgcolor": "white",
          "plot_bgcolor": "#E5ECF6",
          "polar": {
           "angularaxis": {
            "gridcolor": "white",
            "linecolor": "white",
            "ticks": ""
           },
           "bgcolor": "#E5ECF6",
           "radialaxis": {
            "gridcolor": "white",
            "linecolor": "white",
            "ticks": ""
           }
          },
          "scene": {
           "xaxis": {
            "backgroundcolor": "#E5ECF6",
            "gridcolor": "white",
            "gridwidth": 2,
            "linecolor": "white",
            "showbackground": true,
            "ticks": "",
            "zerolinecolor": "white"
           },
           "yaxis": {
            "backgroundcolor": "#E5ECF6",
            "gridcolor": "white",
            "gridwidth": 2,
            "linecolor": "white",
            "showbackground": true,
            "ticks": "",
            "zerolinecolor": "white"
           },
           "zaxis": {
            "backgroundcolor": "#E5ECF6",
            "gridcolor": "white",
            "gridwidth": 2,
            "linecolor": "white",
            "showbackground": true,
            "ticks": "",
            "zerolinecolor": "white"
           }
          },
          "shapedefaults": {
           "line": {
            "color": "#2a3f5f"
           }
          },
          "ternary": {
           "aaxis": {
            "gridcolor": "white",
            "linecolor": "white",
            "ticks": ""
           },
           "baxis": {
            "gridcolor": "white",
            "linecolor": "white",
            "ticks": ""
           },
           "bgcolor": "#E5ECF6",
           "caxis": {
            "gridcolor": "white",
            "linecolor": "white",
            "ticks": ""
           }
          },
          "title": {
           "x": 0.05
          },
          "xaxis": {
           "automargin": true,
           "gridcolor": "white",
           "linecolor": "white",
           "ticks": "",
           "title": {
            "standoff": 15
           },
           "zerolinecolor": "white",
           "zerolinewidth": 2
          },
          "yaxis": {
           "automargin": true,
           "gridcolor": "white",
           "linecolor": "white",
           "ticks": "",
           "title": {
            "standoff": 15
           },
           "zerolinecolor": "white",
           "zerolinewidth": 2
          }
         }
        },
        "xaxis": {
         "anchor": "y",
         "domain": [
          0,
          0.18400000000000002
         ],
         "title": {
          "text": "SO2"
         }
        },
        "xaxis2": {
         "anchor": "y2",
         "domain": [
          0.20400000000000001,
          0.388
         ],
         "matches": "x",
         "title": {
          "text": "SO2"
         }
        },
        "xaxis3": {
         "anchor": "y3",
         "domain": [
          0.40800000000000003,
          0.5920000000000001
         ],
         "matches": "x",
         "title": {
          "text": "SO2"
         }
        },
        "xaxis4": {
         "anchor": "y4",
         "domain": [
          0.6120000000000001,
          0.7960000000000002
         ],
         "matches": "x",
         "title": {
          "text": "SO2"
         }
        },
        "xaxis5": {
         "anchor": "y5",
         "domain": [
          0.8160000000000001,
          1
         ],
         "matches": "x",
         "title": {
          "text": "SO2"
         }
        },
        "yaxis": {
         "anchor": "x",
         "domain": [
          0,
          1
         ],
         "title": {
          "text": "asthma_hosp"
         }
        },
        "yaxis2": {
         "anchor": "x2",
         "domain": [
          0,
          1
         ],
         "matches": "y",
         "showticklabels": false
        },
        "yaxis3": {
         "anchor": "x3",
         "domain": [
          0,
          1
         ],
         "matches": "y",
         "showticklabels": false
        },
        "yaxis4": {
         "anchor": "x4",
         "domain": [
          0,
          1
         ],
         "matches": "y",
         "showticklabels": false
        },
        "yaxis5": {
         "anchor": "x5",
         "domain": [
          0,
          1
         ],
         "matches": "y",
         "showticklabels": false
        }
       }
      },
      "text/html": [
       "<div>                            <div id=\"b85be4df-459b-4e16-a0a0-715650fe971b\" class=\"plotly-graph-div\" style=\"height:525px; width:100%;\"></div>            <script type=\"text/javascript\">                require([\"plotly\"], function(Plotly) {                    window.PLOTLYENV=window.PLOTLYENV || {};                                    if (document.getElementById(\"b85be4df-459b-4e16-a0a0-715650fe971b\")) {                    Plotly.newPlot(                        \"b85be4df-459b-4e16-a0a0-715650fe971b\",                        [{\"hovertemplate\":\"Boroughs=Bronx<br>SO2=%{x}<br>asthma_hosp=%{y}<br>year=%{marker.color}<extra></extra>\",\"legendgroup\":\"\",\"marker\":{\"color\":[2009,2009,2009,2009,2009,2009,2009,2010,2010,2010,2010,2010,2010,2010,2011,2011,2011,2011,2011,2011,2011,2012,2012,2012,2012,2012,2012,2012,2013,2013,2013,2013,2013,2013,2013,2014,2014,2014,2014,2014,2014,2014,2015,2015,2015,2015,2015,2015,2015,2016,2016,2016,2016,2016,2016,2016],\"coloraxis\":\"coloraxis\",\"symbol\":\"circle\"},\"mode\":\"markers\",\"name\":\"\",\"orientation\":\"v\",\"showlegend\":false,\"x\":[6.62,5.38,9.48,5.15,9.36,8.99,5.22,4.16,3.37,6.03,3.34,6.1,5.99,3.54,5.31,4.25,7.67,4.27,7.79,7.62,4.5,3.71,2.8,5.06,2.5,4.92,4.75,2.63,2.23,1.53,3.15,1.54,3.28,3.33,1.81,1.71,1.61,2.71,1.84,2.86,2.8,1.87,1.0,1.11,1.54,0.96,1.35,1.2,0.82,0.3,0.29,0.46,0.28,0.43,0.39,0.25],\"xaxis\":\"x\",\"y\":[61,282,693,588,631,657,504,74,285,563,491,552,505,435,65,303,528,552,529,533,457,67,320,559,609,524,571,501,72,319,589,515,559,627,453,71,324,648,521,567,624,478,60,268,548,523,463,574,431,53,265,545,441,427,565,361],\"yaxis\":\"y\",\"type\":\"scatter\"},{\"hovertemplate\":\"<b>OLS trendline</b><br>asthma_hosp = 19.519 * SO2 + 367.138<br>R<sup>2</sup>=0.069916<br><br>Boroughs=Bronx<br>SO2=%{x}<br>asthma_hosp=%{y} <b>(trend)</b><extra></extra>\",\"legendgroup\":\"\",\"marker\":{\"symbol\":\"circle\"},\"mode\":\"lines\",\"name\":\"\",\"showlegend\":false,\"x\":[0.25,0.28,0.29,0.3,0.39,0.43,0.46,0.82,0.96,1.0,1.11,1.2,1.35,1.53,1.54,1.54,1.61,1.71,1.81,1.84,1.87,2.23,2.5,2.63,2.71,2.8,2.8,2.86,3.15,3.28,3.33,3.34,3.37,3.54,3.71,4.16,4.25,4.27,4.5,4.75,4.92,5.06,5.15,5.22,5.31,5.38,5.99,6.03,6.1,6.62,7.62,7.67,7.79,8.99,9.36,9.48],\"xaxis\":\"x\",\"y\":[372.0175512852373,372.60312012784055,372.7983097420417,372.99349935624275,374.75020588405255,375.5309643408569,376.11653318346015,383.14335929469934,385.8760138935146,386.656772350319,388.8038581065309,390.5605646343407,393.48840884735705,397.00182190297664,397.19701151717777,397.19701151717777,398.5633388165854,400.51523495859624,402.46713110060716,403.0526999432104,403.6382687858137,410.6650948970529,415.9352144804823,418.4726794650964,420.03419637870513,421.79090290651493,421.79090290651493,422.96204059172146,428.622539403553,431.1600043881672,432.1359524591726,432.3311420733737,432.916710915977,436.23493435739545,439.55315779881397,448.336690437863,450.0933969656728,450.48377619407495,454.9731373207,459.8528776757272,463.1711011171457,465.903755715961,467.6604622437708,469.0267895431784,470.7834960709882,472.1498233703958,484.0563898366622,484.83714829346656,486.20347559287416,496.3533355313308,515.8722969514397,516.8482450224451,519.1905203928582,542.6132740969888,549.8352898224291,552.1775651928422],\"yaxis\":\"y\",\"type\":\"scatter\"},{\"hovertemplate\":\"Boroughs=Brooklyn<br>SO2=%{x}<br>asthma_hosp=%{y}<br>year=%{marker.color}<extra></extra>\",\"legendgroup\":\"\",\"marker\":{\"color\":[2009,2009,2009,2009,2009,2009,2009,2009,2009,2009,2009,2010,2010,2010,2010,2010,2010,2010,2010,2010,2010,2010,2011,2011,2011,2011,2011,2011,2011,2011,2011,2011,2011,2012,2012,2012,2012,2012,2012,2012,2012,2012,2012,2012,2013,2013,2013,2013,2013,2013,2013,2013,2013,2013,2013,2014,2014,2014,2014,2014,2014,2014,2014,2014,2014,2014,2015,2015,2015,2015,2015,2015,2015,2015,2015,2015,2015,2016,2016,2016,2016,2016,2016,2016,2016,2016,2016,2016],\"coloraxis\":\"coloraxis\",\"symbol\":\"circle\"},\"mode\":\"markers\",\"name\":\"\",\"orientation\":\"v\",\"showlegend\":false,\"x\":[4.25,4.14,4.62,3.89,3.79,4.28,4.6,3.22,3.37,3.21,4.78,2.93,2.65,3.19,2.86,2.32,2.77,3.12,2.33,2.1,2.21,3.33,3.66,3.42,3.91,3.36,3.07,3.48,3.8,2.67,2.72,2.59,4.12,1.95,1.76,1.88,1.57,1.49,1.61,1.78,1.21,1.25,1.14,2.05,1.17,0.91,1.11,1.01,0.76,0.87,1.0,0.77,0.67,0.7,1.25,1.39,1.15,1.28,1.17,1.05,1.08,1.14,0.86,0.95,0.84,1.45,0.58,0.46,0.52,0.47,0.43,0.48,0.49,0.4,0.43,0.43,0.58,0.19,0.18,0.22,0.21,0.17,0.2,0.21,0.18,0.17,0.18,0.22],\"xaxis\":\"x2\",\"y\":[88,176,645,376,62,97,446,195,34,101,503,48,135,559,348,56,64,361,160,20,90,402,43,176,582,313,64,103,361,176,42,67,387,34,171,591,329,57,90,387,191,44,85,387,26,130,581,346,63,70,409,191,30,74,292,46,121,607,366,54,73,460,159,17,82,292,27,114,506,349,37,75,413,179,27,58,219,26,112,473,361,33,72,364,172,30,84,240],\"yaxis\":\"y2\",\"type\":\"scatter\"},{\"hovertemplate\":\"<b>OLS trendline</b><br>asthma_hosp = 28.6473 * SO2 + 154.175<br>R<sup>2</sup>=0.048515<br><br>Boroughs=Brooklyn<br>SO2=%{x}<br>asthma_hosp=%{y} <b>(trend)</b><extra></extra>\",\"legendgroup\":\"\",\"marker\":{\"symbol\":\"circle\"},\"mode\":\"lines\",\"name\":\"\",\"showlegend\":false,\"x\":[0.17,0.17,0.18,0.18,0.18,0.19,0.2,0.21,0.21,0.22,0.22,0.4,0.43,0.43,0.43,0.46,0.47,0.48,0.49,0.52,0.58,0.58,0.67,0.7,0.76,0.77,0.84,0.86,0.87,0.91,0.95,1.0,1.01,1.05,1.08,1.11,1.14,1.14,1.15,1.17,1.17,1.21,1.25,1.25,1.28,1.39,1.45,1.49,1.57,1.61,1.76,1.78,1.88,1.95,2.05,2.1,2.21,2.32,2.33,2.59,2.65,2.67,2.72,2.77,2.86,2.93,3.07,3.12,3.19,3.21,3.22,3.33,3.36,3.37,3.42,3.48,3.66,3.79,3.8,3.89,3.91,4.12,4.14,4.25,4.28,4.6,4.62,4.78],\"xaxis\":\"x2\",\"y\":[159.04512467689938,159.04512467689938,159.33159773945133,159.33159773945133,159.33159773945133,159.61807080200327,159.90454386455522,160.19101692710717,160.19101692710717,160.47748998965912,160.47748998965912,165.63400511559428,166.49342430325012,166.49342430325012,166.49342430325012,167.352843490906,167.63931655345795,167.9257896160099,168.21226267856184,169.07168186621772,170.79052024152944,170.79052024152944,173.368777804497,174.22819699215285,175.94703536746457,176.2335084300165,178.23881986788018,178.8117659929841,179.09823905553606,180.24413130574388,181.39002355595167,182.82238886871144,183.1088619312634,184.2547541814712,185.11417336912706,185.97359255678293,186.83301174443878,186.83301174443878,187.11948480699073,187.69243093209462,187.69243093209462,188.83832318230245,189.98421543251027,189.98421543251027,190.8436346201661,193.9948383082376,195.7136766835493,196.85956893375712,199.15135343417273,200.29724568438056,204.59434162265984,205.16728774776374,208.03201837328328,210.03732981114695,212.90206043666646,214.33442574942623,217.48562943749772,220.63683312556918,220.92330618812116,228.37160581447193,230.09044418978363,230.66339031488752,232.0957556276473,233.52812094040706,236.10637850337463,238.1116899412383,242.12231281696563,243.5546781297254,245.55998956758907,246.13293569269297,246.41940875524494,249.5706124433164,250.43003163097228,250.71650469352423,252.148870006284,253.86770838159572,259.02422350753085,262.74837332070626,263.0348463832582,265.6131039462258,266.1860500713297,272.2019843849207,272.7749305100246,275.92613419809607,276.78555338575194,285.9526913874144,286.5256375125183,291.1092065133496],\"yaxis\":\"y2\",\"type\":\"scatter\"},{\"hovertemplate\":\"Boroughs=Manhattan<br>SO2=%{x}<br>asthma_hosp=%{y}<br>year=%{marker.color}<extra></extra>\",\"legendgroup\":\"\",\"marker\":{\"color\":[2009,2009,2009,2009,2009,2009,2009,2009,2009,2009,2010,2010,2010,2010,2010,2010,2010,2010,2010,2010,2011,2011,2011,2011,2011,2011,2011,2011,2011,2011,2012,2012,2012,2012,2012,2012,2012,2012,2012,2012,2013,2013,2013,2013,2013,2013,2013,2013,2013,2013,2014,2014,2014,2014,2014,2014,2014,2014,2014,2014,2015,2015,2015,2015,2015,2015,2015,2015,2015,2015,2016,2016,2016,2016,2016,2016,2016,2016,2016,2016],\"coloraxis\":\"coloraxis\",\"symbol\":\"circle\"},\"mode\":\"markers\",\"name\":\"\",\"orientation\":\"v\",\"showlegend\":false,\"x\":[11.12,8.21,7.04,10.87,12.12,8.37,9.8,7.35,7.91,4.57,7.28,5.59,4.89,7.48,8.5,5.65,6.73,4.78,5.25,2.89,9.28,7.04,6.1,9.31,10.51,7.09,8.37,6.14,6.66,3.78,6.14,4.46,3.71,5.92,6.31,4.34,4.97,3.58,3.8,2.13,4.24,3.08,2.57,3.91,4.16,2.57,3.03,1.94,2.12,1.09,3.35,2.64,2.42,3.49,3.84,2.73,3.15,2.24,2.48,1.37,1.5,1.09,1.0,1.4,1.49,1.13,1.28,0.88,0.97,0.55,0.5,0.35,0.3,0.44,0.45,0.36,0.4,0.31,0.33,0.2],\"xaxis\":\"x3\",\"y\":[168,298,254,87,49,27,17,8,80,10,176,246,240,77,48,32,20,0,59,8,164,259,212,75,51,25,9,0,67,9,160,299,203,57,53,30,13,7,77,0,161,276,222,56,41,21,16,6,67,4,217,233,239,64,40,32,14,4,57,2,175,234,197,51,42,21,5,1,67,4,210,284,151,43,39,11,8,4,73,7],\"yaxis\":\"y3\",\"type\":\"scatter\"},{\"hovertemplate\":\"<b>OLS trendline</b><br>asthma_hosp = 2.47112 * SO2 + 77.9908<br>R<sup>2</sup>=0.006802<br><br>Boroughs=Manhattan<br>SO2=%{x}<br>asthma_hosp=%{y} <b>(trend)</b><extra></extra>\",\"legendgroup\":\"\",\"marker\":{\"symbol\":\"circle\"},\"mode\":\"lines\",\"name\":\"\",\"showlegend\":false,\"x\":[0.2,0.3,0.31,0.33,0.35,0.36,0.4,0.44,0.45,0.5,0.55,0.88,0.97,1.0,1.09,1.09,1.13,1.28,1.37,1.4,1.49,1.5,1.94,2.12,2.13,2.24,2.42,2.48,2.57,2.57,2.64,2.73,2.89,3.03,3.08,3.15,3.35,3.49,3.58,3.71,3.78,3.8,3.84,3.91,4.16,4.24,4.34,4.46,4.57,4.78,4.89,4.97,5.25,5.59,5.65,5.92,6.1,6.14,6.14,6.31,6.66,6.73,7.04,7.04,7.09,7.28,7.35,7.48,7.91,8.21,8.37,8.37,8.5,9.28,9.31,9.8,10.51,10.87,11.12,12.12],\"xaxis\":\"x3\",\"y\":[78.48506734177091,78.73217976364413,78.75689100583145,78.8063134902061,78.85573597458074,78.88044721676805,78.97929218551734,79.07813715426663,79.10284839645395,79.22640460739055,79.34996081832716,80.16543181050878,80.38783299019467,80.46196671675663,80.68436789644252,80.68436789644252,80.78321286519181,81.15388149800164,81.37628267768753,81.4504164042495,81.67281758393538,81.6975288261227,82.78482348236486,83.22962584173665,83.25433708392397,83.5261607479845,83.9709631073563,84.11923056048022,84.34163174016612,84.34163174016612,84.51461043547737,84.73701161516327,85.1323914901604,85.4783488807829,85.60190509171952,85.77488378703077,86.2691086307772,86.6150660213997,86.83746720108559,87.15871334952078,87.33169204483202,87.38111452920667,87.47995949795596,87.6529381932672,88.27071924795024,88.46840918544882,88.71552160732203,89.01205651356989,89.28388017763044,89.80281626356418,90.07463992762472,90.27232986512328,90.9642446463683,91.80442688073722,91.95269433386116,92.61989787291884,93.06470023229062,93.16354520103991,93.16354520103991,93.58363631822438,94.44852979478063,94.62150849009188,95.38755699789886,95.38755699789886,95.51111320883547,95.98062681039457,96.15360550570583,96.474851654141,97.53743506819583,98.27877233381548,98.67415220881261,98.67415220881261,98.99539835724781,100.92287524785888,100.99700897442085,102.2078598415996,103.96235803689943,104.851962755643,105.46974381032605,107.94086802905821],\"yaxis\":\"y3\",\"type\":\"scatter\"},{\"hovertemplate\":\"Boroughs=Queens<br>SO2=%{x}<br>asthma_hosp=%{y}<br>year=%{marker.color}<extra></extra>\",\"legendgroup\":\"\",\"marker\":{\"color\":[2009,2009,2009,2009,2009,2009,2009,2009,2009,2009,2010,2010,2010,2010,2010,2010,2010,2010,2010,2010,2011,2011,2011,2011,2011,2011,2011,2011,2011,2011,2012,2012,2012,2012,2012,2012,2012,2012,2012,2012,2013,2013,2013,2013,2013,2013,2013,2013,2013,2013,2014,2014,2014,2014,2014,2014,2014,2014,2014,2014,2015,2015,2015,2015,2015,2015,2015,2015,2015,2015,2016,2016,2016,2016,2016,2016,2016,2016,2016,2016],\"coloraxis\":\"coloraxis\",\"symbol\":\"circle\"},\"mode\":\"markers\",\"name\":\"\",\"orientation\":\"v\",\"showlegend\":false,\"x\":[5.11,5.38,4.49,3.69,4.5,4.02,3.72,3.53,3.18,2.39,3.63,3.84,3.01,2.41,3.25,2.78,2.76,2.52,2.21,1.9,4.5,4.79,3.85,3.02,3.99,3.47,3.22,2.97,2.56,1.9,2.49,2.44,1.97,1.56,1.92,1.7,1.52,1.45,1.3,0.88,1.68,1.6,1.17,0.75,1.21,0.98,0.93,0.77,0.6,0.51,1.89,2.0,1.85,1.5,1.54,1.61,1.21,1.24,1.14,0.64,0.79,0.78,0.74,0.57,0.58,0.57,0.45,0.43,0.41,0.31,0.24,0.25,0.27,0.27,0.23,0.26,0.23,0.25,0.26,0.2],\"xaxis\":\"x4\",\"y\":[79,225,84,34,157,50,269,431,224,185,86,197,89,23,160,46,226,343,173,177,80,187,83,7,149,48,170,267,157,132,70,234,68,31,146,37,218,257,176,86,66,202,82,12,87,49,181,288,158,86,67,249,75,21,109,34,209,276,162,100,47,177,70,19,95,57,183,261,135,86,55,199,79,7,97,51,146,239,115,73],\"yaxis\":\"y4\",\"type\":\"scatter\"},{\"hovertemplate\":\"<b>OLS trendline</b><br>asthma_hosp = 8.74891 * SO2 + 115.36<br>R<sup>2</sup>=0.019878<br><br>Boroughs=Queens<br>SO2=%{x}<br>asthma_hosp=%{y} <b>(trend)</b><extra></extra>\",\"legendgroup\":\"\",\"marker\":{\"symbol\":\"circle\"},\"mode\":\"lines\",\"name\":\"\",\"showlegend\":false,\"x\":[0.2,0.23,0.23,0.24,0.25,0.25,0.26,0.26,0.27,0.27,0.31,0.41,0.43,0.45,0.51,0.57,0.57,0.58,0.6,0.64,0.74,0.75,0.77,0.78,0.79,0.88,0.93,0.98,1.14,1.17,1.21,1.21,1.24,1.3,1.45,1.5,1.52,1.54,1.56,1.6,1.61,1.68,1.7,1.85,1.89,1.9,1.9,1.92,1.97,2.0,2.21,2.39,2.41,2.44,2.49,2.52,2.56,2.76,2.78,2.97,3.01,3.02,3.18,3.22,3.25,3.47,3.53,3.63,3.69,3.72,3.84,3.85,3.99,4.02,4.49,4.5,4.5,4.79,5.11,5.38],\"xaxis\":\"x4\",\"y\":[117.10951750039942,117.37198483016643,117.37198483016643,117.45947394008876,117.54696305001109,117.54696305001109,117.63445215993342,117.63445215993342,117.72194126985575,117.72194126985575,118.07189770954508,118.9467888087684,119.12176702861306,119.29674524845773,119.82167990799172,120.3466145675257,120.3466145675257,120.43410367744804,120.60908189729271,120.95903833698203,121.83392943620535,121.92141854612768,122.09639676597236,122.18388587589469,122.27137498581702,123.05877697511801,123.49622252472966,123.93366807434133,125.33349383309864,125.59596116286563,125.94591760255497,125.94591760255497,126.20838493232196,126.73331959185596,128.04565624069093,128.48310179030258,128.65808001014727,128.83305822999193,129.0080364498366,129.35799288952592,129.44548199944825,130.05790576890456,130.23288398874925,131.5452206375842,131.89517707727356,131.9826661871959,131.9826661871959,132.15764440704055,132.5950899566522,132.8575572864192,134.69482859478816,136.26963257339014,136.44461079323483,136.70707812300182,137.14452367261347,137.40699100238047,137.7569474420698,139.50672964051643,139.68170786036112,141.34400094888542,141.69395738857474,141.78144649849708,143.1812722572544,143.5312286969437,143.7936960267107,145.71845644500203,146.24339110453602,147.11828220375932,147.64321686329333,147.90568419306032,148.9555535121283,149.04304262205065,150.2678901609633,150.5303574907303,154.6423456570799,154.72983476700222,154.72983476700222,157.26701895474986,160.0666704722645,162.42887644016744],\"yaxis\":\"y4\",\"type\":\"scatter\"},{\"hovertemplate\":\"Boroughs=Staten Island<br>SO2=%{x}<br>asthma_hosp=%{y}<br>year=%{marker.color}<extra></extra>\",\"legendgroup\":\"\",\"marker\":{\"color\":[2009,2009,2009,2009,2010,2010,2010,2010,2011,2011,2011,2011,2012,2012,2012,2012,2013,2013,2013,2013,2014,2014,2014,2014,2015,2015,2015,2015,2016,2016,2016,2016],\"coloraxis\":\"coloraxis\",\"symbol\":\"circle\"},\"mode\":\"markers\",\"name\":\"\",\"orientation\":\"v\",\"showlegend\":false,\"x\":[2.49,2.53,2.17,1.84,1.35,1.45,1.18,1.01,2.08,2.08,1.83,1.56,1.04,0.98,0.86,0.66,0.49,0.49,0.44,0.39,0.97,0.91,0.88,0.73,0.31,0.35,0.28,0.22,0.12,0.13,0.12,0.11],\"xaxis\":\"x5\",\"y\":[80,78,35,47,56,85,12,43,65,63,18,36,79,65,14,38,64,77,12,39,67,80,11,40,68,59,12,38,83,72,12,36],\"yaxis\":\"y5\",\"type\":\"scatter\"},{\"hovertemplate\":\"<b>OLS trendline</b><br>asthma_hosp = 6.61158 * SO2 + 42.8781<br>R<sup>2</sup>=0.038276<br><br>Boroughs=Staten Island<br>SO2=%{x}<br>asthma_hosp=%{y} <b>(trend)</b><extra></extra>\",\"legendgroup\":\"\",\"marker\":{\"symbol\":\"circle\"},\"mode\":\"lines\",\"name\":\"\",\"showlegend\":false,\"x\":[0.11,0.12,0.12,0.13,0.22,0.28,0.31,0.35,0.39,0.44,0.49,0.49,0.66,0.73,0.86,0.88,0.91,0.97,0.98,1.01,1.04,1.18,1.35,1.45,1.56,1.83,1.84,2.08,2.08,2.17,2.49,2.53],\"xaxis\":\"x5\",\"y\":[43.60536426679949,43.67148005490409,43.67148005490409,43.737595843008684,44.33263793595006,44.72933266457765,44.927680028891444,45.19214318130983,45.45660633372822,45.78718527425121,46.1177642147742,46.1177642147742,47.241732612552354,47.70454312928453,48.5640483746443,48.696279950853494,48.894627315167284,49.29132204379487,49.35743783189947,49.55578519621326,49.754132560527054,50.679753593991414,51.80372199176957,52.464879872815544,53.19215354196612,54.97727982079025,55.04339560889485,56.63017452340519,56.63017452340519,57.22521661634656,59.34092183569368,59.605384988112064],\"yaxis\":\"y5\",\"type\":\"scatter\"}],                        {\"template\":{\"data\":{\"bar\":[{\"error_x\":{\"color\":\"#2a3f5f\"},\"error_y\":{\"color\":\"#2a3f5f\"},\"marker\":{\"line\":{\"color\":\"#E5ECF6\",\"width\":0.5},\"pattern\":{\"fillmode\":\"overlay\",\"size\":10,\"solidity\":0.2}},\"type\":\"bar\"}],\"barpolar\":[{\"marker\":{\"line\":{\"color\":\"#E5ECF6\",\"width\":0.5},\"pattern\":{\"fillmode\":\"overlay\",\"size\":10,\"solidity\":0.2}},\"type\":\"barpolar\"}],\"carpet\":[{\"aaxis\":{\"endlinecolor\":\"#2a3f5f\",\"gridcolor\":\"white\",\"linecolor\":\"white\",\"minorgridcolor\":\"white\",\"startlinecolor\":\"#2a3f5f\"},\"baxis\":{\"endlinecolor\":\"#2a3f5f\",\"gridcolor\":\"white\",\"linecolor\":\"white\",\"minorgridcolor\":\"white\",\"startlinecolor\":\"#2a3f5f\"},\"type\":\"carpet\"}],\"choropleth\":[{\"colorbar\":{\"outlinewidth\":0,\"ticks\":\"\"},\"type\":\"choropleth\"}],\"contour\":[{\"colorbar\":{\"outlinewidth\":0,\"ticks\":\"\"},\"colorscale\":[[0.0,\"#0d0887\"],[0.1111111111111111,\"#46039f\"],[0.2222222222222222,\"#7201a8\"],[0.3333333333333333,\"#9c179e\"],[0.4444444444444444,\"#bd3786\"],[0.5555555555555556,\"#d8576b\"],[0.6666666666666666,\"#ed7953\"],[0.7777777777777778,\"#fb9f3a\"],[0.8888888888888888,\"#fdca26\"],[1.0,\"#f0f921\"]],\"type\":\"contour\"}],\"contourcarpet\":[{\"colorbar\":{\"outlinewidth\":0,\"ticks\":\"\"},\"type\":\"contourcarpet\"}],\"heatmap\":[{\"colorbar\":{\"outlinewidth\":0,\"ticks\":\"\"},\"colorscale\":[[0.0,\"#0d0887\"],[0.1111111111111111,\"#46039f\"],[0.2222222222222222,\"#7201a8\"],[0.3333333333333333,\"#9c179e\"],[0.4444444444444444,\"#bd3786\"],[0.5555555555555556,\"#d8576b\"],[0.6666666666666666,\"#ed7953\"],[0.7777777777777778,\"#fb9f3a\"],[0.8888888888888888,\"#fdca26\"],[1.0,\"#f0f921\"]],\"type\":\"heatmap\"}],\"heatmapgl\":[{\"colorbar\":{\"outlinewidth\":0,\"ticks\":\"\"},\"colorscale\":[[0.0,\"#0d0887\"],[0.1111111111111111,\"#46039f\"],[0.2222222222222222,\"#7201a8\"],[0.3333333333333333,\"#9c179e\"],[0.4444444444444444,\"#bd3786\"],[0.5555555555555556,\"#d8576b\"],[0.6666666666666666,\"#ed7953\"],[0.7777777777777778,\"#fb9f3a\"],[0.8888888888888888,\"#fdca26\"],[1.0,\"#f0f921\"]],\"type\":\"heatmapgl\"}],\"histogram\":[{\"marker\":{\"pattern\":{\"fillmode\":\"overlay\",\"size\":10,\"solidity\":0.2}},\"type\":\"histogram\"}],\"histogram2d\":[{\"colorbar\":{\"outlinewidth\":0,\"ticks\":\"\"},\"colorscale\":[[0.0,\"#0d0887\"],[0.1111111111111111,\"#46039f\"],[0.2222222222222222,\"#7201a8\"],[0.3333333333333333,\"#9c179e\"],[0.4444444444444444,\"#bd3786\"],[0.5555555555555556,\"#d8576b\"],[0.6666666666666666,\"#ed7953\"],[0.7777777777777778,\"#fb9f3a\"],[0.8888888888888888,\"#fdca26\"],[1.0,\"#f0f921\"]],\"type\":\"histogram2d\"}],\"histogram2dcontour\":[{\"colorbar\":{\"outlinewidth\":0,\"ticks\":\"\"},\"colorscale\":[[0.0,\"#0d0887\"],[0.1111111111111111,\"#46039f\"],[0.2222222222222222,\"#7201a8\"],[0.3333333333333333,\"#9c179e\"],[0.4444444444444444,\"#bd3786\"],[0.5555555555555556,\"#d8576b\"],[0.6666666666666666,\"#ed7953\"],[0.7777777777777778,\"#fb9f3a\"],[0.8888888888888888,\"#fdca26\"],[1.0,\"#f0f921\"]],\"type\":\"histogram2dcontour\"}],\"mesh3d\":[{\"colorbar\":{\"outlinewidth\":0,\"ticks\":\"\"},\"type\":\"mesh3d\"}],\"parcoords\":[{\"line\":{\"colorbar\":{\"outlinewidth\":0,\"ticks\":\"\"}},\"type\":\"parcoords\"}],\"pie\":[{\"automargin\":true,\"type\":\"pie\"}],\"scatter\":[{\"marker\":{\"colorbar\":{\"outlinewidth\":0,\"ticks\":\"\"}},\"type\":\"scatter\"}],\"scatter3d\":[{\"line\":{\"colorbar\":{\"outlinewidth\":0,\"ticks\":\"\"}},\"marker\":{\"colorbar\":{\"outlinewidth\":0,\"ticks\":\"\"}},\"type\":\"scatter3d\"}],\"scattercarpet\":[{\"marker\":{\"colorbar\":{\"outlinewidth\":0,\"ticks\":\"\"}},\"type\":\"scattercarpet\"}],\"scattergeo\":[{\"marker\":{\"colorbar\":{\"outlinewidth\":0,\"ticks\":\"\"}},\"type\":\"scattergeo\"}],\"scattergl\":[{\"marker\":{\"colorbar\":{\"outlinewidth\":0,\"ticks\":\"\"}},\"type\":\"scattergl\"}],\"scattermapbox\":[{\"marker\":{\"colorbar\":{\"outlinewidth\":0,\"ticks\":\"\"}},\"type\":\"scattermapbox\"}],\"scatterpolar\":[{\"marker\":{\"colorbar\":{\"outlinewidth\":0,\"ticks\":\"\"}},\"type\":\"scatterpolar\"}],\"scatterpolargl\":[{\"marker\":{\"colorbar\":{\"outlinewidth\":0,\"ticks\":\"\"}},\"type\":\"scatterpolargl\"}],\"scatterternary\":[{\"marker\":{\"colorbar\":{\"outlinewidth\":0,\"ticks\":\"\"}},\"type\":\"scatterternary\"}],\"surface\":[{\"colorbar\":{\"outlinewidth\":0,\"ticks\":\"\"},\"colorscale\":[[0.0,\"#0d0887\"],[0.1111111111111111,\"#46039f\"],[0.2222222222222222,\"#7201a8\"],[0.3333333333333333,\"#9c179e\"],[0.4444444444444444,\"#bd3786\"],[0.5555555555555556,\"#d8576b\"],[0.6666666666666666,\"#ed7953\"],[0.7777777777777778,\"#fb9f3a\"],[0.8888888888888888,\"#fdca26\"],[1.0,\"#f0f921\"]],\"type\":\"surface\"}],\"table\":[{\"cells\":{\"fill\":{\"color\":\"#EBF0F8\"},\"line\":{\"color\":\"white\"}},\"header\":{\"fill\":{\"color\":\"#C8D4E3\"},\"line\":{\"color\":\"white\"}},\"type\":\"table\"}]},\"layout\":{\"annotationdefaults\":{\"arrowcolor\":\"#2a3f5f\",\"arrowhead\":0,\"arrowwidth\":1},\"autotypenumbers\":\"strict\",\"coloraxis\":{\"colorbar\":{\"outlinewidth\":0,\"ticks\":\"\"}},\"colorscale\":{\"diverging\":[[0,\"#8e0152\"],[0.1,\"#c51b7d\"],[0.2,\"#de77ae\"],[0.3,\"#f1b6da\"],[0.4,\"#fde0ef\"],[0.5,\"#f7f7f7\"],[0.6,\"#e6f5d0\"],[0.7,\"#b8e186\"],[0.8,\"#7fbc41\"],[0.9,\"#4d9221\"],[1,\"#276419\"]],\"sequential\":[[0.0,\"#0d0887\"],[0.1111111111111111,\"#46039f\"],[0.2222222222222222,\"#7201a8\"],[0.3333333333333333,\"#9c179e\"],[0.4444444444444444,\"#bd3786\"],[0.5555555555555556,\"#d8576b\"],[0.6666666666666666,\"#ed7953\"],[0.7777777777777778,\"#fb9f3a\"],[0.8888888888888888,\"#fdca26\"],[1.0,\"#f0f921\"]],\"sequentialminus\":[[0.0,\"#0d0887\"],[0.1111111111111111,\"#46039f\"],[0.2222222222222222,\"#7201a8\"],[0.3333333333333333,\"#9c179e\"],[0.4444444444444444,\"#bd3786\"],[0.5555555555555556,\"#d8576b\"],[0.6666666666666666,\"#ed7953\"],[0.7777777777777778,\"#fb9f3a\"],[0.8888888888888888,\"#fdca26\"],[1.0,\"#f0f921\"]]},\"colorway\":[\"#636efa\",\"#EF553B\",\"#00cc96\",\"#ab63fa\",\"#FFA15A\",\"#19d3f3\",\"#FF6692\",\"#B6E880\",\"#FF97FF\",\"#FECB52\"],\"font\":{\"color\":\"#2a3f5f\"},\"geo\":{\"bgcolor\":\"white\",\"lakecolor\":\"white\",\"landcolor\":\"#E5ECF6\",\"showlakes\":true,\"showland\":true,\"subunitcolor\":\"white\"},\"hoverlabel\":{\"align\":\"left\"},\"hovermode\":\"closest\",\"mapbox\":{\"style\":\"light\"},\"paper_bgcolor\":\"white\",\"plot_bgcolor\":\"#E5ECF6\",\"polar\":{\"angularaxis\":{\"gridcolor\":\"white\",\"linecolor\":\"white\",\"ticks\":\"\"},\"bgcolor\":\"#E5ECF6\",\"radialaxis\":{\"gridcolor\":\"white\",\"linecolor\":\"white\",\"ticks\":\"\"}},\"scene\":{\"xaxis\":{\"backgroundcolor\":\"#E5ECF6\",\"gridcolor\":\"white\",\"gridwidth\":2,\"linecolor\":\"white\",\"showbackground\":true,\"ticks\":\"\",\"zerolinecolor\":\"white\"},\"yaxis\":{\"backgroundcolor\":\"#E5ECF6\",\"gridcolor\":\"white\",\"gridwidth\":2,\"linecolor\":\"white\",\"showbackground\":true,\"ticks\":\"\",\"zerolinecolor\":\"white\"},\"zaxis\":{\"backgroundcolor\":\"#E5ECF6\",\"gridcolor\":\"white\",\"gridwidth\":2,\"linecolor\":\"white\",\"showbackground\":true,\"ticks\":\"\",\"zerolinecolor\":\"white\"}},\"shapedefaults\":{\"line\":{\"color\":\"#2a3f5f\"}},\"ternary\":{\"aaxis\":{\"gridcolor\":\"white\",\"linecolor\":\"white\",\"ticks\":\"\"},\"baxis\":{\"gridcolor\":\"white\",\"linecolor\":\"white\",\"ticks\":\"\"},\"bgcolor\":\"#E5ECF6\",\"caxis\":{\"gridcolor\":\"white\",\"linecolor\":\"white\",\"ticks\":\"\"}},\"title\":{\"x\":0.05},\"xaxis\":{\"automargin\":true,\"gridcolor\":\"white\",\"linecolor\":\"white\",\"ticks\":\"\",\"title\":{\"standoff\":15},\"zerolinecolor\":\"white\",\"zerolinewidth\":2},\"yaxis\":{\"automargin\":true,\"gridcolor\":\"white\",\"linecolor\":\"white\",\"ticks\":\"\",\"title\":{\"standoff\":15},\"zerolinecolor\":\"white\",\"zerolinewidth\":2}}},\"xaxis\":{\"anchor\":\"y\",\"domain\":[0.0,0.18400000000000002],\"title\":{\"text\":\"SO2\"}},\"yaxis\":{\"anchor\":\"x\",\"domain\":[0.0,1.0],\"title\":{\"text\":\"asthma_hosp\"}},\"xaxis2\":{\"anchor\":\"y2\",\"domain\":[0.20400000000000001,0.388],\"matches\":\"x\",\"title\":{\"text\":\"SO2\"}},\"yaxis2\":{\"anchor\":\"x2\",\"domain\":[0.0,1.0],\"matches\":\"y\",\"showticklabels\":false},\"xaxis3\":{\"anchor\":\"y3\",\"domain\":[0.40800000000000003,0.5920000000000001],\"matches\":\"x\",\"title\":{\"text\":\"SO2\"}},\"yaxis3\":{\"anchor\":\"x3\",\"domain\":[0.0,1.0],\"matches\":\"y\",\"showticklabels\":false},\"xaxis4\":{\"anchor\":\"y4\",\"domain\":[0.6120000000000001,0.7960000000000002],\"matches\":\"x\",\"title\":{\"text\":\"SO2\"}},\"yaxis4\":{\"anchor\":\"x4\",\"domain\":[0.0,1.0],\"matches\":\"y\",\"showticklabels\":false},\"xaxis5\":{\"anchor\":\"y5\",\"domain\":[0.8160000000000001,1.0],\"matches\":\"x\",\"title\":{\"text\":\"SO2\"}},\"yaxis5\":{\"anchor\":\"x5\",\"domain\":[0.0,1.0],\"matches\":\"y\",\"showticklabels\":false},\"annotations\":[{\"font\":{},\"showarrow\":false,\"text\":\"Boroughs=Bronx\",\"x\":0.09200000000000001,\"xanchor\":\"center\",\"xref\":\"paper\",\"y\":1.0,\"yanchor\":\"bottom\",\"yref\":\"paper\"},{\"font\":{},\"showarrow\":false,\"text\":\"Boroughs=Brooklyn\",\"x\":0.29600000000000004,\"xanchor\":\"center\",\"xref\":\"paper\",\"y\":1.0,\"yanchor\":\"bottom\",\"yref\":\"paper\"},{\"font\":{},\"showarrow\":false,\"text\":\"Boroughs=Manhattan\",\"x\":0.5,\"xanchor\":\"center\",\"xref\":\"paper\",\"y\":1.0,\"yanchor\":\"bottom\",\"yref\":\"paper\"},{\"font\":{},\"showarrow\":false,\"text\":\"Boroughs=Queens\",\"x\":0.7040000000000002,\"xanchor\":\"center\",\"xref\":\"paper\",\"y\":1.0,\"yanchor\":\"bottom\",\"yref\":\"paper\"},{\"font\":{},\"showarrow\":false,\"text\":\"Boroughs=Staten Island\",\"x\":0.908,\"xanchor\":\"center\",\"xref\":\"paper\",\"y\":1.0,\"yanchor\":\"bottom\",\"yref\":\"paper\"}],\"coloraxis\":{\"colorbar\":{\"title\":{\"text\":\"year\"}},\"colorscale\":[[0.0,\"#0d0887\"],[0.1111111111111111,\"#46039f\"],[0.2222222222222222,\"#7201a8\"],[0.3333333333333333,\"#9c179e\"],[0.4444444444444444,\"#bd3786\"],[0.5555555555555556,\"#d8576b\"],[0.6666666666666666,\"#ed7953\"],[0.7777777777777778,\"#fb9f3a\"],[0.8888888888888888,\"#fdca26\"],[1.0,\"#f0f921\"]]},\"legend\":{\"tracegroupgap\":0},\"margin\":{\"t\":60}},                        {\"responsive\": true}                    ).then(function(){\n",
       "                            \n",
       "var gd = document.getElementById('b85be4df-459b-4e16-a0a0-715650fe971b');\n",
       "var x = new MutationObserver(function (mutations, observer) {{\n",
       "        var display = window.getComputedStyle(gd).display;\n",
       "        if (!display || display === 'none') {{\n",
       "            console.log([gd, 'removed!']);\n",
       "            Plotly.purge(gd);\n",
       "            observer.disconnect();\n",
       "        }}\n",
       "}});\n",
       "\n",
       "// Listen for the removal of the full notebook cells\n",
       "var notebookContainer = gd.closest('#notebook-container');\n",
       "if (notebookContainer) {{\n",
       "    x.observe(notebookContainer, {childList: true});\n",
       "}}\n",
       "\n",
       "// Listen for the clearing of the current output cell\n",
       "var outputEl = gd.closest('.output');\n",
       "if (outputEl) {{\n",
       "    x.observe(outputEl, {childList: true});\n",
       "}}\n",
       "\n",
       "                        })                };                });            </script>        </div>"
      ]
     },
     "metadata": {},
     "output_type": "display_data"
    }
   ],
   "source": [
    "fig = px.scatter(df, x=\"SO2\", y=\"asthma_hosp\", color=\"year\",trendline=\"ols\", facet_col=\"Boroughs\")\n",
    "fig.show()"
   ]
  },
  {
   "cell_type": "code",
   "execution_count": 139,
   "id": "6ea1a675",
   "metadata": {},
   "outputs": [
    {
     "data": {
      "application/vnd.plotly.v1+json": {
       "config": {
        "plotlyServerURL": "https://plotly.com"
       },
       "data": [
        {
         "hovertemplate": "Boroughs=Bronx<br>NO2=%{x}<br>asthma_hosp=%{y}<br>year=%{marker.color}<extra></extra>",
         "legendgroup": "",
         "marker": {
          "color": [
           2009,
           2009,
           2009,
           2009,
           2009,
           2009,
           2009,
           2010,
           2010,
           2010,
           2010,
           2010,
           2010,
           2010,
           2011,
           2011,
           2011,
           2011,
           2011,
           2011,
           2011,
           2012,
           2012,
           2012,
           2012,
           2012,
           2012,
           2012,
           2013,
           2013,
           2013,
           2013,
           2013,
           2013,
           2013,
           2014,
           2014,
           2014,
           2014,
           2014,
           2014,
           2014,
           2015,
           2015,
           2015,
           2015,
           2015,
           2015,
           2015,
           2016,
           2016,
           2016,
           2016,
           2016,
           2016,
           2016
          ],
          "coloraxis": "coloraxis",
          "symbol": "circle"
         },
         "mode": "markers",
         "name": "",
         "orientation": "v",
         "showlegend": false,
         "type": "scatter",
         "x": [
          23.2,
          22.39,
          24.82,
          22.83,
          28.07,
          29.35,
          26.39,
          20.13,
          20.21,
          22.06,
          21.04,
          25.25,
          26.38,
          24.1,
          20.79,
          21.06,
          22.61,
          21.61,
          25.57,
          26.67,
          24.58,
          19.05,
          20.02,
          21.01,
          19.94,
          23.42,
          24.23,
          22.27,
          18.23,
          18.37,
          19.89,
          18.58,
          22.67,
          23.73,
          21.54,
          17.1,
          18.97,
          19.44,
          19.26,
          21.87,
          22.56,
          21.14,
          17.82,
          19.52,
          19.76,
          19.36,
          21.84,
          22.28,
          20.91,
          16.04,
          17.52,
          17.93,
          17.92,
          20.37,
          21.08,
          19.91
         ],
         "xaxis": "x",
         "y": [
          61,
          282,
          693,
          588,
          631,
          657,
          504,
          74,
          285,
          563,
          491,
          552,
          505,
          435,
          65,
          303,
          528,
          552,
          529,
          533,
          457,
          67,
          320,
          559,
          609,
          524,
          571,
          501,
          72,
          319,
          589,
          515,
          559,
          627,
          453,
          71,
          324,
          648,
          521,
          567,
          624,
          478,
          60,
          268,
          548,
          523,
          463,
          574,
          431,
          53,
          265,
          545,
          441,
          427,
          565,
          361
         ],
         "yaxis": "y"
        },
        {
         "hovertemplate": "<b>OLS trendline</b><br>asthma_hosp = 33.3204 * NO2 + -282.317<br>R<sup>2</sup>=0.267281<br><br>Boroughs=Bronx<br>NO2=%{x}<br>asthma_hosp=%{y} <b>(trend)</b><extra></extra>",
         "legendgroup": "",
         "marker": {
          "symbol": "circle"
         },
         "mode": "lines",
         "name": "",
         "showlegend": false,
         "type": "scatter",
         "x": [
          16.04,
          17.1,
          17.52,
          17.82,
          17.92,
          17.93,
          18.23,
          18.37,
          18.58,
          18.97,
          19.05,
          19.26,
          19.36,
          19.44,
          19.52,
          19.76,
          19.89,
          19.91,
          19.94,
          20.02,
          20.13,
          20.21,
          20.37,
          20.79,
          20.91,
          21.01,
          21.04,
          21.06,
          21.08,
          21.14,
          21.54,
          21.61,
          21.84,
          21.87,
          22.06,
          22.27,
          22.28,
          22.39,
          22.56,
          22.61,
          22.67,
          22.83,
          23.2,
          23.42,
          23.73,
          24.1,
          24.23,
          24.58,
          24.82,
          25.25,
          25.57,
          26.38,
          26.39,
          26.67,
          28.07,
          29.35
         ],
         "xaxis": "x",
         "y": [
          252.14224639902056,
          287.46186082939107,
          301.456425037651,
          311.4525423292654,
          314.78458142647014,
          315.11778533619054,
          325.1139026278049,
          329.7787573638916,
          336.7760394680215,
          349.77099194712014,
          352.436623224884,
          359.433905329014,
          362.76594442621877,
          365.4315757039826,
          368.09720698174635,
          376.0941008150378,
          380.42575164140396,
          381.092159460845,
          382.0917711900064,
          384.75740246777013,
          388.4226454746954,
          391.08827675245925,
          396.41953930798684,
          410.4141035162469,
          414.41255043289254,
          417.7445895300974,
          418.7442012592587,
          419.41060907869974,
          420.07701689814064,
          422.0762403564636,
          435.4043967452826,
          437.73682411332595,
          445.4005140368969,
          446.4001257660584,
          452.7310000507473,
          459.7282821548773,
          460.06148606459794,
          463.7267290715231,
          469.3911955367712,
          471.0572150853735,
          473.05643854369646,
          478.38770109922405,
          490.71624575888166,
          498.0467317727322,
          508.37605297406697,
          520.7045976337246,
          525.0362484600907,
          536.6983853003075,
          544.6952791335989,
          559.0230472515793,
          569.6855723626346,
          596.6750890499932,
          597.0082929597137,
          606.338002431887,
          652.9865497927537,
          695.6366502369748
         ],
         "yaxis": "y"
        },
        {
         "hovertemplate": "Boroughs=Brooklyn<br>NO2=%{x}<br>asthma_hosp=%{y}<br>year=%{marker.color}<extra></extra>",
         "legendgroup": "",
         "marker": {
          "color": [
           2009,
           2009,
           2009,
           2009,
           2009,
           2009,
           2009,
           2009,
           2009,
           2009,
           2009,
           2010,
           2010,
           2010,
           2010,
           2010,
           2010,
           2010,
           2010,
           2010,
           2010,
           2010,
           2011,
           2011,
           2011,
           2011,
           2011,
           2011,
           2011,
           2011,
           2011,
           2011,
           2011,
           2012,
           2012,
           2012,
           2012,
           2012,
           2012,
           2012,
           2012,
           2012,
           2012,
           2012,
           2013,
           2013,
           2013,
           2013,
           2013,
           2013,
           2013,
           2013,
           2013,
           2013,
           2013,
           2014,
           2014,
           2014,
           2014,
           2014,
           2014,
           2014,
           2014,
           2014,
           2014,
           2014,
           2015,
           2015,
           2015,
           2015,
           2015,
           2015,
           2015,
           2015,
           2015,
           2015,
           2015,
           2016,
           2016,
           2016,
           2016,
           2016,
           2016,
           2016,
           2016,
           2016,
           2016,
           2016
          ],
          "coloraxis": "coloraxis",
          "symbol": "circle"
         },
         "mode": "markers",
         "name": "",
         "orientation": "v",
         "showlegend": false,
         "type": "scatter",
         "x": [
          26.95,
          28.4,
          26.93,
          23.9,
          25.26,
          24.79,
          25.14,
          20.22,
          22.54,
          19.9,
          27.13,
          25.08,
          26.46,
          25.17,
          22.49,
          23.77,
          23.43,
          23.64,
          19.1,
          21.48,
          19.01,
          25.31,
          25.84,
          26.64,
          25.3,
          22.9,
          23.86,
          23.32,
          23.56,
          19.21,
          21.62,
          18.98,
          25.75,
          23.63,
          23.98,
          22.88,
          20.67,
          21.09,
          20.87,
          21.16,
          17.22,
          19.27,
          17.21,
          23.43,
          22.85,
          23.41,
          22.28,
          20.19,
          20.59,
          20.23,
          20.57,
          16.65,
          18.58,
          16.36,
          22.72,
          22.43,
          22.67,
          21.75,
          19.75,
          20.23,
          20.41,
          20.47,
          17,
          19.1,
          17.63,
          22.2,
          21.69,
          21.87,
          20.83,
          19.09,
          19.71,
          19.74,
          19.72,
          16.52,
          18.62,
          17.08,
          21.27,
          21.44,
          21.65,
          20.2,
          18.26,
          19.32,
          18.87,
          18.86,
          15.3,
          17.78,
          15.62,
          20.82
         ],
         "xaxis": "x2",
         "y": [
          88,
          176,
          645,
          376,
          62,
          97,
          446,
          195,
          34,
          101,
          503,
          48,
          135,
          559,
          348,
          56,
          64,
          361,
          160,
          20,
          90,
          402,
          43,
          176,
          582,
          313,
          64,
          103,
          361,
          176,
          42,
          67,
          387,
          34,
          171,
          591,
          329,
          57,
          90,
          387,
          191,
          44,
          85,
          387,
          26,
          130,
          581,
          346,
          63,
          70,
          409,
          191,
          30,
          74,
          292,
          46,
          121,
          607,
          366,
          54,
          73,
          460,
          159,
          17,
          82,
          292,
          27,
          114,
          506,
          349,
          37,
          75,
          413,
          179,
          27,
          58,
          219,
          26,
          112,
          473,
          361,
          33,
          72,
          364,
          172,
          30,
          84,
          240
         ],
         "yaxis": "y2"
        },
        {
         "hovertemplate": "<b>OLS trendline</b><br>asthma_hosp = 15.8725 * NO2 + -134.575<br>R<sup>2</sup>=0.069902<br><br>Boroughs=Brooklyn<br>NO2=%{x}<br>asthma_hosp=%{y} <b>(trend)</b><extra></extra>",
         "legendgroup": "",
         "marker": {
          "symbol": "circle"
         },
         "mode": "lines",
         "name": "",
         "showlegend": false,
         "type": "scatter",
         "x": [
          15.3,
          15.62,
          16.36,
          16.52,
          16.65,
          17,
          17.08,
          17.21,
          17.22,
          17.63,
          17.78,
          18.26,
          18.58,
          18.62,
          18.86,
          18.87,
          18.98,
          19.01,
          19.09,
          19.1,
          19.1,
          19.21,
          19.27,
          19.32,
          19.71,
          19.72,
          19.74,
          19.75,
          19.9,
          20.19,
          20.2,
          20.22,
          20.23,
          20.23,
          20.41,
          20.47,
          20.57,
          20.59,
          20.67,
          20.82,
          20.83,
          20.87,
          21.09,
          21.16,
          21.27,
          21.44,
          21.48,
          21.62,
          21.65,
          21.69,
          21.75,
          21.87,
          22.2,
          22.28,
          22.43,
          22.49,
          22.54,
          22.67,
          22.72,
          22.85,
          22.88,
          22.9,
          23.32,
          23.41,
          23.43,
          23.43,
          23.56,
          23.63,
          23.64,
          23.77,
          23.86,
          23.9,
          23.98,
          24.79,
          25.08,
          25.14,
          25.17,
          25.26,
          25.3,
          25.31,
          25.75,
          25.84,
          26.46,
          26.64,
          26.93,
          26.95,
          27.13,
          28.4
         ],
         "xaxis": "x2",
         "y": [
          108.27468530583315,
          113.35389196322501,
          125.09955735844378,
          127.63916068713976,
          129.70258839170518,
          135.25797067322762,
          136.52777233757556,
          138.59120004214103,
          138.74992525018453,
          145.2576587799679,
          147.63853690062038,
          155.25734688670823,
          160.33655354410004,
          160.97145437627407,
          164.780859369318,
          164.9395845773615,
          166.68556186583996,
          167.16173748997048,
          168.43153915431841,
          168.59026436236192,
          168.59026436236192,
          170.33624165084038,
          171.28859289910136,
          172.08221893931884,
          178.27250205301524,
          178.4312272610587,
          178.7486776771457,
          178.9074028851892,
          181.28828100584164,
          185.8913120391031,
          186.05003724714655,
          186.36748766323356,
          186.52621287127707,
          186.52621287127707,
          189.38326661606,
          190.335617864321,
          191.92286994475594,
          192.24032036084296,
          193.51012202519095,
          195.89100014584338,
          196.04972535388683,
          196.68462618606085,
          200.17658076301777,
          201.28765721932226,
          203.0336345078007,
          205.7319630445402,
          206.36686387671418,
          208.58901678932315,
          209.06519241345362,
          209.70009324562764,
          210.65244449388857,
          212.5571469904106,
          217.7950788558459,
          219.06488052019395,
          221.44575864084638,
          222.3981098891073,
          223.19173592932484,
          225.2551636338903,
          226.04878967410778,
          228.11221737867325,
          228.5883930028037,
          228.90584341889067,
          235.5723021567176,
          237.00082902910904,
          237.31827944519605,
          237.31827944519605,
          239.38170714976147,
          240.49278360606596,
          240.65150881410946,
          242.71493651867493,
          244.14346339106638,
          244.7783642232404,
          246.0481658875884,
          258.90490773911165,
          263.507938772373,
          264.46029002063403,
          264.93646564476455,
          266.364992517156,
          266.9998933493299,
          267.1586185573734,
          274.14252771128736,
          275.5710545836788,
          285.41201748237563,
          288.2690712271585,
          292.87210226042,
          293.1895526765069,
          296.0466064212899,
          316.20470784281395
         ],
         "yaxis": "y2"
        },
        {
         "hovertemplate": "Boroughs=Manhattan<br>NO2=%{x}<br>asthma_hosp=%{y}<br>year=%{marker.color}<extra></extra>",
         "legendgroup": "",
         "marker": {
          "color": [
           2009,
           2009,
           2009,
           2009,
           2009,
           2009,
           2009,
           2009,
           2009,
           2009,
           2010,
           2010,
           2010,
           2010,
           2010,
           2010,
           2010,
           2010,
           2010,
           2010,
           2011,
           2011,
           2011,
           2011,
           2011,
           2011,
           2011,
           2011,
           2011,
           2011,
           2012,
           2012,
           2012,
           2012,
           2012,
           2012,
           2012,
           2012,
           2012,
           2012,
           2013,
           2013,
           2013,
           2013,
           2013,
           2013,
           2013,
           2013,
           2013,
           2013,
           2014,
           2014,
           2014,
           2014,
           2014,
           2014,
           2014,
           2014,
           2014,
           2014,
           2015,
           2015,
           2015,
           2015,
           2015,
           2015,
           2015,
           2015,
           2015,
           2015,
           2016,
           2016,
           2016,
           2016,
           2016,
           2016,
           2016,
           2016,
           2016,
           2016
          ],
          "coloraxis": "coloraxis",
          "symbol": "circle"
         },
         "mode": "markers",
         "name": "",
         "orientation": "v",
         "showlegend": false,
         "type": "scatter",
         "x": [
          28.5,
          31.06,
          29.9,
          31.95,
          34.29,
          39.87,
          43.32,
          34.75,
          32.71,
          36.69,
          25.22,
          27.83,
          27.07,
          28.66,
          31.02,
          36.03,
          39.17,
          31.8,
          29.99,
          33.48,
          25.56,
          28.23,
          27.65,
          29.3,
          31.52,
          36.33,
          39.18,
          32.25,
          30.45,
          33.5,
          23.15,
          25.76,
          25.32,
          27.08,
          29.5,
          34.33,
          37.29,
          29.98,
          28.23,
          31.07,
          22.79,
          25.36,
          24.75,
          26.5,
          28.59,
          33.35,
          36.08,
          29.19,
          27.39,
          30.26,
          21.12,
          23.86,
          23.76,
          25.1,
          27.62,
          31.9,
          34.74,
          27.99,
          26.45,
          28.87,
          21.14,
          23.15,
          22.99,
          23.86,
          25.67,
          29.17,
          31.23,
          26.27,
          24.84,
          26.61,
          19.85,
          22.19,
          22.19,
          23.15,
          24.81,
          28.36,
          30.14,
          25.93,
          24.49,
          26.15
         ],
         "xaxis": "x3",
         "y": [
          168,
          298,
          254,
          87,
          49,
          27,
          17,
          8,
          80,
          10,
          176,
          246,
          240,
          77,
          48,
          32,
          20,
          0,
          59,
          8,
          164,
          259,
          212,
          75,
          51,
          25,
          9,
          0,
          67,
          9,
          160,
          299,
          203,
          57,
          53,
          30,
          13,
          7,
          77,
          0,
          161,
          276,
          222,
          56,
          41,
          21,
          16,
          6,
          67,
          4,
          217,
          233,
          239,
          64,
          40,
          32,
          14,
          4,
          57,
          2,
          175,
          234,
          197,
          51,
          42,
          21,
          5,
          1,
          67,
          4,
          210,
          284,
          151,
          43,
          39,
          11,
          8,
          4,
          73,
          7
         ],
         "yaxis": "y3"
        },
        {
         "hovertemplate": "<b>OLS trendline</b><br>asthma_hosp = -10.2462 * NO2 + 385.148<br>R<sup>2</sup>=0.287569<br><br>Boroughs=Manhattan<br>NO2=%{x}<br>asthma_hosp=%{y} <b>(trend)</b><extra></extra>",
         "legendgroup": "",
         "marker": {
          "symbol": "circle"
         },
         "mode": "lines",
         "name": "",
         "showlegend": false,
         "type": "scatter",
         "x": [
          19.85,
          21.12,
          21.14,
          22.19,
          22.19,
          22.79,
          22.99,
          23.15,
          23.15,
          23.15,
          23.76,
          23.86,
          23.86,
          24.49,
          24.75,
          24.81,
          24.84,
          25.1,
          25.22,
          25.32,
          25.36,
          25.56,
          25.67,
          25.76,
          25.93,
          26.15,
          26.27,
          26.45,
          26.5,
          26.61,
          27.07,
          27.08,
          27.39,
          27.62,
          27.65,
          27.83,
          27.99,
          28.23,
          28.23,
          28.36,
          28.5,
          28.59,
          28.66,
          28.87,
          29.17,
          29.19,
          29.3,
          29.5,
          29.9,
          29.98,
          29.99,
          30.14,
          30.26,
          30.45,
          31.02,
          31.06,
          31.07,
          31.23,
          31.52,
          31.8,
          31.9,
          31.95,
          32.25,
          32.71,
          33.35,
          33.48,
          33.5,
          34.29,
          34.33,
          34.74,
          34.75,
          36.03,
          36.08,
          36.33,
          36.69,
          37.29,
          39.17,
          39.18,
          39.87,
          43.32
         ],
         "xaxis": "x3",
         "y": [
          181.76139883953212,
          168.74877879137892,
          168.54385564101432,
          157.7853902468719,
          157.7853902468719,
          151.6376957359334,
          149.58846423228724,
          147.9490790293703,
          147.9490790293703,
          147.9490790293703,
          141.69892294324944,
          140.67430719142638,
          140.67430719142638,
          134.21922795494095,
          131.5552270002009,
          130.94045754910707,
          130.63307282356013,
          127.9690718688201,
          126.7395329666324,
          125.7149172148093,
          125.30507091408009,
          123.25583941043391,
          122.12876208342846,
          121.20660790678772,
          119.46476112868845,
          117.21060647467772,
          115.98106757248996,
          114.13675921920844,
          113.62445134329687,
          112.49737401629147,
          107.78414155790529,
          107.68167998272298,
          104.5053711520714,
          102.14875492287831,
          101.8413701973314,
          99.99706184404982,
          98.35767664113291,
          95.89859883675746,
          95.89859883675746,
          94.56659835938746,
          93.13213630683515,
          92.20998213019436,
          91.49275110391818,
          89.3410580250897,
          86.26721076962048,
          86.06228761925581,
          84.93521029225047,
          82.88597878860429,
          78.78751578131192,
          77.96782317985344,
          77.8653616046712,
          76.32843797693653,
          75.09889907474883,
          73.15212914628495,
          67.31181936089337,
          66.90197306016415,
          66.79951148498179,
          65.16012628206488,
          62.18874060177791,
          59.3198164966733,
          58.295200744850206,
          57.78289286893869,
          54.709045613469414,
          49.99581315508317,
          43.438272343415406,
          42.10627186604546,
          41.9013487156808,
          33.806884276278424,
          33.39703797554921,
          29.19611339307454,
          29.093651817892237,
          15.97857019455671,
          15.466262318645192,
          12.904722939087492,
          9.216106232524396,
          3.0684117215858464,
          -16.19436441268823,
          -16.296825987870477,
          -23.366674675449758,
          -58.71591811334628
         ],
         "yaxis": "y3"
        },
        {
         "hovertemplate": "Boroughs=Queens<br>NO2=%{x}<br>asthma_hosp=%{y}<br>year=%{marker.color}<extra></extra>",
         "legendgroup": "",
         "marker": {
          "color": [
           2009,
           2009,
           2009,
           2009,
           2009,
           2009,
           2009,
           2009,
           2009,
           2009,
           2010,
           2010,
           2010,
           2010,
           2010,
           2010,
           2010,
           2010,
           2010,
           2010,
           2011,
           2011,
           2011,
           2011,
           2011,
           2011,
           2011,
           2011,
           2011,
           2011,
           2012,
           2012,
           2012,
           2012,
           2012,
           2012,
           2012,
           2012,
           2012,
           2012,
           2013,
           2013,
           2013,
           2013,
           2013,
           2013,
           2013,
           2013,
           2013,
           2013,
           2014,
           2014,
           2014,
           2014,
           2014,
           2014,
           2014,
           2014,
           2014,
           2014,
           2015,
           2015,
           2015,
           2015,
           2015,
           2015,
           2015,
           2015,
           2015,
           2015,
           2016,
           2016,
           2016,
           2016,
           2016,
           2016,
           2016,
           2016,
           2016,
           2016
          ],
          "coloraxis": "coloraxis",
          "symbol": "circle"
         },
         "mode": "markers",
         "name": "",
         "orientation": "v",
         "showlegend": false,
         "type": "scatter",
         "x": [
          26.29,
          25.81,
          22.68,
          20.05,
          24.06,
          22.78,
          22.93,
          22.29,
          19.89,
          14.68,
          24.32,
          24.18,
          21.48,
          19.23,
          22.61,
          21.67,
          21.7,
          21.22,
          19.1,
          14.07,
          25.24,
          24.96,
          21.94,
          19.48,
          23.26,
          22.1,
          22.21,
          21.54,
          19.29,
          14.27,
          23.14,
          22.78,
          19.83,
          17.46,
          20.99,
          19.78,
          20.01,
          19.35,
          17.34,
          13.12,
          22.3,
          21.89,
          18.71,
          16.41,
          20.3,
          19.03,
          19.65,
          18.96,
          16.8,
          12.67,
          22.07,
          21.87,
          19.46,
          17.44,
          20,
          19.26,
          19.19,
          18.81,
          17.28,
          13.77,
          21.39,
          21.11,
          19.09,
          17.3,
          19.25,
          18.78,
          18.68,
          18.42,
          17.16,
          13.55,
          20.91,
          20.53,
          18.24,
          16.43,
          18.65,
          18.09,
          17.8,
          17.56,
          16.16,
          11.72
         ],
         "xaxis": "x4",
         "y": [
          79,
          225,
          84,
          34,
          157,
          50,
          269,
          431,
          224,
          185,
          86,
          197,
          89,
          23,
          160,
          46,
          226,
          343,
          173,
          177,
          80,
          187,
          83,
          7,
          149,
          48,
          170,
          267,
          157,
          132,
          70,
          234,
          68,
          31,
          146,
          37,
          218,
          257,
          176,
          86,
          66,
          202,
          82,
          12,
          87,
          49,
          181,
          288,
          158,
          86,
          67,
          249,
          75,
          21,
          109,
          34,
          209,
          276,
          162,
          100,
          47,
          177,
          70,
          19,
          95,
          57,
          183,
          261,
          135,
          86,
          55,
          199,
          79,
          7,
          97,
          51,
          146,
          239,
          115,
          73
         ],
         "yaxis": "y4"
        },
        {
         "hovertemplate": "<b>OLS trendline</b><br>asthma_hosp = 5.13113 * NO2 + 30.9908<br>R<sup>2</sup>=0.033505<br><br>Boroughs=Queens<br>NO2=%{x}<br>asthma_hosp=%{y} <b>(trend)</b><extra></extra>",
         "legendgroup": "",
         "marker": {
          "symbol": "circle"
         },
         "mode": "lines",
         "name": "",
         "showlegend": false,
         "type": "scatter",
         "x": [
          11.72,
          12.67,
          13.12,
          13.55,
          13.77,
          14.07,
          14.27,
          14.68,
          16.16,
          16.41,
          16.43,
          16.8,
          17.16,
          17.28,
          17.3,
          17.34,
          17.44,
          17.46,
          17.56,
          17.8,
          18.09,
          18.24,
          18.42,
          18.65,
          18.68,
          18.71,
          18.78,
          18.81,
          18.96,
          19.03,
          19.09,
          19.1,
          19.19,
          19.23,
          19.25,
          19.26,
          19.29,
          19.35,
          19.46,
          19.48,
          19.65,
          19.78,
          19.83,
          19.89,
          20,
          20.01,
          20.05,
          20.3,
          20.53,
          20.91,
          20.99,
          21.11,
          21.22,
          21.39,
          21.48,
          21.54,
          21.67,
          21.7,
          21.87,
          21.89,
          21.94,
          22.07,
          22.1,
          22.21,
          22.29,
          22.3,
          22.61,
          22.68,
          22.78,
          22.78,
          22.93,
          23.14,
          23.26,
          24.06,
          24.18,
          24.32,
          24.96,
          25.24,
          25.81,
          26.29
         ],
         "xaxis": "x4",
         "y": [
          91.12764694029657,
          96.00221814229191,
          98.31122555376338,
          100.51761041361391,
          101.6464584814444,
          103.18579675575872,
          104.21202227196827,
          106.31578458019783,
          113.90985340014846,
          115.19263529541038,
          115.29525784703134,
          117.193775052019,
          119.04098098119618,
          119.6567162909219,
          119.75933884254286,
          119.96458394578477,
          120.47769670388955,
          120.5803192555105,
          121.09343201361526,
          122.32490263306673,
          123.81292963157055,
          124.5825987687277,
          125.50620173331632,
          126.68636107695728,
          126.84029490438871,
          126.99422873182016,
          127.3534076624935,
          127.50734148992491,
          128.27701062708206,
          128.63618955775542,
          128.94405721261828,
          128.99536848842877,
          129.45716997072304,
          129.66241507396495,
          129.7650376255859,
          129.8163489013964,
          129.9702827288278,
          130.2781503836907,
          130.84257441760593,
          130.94519696922688,
          131.817488658005,
          132.48453524354122,
          132.7410916225936,
          133.04895927745645,
          133.6133833113717,
          133.6646945871822,
          133.8699396904241,
          135.152721585686,
          136.332880929327,
          138.28270941012514,
          138.69319961660895,
          139.30893492633467,
          139.87335896024993,
          140.74565064902805,
          141.20745213132233,
          141.5153197861852,
          142.1823663717214,
          142.33630019915282,
          143.20859188793094,
          143.3112144395519,
          143.5677708186043,
          144.2348174041405,
          144.38875123157192,
          144.95317526548718,
          145.363665471971,
          145.41497674778148,
          147.00562629790625,
          147.3648052285796,
          147.87791798668437,
          147.87791798668437,
          148.64758712384153,
          149.72512391586156,
          150.34085922558728,
          154.44576129042545,
          155.06149660015117,
          155.77985446149788,
          159.0637761133684,
          160.50049183606174,
          163.42523455725896,
          165.88817579616187
         ],
         "yaxis": "y4"
        },
        {
         "hovertemplate": "Boroughs=Staten Island<br>NO2=%{x}<br>asthma_hosp=%{y}<br>year=%{marker.color}<extra></extra>",
         "legendgroup": "",
         "marker": {
          "color": [
           2009,
           2009,
           2009,
           2009,
           2010,
           2010,
           2010,
           2010,
           2011,
           2011,
           2011,
           2011,
           2012,
           2012,
           2012,
           2012,
           2013,
           2013,
           2013,
           2013,
           2014,
           2014,
           2014,
           2014,
           2015,
           2015,
           2015,
           2015,
           2016,
           2016,
           2016,
           2016
          ],
          "coloraxis": "coloraxis",
          "symbol": "circle"
         },
         "mode": "markers",
         "name": "",
         "orientation": "v",
         "showlegend": false,
         "type": "scatter",
         "x": [
          21.35,
          18.41,
          17.49,
          14.71,
          19.79,
          17.38,
          16,
          13.05,
          21.12,
          18.29,
          17.17,
          13.5,
          18.78,
          16.01,
          15.31,
          12.47,
          18.38,
          15.4,
          14.69,
          11.51,
          17.54,
          15.53,
          14.56,
          12.59,
          17.36,
          15.28,
          14.21,
          11.91,
          17.47,
          14.93,
          14.11,
          11.52
         ],
         "xaxis": "x5",
         "y": [
          80,
          78,
          35,
          47,
          56,
          85,
          12,
          43,
          65,
          63,
          18,
          36,
          79,
          65,
          14,
          38,
          64,
          77,
          12,
          39,
          67,
          80,
          11,
          40,
          68,
          59,
          12,
          38,
          83,
          72,
          12,
          36
         ],
         "yaxis": "y5"
        },
        {
         "hovertemplate": "<b>OLS trendline</b><br>asthma_hosp = 4.92965 * NO2 + -28.7305<br>R<sup>2</sup>=0.272023<br><br>Boroughs=Staten Island<br>NO2=%{x}<br>asthma_hosp=%{y} <b>(trend)</b><extra></extra>",
         "legendgroup": "",
         "marker": {
          "symbol": "circle"
         },
         "mode": "lines",
         "name": "",
         "showlegend": false,
         "type": "scatter",
         "x": [
          11.51,
          11.52,
          11.91,
          12.47,
          12.59,
          13.05,
          13.5,
          14.11,
          14.21,
          14.56,
          14.69,
          14.71,
          14.93,
          15.28,
          15.31,
          15.4,
          15.53,
          16,
          16.01,
          17.17,
          17.36,
          17.38,
          17.47,
          17.49,
          17.54,
          18.29,
          18.38,
          18.41,
          18.78,
          19.79,
          21.12,
          21.35
         ],
         "xaxis": "x5",
         "y": [
          28.009797830610772,
          28.059094351716183,
          29.98165867482713,
          32.742263856730034,
          33.333822109994934,
          35.601462080843746,
          37.819805530587146,
          40.826893318017085,
          41.31985852907118,
          43.045236767760485,
          43.6860915421308,
          43.78468458434162,
          44.86920804866061,
          46.59458628734993,
          46.74247585066615,
          47.18614454061483,
          47.826999314985144,
          50.14393580693937,
          50.193232328044786,
          55.91162877627221,
          56.848262677274974,
          56.9468557194858,
          57.39052440943446,
          57.489117451645285,
          57.735600057172334,
          61.432839140078,
          61.87650783002668,
          62.02439739334291,
          63.84836867424305,
          68.82731730588934,
          75.38375461290873,
          76.51757459833313
         ],
         "yaxis": "y5"
        }
       ],
       "layout": {
        "annotations": [
         {
          "font": {},
          "showarrow": false,
          "text": "Boroughs=Bronx",
          "x": 0.09200000000000001,
          "xanchor": "center",
          "xref": "paper",
          "y": 1,
          "yanchor": "bottom",
          "yref": "paper"
         },
         {
          "font": {},
          "showarrow": false,
          "text": "Boroughs=Brooklyn",
          "x": 0.29600000000000004,
          "xanchor": "center",
          "xref": "paper",
          "y": 1,
          "yanchor": "bottom",
          "yref": "paper"
         },
         {
          "font": {},
          "showarrow": false,
          "text": "Boroughs=Manhattan",
          "x": 0.5,
          "xanchor": "center",
          "xref": "paper",
          "y": 1,
          "yanchor": "bottom",
          "yref": "paper"
         },
         {
          "font": {},
          "showarrow": false,
          "text": "Boroughs=Queens",
          "x": 0.7040000000000002,
          "xanchor": "center",
          "xref": "paper",
          "y": 1,
          "yanchor": "bottom",
          "yref": "paper"
         },
         {
          "font": {},
          "showarrow": false,
          "text": "Boroughs=Staten Island",
          "x": 0.908,
          "xanchor": "center",
          "xref": "paper",
          "y": 1,
          "yanchor": "bottom",
          "yref": "paper"
         }
        ],
        "coloraxis": {
         "colorbar": {
          "title": {
           "text": "year"
          }
         },
         "colorscale": [
          [
           0,
           "#0d0887"
          ],
          [
           0.1111111111111111,
           "#46039f"
          ],
          [
           0.2222222222222222,
           "#7201a8"
          ],
          [
           0.3333333333333333,
           "#9c179e"
          ],
          [
           0.4444444444444444,
           "#bd3786"
          ],
          [
           0.5555555555555556,
           "#d8576b"
          ],
          [
           0.6666666666666666,
           "#ed7953"
          ],
          [
           0.7777777777777778,
           "#fb9f3a"
          ],
          [
           0.8888888888888888,
           "#fdca26"
          ],
          [
           1,
           "#f0f921"
          ]
         ]
        },
        "legend": {
         "tracegroupgap": 0
        },
        "margin": {
         "t": 60
        },
        "template": {
         "data": {
          "bar": [
           {
            "error_x": {
             "color": "#2a3f5f"
            },
            "error_y": {
             "color": "#2a3f5f"
            },
            "marker": {
             "line": {
              "color": "#E5ECF6",
              "width": 0.5
             },
             "pattern": {
              "fillmode": "overlay",
              "size": 10,
              "solidity": 0.2
             }
            },
            "type": "bar"
           }
          ],
          "barpolar": [
           {
            "marker": {
             "line": {
              "color": "#E5ECF6",
              "width": 0.5
             },
             "pattern": {
              "fillmode": "overlay",
              "size": 10,
              "solidity": 0.2
             }
            },
            "type": "barpolar"
           }
          ],
          "carpet": [
           {
            "aaxis": {
             "endlinecolor": "#2a3f5f",
             "gridcolor": "white",
             "linecolor": "white",
             "minorgridcolor": "white",
             "startlinecolor": "#2a3f5f"
            },
            "baxis": {
             "endlinecolor": "#2a3f5f",
             "gridcolor": "white",
             "linecolor": "white",
             "minorgridcolor": "white",
             "startlinecolor": "#2a3f5f"
            },
            "type": "carpet"
           }
          ],
          "choropleth": [
           {
            "colorbar": {
             "outlinewidth": 0,
             "ticks": ""
            },
            "type": "choropleth"
           }
          ],
          "contour": [
           {
            "colorbar": {
             "outlinewidth": 0,
             "ticks": ""
            },
            "colorscale": [
             [
              0,
              "#0d0887"
             ],
             [
              0.1111111111111111,
              "#46039f"
             ],
             [
              0.2222222222222222,
              "#7201a8"
             ],
             [
              0.3333333333333333,
              "#9c179e"
             ],
             [
              0.4444444444444444,
              "#bd3786"
             ],
             [
              0.5555555555555556,
              "#d8576b"
             ],
             [
              0.6666666666666666,
              "#ed7953"
             ],
             [
              0.7777777777777778,
              "#fb9f3a"
             ],
             [
              0.8888888888888888,
              "#fdca26"
             ],
             [
              1,
              "#f0f921"
             ]
            ],
            "type": "contour"
           }
          ],
          "contourcarpet": [
           {
            "colorbar": {
             "outlinewidth": 0,
             "ticks": ""
            },
            "type": "contourcarpet"
           }
          ],
          "heatmap": [
           {
            "colorbar": {
             "outlinewidth": 0,
             "ticks": ""
            },
            "colorscale": [
             [
              0,
              "#0d0887"
             ],
             [
              0.1111111111111111,
              "#46039f"
             ],
             [
              0.2222222222222222,
              "#7201a8"
             ],
             [
              0.3333333333333333,
              "#9c179e"
             ],
             [
              0.4444444444444444,
              "#bd3786"
             ],
             [
              0.5555555555555556,
              "#d8576b"
             ],
             [
              0.6666666666666666,
              "#ed7953"
             ],
             [
              0.7777777777777778,
              "#fb9f3a"
             ],
             [
              0.8888888888888888,
              "#fdca26"
             ],
             [
              1,
              "#f0f921"
             ]
            ],
            "type": "heatmap"
           }
          ],
          "heatmapgl": [
           {
            "colorbar": {
             "outlinewidth": 0,
             "ticks": ""
            },
            "colorscale": [
             [
              0,
              "#0d0887"
             ],
             [
              0.1111111111111111,
              "#46039f"
             ],
             [
              0.2222222222222222,
              "#7201a8"
             ],
             [
              0.3333333333333333,
              "#9c179e"
             ],
             [
              0.4444444444444444,
              "#bd3786"
             ],
             [
              0.5555555555555556,
              "#d8576b"
             ],
             [
              0.6666666666666666,
              "#ed7953"
             ],
             [
              0.7777777777777778,
              "#fb9f3a"
             ],
             [
              0.8888888888888888,
              "#fdca26"
             ],
             [
              1,
              "#f0f921"
             ]
            ],
            "type": "heatmapgl"
           }
          ],
          "histogram": [
           {
            "marker": {
             "pattern": {
              "fillmode": "overlay",
              "size": 10,
              "solidity": 0.2
             }
            },
            "type": "histogram"
           }
          ],
          "histogram2d": [
           {
            "colorbar": {
             "outlinewidth": 0,
             "ticks": ""
            },
            "colorscale": [
             [
              0,
              "#0d0887"
             ],
             [
              0.1111111111111111,
              "#46039f"
             ],
             [
              0.2222222222222222,
              "#7201a8"
             ],
             [
              0.3333333333333333,
              "#9c179e"
             ],
             [
              0.4444444444444444,
              "#bd3786"
             ],
             [
              0.5555555555555556,
              "#d8576b"
             ],
             [
              0.6666666666666666,
              "#ed7953"
             ],
             [
              0.7777777777777778,
              "#fb9f3a"
             ],
             [
              0.8888888888888888,
              "#fdca26"
             ],
             [
              1,
              "#f0f921"
             ]
            ],
            "type": "histogram2d"
           }
          ],
          "histogram2dcontour": [
           {
            "colorbar": {
             "outlinewidth": 0,
             "ticks": ""
            },
            "colorscale": [
             [
              0,
              "#0d0887"
             ],
             [
              0.1111111111111111,
              "#46039f"
             ],
             [
              0.2222222222222222,
              "#7201a8"
             ],
             [
              0.3333333333333333,
              "#9c179e"
             ],
             [
              0.4444444444444444,
              "#bd3786"
             ],
             [
              0.5555555555555556,
              "#d8576b"
             ],
             [
              0.6666666666666666,
              "#ed7953"
             ],
             [
              0.7777777777777778,
              "#fb9f3a"
             ],
             [
              0.8888888888888888,
              "#fdca26"
             ],
             [
              1,
              "#f0f921"
             ]
            ],
            "type": "histogram2dcontour"
           }
          ],
          "mesh3d": [
           {
            "colorbar": {
             "outlinewidth": 0,
             "ticks": ""
            },
            "type": "mesh3d"
           }
          ],
          "parcoords": [
           {
            "line": {
             "colorbar": {
              "outlinewidth": 0,
              "ticks": ""
             }
            },
            "type": "parcoords"
           }
          ],
          "pie": [
           {
            "automargin": true,
            "type": "pie"
           }
          ],
          "scatter": [
           {
            "marker": {
             "colorbar": {
              "outlinewidth": 0,
              "ticks": ""
             }
            },
            "type": "scatter"
           }
          ],
          "scatter3d": [
           {
            "line": {
             "colorbar": {
              "outlinewidth": 0,
              "ticks": ""
             }
            },
            "marker": {
             "colorbar": {
              "outlinewidth": 0,
              "ticks": ""
             }
            },
            "type": "scatter3d"
           }
          ],
          "scattercarpet": [
           {
            "marker": {
             "colorbar": {
              "outlinewidth": 0,
              "ticks": ""
             }
            },
            "type": "scattercarpet"
           }
          ],
          "scattergeo": [
           {
            "marker": {
             "colorbar": {
              "outlinewidth": 0,
              "ticks": ""
             }
            },
            "type": "scattergeo"
           }
          ],
          "scattergl": [
           {
            "marker": {
             "colorbar": {
              "outlinewidth": 0,
              "ticks": ""
             }
            },
            "type": "scattergl"
           }
          ],
          "scattermapbox": [
           {
            "marker": {
             "colorbar": {
              "outlinewidth": 0,
              "ticks": ""
             }
            },
            "type": "scattermapbox"
           }
          ],
          "scatterpolar": [
           {
            "marker": {
             "colorbar": {
              "outlinewidth": 0,
              "ticks": ""
             }
            },
            "type": "scatterpolar"
           }
          ],
          "scatterpolargl": [
           {
            "marker": {
             "colorbar": {
              "outlinewidth": 0,
              "ticks": ""
             }
            },
            "type": "scatterpolargl"
           }
          ],
          "scatterternary": [
           {
            "marker": {
             "colorbar": {
              "outlinewidth": 0,
              "ticks": ""
             }
            },
            "type": "scatterternary"
           }
          ],
          "surface": [
           {
            "colorbar": {
             "outlinewidth": 0,
             "ticks": ""
            },
            "colorscale": [
             [
              0,
              "#0d0887"
             ],
             [
              0.1111111111111111,
              "#46039f"
             ],
             [
              0.2222222222222222,
              "#7201a8"
             ],
             [
              0.3333333333333333,
              "#9c179e"
             ],
             [
              0.4444444444444444,
              "#bd3786"
             ],
             [
              0.5555555555555556,
              "#d8576b"
             ],
             [
              0.6666666666666666,
              "#ed7953"
             ],
             [
              0.7777777777777778,
              "#fb9f3a"
             ],
             [
              0.8888888888888888,
              "#fdca26"
             ],
             [
              1,
              "#f0f921"
             ]
            ],
            "type": "surface"
           }
          ],
          "table": [
           {
            "cells": {
             "fill": {
              "color": "#EBF0F8"
             },
             "line": {
              "color": "white"
             }
            },
            "header": {
             "fill": {
              "color": "#C8D4E3"
             },
             "line": {
              "color": "white"
             }
            },
            "type": "table"
           }
          ]
         },
         "layout": {
          "annotationdefaults": {
           "arrowcolor": "#2a3f5f",
           "arrowhead": 0,
           "arrowwidth": 1
          },
          "autotypenumbers": "strict",
          "coloraxis": {
           "colorbar": {
            "outlinewidth": 0,
            "ticks": ""
           }
          },
          "colorscale": {
           "diverging": [
            [
             0,
             "#8e0152"
            ],
            [
             0.1,
             "#c51b7d"
            ],
            [
             0.2,
             "#de77ae"
            ],
            [
             0.3,
             "#f1b6da"
            ],
            [
             0.4,
             "#fde0ef"
            ],
            [
             0.5,
             "#f7f7f7"
            ],
            [
             0.6,
             "#e6f5d0"
            ],
            [
             0.7,
             "#b8e186"
            ],
            [
             0.8,
             "#7fbc41"
            ],
            [
             0.9,
             "#4d9221"
            ],
            [
             1,
             "#276419"
            ]
           ],
           "sequential": [
            [
             0,
             "#0d0887"
            ],
            [
             0.1111111111111111,
             "#46039f"
            ],
            [
             0.2222222222222222,
             "#7201a8"
            ],
            [
             0.3333333333333333,
             "#9c179e"
            ],
            [
             0.4444444444444444,
             "#bd3786"
            ],
            [
             0.5555555555555556,
             "#d8576b"
            ],
            [
             0.6666666666666666,
             "#ed7953"
            ],
            [
             0.7777777777777778,
             "#fb9f3a"
            ],
            [
             0.8888888888888888,
             "#fdca26"
            ],
            [
             1,
             "#f0f921"
            ]
           ],
           "sequentialminus": [
            [
             0,
             "#0d0887"
            ],
            [
             0.1111111111111111,
             "#46039f"
            ],
            [
             0.2222222222222222,
             "#7201a8"
            ],
            [
             0.3333333333333333,
             "#9c179e"
            ],
            [
             0.4444444444444444,
             "#bd3786"
            ],
            [
             0.5555555555555556,
             "#d8576b"
            ],
            [
             0.6666666666666666,
             "#ed7953"
            ],
            [
             0.7777777777777778,
             "#fb9f3a"
            ],
            [
             0.8888888888888888,
             "#fdca26"
            ],
            [
             1,
             "#f0f921"
            ]
           ]
          },
          "colorway": [
           "#636efa",
           "#EF553B",
           "#00cc96",
           "#ab63fa",
           "#FFA15A",
           "#19d3f3",
           "#FF6692",
           "#B6E880",
           "#FF97FF",
           "#FECB52"
          ],
          "font": {
           "color": "#2a3f5f"
          },
          "geo": {
           "bgcolor": "white",
           "lakecolor": "white",
           "landcolor": "#E5ECF6",
           "showlakes": true,
           "showland": true,
           "subunitcolor": "white"
          },
          "hoverlabel": {
           "align": "left"
          },
          "hovermode": "closest",
          "mapbox": {
           "style": "light"
          },
          "paper_bgcolor": "white",
          "plot_bgcolor": "#E5ECF6",
          "polar": {
           "angularaxis": {
            "gridcolor": "white",
            "linecolor": "white",
            "ticks": ""
           },
           "bgcolor": "#E5ECF6",
           "radialaxis": {
            "gridcolor": "white",
            "linecolor": "white",
            "ticks": ""
           }
          },
          "scene": {
           "xaxis": {
            "backgroundcolor": "#E5ECF6",
            "gridcolor": "white",
            "gridwidth": 2,
            "linecolor": "white",
            "showbackground": true,
            "ticks": "",
            "zerolinecolor": "white"
           },
           "yaxis": {
            "backgroundcolor": "#E5ECF6",
            "gridcolor": "white",
            "gridwidth": 2,
            "linecolor": "white",
            "showbackground": true,
            "ticks": "",
            "zerolinecolor": "white"
           },
           "zaxis": {
            "backgroundcolor": "#E5ECF6",
            "gridcolor": "white",
            "gridwidth": 2,
            "linecolor": "white",
            "showbackground": true,
            "ticks": "",
            "zerolinecolor": "white"
           }
          },
          "shapedefaults": {
           "line": {
            "color": "#2a3f5f"
           }
          },
          "ternary": {
           "aaxis": {
            "gridcolor": "white",
            "linecolor": "white",
            "ticks": ""
           },
           "baxis": {
            "gridcolor": "white",
            "linecolor": "white",
            "ticks": ""
           },
           "bgcolor": "#E5ECF6",
           "caxis": {
            "gridcolor": "white",
            "linecolor": "white",
            "ticks": ""
           }
          },
          "title": {
           "x": 0.05
          },
          "xaxis": {
           "automargin": true,
           "gridcolor": "white",
           "linecolor": "white",
           "ticks": "",
           "title": {
            "standoff": 15
           },
           "zerolinecolor": "white",
           "zerolinewidth": 2
          },
          "yaxis": {
           "automargin": true,
           "gridcolor": "white",
           "linecolor": "white",
           "ticks": "",
           "title": {
            "standoff": 15
           },
           "zerolinecolor": "white",
           "zerolinewidth": 2
          }
         }
        },
        "xaxis": {
         "anchor": "y",
         "domain": [
          0,
          0.18400000000000002
         ],
         "title": {
          "text": "NO2"
         }
        },
        "xaxis2": {
         "anchor": "y2",
         "domain": [
          0.20400000000000001,
          0.388
         ],
         "matches": "x",
         "title": {
          "text": "NO2"
         }
        },
        "xaxis3": {
         "anchor": "y3",
         "domain": [
          0.40800000000000003,
          0.5920000000000001
         ],
         "matches": "x",
         "title": {
          "text": "NO2"
         }
        },
        "xaxis4": {
         "anchor": "y4",
         "domain": [
          0.6120000000000001,
          0.7960000000000002
         ],
         "matches": "x",
         "title": {
          "text": "NO2"
         }
        },
        "xaxis5": {
         "anchor": "y5",
         "domain": [
          0.8160000000000001,
          1
         ],
         "matches": "x",
         "title": {
          "text": "NO2"
         }
        },
        "yaxis": {
         "anchor": "x",
         "domain": [
          0,
          1
         ],
         "title": {
          "text": "asthma_hosp"
         }
        },
        "yaxis2": {
         "anchor": "x2",
         "domain": [
          0,
          1
         ],
         "matches": "y",
         "showticklabels": false
        },
        "yaxis3": {
         "anchor": "x3",
         "domain": [
          0,
          1
         ],
         "matches": "y",
         "showticklabels": false
        },
        "yaxis4": {
         "anchor": "x4",
         "domain": [
          0,
          1
         ],
         "matches": "y",
         "showticklabels": false
        },
        "yaxis5": {
         "anchor": "x5",
         "domain": [
          0,
          1
         ],
         "matches": "y",
         "showticklabels": false
        }
       }
      },
      "text/html": [
       "<div>                            <div id=\"bc8071ab-9a00-4156-822d-e2fe6334968d\" class=\"plotly-graph-div\" style=\"height:525px; width:100%;\"></div>            <script type=\"text/javascript\">                require([\"plotly\"], function(Plotly) {                    window.PLOTLYENV=window.PLOTLYENV || {};                                    if (document.getElementById(\"bc8071ab-9a00-4156-822d-e2fe6334968d\")) {                    Plotly.newPlot(                        \"bc8071ab-9a00-4156-822d-e2fe6334968d\",                        [{\"hovertemplate\":\"Boroughs=Bronx<br>NO2=%{x}<br>asthma_hosp=%{y}<br>year=%{marker.color}<extra></extra>\",\"legendgroup\":\"\",\"marker\":{\"color\":[2009,2009,2009,2009,2009,2009,2009,2010,2010,2010,2010,2010,2010,2010,2011,2011,2011,2011,2011,2011,2011,2012,2012,2012,2012,2012,2012,2012,2013,2013,2013,2013,2013,2013,2013,2014,2014,2014,2014,2014,2014,2014,2015,2015,2015,2015,2015,2015,2015,2016,2016,2016,2016,2016,2016,2016],\"coloraxis\":\"coloraxis\",\"symbol\":\"circle\"},\"mode\":\"markers\",\"name\":\"\",\"orientation\":\"v\",\"showlegend\":false,\"x\":[23.2,22.39,24.82,22.83,28.07,29.35,26.39,20.13,20.21,22.06,21.04,25.25,26.38,24.1,20.79,21.06,22.61,21.61,25.57,26.67,24.58,19.05,20.02,21.01,19.94,23.42,24.23,22.27,18.23,18.37,19.89,18.58,22.67,23.73,21.54,17.1,18.97,19.44,19.26,21.87,22.56,21.14,17.82,19.52,19.76,19.36,21.84,22.28,20.91,16.04,17.52,17.93,17.92,20.37,21.08,19.91],\"xaxis\":\"x\",\"y\":[61,282,693,588,631,657,504,74,285,563,491,552,505,435,65,303,528,552,529,533,457,67,320,559,609,524,571,501,72,319,589,515,559,627,453,71,324,648,521,567,624,478,60,268,548,523,463,574,431,53,265,545,441,427,565,361],\"yaxis\":\"y\",\"type\":\"scatter\"},{\"hovertemplate\":\"<b>OLS trendline</b><br>asthma_hosp = 33.3204 * NO2 + -282.317<br>R<sup>2</sup>=0.267281<br><br>Boroughs=Bronx<br>NO2=%{x}<br>asthma_hosp=%{y} <b>(trend)</b><extra></extra>\",\"legendgroup\":\"\",\"marker\":{\"symbol\":\"circle\"},\"mode\":\"lines\",\"name\":\"\",\"showlegend\":false,\"x\":[16.04,17.1,17.52,17.82,17.92,17.93,18.23,18.37,18.58,18.97,19.05,19.26,19.36,19.44,19.52,19.76,19.89,19.91,19.94,20.02,20.13,20.21,20.37,20.79,20.91,21.01,21.04,21.06,21.08,21.14,21.54,21.61,21.84,21.87,22.06,22.27,22.28,22.39,22.56,22.61,22.67,22.83,23.2,23.42,23.73,24.1,24.23,24.58,24.82,25.25,25.57,26.38,26.39,26.67,28.07,29.35],\"xaxis\":\"x\",\"y\":[252.14224639902056,287.46186082939107,301.456425037651,311.4525423292654,314.78458142647014,315.11778533619054,325.1139026278049,329.7787573638916,336.7760394680215,349.77099194712014,352.436623224884,359.433905329014,362.76594442621877,365.4315757039826,368.09720698174635,376.0941008150378,380.42575164140396,381.092159460845,382.0917711900064,384.75740246777013,388.4226454746954,391.08827675245925,396.41953930798684,410.4141035162469,414.41255043289254,417.7445895300974,418.7442012592587,419.41060907869974,420.07701689814064,422.0762403564636,435.4043967452826,437.73682411332595,445.4005140368969,446.4001257660584,452.7310000507473,459.7282821548773,460.06148606459794,463.7267290715231,469.3911955367712,471.0572150853735,473.05643854369646,478.38770109922405,490.71624575888166,498.0467317727322,508.37605297406697,520.7045976337246,525.0362484600907,536.6983853003075,544.6952791335989,559.0230472515793,569.6855723626346,596.6750890499932,597.0082929597137,606.338002431887,652.9865497927537,695.6366502369748],\"yaxis\":\"y\",\"type\":\"scatter\"},{\"hovertemplate\":\"Boroughs=Brooklyn<br>NO2=%{x}<br>asthma_hosp=%{y}<br>year=%{marker.color}<extra></extra>\",\"legendgroup\":\"\",\"marker\":{\"color\":[2009,2009,2009,2009,2009,2009,2009,2009,2009,2009,2009,2010,2010,2010,2010,2010,2010,2010,2010,2010,2010,2010,2011,2011,2011,2011,2011,2011,2011,2011,2011,2011,2011,2012,2012,2012,2012,2012,2012,2012,2012,2012,2012,2012,2013,2013,2013,2013,2013,2013,2013,2013,2013,2013,2013,2014,2014,2014,2014,2014,2014,2014,2014,2014,2014,2014,2015,2015,2015,2015,2015,2015,2015,2015,2015,2015,2015,2016,2016,2016,2016,2016,2016,2016,2016,2016,2016,2016],\"coloraxis\":\"coloraxis\",\"symbol\":\"circle\"},\"mode\":\"markers\",\"name\":\"\",\"orientation\":\"v\",\"showlegend\":false,\"x\":[26.95,28.4,26.93,23.9,25.26,24.79,25.14,20.22,22.54,19.9,27.13,25.08,26.46,25.17,22.49,23.77,23.43,23.64,19.1,21.48,19.01,25.31,25.84,26.64,25.3,22.9,23.86,23.32,23.56,19.21,21.62,18.98,25.75,23.63,23.98,22.88,20.67,21.09,20.87,21.16,17.22,19.27,17.21,23.43,22.85,23.41,22.28,20.19,20.59,20.23,20.57,16.65,18.58,16.36,22.72,22.43,22.67,21.75,19.75,20.23,20.41,20.47,17.0,19.1,17.63,22.2,21.69,21.87,20.83,19.09,19.71,19.74,19.72,16.52,18.62,17.08,21.27,21.44,21.65,20.2,18.26,19.32,18.87,18.86,15.3,17.78,15.62,20.82],\"xaxis\":\"x2\",\"y\":[88,176,645,376,62,97,446,195,34,101,503,48,135,559,348,56,64,361,160,20,90,402,43,176,582,313,64,103,361,176,42,67,387,34,171,591,329,57,90,387,191,44,85,387,26,130,581,346,63,70,409,191,30,74,292,46,121,607,366,54,73,460,159,17,82,292,27,114,506,349,37,75,413,179,27,58,219,26,112,473,361,33,72,364,172,30,84,240],\"yaxis\":\"y2\",\"type\":\"scatter\"},{\"hovertemplate\":\"<b>OLS trendline</b><br>asthma_hosp = 15.8725 * NO2 + -134.575<br>R<sup>2</sup>=0.069902<br><br>Boroughs=Brooklyn<br>NO2=%{x}<br>asthma_hosp=%{y} <b>(trend)</b><extra></extra>\",\"legendgroup\":\"\",\"marker\":{\"symbol\":\"circle\"},\"mode\":\"lines\",\"name\":\"\",\"showlegend\":false,\"x\":[15.3,15.62,16.36,16.52,16.65,17.0,17.08,17.21,17.22,17.63,17.78,18.26,18.58,18.62,18.86,18.87,18.98,19.01,19.09,19.1,19.1,19.21,19.27,19.32,19.71,19.72,19.74,19.75,19.9,20.19,20.2,20.22,20.23,20.23,20.41,20.47,20.57,20.59,20.67,20.82,20.83,20.87,21.09,21.16,21.27,21.44,21.48,21.62,21.65,21.69,21.75,21.87,22.2,22.28,22.43,22.49,22.54,22.67,22.72,22.85,22.88,22.9,23.32,23.41,23.43,23.43,23.56,23.63,23.64,23.77,23.86,23.9,23.98,24.79,25.08,25.14,25.17,25.26,25.3,25.31,25.75,25.84,26.46,26.64,26.93,26.95,27.13,28.4],\"xaxis\":\"x2\",\"y\":[108.27468530583315,113.35389196322501,125.09955735844378,127.63916068713976,129.70258839170518,135.25797067322762,136.52777233757556,138.59120004214103,138.74992525018453,145.2576587799679,147.63853690062038,155.25734688670823,160.33655354410004,160.97145437627407,164.780859369318,164.9395845773615,166.68556186583996,167.16173748997048,168.43153915431841,168.59026436236192,168.59026436236192,170.33624165084038,171.28859289910136,172.08221893931884,178.27250205301524,178.4312272610587,178.7486776771457,178.9074028851892,181.28828100584164,185.8913120391031,186.05003724714655,186.36748766323356,186.52621287127707,186.52621287127707,189.38326661606,190.335617864321,191.92286994475594,192.24032036084296,193.51012202519095,195.89100014584338,196.04972535388683,196.68462618606085,200.17658076301777,201.28765721932226,203.0336345078007,205.7319630445402,206.36686387671418,208.58901678932315,209.06519241345362,209.70009324562764,210.65244449388857,212.5571469904106,217.7950788558459,219.06488052019395,221.44575864084638,222.3981098891073,223.19173592932484,225.2551636338903,226.04878967410778,228.11221737867325,228.5883930028037,228.90584341889067,235.5723021567176,237.00082902910904,237.31827944519605,237.31827944519605,239.38170714976147,240.49278360606596,240.65150881410946,242.71493651867493,244.14346339106638,244.7783642232404,246.0481658875884,258.90490773911165,263.507938772373,264.46029002063403,264.93646564476455,266.364992517156,266.9998933493299,267.1586185573734,274.14252771128736,275.5710545836788,285.41201748237563,288.2690712271585,292.87210226042,293.1895526765069,296.0466064212899,316.20470784281395],\"yaxis\":\"y2\",\"type\":\"scatter\"},{\"hovertemplate\":\"Boroughs=Manhattan<br>NO2=%{x}<br>asthma_hosp=%{y}<br>year=%{marker.color}<extra></extra>\",\"legendgroup\":\"\",\"marker\":{\"color\":[2009,2009,2009,2009,2009,2009,2009,2009,2009,2009,2010,2010,2010,2010,2010,2010,2010,2010,2010,2010,2011,2011,2011,2011,2011,2011,2011,2011,2011,2011,2012,2012,2012,2012,2012,2012,2012,2012,2012,2012,2013,2013,2013,2013,2013,2013,2013,2013,2013,2013,2014,2014,2014,2014,2014,2014,2014,2014,2014,2014,2015,2015,2015,2015,2015,2015,2015,2015,2015,2015,2016,2016,2016,2016,2016,2016,2016,2016,2016,2016],\"coloraxis\":\"coloraxis\",\"symbol\":\"circle\"},\"mode\":\"markers\",\"name\":\"\",\"orientation\":\"v\",\"showlegend\":false,\"x\":[28.5,31.06,29.9,31.95,34.29,39.87,43.32,34.75,32.71,36.69,25.22,27.83,27.07,28.66,31.02,36.03,39.17,31.8,29.99,33.48,25.56,28.23,27.65,29.3,31.52,36.33,39.18,32.25,30.45,33.5,23.15,25.76,25.32,27.08,29.5,34.33,37.29,29.98,28.23,31.07,22.79,25.36,24.75,26.5,28.59,33.35,36.08,29.19,27.39,30.26,21.12,23.86,23.76,25.1,27.62,31.9,34.74,27.99,26.45,28.87,21.14,23.15,22.99,23.86,25.67,29.17,31.23,26.27,24.84,26.61,19.85,22.19,22.19,23.15,24.81,28.36,30.14,25.93,24.49,26.15],\"xaxis\":\"x3\",\"y\":[168,298,254,87,49,27,17,8,80,10,176,246,240,77,48,32,20,0,59,8,164,259,212,75,51,25,9,0,67,9,160,299,203,57,53,30,13,7,77,0,161,276,222,56,41,21,16,6,67,4,217,233,239,64,40,32,14,4,57,2,175,234,197,51,42,21,5,1,67,4,210,284,151,43,39,11,8,4,73,7],\"yaxis\":\"y3\",\"type\":\"scatter\"},{\"hovertemplate\":\"<b>OLS trendline</b><br>asthma_hosp = -10.2462 * NO2 + 385.148<br>R<sup>2</sup>=0.287569<br><br>Boroughs=Manhattan<br>NO2=%{x}<br>asthma_hosp=%{y} <b>(trend)</b><extra></extra>\",\"legendgroup\":\"\",\"marker\":{\"symbol\":\"circle\"},\"mode\":\"lines\",\"name\":\"\",\"showlegend\":false,\"x\":[19.85,21.12,21.14,22.19,22.19,22.79,22.99,23.15,23.15,23.15,23.76,23.86,23.86,24.49,24.75,24.81,24.84,25.1,25.22,25.32,25.36,25.56,25.67,25.76,25.93,26.15,26.27,26.45,26.5,26.61,27.07,27.08,27.39,27.62,27.65,27.83,27.99,28.23,28.23,28.36,28.5,28.59,28.66,28.87,29.17,29.19,29.3,29.5,29.9,29.98,29.99,30.14,30.26,30.45,31.02,31.06,31.07,31.23,31.52,31.8,31.9,31.95,32.25,32.71,33.35,33.48,33.5,34.29,34.33,34.74,34.75,36.03,36.08,36.33,36.69,37.29,39.17,39.18,39.87,43.32],\"xaxis\":\"x3\",\"y\":[181.76139883953212,168.74877879137892,168.54385564101432,157.7853902468719,157.7853902468719,151.6376957359334,149.58846423228724,147.9490790293703,147.9490790293703,147.9490790293703,141.69892294324944,140.67430719142638,140.67430719142638,134.21922795494095,131.5552270002009,130.94045754910707,130.63307282356013,127.9690718688201,126.7395329666324,125.7149172148093,125.30507091408009,123.25583941043391,122.12876208342846,121.20660790678772,119.46476112868845,117.21060647467772,115.98106757248996,114.13675921920844,113.62445134329687,112.49737401629147,107.78414155790529,107.68167998272298,104.5053711520714,102.14875492287831,101.8413701973314,99.99706184404982,98.35767664113291,95.89859883675746,95.89859883675746,94.56659835938746,93.13213630683515,92.20998213019436,91.49275110391818,89.3410580250897,86.26721076962048,86.06228761925581,84.93521029225047,82.88597878860429,78.78751578131192,77.96782317985344,77.8653616046712,76.32843797693653,75.09889907474883,73.15212914628495,67.31181936089337,66.90197306016415,66.79951148498179,65.16012628206488,62.18874060177791,59.3198164966733,58.295200744850206,57.78289286893869,54.709045613469414,49.99581315508317,43.438272343415406,42.10627186604546,41.9013487156808,33.806884276278424,33.39703797554921,29.19611339307454,29.093651817892237,15.97857019455671,15.466262318645192,12.904722939087492,9.216106232524396,3.0684117215858464,-16.19436441268823,-16.296825987870477,-23.366674675449758,-58.71591811334628],\"yaxis\":\"y3\",\"type\":\"scatter\"},{\"hovertemplate\":\"Boroughs=Queens<br>NO2=%{x}<br>asthma_hosp=%{y}<br>year=%{marker.color}<extra></extra>\",\"legendgroup\":\"\",\"marker\":{\"color\":[2009,2009,2009,2009,2009,2009,2009,2009,2009,2009,2010,2010,2010,2010,2010,2010,2010,2010,2010,2010,2011,2011,2011,2011,2011,2011,2011,2011,2011,2011,2012,2012,2012,2012,2012,2012,2012,2012,2012,2012,2013,2013,2013,2013,2013,2013,2013,2013,2013,2013,2014,2014,2014,2014,2014,2014,2014,2014,2014,2014,2015,2015,2015,2015,2015,2015,2015,2015,2015,2015,2016,2016,2016,2016,2016,2016,2016,2016,2016,2016],\"coloraxis\":\"coloraxis\",\"symbol\":\"circle\"},\"mode\":\"markers\",\"name\":\"\",\"orientation\":\"v\",\"showlegend\":false,\"x\":[26.29,25.81,22.68,20.05,24.06,22.78,22.93,22.29,19.89,14.68,24.32,24.18,21.48,19.23,22.61,21.67,21.7,21.22,19.1,14.07,25.24,24.96,21.94,19.48,23.26,22.1,22.21,21.54,19.29,14.27,23.14,22.78,19.83,17.46,20.99,19.78,20.01,19.35,17.34,13.12,22.3,21.89,18.71,16.41,20.3,19.03,19.65,18.96,16.8,12.67,22.07,21.87,19.46,17.44,20.0,19.26,19.19,18.81,17.28,13.77,21.39,21.11,19.09,17.3,19.25,18.78,18.68,18.42,17.16,13.55,20.91,20.53,18.24,16.43,18.65,18.09,17.8,17.56,16.16,11.72],\"xaxis\":\"x4\",\"y\":[79,225,84,34,157,50,269,431,224,185,86,197,89,23,160,46,226,343,173,177,80,187,83,7,149,48,170,267,157,132,70,234,68,31,146,37,218,257,176,86,66,202,82,12,87,49,181,288,158,86,67,249,75,21,109,34,209,276,162,100,47,177,70,19,95,57,183,261,135,86,55,199,79,7,97,51,146,239,115,73],\"yaxis\":\"y4\",\"type\":\"scatter\"},{\"hovertemplate\":\"<b>OLS trendline</b><br>asthma_hosp = 5.13113 * NO2 + 30.9908<br>R<sup>2</sup>=0.033505<br><br>Boroughs=Queens<br>NO2=%{x}<br>asthma_hosp=%{y} <b>(trend)</b><extra></extra>\",\"legendgroup\":\"\",\"marker\":{\"symbol\":\"circle\"},\"mode\":\"lines\",\"name\":\"\",\"showlegend\":false,\"x\":[11.72,12.67,13.12,13.55,13.77,14.07,14.27,14.68,16.16,16.41,16.43,16.8,17.16,17.28,17.3,17.34,17.44,17.46,17.56,17.8,18.09,18.24,18.42,18.65,18.68,18.71,18.78,18.81,18.96,19.03,19.09,19.1,19.19,19.23,19.25,19.26,19.29,19.35,19.46,19.48,19.65,19.78,19.83,19.89,20.0,20.01,20.05,20.3,20.53,20.91,20.99,21.11,21.22,21.39,21.48,21.54,21.67,21.7,21.87,21.89,21.94,22.07,22.1,22.21,22.29,22.3,22.61,22.68,22.78,22.78,22.93,23.14,23.26,24.06,24.18,24.32,24.96,25.24,25.81,26.29],\"xaxis\":\"x4\",\"y\":[91.12764694029657,96.00221814229191,98.31122555376338,100.51761041361391,101.6464584814444,103.18579675575872,104.21202227196827,106.31578458019783,113.90985340014846,115.19263529541038,115.29525784703134,117.193775052019,119.04098098119618,119.6567162909219,119.75933884254286,119.96458394578477,120.47769670388955,120.5803192555105,121.09343201361526,122.32490263306673,123.81292963157055,124.5825987687277,125.50620173331632,126.68636107695728,126.84029490438871,126.99422873182016,127.3534076624935,127.50734148992491,128.27701062708206,128.63618955775542,128.94405721261828,128.99536848842877,129.45716997072304,129.66241507396495,129.7650376255859,129.8163489013964,129.9702827288278,130.2781503836907,130.84257441760593,130.94519696922688,131.817488658005,132.48453524354122,132.7410916225936,133.04895927745645,133.6133833113717,133.6646945871822,133.8699396904241,135.152721585686,136.332880929327,138.28270941012514,138.69319961660895,139.30893492633467,139.87335896024993,140.74565064902805,141.20745213132233,141.5153197861852,142.1823663717214,142.33630019915282,143.20859188793094,143.3112144395519,143.5677708186043,144.2348174041405,144.38875123157192,144.95317526548718,145.363665471971,145.41497674778148,147.00562629790625,147.3648052285796,147.87791798668437,147.87791798668437,148.64758712384153,149.72512391586156,150.34085922558728,154.44576129042545,155.06149660015117,155.77985446149788,159.0637761133684,160.50049183606174,163.42523455725896,165.88817579616187],\"yaxis\":\"y4\",\"type\":\"scatter\"},{\"hovertemplate\":\"Boroughs=Staten Island<br>NO2=%{x}<br>asthma_hosp=%{y}<br>year=%{marker.color}<extra></extra>\",\"legendgroup\":\"\",\"marker\":{\"color\":[2009,2009,2009,2009,2010,2010,2010,2010,2011,2011,2011,2011,2012,2012,2012,2012,2013,2013,2013,2013,2014,2014,2014,2014,2015,2015,2015,2015,2016,2016,2016,2016],\"coloraxis\":\"coloraxis\",\"symbol\":\"circle\"},\"mode\":\"markers\",\"name\":\"\",\"orientation\":\"v\",\"showlegend\":false,\"x\":[21.35,18.41,17.49,14.71,19.79,17.38,16.0,13.05,21.12,18.29,17.17,13.5,18.78,16.01,15.31,12.47,18.38,15.4,14.69,11.51,17.54,15.53,14.56,12.59,17.36,15.28,14.21,11.91,17.47,14.93,14.11,11.52],\"xaxis\":\"x5\",\"y\":[80,78,35,47,56,85,12,43,65,63,18,36,79,65,14,38,64,77,12,39,67,80,11,40,68,59,12,38,83,72,12,36],\"yaxis\":\"y5\",\"type\":\"scatter\"},{\"hovertemplate\":\"<b>OLS trendline</b><br>asthma_hosp = 4.92965 * NO2 + -28.7305<br>R<sup>2</sup>=0.272023<br><br>Boroughs=Staten Island<br>NO2=%{x}<br>asthma_hosp=%{y} <b>(trend)</b><extra></extra>\",\"legendgroup\":\"\",\"marker\":{\"symbol\":\"circle\"},\"mode\":\"lines\",\"name\":\"\",\"showlegend\":false,\"x\":[11.51,11.52,11.91,12.47,12.59,13.05,13.5,14.11,14.21,14.56,14.69,14.71,14.93,15.28,15.31,15.4,15.53,16.0,16.01,17.17,17.36,17.38,17.47,17.49,17.54,18.29,18.38,18.41,18.78,19.79,21.12,21.35],\"xaxis\":\"x5\",\"y\":[28.009797830610772,28.059094351716183,29.98165867482713,32.742263856730034,33.333822109994934,35.601462080843746,37.819805530587146,40.826893318017085,41.31985852907118,43.045236767760485,43.6860915421308,43.78468458434162,44.86920804866061,46.59458628734993,46.74247585066615,47.18614454061483,47.826999314985144,50.14393580693937,50.193232328044786,55.91162877627221,56.848262677274974,56.9468557194858,57.39052440943446,57.489117451645285,57.735600057172334,61.432839140078,61.87650783002668,62.02439739334291,63.84836867424305,68.82731730588934,75.38375461290873,76.51757459833313],\"yaxis\":\"y5\",\"type\":\"scatter\"}],                        {\"template\":{\"data\":{\"bar\":[{\"error_x\":{\"color\":\"#2a3f5f\"},\"error_y\":{\"color\":\"#2a3f5f\"},\"marker\":{\"line\":{\"color\":\"#E5ECF6\",\"width\":0.5},\"pattern\":{\"fillmode\":\"overlay\",\"size\":10,\"solidity\":0.2}},\"type\":\"bar\"}],\"barpolar\":[{\"marker\":{\"line\":{\"color\":\"#E5ECF6\",\"width\":0.5},\"pattern\":{\"fillmode\":\"overlay\",\"size\":10,\"solidity\":0.2}},\"type\":\"barpolar\"}],\"carpet\":[{\"aaxis\":{\"endlinecolor\":\"#2a3f5f\",\"gridcolor\":\"white\",\"linecolor\":\"white\",\"minorgridcolor\":\"white\",\"startlinecolor\":\"#2a3f5f\"},\"baxis\":{\"endlinecolor\":\"#2a3f5f\",\"gridcolor\":\"white\",\"linecolor\":\"white\",\"minorgridcolor\":\"white\",\"startlinecolor\":\"#2a3f5f\"},\"type\":\"carpet\"}],\"choropleth\":[{\"colorbar\":{\"outlinewidth\":0,\"ticks\":\"\"},\"type\":\"choropleth\"}],\"contour\":[{\"colorbar\":{\"outlinewidth\":0,\"ticks\":\"\"},\"colorscale\":[[0.0,\"#0d0887\"],[0.1111111111111111,\"#46039f\"],[0.2222222222222222,\"#7201a8\"],[0.3333333333333333,\"#9c179e\"],[0.4444444444444444,\"#bd3786\"],[0.5555555555555556,\"#d8576b\"],[0.6666666666666666,\"#ed7953\"],[0.7777777777777778,\"#fb9f3a\"],[0.8888888888888888,\"#fdca26\"],[1.0,\"#f0f921\"]],\"type\":\"contour\"}],\"contourcarpet\":[{\"colorbar\":{\"outlinewidth\":0,\"ticks\":\"\"},\"type\":\"contourcarpet\"}],\"heatmap\":[{\"colorbar\":{\"outlinewidth\":0,\"ticks\":\"\"},\"colorscale\":[[0.0,\"#0d0887\"],[0.1111111111111111,\"#46039f\"],[0.2222222222222222,\"#7201a8\"],[0.3333333333333333,\"#9c179e\"],[0.4444444444444444,\"#bd3786\"],[0.5555555555555556,\"#d8576b\"],[0.6666666666666666,\"#ed7953\"],[0.7777777777777778,\"#fb9f3a\"],[0.8888888888888888,\"#fdca26\"],[1.0,\"#f0f921\"]],\"type\":\"heatmap\"}],\"heatmapgl\":[{\"colorbar\":{\"outlinewidth\":0,\"ticks\":\"\"},\"colorscale\":[[0.0,\"#0d0887\"],[0.1111111111111111,\"#46039f\"],[0.2222222222222222,\"#7201a8\"],[0.3333333333333333,\"#9c179e\"],[0.4444444444444444,\"#bd3786\"],[0.5555555555555556,\"#d8576b\"],[0.6666666666666666,\"#ed7953\"],[0.7777777777777778,\"#fb9f3a\"],[0.8888888888888888,\"#fdca26\"],[1.0,\"#f0f921\"]],\"type\":\"heatmapgl\"}],\"histogram\":[{\"marker\":{\"pattern\":{\"fillmode\":\"overlay\",\"size\":10,\"solidity\":0.2}},\"type\":\"histogram\"}],\"histogram2d\":[{\"colorbar\":{\"outlinewidth\":0,\"ticks\":\"\"},\"colorscale\":[[0.0,\"#0d0887\"],[0.1111111111111111,\"#46039f\"],[0.2222222222222222,\"#7201a8\"],[0.3333333333333333,\"#9c179e\"],[0.4444444444444444,\"#bd3786\"],[0.5555555555555556,\"#d8576b\"],[0.6666666666666666,\"#ed7953\"],[0.7777777777777778,\"#fb9f3a\"],[0.8888888888888888,\"#fdca26\"],[1.0,\"#f0f921\"]],\"type\":\"histogram2d\"}],\"histogram2dcontour\":[{\"colorbar\":{\"outlinewidth\":0,\"ticks\":\"\"},\"colorscale\":[[0.0,\"#0d0887\"],[0.1111111111111111,\"#46039f\"],[0.2222222222222222,\"#7201a8\"],[0.3333333333333333,\"#9c179e\"],[0.4444444444444444,\"#bd3786\"],[0.5555555555555556,\"#d8576b\"],[0.6666666666666666,\"#ed7953\"],[0.7777777777777778,\"#fb9f3a\"],[0.8888888888888888,\"#fdca26\"],[1.0,\"#f0f921\"]],\"type\":\"histogram2dcontour\"}],\"mesh3d\":[{\"colorbar\":{\"outlinewidth\":0,\"ticks\":\"\"},\"type\":\"mesh3d\"}],\"parcoords\":[{\"line\":{\"colorbar\":{\"outlinewidth\":0,\"ticks\":\"\"}},\"type\":\"parcoords\"}],\"pie\":[{\"automargin\":true,\"type\":\"pie\"}],\"scatter\":[{\"marker\":{\"colorbar\":{\"outlinewidth\":0,\"ticks\":\"\"}},\"type\":\"scatter\"}],\"scatter3d\":[{\"line\":{\"colorbar\":{\"outlinewidth\":0,\"ticks\":\"\"}},\"marker\":{\"colorbar\":{\"outlinewidth\":0,\"ticks\":\"\"}},\"type\":\"scatter3d\"}],\"scattercarpet\":[{\"marker\":{\"colorbar\":{\"outlinewidth\":0,\"ticks\":\"\"}},\"type\":\"scattercarpet\"}],\"scattergeo\":[{\"marker\":{\"colorbar\":{\"outlinewidth\":0,\"ticks\":\"\"}},\"type\":\"scattergeo\"}],\"scattergl\":[{\"marker\":{\"colorbar\":{\"outlinewidth\":0,\"ticks\":\"\"}},\"type\":\"scattergl\"}],\"scattermapbox\":[{\"marker\":{\"colorbar\":{\"outlinewidth\":0,\"ticks\":\"\"}},\"type\":\"scattermapbox\"}],\"scatterpolar\":[{\"marker\":{\"colorbar\":{\"outlinewidth\":0,\"ticks\":\"\"}},\"type\":\"scatterpolar\"}],\"scatterpolargl\":[{\"marker\":{\"colorbar\":{\"outlinewidth\":0,\"ticks\":\"\"}},\"type\":\"scatterpolargl\"}],\"scatterternary\":[{\"marker\":{\"colorbar\":{\"outlinewidth\":0,\"ticks\":\"\"}},\"type\":\"scatterternary\"}],\"surface\":[{\"colorbar\":{\"outlinewidth\":0,\"ticks\":\"\"},\"colorscale\":[[0.0,\"#0d0887\"],[0.1111111111111111,\"#46039f\"],[0.2222222222222222,\"#7201a8\"],[0.3333333333333333,\"#9c179e\"],[0.4444444444444444,\"#bd3786\"],[0.5555555555555556,\"#d8576b\"],[0.6666666666666666,\"#ed7953\"],[0.7777777777777778,\"#fb9f3a\"],[0.8888888888888888,\"#fdca26\"],[1.0,\"#f0f921\"]],\"type\":\"surface\"}],\"table\":[{\"cells\":{\"fill\":{\"color\":\"#EBF0F8\"},\"line\":{\"color\":\"white\"}},\"header\":{\"fill\":{\"color\":\"#C8D4E3\"},\"line\":{\"color\":\"white\"}},\"type\":\"table\"}]},\"layout\":{\"annotationdefaults\":{\"arrowcolor\":\"#2a3f5f\",\"arrowhead\":0,\"arrowwidth\":1},\"autotypenumbers\":\"strict\",\"coloraxis\":{\"colorbar\":{\"outlinewidth\":0,\"ticks\":\"\"}},\"colorscale\":{\"diverging\":[[0,\"#8e0152\"],[0.1,\"#c51b7d\"],[0.2,\"#de77ae\"],[0.3,\"#f1b6da\"],[0.4,\"#fde0ef\"],[0.5,\"#f7f7f7\"],[0.6,\"#e6f5d0\"],[0.7,\"#b8e186\"],[0.8,\"#7fbc41\"],[0.9,\"#4d9221\"],[1,\"#276419\"]],\"sequential\":[[0.0,\"#0d0887\"],[0.1111111111111111,\"#46039f\"],[0.2222222222222222,\"#7201a8\"],[0.3333333333333333,\"#9c179e\"],[0.4444444444444444,\"#bd3786\"],[0.5555555555555556,\"#d8576b\"],[0.6666666666666666,\"#ed7953\"],[0.7777777777777778,\"#fb9f3a\"],[0.8888888888888888,\"#fdca26\"],[1.0,\"#f0f921\"]],\"sequentialminus\":[[0.0,\"#0d0887\"],[0.1111111111111111,\"#46039f\"],[0.2222222222222222,\"#7201a8\"],[0.3333333333333333,\"#9c179e\"],[0.4444444444444444,\"#bd3786\"],[0.5555555555555556,\"#d8576b\"],[0.6666666666666666,\"#ed7953\"],[0.7777777777777778,\"#fb9f3a\"],[0.8888888888888888,\"#fdca26\"],[1.0,\"#f0f921\"]]},\"colorway\":[\"#636efa\",\"#EF553B\",\"#00cc96\",\"#ab63fa\",\"#FFA15A\",\"#19d3f3\",\"#FF6692\",\"#B6E880\",\"#FF97FF\",\"#FECB52\"],\"font\":{\"color\":\"#2a3f5f\"},\"geo\":{\"bgcolor\":\"white\",\"lakecolor\":\"white\",\"landcolor\":\"#E5ECF6\",\"showlakes\":true,\"showland\":true,\"subunitcolor\":\"white\"},\"hoverlabel\":{\"align\":\"left\"},\"hovermode\":\"closest\",\"mapbox\":{\"style\":\"light\"},\"paper_bgcolor\":\"white\",\"plot_bgcolor\":\"#E5ECF6\",\"polar\":{\"angularaxis\":{\"gridcolor\":\"white\",\"linecolor\":\"white\",\"ticks\":\"\"},\"bgcolor\":\"#E5ECF6\",\"radialaxis\":{\"gridcolor\":\"white\",\"linecolor\":\"white\",\"ticks\":\"\"}},\"scene\":{\"xaxis\":{\"backgroundcolor\":\"#E5ECF6\",\"gridcolor\":\"white\",\"gridwidth\":2,\"linecolor\":\"white\",\"showbackground\":true,\"ticks\":\"\",\"zerolinecolor\":\"white\"},\"yaxis\":{\"backgroundcolor\":\"#E5ECF6\",\"gridcolor\":\"white\",\"gridwidth\":2,\"linecolor\":\"white\",\"showbackground\":true,\"ticks\":\"\",\"zerolinecolor\":\"white\"},\"zaxis\":{\"backgroundcolor\":\"#E5ECF6\",\"gridcolor\":\"white\",\"gridwidth\":2,\"linecolor\":\"white\",\"showbackground\":true,\"ticks\":\"\",\"zerolinecolor\":\"white\"}},\"shapedefaults\":{\"line\":{\"color\":\"#2a3f5f\"}},\"ternary\":{\"aaxis\":{\"gridcolor\":\"white\",\"linecolor\":\"white\",\"ticks\":\"\"},\"baxis\":{\"gridcolor\":\"white\",\"linecolor\":\"white\",\"ticks\":\"\"},\"bgcolor\":\"#E5ECF6\",\"caxis\":{\"gridcolor\":\"white\",\"linecolor\":\"white\",\"ticks\":\"\"}},\"title\":{\"x\":0.05},\"xaxis\":{\"automargin\":true,\"gridcolor\":\"white\",\"linecolor\":\"white\",\"ticks\":\"\",\"title\":{\"standoff\":15},\"zerolinecolor\":\"white\",\"zerolinewidth\":2},\"yaxis\":{\"automargin\":true,\"gridcolor\":\"white\",\"linecolor\":\"white\",\"ticks\":\"\",\"title\":{\"standoff\":15},\"zerolinecolor\":\"white\",\"zerolinewidth\":2}}},\"xaxis\":{\"anchor\":\"y\",\"domain\":[0.0,0.18400000000000002],\"title\":{\"text\":\"NO2\"}},\"yaxis\":{\"anchor\":\"x\",\"domain\":[0.0,1.0],\"title\":{\"text\":\"asthma_hosp\"}},\"xaxis2\":{\"anchor\":\"y2\",\"domain\":[0.20400000000000001,0.388],\"matches\":\"x\",\"title\":{\"text\":\"NO2\"}},\"yaxis2\":{\"anchor\":\"x2\",\"domain\":[0.0,1.0],\"matches\":\"y\",\"showticklabels\":false},\"xaxis3\":{\"anchor\":\"y3\",\"domain\":[0.40800000000000003,0.5920000000000001],\"matches\":\"x\",\"title\":{\"text\":\"NO2\"}},\"yaxis3\":{\"anchor\":\"x3\",\"domain\":[0.0,1.0],\"matches\":\"y\",\"showticklabels\":false},\"xaxis4\":{\"anchor\":\"y4\",\"domain\":[0.6120000000000001,0.7960000000000002],\"matches\":\"x\",\"title\":{\"text\":\"NO2\"}},\"yaxis4\":{\"anchor\":\"x4\",\"domain\":[0.0,1.0],\"matches\":\"y\",\"showticklabels\":false},\"xaxis5\":{\"anchor\":\"y5\",\"domain\":[0.8160000000000001,1.0],\"matches\":\"x\",\"title\":{\"text\":\"NO2\"}},\"yaxis5\":{\"anchor\":\"x5\",\"domain\":[0.0,1.0],\"matches\":\"y\",\"showticklabels\":false},\"annotations\":[{\"font\":{},\"showarrow\":false,\"text\":\"Boroughs=Bronx\",\"x\":0.09200000000000001,\"xanchor\":\"center\",\"xref\":\"paper\",\"y\":1.0,\"yanchor\":\"bottom\",\"yref\":\"paper\"},{\"font\":{},\"showarrow\":false,\"text\":\"Boroughs=Brooklyn\",\"x\":0.29600000000000004,\"xanchor\":\"center\",\"xref\":\"paper\",\"y\":1.0,\"yanchor\":\"bottom\",\"yref\":\"paper\"},{\"font\":{},\"showarrow\":false,\"text\":\"Boroughs=Manhattan\",\"x\":0.5,\"xanchor\":\"center\",\"xref\":\"paper\",\"y\":1.0,\"yanchor\":\"bottom\",\"yref\":\"paper\"},{\"font\":{},\"showarrow\":false,\"text\":\"Boroughs=Queens\",\"x\":0.7040000000000002,\"xanchor\":\"center\",\"xref\":\"paper\",\"y\":1.0,\"yanchor\":\"bottom\",\"yref\":\"paper\"},{\"font\":{},\"showarrow\":false,\"text\":\"Boroughs=Staten Island\",\"x\":0.908,\"xanchor\":\"center\",\"xref\":\"paper\",\"y\":1.0,\"yanchor\":\"bottom\",\"yref\":\"paper\"}],\"coloraxis\":{\"colorbar\":{\"title\":{\"text\":\"year\"}},\"colorscale\":[[0.0,\"#0d0887\"],[0.1111111111111111,\"#46039f\"],[0.2222222222222222,\"#7201a8\"],[0.3333333333333333,\"#9c179e\"],[0.4444444444444444,\"#bd3786\"],[0.5555555555555556,\"#d8576b\"],[0.6666666666666666,\"#ed7953\"],[0.7777777777777778,\"#fb9f3a\"],[0.8888888888888888,\"#fdca26\"],[1.0,\"#f0f921\"]]},\"legend\":{\"tracegroupgap\":0},\"margin\":{\"t\":60}},                        {\"responsive\": true}                    ).then(function(){\n",
       "                            \n",
       "var gd = document.getElementById('bc8071ab-9a00-4156-822d-e2fe6334968d');\n",
       "var x = new MutationObserver(function (mutations, observer) {{\n",
       "        var display = window.getComputedStyle(gd).display;\n",
       "        if (!display || display === 'none') {{\n",
       "            console.log([gd, 'removed!']);\n",
       "            Plotly.purge(gd);\n",
       "            observer.disconnect();\n",
       "        }}\n",
       "}});\n",
       "\n",
       "// Listen for the removal of the full notebook cells\n",
       "var notebookContainer = gd.closest('#notebook-container');\n",
       "if (notebookContainer) {{\n",
       "    x.observe(notebookContainer, {childList: true});\n",
       "}}\n",
       "\n",
       "// Listen for the clearing of the current output cell\n",
       "var outputEl = gd.closest('.output');\n",
       "if (outputEl) {{\n",
       "    x.observe(outputEl, {childList: true});\n",
       "}}\n",
       "\n",
       "                        })                };                });            </script>        </div>"
      ]
     },
     "metadata": {},
     "output_type": "display_data"
    }
   ],
   "source": [
    "fig = px.scatter(df, x=\"NO2\", y=\"asthma_hosp\", color=\"year\",trendline=\"ols\", facet_col=\"Boroughs\")\n",
    "fig.show()"
   ]
  },
  {
   "cell_type": "code",
   "execution_count": null,
   "id": "5fee8ffe",
   "metadata": {},
   "outputs": [],
   "source": []
  }
 ],
 "metadata": {
  "kernelspec": {
   "display_name": "Python 3 (ipykernel)",
   "language": "python",
   "name": "python3"
  },
  "language_info": {
   "codemirror_mode": {
    "name": "ipython",
    "version": 3
   },
   "file_extension": ".py",
   "mimetype": "text/x-python",
   "name": "python",
   "nbconvert_exporter": "python",
   "pygments_lexer": "ipython3",
   "version": "3.8.2"
  }
 },
 "nbformat": 4,
 "nbformat_minor": 5
}
