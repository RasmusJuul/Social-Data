{
 "cells": [
  {
   "cell_type": "markdown",
   "id": "0b78c8fd",
   "metadata": {},
   "source": [
    "It is almost general knoweldge that air pollution might be one of the main causes of respiratory diseases. An among all the broad types of respiratory diseases that exists, specifically asthma. Asthma is a chronic respiratory disease characterized by variable airflow obstruction, bronchial hyperresponsiveness, and airway inflammation. [[1]](https://pubmed.ncbi.nlm.nih.gov/32867076/) Researchers have long linked asthma with exposure to air pollution, which can make asthma symptoms worse and trigger asthma attacks. Moreover, it is estimated six million children in the United States with asthma are especially vulnerable to air pollution. [[2]](https://www.epa.gov/sciencematters/links-between-air-pollution-and-childhood-asthma#:~:text=Researchers%20have%20long%20linked%20asthma,worse%20and%20trigger%20asthma%20attacks). And not only vulnerable once they have the disease. It has been also proved that exposure to main air pollutants such as NO2, CO, and PM2.5 is linked to regional DNA methylation differences in asthma. [[3]](https://www.ncbi.nlm.nih.gov/pmc/articles/PMC5756438/pdf/13148_2017_Article_433.pdf)\n",
    "\n",
    "The aim of this study is to dig deeper into this relation between air pollution and asthma. To do so, NYC air pollution data will be used and combined with asthma hospitalizations data for children. Is there any clear correlation between air pollution and the number of asthma hospitalizations? If so, which are the air pollutants that are more correlated? How do these values vary between the different neighbourhoods? Where is more urgent to reduce the emissions of hazardous air pollutants? Is it possible to predict which is gonna be the number of asthma hospitalizations in order to prepare these hospitals that are gonna suffer more for such big workloads? "
   ]
  },
  {
   "cell_type": "markdown",
   "id": "91821282",
   "metadata": {},
   "source": [
    "- Figure 1 (see README)"
   ]
  },
  {
   "cell_type": "markdown",
   "id": "e73a537a",
   "metadata": {},
   "source": [
    "It can be clearly seen how there is a tendence in decrease in both the number of asthma hospitalizations and the levels of emission of the main pollutants. With the exception of O3, the levels of PM2.5, NO2 and SO2 have been significanlty reduced in the last decade, which evidence that sustainability policies were put into practice. Air quality levels registred during the 2000-2010 decade and their impact on population's health raised the attention of key decision makers and the public which lead to polices aming to improve local air quality, reduce greenhouse gas emissions and revert the situation that air pollution was taking. [[4]](https://www.healthypeople.gov/2020/healthy-people-in-action/story/new-york-city-air-quality-programs-reduce-harmful-air-pollutants)\n",
    "\n",
    "Once seen how the tendency that both asthma cases and air pollutants are following, the next question that arise is: Is it possible to build a model that relates the number of asthma hospitalizations with the different levels of air pollutants? Which is the impact that each district has?"
   ]
  },
  {
   "cell_type": "markdown",
   "id": "4fc23d9e",
   "metadata": {},
   "source": [
    "### Machine learning model to predict the level of asthma hospitalizations\n",
    "\n",
    "As a starting point, we built this model aiming to predict if, with the chosen features, we were able to predict the number of asthma hospitalizations. And we were, with high accurate results. Thus, few things to highlight emerged from our analysis. \n",
    "\n",
    "First, and the most important, its been shown that the number of asthma hospitalizations basically depends on the district we are located in. And that the levels of pollutants have a small impact when the analysis is done in such general terms (whole NYC).\n",
    "\n",
    "Secondly, its been seen the importance of each main pollutant with respect to the number of asthma hospitalizations. Thus, it allows us to define an average pollution level, which is basically a descriptive mesure that combines the values of the four main pollutants in just one variable, simplifying in someway the  plots and the analysis. \n",
    "\n",
    "$$ Avg pollution = 1.55·NO2 + 0.70·PM2.5 + 0.99·O3 + 0.77·SO2 $$\n",
    "\n",
    "where each pollutant vector has been normalized between 0 and 1:\n",
    "\n",
    "$$ zi = (xi – min(x)) / (max(x) – min(x)) $$\n",
    "\n",
    "- Figure 2\n",
    "\n",
    "The main conclusion from this step is that the analysis has to be split between geographical areas. Thus, we decide as a first step to study asthma vs pollution per borough."
   ]
  },
  {
   "cell_type": "markdown",
   "id": "7e0b8e55",
   "metadata": {},
   "source": [
    "### Study of pollution per Borough. More money = Better healthcare? When the trendline highly varies depending on the district we are located."
   ]
  },
  {
   "cell_type": "markdown",
   "id": "f7988843",
   "metadata": {},
   "source": [
    "- Figure 3"
   ]
  },
  {
   "cell_type": "markdown",
   "id": "6213f0cc",
   "metadata": {},
   "source": [
    "Something really interesting can be observed here, and is the fact that really different regression trendlines can be observed depending on the neighbourhood. While in the Bronx the number of asthma hospitalizations strongly increases as the levels of pollution increase, in Manhattan happens exactly the opposite.\n",
    "\n",
    "Bronx, Brookykn and Queens district seem to show the expected behaviour. As levels of pollution increase, air becomes more polluted, and so the number of asthma hospitalizations increases. However, why does the number of hospitalizations decrease in Manhattan as the levels of air pollution increase?\n",
    "\n",
    "Different hypothesis appear here. Is it because in the more polluted areas of Manhattan, there is less space for hospitals in which you can treat asthma cases? Or is it because healtcare and quality of life is basically better in Mantattan?\n",
    "\n",
    "Is it hard to believe that the first hypothesis might be the cause, specially becuase if we look at the more polluted ares of Manhattan we can find hospitals such as the Metropolitan [[5]](https://www.nychealthandhospitals.org/metropolitan/about-us/), which have a Children’s Asthma Program or Bellevue [[6]](https://www.nychealthandhospitals.org/bellevue/health-care-services/childrens-health/) which provides multidisciplinary care for children and adolescents with asthma.\n",
    "\n",
    "Thus, it seems that these differences are due to the fact that the quality of life and the healthcare services might be better in Manhattan. If we go to check the Median Household Income on 2017 in NYC, we observe that the Bronx has the lowest value with a Median Household Income of 37.397 \\\\$ , while Manhattan has a value up to 85.071 \\\\$."
   ]
  },
  {
   "cell_type": "markdown",
   "id": "726a5df8",
   "metadata": {},
   "source": [
    "### The strange case of Manhattan. "
   ]
  },
  {
   "cell_type": "markdown",
   "id": "81c3d9f5",
   "metadata": {},
   "source": [
    "- Figure 4"
   ]
  },
  {
   "cell_type": "markdown",
   "id": "b158e70a",
   "metadata": {},
   "source": [
    "In the previous plot it has been clearly seen how the tendence between asthma and pollution was the oposite than the one found in the other districts. This made us realize that a zoom-in was needed in order to find possible explanations on way this was happening. How is it possible that in these Manhattan districts with higher levels of pollution there are less asthma cases? And we found it. If we add the district feature in the visualization, we can easily observe some clustering between the dots: high values of asthma mainly correspond to 301,302 and 303 (upper manhattan) while low values corresponds to the others. Why this big geographical difference?\n",
    "\n",
    "Arrived at this point, we realized that a new variable shoud be taken into account: the median income. Which impact does the median income has in the number of asthma hospitalizations? To answer this question a new visualization has been made."
   ]
  },
  {
   "cell_type": "markdown",
   "id": "8dfc05da",
   "metadata": {},
   "source": [
    "### Keep worrying about the levels of pollution, at the end always the same group of people suffers the consequences."
   ]
  },
  {
   "cell_type": "markdown",
   "id": "053337cf",
   "metadata": {},
   "source": [
    "- Figure 6"
   ]
  },
  {
   "cell_type": "markdown",
   "id": "ed36a9fd",
   "metadata": {},
   "source": [
    "It is true that the levels of pollution have some influence in the number of asthma hospitalizations. In that way, as pollution levels have considerably decreased in the last years, the number asthma hospitalizations, even though with less intensity, has also done so. This relation can be easily observed in the more poor Boroughs, as Bronx, where a significant correlation exists between asthma and pollution. Worse the air quality, higher the number of hospitalizations. However, during this data analysis process something weird was observed in Manhattan: the correlation was negative. This equals to say that as worse the air quality, less the number of asthma hospitalizations. Why such much effort should be put then in reducing pollutant emissions in order to improve the health of the inhabitans of these areas, if specifically the ones from the most polluted areas suffer much less number of asthma hospitalizations? \n",
    "\n",
    "The hidden meaning behind clearly was: if you live in a district with one of the highest levels of pollution in Manhattan no need to worry, your average income would be also one of the highest, and then you can avoid suffering the consequences of leaving in an air polluted district. To answer how, we would probably need a whole new study."
   ]
  },
  {
   "cell_type": "markdown",
   "id": "9b797e55",
   "metadata": {},
   "source": [
    "### Now it is your turn to play with the data. Extract your own conclusions, find new possible ways of analysis."
   ]
  },
  {
   "cell_type": "markdown",
   "id": "399c64b1",
   "metadata": {},
   "source": [
    "We got lost in Manhattan particular case, but let's see what the data tells by itself with the follow interactive geodataplot that sums up all the concepts exposed above. Over the time period, we see both a decrease in asthma and pollution, while the wealth stays almost the same. This suggest that some correlation between asthma and pollutant levels might definitely exists."
   ]
  },
  {
   "cell_type": "markdown",
   "id": "eb7746c2",
   "metadata": {},
   "source": [
    "- GeoData Interactive plot"
   ]
  },
  {
   "cell_type": "code",
   "execution_count": null,
   "id": "91b1c0d6",
   "metadata": {},
   "outputs": [],
   "source": []
  }
 ],
 "metadata": {
  "kernelspec": {
   "display_name": "Python 3 (ipykernel)",
   "language": "python",
   "name": "python3"
  },
  "language_info": {
   "codemirror_mode": {
    "name": "ipython",
    "version": 3
   },
   "file_extension": ".py",
   "mimetype": "text/x-python",
   "name": "python",
   "nbconvert_exporter": "python",
   "pygments_lexer": "ipython3",
   "version": "3.8.2"
  }
 },
 "nbformat": 4,
 "nbformat_minor": 5
}
